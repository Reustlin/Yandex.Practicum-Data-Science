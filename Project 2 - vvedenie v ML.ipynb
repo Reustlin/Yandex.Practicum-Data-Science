{
 "cells": [
  {
   "cell_type": "markdown",
   "metadata": {},
   "source": [
    "<div class=\"alert alert-info\">\n",
    "<font size=\"5\"><b>Комментарий ревьюера</b></font>\n",
    "\n",
    "Привет Александр! Меня зовут Марат, и я буду твоим ревьюером. Спешу сообщить что все ключевые этапы в работе выполнены,  с задачей тебе удалось справиться. По поводу обращения - в IT сфере принято общаться на «ты» :) Но, если привычней на «вы», дай знать. Как ревьюера моя задача помочь тебе в развитии, дав хорошие советы. Я внимательно посмотрю твой код, ознакомлюсь с твоими выводами и оставлю комментарии. Где то могу предложить небольшие исправление в коде, но ненавязчиво. Где потребуются уточнения, я оставлю много наводящих вопросов. Они помогут тебя с поиском верного решения.\n",
    "\n",
    "Все мои комментарии размечены по цветам, для лучшего восприятия. \n",
    "    \n",
    "<div class=\"alert alert-success\">Зеленым цветом и словом «Успех» отмечены особо удачные и элегантные решения, которыми ты можешь гордиться. </div>\n",
    "        \n",
    "<div class=\"alert alert-warning\">Желтым и значком словом «Совет», помечены решения у которых есть альтернативные решения, более оптимальные. Ты можешь найти их сразу и доработать проект, или отложить это на потом, для будущих проектах. Проект будет принят и без их доработки. </div>\n",
    "        \n",
    "<div class=\"alert alert-danger\"> Красным цветом и значком словом «Ошибка» помечу твои решения, на которые стоит обратить внимание прежде всего. После их доработки проект будет принят. </div>\n",
    "        \n",
    "Залог успеха - работа сообща, взаимное уважение и работа в диалоге. Поэтому, помечай свои ответные комментарии на мои реплики заметным цветом или курсивом, так мне будет легче их отслеживать. Пожалуйста, не изменяй и не удаляй мои комментарии. Все это поможет выполнить повторную проверку быстрей.\n",
    "\n",
    "</div>"
   ]
  },
  {
   "cell_type": "markdown",
   "metadata": {},
   "source": [
    "# Рекомендация тарифов"
   ]
  },
  {
   "cell_type": "markdown",
   "metadata": {},
   "source": [
    "В вашем распоряжении данные о поведении клиентов, которые уже перешли на эти тарифы (из проекта курса «Статистический анализ данных»). Нужно построить модель для задачи классификации, которая выберет подходящий тариф. Предобработка данных не понадобится — вы её уже сделали.\n",
    "\n",
    "Постройте модель с максимально большим значением *accuracy*. Чтобы сдать проект успешно, нужно довести долю правильных ответов по крайней мере до 0.75. Проверьте *accuracy* на тестовой выборке самостоятельно."
   ]
  },
  {
   "cell_type": "markdown",
   "metadata": {},
   "source": [
    "<div class=\"alert alert-success\">\n",
    "<font size=\"5\"><b>Комментарий ревьюера</b></font>\n",
    "\n",
    "Успех:\n",
    "\n",
    "\n",
    "Вступление в работу очень важно, так человек, который смотрит твой проект (и на работе в том числе) будет сразу введен в курс дела.\n",
    "\n",
    "\n",
    "\n",
    "\n",
    "\n",
    "</div>"
   ]
  },
  {
   "cell_type": "markdown",
   "metadata": {},
   "source": [
    "## Откройте и изучите файл"
   ]
  },
  {
   "cell_type": "code",
   "execution_count": 22,
   "metadata": {},
   "outputs": [],
   "source": [
    "#загрузим всё, что может пригодиться\n",
    "import pandas as pd\n",
    "from sklearn.model_selection import train_test_split\n",
    "from sklearn.linear_model import LinearRegression\n",
    "from sklearn.ensemble import RandomForestClassifier\n",
    "from sklearn.tree import DecisionTreeClassifier\n",
    "from sklearn.metrics import accuracy_score\n",
    "import matplotlib.pyplot as plt\n"
   ]
  },
  {
   "cell_type": "markdown",
   "metadata": {},
   "source": [
    "<div class=\"alert alert-success\">\n",
    "<font size=\"5\"><b>Комментарий ревьюера</b></font>\n",
    "\n",
    "Успех:\n",
    "\n",
    "Собираем все импорты в верхней части, чтобы легче было ориентироваться и добавлять новые по необходимости. \n",
    "\n",
    "\n",
    "<div class=\"alert alert-warning\">\n",
    "\n",
    "Совет:     \n",
    "    \n",
    "    \n",
    "\n",
    "\n",
    "- кстати есть рекомендации PEP-8 при написании кода, в том числе и для импортов. Если интересно можешь почитать [тут](https://pythonworld.ru/osnovy/pep-8-rukovodstvo-po-napisaniyu-koda-na-python.html), в будущем пригодится )  \n",
    "\n",
    "\n",
    "- Александр, у тебя тут есть лишние импорты, их стоит убрать, чтобы поберечь ресурсы  \n",
    "\n"
   ]
  },
  {
   "cell_type": "code",
   "execution_count": 2,
   "metadata": {},
   "outputs": [],
   "source": [
    "try:\n",
    "    df= pd.read_csv('/datasets/users_behavior.csv')\n",
    "except:\n",
    "    df=pd.read_csv('/Users/aleksandrivanov/Downloads/users_behavior.csv')"
   ]
  },
  {
   "cell_type": "code",
   "execution_count": 3,
   "metadata": {},
   "outputs": [
    {
     "data": {
      "text/html": [
       "<div>\n",
       "<style scoped>\n",
       "    .dataframe tbody tr th:only-of-type {\n",
       "        vertical-align: middle;\n",
       "    }\n",
       "\n",
       "    .dataframe tbody tr th {\n",
       "        vertical-align: top;\n",
       "    }\n",
       "\n",
       "    .dataframe thead th {\n",
       "        text-align: right;\n",
       "    }\n",
       "</style>\n",
       "<table border=\"1\" class=\"dataframe\">\n",
       "  <thead>\n",
       "    <tr style=\"text-align: right;\">\n",
       "      <th></th>\n",
       "      <th>calls</th>\n",
       "      <th>minutes</th>\n",
       "      <th>messages</th>\n",
       "      <th>mb_used</th>\n",
       "      <th>is_ultra</th>\n",
       "    </tr>\n",
       "  </thead>\n",
       "  <tbody>\n",
       "    <tr>\n",
       "      <th>0</th>\n",
       "      <td>40.0</td>\n",
       "      <td>311.90</td>\n",
       "      <td>83.0</td>\n",
       "      <td>19915.42</td>\n",
       "      <td>0</td>\n",
       "    </tr>\n",
       "    <tr>\n",
       "      <th>1</th>\n",
       "      <td>85.0</td>\n",
       "      <td>516.75</td>\n",
       "      <td>56.0</td>\n",
       "      <td>22696.96</td>\n",
       "      <td>0</td>\n",
       "    </tr>\n",
       "    <tr>\n",
       "      <th>2</th>\n",
       "      <td>77.0</td>\n",
       "      <td>467.66</td>\n",
       "      <td>86.0</td>\n",
       "      <td>21060.45</td>\n",
       "      <td>0</td>\n",
       "    </tr>\n",
       "    <tr>\n",
       "      <th>3</th>\n",
       "      <td>106.0</td>\n",
       "      <td>745.53</td>\n",
       "      <td>81.0</td>\n",
       "      <td>8437.39</td>\n",
       "      <td>1</td>\n",
       "    </tr>\n",
       "    <tr>\n",
       "      <th>4</th>\n",
       "      <td>66.0</td>\n",
       "      <td>418.74</td>\n",
       "      <td>1.0</td>\n",
       "      <td>14502.75</td>\n",
       "      <td>0</td>\n",
       "    </tr>\n",
       "    <tr>\n",
       "      <th>5</th>\n",
       "      <td>58.0</td>\n",
       "      <td>344.56</td>\n",
       "      <td>21.0</td>\n",
       "      <td>15823.37</td>\n",
       "      <td>0</td>\n",
       "    </tr>\n",
       "    <tr>\n",
       "      <th>6</th>\n",
       "      <td>57.0</td>\n",
       "      <td>431.64</td>\n",
       "      <td>20.0</td>\n",
       "      <td>3738.90</td>\n",
       "      <td>1</td>\n",
       "    </tr>\n",
       "    <tr>\n",
       "      <th>7</th>\n",
       "      <td>15.0</td>\n",
       "      <td>132.40</td>\n",
       "      <td>6.0</td>\n",
       "      <td>21911.60</td>\n",
       "      <td>0</td>\n",
       "    </tr>\n",
       "    <tr>\n",
       "      <th>8</th>\n",
       "      <td>7.0</td>\n",
       "      <td>43.39</td>\n",
       "      <td>3.0</td>\n",
       "      <td>2538.67</td>\n",
       "      <td>1</td>\n",
       "    </tr>\n",
       "    <tr>\n",
       "      <th>9</th>\n",
       "      <td>90.0</td>\n",
       "      <td>665.41</td>\n",
       "      <td>38.0</td>\n",
       "      <td>17358.61</td>\n",
       "      <td>0</td>\n",
       "    </tr>\n",
       "    <tr>\n",
       "      <th>10</th>\n",
       "      <td>82.0</td>\n",
       "      <td>560.51</td>\n",
       "      <td>20.0</td>\n",
       "      <td>9619.53</td>\n",
       "      <td>1</td>\n",
       "    </tr>\n",
       "    <tr>\n",
       "      <th>11</th>\n",
       "      <td>45.0</td>\n",
       "      <td>344.32</td>\n",
       "      <td>13.0</td>\n",
       "      <td>19898.81</td>\n",
       "      <td>0</td>\n",
       "    </tr>\n",
       "    <tr>\n",
       "      <th>12</th>\n",
       "      <td>51.0</td>\n",
       "      <td>437.13</td>\n",
       "      <td>61.0</td>\n",
       "      <td>21523.58</td>\n",
       "      <td>0</td>\n",
       "    </tr>\n",
       "    <tr>\n",
       "      <th>13</th>\n",
       "      <td>56.0</td>\n",
       "      <td>433.07</td>\n",
       "      <td>16.0</td>\n",
       "      <td>16702.36</td>\n",
       "      <td>0</td>\n",
       "    </tr>\n",
       "    <tr>\n",
       "      <th>14</th>\n",
       "      <td>108.0</td>\n",
       "      <td>587.90</td>\n",
       "      <td>0.0</td>\n",
       "      <td>14406.50</td>\n",
       "      <td>1</td>\n",
       "    </tr>\n",
       "    <tr>\n",
       "      <th>15</th>\n",
       "      <td>6.0</td>\n",
       "      <td>22.13</td>\n",
       "      <td>0.0</td>\n",
       "      <td>2710.09</td>\n",
       "      <td>0</td>\n",
       "    </tr>\n",
       "    <tr>\n",
       "      <th>16</th>\n",
       "      <td>2.0</td>\n",
       "      <td>18.73</td>\n",
       "      <td>0.0</td>\n",
       "      <td>588.89</td>\n",
       "      <td>0</td>\n",
       "    </tr>\n",
       "    <tr>\n",
       "      <th>17</th>\n",
       "      <td>26.0</td>\n",
       "      <td>163.62</td>\n",
       "      <td>4.0</td>\n",
       "      <td>16870.34</td>\n",
       "      <td>0</td>\n",
       "    </tr>\n",
       "    <tr>\n",
       "      <th>18</th>\n",
       "      <td>79.0</td>\n",
       "      <td>532.62</td>\n",
       "      <td>90.0</td>\n",
       "      <td>19908.31</td>\n",
       "      <td>0</td>\n",
       "    </tr>\n",
       "    <tr>\n",
       "      <th>19</th>\n",
       "      <td>49.0</td>\n",
       "      <td>341.67</td>\n",
       "      <td>81.0</td>\n",
       "      <td>11770.28</td>\n",
       "      <td>1</td>\n",
       "    </tr>\n",
       "  </tbody>\n",
       "</table>\n",
       "</div>"
      ],
      "text/plain": [
       "    calls  minutes  messages   mb_used  is_ultra\n",
       "0    40.0   311.90      83.0  19915.42         0\n",
       "1    85.0   516.75      56.0  22696.96         0\n",
       "2    77.0   467.66      86.0  21060.45         0\n",
       "3   106.0   745.53      81.0   8437.39         1\n",
       "4    66.0   418.74       1.0  14502.75         0\n",
       "5    58.0   344.56      21.0  15823.37         0\n",
       "6    57.0   431.64      20.0   3738.90         1\n",
       "7    15.0   132.40       6.0  21911.60         0\n",
       "8     7.0    43.39       3.0   2538.67         1\n",
       "9    90.0   665.41      38.0  17358.61         0\n",
       "10   82.0   560.51      20.0   9619.53         1\n",
       "11   45.0   344.32      13.0  19898.81         0\n",
       "12   51.0   437.13      61.0  21523.58         0\n",
       "13   56.0   433.07      16.0  16702.36         0\n",
       "14  108.0   587.90       0.0  14406.50         1\n",
       "15    6.0    22.13       0.0   2710.09         0\n",
       "16    2.0    18.73       0.0    588.89         0\n",
       "17   26.0   163.62       4.0  16870.34         0\n",
       "18   79.0   532.62      90.0  19908.31         0\n",
       "19   49.0   341.67      81.0  11770.28         1"
      ]
     },
     "execution_count": 3,
     "metadata": {},
     "output_type": "execute_result"
    }
   ],
   "source": [
    "df.head(20)"
   ]
  },
  {
   "cell_type": "code",
   "execution_count": 4,
   "metadata": {},
   "outputs": [
    {
     "name": "stdout",
     "output_type": "stream",
     "text": [
      "<class 'pandas.core.frame.DataFrame'>\n",
      "RangeIndex: 3214 entries, 0 to 3213\n",
      "Data columns (total 5 columns):\n",
      " #   Column    Non-Null Count  Dtype  \n",
      "---  ------    --------------  -----  \n",
      " 0   calls     3214 non-null   float64\n",
      " 1   minutes   3214 non-null   float64\n",
      " 2   messages  3214 non-null   float64\n",
      " 3   mb_used   3214 non-null   float64\n",
      " 4   is_ultra  3214 non-null   int64  \n",
      "dtypes: float64(4), int64(1)\n",
      "memory usage: 125.7 KB\n"
     ]
    }
   ],
   "source": [
    "df.info()"
   ]
  },
  {
   "cell_type": "markdown",
   "metadata": {},
   "source": [
    "<div class=\"alert alert-success\">\n",
    "<font size=\"5\"><b>Комментарий ревьюера</b></font>\n",
    "\n",
    "Успех:\n",
    "\n",
    "👍 Данные изучены.\n",
    "\n",
    "\n",
    "<div class=\"alert alert-warning\">\n",
    "\n",
    "\n",
    "\n",
    "Совет: \n",
    "\n",
    "\n",
    "Можно еще отдельно проверить датасет на сбалансированность классов в таргете. Это важная информация при моделировании и помогло бы решить бонусное задание сразу.  Тема дисбаланса как раз тема следующего проекта, тут можно [почитать](https://dyakonov.org/2021/05/27/imbalance/) заранее зачем мы обращаем внимание на это. А [тут](https://habr.com/ru/post/349078/) так ли он страшен  ))\n",
    "\n",
    "\n",
    "\n",
    "\n",
    "Можно посмотреть корреляцию признаков. Знаешь что такое мультиколлинеарность, какие два типа проблем возникает, для каких моделей и какие варианты решения?\n",
    "\n",
    "\n",
    "\n",
    "\n",
    "</div>\n"
   ]
  },
  {
   "cell_type": "code",
   "execution_count": 5,
   "metadata": {},
   "outputs": [
    {
     "data": {
      "text/html": [
       "<div>\n",
       "<style scoped>\n",
       "    .dataframe tbody tr th:only-of-type {\n",
       "        vertical-align: middle;\n",
       "    }\n",
       "\n",
       "    .dataframe tbody tr th {\n",
       "        vertical-align: top;\n",
       "    }\n",
       "\n",
       "    .dataframe thead th {\n",
       "        text-align: right;\n",
       "    }\n",
       "</style>\n",
       "<table border=\"1\" class=\"dataframe\">\n",
       "  <thead>\n",
       "    <tr style=\"text-align: right;\">\n",
       "      <th></th>\n",
       "      <th>calls</th>\n",
       "      <th>minutes</th>\n",
       "      <th>messages</th>\n",
       "      <th>mb_used</th>\n",
       "      <th>is_ultra</th>\n",
       "    </tr>\n",
       "  </thead>\n",
       "  <tbody>\n",
       "    <tr>\n",
       "      <th>calls</th>\n",
       "      <td>1.000000</td>\n",
       "      <td>0.982083</td>\n",
       "      <td>0.177385</td>\n",
       "      <td>0.286442</td>\n",
       "      <td>0.207122</td>\n",
       "    </tr>\n",
       "    <tr>\n",
       "      <th>minutes</th>\n",
       "      <td>0.982083</td>\n",
       "      <td>1.000000</td>\n",
       "      <td>0.173110</td>\n",
       "      <td>0.280967</td>\n",
       "      <td>0.206955</td>\n",
       "    </tr>\n",
       "    <tr>\n",
       "      <th>messages</th>\n",
       "      <td>0.177385</td>\n",
       "      <td>0.173110</td>\n",
       "      <td>1.000000</td>\n",
       "      <td>0.195721</td>\n",
       "      <td>0.203830</td>\n",
       "    </tr>\n",
       "    <tr>\n",
       "      <th>mb_used</th>\n",
       "      <td>0.286442</td>\n",
       "      <td>0.280967</td>\n",
       "      <td>0.195721</td>\n",
       "      <td>1.000000</td>\n",
       "      <td>0.198568</td>\n",
       "    </tr>\n",
       "    <tr>\n",
       "      <th>is_ultra</th>\n",
       "      <td>0.207122</td>\n",
       "      <td>0.206955</td>\n",
       "      <td>0.203830</td>\n",
       "      <td>0.198568</td>\n",
       "      <td>1.000000</td>\n",
       "    </tr>\n",
       "  </tbody>\n",
       "</table>\n",
       "</div>"
      ],
      "text/plain": [
       "             calls   minutes  messages   mb_used  is_ultra\n",
       "calls     1.000000  0.982083  0.177385  0.286442  0.207122\n",
       "minutes   0.982083  1.000000  0.173110  0.280967  0.206955\n",
       "messages  0.177385  0.173110  1.000000  0.195721  0.203830\n",
       "mb_used   0.286442  0.280967  0.195721  1.000000  0.198568\n",
       "is_ultra  0.207122  0.206955  0.203830  0.198568  1.000000"
      ]
     },
     "execution_count": 5,
     "metadata": {},
     "output_type": "execute_result"
    }
   ],
   "source": [
    "df.corr()"
   ]
  },
  {
   "cell_type": "markdown",
   "metadata": {},
   "source": [
    "минуты и звонки корреляция почти 1 в 1, возможно, можно что-то выбрать одно для дальнейшего исследования"
   ]
  },
  {
   "cell_type": "markdown",
   "metadata": {},
   "source": [
    "<div class=\"alert alert-success\">\n",
    "<font size=\"5\"><b>Комментарий ревьюераV2</b></font>\n",
    "\n",
    "Успех:\n",
    "\n",
    "Смотря для чего )\n",
    "\n",
    "- Мультиколлиниарность    \n",
    "\n",
    "\n",
    "Первый момент: мультиколлиниарность проблема линейных моделей - могут переобучаться.... теоретически. Но в логистической, и в линейной регрессиях реализована регуляризация, которая решает проблему мультиколлиниарности признаков. \"Деревянные\" модели (RF, DT) устойчивы к мультиколлинеарности, а кластеризация тоже почти не зависит от линейных зависимостей. Получается, избавляться от мультиколлинеарности чтобы не переобучаться не обязательно )) \n",
    "    \n",
    "    \n",
    "Второй момент: интерпретируемость линейной модели (мы по коеффициентам судим как признаки влияют на таргет), тут  мультиколлинеарность надо убирать.\n",
    "\n",
    "    \n",
    "    \n",
    "Вот и получается - Если хочешь интерпретировать значения признаков корректно, то дропать стоит, а если хочешь метрику улучшить, то не нужно    \n",
    "</div>"
   ]
  },
  {
   "cell_type": "markdown",
   "metadata": {},
   "source": [
    "## Разбейте данные на выборки"
   ]
  },
  {
   "cell_type": "code",
   "execution_count": 6,
   "metadata": {},
   "outputs": [],
   "source": [
    "features = df.drop(['is_ultra'], axis=1)\n",
    "target = df['is_ultra']"
   ]
  },
  {
   "cell_type": "markdown",
   "metadata": {},
   "source": [
    "Разобьем переменные в 2 этапа, в начале выделим тестовую модельв 20%, а потом оставшуюся часть разобьем ещё раз, добавим вспомогательную переменную _help"
   ]
  },
  {
   "cell_type": "code",
   "execution_count": 7,
   "metadata": {},
   "outputs": [],
   "source": [
    "features_help, features_test, target_help, target_test = train_test_split(\n",
    "    features, target, test_size=0.2, random_state=12345)"
   ]
  },
  {
   "cell_type": "code",
   "execution_count": 8,
   "metadata": {},
   "outputs": [],
   "source": [
    "features_train, features_valid, target_train, target_valid = train_test_split(\n",
    "    features_help, target_help, test_size=0.25, random_state=12345)"
   ]
  },
  {
   "cell_type": "markdown",
   "metadata": {},
   "source": [
    "Итоговые переменные, которые будут испозоваться для обучения модели:\n",
    "тестовые, последний этап, 20%:\n",
    "features_test\n",
    "target_test\n",
    "Для обучения модели, 60%:\n",
    "features_train\n",
    "target_train\n",
    "Для промежучной проверки, 20%:\n",
    "features_valid\n",
    "target_valid"
   ]
  },
  {
   "cell_type": "code",
   "execution_count": 9,
   "metadata": {},
   "outputs": [
    {
     "data": {
      "text/html": [
       "<div>\n",
       "<style scoped>\n",
       "    .dataframe tbody tr th:only-of-type {\n",
       "        vertical-align: middle;\n",
       "    }\n",
       "\n",
       "    .dataframe tbody tr th {\n",
       "        vertical-align: top;\n",
       "    }\n",
       "\n",
       "    .dataframe thead th {\n",
       "        text-align: right;\n",
       "    }\n",
       "</style>\n",
       "<table border=\"1\" class=\"dataframe\">\n",
       "  <thead>\n",
       "    <tr style=\"text-align: right;\">\n",
       "      <th></th>\n",
       "      <th>calls</th>\n",
       "      <th>minutes</th>\n",
       "      <th>messages</th>\n",
       "      <th>mb_used</th>\n",
       "    </tr>\n",
       "  </thead>\n",
       "  <tbody>\n",
       "    <tr>\n",
       "      <th>1415</th>\n",
       "      <td>82.0</td>\n",
       "      <td>507.89</td>\n",
       "      <td>88.0</td>\n",
       "      <td>17543.37</td>\n",
       "    </tr>\n",
       "    <tr>\n",
       "      <th>916</th>\n",
       "      <td>50.0</td>\n",
       "      <td>375.91</td>\n",
       "      <td>35.0</td>\n",
       "      <td>12388.40</td>\n",
       "    </tr>\n",
       "    <tr>\n",
       "      <th>1670</th>\n",
       "      <td>83.0</td>\n",
       "      <td>540.49</td>\n",
       "      <td>41.0</td>\n",
       "      <td>9127.74</td>\n",
       "    </tr>\n",
       "    <tr>\n",
       "      <th>686</th>\n",
       "      <td>79.0</td>\n",
       "      <td>562.99</td>\n",
       "      <td>19.0</td>\n",
       "      <td>25508.19</td>\n",
       "    </tr>\n",
       "    <tr>\n",
       "      <th>2951</th>\n",
       "      <td>78.0</td>\n",
       "      <td>531.29</td>\n",
       "      <td>20.0</td>\n",
       "      <td>9217.25</td>\n",
       "    </tr>\n",
       "    <tr>\n",
       "      <th>...</th>\n",
       "      <td>...</td>\n",
       "      <td>...</td>\n",
       "      <td>...</td>\n",
       "      <td>...</td>\n",
       "    </tr>\n",
       "    <tr>\n",
       "      <th>2061</th>\n",
       "      <td>66.0</td>\n",
       "      <td>478.48</td>\n",
       "      <td>0.0</td>\n",
       "      <td>16962.58</td>\n",
       "    </tr>\n",
       "    <tr>\n",
       "      <th>1510</th>\n",
       "      <td>40.0</td>\n",
       "      <td>334.24</td>\n",
       "      <td>91.0</td>\n",
       "      <td>11304.14</td>\n",
       "    </tr>\n",
       "    <tr>\n",
       "      <th>2215</th>\n",
       "      <td>62.0</td>\n",
       "      <td>436.68</td>\n",
       "      <td>52.0</td>\n",
       "      <td>12311.24</td>\n",
       "    </tr>\n",
       "    <tr>\n",
       "      <th>664</th>\n",
       "      <td>117.0</td>\n",
       "      <td>739.27</td>\n",
       "      <td>124.0</td>\n",
       "      <td>22818.56</td>\n",
       "    </tr>\n",
       "    <tr>\n",
       "      <th>1196</th>\n",
       "      <td>66.0</td>\n",
       "      <td>461.84</td>\n",
       "      <td>85.0</td>\n",
       "      <td>14264.14</td>\n",
       "    </tr>\n",
       "  </tbody>\n",
       "</table>\n",
       "<p>643 rows × 4 columns</p>\n",
       "</div>"
      ],
      "text/plain": [
       "      calls  minutes  messages   mb_used\n",
       "1415   82.0   507.89      88.0  17543.37\n",
       "916    50.0   375.91      35.0  12388.40\n",
       "1670   83.0   540.49      41.0   9127.74\n",
       "686    79.0   562.99      19.0  25508.19\n",
       "2951   78.0   531.29      20.0   9217.25\n",
       "...     ...      ...       ...       ...\n",
       "2061   66.0   478.48       0.0  16962.58\n",
       "1510   40.0   334.24      91.0  11304.14\n",
       "2215   62.0   436.68      52.0  12311.24\n",
       "664   117.0   739.27     124.0  22818.56\n",
       "1196   66.0   461.84      85.0  14264.14\n",
       "\n",
       "[643 rows x 4 columns]"
      ]
     },
     "execution_count": 9,
     "metadata": {},
     "output_type": "execute_result"
    }
   ],
   "source": [
    "features_test"
   ]
  },
  {
   "cell_type": "code",
   "execution_count": 10,
   "metadata": {},
   "outputs": [
    {
     "data": {
      "text/plain": [
       "1415    1\n",
       "916     0\n",
       "1670    0\n",
       "686     1\n",
       "2951    0\n",
       "       ..\n",
       "2061    0\n",
       "1510    0\n",
       "2215    0\n",
       "664     1\n",
       "1196    0\n",
       "Name: is_ultra, Length: 643, dtype: int64"
      ]
     },
     "execution_count": 10,
     "metadata": {},
     "output_type": "execute_result"
    }
   ],
   "source": [
    "target_test"
   ]
  },
  {
   "cell_type": "code",
   "execution_count": 11,
   "metadata": {},
   "outputs": [
    {
     "data": {
      "text/html": [
       "<div>\n",
       "<style scoped>\n",
       "    .dataframe tbody tr th:only-of-type {\n",
       "        vertical-align: middle;\n",
       "    }\n",
       "\n",
       "    .dataframe tbody tr th {\n",
       "        vertical-align: top;\n",
       "    }\n",
       "\n",
       "    .dataframe thead th {\n",
       "        text-align: right;\n",
       "    }\n",
       "</style>\n",
       "<table border=\"1\" class=\"dataframe\">\n",
       "  <thead>\n",
       "    <tr style=\"text-align: right;\">\n",
       "      <th></th>\n",
       "      <th>calls</th>\n",
       "      <th>minutes</th>\n",
       "      <th>messages</th>\n",
       "      <th>mb_used</th>\n",
       "    </tr>\n",
       "  </thead>\n",
       "  <tbody>\n",
       "    <tr>\n",
       "      <th>2656</th>\n",
       "      <td>30.0</td>\n",
       "      <td>185.07</td>\n",
       "      <td>34.0</td>\n",
       "      <td>17166.53</td>\n",
       "    </tr>\n",
       "    <tr>\n",
       "      <th>823</th>\n",
       "      <td>42.0</td>\n",
       "      <td>290.69</td>\n",
       "      <td>77.0</td>\n",
       "      <td>21507.03</td>\n",
       "    </tr>\n",
       "    <tr>\n",
       "      <th>2566</th>\n",
       "      <td>41.0</td>\n",
       "      <td>289.83</td>\n",
       "      <td>15.0</td>\n",
       "      <td>22151.73</td>\n",
       "    </tr>\n",
       "    <tr>\n",
       "      <th>1451</th>\n",
       "      <td>45.0</td>\n",
       "      <td>333.49</td>\n",
       "      <td>50.0</td>\n",
       "      <td>17275.47</td>\n",
       "    </tr>\n",
       "    <tr>\n",
       "      <th>2953</th>\n",
       "      <td>43.0</td>\n",
       "      <td>300.39</td>\n",
       "      <td>69.0</td>\n",
       "      <td>17277.83</td>\n",
       "    </tr>\n",
       "    <tr>\n",
       "      <th>...</th>\n",
       "      <td>...</td>\n",
       "      <td>...</td>\n",
       "      <td>...</td>\n",
       "      <td>...</td>\n",
       "    </tr>\n",
       "    <tr>\n",
       "      <th>1043</th>\n",
       "      <td>106.0</td>\n",
       "      <td>796.79</td>\n",
       "      <td>23.0</td>\n",
       "      <td>42250.70</td>\n",
       "    </tr>\n",
       "    <tr>\n",
       "      <th>2132</th>\n",
       "      <td>18.0</td>\n",
       "      <td>117.80</td>\n",
       "      <td>0.0</td>\n",
       "      <td>10006.79</td>\n",
       "    </tr>\n",
       "    <tr>\n",
       "      <th>1642</th>\n",
       "      <td>87.0</td>\n",
       "      <td>583.02</td>\n",
       "      <td>1.0</td>\n",
       "      <td>11213.97</td>\n",
       "    </tr>\n",
       "    <tr>\n",
       "      <th>1495</th>\n",
       "      <td>63.0</td>\n",
       "      <td>408.68</td>\n",
       "      <td>63.0</td>\n",
       "      <td>24970.26</td>\n",
       "    </tr>\n",
       "    <tr>\n",
       "      <th>510</th>\n",
       "      <td>83.0</td>\n",
       "      <td>597.83</td>\n",
       "      <td>0.0</td>\n",
       "      <td>16273.02</td>\n",
       "    </tr>\n",
       "  </tbody>\n",
       "</table>\n",
       "<p>1928 rows × 4 columns</p>\n",
       "</div>"
      ],
      "text/plain": [
       "      calls  minutes  messages   mb_used\n",
       "2656   30.0   185.07      34.0  17166.53\n",
       "823    42.0   290.69      77.0  21507.03\n",
       "2566   41.0   289.83      15.0  22151.73\n",
       "1451   45.0   333.49      50.0  17275.47\n",
       "2953   43.0   300.39      69.0  17277.83\n",
       "...     ...      ...       ...       ...\n",
       "1043  106.0   796.79      23.0  42250.70\n",
       "2132   18.0   117.80       0.0  10006.79\n",
       "1642   87.0   583.02       1.0  11213.97\n",
       "1495   63.0   408.68      63.0  24970.26\n",
       "510    83.0   597.83       0.0  16273.02\n",
       "\n",
       "[1928 rows x 4 columns]"
      ]
     },
     "execution_count": 11,
     "metadata": {},
     "output_type": "execute_result"
    }
   ],
   "source": [
    "features_train"
   ]
  },
  {
   "cell_type": "code",
   "execution_count": 12,
   "metadata": {},
   "outputs": [
    {
     "data": {
      "text/plain": [
       "2656    0\n",
       "823     0\n",
       "2566    0\n",
       "1451    0\n",
       "2953    0\n",
       "       ..\n",
       "1043    1\n",
       "2132    1\n",
       "1642    0\n",
       "1495    0\n",
       "510     0\n",
       "Name: is_ultra, Length: 1928, dtype: int64"
      ]
     },
     "execution_count": 12,
     "metadata": {},
     "output_type": "execute_result"
    }
   ],
   "source": [
    "target_train"
   ]
  },
  {
   "cell_type": "code",
   "execution_count": 13,
   "metadata": {},
   "outputs": [
    {
     "data": {
      "text/html": [
       "<div>\n",
       "<style scoped>\n",
       "    .dataframe tbody tr th:only-of-type {\n",
       "        vertical-align: middle;\n",
       "    }\n",
       "\n",
       "    .dataframe tbody tr th {\n",
       "        vertical-align: top;\n",
       "    }\n",
       "\n",
       "    .dataframe thead th {\n",
       "        text-align: right;\n",
       "    }\n",
       "</style>\n",
       "<table border=\"1\" class=\"dataframe\">\n",
       "  <thead>\n",
       "    <tr style=\"text-align: right;\">\n",
       "      <th></th>\n",
       "      <th>calls</th>\n",
       "      <th>minutes</th>\n",
       "      <th>messages</th>\n",
       "      <th>mb_used</th>\n",
       "    </tr>\n",
       "  </thead>\n",
       "  <tbody>\n",
       "    <tr>\n",
       "      <th>2699</th>\n",
       "      <td>71.0</td>\n",
       "      <td>512.53</td>\n",
       "      <td>27.0</td>\n",
       "      <td>15772.68</td>\n",
       "    </tr>\n",
       "    <tr>\n",
       "      <th>242</th>\n",
       "      <td>183.0</td>\n",
       "      <td>1247.04</td>\n",
       "      <td>150.0</td>\n",
       "      <td>29186.41</td>\n",
       "    </tr>\n",
       "    <tr>\n",
       "      <th>2854</th>\n",
       "      <td>34.0</td>\n",
       "      <td>246.06</td>\n",
       "      <td>31.0</td>\n",
       "      <td>8448.76</td>\n",
       "    </tr>\n",
       "    <tr>\n",
       "      <th>1638</th>\n",
       "      <td>63.0</td>\n",
       "      <td>468.66</td>\n",
       "      <td>0.0</td>\n",
       "      <td>11794.34</td>\n",
       "    </tr>\n",
       "    <tr>\n",
       "      <th>1632</th>\n",
       "      <td>4.0</td>\n",
       "      <td>19.85</td>\n",
       "      <td>28.0</td>\n",
       "      <td>13107.42</td>\n",
       "    </tr>\n",
       "    <tr>\n",
       "      <th>...</th>\n",
       "      <td>...</td>\n",
       "      <td>...</td>\n",
       "      <td>...</td>\n",
       "      <td>...</td>\n",
       "    </tr>\n",
       "    <tr>\n",
       "      <th>2551</th>\n",
       "      <td>83.0</td>\n",
       "      <td>539.32</td>\n",
       "      <td>33.0</td>\n",
       "      <td>20967.28</td>\n",
       "    </tr>\n",
       "    <tr>\n",
       "      <th>1261</th>\n",
       "      <td>80.0</td>\n",
       "      <td>552.33</td>\n",
       "      <td>23.0</td>\n",
       "      <td>18457.85</td>\n",
       "    </tr>\n",
       "    <tr>\n",
       "      <th>1658</th>\n",
       "      <td>111.0</td>\n",
       "      <td>899.74</td>\n",
       "      <td>0.0</td>\n",
       "      <td>26866.61</td>\n",
       "    </tr>\n",
       "    <tr>\n",
       "      <th>353</th>\n",
       "      <td>68.0</td>\n",
       "      <td>493.00</td>\n",
       "      <td>29.0</td>\n",
       "      <td>20021.73</td>\n",
       "    </tr>\n",
       "    <tr>\n",
       "      <th>1806</th>\n",
       "      <td>62.0</td>\n",
       "      <td>364.31</td>\n",
       "      <td>0.0</td>\n",
       "      <td>13259.50</td>\n",
       "    </tr>\n",
       "  </tbody>\n",
       "</table>\n",
       "<p>643 rows × 4 columns</p>\n",
       "</div>"
      ],
      "text/plain": [
       "      calls  minutes  messages   mb_used\n",
       "2699   71.0   512.53      27.0  15772.68\n",
       "242   183.0  1247.04     150.0  29186.41\n",
       "2854   34.0   246.06      31.0   8448.76\n",
       "1638   63.0   468.66       0.0  11794.34\n",
       "1632    4.0    19.85      28.0  13107.42\n",
       "...     ...      ...       ...       ...\n",
       "2551   83.0   539.32      33.0  20967.28\n",
       "1261   80.0   552.33      23.0  18457.85\n",
       "1658  111.0   899.74       0.0  26866.61\n",
       "353    68.0   493.00      29.0  20021.73\n",
       "1806   62.0   364.31       0.0  13259.50\n",
       "\n",
       "[643 rows x 4 columns]"
      ]
     },
     "execution_count": 13,
     "metadata": {},
     "output_type": "execute_result"
    }
   ],
   "source": [
    "features_valid"
   ]
  },
  {
   "cell_type": "code",
   "execution_count": 14,
   "metadata": {},
   "outputs": [
    {
     "data": {
      "text/plain": [
       "2699    0\n",
       "242     1\n",
       "2854    0\n",
       "1638    0\n",
       "1632    0\n",
       "       ..\n",
       "2551    0\n",
       "1261    0\n",
       "1658    0\n",
       "353     0\n",
       "1806    0\n",
       "Name: is_ultra, Length: 643, dtype: int64"
      ]
     },
     "execution_count": 14,
     "metadata": {},
     "output_type": "execute_result"
    }
   ],
   "source": [
    "target_valid"
   ]
  },
  {
   "cell_type": "markdown",
   "metadata": {},
   "source": [
    "<div class=\"alert alert-success\">\n",
    "<font size=\"5\"><b>Комментарий ревьюера</b></font>\n",
    "\n",
    "Успех:\n",
    "\n",
    "Все правильно!\n",
    "\n",
    "Здорово что проконтролировано разбиение\n",
    "\n",
    "<div class=\"alert alert-warning\">\n",
    "\n",
    "\n",
    "\n",
    "Совет: \n",
    "\n",
    "\n",
    "- Обрати внимание на аргумент stratify, он позволит сохранить изначальное распределение таргетов во всех новых датасетах.  Существующий дисбаланс никуда не денется, но в каждом датасете он будет одинаковым. [Почитать](https://pythonru.com/baza-znanij/sklearn-train-test-split) можно тут\n"
   ]
  },
  {
   "cell_type": "markdown",
   "metadata": {},
   "source": [
    "<div class=\"alert alert-info\">\n",
    "<font size=\"2\">почитаю про stratify, здесь уже не буду им крутить, может быть, посмотрю уже в проекте со своего компьютера, а не то тут накручу, всё поломаю ещё )</font>\n",
    "</div>"
   ]
  },
  {
   "cell_type": "markdown",
   "metadata": {},
   "source": [
    "<div class=\"alert alert-warning\">\n",
    "<font size=\"5\"><b>Комментарий ревьюераV2</b></font>\n",
    "\n",
    "\n",
    "\n",
    "Совет 🤔:\n",
    "\n",
    "\n",
    "Смотри сам, это был совет.  Ломать там особо ничего\n",
    "</div>\n"
   ]
  },
  {
   "cell_type": "markdown",
   "metadata": {},
   "source": [
    "## Исследуйте модели"
   ]
  },
  {
   "cell_type": "markdown",
   "metadata": {},
   "source": [
    "В данном проекте у нас задача классификации, поэтому используем 2 варианта, это одно дерево с разной глубиной, либо \"случайный лес\""
   ]
  },
  {
   "cell_type": "code",
   "execution_count": null,
   "metadata": {},
   "outputs": [],
   "source": []
  },
  {
   "cell_type": "code",
   "execution_count": null,
   "metadata": {},
   "outputs": [],
   "source": []
  },
  {
   "cell_type": "code",
   "execution_count": 15,
   "metadata": {},
   "outputs": [
    {
     "name": "stdout",
     "output_type": "stream",
     "text": [
      "Accuracy наилучшей модели на валидационной выборке: 0.7744945567651633\n",
      "количество этажей у дерева 7\n",
      "CPU times: user 676 ms, sys: 6.19 ms, total: 682 ms\n",
      "Wall time: 684 ms\n"
     ]
    }
   ],
   "source": [
    "%%time\n",
    "best_model_tr = None\n",
    "best_result = 0\n",
    "for depth in range(1,100):\n",
    "    model_tr = DecisionTreeClassifier(random_state=12345, max_depth=depth)\n",
    "    model_tr.fit(features_train, target_train)\n",
    "    predictions_valid = model_tr.predict(features_valid)\n",
    "    result = accuracy_score(target_valid, predictions_valid)\n",
    "    if result > best_result:\n",
    "        best_model_tr = model_tr \n",
    "        best_result = result \n",
    "        best_depth = depth\n",
    "\n",
    "print(\"Accuracy наилучшей модели на валидационной выборке:\", best_result)\n",
    "print(\"количество этажей у дерева\", best_depth)"
   ]
  },
  {
   "cell_type": "markdown",
   "metadata": {},
   "source": [
    "<div class=\"alert alert-success\">\n",
    "<font size=\"5\"><b>Комментарий ревьюера</b></font>\n",
    "\n",
    "Успех:\n",
    " \n",
    "Работа выполнена в соответствии с критериями: \n",
    "\n",
    "\n",
    "\n",
    " - модель обучена на обучающем наборе\n",
    " - получена оценка качества на валидационном наборе\n",
    " - перебор гиперпараметров осуществляется в цикле\n",
    "\n",
    "\n",
    "Непонятно зачем дубли\n",
    "\n",
    "<div class=\"alert alert-warning\">\n",
    "\n",
    "\n",
    "Совет: \n",
    "\n",
    "\n",
    "\n",
    "\n",
    "- Ты тут и ниже лучшую модель записываешь под тем же названием  - best_model, поэтому в следующем цикле она перезапишется Не лучше ли использовать    разные названия допустим best_model_dt и best_model_rf, иначе зачем они вообще нужны? \n",
    "\n",
    "\n",
    "\n",
    "\n",
    "\n",
    "\n",
    "- Можно добавить график, хорошо оформленный график украсит проект. Тут на графике можно посмотреть как при изменении гиперпараметров меняется точность на train и validation датасете (для этого собираем наши метрики на валидации и train в списки, а затем по ним обычный plt.plot()) Такой способ используют чтобы лучше отследить переобучение, но для этого стоит взять пернебор по max_depth поглубже\n",
    "\n",
    "\n",
    "\n",
    "- tree_plot можно построить, с max_depth равной 3 или 4 (глубже уже будет громоздко) - глянуть как DT сплиты делает, будет понимание как модель принимает решения: какие признаки  использует, на каких значениях делает разбиение вправо - влево \n",
    "\n",
    "\n",
    "\n",
    "\n",
    "</div>\n",
    "\n"
   ]
  },
  {
   "cell_type": "markdown",
   "metadata": {},
   "source": [
    "tree_plot заинтересовало, пойду с ним разбираться подробнее, сходу не получилось вывести"
   ]
  },
  {
   "cell_type": "markdown",
   "metadata": {},
   "source": [
    "\n",
    "\n",
    "\n",
    "<div class=\"alert alert-warning\">\n",
    "<font size=\"5\"><b>Комментарий ревьюераV2</b></font>\n",
    "\n",
    "Совет:\n",
    "\n",
    "\n",
    "  \n",
    "Стоило зайти туториал и просто скопировать готовый код поставил свою модель.  А чтобы сделать покрасивее можно добавить:    \n",
    "    \n",
    "\n",
    "    import matplotlib.pyplot as plt\n",
    "    fig = plt.figure(figsize=(35,20))\n",
    "    _ = tree.plot_tree(best_model_tree, \n",
    "                   feature_names=features.columns.values, \n",
    "                   class_names=['Smart','Ultra'],\n",
    "                   filled=True,\n",
    "                   fontsize = 15,\n",
    "                   max_depth = 3     # Это чтобы прорисовывало 3 уровня, не глубже\n",
    "                      )\n",
    "    \n",
    "  "
   ]
  },
  {
   "cell_type": "code",
   "execution_count": 16,
   "metadata": {},
   "outputs": [
    {
     "data": {
      "image/png": "[encoded data removed]",
      "text/plain": [
       "<Figure size 2520x1440 with 1 Axes>"
      ]
     },
     "metadata": {
      "needs_background": "light"
     },
     "output_type": "display_data"
    }
   ],
   "source": [
    "# крод ревьюера\n",
    "\n",
    "from sklearn import tree\n",
    "import matplotlib.pyplot as plt\n",
    "fig = plt.figure(figsize=(35,20))\n",
    "_ = tree.plot_tree(best_model_tr, \n",
    "               feature_names=features.columns.values, \n",
    "               class_names=['Smart','Ultra'],\n",
    "               filled=True,\n",
    "               fontsize = 15,\n",
    "               max_depth = 3     # Это чтобы прорисовывало 3 уровня, не глубже\n",
    "                  )"
   ]
  },
  {
   "cell_type": "markdown",
   "metadata": {},
   "source": [
    "<b>А теперь посчитаем целый лес</b>"
   ]
  },
  {
   "cell_type": "code",
   "execution_count": 17,
   "metadata": {},
   "outputs": [
    {
     "name": "stdout",
     "output_type": "stream",
     "text": [
      "Accuracy наилучшей модели на валидационной выборке: 0.7993779160186625\n",
      "количество деревье 65\n",
      "CPU times: user 13.1 s, sys: 70.9 ms, total: 13.2 s\n",
      "Wall time: 13.2 s\n"
     ]
    }
   ],
   "source": [
    "%%time\n",
    "best_model_rf = None\n",
    "best_result = 0\n",
    "for est in range(1, 100):\n",
    "    model_rf = RandomForestClassifier(random_state=12345, n_estimators=est) \n",
    "    model_rf.fit(features_train, target_train) \n",
    "    result = model_rf.score(features_valid, target_valid) \n",
    "    if result > best_result:\n",
    "        best_model_rf = model_rf \n",
    "        best_result = result \n",
    "        best_est = est\n",
    "\n",
    "print(\"Accuracy наилучшей модели на валидационной выборке:\", best_result)\n",
    "print(\"количество деревье\", best_est)"
   ]
  },
  {
   "cell_type": "markdown",
   "metadata": {},
   "source": [
    "Случайный лес побеждает"
   ]
  },
  {
   "cell_type": "markdown",
   "metadata": {},
   "source": [
    "\n",
    "<div class=\"alert alert-success\">\n",
    "<font size=\"5\"><b>Комментарий ревьюера</b></font>\n",
    "\n",
    "Успех:\n",
    "\n",
    "\n",
    "Верно. Хотя непонятно зачем опять дубли. Достаточно 1 перебора до 100\n",
    "\n",
    "<div class=\"alert alert-warning\">\n",
    "\n",
    "Совет:\n",
    "\n",
    "\n",
    "- Александр, можно было сделать похитрее, RF одна из лучших моделей в классическом machine-learning, поэтому можно было добавить перебор 2 гиперпараметров в двойном цикле, в результата метрика качества вырастет. \n",
    " \n",
    "\n",
    "- Когда что то долго крутиться, можно использовать  %%time - ставишь на самый вверх ячейки с кодом, время выполнения которого хочешь замерить, может не знаешь.  Быстрее не станет, но все будут видеть стоит ли ждать не отходя от ПК или можно сходить чаек поставить ))  А еще есть tqdm, показывает на каком этапе у нас работа в цикле происходит\n",
    "    \n",
    "   \n",
    "- А еще можно вместо цикла использовать sklearn-ий встроенный функционал GridSearchCV. В случаи использования GridSearch, не нужно будет заранее делать валидационную выборку, лучшую метрику автоматом сохранят в best_score_, а лучшую модель (переобученная уже на полном наборе данных) будет хранить в best_estimator_.  Это тема будущих теоретических занятий, но если есть время можешь сразу попробовать.\n",
    "\n"
   ]
  },
  {
   "cell_type": "markdown",
   "metadata": {},
   "source": [
    "<div class=\"alert alert-info\">\n",
    "<font size=\"2\">Повторы, потому что в задании написано \"Рассмотрено хотя бы 3 значения гипепараметров для какой-нибудь модели\", каждый эту фразу понимает по своему, согласен, выглядят повторы странно, но вдруг будут замечания, что я сразу взял эту цифру и попал, а так, видно, что перебирал, если ты не против и нет вопросов по этому пункту, то лишнее я удалю :-)</font>\n",
    "</div>"
   ]
  },
  {
   "cell_type": "markdown",
   "metadata": {},
   "source": [
    "<div class=\"alert alert-warning\">\n",
    "<font size=\"5\"><b>Комментарий ревьюераV2</b></font>\n",
    "\n",
    "\n",
    "\n",
    "Совет 🤔:\n",
    "\n",
    "\n",
    "Ты перебирал один и тот же гиперпараметр, просто в разных диапазонах.\n",
    "</div>\n"
   ]
  },
  {
   "cell_type": "markdown",
   "metadata": {},
   "source": [
    "<div class=\"alert alert-info\">\n",
    "<font size=\"3\">Александр, можно было сделать похитрее, RF одна из лучших моделей в классическом machine-learning, поэтому можно было добавить перебор 2 гиперпараметров в двойном цикле, в результата метрика качества вырастет - вот у меня вопрос ещё с обучения остался, запросил у преподователя, в тренажере цикл в цикле используется только для регрессии, в классификации тоже так можно? если да, то докручу для гитхаба на своем компьютере уже</font>\n",
    "</div>"
   ]
  },
  {
   "cell_type": "markdown",
   "metadata": {},
   "source": [
    "\n",
    "Все верно, RF лучший. \n",
    "\n",
    "\n",
    "<div class=\"alert alert-warning\">\n",
    "<font size=\"5\"><b>Комментарий ревьюера</b></font>\n",
    "    \n",
    "    \n",
    "\n",
    "Совет: \n",
    "\n",
    "Если есть желание можешь ответить на вопросики ))    \n",
    "\n",
    "\n",
    "\n",
    "- Как назвать ситуацию, когда на валидации при увеличении глубины дерева (модель DT), метрика качества стала снижаться? Как по твоему в это же время вела себя эта же метрика на train?\n",
    "\n",
    "\n",
    "- Насколько знаю вы еще под капот моделям не заглядывали, но может знаешь почему обычно RF показывает более высокие результаты из выбранных?\n",
    "\n",
    "\n",
    "- Мы решаем задачу классификации (а еще есть задача регрессии), а в названии модели с помощью которой мы решаем задачу \"классификации\" (Логистическая регрессия) есть слово \"регрессия\".  Нет ли тут парадокса? )\n",
    "    \n",
    "\n",
    "- Почему логистическая регрессия показывать на много более худшие результаты?  \n",
    "\n",
    "\n",
    "</div>\n",
    "\n",
    "\n",
    "\n"
   ]
  },
  {
   "cell_type": "markdown",
   "metadata": {},
   "source": [
    "Совет:\n",
    "\n",
    "Если есть желание можешь ответить на вопросики ))\n",
    "\n",
    "Как назвать ситуацию, когда на валидации при увеличении глубины дерева (модель DT), метрика качества стала снижаться? Как по твоему в это же время вела себя эта же метрика на train?\n",
    "Предполагаю, что переобученность модели, модель еслишком сильно зацикливается при обучении на базовых данных и уже не переходит на новые данные, поэтому уровень на валид данных падает\n",
    "Насколько знаю вы еще под капот моделям не заглядывали, но может знаешь почему обычно RF показывает более высокие результаты из выбранных?\n",
    "Используется больше комбинаций, а значит модель становится точнее. Было одно дерево, а стало много\n",
    "Мы решаем задачу классификации (а еще есть задача регрессии), а в названии модели с помощью которой мы решаем задачу \"классификации\" (Логистическая регрессия) есть слово \"регрессия\". Нет ли тут парадокса? )\n",
    "Сложный вопрос, которые вызывает много вопросов :-) \n",
    "Почему логистическая регрессия показывать на много более худшие результаты?\n",
    "она считает по прямой и по одной формуле."
   ]
  },
  {
   "cell_type": "markdown",
   "metadata": {},
   "source": [
    "<div class=\"alert alert-success\">\n",
    "<font size=\"5\"><b>Комментарий ревьюераV2</b></font>\n",
    "\n",
    "\n",
    "Успех:\n",
    "\n",
    "\n",
    "Дополню чуть\n",
    "\n",
    "1. Верно, переобучение. На train точность растет вплоть до 100%. \n",
    "    \n",
    "    \n",
    "2. В RF обучается несколько деревьев, а решение принимается путем голосования. Каждое дерево в RF учится на своем датасете (используется техника бутстрап), таким образом достигается \"независимость\" этих самых деревьев, в итоге ошибка разброса снижается.\n",
    "\n",
    "    \n",
    "3. \"Регрессия\", потому что внутри нее скалярное произведение (как и в линейной регрессии), дающее на выходе вещественное число (от + бесконечности до - бесконечности), на это число вешают сигмойду, логарифм и получают значение от 0 до 1 (вероятность класса).   \n",
    "    \n",
    "    \n",
    "4. Логистическая регрессия плоха (и хороша с другой стороны) тем что это линейный классификатор: обьекты на классы разделяем гиперплоскостью (прямой если на плоскости), а в данном датасете видимо более сложные, нелинейные связи между признаками и таргетом.   А RF с DT с этим справляются. На других данных  LR могла оказаться лучше, например потому что RF не может экстраполировать. \n",
    "\n",
    "\n",
    "</div>"
   ]
  },
  {
   "cell_type": "markdown",
   "metadata": {},
   "source": [
    "## Проверьте модель на тестовой выборке"
   ]
  },
  {
   "cell_type": "markdown",
   "metadata": {},
   "source": [
    "проверим случайный лес"
   ]
  },
  {
   "cell_type": "code",
   "execution_count": 18,
   "metadata": {},
   "outputs": [
    {
     "name": "stdout",
     "output_type": "stream",
     "text": [
      "0.7900466562986003\n"
     ]
    }
   ],
   "source": [
    "result = best_model_rf.score(features_test, target_test) \n",
    "print(result)"
   ]
  },
  {
   "cell_type": "markdown",
   "metadata": {},
   "source": [
    "<div class=\"alert alert-danger\">\n",
    "<font size=\"5\"><b>Комментарий ревьюераV2</b></font>\n",
    "\n",
    "\n",
    "\n",
    "Ошибка ❌:\n",
    "\n",
    "\n",
    "Разве model_rf это модель обученная на лучшее значение гиперпараметров по валидации? \n",
    "\n",
    "    \n",
    "Вот твой код:\n",
    "    \n",
    "    \n",
    "    \n",
    "    \n",
    "    if result > best_result:\n",
    "        best_model_rf = model_rf \n",
    "        best_result = result \n",
    "        best_est = est    \n",
    "\n",
    "    \n",
    "    \n",
    "Где тут модель обученная на лучших значениях гиперпараметров по валидации?!"
   ]
  },
  {
   "cell_type": "markdown",
   "metadata": {},
   "source": [
    "сглупил, поправил"
   ]
  },
  {
   "cell_type": "markdown",
   "metadata": {},
   "source": [
    "<div class=\"alert alert-success\">\n",
    "<font size=\"5\"><b>Комментарий ревьюераV3</b></font>\n",
    "\n",
    "\n",
    "\n",
    "Успех 👍:\n",
    "\n",
    "\n",
    "\n",
    "👍\n",
    "\n",
    "\n",
    "\n",
    "\n",
    "</div>\n"
   ]
  },
  {
   "cell_type": "markdown",
   "metadata": {},
   "source": [
    "Окончательный вывод: наилучшие результаты показала модель случайный лес с 65 деревьями"
   ]
  },
  {
   "cell_type": "markdown",
   "metadata": {},
   "source": [
    "\n",
    "<div class=\"alert alert-danger\">\n",
    "<font size=\"5\"><b>Комментарий ревьюера</b></font>\n",
    "\n",
    "К данному этапу мы должны подойти с одной выбранной моделью. Александр, о логике использования датасетов:\n",
    "    \n",
    "\n",
    "\n",
    "Ошибка:\n",
    "\n",
    "\n",
    "1. На train мы обучаем\n",
    "2. По валидации смотрим на результаты обучения (следим чтобы не было переобучения и/или делаем подбор гиперпараметров).  И выбираем лучшую модель. \n",
    "3. Тестовая (out-of_sample) у нас для финальной проверки, когда определена модель с конкретными гиперпараметрами. Использование тестовой выборки, чтобы еще раз посмотреть на модели - это нарушение логической цепочки моделирования. \n",
    "\n",
    "А в таком виде, может сложиться впечатление что мы на тестовой по прежнему что то выбираем, но выбор сделан, и если лучшая на валидации покажет на test результат хуже требуемого, мы начнем процесс моделирования сначала.\n",
    "    \n",
    " [Вот](https://towardsdatascience.com/why-do-we-need-a-validation-set-in-addition-to-training-and-test-sets-5cf4a65550e0   ) тут можно дополнительно почитать.\n",
    "\n",
    "<div class=\"alert alert-warning\">\n",
    "   \n",
    "Совет: \n",
    "\n",
    "- Как попробовать улучшить результат, не мучаясь с кодом?! Смотри - мы сформировали train выборку на которой обучаем модель, а валидационную используем для поиска лучших значений гиперпараметров. Оке, нашли их. Так почему бы теперь модель с выбранными гиперпараметрами не обучить на тренировочной + валидационной выборке (только не нужно делать новые сплиты, используй pd.concat(), к примеру)?! Чем больше данных, тем лучше модель может обучиться. И эту дообученную модель проверим на тесте. Гаранитий что станет лучше нет, но ML это постоянные эксперименты.\n",
    "</div>\n"
   ]
  },
  {
   "cell_type": "markdown",
   "metadata": {},
   "source": [
    "<div class=\"alert alert-info\">\n",
    "<font size=\"2\">поправил и добавил ниже вариант</font>\n",
    "</div>"
   ]
  },
  {
   "cell_type": "code",
   "execution_count": 19,
   "metadata": {},
   "outputs": [],
   "source": [
    "#у меня, кстати, была переменная уже, которая состоит из тест + валид модель, называлась _hepl при делении =)\n",
    "features_new = pd.concat((features_train, features_valid), axis=0)\n",
    "target_new = pd.concat((target_train, target_valid), axis=0)"
   ]
  },
  {
   "cell_type": "markdown",
   "metadata": {},
   "source": [
    "<div class=\"alert alert-success\">\n",
    "<font size=\"5\"><b>Комментарий ревьюераV2</b></font>\n",
    "\n",
    "\n",
    "\n",
    "Успех 👍:\n",
    "\n",
    "\n",
    "\n",
    "#у меня, кстати, была переменная уже, которая состоит из тест + валид модель, называлась _hepl при делении =)\n",
    "\n",
    "Мог использовать её\n",
    "\n",
    "</div>\n"
   ]
  },
  {
   "cell_type": "code",
   "execution_count": 20,
   "metadata": {},
   "outputs": [
    {
     "name": "stdout",
     "output_type": "stream",
     "text": [
      "0.7807153965785381\n"
     ]
    }
   ],
   "source": [
    "model_new = RandomForestClassifier(random_state=12345, n_estimators=65) \n",
    "model_new.fit(features_new, target_new) \n",
    "result = model_new.score(features_test, target_test) \n",
    "print(result)"
   ]
  },
  {
   "cell_type": "markdown",
   "metadata": {},
   "source": [
    "<div class=\"alert alert-success\">\n",
    "<font size=\"5\"><b>Комментарий ревьюераV2</b></font>\n",
    "\n",
    "\n",
    "\n",
    "Успех 👍:\n",
    "\n",
    "\n",
    "\n",
    "Финт ушами не получится. Метрика не улучшилось, бывает )\n",
    "\n",
    "\n",
    "\n",
    "\n",
    "</div>\n"
   ]
  },
  {
   "cell_type": "markdown",
   "metadata": {},
   "source": [
    "Вывод: наиболее точная модель построенная по принципу \"случайный лес\", но она же и считает дольше. Разница дерева с лесом не критично высокая, поэтому если требуется посчитать как можно быстрее, то допускается использование дерево, но если приоритете на точность, то необходимо использовать модель построенную через \"случайный лес\", требуемое значение на тестовой сборке в 0.75 модель прошла"
   ]
  },
  {
   "cell_type": "code",
   "execution_count": null,
   "metadata": {},
   "outputs": [],
   "source": []
  },
  {
   "cell_type": "code",
   "execution_count": null,
   "metadata": {},
   "outputs": [],
   "source": []
  },
  {
   "cell_type": "code",
   "execution_count": null,
   "metadata": {},
   "outputs": [],
   "source": []
  },
  {
   "cell_type": "markdown",
   "metadata": {},
   "source": [
    "## (бонус) Проверьте модели на адекватность"
   ]
  },
  {
   "cell_type": "code",
   "execution_count": 21,
   "metadata": {},
   "outputs": [
    {
     "data": {
      "text/plain": [
       "0    0.693528\n",
       "1    0.306472\n",
       "Name: is_ultra, dtype: float64"
      ]
     },
     "execution_count": 21,
     "metadata": {},
     "output_type": "execute_result"
    }
   ],
   "source": [
    "# добрый день! можно подсказку, как тут делать?\n",
    "df[\"is_ultra\"].value_counts(normalize=True)\n"
   ]
  },
  {
   "cell_type": "markdown",
   "metadata": {},
   "source": [
    "Если бы наша модель предсказывала бы только всегда тариф смарт, \n",
    "то она была бы права в 69% случаев, но у нас значение выше 75%, значит относительно настолько прямолинейной модели наша адекватнее"
   ]
  },
  {
   "cell_type": "markdown",
   "metadata": {},
   "source": [
    "<div class=\"alert alert-success\">\n",
    "<font size=\"5\"><b>Комментарий ревьюераV2</b></font>\n",
    "\n",
    "\n",
    "\n",
    "Успех 👍:\n",
    "\n",
    "\n",
    "\n",
    "Всё верно\n",
    "\n",
    "\n",
    "\n",
    "С   DummyClassifier это выглядит  так:\n",
    "    \n",
    "    DummyClassifier(strategy='most_frequent', random_state=1)  \n",
    "задаем константную модель, которая будет предсказывать по most_frequent - самый частый класс\n",
    "    \n",
    "    .fit(features_train, target_train)\n",
    "тут модель смотри на самый частый класс в  target_train - типо \"обучение\"\n",
    "    \n",
    "    .predict(features_test)\n",
    "    .score(features_test, target_test)\n",
    "проогнозирует везде самый частый класс в features_test и считает score\n",
    "    \n",
    "Получаем тот же результат: acc около 69%.    \n",
    "\n",
    "\n",
    "</div>\n"
   ]
  },
  {
   "cell_type": "markdown",
   "metadata": {},
   "source": [
    "\n",
    "\n",
    "<div class=\"alert alert-warning\">\n",
    "<font size=\"5\"><b>Комментарий ревьюера</b></font>\n",
    "\n",
    "Совет:\n",
    "\n",
    "Привет )\n",
    "    \n",
    "    \n",
    "Колючевое это помнить  что у нас дисбаланс в таргете (нулей гораздно больше чем единиц) и четко понимать как считается accuracy.\n",
    "В чем смысл проверки модели на адекватность  при дисбалансе? Вот смотри - обучили мы какую то модель, которая на test показывает 90% accuraсy. Шикарная модель скажем мы. А если в датасете у нас в метках таргета единичек 99,9% (допустим тренируем на данных где 1 это \"кирпич упал на голову человеку когда он вышел из дома\"), а нулей 0,1% (\"не упал\")?! Все также утверждаем что наша модель шикарная?! Нет, потому что всегда можно предсказывать что не упадает (единички) и accuracy будет равна 99,9%\n",
    "\n",
    "Вот и тут мы сравниваем нашу обученную модель с примитивным прогнозом самого частого таргета. Какой у нас самый частый класс? Нули. Так посмотри accuracy_score target_test и ряда из одних нулей. Сколько будет?. \n",
    "\n",
    "\n",
    "    \n",
    "    \n",
    "\n",
    "При проверке на адекватность модели, рекомендую ознакомиться с [Dummy Models](https://scikit-learn.org/stable/modules/generated/sklearn.dummy.DummyClassifier.html), это удобная обертка для константных моделей и сделает тоже самое что я описал на словах\n",
    "\n",
    "</div>"
   ]
  },
  {
   "cell_type": "markdown",
   "metadata": {},
   "source": [
    "\n",
    "<div class=\"alert alert-info\">\n",
    "<font size=\"5\"><b>Комментарий ревьюера</b></font>\n",
    "\n",
    "\n",
    "\n",
    "\n",
    "Александр, у тебя старательно выполненная работа, все четко, осмысленно. Вижу у тебя получается в ML,  дальше будет интересней )  \n",
    "\n",
    "\n",
    "\n",
    "Я оставил небольшие советы и вопросики (если есть время и желание можешь воспользоваться/ответить): \n",
    "\n",
    "\n",
    "\n",
    "\n",
    "- обрати внимание на проверку сбалансированность классов в таргете в разделе EDA\n",
    "- использовать stratify\n",
    "- добавить график метрики    \n",
    "- посоветовал посмотреть в сторону GridSearchCV\n",
    "- как можно улучшить результаты \n",
    "\n",
    "\n",
    "\n",
    "Замечания на будущее:\n",
    "    \n",
    "\n",
    "- Комментарии к коду отсутствуют - коллеги могут не понять хода твоих мыслей, пока вроде код простой, но стоит держать в голове что дальше код усложнится.  \n",
    "- Было бы замечательно, в выводе немножко о данных, работе с ними (пусть даже никакой работы и не было), моделировании и полученных результатах. Это важно потому что когда проект захочет посмотреть будущий работодатель (или начальник), у него может не быть времени на подробный разбор кода. Вероятнее всего он бегло просмотрит код, а из общего вывода захочет получить представление о всей работе.\n",
    "\n",
    " \n",
    "    \n",
    "Обязательное к исправлению:\n",
    "\n",
    "\n",
    "\n",
    "- к моменту проверки качества прогноза на тесте, приходим с уже одной выбранной моделью с лучшими гиперпараметрами выбранными на валидации\n",
    "\n",
    "\n",
    "Жду исправлений, для принятия проекта. Если какие то вопросы, то сразу спрашивай ) \n",
    "\n",
    "\n",
    "\n",
    "\n",
    "\n",
    "</div>"
   ]
  },
  {
   "cell_type": "markdown",
   "metadata": {},
   "source": [
    "\n",
    "<div class=\"alert alert-info\">\n",
    "<font size=\"5\"><b>Комментарий ревьюераV2</b></font>\n",
    "\n",
    "Спасибо за работу!    \n",
    "\n",
    "\n",
    "Что осталось из красного:\n",
    "\n",
    " \n",
    "- в финальном тестировании использовал модель обученную не на лучших гиперпармутрах\n",
    "    \n",
    "    \n",
    "    \n",
    "На связи    \n",
    "</div>"
   ]
  },
  {
   "cell_type": "markdown",
   "metadata": {},
   "source": [
    "\n",
    "<div class=\"alert alert-info\">\n",
    "<font size=\"5\"><b>Комментарий ревьюераV2</b></font>\n",
    "\n",
    "Спасибо за работу!    \n",
    "\n",
    "    \n",
    "Красное исправлено, многие желтые советы использованы, на  вопросы есть ответы  (это все было по желанию), значит стремишься развиваться, а желание и интерес это главное. Надеюсь мои советы и вопросики были полезны и в копилочку знаний упало что то новое, а проект стал лучше, и симпатичней.\n",
    "\n",
    "\n",
    "\n",
    "  \n",
    "Отличная работа Александр. Желаю успехов в дальнейшей учебе!\n",
    "\n"
   ]
  },
  {
   "cell_type": "markdown",
   "metadata": {},
   "source": [
    "## Чек-лист готовности проекта"
   ]
  },
  {
   "cell_type": "markdown",
   "metadata": {},
   "source": [
    "Поставьте 'x' в выполненных пунктах. Далее нажмите Shift+Enter."
   ]
  },
  {
   "cell_type": "markdown",
   "metadata": {},
   "source": [
    "- [x] Jupyter Notebook открыт\n",
    "- [x] Весь код исполняется без ошибок\n",
    "- [x] Ячейки с кодом расположены в порядке исполнения\n",
    "- [x] Выполнено задание 1: данные загружены и изучены\n",
    "- [x] Выполнено задание 2: данные разбиты на три выборки\n",
    "- [x] Выполнено задание 3: проведено исследование моделей\n",
    "    - [x] Рассмотрено больше одной модели\n",
    "    - [x] Рассмотрено хотя бы 3 значения гипепараметров для какой-нибудь модели\n",
    "    - [x] Написаны выводы по результатам исследования\n",
    "- [x] Выполнено задание 3: Проведено тестирование\n",
    "- [x] Удалось достичь accuracy не меньше 0.75\n"
   ]
  },
  {
   "cell_type": "code",
   "execution_count": null,
   "metadata": {},
   "outputs": [],
   "source": []
  }
 ],
 "metadata": {
  "ExecuteTimeLog": [
   {
    "duration": 47,
    "start_time": "2022-12-01T08:16:24.065Z"
   },
   {
    "duration": 1545,
    "start_time": "2022-12-01T08:16:28.420Z"
   },
   {
    "duration": 76,
    "start_time": "2022-12-01T08:16:29.968Z"
   },
   {
    "duration": 78,
    "start_time": "2022-12-01T08:16:39.245Z"
   },
   {
    "duration": 13,
    "start_time": "2022-12-01T08:21:42.061Z"
   },
   {
    "duration": 14,
    "start_time": "2022-12-01T08:21:54.127Z"
   },
   {
    "duration": 11,
    "start_time": "2022-12-01T08:22:13.149Z"
   },
   {
    "duration": 3,
    "start_time": "2022-12-01T08:22:55.536Z"
   },
   {
    "duration": 7,
    "start_time": "2022-12-01T08:34:16.627Z"
   },
   {
    "duration": 5,
    "start_time": "2022-12-01T08:36:51.551Z"
   },
   {
    "duration": 4009,
    "start_time": "2022-12-01T08:53:11.247Z"
   },
   {
    "duration": 28,
    "start_time": "2022-12-01T08:54:03.218Z"
   },
   {
    "duration": 9,
    "start_time": "2022-12-01T08:55:16.865Z"
   },
   {
    "duration": 9847,
    "start_time": "2022-12-01T08:55:47.402Z"
   },
   {
    "duration": 53,
    "start_time": "2022-12-01T08:56:09.794Z"
   },
   {
    "duration": 75,
    "start_time": "2022-12-01T09:02:07.453Z"
   },
   {
    "duration": 8013,
    "start_time": "2022-12-01T09:02:12.709Z"
   },
   {
    "duration": 12,
    "start_time": "2022-12-01T09:02:38.794Z"
   },
   {
    "duration": 4,
    "start_time": "2022-12-01T09:02:47.649Z"
   },
   {
    "duration": 13,
    "start_time": "2022-12-01T09:03:10.099Z"
   },
   {
    "duration": 5,
    "start_time": "2022-12-01T09:03:17.466Z"
   },
   {
    "duration": 12,
    "start_time": "2022-12-01T09:03:26.104Z"
   },
   {
    "duration": 5,
    "start_time": "2022-12-01T09:03:40.129Z"
   },
   {
    "duration": 2268,
    "start_time": "2022-12-01T09:04:08.173Z"
   },
   {
    "duration": 6358,
    "start_time": "2022-12-01T09:07:40.689Z"
   },
   {
    "duration": 2040,
    "start_time": "2022-12-01T09:08:05.285Z"
   },
   {
    "duration": 1936,
    "start_time": "2022-12-01T09:08:10.411Z"
   },
   {
    "duration": 90633,
    "start_time": "2022-12-01T09:08:41.736Z"
   },
   {
    "duration": 2412,
    "start_time": "2022-12-01T09:10:46.068Z"
   },
   {
    "duration": 47435,
    "start_time": "2022-12-01T09:14:22.077Z"
   },
   {
    "duration": 111590,
    "start_time": "2022-12-01T09:17:30.640Z"
   },
   {
    "duration": 247,
    "start_time": "2022-12-01T09:24:52.272Z"
   },
   {
    "duration": 11,
    "start_time": "2022-12-01T09:28:44.388Z"
   },
   {
    "duration": 1408,
    "start_time": "2022-12-01T09:29:12.194Z"
   },
   {
    "duration": 30,
    "start_time": "2022-12-01T09:29:13.603Z"
   },
   {
    "duration": 17,
    "start_time": "2022-12-01T09:29:13.635Z"
   },
   {
    "duration": 11,
    "start_time": "2022-12-01T09:29:13.653Z"
   },
   {
    "duration": 8,
    "start_time": "2022-12-01T09:29:13.665Z"
   },
   {
    "duration": 7,
    "start_time": "2022-12-01T09:29:13.674Z"
   },
   {
    "duration": 12,
    "start_time": "2022-12-01T09:29:13.683Z"
   },
   {
    "duration": 13,
    "start_time": "2022-12-01T09:29:13.696Z"
   },
   {
    "duration": 7,
    "start_time": "2022-12-01T09:29:13.710Z"
   },
   {
    "duration": 18,
    "start_time": "2022-12-01T09:29:13.719Z"
   },
   {
    "duration": 8,
    "start_time": "2022-12-01T09:29:13.739Z"
   },
   {
    "duration": 19,
    "start_time": "2022-12-01T09:29:13.748Z"
   },
   {
    "duration": 9,
    "start_time": "2022-12-01T09:29:13.768Z"
   },
   {
    "duration": 116,
    "start_time": "2022-12-01T09:29:13.779Z"
   },
   {
    "duration": 0,
    "start_time": "2022-12-01T09:29:13.897Z"
   },
   {
    "duration": 0,
    "start_time": "2022-12-01T09:29:13.898Z"
   },
   {
    "duration": 3,
    "start_time": "2022-12-01T09:29:57.793Z"
   },
   {
    "duration": 1417,
    "start_time": "2022-12-01T09:30:02.938Z"
   },
   {
    "duration": 29,
    "start_time": "2022-12-01T09:30:04.357Z"
   },
   {
    "duration": 18,
    "start_time": "2022-12-01T09:30:04.387Z"
   },
   {
    "duration": 12,
    "start_time": "2022-12-01T09:30:04.406Z"
   },
   {
    "duration": 7,
    "start_time": "2022-12-01T09:30:04.420Z"
   },
   {
    "duration": 6,
    "start_time": "2022-12-01T09:30:04.429Z"
   },
   {
    "duration": 14,
    "start_time": "2022-12-01T09:30:04.437Z"
   },
   {
    "duration": 20,
    "start_time": "2022-12-01T09:30:04.453Z"
   },
   {
    "duration": 8,
    "start_time": "2022-12-01T09:30:04.475Z"
   },
   {
    "duration": 13,
    "start_time": "2022-12-01T09:30:04.484Z"
   },
   {
    "duration": 23,
    "start_time": "2022-12-01T09:30:04.499Z"
   },
   {
    "duration": 14,
    "start_time": "2022-12-01T09:30:04.524Z"
   },
   {
    "duration": 7,
    "start_time": "2022-12-01T09:30:04.539Z"
   },
   {
    "duration": 35,
    "start_time": "2022-12-01T09:30:04.548Z"
   },
   {
    "duration": 286,
    "start_time": "2022-12-01T09:30:04.585Z"
   },
   {
    "duration": 9,
    "start_time": "2022-12-01T09:30:04.872Z"
   },
   {
    "duration": 69,
    "start_time": "2022-12-01T09:33:31.653Z"
   },
   {
    "duration": 30,
    "start_time": "2022-12-01T09:33:43.306Z"
   },
   {
    "duration": 128,
    "start_time": "2022-12-01T09:33:56.632Z"
   },
   {
    "duration": 784,
    "start_time": "2022-12-01T09:33:57.706Z"
   },
   {
    "duration": 780,
    "start_time": "2022-12-01T09:39:41.034Z"
   },
   {
    "duration": 95,
    "start_time": "2022-12-01T09:40:18.410Z"
   },
   {
    "duration": 789,
    "start_time": "2022-12-01T09:40:19.057Z"
   },
   {
    "duration": 97,
    "start_time": "2022-12-01T09:40:51.091Z"
   },
   {
    "duration": 3128,
    "start_time": "2022-12-01T09:42:54.442Z"
   },
   {
    "duration": 351,
    "start_time": "2022-12-01T09:43:01.218Z"
   },
   {
    "duration": 1443,
    "start_time": "2022-12-01T09:50:44.332Z"
   },
   {
    "duration": 30,
    "start_time": "2022-12-01T09:50:45.777Z"
   },
   {
    "duration": 16,
    "start_time": "2022-12-01T09:50:45.809Z"
   },
   {
    "duration": 11,
    "start_time": "2022-12-01T09:50:45.827Z"
   },
   {
    "duration": 4,
    "start_time": "2022-12-01T09:50:45.839Z"
   },
   {
    "duration": 16,
    "start_time": "2022-12-01T09:50:45.845Z"
   },
   {
    "duration": 9,
    "start_time": "2022-12-01T09:50:45.863Z"
   },
   {
    "duration": 18,
    "start_time": "2022-12-01T09:50:45.873Z"
   },
   {
    "duration": 7,
    "start_time": "2022-12-01T09:50:45.893Z"
   },
   {
    "duration": 12,
    "start_time": "2022-12-01T09:50:45.914Z"
   },
   {
    "duration": 8,
    "start_time": "2022-12-01T09:50:45.928Z"
   },
   {
    "duration": 17,
    "start_time": "2022-12-01T09:50:45.937Z"
   },
   {
    "duration": 9,
    "start_time": "2022-12-01T09:50:45.956Z"
   },
   {
    "duration": 385,
    "start_time": "2022-12-01T09:50:45.967Z"
   },
   {
    "duration": 182,
    "start_time": "2022-12-01T09:50:46.353Z"
   },
   {
    "duration": 1008,
    "start_time": "2022-12-01T09:50:46.536Z"
   },
   {
    "duration": 3077,
    "start_time": "2022-12-01T09:50:47.545Z"
   },
   {
    "duration": 3081,
    "start_time": "2022-12-01T09:50:50.624Z"
   },
   {
    "duration": 1773,
    "start_time": "2022-12-01T09:50:53.707Z"
   },
   {
    "duration": 18630,
    "start_time": "2022-12-01T09:50:55.481Z"
   },
   {
    "duration": 116,
    "start_time": "2022-12-01T10:02:59.270Z"
   },
   {
    "duration": 16,
    "start_time": "2022-12-01T10:05:16.118Z"
   },
   {
    "duration": 18,
    "start_time": "2022-12-01T10:06:10.301Z"
   },
   {
    "duration": 246,
    "start_time": "2022-12-01T10:06:49.749Z"
   },
   {
    "duration": 255,
    "start_time": "2022-12-01T10:07:05.598Z"
   },
   {
    "duration": 2050,
    "start_time": "2022-12-01T10:56:59.674Z"
   },
   {
    "duration": 31,
    "start_time": "2022-12-01T10:57:01.726Z"
   },
   {
    "duration": 18,
    "start_time": "2022-12-01T10:57:01.759Z"
   },
   {
    "duration": 26,
    "start_time": "2022-12-01T10:57:01.779Z"
   },
   {
    "duration": 30,
    "start_time": "2022-12-01T10:57:01.807Z"
   },
   {
    "duration": 20,
    "start_time": "2022-12-01T10:57:01.838Z"
   },
   {
    "duration": 12,
    "start_time": "2022-12-01T10:57:01.860Z"
   },
   {
    "duration": 31,
    "start_time": "2022-12-01T10:57:01.873Z"
   },
   {
    "duration": 24,
    "start_time": "2022-12-01T10:57:01.906Z"
   },
   {
    "duration": 23,
    "start_time": "2022-12-01T10:57:01.936Z"
   },
   {
    "duration": 29,
    "start_time": "2022-12-01T10:57:01.961Z"
   },
   {
    "duration": 54,
    "start_time": "2022-12-01T10:57:01.992Z"
   },
   {
    "duration": 18,
    "start_time": "2022-12-01T10:57:02.048Z"
   },
   {
    "duration": 419,
    "start_time": "2022-12-01T10:57:02.067Z"
   },
   {
    "duration": 172,
    "start_time": "2022-12-01T10:57:02.488Z"
   },
   {
    "duration": 1104,
    "start_time": "2022-12-01T10:57:02.662Z"
   },
   {
    "duration": 3626,
    "start_time": "2022-12-01T10:57:03.767Z"
   },
   {
    "duration": 3511,
    "start_time": "2022-12-01T10:57:07.395Z"
   },
   {
    "duration": 7829,
    "start_time": "2022-12-01T10:57:10.909Z"
   },
   {
    "duration": 20885,
    "start_time": "2022-12-01T10:57:18.740Z"
   },
   {
    "duration": 17,
    "start_time": "2022-12-01T10:57:39.627Z"
   },
   {
    "duration": 296,
    "start_time": "2022-12-01T10:57:39.645Z"
   },
   {
    "duration": 3,
    "start_time": "2022-12-01T10:57:39.942Z"
   },
   {
    "duration": 5,
    "start_time": "2022-12-01T12:31:15.307Z"
   },
   {
    "duration": 315,
    "start_time": "2022-12-01T12:33:58.463Z"
   },
   {
    "duration": 22,
    "start_time": "2022-12-01T12:37:01.544Z"
   },
   {
    "duration": 1397,
    "start_time": "2022-12-01T12:42:52.333Z"
   },
   {
    "duration": 31,
    "start_time": "2022-12-01T12:42:53.732Z"
   },
   {
    "duration": 31,
    "start_time": "2022-12-01T12:42:53.765Z"
   },
   {
    "duration": 35,
    "start_time": "2022-12-01T12:42:53.799Z"
   },
   {
    "duration": 39,
    "start_time": "2022-12-01T12:42:53.836Z"
   },
   {
    "duration": 33,
    "start_time": "2022-12-01T12:42:53.877Z"
   },
   {
    "duration": 26,
    "start_time": "2022-12-01T12:42:53.912Z"
   },
   {
    "duration": 20,
    "start_time": "2022-12-01T12:42:53.940Z"
   },
   {
    "duration": 33,
    "start_time": "2022-12-01T12:42:53.962Z"
   },
   {
    "duration": 21,
    "start_time": "2022-12-01T12:42:53.997Z"
   },
   {
    "duration": 22,
    "start_time": "2022-12-01T12:42:54.019Z"
   },
   {
    "duration": 41,
    "start_time": "2022-12-01T12:42:54.042Z"
   },
   {
    "duration": 24,
    "start_time": "2022-12-01T12:42:54.085Z"
   },
   {
    "duration": 1001,
    "start_time": "2022-12-01T12:42:54.110Z"
   },
   {
    "duration": 18416,
    "start_time": "2022-12-01T12:42:55.113Z"
   },
   {
    "duration": 108,
    "start_time": "2022-12-01T12:43:13.531Z"
   },
   {
    "duration": 0,
    "start_time": "2022-12-01T12:43:13.641Z"
   },
   {
    "duration": 0,
    "start_time": "2022-12-01T12:43:13.642Z"
   },
   {
    "duration": 0,
    "start_time": "2022-12-01T12:43:13.643Z"
   },
   {
    "duration": 11,
    "start_time": "2022-12-01T12:45:11.073Z"
   },
   {
    "duration": 27,
    "start_time": "2022-12-01T12:46:30.682Z"
   },
   {
    "duration": 5,
    "start_time": "2022-12-01T12:46:44.427Z"
   },
   {
    "duration": 337,
    "start_time": "2022-12-01T12:46:44.864Z"
   },
   {
    "duration": 11,
    "start_time": "2022-12-01T13:15:40.419Z"
   },
   {
    "duration": 1357,
    "start_time": "2022-12-01T13:17:28.084Z"
   },
   {
    "duration": 31,
    "start_time": "2022-12-01T13:17:29.443Z"
   },
   {
    "duration": 17,
    "start_time": "2022-12-01T13:17:29.476Z"
   },
   {
    "duration": 12,
    "start_time": "2022-12-01T13:17:29.494Z"
   },
   {
    "duration": 13,
    "start_time": "2022-12-01T13:17:29.508Z"
   },
   {
    "duration": 4,
    "start_time": "2022-12-01T13:17:29.523Z"
   },
   {
    "duration": 7,
    "start_time": "2022-12-01T13:17:29.528Z"
   },
   {
    "duration": 6,
    "start_time": "2022-12-01T13:17:29.537Z"
   },
   {
    "duration": 18,
    "start_time": "2022-12-01T13:17:29.545Z"
   },
   {
    "duration": 20,
    "start_time": "2022-12-01T13:17:29.565Z"
   },
   {
    "duration": 20,
    "start_time": "2022-12-01T13:17:29.587Z"
   },
   {
    "duration": 8,
    "start_time": "2022-12-01T13:17:29.609Z"
   },
   {
    "duration": 14,
    "start_time": "2022-12-01T13:17:29.618Z"
   },
   {
    "duration": 7,
    "start_time": "2022-12-01T13:17:29.633Z"
   },
   {
    "duration": 1018,
    "start_time": "2022-12-01T13:17:29.641Z"
   },
   {
    "duration": 18525,
    "start_time": "2022-12-01T13:17:30.661Z"
   },
   {
    "duration": 39,
    "start_time": "2022-12-01T13:17:49.188Z"
   },
   {
    "duration": 4,
    "start_time": "2022-12-01T13:17:49.229Z"
   },
   {
    "duration": 111,
    "start_time": "2022-12-01T13:17:49.235Z"
   },
   {
    "duration": 0,
    "start_time": "2022-12-01T13:17:49.347Z"
   },
   {
    "duration": 354,
    "start_time": "2022-12-01T13:18:29.307Z"
   },
   {
    "duration": 8,
    "start_time": "2022-12-01T13:21:42.659Z"
   },
   {
    "duration": 18476,
    "start_time": "2022-12-01T13:29:28.085Z"
   },
   {
    "duration": 1332,
    "start_time": "2022-12-01T13:30:11.306Z"
   },
   {
    "duration": 29,
    "start_time": "2022-12-01T13:30:12.640Z"
   },
   {
    "duration": 15,
    "start_time": "2022-12-01T13:30:12.671Z"
   },
   {
    "duration": 10,
    "start_time": "2022-12-01T13:30:12.688Z"
   },
   {
    "duration": 9,
    "start_time": "2022-12-01T13:30:12.700Z"
   },
   {
    "duration": 4,
    "start_time": "2022-12-01T13:30:12.710Z"
   },
   {
    "duration": 9,
    "start_time": "2022-12-01T13:30:12.716Z"
   },
   {
    "duration": 4,
    "start_time": "2022-12-01T13:30:12.727Z"
   },
   {
    "duration": 13,
    "start_time": "2022-12-01T13:30:12.733Z"
   },
   {
    "duration": 6,
    "start_time": "2022-12-01T13:30:12.748Z"
   },
   {
    "duration": 12,
    "start_time": "2022-12-01T13:30:12.756Z"
   },
   {
    "duration": 10,
    "start_time": "2022-12-01T13:30:12.770Z"
   },
   {
    "duration": 15,
    "start_time": "2022-12-01T13:30:12.781Z"
   },
   {
    "duration": 6,
    "start_time": "2022-12-01T13:30:12.813Z"
   },
   {
    "duration": 1012,
    "start_time": "2022-12-01T13:30:12.820Z"
   },
   {
    "duration": 18643,
    "start_time": "2022-12-01T13:30:13.834Z"
   },
   {
    "duration": 26,
    "start_time": "2022-12-01T13:30:32.479Z"
   },
   {
    "duration": 5,
    "start_time": "2022-12-01T13:30:32.514Z"
   },
   {
    "duration": 340,
    "start_time": "2022-12-01T13:30:32.520Z"
   },
   {
    "duration": 7,
    "start_time": "2022-12-01T13:30:32.862Z"
   },
   {
    "duration": 53,
    "start_time": "2022-12-01T16:10:18.482Z"
   },
   {
    "duration": 1613,
    "start_time": "2022-12-01T16:10:24.576Z"
   },
   {
    "duration": 76,
    "start_time": "2022-12-01T16:10:26.191Z"
   },
   {
    "duration": 20,
    "start_time": "2022-12-01T16:10:26.269Z"
   },
   {
    "duration": 12,
    "start_time": "2022-12-01T16:10:26.291Z"
   },
   {
    "duration": 14,
    "start_time": "2022-12-01T16:10:26.305Z"
   },
   {
    "duration": 5,
    "start_time": "2022-12-01T16:10:26.324Z"
   },
   {
    "duration": 23,
    "start_time": "2022-12-01T16:10:26.331Z"
   },
   {
    "duration": 5,
    "start_time": "2022-12-01T16:10:26.356Z"
   },
   {
    "duration": 14,
    "start_time": "2022-12-01T16:10:26.363Z"
   },
   {
    "duration": 6,
    "start_time": "2022-12-01T16:10:26.380Z"
   },
   {
    "duration": 15,
    "start_time": "2022-12-01T16:10:26.387Z"
   },
   {
    "duration": 7,
    "start_time": "2022-12-01T16:10:26.404Z"
   },
   {
    "duration": 47,
    "start_time": "2022-12-01T16:10:26.412Z"
   },
   {
    "duration": 7,
    "start_time": "2022-12-01T16:10:26.461Z"
   },
   {
    "duration": 1156,
    "start_time": "2022-12-01T16:10:26.470Z"
   },
   {
    "duration": 21925,
    "start_time": "2022-12-01T16:10:27.628Z"
   },
   {
    "duration": 23,
    "start_time": "2022-12-01T16:10:49.554Z"
   },
   {
    "duration": 2523,
    "start_time": "2022-12-01T16:10:49.580Z"
   },
   {
    "duration": 761,
    "start_time": "2022-12-01T16:10:52.104Z"
   },
   {
    "duration": 10,
    "start_time": "2022-12-01T16:10:52.868Z"
   },
   {
    "duration": 3,
    "start_time": "2022-12-01T16:14:21.328Z"
   },
   {
    "duration": 204,
    "start_time": "2022-12-01T16:15:03.777Z"
   },
   {
    "duration": 14,
    "start_time": "2022-12-01T16:15:34.001Z"
   },
   {
    "duration": 17,
    "start_time": "2022-12-01T16:16:30.606Z"
   },
   {
    "duration": 2189,
    "start_time": "2022-12-01T16:44:03.112Z"
   },
   {
    "duration": 30,
    "start_time": "2022-12-01T16:44:05.303Z"
   },
   {
    "duration": 31,
    "start_time": "2022-12-01T16:44:05.335Z"
   },
   {
    "duration": 27,
    "start_time": "2022-12-01T16:44:05.368Z"
   },
   {
    "duration": 13,
    "start_time": "2022-12-01T16:44:05.397Z"
   },
   {
    "duration": 31,
    "start_time": "2022-12-01T16:44:05.411Z"
   },
   {
    "duration": 41,
    "start_time": "2022-12-01T16:44:05.443Z"
   },
   {
    "duration": 30,
    "start_time": "2022-12-01T16:44:05.485Z"
   },
   {
    "duration": 42,
    "start_time": "2022-12-01T16:44:05.517Z"
   },
   {
    "duration": 30,
    "start_time": "2022-12-01T16:44:05.562Z"
   },
   {
    "duration": 42,
    "start_time": "2022-12-01T16:44:05.594Z"
   },
   {
    "duration": 26,
    "start_time": "2022-12-01T16:44:05.637Z"
   },
   {
    "duration": 47,
    "start_time": "2022-12-01T16:44:05.664Z"
   },
   {
    "duration": 9,
    "start_time": "2022-12-01T16:44:05.712Z"
   },
   {
    "duration": 974,
    "start_time": "2022-12-01T16:44:05.722Z"
   },
   {
    "duration": 18859,
    "start_time": "2022-12-01T16:44:06.698Z"
   },
   {
    "duration": 21,
    "start_time": "2022-12-01T16:44:25.558Z"
   },
   {
    "duration": 4,
    "start_time": "2022-12-01T16:44:25.581Z"
   },
   {
    "duration": 337,
    "start_time": "2022-12-01T16:44:25.587Z"
   },
   {
    "duration": 7,
    "start_time": "2022-12-01T16:44:25.926Z"
   },
   {
    "duration": 114,
    "start_time": "2022-12-01T16:44:36.394Z"
   },
   {
    "duration": 1098,
    "start_time": "2022-12-01T16:45:19.279Z"
   }
  ],
  "kernelspec": {
   "display_name": "Python 3 (ipykernel)",
   "language": "python",
   "name": "python3"
  },
  "language_info": {
   "codemirror_mode": {
    "name": "ipython",
    "version": 3
   },
   "file_extension": ".py",
   "mimetype": "text/x-python",
   "name": "python",
   "nbconvert_exporter": "python",
   "pygments_lexer": "ipython3",
   "version": "3.9.12"
  },
  "toc": {
   "base_numbering": 1,
   "nav_menu": {},
   "number_sections": true,
   "sideBar": true,
   "skip_h1_title": true,
   "title_cell": "Table of Contents",
   "title_sidebar": "Contents",
   "toc_cell": false,
   "toc_position": {},
   "toc_section_display": true,
   "toc_window_display": false
  }
 },
 "nbformat": 4,
 "nbformat_minor": 2
}

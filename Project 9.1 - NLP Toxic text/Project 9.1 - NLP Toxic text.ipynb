{
 "cells": [
  {
   "cell_type": "markdown",
   "metadata": {
    "toc": true
   },
   "source": [
    "<h1>Содержание<span class=\"tocSkip\"></span></h1>\n",
    "<div class=\"toc\"><ul class=\"toc-item\"><li><span><a href=\"#Подготовка\" data-toc-modified-id=\"Подготовка-1\"><span class=\"toc-item-num\">1&nbsp;&nbsp;</span>Подготовка</a></span></li><li><span><a href=\"#Обучение\" data-toc-modified-id=\"Обучение-2\"><span class=\"toc-item-num\">2&nbsp;&nbsp;</span>Обучение</a></span></li><li><span><a href=\"#Выводы\" data-toc-modified-id=\"Выводы-3\"><span class=\"toc-item-num\">3&nbsp;&nbsp;</span>Выводы</a></span></li><li><span><a href=\"#Альтернативное-решиение-с-использованием-Bert\" data-toc-modified-id=\"Альтернативное-решиение-с-использованием-Bert-4\"><span class=\"toc-item-num\">4&nbsp;&nbsp;</span>Альтернативное решиение с использованием Bert</a></span></li><li><span><a href=\"#Чек-лист-проверки\" data-toc-modified-id=\"Чек-лист-проверки-5\"><span class=\"toc-item-num\">5&nbsp;&nbsp;</span>Чек-лист проверки</a></span></li></ul></div>"
   ]
  },
  {
   "cell_type": "markdown",
   "metadata": {},
   "source": [
    "# Проект для «Викишоп» - "
   ]
  },
  {
   "cell_type": "markdown",
   "metadata": {},
   "source": [
    "Интернет-магазин «Викишоп» запускает новый сервис. Теперь пользователи могут редактировать и дополнять описания товаров, как в вики-сообществах. То есть клиенты предлагают свои правки и комментируют изменения других. Магазину нужен инструмент, который будет искать токсичные комментарии и отправлять их на модерацию. \n",
    "\n",
    "Обучите модель классифицировать комментарии на позитивные и негативные. В вашем распоряжении набор данных с разметкой о токсичности правок.\n",
    "\n",
    "Постройте модель со значением метрики качества *F1* не меньше 0.75. \n",
    "\n",
    "**Инструкция по выполнению проекта**\n",
    "\n",
    "1. Загрузите и подготовьте данные.\n",
    "2. Обучите разные модели. \n",
    "3. Сделайте выводы.\n",
    "\n",
    "Для выполнения проекта применять *BERT* необязательно, но вы можете попробовать.\n",
    "\n",
    "**Описание данных**\n",
    "\n",
    "Данные находятся в файле `toxic_comments.csv`. Столбец *text* в нём содержит текст комментария, а *toxic* — целевой признак."
   ]
  },
  {
   "cell_type": "markdown",
   "metadata": {},
   "source": [
    "## Подготовка"
   ]
  },
  {
   "cell_type": "code",
   "execution_count": 1,
   "metadata": {},
   "outputs": [],
   "source": [
    "import pandas as pd\n",
    "import numpy as np\n",
    "import matplotlib.pyplot as plt\n",
    "import seaborn as sns\n",
    "\n",
    "import tqdm\n",
    "import warnings\n",
    "import re\n",
    "import nltk\n",
    "import torch\n",
    "import sys\n",
    "import spacy\n",
    "\n",
    "from sklearn.utils import resample, shuffle\n",
    "from sklearn.metrics import f1_score\n",
    "\n",
    "from nltk.tokenize import word_tokenize\n",
    "from nltk.stem import WordNetLemmatizer\n",
    "from nltk.corpus import wordnet\n",
    "\n",
    "from sklearn.model_selection import train_test_split, GridSearchCV, cross_val_score\n",
    "\n",
    "from sklearn.feature_extraction.text import CountVectorizer, TfidfVectorizer \n",
    "from nltk.corpus import stopwords as nltk_stopwords\n",
    "\n",
    "from catboost import CatBoostClassifier\n",
    "from lightgbm import LGBMClassifier\n",
    "from xgboost import XGBClassifier\n",
    "from sklearn.linear_model import LogisticRegression\n",
    "from sklearn.ensemble import RandomForestClassifier\n",
    "import transformers as ppb\n",
    "\n",
    "from sklearn.pipeline import Pipeline\n",
    "\n",
    "from tqdm.notebook import tqdm\n",
    "from wordcloud import WordCloud\n",
    "\n",
    "\n",
    "warnings.filterwarnings(\"ignore\")"
   ]
  },
  {
   "cell_type": "code",
   "execution_count": 2,
   "metadata": {},
   "outputs": [],
   "source": [
    "tqdm.pandas()"
   ]
  },
  {
   "cell_type": "code",
   "execution_count": 3,
   "metadata": {},
   "outputs": [],
   "source": [
    "try:\n",
    "    df= pd.read_csv('/datasets/toxic_comments.csv', index_col=0)\n",
    "except:\n",
    "    df=pd.read_csv('/Users/aleksandrivanov/Downloads/toxic_comments.csv', index_col=0)\n",
    "pd.set_option('display.max_columns', None)"
   ]
  },
  {
   "cell_type": "code",
   "execution_count": 5,
   "metadata": {},
   "outputs": [
    {
     "name": "stdout",
     "output_type": "stream",
     "text": [
      "<class 'pandas.core.frame.DataFrame'>\n",
      "Int64Index: 159292 entries, 0 to 159450\n",
      "Data columns (total 2 columns):\n",
      " #   Column  Non-Null Count   Dtype \n",
      "---  ------  --------------   ----- \n",
      " 0   text    159292 non-null  object\n",
      " 1   toxic   159292 non-null  int64 \n",
      "dtypes: int64(1), object(1)\n",
      "memory usage: 3.6+ MB\n"
     ]
    }
   ],
   "source": [
    "df.info()"
   ]
  },
  {
   "cell_type": "code",
   "execution_count": 7,
   "metadata": {},
   "outputs": [
    {
     "data": {
      "text/html": [
       "<div>\n",
       "<style scoped>\n",
       "    .dataframe tbody tr th:only-of-type {\n",
       "        vertical-align: middle;\n",
       "    }\n",
       "\n",
       "    .dataframe tbody tr th {\n",
       "        vertical-align: top;\n",
       "    }\n",
       "\n",
       "    .dataframe thead th {\n",
       "        text-align: right;\n",
       "    }\n",
       "</style>\n",
       "<table border=\"1\" class=\"dataframe\">\n",
       "  <thead>\n",
       "    <tr style=\"text-align: right;\">\n",
       "      <th></th>\n",
       "      <th>toxic</th>\n",
       "    </tr>\n",
       "  </thead>\n",
       "  <tbody>\n",
       "    <tr>\n",
       "      <th>count</th>\n",
       "      <td>159292.000000</td>\n",
       "    </tr>\n",
       "    <tr>\n",
       "      <th>mean</th>\n",
       "      <td>0.101612</td>\n",
       "    </tr>\n",
       "    <tr>\n",
       "      <th>std</th>\n",
       "      <td>0.302139</td>\n",
       "    </tr>\n",
       "    <tr>\n",
       "      <th>min</th>\n",
       "      <td>0.000000</td>\n",
       "    </tr>\n",
       "    <tr>\n",
       "      <th>25%</th>\n",
       "      <td>0.000000</td>\n",
       "    </tr>\n",
       "    <tr>\n",
       "      <th>50%</th>\n",
       "      <td>0.000000</td>\n",
       "    </tr>\n",
       "    <tr>\n",
       "      <th>75%</th>\n",
       "      <td>0.000000</td>\n",
       "    </tr>\n",
       "    <tr>\n",
       "      <th>max</th>\n",
       "      <td>1.000000</td>\n",
       "    </tr>\n",
       "  </tbody>\n",
       "</table>\n",
       "</div>"
      ],
      "text/plain": [
       "               toxic\n",
       "count  159292.000000\n",
       "mean        0.101612\n",
       "std         0.302139\n",
       "min         0.000000\n",
       "25%         0.000000\n",
       "50%         0.000000\n",
       "75%         0.000000\n",
       "max         1.000000"
      ]
     },
     "execution_count": 7,
     "metadata": {},
     "output_type": "execute_result"
    }
   ],
   "source": [
    "df.describe()"
   ]
  },
  {
   "cell_type": "code",
   "execution_count": 8,
   "metadata": {
    "scrolled": false
   },
   "outputs": [
    {
     "data": {
      "text/html": [
       "<div>\n",
       "<style scoped>\n",
       "    .dataframe tbody tr th:only-of-type {\n",
       "        vertical-align: middle;\n",
       "    }\n",
       "\n",
       "    .dataframe tbody tr th {\n",
       "        vertical-align: top;\n",
       "    }\n",
       "\n",
       "    .dataframe thead th {\n",
       "        text-align: right;\n",
       "    }\n",
       "</style>\n",
       "<table border=\"1\" class=\"dataframe\">\n",
       "  <thead>\n",
       "    <tr style=\"text-align: right;\">\n",
       "      <th></th>\n",
       "      <th>text</th>\n",
       "      <th>toxic</th>\n",
       "    </tr>\n",
       "  </thead>\n",
       "  <tbody>\n",
       "    <tr>\n",
       "      <th>0</th>\n",
       "      <td>Explanation\\nWhy the edits made under my usern...</td>\n",
       "      <td>0</td>\n",
       "    </tr>\n",
       "    <tr>\n",
       "      <th>1</th>\n",
       "      <td>D'aww! He matches this background colour I'm s...</td>\n",
       "      <td>0</td>\n",
       "    </tr>\n",
       "    <tr>\n",
       "      <th>2</th>\n",
       "      <td>Hey man, I'm really not trying to edit war. It...</td>\n",
       "      <td>0</td>\n",
       "    </tr>\n",
       "    <tr>\n",
       "      <th>3</th>\n",
       "      <td>\"\\nMore\\nI can't make any real suggestions on ...</td>\n",
       "      <td>0</td>\n",
       "    </tr>\n",
       "    <tr>\n",
       "      <th>4</th>\n",
       "      <td>You, sir, are my hero. Any chance you remember...</td>\n",
       "      <td>0</td>\n",
       "    </tr>\n",
       "  </tbody>\n",
       "</table>\n",
       "</div>"
      ],
      "text/plain": [
       "                                                text  toxic\n",
       "0  Explanation\\nWhy the edits made under my usern...      0\n",
       "1  D'aww! He matches this background colour I'm s...      0\n",
       "2  Hey man, I'm really not trying to edit war. It...      0\n",
       "3  \"\\nMore\\nI can't make any real suggestions on ...      0\n",
       "4  You, sir, are my hero. Any chance you remember...      0"
      ]
     },
     "execution_count": 8,
     "metadata": {},
     "output_type": "execute_result"
    }
   ],
   "source": [
    "df.head()"
   ]
  },
  {
   "cell_type": "code",
   "execution_count": 9,
   "metadata": {},
   "outputs": [
    {
     "data": {
      "image/png": "[encoded data removed]",
      "text/plain": [
       "<Figure size 640x480 with 1 Axes>"
      ]
     },
     "metadata": {},
     "output_type": "display_data"
    }
   ],
   "source": [
    "df['toxic'].hist()\n",
    "plt.show()"
   ]
  },
  {
   "cell_type": "code",
   "execution_count": 10,
   "metadata": {},
   "outputs": [
    {
     "data": {
      "text/html": [
       "<div>\n",
       "<style scoped>\n",
       "    .dataframe tbody tr th:only-of-type {\n",
       "        vertical-align: middle;\n",
       "    }\n",
       "\n",
       "    .dataframe tbody tr th {\n",
       "        vertical-align: top;\n",
       "    }\n",
       "\n",
       "    .dataframe thead th {\n",
       "        text-align: right;\n",
       "    }\n",
       "</style>\n",
       "<table border=\"1\" class=\"dataframe\">\n",
       "  <thead>\n",
       "    <tr style=\"text-align: right;\">\n",
       "      <th></th>\n",
       "      <th>text</th>\n",
       "      <th>toxic</th>\n",
       "    </tr>\n",
       "  </thead>\n",
       "  <tbody>\n",
       "    <tr>\n",
       "      <th>31069</th>\n",
       "      <td>Death year  a friend has a letter from W.D.M. ...</td>\n",
       "      <td>0</td>\n",
       "    </tr>\n",
       "    <tr>\n",
       "      <th>155102</th>\n",
       "      <td>You missed one. We can play this game all night</td>\n",
       "      <td>0</td>\n",
       "    </tr>\n",
       "    <tr>\n",
       "      <th>63484</th>\n",
       "      <td>&gt;&gt;&gt;Nijdam, let me try to turn this problem rou...</td>\n",
       "      <td>0</td>\n",
       "    </tr>\n",
       "    <tr>\n",
       "      <th>8382</th>\n",
       "      <td>Save your sarcastic little remarks DICK.  Ok D...</td>\n",
       "      <td>1</td>\n",
       "    </tr>\n",
       "    <tr>\n",
       "      <th>34775</th>\n",
       "      <td>\"On Tom Waits' \"\"Orphans\"\" album, he includes ...</td>\n",
       "      <td>0</td>\n",
       "    </tr>\n",
       "    <tr>\n",
       "      <th>29257</th>\n",
       "      <td>\"\\n\\nWhat a waffle. Yep. Its \"\"neither begets ...</td>\n",
       "      <td>0</td>\n",
       "    </tr>\n",
       "    <tr>\n",
       "      <th>30317</th>\n",
       "      <td>That's not fair. A majority of the world haven...</td>\n",
       "      <td>0</td>\n",
       "    </tr>\n",
       "    <tr>\n",
       "      <th>131392</th>\n",
       "      <td>It might do me well to think about Czech gramm...</td>\n",
       "      <td>0</td>\n",
       "    </tr>\n",
       "    <tr>\n",
       "      <th>133470</th>\n",
       "      <td>\"\\n\\nCan you upload this picture (note the Agg...</td>\n",
       "      <td>0</td>\n",
       "    </tr>\n",
       "    <tr>\n",
       "      <th>20249</th>\n",
       "      <td>yeah \\n\\nbut scientology is still a fucking jo...</td>\n",
       "      <td>1</td>\n",
       "    </tr>\n",
       "  </tbody>\n",
       "</table>\n",
       "</div>"
      ],
      "text/plain": [
       "                                                     text  toxic\n",
       "31069   Death year  a friend has a letter from W.D.M. ...      0\n",
       "155102    You missed one. We can play this game all night      0\n",
       "63484   >>>Nijdam, let me try to turn this problem rou...      0\n",
       "8382    Save your sarcastic little remarks DICK.  Ok D...      1\n",
       "34775   \"On Tom Waits' \"\"Orphans\"\" album, he includes ...      0\n",
       "29257   \"\\n\\nWhat a waffle. Yep. Its \"\"neither begets ...      0\n",
       "30317   That's not fair. A majority of the world haven...      0\n",
       "131392  It might do me well to think about Czech gramm...      0\n",
       "133470  \"\\n\\nCan you upload this picture (note the Agg...      0\n",
       "20249   yeah \\n\\nbut scientology is still a fucking jo...      1"
      ]
     },
     "execution_count": 10,
     "metadata": {},
     "output_type": "execute_result"
    }
   ],
   "source": [
    "df.sample(10)"
   ]
  },
  {
   "cell_type": "markdown",
   "metadata": {},
   "source": [
    "сильный дисбаланс, 140 тысяч против 20, надо бы исправить позже"
   ]
  },
  {
   "cell_type": "code",
   "execution_count": 11,
   "metadata": {},
   "outputs": [],
   "source": [
    "corpus = list(df['text'])"
   ]
  },
  {
   "cell_type": "code",
   "execution_count": 12,
   "metadata": {},
   "outputs": [],
   "source": [
    "def get_wordnet_pos(word):\n",
    "    \"\"\"Map POS tag to first character lemmatize() accepts\"\"\"\n",
    "    tag = nltk.pos_tag([word])[0][1][0].upper()\n",
    "    tag_dict = {\"J\": wordnet.ADJ,\n",
    "                \"N\": wordnet.NOUN,\n",
    "                \"V\": wordnet.VERB,\n",
    "                \"R\": wordnet.ADV}\n",
    "    return tag_dict.get(tag, wordnet.NOUN)"
   ]
  },
  {
   "cell_type": "code",
   "execution_count": 13,
   "metadata": {},
   "outputs": [],
   "source": [
    "def lemmatize(text): # токенизация и лемматизация\n",
    "    wnl = WordNetLemmatizer()\n",
    "    lemm_list =[wnl.lemmatize(x,get_wordnet_pos(x)) for x in text.split()]\n",
    "    lemm_text = \" \".join(lemm_list)\n",
    "    return lemm_text"
   ]
  },
  {
   "cell_type": "code",
   "execution_count": 14,
   "metadata": {},
   "outputs": [],
   "source": [
    "nlp = spacy.load(\"en_core_web_sm\")"
   ]
  },
  {
   "cell_type": "code",
   "execution_count": 15,
   "metadata": {},
   "outputs": [],
   "source": [
    "def lemmatizee(text):\n",
    "    doc = nlp(text)\n",
    "    lemm_list = [token.lemma_ for token in doc]\n",
    "    lemm_text = \" \".join(lemm_list)\n",
    "    return lemm_text"
   ]
  },
  {
   "cell_type": "code",
   "execution_count": 16,
   "metadata": {},
   "outputs": [],
   "source": [
    "def clear_text(text): #очищение текста\n",
    "    clear_text = re.sub(r\"[^a-zA-Z']\", ' ', text)\n",
    "    clear_text = \" \".join(clear_text.split())\n",
    "    return clear_text.lower()"
   ]
  },
  {
   "cell_type": "code",
   "execution_count": 17,
   "metadata": {
    "scrolled": false
   },
   "outputs": [
    {
     "name": "stdout",
     "output_type": "stream",
     "text": [
      "Очищенный и лемматизированный текст: explanation why the edit make under my username hardcore metallica fan be revert they be not vandalism just closure on some gas after I vote at new york doll fac and please do not remove the template from the talk page since I be retire now\n"
     ]
    }
   ],
   "source": [
    "print(\"Очищенный и лемматизированный текст:\", lemmatizee(clear_text(corpus[0])))"
   ]
  },
  {
   "cell_type": "code",
   "execution_count": 18,
   "metadata": {},
   "outputs": [
    {
     "data": {
      "application/vnd.jupyter.widget-view+json": {
       "model_id": "21a488c1248c44d48e4eb40a4f320703",
       "version_major": 2,
       "version_minor": 0
      },
      "text/plain": [
       "  0%|          | 0/159292 [00:00<?, ?it/s]"
      ]
     },
     "metadata": {},
     "output_type": "display_data"
    }
   ],
   "source": [
    "df['lemma_text']=df['text'].progress_apply( lambda x: lemmatizee(clear_text(x)))"
   ]
  },
  {
   "cell_type": "code",
   "execution_count": 19,
   "metadata": {
    "scrolled": true
   },
   "outputs": [
    {
     "data": {
      "text/html": [
       "<div>\n",
       "<style scoped>\n",
       "    .dataframe tbody tr th:only-of-type {\n",
       "        vertical-align: middle;\n",
       "    }\n",
       "\n",
       "    .dataframe tbody tr th {\n",
       "        vertical-align: top;\n",
       "    }\n",
       "\n",
       "    .dataframe thead th {\n",
       "        text-align: right;\n",
       "    }\n",
       "</style>\n",
       "<table border=\"1\" class=\"dataframe\">\n",
       "  <thead>\n",
       "    <tr style=\"text-align: right;\">\n",
       "      <th></th>\n",
       "      <th>text</th>\n",
       "      <th>toxic</th>\n",
       "      <th>lemma_text</th>\n",
       "    </tr>\n",
       "  </thead>\n",
       "  <tbody>\n",
       "    <tr>\n",
       "      <th>0</th>\n",
       "      <td>Explanation\\nWhy the edits made under my usern...</td>\n",
       "      <td>0</td>\n",
       "      <td>explanation why the edit make under my usernam...</td>\n",
       "    </tr>\n",
       "    <tr>\n",
       "      <th>1</th>\n",
       "      <td>D'aww! He matches this background colour I'm s...</td>\n",
       "      <td>0</td>\n",
       "      <td>d'aww he match this background colour I be see...</td>\n",
       "    </tr>\n",
       "    <tr>\n",
       "      <th>2</th>\n",
       "      <td>Hey man, I'm really not trying to edit war. It...</td>\n",
       "      <td>0</td>\n",
       "      <td>hey man I be really not try to edit war it be ...</td>\n",
       "    </tr>\n",
       "    <tr>\n",
       "      <th>3</th>\n",
       "      <td>\"\\nMore\\nI can't make any real suggestions on ...</td>\n",
       "      <td>0</td>\n",
       "      <td>more I can not make any real suggestion on imp...</td>\n",
       "    </tr>\n",
       "    <tr>\n",
       "      <th>4</th>\n",
       "      <td>You, sir, are my hero. Any chance you remember...</td>\n",
       "      <td>0</td>\n",
       "      <td>you sir be my hero any chance you remember wha...</td>\n",
       "    </tr>\n",
       "    <tr>\n",
       "      <th>...</th>\n",
       "      <td>...</td>\n",
       "      <td>...</td>\n",
       "      <td>...</td>\n",
       "    </tr>\n",
       "    <tr>\n",
       "      <th>159446</th>\n",
       "      <td>\":::::And for the second time of asking, when ...</td>\n",
       "      <td>0</td>\n",
       "      <td>and for the second time of ask when your view ...</td>\n",
       "    </tr>\n",
       "    <tr>\n",
       "      <th>159447</th>\n",
       "      <td>You should be ashamed of yourself \\n\\nThat is ...</td>\n",
       "      <td>0</td>\n",
       "      <td>you should be ashamed of yourself that be a ho...</td>\n",
       "    </tr>\n",
       "    <tr>\n",
       "      <th>159448</th>\n",
       "      <td>Spitzer \\n\\nUmm, theres no actual article for ...</td>\n",
       "      <td>0</td>\n",
       "      <td>spitzer umm there s no actual article for pros...</td>\n",
       "    </tr>\n",
       "    <tr>\n",
       "      <th>159449</th>\n",
       "      <td>And it looks like it was actually you who put ...</td>\n",
       "      <td>0</td>\n",
       "      <td>and it look like it be actually you who put on...</td>\n",
       "    </tr>\n",
       "    <tr>\n",
       "      <th>159450</th>\n",
       "      <td>\"\\nAnd ... I really don't think you understand...</td>\n",
       "      <td>0</td>\n",
       "      <td>and I really do not think you understand I com...</td>\n",
       "    </tr>\n",
       "  </tbody>\n",
       "</table>\n",
       "<p>159292 rows × 3 columns</p>\n",
       "</div>"
      ],
      "text/plain": [
       "                                                     text  toxic  \\\n",
       "0       Explanation\\nWhy the edits made under my usern...      0   \n",
       "1       D'aww! He matches this background colour I'm s...      0   \n",
       "2       Hey man, I'm really not trying to edit war. It...      0   \n",
       "3       \"\\nMore\\nI can't make any real suggestions on ...      0   \n",
       "4       You, sir, are my hero. Any chance you remember...      0   \n",
       "...                                                   ...    ...   \n",
       "159446  \":::::And for the second time of asking, when ...      0   \n",
       "159447  You should be ashamed of yourself \\n\\nThat is ...      0   \n",
       "159448  Spitzer \\n\\nUmm, theres no actual article for ...      0   \n",
       "159449  And it looks like it was actually you who put ...      0   \n",
       "159450  \"\\nAnd ... I really don't think you understand...      0   \n",
       "\n",
       "                                               lemma_text  \n",
       "0       explanation why the edit make under my usernam...  \n",
       "1       d'aww he match this background colour I be see...  \n",
       "2       hey man I be really not try to edit war it be ...  \n",
       "3       more I can not make any real suggestion on imp...  \n",
       "4       you sir be my hero any chance you remember wha...  \n",
       "...                                                   ...  \n",
       "159446  and for the second time of ask when your view ...  \n",
       "159447  you should be ashamed of yourself that be a ho...  \n",
       "159448  spitzer umm there s no actual article for pros...  \n",
       "159449  and it look like it be actually you who put on...  \n",
       "159450  and I really do not think you understand I com...  \n",
       "\n",
       "[159292 rows x 3 columns]"
      ]
     },
     "execution_count": 19,
     "metadata": {},
     "output_type": "execute_result"
    }
   ],
   "source": [
    "df"
   ]
  },
  {
   "cell_type": "code",
   "execution_count": 20,
   "metadata": {},
   "outputs": [],
   "source": [
    "%matplotlib inline\n",
    "text_help = \" \".join(df['lemma_text'])\n",
    "wordcloud = WordCloud().generate(text_help )"
   ]
  },
  {
   "cell_type": "markdown",
   "metadata": {},
   "source": [
    "<div class=\"alert alert-warning\">\n",
    "<font size=\"5\"><b>Комментарий ревьюераV2</b></font>\n",
    "\n",
    "Совет 🤔:\n",
    "\n",
    "\n",
    "\n",
    "Так ты его не вывел.  И информативнее строить отдельно для токсичных и нетоксичных\n",
    "    \n",
    "    \n",
    "    \n",
    "    !/opt/conda/bin/python -m pip install wordcloud\n",
    "    from wordcloud import WordCloud\n",
    "    import matplotlib.pyplot as plt\n",
    "\n",
    "\n",
    "    df_negative = df[df['toxic'] == 1]\n",
    "    text_cloud = ' '.join(df_negative['text'])\n",
    "    cloud = WordCloud(stopwords=stopwords, max_words=80, collocations=False).generate(text_cloud)\n",
    "    plt.figure(figsize=(12,8))\n",
    "    plt.imshow(cloud)\n",
    "    plt.axis('off')\n",
    "    plt.show()   \n",
    "\n",
    "\n",
    "\n"
   ]
  },
  {
   "cell_type": "code",
   "execution_count": 1,
   "metadata": {},
   "outputs": [
    {
     "ename": "NameError",
     "evalue": "name 'df' is not defined",
     "output_type": "error",
     "traceback": [
      "\u001b[0;31m---------------------------------------------------------------------------\u001b[0m",
      "\u001b[0;31mNameError\u001b[0m                                 Traceback (most recent call last)",
      "Cell \u001b[0;32mIn[1], line 1\u001b[0m\n\u001b[0;32m----> 1\u001b[0m df_negative \u001b[38;5;241m=\u001b[39m \u001b[43mdf\u001b[49m[df[\u001b[38;5;124m'\u001b[39m\u001b[38;5;124mtoxic\u001b[39m\u001b[38;5;124m'\u001b[39m] \u001b[38;5;241m==\u001b[39m \u001b[38;5;241m1\u001b[39m]\n\u001b[1;32m      2\u001b[0m text_cloud \u001b[38;5;241m=\u001b[39m \u001b[38;5;124m'\u001b[39m\u001b[38;5;124m \u001b[39m\u001b[38;5;124m'\u001b[39m\u001b[38;5;241m.\u001b[39mjoin(df_negative[\u001b[38;5;124m'\u001b[39m\u001b[38;5;124mtext\u001b[39m\u001b[38;5;124m'\u001b[39m])\n\u001b[1;32m      3\u001b[0m cloud \u001b[38;5;241m=\u001b[39m WordCloud(stopwords\u001b[38;5;241m=\u001b[39mstopwords, max_words\u001b[38;5;241m=\u001b[39m\u001b[38;5;241m80\u001b[39m, collocations\u001b[38;5;241m=\u001b[39m\u001b[38;5;28;01mFalse\u001b[39;00m)\u001b[38;5;241m.\u001b[39mgenerate(text_cloud)\n",
      "\u001b[0;31mNameError\u001b[0m: name 'df' is not defined"
     ]
    }
   ],
   "source": [
    "df_negative = df[df['toxic'] == 1]\n",
    "text_cloud = ' '.join(df_negative['text'])\n",
    "cloud = WordCloud(stopwords=stopwords, max_words=80, collocations=False).generate(text_cloud)\n",
    "plt.figure(figsize=(12,8))\n",
    "plt.imshow(cloud)\n",
    "plt.axis('off')\n",
    "plt.show() "
   ]
  },
  {
   "cell_type": "code",
   "execution_count": null,
   "metadata": {},
   "outputs": [],
   "source": [
    "lemma_text"
   ]
  },
  {
   "cell_type": "code",
   "execution_count": 21,
   "metadata": {},
   "outputs": [],
   "source": [
    "features = df.drop(['toxic'], axis=1)\n",
    "target = df['toxic']"
   ]
  },
  {
   "cell_type": "code",
   "execution_count": 22,
   "metadata": {},
   "outputs": [],
   "source": [
    "features_train, features_test, target_train, target_test = train_test_split(\n",
    "    features, target, test_size=0.2, random_state=12345, stratify = target)"
   ]
  },
  {
   "cell_type": "code",
   "execution_count": 23,
   "metadata": {},
   "outputs": [
    {
     "name": "stderr",
     "output_type": "stream",
     "text": [
      "[nltk_data] Downloading package stopwords to\n",
      "[nltk_data]     /Users/aleksandrivanov/nltk_data...\n",
      "[nltk_data]   Package stopwords is already up-to-date!\n"
     ]
    },
    {
     "name": "stdout",
     "output_type": "stream",
     "text": [
      "Размер матрицы: (127433, 133217)\n"
     ]
    }
   ],
   "source": [
    "corpus = features_train['lemma_text'].values\n",
    "\n",
    "nltk.download('stopwords')\n",
    "stopwords = set(nltk_stopwords.words('english'))\n",
    "count_tf_idf = TfidfVectorizer(stop_words=list(stopwords)) \n",
    "tf_idf = count_tf_idf.fit_transform(corpus)\n",
    "\n",
    "print(\"Размер матрицы:\", tf_idf.shape)"
   ]
  },
  {
   "cell_type": "markdown",
   "metadata": {},
   "source": [
    "## Обучение"
   ]
  },
  {
   "cell_type": "markdown",
   "metadata": {},
   "source": [
    " попробуем нашу модель на логистической регрессии"
   ]
  },
  {
   "cell_type": "code",
   "execution_count": 25,
   "metadata": {
    "scrolled": true
   },
   "outputs": [
    {
     "name": "stdout",
     "output_type": "stream",
     "text": [
      "CPU times: user 10.6 s, sys: 2.69 s, total: 13.3 s\n",
      "Wall time: 48.1 s\n"
     ]
    },
    {
     "data": {
      "text/html": [
       "<style>#sk-container-id-1 {color: black;background-color: white;}#sk-container-id-1 pre{padding: 0;}#sk-container-id-1 div.sk-toggleable {background-color: white;}#sk-container-id-1 label.sk-toggleable__label {cursor: pointer;display: block;width: 100%;margin-bottom: 0;padding: 0.3em;box-sizing: border-box;text-align: center;}#sk-container-id-1 label.sk-toggleable__label-arrow:before {content: \"▸\";float: left;margin-right: 0.25em;color: #696969;}#sk-container-id-1 label.sk-toggleable__label-arrow:hover:before {color: black;}#sk-container-id-1 div.sk-estimator:hover label.sk-toggleable__label-arrow:before {color: black;}#sk-container-id-1 div.sk-toggleable__content {max-height: 0;max-width: 0;overflow: hidden;text-align: left;background-color: #f0f8ff;}#sk-container-id-1 div.sk-toggleable__content pre {margin: 0.2em;color: black;border-radius: 0.25em;background-color: #f0f8ff;}#sk-container-id-1 input.sk-toggleable__control:checked~div.sk-toggleable__content {max-height: 200px;max-width: 100%;overflow: auto;}#sk-container-id-1 input.sk-toggleable__control:checked~label.sk-toggleable__label-arrow:before {content: \"▾\";}#sk-container-id-1 div.sk-estimator input.sk-toggleable__control:checked~label.sk-toggleable__label {background-color: #d4ebff;}#sk-container-id-1 div.sk-label input.sk-toggleable__control:checked~label.sk-toggleable__label {background-color: #d4ebff;}#sk-container-id-1 input.sk-hidden--visually {border: 0;clip: rect(1px 1px 1px 1px);clip: rect(1px, 1px, 1px, 1px);height: 1px;margin: -1px;overflow: hidden;padding: 0;position: absolute;width: 1px;}#sk-container-id-1 div.sk-estimator {font-family: monospace;background-color: #f0f8ff;border: 1px dotted black;border-radius: 0.25em;box-sizing: border-box;margin-bottom: 0.5em;}#sk-container-id-1 div.sk-estimator:hover {background-color: #d4ebff;}#sk-container-id-1 div.sk-parallel-item::after {content: \"\";width: 100%;border-bottom: 1px solid gray;flex-grow: 1;}#sk-container-id-1 div.sk-label:hover label.sk-toggleable__label {background-color: #d4ebff;}#sk-container-id-1 div.sk-serial::before {content: \"\";position: absolute;border-left: 1px solid gray;box-sizing: border-box;top: 0;bottom: 0;left: 50%;z-index: 0;}#sk-container-id-1 div.sk-serial {display: flex;flex-direction: column;align-items: center;background-color: white;padding-right: 0.2em;padding-left: 0.2em;position: relative;}#sk-container-id-1 div.sk-item {position: relative;z-index: 1;}#sk-container-id-1 div.sk-parallel {display: flex;align-items: stretch;justify-content: center;background-color: white;position: relative;}#sk-container-id-1 div.sk-item::before, #sk-container-id-1 div.sk-parallel-item::before {content: \"\";position: absolute;border-left: 1px solid gray;box-sizing: border-box;top: 0;bottom: 0;left: 50%;z-index: -1;}#sk-container-id-1 div.sk-parallel-item {display: flex;flex-direction: column;z-index: 1;position: relative;background-color: white;}#sk-container-id-1 div.sk-parallel-item:first-child::after {align-self: flex-end;width: 50%;}#sk-container-id-1 div.sk-parallel-item:last-child::after {align-self: flex-start;width: 50%;}#sk-container-id-1 div.sk-parallel-item:only-child::after {width: 0;}#sk-container-id-1 div.sk-dashed-wrapped {border: 1px dashed gray;margin: 0 0.4em 0.5em 0.4em;box-sizing: border-box;padding-bottom: 0.4em;background-color: white;}#sk-container-id-1 div.sk-label label {font-family: monospace;font-weight: bold;display: inline-block;line-height: 1.2em;}#sk-container-id-1 div.sk-label-container {text-align: center;}#sk-container-id-1 div.sk-container {/* jupyter's `normalize.less` sets `[hidden] { display: none; }` but bootstrap.min.css set `[hidden] { display: none !important; }` so we also need the `!important` here to be able to override the default hidden behavior on the sphinx rendered scikit-learn.org. See: https://github.com/scikit-learn/scikit-learn/issues/21755 */display: inline-block !important;position: relative;}#sk-container-id-1 div.sk-text-repr-fallback {display: none;}</style><div id=\"sk-container-id-1\" class=\"sk-top-container\"><div class=\"sk-text-repr-fallback\"><pre>GridSearchCV(cv=5,\n",
       "             estimator=Pipeline(steps=[(&#x27;tfidf&#x27;,\n",
       "                                        TfidfVectorizer(stop_words=[&#x27;you&#x27;,\n",
       "                                                                    &#x27;isn&#x27;, &#x27;if&#x27;,\n",
       "                                                                    &#x27;itself&#x27;,\n",
       "                                                                    &#x27;his&#x27;,\n",
       "                                                                    &quot;couldn&#x27;t&quot;,\n",
       "                                                                    &#x27;hers&#x27;,\n",
       "                                                                    &#x27;into&#x27;,\n",
       "                                                                    &#x27;ve&#x27;,\n",
       "                                                                    &quot;you&#x27;d&quot;,\n",
       "                                                                    &#x27;shouldn&#x27;,\n",
       "                                                                    &quot;she&#x27;s&quot;,\n",
       "                                                                    &#x27;myself&#x27;,\n",
       "                                                                    &#x27;couldn&#x27;,\n",
       "                                                                    &#x27;these&#x27;,\n",
       "                                                                    &#x27;in&#x27;,\n",
       "                                                                    &#x27;than&#x27;,\n",
       "                                                                    &#x27;too&#x27;,\n",
       "                                                                    &#x27;what&#x27;,\n",
       "                                                                    &#x27;ourselves&#x27;,\n",
       "                                                                    &#x27;having&#x27;,\n",
       "                                                                    &#x27;mustn&#x27;,\n",
       "                                                                    &quot;needn&#x27;t&quot;,\n",
       "                                                                    &#x27;to&#x27;, &#x27;any&#x27;,\n",
       "                                                                    &#x27;off&#x27;, &#x27;no&#x27;,\n",
       "                                                                    &#x27;all&#x27;,\n",
       "                                                                    &#x27;very&#x27;,\n",
       "                                                                    &#x27;own&#x27;, ...])),\n",
       "                                       (&#x27;model&#x27;,\n",
       "                                        LogisticRegression(max_iter=1000,\n",
       "                                                           random_state=12345))]),\n",
       "             n_jobs=-1,\n",
       "             param_grid={&#x27;model__C&#x27;: [0.01, 0.05, 0.1, 0.5, 1, 5, 10],\n",
       "                         &#x27;model__penalty&#x27;: [&#x27;l1&#x27;, &#x27;l2&#x27;]},\n",
       "             scoring=&#x27;f1&#x27;)</pre><b>In a Jupyter environment, please rerun this cell to show the HTML representation or trust the notebook. <br />On GitHub, the HTML representation is unable to render, please try loading this page with nbviewer.org.</b></div><div class=\"sk-container\" hidden><div class=\"sk-item sk-dashed-wrapped\"><div class=\"sk-label-container\"><div class=\"sk-label sk-toggleable\"><input class=\"sk-toggleable__control sk-hidden--visually\" id=\"sk-estimator-id-1\" type=\"checkbox\" ><label for=\"sk-estimator-id-1\" class=\"sk-toggleable__label sk-toggleable__label-arrow\">GridSearchCV</label><div class=\"sk-toggleable__content\"><pre>GridSearchCV(cv=5,\n",
       "             estimator=Pipeline(steps=[(&#x27;tfidf&#x27;,\n",
       "                                        TfidfVectorizer(stop_words=[&#x27;you&#x27;,\n",
       "                                                                    &#x27;isn&#x27;, &#x27;if&#x27;,\n",
       "                                                                    &#x27;itself&#x27;,\n",
       "                                                                    &#x27;his&#x27;,\n",
       "                                                                    &quot;couldn&#x27;t&quot;,\n",
       "                                                                    &#x27;hers&#x27;,\n",
       "                                                                    &#x27;into&#x27;,\n",
       "                                                                    &#x27;ve&#x27;,\n",
       "                                                                    &quot;you&#x27;d&quot;,\n",
       "                                                                    &#x27;shouldn&#x27;,\n",
       "                                                                    &quot;she&#x27;s&quot;,\n",
       "                                                                    &#x27;myself&#x27;,\n",
       "                                                                    &#x27;couldn&#x27;,\n",
       "                                                                    &#x27;these&#x27;,\n",
       "                                                                    &#x27;in&#x27;,\n",
       "                                                                    &#x27;than&#x27;,\n",
       "                                                                    &#x27;too&#x27;,\n",
       "                                                                    &#x27;what&#x27;,\n",
       "                                                                    &#x27;ourselves&#x27;,\n",
       "                                                                    &#x27;having&#x27;,\n",
       "                                                                    &#x27;mustn&#x27;,\n",
       "                                                                    &quot;needn&#x27;t&quot;,\n",
       "                                                                    &#x27;to&#x27;, &#x27;any&#x27;,\n",
       "                                                                    &#x27;off&#x27;, &#x27;no&#x27;,\n",
       "                                                                    &#x27;all&#x27;,\n",
       "                                                                    &#x27;very&#x27;,\n",
       "                                                                    &#x27;own&#x27;, ...])),\n",
       "                                       (&#x27;model&#x27;,\n",
       "                                        LogisticRegression(max_iter=1000,\n",
       "                                                           random_state=12345))]),\n",
       "             n_jobs=-1,\n",
       "             param_grid={&#x27;model__C&#x27;: [0.01, 0.05, 0.1, 0.5, 1, 5, 10],\n",
       "                         &#x27;model__penalty&#x27;: [&#x27;l1&#x27;, &#x27;l2&#x27;]},\n",
       "             scoring=&#x27;f1&#x27;)</pre></div></div></div><div class=\"sk-parallel\"><div class=\"sk-parallel-item\"><div class=\"sk-item\"><div class=\"sk-label-container\"><div class=\"sk-label sk-toggleable\"><input class=\"sk-toggleable__control sk-hidden--visually\" id=\"sk-estimator-id-2\" type=\"checkbox\" ><label for=\"sk-estimator-id-2\" class=\"sk-toggleable__label sk-toggleable__label-arrow\">estimator: Pipeline</label><div class=\"sk-toggleable__content\"><pre>Pipeline(steps=[(&#x27;tfidf&#x27;,\n",
       "                 TfidfVectorizer(stop_words=[&#x27;you&#x27;, &#x27;isn&#x27;, &#x27;if&#x27;, &#x27;itself&#x27;,\n",
       "                                             &#x27;his&#x27;, &quot;couldn&#x27;t&quot;, &#x27;hers&#x27;, &#x27;into&#x27;,\n",
       "                                             &#x27;ve&#x27;, &quot;you&#x27;d&quot;, &#x27;shouldn&#x27;, &quot;she&#x27;s&quot;,\n",
       "                                             &#x27;myself&#x27;, &#x27;couldn&#x27;, &#x27;these&#x27;, &#x27;in&#x27;,\n",
       "                                             &#x27;than&#x27;, &#x27;too&#x27;, &#x27;what&#x27;, &#x27;ourselves&#x27;,\n",
       "                                             &#x27;having&#x27;, &#x27;mustn&#x27;, &quot;needn&#x27;t&quot;, &#x27;to&#x27;,\n",
       "                                             &#x27;any&#x27;, &#x27;off&#x27;, &#x27;no&#x27;, &#x27;all&#x27;, &#x27;very&#x27;,\n",
       "                                             &#x27;own&#x27;, ...])),\n",
       "                (&#x27;model&#x27;,\n",
       "                 LogisticRegression(max_iter=1000, random_state=12345))])</pre></div></div></div><div class=\"sk-serial\"><div class=\"sk-item\"><div class=\"sk-serial\"><div class=\"sk-item\"><div class=\"sk-estimator sk-toggleable\"><input class=\"sk-toggleable__control sk-hidden--visually\" id=\"sk-estimator-id-3\" type=\"checkbox\" ><label for=\"sk-estimator-id-3\" class=\"sk-toggleable__label sk-toggleable__label-arrow\">TfidfVectorizer</label><div class=\"sk-toggleable__content\"><pre>TfidfVectorizer(stop_words=[&#x27;you&#x27;, &#x27;isn&#x27;, &#x27;if&#x27;, &#x27;itself&#x27;, &#x27;his&#x27;, &quot;couldn&#x27;t&quot;,\n",
       "                            &#x27;hers&#x27;, &#x27;into&#x27;, &#x27;ve&#x27;, &quot;you&#x27;d&quot;, &#x27;shouldn&#x27;, &quot;she&#x27;s&quot;,\n",
       "                            &#x27;myself&#x27;, &#x27;couldn&#x27;, &#x27;these&#x27;, &#x27;in&#x27;, &#x27;than&#x27;, &#x27;too&#x27;,\n",
       "                            &#x27;what&#x27;, &#x27;ourselves&#x27;, &#x27;having&#x27;, &#x27;mustn&#x27;, &quot;needn&#x27;t&quot;,\n",
       "                            &#x27;to&#x27;, &#x27;any&#x27;, &#x27;off&#x27;, &#x27;no&#x27;, &#x27;all&#x27;, &#x27;very&#x27;, &#x27;own&#x27;, ...])</pre></div></div></div><div class=\"sk-item\"><div class=\"sk-estimator sk-toggleable\"><input class=\"sk-toggleable__control sk-hidden--visually\" id=\"sk-estimator-id-4\" type=\"checkbox\" ><label for=\"sk-estimator-id-4\" class=\"sk-toggleable__label sk-toggleable__label-arrow\">LogisticRegression</label><div class=\"sk-toggleable__content\"><pre>LogisticRegression(max_iter=1000, random_state=12345)</pre></div></div></div></div></div></div></div></div></div></div></div></div>"
      ],
      "text/plain": [
       "GridSearchCV(cv=5,\n",
       "             estimator=Pipeline(steps=[('tfidf',\n",
       "                                        TfidfVectorizer(stop_words=['you',\n",
       "                                                                    'isn', 'if',\n",
       "                                                                    'itself',\n",
       "                                                                    'his',\n",
       "                                                                    \"couldn't\",\n",
       "                                                                    'hers',\n",
       "                                                                    'into',\n",
       "                                                                    've',\n",
       "                                                                    \"you'd\",\n",
       "                                                                    'shouldn',\n",
       "                                                                    \"she's\",\n",
       "                                                                    'myself',\n",
       "                                                                    'couldn',\n",
       "                                                                    'these',\n",
       "                                                                    'in',\n",
       "                                                                    'than',\n",
       "                                                                    'too',\n",
       "                                                                    'what',\n",
       "                                                                    'ourselves',\n",
       "                                                                    'having',\n",
       "                                                                    'mustn',\n",
       "                                                                    \"needn't\",\n",
       "                                                                    'to', 'any',\n",
       "                                                                    'off', 'no',\n",
       "                                                                    'all',\n",
       "                                                                    'very',\n",
       "                                                                    'own', ...])),\n",
       "                                       ('model',\n",
       "                                        LogisticRegression(max_iter=1000,\n",
       "                                                           random_state=12345))]),\n",
       "             n_jobs=-1,\n",
       "             param_grid={'model__C': [0.01, 0.05, 0.1, 0.5, 1, 5, 10],\n",
       "                         'model__penalty': ['l1', 'l2']},\n",
       "             scoring='f1')"
      ]
     },
     "execution_count": 25,
     "metadata": {},
     "output_type": "execute_result"
    }
   ],
   "source": [
    "%%time\n",
    "params={'model__C':[.01,.05,.1,.5,1,5,10],\n",
    "           'model__penalty':['l1','l2']}\n",
    "pipeline = Pipeline([\n",
    "    ('tfidf', TfidfVectorizer(stop_words=list(stopwords))),\n",
    "    ('model',LogisticRegression(max_iter = 1000, random_state = 12345))])\n",
    "grid_log = GridSearchCV(pipeline, cv=5, n_jobs=-1, param_grid=params ,scoring='f1')\n",
    "grid_log.fit(features_train['lemma_text'], target_train)"
   ]
  },
  {
   "cell_type": "code",
   "execution_count": 26,
   "metadata": {},
   "outputs": [
    {
     "name": "stdout",
     "output_type": "stream",
     "text": [
      "0.7768952556586477\n"
     ]
    }
   ],
   "source": [
    "print(grid_log.best_score_)"
   ]
  },
  {
   "cell_type": "markdown",
   "metadata": {},
   "source": [
    "попробуем деревянную модель "
   ]
  },
  {
   "cell_type": "code",
   "execution_count": 28,
   "metadata": {},
   "outputs": [],
   "source": [
    "parameters_fr = {'max_depth' : range(1,9),\n",
    "                'n_estimators': range(1, 40)} #я понимаю, что это не лес, а опушка какая-то, но очень долго считает"
   ]
  },
  {
   "cell_type": "code",
   "execution_count": 30,
   "metadata": {},
   "outputs": [
    {
     "name": "stdout",
     "output_type": "stream",
     "text": [
      "CPU times: user 10.2 s, sys: 4.01 s, total: 14.2 s\n",
      "Wall time: 2min 8s\n"
     ]
    },
    {
     "data": {
      "text/html": [
       "<style>#sk-container-id-2 {color: black;background-color: white;}#sk-container-id-2 pre{padding: 0;}#sk-container-id-2 div.sk-toggleable {background-color: white;}#sk-container-id-2 label.sk-toggleable__label {cursor: pointer;display: block;width: 100%;margin-bottom: 0;padding: 0.3em;box-sizing: border-box;text-align: center;}#sk-container-id-2 label.sk-toggleable__label-arrow:before {content: \"▸\";float: left;margin-right: 0.25em;color: #696969;}#sk-container-id-2 label.sk-toggleable__label-arrow:hover:before {color: black;}#sk-container-id-2 div.sk-estimator:hover label.sk-toggleable__label-arrow:before {color: black;}#sk-container-id-2 div.sk-toggleable__content {max-height: 0;max-width: 0;overflow: hidden;text-align: left;background-color: #f0f8ff;}#sk-container-id-2 div.sk-toggleable__content pre {margin: 0.2em;color: black;border-radius: 0.25em;background-color: #f0f8ff;}#sk-container-id-2 input.sk-toggleable__control:checked~div.sk-toggleable__content {max-height: 200px;max-width: 100%;overflow: auto;}#sk-container-id-2 input.sk-toggleable__control:checked~label.sk-toggleable__label-arrow:before {content: \"▾\";}#sk-container-id-2 div.sk-estimator input.sk-toggleable__control:checked~label.sk-toggleable__label {background-color: #d4ebff;}#sk-container-id-2 div.sk-label input.sk-toggleable__control:checked~label.sk-toggleable__label {background-color: #d4ebff;}#sk-container-id-2 input.sk-hidden--visually {border: 0;clip: rect(1px 1px 1px 1px);clip: rect(1px, 1px, 1px, 1px);height: 1px;margin: -1px;overflow: hidden;padding: 0;position: absolute;width: 1px;}#sk-container-id-2 div.sk-estimator {font-family: monospace;background-color: #f0f8ff;border: 1px dotted black;border-radius: 0.25em;box-sizing: border-box;margin-bottom: 0.5em;}#sk-container-id-2 div.sk-estimator:hover {background-color: #d4ebff;}#sk-container-id-2 div.sk-parallel-item::after {content: \"\";width: 100%;border-bottom: 1px solid gray;flex-grow: 1;}#sk-container-id-2 div.sk-label:hover label.sk-toggleable__label {background-color: #d4ebff;}#sk-container-id-2 div.sk-serial::before {content: \"\";position: absolute;border-left: 1px solid gray;box-sizing: border-box;top: 0;bottom: 0;left: 50%;z-index: 0;}#sk-container-id-2 div.sk-serial {display: flex;flex-direction: column;align-items: center;background-color: white;padding-right: 0.2em;padding-left: 0.2em;position: relative;}#sk-container-id-2 div.sk-item {position: relative;z-index: 1;}#sk-container-id-2 div.sk-parallel {display: flex;align-items: stretch;justify-content: center;background-color: white;position: relative;}#sk-container-id-2 div.sk-item::before, #sk-container-id-2 div.sk-parallel-item::before {content: \"\";position: absolute;border-left: 1px solid gray;box-sizing: border-box;top: 0;bottom: 0;left: 50%;z-index: -1;}#sk-container-id-2 div.sk-parallel-item {display: flex;flex-direction: column;z-index: 1;position: relative;background-color: white;}#sk-container-id-2 div.sk-parallel-item:first-child::after {align-self: flex-end;width: 50%;}#sk-container-id-2 div.sk-parallel-item:last-child::after {align-self: flex-start;width: 50%;}#sk-container-id-2 div.sk-parallel-item:only-child::after {width: 0;}#sk-container-id-2 div.sk-dashed-wrapped {border: 1px dashed gray;margin: 0 0.4em 0.5em 0.4em;box-sizing: border-box;padding-bottom: 0.4em;background-color: white;}#sk-container-id-2 div.sk-label label {font-family: monospace;font-weight: bold;display: inline-block;line-height: 1.2em;}#sk-container-id-2 div.sk-label-container {text-align: center;}#sk-container-id-2 div.sk-container {/* jupyter's `normalize.less` sets `[hidden] { display: none; }` but bootstrap.min.css set `[hidden] { display: none !important; }` so we also need the `!important` here to be able to override the default hidden behavior on the sphinx rendered scikit-learn.org. See: https://github.com/scikit-learn/scikit-learn/issues/21755 */display: inline-block !important;position: relative;}#sk-container-id-2 div.sk-text-repr-fallback {display: none;}</style><div id=\"sk-container-id-2\" class=\"sk-top-container\"><div class=\"sk-text-repr-fallback\"><pre>GridSearchCV(cv=3,\n",
       "             estimator=Pipeline(steps=[(&#x27;tfidf&#x27;,\n",
       "                                        TfidfVectorizer(stop_words=[&#x27;you&#x27;,\n",
       "                                                                    &#x27;isn&#x27;, &#x27;if&#x27;,\n",
       "                                                                    &#x27;itself&#x27;,\n",
       "                                                                    &#x27;his&#x27;,\n",
       "                                                                    &quot;couldn&#x27;t&quot;,\n",
       "                                                                    &#x27;hers&#x27;,\n",
       "                                                                    &#x27;into&#x27;,\n",
       "                                                                    &#x27;ve&#x27;,\n",
       "                                                                    &quot;you&#x27;d&quot;,\n",
       "                                                                    &#x27;shouldn&#x27;,\n",
       "                                                                    &quot;she&#x27;s&quot;,\n",
       "                                                                    &#x27;myself&#x27;,\n",
       "                                                                    &#x27;couldn&#x27;,\n",
       "                                                                    &#x27;these&#x27;,\n",
       "                                                                    &#x27;in&#x27;,\n",
       "                                                                    &#x27;than&#x27;,\n",
       "                                                                    &#x27;too&#x27;,\n",
       "                                                                    &#x27;what&#x27;,\n",
       "                                                                    &#x27;ourselves&#x27;,\n",
       "                                                                    &#x27;having&#x27;,\n",
       "                                                                    &#x27;mustn&#x27;,\n",
       "                                                                    &quot;needn&#x27;t&quot;,\n",
       "                                                                    &#x27;to&#x27;, &#x27;any&#x27;,\n",
       "                                                                    &#x27;off&#x27;, &#x27;no&#x27;,\n",
       "                                                                    &#x27;all&#x27;,\n",
       "                                                                    &#x27;very&#x27;,\n",
       "                                                                    &#x27;own&#x27;, ...])),\n",
       "                                       (&#x27;rt&#x27;,\n",
       "                                        RandomForestClassifier(class_weight=&#x27;balanced&#x27;,\n",
       "                                                               random_state=12345))]),\n",
       "             n_jobs=-1,\n",
       "             param_grid={&#x27;rt__max_depth&#x27;: range(7, 12),\n",
       "                         &#x27;rt__n_estimators&#x27;: range(35, 50)},\n",
       "             scoring=&#x27;f1&#x27;)</pre><b>In a Jupyter environment, please rerun this cell to show the HTML representation or trust the notebook. <br />On GitHub, the HTML representation is unable to render, please try loading this page with nbviewer.org.</b></div><div class=\"sk-container\" hidden><div class=\"sk-item sk-dashed-wrapped\"><div class=\"sk-label-container\"><div class=\"sk-label sk-toggleable\"><input class=\"sk-toggleable__control sk-hidden--visually\" id=\"sk-estimator-id-5\" type=\"checkbox\" ><label for=\"sk-estimator-id-5\" class=\"sk-toggleable__label sk-toggleable__label-arrow\">GridSearchCV</label><div class=\"sk-toggleable__content\"><pre>GridSearchCV(cv=3,\n",
       "             estimator=Pipeline(steps=[(&#x27;tfidf&#x27;,\n",
       "                                        TfidfVectorizer(stop_words=[&#x27;you&#x27;,\n",
       "                                                                    &#x27;isn&#x27;, &#x27;if&#x27;,\n",
       "                                                                    &#x27;itself&#x27;,\n",
       "                                                                    &#x27;his&#x27;,\n",
       "                                                                    &quot;couldn&#x27;t&quot;,\n",
       "                                                                    &#x27;hers&#x27;,\n",
       "                                                                    &#x27;into&#x27;,\n",
       "                                                                    &#x27;ve&#x27;,\n",
       "                                                                    &quot;you&#x27;d&quot;,\n",
       "                                                                    &#x27;shouldn&#x27;,\n",
       "                                                                    &quot;she&#x27;s&quot;,\n",
       "                                                                    &#x27;myself&#x27;,\n",
       "                                                                    &#x27;couldn&#x27;,\n",
       "                                                                    &#x27;these&#x27;,\n",
       "                                                                    &#x27;in&#x27;,\n",
       "                                                                    &#x27;than&#x27;,\n",
       "                                                                    &#x27;too&#x27;,\n",
       "                                                                    &#x27;what&#x27;,\n",
       "                                                                    &#x27;ourselves&#x27;,\n",
       "                                                                    &#x27;having&#x27;,\n",
       "                                                                    &#x27;mustn&#x27;,\n",
       "                                                                    &quot;needn&#x27;t&quot;,\n",
       "                                                                    &#x27;to&#x27;, &#x27;any&#x27;,\n",
       "                                                                    &#x27;off&#x27;, &#x27;no&#x27;,\n",
       "                                                                    &#x27;all&#x27;,\n",
       "                                                                    &#x27;very&#x27;,\n",
       "                                                                    &#x27;own&#x27;, ...])),\n",
       "                                       (&#x27;rt&#x27;,\n",
       "                                        RandomForestClassifier(class_weight=&#x27;balanced&#x27;,\n",
       "                                                               random_state=12345))]),\n",
       "             n_jobs=-1,\n",
       "             param_grid={&#x27;rt__max_depth&#x27;: range(7, 12),\n",
       "                         &#x27;rt__n_estimators&#x27;: range(35, 50)},\n",
       "             scoring=&#x27;f1&#x27;)</pre></div></div></div><div class=\"sk-parallel\"><div class=\"sk-parallel-item\"><div class=\"sk-item\"><div class=\"sk-label-container\"><div class=\"sk-label sk-toggleable\"><input class=\"sk-toggleable__control sk-hidden--visually\" id=\"sk-estimator-id-6\" type=\"checkbox\" ><label for=\"sk-estimator-id-6\" class=\"sk-toggleable__label sk-toggleable__label-arrow\">estimator: Pipeline</label><div class=\"sk-toggleable__content\"><pre>Pipeline(steps=[(&#x27;tfidf&#x27;,\n",
       "                 TfidfVectorizer(stop_words=[&#x27;you&#x27;, &#x27;isn&#x27;, &#x27;if&#x27;, &#x27;itself&#x27;,\n",
       "                                             &#x27;his&#x27;, &quot;couldn&#x27;t&quot;, &#x27;hers&#x27;, &#x27;into&#x27;,\n",
       "                                             &#x27;ve&#x27;, &quot;you&#x27;d&quot;, &#x27;shouldn&#x27;, &quot;she&#x27;s&quot;,\n",
       "                                             &#x27;myself&#x27;, &#x27;couldn&#x27;, &#x27;these&#x27;, &#x27;in&#x27;,\n",
       "                                             &#x27;than&#x27;, &#x27;too&#x27;, &#x27;what&#x27;, &#x27;ourselves&#x27;,\n",
       "                                             &#x27;having&#x27;, &#x27;mustn&#x27;, &quot;needn&#x27;t&quot;, &#x27;to&#x27;,\n",
       "                                             &#x27;any&#x27;, &#x27;off&#x27;, &#x27;no&#x27;, &#x27;all&#x27;, &#x27;very&#x27;,\n",
       "                                             &#x27;own&#x27;, ...])),\n",
       "                (&#x27;rt&#x27;,\n",
       "                 RandomForestClassifier(class_weight=&#x27;balanced&#x27;,\n",
       "                                        random_state=12345))])</pre></div></div></div><div class=\"sk-serial\"><div class=\"sk-item\"><div class=\"sk-serial\"><div class=\"sk-item\"><div class=\"sk-estimator sk-toggleable\"><input class=\"sk-toggleable__control sk-hidden--visually\" id=\"sk-estimator-id-7\" type=\"checkbox\" ><label for=\"sk-estimator-id-7\" class=\"sk-toggleable__label sk-toggleable__label-arrow\">TfidfVectorizer</label><div class=\"sk-toggleable__content\"><pre>TfidfVectorizer(stop_words=[&#x27;you&#x27;, &#x27;isn&#x27;, &#x27;if&#x27;, &#x27;itself&#x27;, &#x27;his&#x27;, &quot;couldn&#x27;t&quot;,\n",
       "                            &#x27;hers&#x27;, &#x27;into&#x27;, &#x27;ve&#x27;, &quot;you&#x27;d&quot;, &#x27;shouldn&#x27;, &quot;she&#x27;s&quot;,\n",
       "                            &#x27;myself&#x27;, &#x27;couldn&#x27;, &#x27;these&#x27;, &#x27;in&#x27;, &#x27;than&#x27;, &#x27;too&#x27;,\n",
       "                            &#x27;what&#x27;, &#x27;ourselves&#x27;, &#x27;having&#x27;, &#x27;mustn&#x27;, &quot;needn&#x27;t&quot;,\n",
       "                            &#x27;to&#x27;, &#x27;any&#x27;, &#x27;off&#x27;, &#x27;no&#x27;, &#x27;all&#x27;, &#x27;very&#x27;, &#x27;own&#x27;, ...])</pre></div></div></div><div class=\"sk-item\"><div class=\"sk-estimator sk-toggleable\"><input class=\"sk-toggleable__control sk-hidden--visually\" id=\"sk-estimator-id-8\" type=\"checkbox\" ><label for=\"sk-estimator-id-8\" class=\"sk-toggleable__label sk-toggleable__label-arrow\">RandomForestClassifier</label><div class=\"sk-toggleable__content\"><pre>RandomForestClassifier(class_weight=&#x27;balanced&#x27;, random_state=12345)</pre></div></div></div></div></div></div></div></div></div></div></div></div>"
      ],
      "text/plain": [
       "GridSearchCV(cv=3,\n",
       "             estimator=Pipeline(steps=[('tfidf',\n",
       "                                        TfidfVectorizer(stop_words=['you',\n",
       "                                                                    'isn', 'if',\n",
       "                                                                    'itself',\n",
       "                                                                    'his',\n",
       "                                                                    \"couldn't\",\n",
       "                                                                    'hers',\n",
       "                                                                    'into',\n",
       "                                                                    've',\n",
       "                                                                    \"you'd\",\n",
       "                                                                    'shouldn',\n",
       "                                                                    \"she's\",\n",
       "                                                                    'myself',\n",
       "                                                                    'couldn',\n",
       "                                                                    'these',\n",
       "                                                                    'in',\n",
       "                                                                    'than',\n",
       "                                                                    'too',\n",
       "                                                                    'what',\n",
       "                                                                    'ourselves',\n",
       "                                                                    'having',\n",
       "                                                                    'mustn',\n",
       "                                                                    \"needn't\",\n",
       "                                                                    'to', 'any',\n",
       "                                                                    'off', 'no',\n",
       "                                                                    'all',\n",
       "                                                                    'very',\n",
       "                                                                    'own', ...])),\n",
       "                                       ('rt',\n",
       "                                        RandomForestClassifier(class_weight='balanced',\n",
       "                                                               random_state=12345))]),\n",
       "             n_jobs=-1,\n",
       "             param_grid={'rt__max_depth': range(7, 12),\n",
       "                         'rt__n_estimators': range(35, 50)},\n",
       "             scoring='f1')"
      ]
     },
     "execution_count": 30,
     "metadata": {},
     "output_type": "execute_result"
    }
   ],
   "source": [
    "%%time\n",
    "pipeline = Pipeline([\n",
    "    ('tfidf', TfidfVectorizer(stop_words=list(stopwords))),\n",
    "    ('rt',RandomForestClassifier(random_state=12345, class_weight = 'balanced'))])\n",
    "parameters_fr = {'rt__max_depth' : range(7,12),\n",
    "                'rt__n_estimators': range(35, 50)} #я понимаю, что это не лес, а опушка какая-то, но очень долго считает\n",
    "fr_grid_model = GridSearchCV(pipeline, cv=3, n_jobs=-1, param_grid=parameters_fr, scoring='f1')\n",
    "fr_grid_model.fit(features_train['lemma_text'], target_train)"
   ]
  },
  {
   "cell_type": "code",
   "execution_count": 31,
   "metadata": {},
   "outputs": [
    {
     "name": "stdout",
     "output_type": "stream",
     "text": [
      "{'rt__max_depth': 11, 'rt__n_estimators': 49}\n",
      "0.3712507980966661\n"
     ]
    }
   ],
   "source": [
    "print(fr_grid_model.best_params_)\n",
    "print(fr_grid_model.best_score_)"
   ]
  },
  {
   "cell_type": "code",
   "execution_count": 34,
   "metadata": {},
   "outputs": [
    {
     "name": "stdout",
     "output_type": "stream",
     "text": [
      "CPU times: user 25min 52s, sys: 9.57 s, total: 26min 1s\n",
      "Wall time: 4min 37s\n"
     ]
    }
   ],
   "source": [
    "%%time\n",
    "catboost = CatBoostClassifier(eval_metric = 'F1', verbose = False)\n",
    "cat_m = catboost.fit(tf_idf, target_train, verbose = False)"
   ]
  },
  {
   "cell_type": "code",
   "execution_count": 35,
   "metadata": {},
   "outputs": [
    {
     "name": "stdout",
     "output_type": "stream",
     "text": [
      "{'learn': {'Logloss': 0.10282271617263541, 'F1': 0.8008544346046016}}\n"
     ]
    }
   ],
   "source": [
    "print(cat_m.best_score_)"
   ]
  },
  {
   "cell_type": "markdown",
   "metadata": {},
   "source": [
    "lightGBM"
   ]
  },
  {
   "cell_type": "code",
   "execution_count": 37,
   "metadata": {},
   "outputs": [],
   "source": [
    "# %%time\n",
    "param_grid = {\n",
    "    'num_leaves': [10, 20, 31, 40, 50],\n",
    "    'learning_rate': [0.05, 0.1],\n",
    "    'n_estimators': [10, 20]\n",
    "  }\n",
    "# grid_lgb = GridSearchCV(estimator=LGBMClassifier(), param_grid=param_grid, cv=3, scoring = 'f1')\n",
    "# grid_lgb.fit(tf_idf, target_train)"
   ]
  },
  {
   "cell_type": "code",
   "execution_count": 38,
   "metadata": {},
   "outputs": [
    {
     "name": "stdout",
     "output_type": "stream",
     "text": [
      "CPU times: user 33.4 s, sys: 8.6 s, total: 42 s\n",
      "Wall time: 3min 5s\n"
     ]
    },
    {
     "data": {
      "text/html": [
       "<style>#sk-container-id-3 {color: black;background-color: white;}#sk-container-id-3 pre{padding: 0;}#sk-container-id-3 div.sk-toggleable {background-color: white;}#sk-container-id-3 label.sk-toggleable__label {cursor: pointer;display: block;width: 100%;margin-bottom: 0;padding: 0.3em;box-sizing: border-box;text-align: center;}#sk-container-id-3 label.sk-toggleable__label-arrow:before {content: \"▸\";float: left;margin-right: 0.25em;color: #696969;}#sk-container-id-3 label.sk-toggleable__label-arrow:hover:before {color: black;}#sk-container-id-3 div.sk-estimator:hover label.sk-toggleable__label-arrow:before {color: black;}#sk-container-id-3 div.sk-toggleable__content {max-height: 0;max-width: 0;overflow: hidden;text-align: left;background-color: #f0f8ff;}#sk-container-id-3 div.sk-toggleable__content pre {margin: 0.2em;color: black;border-radius: 0.25em;background-color: #f0f8ff;}#sk-container-id-3 input.sk-toggleable__control:checked~div.sk-toggleable__content {max-height: 200px;max-width: 100%;overflow: auto;}#sk-container-id-3 input.sk-toggleable__control:checked~label.sk-toggleable__label-arrow:before {content: \"▾\";}#sk-container-id-3 div.sk-estimator input.sk-toggleable__control:checked~label.sk-toggleable__label {background-color: #d4ebff;}#sk-container-id-3 div.sk-label input.sk-toggleable__control:checked~label.sk-toggleable__label {background-color: #d4ebff;}#sk-container-id-3 input.sk-hidden--visually {border: 0;clip: rect(1px 1px 1px 1px);clip: rect(1px, 1px, 1px, 1px);height: 1px;margin: -1px;overflow: hidden;padding: 0;position: absolute;width: 1px;}#sk-container-id-3 div.sk-estimator {font-family: monospace;background-color: #f0f8ff;border: 1px dotted black;border-radius: 0.25em;box-sizing: border-box;margin-bottom: 0.5em;}#sk-container-id-3 div.sk-estimator:hover {background-color: #d4ebff;}#sk-container-id-3 div.sk-parallel-item::after {content: \"\";width: 100%;border-bottom: 1px solid gray;flex-grow: 1;}#sk-container-id-3 div.sk-label:hover label.sk-toggleable__label {background-color: #d4ebff;}#sk-container-id-3 div.sk-serial::before {content: \"\";position: absolute;border-left: 1px solid gray;box-sizing: border-box;top: 0;bottom: 0;left: 50%;z-index: 0;}#sk-container-id-3 div.sk-serial {display: flex;flex-direction: column;align-items: center;background-color: white;padding-right: 0.2em;padding-left: 0.2em;position: relative;}#sk-container-id-3 div.sk-item {position: relative;z-index: 1;}#sk-container-id-3 div.sk-parallel {display: flex;align-items: stretch;justify-content: center;background-color: white;position: relative;}#sk-container-id-3 div.sk-item::before, #sk-container-id-3 div.sk-parallel-item::before {content: \"\";position: absolute;border-left: 1px solid gray;box-sizing: border-box;top: 0;bottom: 0;left: 50%;z-index: -1;}#sk-container-id-3 div.sk-parallel-item {display: flex;flex-direction: column;z-index: 1;position: relative;background-color: white;}#sk-container-id-3 div.sk-parallel-item:first-child::after {align-self: flex-end;width: 50%;}#sk-container-id-3 div.sk-parallel-item:last-child::after {align-self: flex-start;width: 50%;}#sk-container-id-3 div.sk-parallel-item:only-child::after {width: 0;}#sk-container-id-3 div.sk-dashed-wrapped {border: 1px dashed gray;margin: 0 0.4em 0.5em 0.4em;box-sizing: border-box;padding-bottom: 0.4em;background-color: white;}#sk-container-id-3 div.sk-label label {font-family: monospace;font-weight: bold;display: inline-block;line-height: 1.2em;}#sk-container-id-3 div.sk-label-container {text-align: center;}#sk-container-id-3 div.sk-container {/* jupyter's `normalize.less` sets `[hidden] { display: none; }` but bootstrap.min.css set `[hidden] { display: none !important; }` so we also need the `!important` here to be able to override the default hidden behavior on the sphinx rendered scikit-learn.org. See: https://github.com/scikit-learn/scikit-learn/issues/21755 */display: inline-block !important;position: relative;}#sk-container-id-3 div.sk-text-repr-fallback {display: none;}</style><div id=\"sk-container-id-3\" class=\"sk-top-container\"><div class=\"sk-text-repr-fallback\"><pre>GridSearchCV(cv=5,\n",
       "             estimator=Pipeline(steps=[(&#x27;tfidf&#x27;,\n",
       "                                        TfidfVectorizer(stop_words=[&#x27;you&#x27;,\n",
       "                                                                    &#x27;isn&#x27;, &#x27;if&#x27;,\n",
       "                                                                    &#x27;itself&#x27;,\n",
       "                                                                    &#x27;his&#x27;,\n",
       "                                                                    &quot;couldn&#x27;t&quot;,\n",
       "                                                                    &#x27;hers&#x27;,\n",
       "                                                                    &#x27;into&#x27;,\n",
       "                                                                    &#x27;ve&#x27;,\n",
       "                                                                    &quot;you&#x27;d&quot;,\n",
       "                                                                    &#x27;shouldn&#x27;,\n",
       "                                                                    &quot;she&#x27;s&quot;,\n",
       "                                                                    &#x27;myself&#x27;,\n",
       "                                                                    &#x27;couldn&#x27;,\n",
       "                                                                    &#x27;these&#x27;,\n",
       "                                                                    &#x27;in&#x27;,\n",
       "                                                                    &#x27;than&#x27;,\n",
       "                                                                    &#x27;too&#x27;,\n",
       "                                                                    &#x27;what&#x27;,\n",
       "                                                                    &#x27;ourselves&#x27;,\n",
       "                                                                    &#x27;having&#x27;,\n",
       "                                                                    &#x27;mustn&#x27;,\n",
       "                                                                    &quot;needn&#x27;t&quot;,\n",
       "                                                                    &#x27;to&#x27;, &#x27;any&#x27;,\n",
       "                                                                    &#x27;off&#x27;, &#x27;no&#x27;,\n",
       "                                                                    &#x27;all&#x27;,\n",
       "                                                                    &#x27;very&#x27;,\n",
       "                                                                    &#x27;own&#x27;, ...])),\n",
       "                                       (&#x27;lgb&#x27;,\n",
       "                                        LGBMClassifier(class_weight=&#x27;balanced&#x27;,\n",
       "                                                       random_state=12345))]),\n",
       "             n_jobs=-1,\n",
       "             param_grid={&#x27;lgb__learning_rate&#x27;: [0.05, 0.1],\n",
       "                         &#x27;lgb__n_estimators&#x27;: [10, 20],\n",
       "                         &#x27;lgb__num_leaves&#x27;: [10, 20, 31, 40, 50]},\n",
       "             scoring=&#x27;f1&#x27;)</pre><b>In a Jupyter environment, please rerun this cell to show the HTML representation or trust the notebook. <br />On GitHub, the HTML representation is unable to render, please try loading this page with nbviewer.org.</b></div><div class=\"sk-container\" hidden><div class=\"sk-item sk-dashed-wrapped\"><div class=\"sk-label-container\"><div class=\"sk-label sk-toggleable\"><input class=\"sk-toggleable__control sk-hidden--visually\" id=\"sk-estimator-id-9\" type=\"checkbox\" ><label for=\"sk-estimator-id-9\" class=\"sk-toggleable__label sk-toggleable__label-arrow\">GridSearchCV</label><div class=\"sk-toggleable__content\"><pre>GridSearchCV(cv=5,\n",
       "             estimator=Pipeline(steps=[(&#x27;tfidf&#x27;,\n",
       "                                        TfidfVectorizer(stop_words=[&#x27;you&#x27;,\n",
       "                                                                    &#x27;isn&#x27;, &#x27;if&#x27;,\n",
       "                                                                    &#x27;itself&#x27;,\n",
       "                                                                    &#x27;his&#x27;,\n",
       "                                                                    &quot;couldn&#x27;t&quot;,\n",
       "                                                                    &#x27;hers&#x27;,\n",
       "                                                                    &#x27;into&#x27;,\n",
       "                                                                    &#x27;ve&#x27;,\n",
       "                                                                    &quot;you&#x27;d&quot;,\n",
       "                                                                    &#x27;shouldn&#x27;,\n",
       "                                                                    &quot;she&#x27;s&quot;,\n",
       "                                                                    &#x27;myself&#x27;,\n",
       "                                                                    &#x27;couldn&#x27;,\n",
       "                                                                    &#x27;these&#x27;,\n",
       "                                                                    &#x27;in&#x27;,\n",
       "                                                                    &#x27;than&#x27;,\n",
       "                                                                    &#x27;too&#x27;,\n",
       "                                                                    &#x27;what&#x27;,\n",
       "                                                                    &#x27;ourselves&#x27;,\n",
       "                                                                    &#x27;having&#x27;,\n",
       "                                                                    &#x27;mustn&#x27;,\n",
       "                                                                    &quot;needn&#x27;t&quot;,\n",
       "                                                                    &#x27;to&#x27;, &#x27;any&#x27;,\n",
       "                                                                    &#x27;off&#x27;, &#x27;no&#x27;,\n",
       "                                                                    &#x27;all&#x27;,\n",
       "                                                                    &#x27;very&#x27;,\n",
       "                                                                    &#x27;own&#x27;, ...])),\n",
       "                                       (&#x27;lgb&#x27;,\n",
       "                                        LGBMClassifier(class_weight=&#x27;balanced&#x27;,\n",
       "                                                       random_state=12345))]),\n",
       "             n_jobs=-1,\n",
       "             param_grid={&#x27;lgb__learning_rate&#x27;: [0.05, 0.1],\n",
       "                         &#x27;lgb__n_estimators&#x27;: [10, 20],\n",
       "                         &#x27;lgb__num_leaves&#x27;: [10, 20, 31, 40, 50]},\n",
       "             scoring=&#x27;f1&#x27;)</pre></div></div></div><div class=\"sk-parallel\"><div class=\"sk-parallel-item\"><div class=\"sk-item\"><div class=\"sk-label-container\"><div class=\"sk-label sk-toggleable\"><input class=\"sk-toggleable__control sk-hidden--visually\" id=\"sk-estimator-id-10\" type=\"checkbox\" ><label for=\"sk-estimator-id-10\" class=\"sk-toggleable__label sk-toggleable__label-arrow\">estimator: Pipeline</label><div class=\"sk-toggleable__content\"><pre>Pipeline(steps=[(&#x27;tfidf&#x27;,\n",
       "                 TfidfVectorizer(stop_words=[&#x27;you&#x27;, &#x27;isn&#x27;, &#x27;if&#x27;, &#x27;itself&#x27;,\n",
       "                                             &#x27;his&#x27;, &quot;couldn&#x27;t&quot;, &#x27;hers&#x27;, &#x27;into&#x27;,\n",
       "                                             &#x27;ve&#x27;, &quot;you&#x27;d&quot;, &#x27;shouldn&#x27;, &quot;she&#x27;s&quot;,\n",
       "                                             &#x27;myself&#x27;, &#x27;couldn&#x27;, &#x27;these&#x27;, &#x27;in&#x27;,\n",
       "                                             &#x27;than&#x27;, &#x27;too&#x27;, &#x27;what&#x27;, &#x27;ourselves&#x27;,\n",
       "                                             &#x27;having&#x27;, &#x27;mustn&#x27;, &quot;needn&#x27;t&quot;, &#x27;to&#x27;,\n",
       "                                             &#x27;any&#x27;, &#x27;off&#x27;, &#x27;no&#x27;, &#x27;all&#x27;, &#x27;very&#x27;,\n",
       "                                             &#x27;own&#x27;, ...])),\n",
       "                (&#x27;lgb&#x27;,\n",
       "                 LGBMClassifier(class_weight=&#x27;balanced&#x27;, random_state=12345))])</pre></div></div></div><div class=\"sk-serial\"><div class=\"sk-item\"><div class=\"sk-serial\"><div class=\"sk-item\"><div class=\"sk-estimator sk-toggleable\"><input class=\"sk-toggleable__control sk-hidden--visually\" id=\"sk-estimator-id-11\" type=\"checkbox\" ><label for=\"sk-estimator-id-11\" class=\"sk-toggleable__label sk-toggleable__label-arrow\">TfidfVectorizer</label><div class=\"sk-toggleable__content\"><pre>TfidfVectorizer(stop_words=[&#x27;you&#x27;, &#x27;isn&#x27;, &#x27;if&#x27;, &#x27;itself&#x27;, &#x27;his&#x27;, &quot;couldn&#x27;t&quot;,\n",
       "                            &#x27;hers&#x27;, &#x27;into&#x27;, &#x27;ve&#x27;, &quot;you&#x27;d&quot;, &#x27;shouldn&#x27;, &quot;she&#x27;s&quot;,\n",
       "                            &#x27;myself&#x27;, &#x27;couldn&#x27;, &#x27;these&#x27;, &#x27;in&#x27;, &#x27;than&#x27;, &#x27;too&#x27;,\n",
       "                            &#x27;what&#x27;, &#x27;ourselves&#x27;, &#x27;having&#x27;, &#x27;mustn&#x27;, &quot;needn&#x27;t&quot;,\n",
       "                            &#x27;to&#x27;, &#x27;any&#x27;, &#x27;off&#x27;, &#x27;no&#x27;, &#x27;all&#x27;, &#x27;very&#x27;, &#x27;own&#x27;, ...])</pre></div></div></div><div class=\"sk-item\"><div class=\"sk-estimator sk-toggleable\"><input class=\"sk-toggleable__control sk-hidden--visually\" id=\"sk-estimator-id-12\" type=\"checkbox\" ><label for=\"sk-estimator-id-12\" class=\"sk-toggleable__label sk-toggleable__label-arrow\">LGBMClassifier</label><div class=\"sk-toggleable__content\"><pre>LGBMClassifier(class_weight=&#x27;balanced&#x27;, random_state=12345)</pre></div></div></div></div></div></div></div></div></div></div></div></div>"
      ],
      "text/plain": [
       "GridSearchCV(cv=5,\n",
       "             estimator=Pipeline(steps=[('tfidf',\n",
       "                                        TfidfVectorizer(stop_words=['you',\n",
       "                                                                    'isn', 'if',\n",
       "                                                                    'itself',\n",
       "                                                                    'his',\n",
       "                                                                    \"couldn't\",\n",
       "                                                                    'hers',\n",
       "                                                                    'into',\n",
       "                                                                    've',\n",
       "                                                                    \"you'd\",\n",
       "                                                                    'shouldn',\n",
       "                                                                    \"she's\",\n",
       "                                                                    'myself',\n",
       "                                                                    'couldn',\n",
       "                                                                    'these',\n",
       "                                                                    'in',\n",
       "                                                                    'than',\n",
       "                                                                    'too',\n",
       "                                                                    'what',\n",
       "                                                                    'ourselves',\n",
       "                                                                    'having',\n",
       "                                                                    'mustn',\n",
       "                                                                    \"needn't\",\n",
       "                                                                    'to', 'any',\n",
       "                                                                    'off', 'no',\n",
       "                                                                    'all',\n",
       "                                                                    'very',\n",
       "                                                                    'own', ...])),\n",
       "                                       ('lgb',\n",
       "                                        LGBMClassifier(class_weight='balanced',\n",
       "                                                       random_state=12345))]),\n",
       "             n_jobs=-1,\n",
       "             param_grid={'lgb__learning_rate': [0.05, 0.1],\n",
       "                         'lgb__n_estimators': [10, 20],\n",
       "                         'lgb__num_leaves': [10, 20, 31, 40, 50]},\n",
       "             scoring='f1')"
      ]
     },
     "execution_count": 38,
     "metadata": {},
     "output_type": "execute_result"
    }
   ],
   "source": [
    "%%time\n",
    "pipeline = Pipeline([\n",
    "    ('tfidf', TfidfVectorizer(stop_words=list(stopwords))),\n",
    "    ('lgb',LGBMClassifier(random_state=12345, class_weight = 'balanced'))])\n",
    "param_grid = {\n",
    "    'lgb__num_leaves': [10, 20, 31, 40, 50],\n",
    "    'lgb__learning_rate': [0.05, 0.1],\n",
    "    'lgb__n_estimators': [10, 20]}\n",
    "grid_lgb = GridSearchCV(pipeline, cv=5, n_jobs=-1, param_grid=param_grid, scoring='f1')\n",
    "grid_lgb.fit(features_train['lemma_text'], target_train)"
   ]
  },
  {
   "cell_type": "code",
   "execution_count": 39,
   "metadata": {},
   "outputs": [
    {
     "name": "stdout",
     "output_type": "stream",
     "text": [
      "{'lgb__learning_rate': 0.1, 'lgb__n_estimators': 20, 'lgb__num_leaves': 50}\n",
      "0.7037335709405599\n"
     ]
    }
   ],
   "source": [
    "print(grid_lgb.best_params_)\n",
    "print(grid_lgb.best_score_)"
   ]
  },
  {
   "cell_type": "markdown",
   "metadata": {},
   "source": [
    "XGB"
   ]
  },
  {
   "cell_type": "code",
   "execution_count": 40,
   "metadata": {},
   "outputs": [],
   "source": [
    "# %%time\n",
    "params_xgb = {\n",
    "        'n_estimators': [10,50],\n",
    "        'max_depth': [3, 8],\n",
    "        'eta': [0.5, 1]\n",
    "        }\n",
    "# grid_xgb = GridSearchCV(XGBClassifier(), params_xgb, n_jobs=-1, scoring = 'f1', cv = 3)\n",
    "\n",
    "# grid_xgb.fit(tf_idf, target_train)\n"
   ]
  },
  {
   "cell_type": "code",
   "execution_count": 41,
   "metadata": {},
   "outputs": [
    {
     "name": "stdout",
     "output_type": "stream",
     "text": [
      "[23:01:15] WARNING: /Users/runner/work/xgboost/xgboost/python-package/build/temp.macosx-11.0-arm64-cpython-38/xgboost/src/learner.cc:767: \n",
      "Parameters: { \"class_weight\" } are not used.\n",
      "\n",
      "CPU times: user 1min 37s, sys: 7.17 s, total: 1min 44s\n",
      "Wall time: 4min 18s\n"
     ]
    },
    {
     "data": {
      "text/html": [
       "<style>#sk-container-id-4 {color: black;background-color: white;}#sk-container-id-4 pre{padding: 0;}#sk-container-id-4 div.sk-toggleable {background-color: white;}#sk-container-id-4 label.sk-toggleable__label {cursor: pointer;display: block;width: 100%;margin-bottom: 0;padding: 0.3em;box-sizing: border-box;text-align: center;}#sk-container-id-4 label.sk-toggleable__label-arrow:before {content: \"▸\";float: left;margin-right: 0.25em;color: #696969;}#sk-container-id-4 label.sk-toggleable__label-arrow:hover:before {color: black;}#sk-container-id-4 div.sk-estimator:hover label.sk-toggleable__label-arrow:before {color: black;}#sk-container-id-4 div.sk-toggleable__content {max-height: 0;max-width: 0;overflow: hidden;text-align: left;background-color: #f0f8ff;}#sk-container-id-4 div.sk-toggleable__content pre {margin: 0.2em;color: black;border-radius: 0.25em;background-color: #f0f8ff;}#sk-container-id-4 input.sk-toggleable__control:checked~div.sk-toggleable__content {max-height: 200px;max-width: 100%;overflow: auto;}#sk-container-id-4 input.sk-toggleable__control:checked~label.sk-toggleable__label-arrow:before {content: \"▾\";}#sk-container-id-4 div.sk-estimator input.sk-toggleable__control:checked~label.sk-toggleable__label {background-color: #d4ebff;}#sk-container-id-4 div.sk-label input.sk-toggleable__control:checked~label.sk-toggleable__label {background-color: #d4ebff;}#sk-container-id-4 input.sk-hidden--visually {border: 0;clip: rect(1px 1px 1px 1px);clip: rect(1px, 1px, 1px, 1px);height: 1px;margin: -1px;overflow: hidden;padding: 0;position: absolute;width: 1px;}#sk-container-id-4 div.sk-estimator {font-family: monospace;background-color: #f0f8ff;border: 1px dotted black;border-radius: 0.25em;box-sizing: border-box;margin-bottom: 0.5em;}#sk-container-id-4 div.sk-estimator:hover {background-color: #d4ebff;}#sk-container-id-4 div.sk-parallel-item::after {content: \"\";width: 100%;border-bottom: 1px solid gray;flex-grow: 1;}#sk-container-id-4 div.sk-label:hover label.sk-toggleable__label {background-color: #d4ebff;}#sk-container-id-4 div.sk-serial::before {content: \"\";position: absolute;border-left: 1px solid gray;box-sizing: border-box;top: 0;bottom: 0;left: 50%;z-index: 0;}#sk-container-id-4 div.sk-serial {display: flex;flex-direction: column;align-items: center;background-color: white;padding-right: 0.2em;padding-left: 0.2em;position: relative;}#sk-container-id-4 div.sk-item {position: relative;z-index: 1;}#sk-container-id-4 div.sk-parallel {display: flex;align-items: stretch;justify-content: center;background-color: white;position: relative;}#sk-container-id-4 div.sk-item::before, #sk-container-id-4 div.sk-parallel-item::before {content: \"\";position: absolute;border-left: 1px solid gray;box-sizing: border-box;top: 0;bottom: 0;left: 50%;z-index: -1;}#sk-container-id-4 div.sk-parallel-item {display: flex;flex-direction: column;z-index: 1;position: relative;background-color: white;}#sk-container-id-4 div.sk-parallel-item:first-child::after {align-self: flex-end;width: 50%;}#sk-container-id-4 div.sk-parallel-item:last-child::after {align-self: flex-start;width: 50%;}#sk-container-id-4 div.sk-parallel-item:only-child::after {width: 0;}#sk-container-id-4 div.sk-dashed-wrapped {border: 1px dashed gray;margin: 0 0.4em 0.5em 0.4em;box-sizing: border-box;padding-bottom: 0.4em;background-color: white;}#sk-container-id-4 div.sk-label label {font-family: monospace;font-weight: bold;display: inline-block;line-height: 1.2em;}#sk-container-id-4 div.sk-label-container {text-align: center;}#sk-container-id-4 div.sk-container {/* jupyter's `normalize.less` sets `[hidden] { display: none; }` but bootstrap.min.css set `[hidden] { display: none !important; }` so we also need the `!important` here to be able to override the default hidden behavior on the sphinx rendered scikit-learn.org. See: https://github.com/scikit-learn/scikit-learn/issues/21755 */display: inline-block !important;position: relative;}#sk-container-id-4 div.sk-text-repr-fallback {display: none;}</style><div id=\"sk-container-id-4\" class=\"sk-top-container\"><div class=\"sk-text-repr-fallback\"><pre>GridSearchCV(cv=5,\n",
       "             estimator=Pipeline(steps=[(&#x27;tfidf&#x27;,\n",
       "                                        TfidfVectorizer(stop_words=[&#x27;you&#x27;,\n",
       "                                                                    &#x27;isn&#x27;, &#x27;if&#x27;,\n",
       "                                                                    &#x27;itself&#x27;,\n",
       "                                                                    &#x27;his&#x27;,\n",
       "                                                                    &quot;couldn&#x27;t&quot;,\n",
       "                                                                    &#x27;hers&#x27;,\n",
       "                                                                    &#x27;into&#x27;,\n",
       "                                                                    &#x27;ve&#x27;,\n",
       "                                                                    &quot;you&#x27;d&quot;,\n",
       "                                                                    &#x27;shouldn&#x27;,\n",
       "                                                                    &quot;she&#x27;s&quot;,\n",
       "                                                                    &#x27;myself&#x27;,\n",
       "                                                                    &#x27;couldn&#x27;,\n",
       "                                                                    &#x27;these&#x27;,\n",
       "                                                                    &#x27;in&#x27;,\n",
       "                                                                    &#x27;than&#x27;,\n",
       "                                                                    &#x27;too&#x27;,\n",
       "                                                                    &#x27;what&#x27;,\n",
       "                                                                    &#x27;ourselves&#x27;,\n",
       "                                                                    &#x27;having&#x27;,\n",
       "                                                                    &#x27;mustn&#x27;,\n",
       "                                                                    &quot;needn&#x27;t&quot;,\n",
       "                                                                    &#x27;to&#x27;, &#x27;any&#x27;,\n",
       "                                                                    &#x27;off&#x27;, &#x27;no&#x27;,\n",
       "                                                                    &#x27;all&#x27;,\n",
       "                                                                    &#x27;very&#x27;,\n",
       "                                                                    &#x27;own&#x27;, ...])),\n",
       "                                       (&#x27;xgb&#x27;,\n",
       "                                        XGBClassifier(base_score=None,\n",
       "                                                      booste...\n",
       "                                                      max_bin=None,\n",
       "                                                      max_cat_threshold=None,\n",
       "                                                      max_cat_to_onehot=None,\n",
       "                                                      max_delta_step=None,\n",
       "                                                      max_depth=None,\n",
       "                                                      max_leaves=None,\n",
       "                                                      min_child_weight=None,\n",
       "                                                      missing=nan,\n",
       "                                                      monotone_constraints=None,\n",
       "                                                      n_estimators=100,\n",
       "                                                      n_jobs=None,\n",
       "                                                      num_parallel_tree=None,\n",
       "                                                      predictor=None, ...))]),\n",
       "             n_jobs=-1,\n",
       "             param_grid={&#x27;xgb__eta&#x27;: [0.5, 1], &#x27;xgb__max_depth&#x27;: [3, 8],\n",
       "                         &#x27;xgb__n_estimators&#x27;: [10, 50, 100]},\n",
       "             scoring=&#x27;f1&#x27;)</pre><b>In a Jupyter environment, please rerun this cell to show the HTML representation or trust the notebook. <br />On GitHub, the HTML representation is unable to render, please try loading this page with nbviewer.org.</b></div><div class=\"sk-container\" hidden><div class=\"sk-item sk-dashed-wrapped\"><div class=\"sk-label-container\"><div class=\"sk-label sk-toggleable\"><input class=\"sk-toggleable__control sk-hidden--visually\" id=\"sk-estimator-id-13\" type=\"checkbox\" ><label for=\"sk-estimator-id-13\" class=\"sk-toggleable__label sk-toggleable__label-arrow\">GridSearchCV</label><div class=\"sk-toggleable__content\"><pre>GridSearchCV(cv=5,\n",
       "             estimator=Pipeline(steps=[(&#x27;tfidf&#x27;,\n",
       "                                        TfidfVectorizer(stop_words=[&#x27;you&#x27;,\n",
       "                                                                    &#x27;isn&#x27;, &#x27;if&#x27;,\n",
       "                                                                    &#x27;itself&#x27;,\n",
       "                                                                    &#x27;his&#x27;,\n",
       "                                                                    &quot;couldn&#x27;t&quot;,\n",
       "                                                                    &#x27;hers&#x27;,\n",
       "                                                                    &#x27;into&#x27;,\n",
       "                                                                    &#x27;ve&#x27;,\n",
       "                                                                    &quot;you&#x27;d&quot;,\n",
       "                                                                    &#x27;shouldn&#x27;,\n",
       "                                                                    &quot;she&#x27;s&quot;,\n",
       "                                                                    &#x27;myself&#x27;,\n",
       "                                                                    &#x27;couldn&#x27;,\n",
       "                                                                    &#x27;these&#x27;,\n",
       "                                                                    &#x27;in&#x27;,\n",
       "                                                                    &#x27;than&#x27;,\n",
       "                                                                    &#x27;too&#x27;,\n",
       "                                                                    &#x27;what&#x27;,\n",
       "                                                                    &#x27;ourselves&#x27;,\n",
       "                                                                    &#x27;having&#x27;,\n",
       "                                                                    &#x27;mustn&#x27;,\n",
       "                                                                    &quot;needn&#x27;t&quot;,\n",
       "                                                                    &#x27;to&#x27;, &#x27;any&#x27;,\n",
       "                                                                    &#x27;off&#x27;, &#x27;no&#x27;,\n",
       "                                                                    &#x27;all&#x27;,\n",
       "                                                                    &#x27;very&#x27;,\n",
       "                                                                    &#x27;own&#x27;, ...])),\n",
       "                                       (&#x27;xgb&#x27;,\n",
       "                                        XGBClassifier(base_score=None,\n",
       "                                                      booste...\n",
       "                                                      max_bin=None,\n",
       "                                                      max_cat_threshold=None,\n",
       "                                                      max_cat_to_onehot=None,\n",
       "                                                      max_delta_step=None,\n",
       "                                                      max_depth=None,\n",
       "                                                      max_leaves=None,\n",
       "                                                      min_child_weight=None,\n",
       "                                                      missing=nan,\n",
       "                                                      monotone_constraints=None,\n",
       "                                                      n_estimators=100,\n",
       "                                                      n_jobs=None,\n",
       "                                                      num_parallel_tree=None,\n",
       "                                                      predictor=None, ...))]),\n",
       "             n_jobs=-1,\n",
       "             param_grid={&#x27;xgb__eta&#x27;: [0.5, 1], &#x27;xgb__max_depth&#x27;: [3, 8],\n",
       "                         &#x27;xgb__n_estimators&#x27;: [10, 50, 100]},\n",
       "             scoring=&#x27;f1&#x27;)</pre></div></div></div><div class=\"sk-parallel\"><div class=\"sk-parallel-item\"><div class=\"sk-item\"><div class=\"sk-label-container\"><div class=\"sk-label sk-toggleable\"><input class=\"sk-toggleable__control sk-hidden--visually\" id=\"sk-estimator-id-14\" type=\"checkbox\" ><label for=\"sk-estimator-id-14\" class=\"sk-toggleable__label sk-toggleable__label-arrow\">estimator: Pipeline</label><div class=\"sk-toggleable__content\"><pre>Pipeline(steps=[(&#x27;tfidf&#x27;,\n",
       "                 TfidfVectorizer(stop_words=[&#x27;you&#x27;, &#x27;isn&#x27;, &#x27;if&#x27;, &#x27;itself&#x27;,\n",
       "                                             &#x27;his&#x27;, &quot;couldn&#x27;t&quot;, &#x27;hers&#x27;, &#x27;into&#x27;,\n",
       "                                             &#x27;ve&#x27;, &quot;you&#x27;d&quot;, &#x27;shouldn&#x27;, &quot;she&#x27;s&quot;,\n",
       "                                             &#x27;myself&#x27;, &#x27;couldn&#x27;, &#x27;these&#x27;, &#x27;in&#x27;,\n",
       "                                             &#x27;than&#x27;, &#x27;too&#x27;, &#x27;what&#x27;, &#x27;ourselves&#x27;,\n",
       "                                             &#x27;having&#x27;, &#x27;mustn&#x27;, &quot;needn&#x27;t&quot;, &#x27;to&#x27;,\n",
       "                                             &#x27;any&#x27;, &#x27;off&#x27;, &#x27;no&#x27;, &#x27;all&#x27;, &#x27;very&#x27;,\n",
       "                                             &#x27;own&#x27;, ...])),\n",
       "                (&#x27;xgb&#x27;,\n",
       "                 XGBClassifier(base_score=None, booster=None, callbacks=None,\n",
       "                               class_...\n",
       "                               feature_types=None, gamma=None, gpu_id=None,\n",
       "                               grow_policy=None, importance_type=None,\n",
       "                               interaction_constraints=None, learning_rate=None,\n",
       "                               max_bin=None, max_cat_threshold=None,\n",
       "                               max_cat_to_onehot=None, max_delta_step=None,\n",
       "                               max_depth=None, max_leaves=None,\n",
       "                               min_child_weight=None, missing=nan,\n",
       "                               monotone_constraints=None, n_estimators=100,\n",
       "                               n_jobs=None, num_parallel_tree=None,\n",
       "                               predictor=None, ...))])</pre></div></div></div><div class=\"sk-serial\"><div class=\"sk-item\"><div class=\"sk-serial\"><div class=\"sk-item\"><div class=\"sk-estimator sk-toggleable\"><input class=\"sk-toggleable__control sk-hidden--visually\" id=\"sk-estimator-id-15\" type=\"checkbox\" ><label for=\"sk-estimator-id-15\" class=\"sk-toggleable__label sk-toggleable__label-arrow\">TfidfVectorizer</label><div class=\"sk-toggleable__content\"><pre>TfidfVectorizer(stop_words=[&#x27;you&#x27;, &#x27;isn&#x27;, &#x27;if&#x27;, &#x27;itself&#x27;, &#x27;his&#x27;, &quot;couldn&#x27;t&quot;,\n",
       "                            &#x27;hers&#x27;, &#x27;into&#x27;, &#x27;ve&#x27;, &quot;you&#x27;d&quot;, &#x27;shouldn&#x27;, &quot;she&#x27;s&quot;,\n",
       "                            &#x27;myself&#x27;, &#x27;couldn&#x27;, &#x27;these&#x27;, &#x27;in&#x27;, &#x27;than&#x27;, &#x27;too&#x27;,\n",
       "                            &#x27;what&#x27;, &#x27;ourselves&#x27;, &#x27;having&#x27;, &#x27;mustn&#x27;, &quot;needn&#x27;t&quot;,\n",
       "                            &#x27;to&#x27;, &#x27;any&#x27;, &#x27;off&#x27;, &#x27;no&#x27;, &#x27;all&#x27;, &#x27;very&#x27;, &#x27;own&#x27;, ...])</pre></div></div></div><div class=\"sk-item\"><div class=\"sk-estimator sk-toggleable\"><input class=\"sk-toggleable__control sk-hidden--visually\" id=\"sk-estimator-id-16\" type=\"checkbox\" ><label for=\"sk-estimator-id-16\" class=\"sk-toggleable__label sk-toggleable__label-arrow\">XGBClassifier</label><div class=\"sk-toggleable__content\"><pre>XGBClassifier(base_score=None, booster=None, callbacks=None,\n",
       "              class_weight=&#x27;balanced&#x27;, colsample_bylevel=None,\n",
       "              colsample_bynode=None, colsample_bytree=None,\n",
       "              early_stopping_rounds=None, enable_categorical=False,\n",
       "              eval_metric=None, feature_types=None, gamma=None, gpu_id=None,\n",
       "              grow_policy=None, importance_type=None,\n",
       "              interaction_constraints=None, learning_rate=None, max_bin=None,\n",
       "              max_cat_threshold=None, max_cat_to_onehot=None,\n",
       "              max_delta_step=None, max_depth=None, max_leaves=None,\n",
       "              min_child_weight=None, missing=nan, monotone_constraints=None,\n",
       "              n_estimators=100, n_jobs=None, num_parallel_tree=None,\n",
       "              predictor=None, ...)</pre></div></div></div></div></div></div></div></div></div></div></div></div>"
      ],
      "text/plain": [
       "GridSearchCV(cv=5,\n",
       "             estimator=Pipeline(steps=[('tfidf',\n",
       "                                        TfidfVectorizer(stop_words=['you',\n",
       "                                                                    'isn', 'if',\n",
       "                                                                    'itself',\n",
       "                                                                    'his',\n",
       "                                                                    \"couldn't\",\n",
       "                                                                    'hers',\n",
       "                                                                    'into',\n",
       "                                                                    've',\n",
       "                                                                    \"you'd\",\n",
       "                                                                    'shouldn',\n",
       "                                                                    \"she's\",\n",
       "                                                                    'myself',\n",
       "                                                                    'couldn',\n",
       "                                                                    'these',\n",
       "                                                                    'in',\n",
       "                                                                    'than',\n",
       "                                                                    'too',\n",
       "                                                                    'what',\n",
       "                                                                    'ourselves',\n",
       "                                                                    'having',\n",
       "                                                                    'mustn',\n",
       "                                                                    \"needn't\",\n",
       "                                                                    'to', 'any',\n",
       "                                                                    'off', 'no',\n",
       "                                                                    'all',\n",
       "                                                                    'very',\n",
       "                                                                    'own', ...])),\n",
       "                                       ('xgb',\n",
       "                                        XGBClassifier(base_score=None,\n",
       "                                                      booste...\n",
       "                                                      max_bin=None,\n",
       "                                                      max_cat_threshold=None,\n",
       "                                                      max_cat_to_onehot=None,\n",
       "                                                      max_delta_step=None,\n",
       "                                                      max_depth=None,\n",
       "                                                      max_leaves=None,\n",
       "                                                      min_child_weight=None,\n",
       "                                                      missing=nan,\n",
       "                                                      monotone_constraints=None,\n",
       "                                                      n_estimators=100,\n",
       "                                                      n_jobs=None,\n",
       "                                                      num_parallel_tree=None,\n",
       "                                                      predictor=None, ...))]),\n",
       "             n_jobs=-1,\n",
       "             param_grid={'xgb__eta': [0.5, 1], 'xgb__max_depth': [3, 8],\n",
       "                         'xgb__n_estimators': [10, 50, 100]},\n",
       "             scoring='f1')"
      ]
     },
     "execution_count": 41,
     "metadata": {},
     "output_type": "execute_result"
    }
   ],
   "source": [
    "%%time\n",
    "pipeline = Pipeline([\n",
    "    ('tfidf', TfidfVectorizer(stop_words=list(stopwords))),\n",
    "    ('xgb',XGBClassifier(random_state=12345))])\n",
    "params_xgb = {\n",
    "        'xgb__n_estimators': [10,50, 100],\n",
    "        'xgb__max_depth': [3, 8],\n",
    "        'xgb__eta': [0.5, 1]\n",
    "        }\n",
    "grid_xgb = GridSearchCV(pipeline, cv=5, n_jobs=-1, param_grid=params_xgb, scoring='f1')\n",
    "grid_xgb.fit(features_train['lemma_text'], target_train)"
   ]
  },
  {
   "cell_type": "code",
   "execution_count": 42,
   "metadata": {},
   "outputs": [
    {
     "name": "stdout",
     "output_type": "stream",
     "text": [
      "{'xgb__eta': 0.5, 'xgb__max_depth': 8, 'xgb__n_estimators': 100}\n",
      "0.7599711744417805\n"
     ]
    }
   ],
   "source": [
    "print(grid_xgb.best_params_)\n",
    "print(grid_xgb.best_score_)"
   ]
  },
  {
   "cell_type": "markdown",
   "metadata": {},
   "source": [
    "лучший показатель получился на обычном catboost, единственное, я не совсем с ним понял, есть ли там встроенная кросс валидация? проверим нашу наилучшую модель на тестовой выборке"
   ]
  },
  {
   "cell_type": "code",
   "execution_count": 43,
   "metadata": {},
   "outputs": [
    {
     "name": "stderr",
     "output_type": "stream",
     "text": [
      "[nltk_data] Downloading package stopwords to\n",
      "[nltk_data]     /Users/aleksandrivanov/nltk_data...\n",
      "[nltk_data]   Package stopwords is already up-to-date!\n"
     ]
    }
   ],
   "source": [
    "corpus_test = features_test['lemma_text'].values\n",
    "\n",
    "nltk.download('stopwords')\n",
    "stopwords = set(nltk_stopwords.words('english'))\n",
    "#count_tf_idf_test = TfidfVectorizer(stop_words=list(stopwords)) \n",
    "tf_idf_test = count_tf_idf.transform(corpus_test)"
   ]
  },
  {
   "cell_type": "code",
   "execution_count": 44,
   "metadata": {},
   "outputs": [],
   "source": [
    "cat_predict = cat_m.predict (tf_idf_test)"
   ]
  },
  {
   "cell_type": "code",
   "execution_count": 45,
   "metadata": {
    "scrolled": true
   },
   "outputs": [
    {
     "name": "stdout",
     "output_type": "stream",
     "text": [
      "0.7565248480514836\n"
     ]
    }
   ],
   "source": [
    "print (f1_score(target_test, cat_predict))"
   ]
  },
  {
   "cell_type": "markdown",
   "metadata": {},
   "source": [
    "## Выводы"
   ]
  },
  {
   "cell_type": "markdown",
   "metadata": {},
   "source": [
    "Общие выводы:\n",
    "Были проведены следующие этапы обработки/подготовки данных:\n",
    "1. Осмотр датасета\n",
    "2. Проверка на пропуски, аномалии, отклонения, данные подготовлены\n",
    "3. Созданы функции для очистки данных и лемматизации данных\n",
    "4. Далее данные разбиты на тест и трейн\n",
    "5. Далее выполнена веторизация данных\n",
    "6. Проведено обучение на нескольких вариантах моделей, лучшшее значение получилось на моделе Catboost, проверили её на тестовой выбокре и получили значение f1 0.75, что соответствует требованиям заказчика"
   ]
  }
 ],
 "metadata": {
  "ExecuteTimeLog": [
   {
    "duration": 47,
    "start_time": "2023-03-13T15:17:41.085Z"
   },
   {
    "duration": 2,
    "start_time": "2023-03-13T15:17:46.599Z"
   }
  ],
  "kernelspec": {
   "display_name": "Python 3 (ipykernel)",
   "language": "python",
   "name": "python3"
  },
  "language_info": {
   "codemirror_mode": {
    "name": "ipython",
    "version": 3
   },
   "file_extension": ".py",
   "mimetype": "text/x-python",
   "name": "python",
   "nbconvert_exporter": "python",
   "pygments_lexer": "ipython3",
   "version": "3.9.16"
  },
  "toc": {
   "base_numbering": 1,
   "nav_menu": {},
   "number_sections": true,
   "sideBar": true,
   "skip_h1_title": true,
   "title_cell": "Содержание",
   "title_sidebar": "Contents",
   "toc_cell": true,
   "toc_position": {
    "height": "calc(100% - 180px)",
    "left": "10px",
    "top": "150px",
    "width": "302.391px"
   },
   "toc_section_display": true,
   "toc_window_display": false
  }
 },
 "nbformat": 4,
 "nbformat_minor": 2
}

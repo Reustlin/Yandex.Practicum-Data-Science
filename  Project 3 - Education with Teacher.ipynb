{
 "cells": [
  {
   "cell_type": "markdown",
   "metadata": {
    "toc": true
   },
   "source": [
    "<h1>Содержание<span class=\"tocSkip\"></span></h1>\n",
    "<div class=\"toc\"><ul class=\"toc-item\"><li><span><a href=\"#Подготовка-данных\" data-toc-modified-id=\"Подготовка-данных-1\"><span class=\"toc-item-num\">1&nbsp;&nbsp;</span>Подготовка данных</a></span></li><li><span><a href=\"#Исследование-задачи\" data-toc-modified-id=\"Исследование-задачи-2\"><span class=\"toc-item-num\">2&nbsp;&nbsp;</span>Исследование задачи</a></span></li><li><span><a href=\"#Борьба-с-дисбалансом\" data-toc-modified-id=\"Борьба-с-дисбалансом-3\"><span class=\"toc-item-num\">3&nbsp;&nbsp;</span>Борьба с дисбалансом</a></span></li><li><span><a href=\"#Тестирование-модели\" data-toc-modified-id=\"Тестирование-модели-4\"><span class=\"toc-item-num\">4&nbsp;&nbsp;</span>Тестирование модели</a></span></li><li><span><a href=\"#Чек-лист-готовности-проекта\" data-toc-modified-id=\"Чек-лист-готовности-проекта-5\"><span class=\"toc-item-num\">5&nbsp;&nbsp;</span>Чек-лист готовности проекта</a></span></li></ul></div>"
   ]
  },
  {
   "cell_type": "markdown",
   "metadata": {},
   "source": [
    "# Отток клиентов"
   ]
  },
  {
   "cell_type": "markdown",
   "metadata": {},
   "source": [
    "Из «Бета-Банка» стали уходить клиенты. Каждый месяц. Немного, но заметно. Банковские маркетологи посчитали: сохранять текущих клиентов дешевле, чем привлекать новых.\n",
    "\n",
    "Нужно спрогнозировать, уйдёт клиент из банка в ближайшее время или нет. Вам предоставлены исторические данные о поведении клиентов и расторжении договоров с банком. \n",
    "\n",
    "Постройте модель с предельно большим значением *F1*-меры. Чтобы сдать проект успешно, нужно довести метрику до 0.59. Проверьте *F1*-меру на тестовой выборке самостоятельно.\n",
    "\n",
    "Дополнительно измеряйте *AUC-ROC*, сравнивайте её значение с *F1*-мерой.\n",
    "\n",
    "Источник данных: [https://www.kaggle.com/barelydedicated/bank-customer-churn-modeling](https://www.kaggle.com/barelydedicated/bank-customer-churn-modeling)"
   ]
  },
  {
   "cell_type": "markdown",
   "metadata": {},
   "source": [
    "Признаки\n",
    "- RowNumber — индекс строки в данных\n",
    "- CustomerId — уникальный идентификатор клиента\n",
    "- Surname — фамилия\n",
    "- CreditScore — кредитный рейтинг\n",
    "- Geography — страна проживания\n",
    "- Gender — пол\n",
    "- Age — возраст\n",
    "- Tenure — сколько лет человек является клиентом банка\n",
    "- Balance — баланс на счёте\n",
    "- NumOfProducts — количество продуктов банка, используемых клиентом\n",
    "- HasCrCard — наличие кредитной карты\n",
    "- IsActiveMember — активность клиента\n",
    "- EstimatedSalary — предполагаемая зарплата\n",
    "- Целевой признак\n",
    "- Exited — факт ухода клиента"
   ]
  },
  {
   "cell_type": "markdown",
   "metadata": {},
   "source": [
    "## Подготовка данных"
   ]
  },
  {
   "cell_type": "code",
   "execution_count": 1,
   "metadata": {},
   "outputs": [],
   "source": [
    "#загрузим всё, что может пригодиться\n",
    "import pandas as pd\n",
    "from sklearn.model_selection import train_test_split\n",
    "from sklearn.ensemble import RandomForestClassifier\n",
    "from sklearn.tree import DecisionTreeClassifier\n",
    "from sklearn.metrics import accuracy_score\n",
    "from sklearn.model_selection import GridSearchCV \n",
    "import matplotlib.pyplot as plt\n",
    "from sklearn.metrics import roc_auc_score\n",
    "from sklearn.metrics import f1_score \n",
    "from sklearn.utils import shuffle\n",
    "from sklearn.preprocessing import StandardScaler \n",
    "from tqdm import tqdm\n"
   ]
  },
  {
   "cell_type": "code",
   "execution_count": 2,
   "metadata": {},
   "outputs": [],
   "source": [
    "try:\n",
    "    df= pd.read_csv('/datasets/Churn.csv')\n",
    "except:\n",
    "    df=pd.read_csv('/Users/aleksandrivanov/Downloads/Churn.csv')"
   ]
  },
  {
   "cell_type": "code",
   "execution_count": 3,
   "metadata": {},
   "outputs": [],
   "source": [
    "pd.set_option('display.max_columns', None)"
   ]
  },
  {
   "cell_type": "code",
   "execution_count": 4,
   "metadata": {
    "scrolled": true
   },
   "outputs": [
    {
     "name": "stdout",
     "output_type": "stream",
     "text": [
      "<class 'pandas.core.frame.DataFrame'>\n",
      "RangeIndex: 10000 entries, 0 to 9999\n",
      "Data columns (total 14 columns):\n",
      " #   Column           Non-Null Count  Dtype  \n",
      "---  ------           --------------  -----  \n",
      " 0   RowNumber        10000 non-null  int64  \n",
      " 1   CustomerId       10000 non-null  int64  \n",
      " 2   Surname          10000 non-null  object \n",
      " 3   CreditScore      10000 non-null  int64  \n",
      " 4   Geography        10000 non-null  object \n",
      " 5   Gender           10000 non-null  object \n",
      " 6   Age              10000 non-null  int64  \n",
      " 7   Tenure           9091 non-null   float64\n",
      " 8   Balance          10000 non-null  float64\n",
      " 9   NumOfProducts    10000 non-null  int64  \n",
      " 10  HasCrCard        10000 non-null  int64  \n",
      " 11  IsActiveMember   10000 non-null  int64  \n",
      " 12  EstimatedSalary  10000 non-null  float64\n",
      " 13  Exited           10000 non-null  int64  \n",
      "dtypes: float64(3), int64(8), object(3)\n",
      "memory usage: 1.1+ MB\n"
     ]
    }
   ],
   "source": [
    "df.info()"
   ]
  },
  {
   "cell_type": "code",
   "execution_count": 5,
   "metadata": {
    "scrolled": false
   },
   "outputs": [
    {
     "data": {
      "text/html": [
       "<div>\n",
       "<style scoped>\n",
       "    .dataframe tbody tr th:only-of-type {\n",
       "        vertical-align: middle;\n",
       "    }\n",
       "\n",
       "    .dataframe tbody tr th {\n",
       "        vertical-align: top;\n",
       "    }\n",
       "\n",
       "    .dataframe thead th {\n",
       "        text-align: right;\n",
       "    }\n",
       "</style>\n",
       "<table border=\"1\" class=\"dataframe\">\n",
       "  <thead>\n",
       "    <tr style=\"text-align: right;\">\n",
       "      <th></th>\n",
       "      <th>RowNumber</th>\n",
       "      <th>CustomerId</th>\n",
       "      <th>Surname</th>\n",
       "      <th>CreditScore</th>\n",
       "      <th>Geography</th>\n",
       "      <th>Gender</th>\n",
       "      <th>Age</th>\n",
       "      <th>Tenure</th>\n",
       "      <th>Balance</th>\n",
       "      <th>NumOfProducts</th>\n",
       "      <th>HasCrCard</th>\n",
       "      <th>IsActiveMember</th>\n",
       "      <th>EstimatedSalary</th>\n",
       "      <th>Exited</th>\n",
       "    </tr>\n",
       "  </thead>\n",
       "  <tbody>\n",
       "    <tr>\n",
       "      <th>0</th>\n",
       "      <td>1</td>\n",
       "      <td>15634602</td>\n",
       "      <td>Hargrave</td>\n",
       "      <td>619</td>\n",
       "      <td>France</td>\n",
       "      <td>Female</td>\n",
       "      <td>42</td>\n",
       "      <td>2.0</td>\n",
       "      <td>0.00</td>\n",
       "      <td>1</td>\n",
       "      <td>1</td>\n",
       "      <td>1</td>\n",
       "      <td>101348.88</td>\n",
       "      <td>1</td>\n",
       "    </tr>\n",
       "    <tr>\n",
       "      <th>1</th>\n",
       "      <td>2</td>\n",
       "      <td>15647311</td>\n",
       "      <td>Hill</td>\n",
       "      <td>608</td>\n",
       "      <td>Spain</td>\n",
       "      <td>Female</td>\n",
       "      <td>41</td>\n",
       "      <td>1.0</td>\n",
       "      <td>83807.86</td>\n",
       "      <td>1</td>\n",
       "      <td>0</td>\n",
       "      <td>1</td>\n",
       "      <td>112542.58</td>\n",
       "      <td>0</td>\n",
       "    </tr>\n",
       "    <tr>\n",
       "      <th>2</th>\n",
       "      <td>3</td>\n",
       "      <td>15619304</td>\n",
       "      <td>Onio</td>\n",
       "      <td>502</td>\n",
       "      <td>France</td>\n",
       "      <td>Female</td>\n",
       "      <td>42</td>\n",
       "      <td>8.0</td>\n",
       "      <td>159660.80</td>\n",
       "      <td>3</td>\n",
       "      <td>1</td>\n",
       "      <td>0</td>\n",
       "      <td>113931.57</td>\n",
       "      <td>1</td>\n",
       "    </tr>\n",
       "    <tr>\n",
       "      <th>3</th>\n",
       "      <td>4</td>\n",
       "      <td>15701354</td>\n",
       "      <td>Boni</td>\n",
       "      <td>699</td>\n",
       "      <td>France</td>\n",
       "      <td>Female</td>\n",
       "      <td>39</td>\n",
       "      <td>1.0</td>\n",
       "      <td>0.00</td>\n",
       "      <td>2</td>\n",
       "      <td>0</td>\n",
       "      <td>0</td>\n",
       "      <td>93826.63</td>\n",
       "      <td>0</td>\n",
       "    </tr>\n",
       "    <tr>\n",
       "      <th>4</th>\n",
       "      <td>5</td>\n",
       "      <td>15737888</td>\n",
       "      <td>Mitchell</td>\n",
       "      <td>850</td>\n",
       "      <td>Spain</td>\n",
       "      <td>Female</td>\n",
       "      <td>43</td>\n",
       "      <td>2.0</td>\n",
       "      <td>125510.82</td>\n",
       "      <td>1</td>\n",
       "      <td>1</td>\n",
       "      <td>1</td>\n",
       "      <td>79084.10</td>\n",
       "      <td>0</td>\n",
       "    </tr>\n",
       "  </tbody>\n",
       "</table>\n",
       "</div>"
      ],
      "text/plain": [
       "   RowNumber  CustomerId   Surname  CreditScore Geography  Gender  Age  \\\n",
       "0          1    15634602  Hargrave          619    France  Female   42   \n",
       "1          2    15647311      Hill          608     Spain  Female   41   \n",
       "2          3    15619304      Onio          502    France  Female   42   \n",
       "3          4    15701354      Boni          699    France  Female   39   \n",
       "4          5    15737888  Mitchell          850     Spain  Female   43   \n",
       "\n",
       "   Tenure    Balance  NumOfProducts  HasCrCard  IsActiveMember  \\\n",
       "0     2.0       0.00              1          1               1   \n",
       "1     1.0   83807.86              1          0               1   \n",
       "2     8.0  159660.80              3          1               0   \n",
       "3     1.0       0.00              2          0               0   \n",
       "4     2.0  125510.82              1          1               1   \n",
       "\n",
       "   EstimatedSalary  Exited  \n",
       "0        101348.88       1  \n",
       "1        112542.58       0  \n",
       "2        113931.57       1  \n",
       "3         93826.63       0  \n",
       "4         79084.10       0  "
      ]
     },
     "execution_count": 5,
     "metadata": {},
     "output_type": "execute_result"
    }
   ],
   "source": [
    "df.head()"
   ]
  },
  {
   "cell_type": "code",
   "execution_count": 6,
   "metadata": {},
   "outputs": [
    {
     "data": {
      "text/html": [
       "<div>\n",
       "<style scoped>\n",
       "    .dataframe tbody tr th:only-of-type {\n",
       "        vertical-align: middle;\n",
       "    }\n",
       "\n",
       "    .dataframe tbody tr th {\n",
       "        vertical-align: top;\n",
       "    }\n",
       "\n",
       "    .dataframe thead th {\n",
       "        text-align: right;\n",
       "    }\n",
       "</style>\n",
       "<table border=\"1\" class=\"dataframe\">\n",
       "  <thead>\n",
       "    <tr style=\"text-align: right;\">\n",
       "      <th></th>\n",
       "      <th>RowNumber</th>\n",
       "      <th>CustomerId</th>\n",
       "      <th>CreditScore</th>\n",
       "      <th>Age</th>\n",
       "      <th>Tenure</th>\n",
       "      <th>Balance</th>\n",
       "      <th>NumOfProducts</th>\n",
       "      <th>HasCrCard</th>\n",
       "      <th>IsActiveMember</th>\n",
       "      <th>EstimatedSalary</th>\n",
       "      <th>Exited</th>\n",
       "    </tr>\n",
       "  </thead>\n",
       "  <tbody>\n",
       "    <tr>\n",
       "      <th>RowNumber</th>\n",
       "      <td>1.000000</td>\n",
       "      <td>0.004202</td>\n",
       "      <td>0.005840</td>\n",
       "      <td>0.000783</td>\n",
       "      <td>-0.007322</td>\n",
       "      <td>-0.009067</td>\n",
       "      <td>0.007246</td>\n",
       "      <td>0.000599</td>\n",
       "      <td>0.012044</td>\n",
       "      <td>-0.005988</td>\n",
       "      <td>-0.016571</td>\n",
       "    </tr>\n",
       "    <tr>\n",
       "      <th>CustomerId</th>\n",
       "      <td>0.004202</td>\n",
       "      <td>1.000000</td>\n",
       "      <td>0.005308</td>\n",
       "      <td>0.009497</td>\n",
       "      <td>-0.021418</td>\n",
       "      <td>-0.012419</td>\n",
       "      <td>0.016972</td>\n",
       "      <td>-0.014025</td>\n",
       "      <td>0.001665</td>\n",
       "      <td>0.015271</td>\n",
       "      <td>-0.006248</td>\n",
       "    </tr>\n",
       "    <tr>\n",
       "      <th>CreditScore</th>\n",
       "      <td>0.005840</td>\n",
       "      <td>0.005308</td>\n",
       "      <td>1.000000</td>\n",
       "      <td>-0.003965</td>\n",
       "      <td>-0.000062</td>\n",
       "      <td>0.006268</td>\n",
       "      <td>0.012238</td>\n",
       "      <td>-0.005458</td>\n",
       "      <td>0.025651</td>\n",
       "      <td>-0.001384</td>\n",
       "      <td>-0.027094</td>\n",
       "    </tr>\n",
       "    <tr>\n",
       "      <th>Age</th>\n",
       "      <td>0.000783</td>\n",
       "      <td>0.009497</td>\n",
       "      <td>-0.003965</td>\n",
       "      <td>1.000000</td>\n",
       "      <td>-0.013134</td>\n",
       "      <td>0.028308</td>\n",
       "      <td>-0.030680</td>\n",
       "      <td>-0.011721</td>\n",
       "      <td>0.085472</td>\n",
       "      <td>-0.007201</td>\n",
       "      <td>0.285323</td>\n",
       "    </tr>\n",
       "    <tr>\n",
       "      <th>Tenure</th>\n",
       "      <td>-0.007322</td>\n",
       "      <td>-0.021418</td>\n",
       "      <td>-0.000062</td>\n",
       "      <td>-0.013134</td>\n",
       "      <td>1.000000</td>\n",
       "      <td>-0.007911</td>\n",
       "      <td>0.011979</td>\n",
       "      <td>0.027232</td>\n",
       "      <td>-0.032178</td>\n",
       "      <td>0.010520</td>\n",
       "      <td>-0.016761</td>\n",
       "    </tr>\n",
       "    <tr>\n",
       "      <th>Balance</th>\n",
       "      <td>-0.009067</td>\n",
       "      <td>-0.012419</td>\n",
       "      <td>0.006268</td>\n",
       "      <td>0.028308</td>\n",
       "      <td>-0.007911</td>\n",
       "      <td>1.000000</td>\n",
       "      <td>-0.304180</td>\n",
       "      <td>-0.014858</td>\n",
       "      <td>-0.010084</td>\n",
       "      <td>0.012797</td>\n",
       "      <td>0.118533</td>\n",
       "    </tr>\n",
       "    <tr>\n",
       "      <th>NumOfProducts</th>\n",
       "      <td>0.007246</td>\n",
       "      <td>0.016972</td>\n",
       "      <td>0.012238</td>\n",
       "      <td>-0.030680</td>\n",
       "      <td>0.011979</td>\n",
       "      <td>-0.304180</td>\n",
       "      <td>1.000000</td>\n",
       "      <td>0.003183</td>\n",
       "      <td>0.009612</td>\n",
       "      <td>0.014204</td>\n",
       "      <td>-0.047820</td>\n",
       "    </tr>\n",
       "    <tr>\n",
       "      <th>HasCrCard</th>\n",
       "      <td>0.000599</td>\n",
       "      <td>-0.014025</td>\n",
       "      <td>-0.005458</td>\n",
       "      <td>-0.011721</td>\n",
       "      <td>0.027232</td>\n",
       "      <td>-0.014858</td>\n",
       "      <td>0.003183</td>\n",
       "      <td>1.000000</td>\n",
       "      <td>-0.011866</td>\n",
       "      <td>-0.009933</td>\n",
       "      <td>-0.007138</td>\n",
       "    </tr>\n",
       "    <tr>\n",
       "      <th>IsActiveMember</th>\n",
       "      <td>0.012044</td>\n",
       "      <td>0.001665</td>\n",
       "      <td>0.025651</td>\n",
       "      <td>0.085472</td>\n",
       "      <td>-0.032178</td>\n",
       "      <td>-0.010084</td>\n",
       "      <td>0.009612</td>\n",
       "      <td>-0.011866</td>\n",
       "      <td>1.000000</td>\n",
       "      <td>-0.011421</td>\n",
       "      <td>-0.156128</td>\n",
       "    </tr>\n",
       "    <tr>\n",
       "      <th>EstimatedSalary</th>\n",
       "      <td>-0.005988</td>\n",
       "      <td>0.015271</td>\n",
       "      <td>-0.001384</td>\n",
       "      <td>-0.007201</td>\n",
       "      <td>0.010520</td>\n",
       "      <td>0.012797</td>\n",
       "      <td>0.014204</td>\n",
       "      <td>-0.009933</td>\n",
       "      <td>-0.011421</td>\n",
       "      <td>1.000000</td>\n",
       "      <td>0.012097</td>\n",
       "    </tr>\n",
       "    <tr>\n",
       "      <th>Exited</th>\n",
       "      <td>-0.016571</td>\n",
       "      <td>-0.006248</td>\n",
       "      <td>-0.027094</td>\n",
       "      <td>0.285323</td>\n",
       "      <td>-0.016761</td>\n",
       "      <td>0.118533</td>\n",
       "      <td>-0.047820</td>\n",
       "      <td>-0.007138</td>\n",
       "      <td>-0.156128</td>\n",
       "      <td>0.012097</td>\n",
       "      <td>1.000000</td>\n",
       "    </tr>\n",
       "  </tbody>\n",
       "</table>\n",
       "</div>"
      ],
      "text/plain": [
       "                 RowNumber  CustomerId  CreditScore       Age    Tenure  \\\n",
       "RowNumber         1.000000    0.004202     0.005840  0.000783 -0.007322   \n",
       "CustomerId        0.004202    1.000000     0.005308  0.009497 -0.021418   \n",
       "CreditScore       0.005840    0.005308     1.000000 -0.003965 -0.000062   \n",
       "Age               0.000783    0.009497    -0.003965  1.000000 -0.013134   \n",
       "Tenure           -0.007322   -0.021418    -0.000062 -0.013134  1.000000   \n",
       "Balance          -0.009067   -0.012419     0.006268  0.028308 -0.007911   \n",
       "NumOfProducts     0.007246    0.016972     0.012238 -0.030680  0.011979   \n",
       "HasCrCard         0.000599   -0.014025    -0.005458 -0.011721  0.027232   \n",
       "IsActiveMember    0.012044    0.001665     0.025651  0.085472 -0.032178   \n",
       "EstimatedSalary  -0.005988    0.015271    -0.001384 -0.007201  0.010520   \n",
       "Exited           -0.016571   -0.006248    -0.027094  0.285323 -0.016761   \n",
       "\n",
       "                  Balance  NumOfProducts  HasCrCard  IsActiveMember  \\\n",
       "RowNumber       -0.009067       0.007246   0.000599        0.012044   \n",
       "CustomerId      -0.012419       0.016972  -0.014025        0.001665   \n",
       "CreditScore      0.006268       0.012238  -0.005458        0.025651   \n",
       "Age              0.028308      -0.030680  -0.011721        0.085472   \n",
       "Tenure          -0.007911       0.011979   0.027232       -0.032178   \n",
       "Balance          1.000000      -0.304180  -0.014858       -0.010084   \n",
       "NumOfProducts   -0.304180       1.000000   0.003183        0.009612   \n",
       "HasCrCard       -0.014858       0.003183   1.000000       -0.011866   \n",
       "IsActiveMember  -0.010084       0.009612  -0.011866        1.000000   \n",
       "EstimatedSalary  0.012797       0.014204  -0.009933       -0.011421   \n",
       "Exited           0.118533      -0.047820  -0.007138       -0.156128   \n",
       "\n",
       "                 EstimatedSalary    Exited  \n",
       "RowNumber              -0.005988 -0.016571  \n",
       "CustomerId              0.015271 -0.006248  \n",
       "CreditScore            -0.001384 -0.027094  \n",
       "Age                    -0.007201  0.285323  \n",
       "Tenure                  0.010520 -0.016761  \n",
       "Balance                 0.012797  0.118533  \n",
       "NumOfProducts           0.014204 -0.047820  \n",
       "HasCrCard              -0.009933 -0.007138  \n",
       "IsActiveMember         -0.011421 -0.156128  \n",
       "EstimatedSalary         1.000000  0.012097  \n",
       "Exited                  0.012097  1.000000  "
      ]
     },
     "execution_count": 6,
     "metadata": {},
     "output_type": "execute_result"
    }
   ],
   "source": [
    "df.corr()"
   ]
  },
  {
   "cell_type": "markdown",
   "metadata": {},
   "source": [
    "Смотрим по данным, что сходу можем сделать - удалить столбик Surname, \tRowNumber, CustomerId у нас нет цели отследить конкретного клиента, а нужна общая статистика, без имен "
   ]
  },
  {
   "cell_type": "code",
   "execution_count": 7,
   "metadata": {
    "scrolled": true
   },
   "outputs": [],
   "source": [
    "df = df.drop(['Surname','RowNumber','CustomerId'], axis=1)"
   ]
  },
  {
   "cell_type": "code",
   "execution_count": 8,
   "metadata": {},
   "outputs": [],
   "source": [
    "#сделаем все буквы в нижний регистр, иначе будет угадывать где маленькая буква была, где большая\n",
    "df.columns= df.columns.str.lower()"
   ]
  },
  {
   "cell_type": "code",
   "execution_count": 9,
   "metadata": {},
   "outputs": [
    {
     "data": {
      "text/plain": [
       "0"
      ]
     },
     "execution_count": 9,
     "metadata": {},
     "output_type": "execute_result"
    }
   ],
   "source": [
    "df.duplicated().sum()"
   ]
  },
  {
   "cell_type": "markdown",
   "metadata": {},
   "source": [
    "явный дубликатов тут нет, посмотрим что с пропусками\n"
   ]
  },
  {
   "cell_type": "code",
   "execution_count": 10,
   "metadata": {
    "scrolled": true
   },
   "outputs": [
    {
     "data": {
      "text/plain": [
       "creditscore          0\n",
       "geography            0\n",
       "gender               0\n",
       "age                  0\n",
       "tenure             909\n",
       "balance              0\n",
       "numofproducts        0\n",
       "hascrcard            0\n",
       "isactivemember       0\n",
       "estimatedsalary      0\n",
       "exited               0\n",
       "dtype: int64"
      ]
     },
     "execution_count": 10,
     "metadata": {},
     "output_type": "execute_result"
    }
   ],
   "source": [
    "df.isnull().sum()"
   ]
  },
  {
   "cell_type": "markdown",
   "metadata": {},
   "source": [
    "мы не можем удалить эти пропущенные значения, так как их почти 10%, странный момент, что пропуски в разделе \"сколько лет человек явнляется клиентом банка\", требуется отправить запрос разработчику, почему возникла такая ситуация, у себя же заменим на 0, если бы мы оставили линейную регрессию, то лучше было бы заменить на медиану"
   ]
  },
  {
   "cell_type": "code",
   "execution_count": 11,
   "metadata": {
    "scrolled": true
   },
   "outputs": [
    {
     "data": {
      "text/plain": [
       "creditscore        0\n",
       "geography          0\n",
       "gender             0\n",
       "age                0\n",
       "tenure             0\n",
       "balance            0\n",
       "numofproducts      0\n",
       "hascrcard          0\n",
       "isactivemember     0\n",
       "estimatedsalary    0\n",
       "exited             0\n",
       "dtype: int64"
      ]
     },
     "execution_count": 11,
     "metadata": {},
     "output_type": "execute_result"
    }
   ],
   "source": [
    "df[\"tenure\"].fillna(0, inplace=True)\n",
    "df.isnull().sum()"
   ]
  },
  {
   "cell_type": "code",
   "execution_count": 12,
   "metadata": {
    "scrolled": true
   },
   "outputs": [
    {
     "data": {
      "text/html": [
       "<div>\n",
       "<style scoped>\n",
       "    .dataframe tbody tr th:only-of-type {\n",
       "        vertical-align: middle;\n",
       "    }\n",
       "\n",
       "    .dataframe tbody tr th {\n",
       "        vertical-align: top;\n",
       "    }\n",
       "\n",
       "    .dataframe thead th {\n",
       "        text-align: right;\n",
       "    }\n",
       "</style>\n",
       "<table border=\"1\" class=\"dataframe\">\n",
       "  <thead>\n",
       "    <tr style=\"text-align: right;\">\n",
       "      <th></th>\n",
       "      <th>creditscore</th>\n",
       "      <th>age</th>\n",
       "      <th>tenure</th>\n",
       "      <th>balance</th>\n",
       "      <th>numofproducts</th>\n",
       "      <th>hascrcard</th>\n",
       "      <th>isactivemember</th>\n",
       "      <th>estimatedsalary</th>\n",
       "      <th>exited</th>\n",
       "    </tr>\n",
       "  </thead>\n",
       "  <tbody>\n",
       "    <tr>\n",
       "      <th>count</th>\n",
       "      <td>10000.000000</td>\n",
       "      <td>10000.000000</td>\n",
       "      <td>10000.000000</td>\n",
       "      <td>10000.000000</td>\n",
       "      <td>10000.000000</td>\n",
       "      <td>10000.00000</td>\n",
       "      <td>10000.000000</td>\n",
       "      <td>10000.000000</td>\n",
       "      <td>10000.000000</td>\n",
       "    </tr>\n",
       "    <tr>\n",
       "      <th>mean</th>\n",
       "      <td>650.528800</td>\n",
       "      <td>38.921800</td>\n",
       "      <td>4.543400</td>\n",
       "      <td>76485.889288</td>\n",
       "      <td>1.530200</td>\n",
       "      <td>0.70550</td>\n",
       "      <td>0.515100</td>\n",
       "      <td>100090.239881</td>\n",
       "      <td>0.203700</td>\n",
       "    </tr>\n",
       "    <tr>\n",
       "      <th>std</th>\n",
       "      <td>96.653299</td>\n",
       "      <td>10.487806</td>\n",
       "      <td>3.111573</td>\n",
       "      <td>62397.405202</td>\n",
       "      <td>0.581654</td>\n",
       "      <td>0.45584</td>\n",
       "      <td>0.499797</td>\n",
       "      <td>57510.492818</td>\n",
       "      <td>0.402769</td>\n",
       "    </tr>\n",
       "    <tr>\n",
       "      <th>min</th>\n",
       "      <td>350.000000</td>\n",
       "      <td>18.000000</td>\n",
       "      <td>0.000000</td>\n",
       "      <td>0.000000</td>\n",
       "      <td>1.000000</td>\n",
       "      <td>0.00000</td>\n",
       "      <td>0.000000</td>\n",
       "      <td>11.580000</td>\n",
       "      <td>0.000000</td>\n",
       "    </tr>\n",
       "    <tr>\n",
       "      <th>25%</th>\n",
       "      <td>584.000000</td>\n",
       "      <td>32.000000</td>\n",
       "      <td>2.000000</td>\n",
       "      <td>0.000000</td>\n",
       "      <td>1.000000</td>\n",
       "      <td>0.00000</td>\n",
       "      <td>0.000000</td>\n",
       "      <td>51002.110000</td>\n",
       "      <td>0.000000</td>\n",
       "    </tr>\n",
       "    <tr>\n",
       "      <th>50%</th>\n",
       "      <td>652.000000</td>\n",
       "      <td>37.000000</td>\n",
       "      <td>4.000000</td>\n",
       "      <td>97198.540000</td>\n",
       "      <td>1.000000</td>\n",
       "      <td>1.00000</td>\n",
       "      <td>1.000000</td>\n",
       "      <td>100193.915000</td>\n",
       "      <td>0.000000</td>\n",
       "    </tr>\n",
       "    <tr>\n",
       "      <th>75%</th>\n",
       "      <td>718.000000</td>\n",
       "      <td>44.000000</td>\n",
       "      <td>7.000000</td>\n",
       "      <td>127644.240000</td>\n",
       "      <td>2.000000</td>\n",
       "      <td>1.00000</td>\n",
       "      <td>1.000000</td>\n",
       "      <td>149388.247500</td>\n",
       "      <td>0.000000</td>\n",
       "    </tr>\n",
       "    <tr>\n",
       "      <th>max</th>\n",
       "      <td>850.000000</td>\n",
       "      <td>92.000000</td>\n",
       "      <td>10.000000</td>\n",
       "      <td>250898.090000</td>\n",
       "      <td>4.000000</td>\n",
       "      <td>1.00000</td>\n",
       "      <td>1.000000</td>\n",
       "      <td>199992.480000</td>\n",
       "      <td>1.000000</td>\n",
       "    </tr>\n",
       "  </tbody>\n",
       "</table>\n",
       "</div>"
      ],
      "text/plain": [
       "        creditscore           age        tenure        balance  numofproducts  \\\n",
       "count  10000.000000  10000.000000  10000.000000   10000.000000   10000.000000   \n",
       "mean     650.528800     38.921800      4.543400   76485.889288       1.530200   \n",
       "std       96.653299     10.487806      3.111573   62397.405202       0.581654   \n",
       "min      350.000000     18.000000      0.000000       0.000000       1.000000   \n",
       "25%      584.000000     32.000000      2.000000       0.000000       1.000000   \n",
       "50%      652.000000     37.000000      4.000000   97198.540000       1.000000   \n",
       "75%      718.000000     44.000000      7.000000  127644.240000       2.000000   \n",
       "max      850.000000     92.000000     10.000000  250898.090000       4.000000   \n",
       "\n",
       "         hascrcard  isactivemember  estimatedsalary        exited  \n",
       "count  10000.00000    10000.000000     10000.000000  10000.000000  \n",
       "mean       0.70550        0.515100    100090.239881      0.203700  \n",
       "std        0.45584        0.499797     57510.492818      0.402769  \n",
       "min        0.00000        0.000000        11.580000      0.000000  \n",
       "25%        0.00000        0.000000     51002.110000      0.000000  \n",
       "50%        1.00000        1.000000    100193.915000      0.000000  \n",
       "75%        1.00000        1.000000    149388.247500      0.000000  \n",
       "max        1.00000        1.000000    199992.480000      1.000000  "
      ]
     },
     "execution_count": 12,
     "metadata": {},
     "output_type": "execute_result"
    }
   ],
   "source": [
    "df.describe()"
   ]
  },
  {
   "cell_type": "markdown",
   "metadata": {},
   "source": [
    "## Исследование задачи"
   ]
  },
  {
   "cell_type": "markdown",
   "metadata": {},
   "source": [
    "Вы познакомились с двумя техниками кодирования категориальных переменных. \n",
    "\n",
    "Резюмируем:\n",
    "Если все признаки должны стать количественными, подходит техника OHE;\n",
    "Когда все признаки категориальные, и их нужно преобразовать в числа — Ordinal Encoding.\n",
    "OE не подходил для логической регрессии, но я и не собираюсь её здесь применять, она нуна для быстрого решения задачи, например, когда идёт запуск модели по данным, например, во время телефонного звонка, мы же можем здесь спокойно подождать, пока наша модел считает. Но выбор остановим на OHE, так как  у нас признаков немного"
   ]
  },
  {
   "cell_type": "code",
   "execution_count": 13,
   "metadata": {
    "scrolled": true
   },
   "outputs": [
    {
     "data": {
      "text/html": [
       "<div>\n",
       "<style scoped>\n",
       "    .dataframe tbody tr th:only-of-type {\n",
       "        vertical-align: middle;\n",
       "    }\n",
       "\n",
       "    .dataframe tbody tr th {\n",
       "        vertical-align: top;\n",
       "    }\n",
       "\n",
       "    .dataframe thead th {\n",
       "        text-align: right;\n",
       "    }\n",
       "</style>\n",
       "<table border=\"1\" class=\"dataframe\">\n",
       "  <thead>\n",
       "    <tr style=\"text-align: right;\">\n",
       "      <th></th>\n",
       "      <th>creditscore</th>\n",
       "      <th>geography</th>\n",
       "      <th>gender</th>\n",
       "      <th>age</th>\n",
       "      <th>tenure</th>\n",
       "      <th>balance</th>\n",
       "      <th>numofproducts</th>\n",
       "      <th>hascrcard</th>\n",
       "      <th>isactivemember</th>\n",
       "      <th>estimatedsalary</th>\n",
       "      <th>exited</th>\n",
       "    </tr>\n",
       "  </thead>\n",
       "  <tbody>\n",
       "    <tr>\n",
       "      <th>0</th>\n",
       "      <td>619</td>\n",
       "      <td>France</td>\n",
       "      <td>Female</td>\n",
       "      <td>42</td>\n",
       "      <td>2.0</td>\n",
       "      <td>0.00</td>\n",
       "      <td>1</td>\n",
       "      <td>1</td>\n",
       "      <td>1</td>\n",
       "      <td>101348.88</td>\n",
       "      <td>1</td>\n",
       "    </tr>\n",
       "    <tr>\n",
       "      <th>1</th>\n",
       "      <td>608</td>\n",
       "      <td>Spain</td>\n",
       "      <td>Female</td>\n",
       "      <td>41</td>\n",
       "      <td>1.0</td>\n",
       "      <td>83807.86</td>\n",
       "      <td>1</td>\n",
       "      <td>0</td>\n",
       "      <td>1</td>\n",
       "      <td>112542.58</td>\n",
       "      <td>0</td>\n",
       "    </tr>\n",
       "    <tr>\n",
       "      <th>2</th>\n",
       "      <td>502</td>\n",
       "      <td>France</td>\n",
       "      <td>Female</td>\n",
       "      <td>42</td>\n",
       "      <td>8.0</td>\n",
       "      <td>159660.80</td>\n",
       "      <td>3</td>\n",
       "      <td>1</td>\n",
       "      <td>0</td>\n",
       "      <td>113931.57</td>\n",
       "      <td>1</td>\n",
       "    </tr>\n",
       "    <tr>\n",
       "      <th>3</th>\n",
       "      <td>699</td>\n",
       "      <td>France</td>\n",
       "      <td>Female</td>\n",
       "      <td>39</td>\n",
       "      <td>1.0</td>\n",
       "      <td>0.00</td>\n",
       "      <td>2</td>\n",
       "      <td>0</td>\n",
       "      <td>0</td>\n",
       "      <td>93826.63</td>\n",
       "      <td>0</td>\n",
       "    </tr>\n",
       "    <tr>\n",
       "      <th>4</th>\n",
       "      <td>850</td>\n",
       "      <td>Spain</td>\n",
       "      <td>Female</td>\n",
       "      <td>43</td>\n",
       "      <td>2.0</td>\n",
       "      <td>125510.82</td>\n",
       "      <td>1</td>\n",
       "      <td>1</td>\n",
       "      <td>1</td>\n",
       "      <td>79084.10</td>\n",
       "      <td>0</td>\n",
       "    </tr>\n",
       "  </tbody>\n",
       "</table>\n",
       "</div>"
      ],
      "text/plain": [
       "   creditscore geography  gender  age  tenure    balance  numofproducts  \\\n",
       "0          619    France  Female   42     2.0       0.00              1   \n",
       "1          608     Spain  Female   41     1.0   83807.86              1   \n",
       "2          502    France  Female   42     8.0  159660.80              3   \n",
       "3          699    France  Female   39     1.0       0.00              2   \n",
       "4          850     Spain  Female   43     2.0  125510.82              1   \n",
       "\n",
       "   hascrcard  isactivemember  estimatedsalary  exited  \n",
       "0          1               1        101348.88       1  \n",
       "1          0               1        112542.58       0  \n",
       "2          1               0        113931.57       1  \n",
       "3          0               0         93826.63       0  \n",
       "4          1               1         79084.10       0  "
      ]
     },
     "execution_count": 13,
     "metadata": {},
     "output_type": "execute_result"
    }
   ],
   "source": [
    "df.head()"
   ]
  },
  {
   "cell_type": "code",
   "execution_count": 14,
   "metadata": {
    "scrolled": true
   },
   "outputs": [
    {
     "name": "stdout",
     "output_type": "stream",
     "text": [
      "<class 'pandas.core.frame.DataFrame'>\n",
      "RangeIndex: 10000 entries, 0 to 9999\n",
      "Data columns (total 11 columns):\n",
      " #   Column           Non-Null Count  Dtype  \n",
      "---  ------           --------------  -----  \n",
      " 0   creditscore      10000 non-null  int64  \n",
      " 1   geography        10000 non-null  object \n",
      " 2   gender           10000 non-null  object \n",
      " 3   age              10000 non-null  int64  \n",
      " 4   tenure           10000 non-null  float64\n",
      " 5   balance          10000 non-null  float64\n",
      " 6   numofproducts    10000 non-null  int64  \n",
      " 7   hascrcard        10000 non-null  int64  \n",
      " 8   isactivemember   10000 non-null  int64  \n",
      " 9   estimatedsalary  10000 non-null  float64\n",
      " 10  exited           10000 non-null  int64  \n",
      "dtypes: float64(3), int64(6), object(2)\n",
      "memory usage: 859.5+ KB\n"
     ]
    }
   ],
   "source": [
    "df.info()"
   ]
  },
  {
   "cell_type": "code",
   "execution_count": 15,
   "metadata": {},
   "outputs": [],
   "source": [
    "features = df.drop(['exited'], axis=1)\n",
    "target = df['exited']"
   ]
  },
  {
   "cell_type": "markdown",
   "metadata": {},
   "source": [
    "Разобьем переменные в 2 этапа, в начале выделим тестовую модельв 20%, а потом оставшуюся часть разобьем ещё раз, добавим вспомогательную переменную _help"
   ]
  },
  {
   "cell_type": "code",
   "execution_count": 16,
   "metadata": {},
   "outputs": [],
   "source": [
    "features_help, features_test, target_help, target_test = train_test_split(\n",
    "    features, target, test_size=0.2, random_state=12345, stratify = target)"
   ]
  },
  {
   "cell_type": "code",
   "execution_count": 17,
   "metadata": {},
   "outputs": [],
   "source": [
    "features_train, features_valid, target_train, target_valid = train_test_split(\n",
    "    features_help, target_help, test_size=0.25, random_state=12345, stratify = target_help)"
   ]
  },
  {
   "cell_type": "code",
   "execution_count": 18,
   "metadata": {},
   "outputs": [],
   "source": [
    "features_train = pd.get_dummies(features_train,drop_first= True )\n",
    "features_valid = pd.get_dummies(features_valid,drop_first= True )\n",
    "features_test = pd.get_dummies(features_test,drop_first= True )\n",
    "# target_train = pd.get_dummies(target_train,drop_first= True )\n",
    "# target_valid = pd.get_dummies(target_valid,drop_first= True )\n",
    "# target_test = pd.get_dummies(target_test,drop_first= True )\n"
   ]
  },
  {
   "cell_type": "code",
   "execution_count": 19,
   "metadata": {},
   "outputs": [
    {
     "data": {
      "text/html": [
       "<div>\n",
       "<style scoped>\n",
       "    .dataframe tbody tr th:only-of-type {\n",
       "        vertical-align: middle;\n",
       "    }\n",
       "\n",
       "    .dataframe tbody tr th {\n",
       "        vertical-align: top;\n",
       "    }\n",
       "\n",
       "    .dataframe thead th {\n",
       "        text-align: right;\n",
       "    }\n",
       "</style>\n",
       "<table border=\"1\" class=\"dataframe\">\n",
       "  <thead>\n",
       "    <tr style=\"text-align: right;\">\n",
       "      <th></th>\n",
       "      <th>creditscore</th>\n",
       "      <th>age</th>\n",
       "      <th>tenure</th>\n",
       "      <th>balance</th>\n",
       "      <th>numofproducts</th>\n",
       "      <th>hascrcard</th>\n",
       "      <th>isactivemember</th>\n",
       "      <th>estimatedsalary</th>\n",
       "      <th>geography_Germany</th>\n",
       "      <th>geography_Spain</th>\n",
       "      <th>gender_Male</th>\n",
       "    </tr>\n",
       "  </thead>\n",
       "  <tbody>\n",
       "    <tr>\n",
       "      <th>7837</th>\n",
       "      <td>850</td>\n",
       "      <td>48</td>\n",
       "      <td>2.0</td>\n",
       "      <td>0.00</td>\n",
       "      <td>1</td>\n",
       "      <td>1</td>\n",
       "      <td>0</td>\n",
       "      <td>169425.30</td>\n",
       "      <td>0</td>\n",
       "      <td>1</td>\n",
       "      <td>1</td>\n",
       "    </tr>\n",
       "    <tr>\n",
       "      <th>9505</th>\n",
       "      <td>651</td>\n",
       "      <td>28</td>\n",
       "      <td>10.0</td>\n",
       "      <td>79562.98</td>\n",
       "      <td>1</td>\n",
       "      <td>1</td>\n",
       "      <td>1</td>\n",
       "      <td>74687.37</td>\n",
       "      <td>0</td>\n",
       "      <td>0</td>\n",
       "      <td>1</td>\n",
       "    </tr>\n",
       "    <tr>\n",
       "      <th>6208</th>\n",
       "      <td>714</td>\n",
       "      <td>34</td>\n",
       "      <td>10.0</td>\n",
       "      <td>0.00</td>\n",
       "      <td>2</td>\n",
       "      <td>1</td>\n",
       "      <td>1</td>\n",
       "      <td>80234.14</td>\n",
       "      <td>0</td>\n",
       "      <td>0</td>\n",
       "      <td>1</td>\n",
       "    </tr>\n",
       "    <tr>\n",
       "      <th>5642</th>\n",
       "      <td>782</td>\n",
       "      <td>41</td>\n",
       "      <td>4.0</td>\n",
       "      <td>0.00</td>\n",
       "      <td>1</td>\n",
       "      <td>1</td>\n",
       "      <td>0</td>\n",
       "      <td>132943.88</td>\n",
       "      <td>0</td>\n",
       "      <td>1</td>\n",
       "      <td>0</td>\n",
       "    </tr>\n",
       "    <tr>\n",
       "      <th>9643</th>\n",
       "      <td>521</td>\n",
       "      <td>41</td>\n",
       "      <td>2.0</td>\n",
       "      <td>0.00</td>\n",
       "      <td>2</td>\n",
       "      <td>1</td>\n",
       "      <td>1</td>\n",
       "      <td>113089.43</td>\n",
       "      <td>0</td>\n",
       "      <td>0</td>\n",
       "      <td>0</td>\n",
       "    </tr>\n",
       "    <tr>\n",
       "      <th>...</th>\n",
       "      <td>...</td>\n",
       "      <td>...</td>\n",
       "      <td>...</td>\n",
       "      <td>...</td>\n",
       "      <td>...</td>\n",
       "      <td>...</td>\n",
       "      <td>...</td>\n",
       "      <td>...</td>\n",
       "      <td>...</td>\n",
       "      <td>...</td>\n",
       "      <td>...</td>\n",
       "    </tr>\n",
       "    <tr>\n",
       "      <th>1238</th>\n",
       "      <td>746</td>\n",
       "      <td>24</td>\n",
       "      <td>3.0</td>\n",
       "      <td>137492.35</td>\n",
       "      <td>2</td>\n",
       "      <td>0</td>\n",
       "      <td>1</td>\n",
       "      <td>170142.09</td>\n",
       "      <td>0</td>\n",
       "      <td>0</td>\n",
       "      <td>1</td>\n",
       "    </tr>\n",
       "    <tr>\n",
       "      <th>9774</th>\n",
       "      <td>679</td>\n",
       "      <td>42</td>\n",
       "      <td>1.0</td>\n",
       "      <td>0.00</td>\n",
       "      <td>2</td>\n",
       "      <td>0</td>\n",
       "      <td>0</td>\n",
       "      <td>71823.15</td>\n",
       "      <td>0</td>\n",
       "      <td>0</td>\n",
       "      <td>1</td>\n",
       "    </tr>\n",
       "    <tr>\n",
       "      <th>7142</th>\n",
       "      <td>612</td>\n",
       "      <td>63</td>\n",
       "      <td>2.0</td>\n",
       "      <td>131629.17</td>\n",
       "      <td>2</td>\n",
       "      <td>1</td>\n",
       "      <td>0</td>\n",
       "      <td>122109.58</td>\n",
       "      <td>0</td>\n",
       "      <td>1</td>\n",
       "      <td>0</td>\n",
       "    </tr>\n",
       "    <tr>\n",
       "      <th>9364</th>\n",
       "      <td>607</td>\n",
       "      <td>49</td>\n",
       "      <td>9.0</td>\n",
       "      <td>119960.29</td>\n",
       "      <td>2</td>\n",
       "      <td>1</td>\n",
       "      <td>0</td>\n",
       "      <td>103068.22</td>\n",
       "      <td>0</td>\n",
       "      <td>0</td>\n",
       "      <td>0</td>\n",
       "    </tr>\n",
       "    <tr>\n",
       "      <th>1729</th>\n",
       "      <td>637</td>\n",
       "      <td>33</td>\n",
       "      <td>0.0</td>\n",
       "      <td>132255.99</td>\n",
       "      <td>2</td>\n",
       "      <td>0</td>\n",
       "      <td>1</td>\n",
       "      <td>74588.41</td>\n",
       "      <td>0</td>\n",
       "      <td>0</td>\n",
       "      <td>1</td>\n",
       "    </tr>\n",
       "  </tbody>\n",
       "</table>\n",
       "<p>2000 rows × 11 columns</p>\n",
       "</div>"
      ],
      "text/plain": [
       "      creditscore  age  tenure    balance  numofproducts  hascrcard  \\\n",
       "7837          850   48     2.0       0.00              1          1   \n",
       "9505          651   28    10.0   79562.98              1          1   \n",
       "6208          714   34    10.0       0.00              2          1   \n",
       "5642          782   41     4.0       0.00              1          1   \n",
       "9643          521   41     2.0       0.00              2          1   \n",
       "...           ...  ...     ...        ...            ...        ...   \n",
       "1238          746   24     3.0  137492.35              2          0   \n",
       "9774          679   42     1.0       0.00              2          0   \n",
       "7142          612   63     2.0  131629.17              2          1   \n",
       "9364          607   49     9.0  119960.29              2          1   \n",
       "1729          637   33     0.0  132255.99              2          0   \n",
       "\n",
       "      isactivemember  estimatedsalary  geography_Germany  geography_Spain  \\\n",
       "7837               0        169425.30                  0                1   \n",
       "9505               1         74687.37                  0                0   \n",
       "6208               1         80234.14                  0                0   \n",
       "5642               0        132943.88                  0                1   \n",
       "9643               1        113089.43                  0                0   \n",
       "...              ...              ...                ...              ...   \n",
       "1238               1        170142.09                  0                0   \n",
       "9774               0         71823.15                  0                0   \n",
       "7142               0        122109.58                  0                1   \n",
       "9364               0        103068.22                  0                0   \n",
       "1729               1         74588.41                  0                0   \n",
       "\n",
       "      gender_Male  \n",
       "7837            1  \n",
       "9505            1  \n",
       "6208            1  \n",
       "5642            0  \n",
       "9643            0  \n",
       "...           ...  \n",
       "1238            1  \n",
       "9774            1  \n",
       "7142            0  \n",
       "9364            0  \n",
       "1729            1  \n",
       "\n",
       "[2000 rows x 11 columns]"
      ]
     },
     "execution_count": 19,
     "metadata": {},
     "output_type": "execute_result"
    }
   ],
   "source": [
    "features_test"
   ]
  },
  {
   "cell_type": "code",
   "execution_count": 20,
   "metadata": {},
   "outputs": [
    {
     "data": {
      "text/plain": [
       "7837    1\n",
       "9505    0\n",
       "6208    0\n",
       "5642    0\n",
       "9643    0\n",
       "       ..\n",
       "1238    0\n",
       "9774    0\n",
       "7142    1\n",
       "9364    0\n",
       "1729    0\n",
       "Name: exited, Length: 2000, dtype: int64"
      ]
     },
     "execution_count": 20,
     "metadata": {},
     "output_type": "execute_result"
    }
   ],
   "source": [
    "target_test"
   ]
  },
  {
   "cell_type": "code",
   "execution_count": 21,
   "metadata": {},
   "outputs": [
    {
     "data": {
      "text/html": [
       "<div>\n",
       "<style scoped>\n",
       "    .dataframe tbody tr th:only-of-type {\n",
       "        vertical-align: middle;\n",
       "    }\n",
       "\n",
       "    .dataframe tbody tr th {\n",
       "        vertical-align: top;\n",
       "    }\n",
       "\n",
       "    .dataframe thead th {\n",
       "        text-align: right;\n",
       "    }\n",
       "</style>\n",
       "<table border=\"1\" class=\"dataframe\">\n",
       "  <thead>\n",
       "    <tr style=\"text-align: right;\">\n",
       "      <th></th>\n",
       "      <th>creditscore</th>\n",
       "      <th>age</th>\n",
       "      <th>tenure</th>\n",
       "      <th>balance</th>\n",
       "      <th>numofproducts</th>\n",
       "      <th>hascrcard</th>\n",
       "      <th>isactivemember</th>\n",
       "      <th>estimatedsalary</th>\n",
       "      <th>geography_Germany</th>\n",
       "      <th>geography_Spain</th>\n",
       "      <th>gender_Male</th>\n",
       "    </tr>\n",
       "  </thead>\n",
       "  <tbody>\n",
       "    <tr>\n",
       "      <th>5536</th>\n",
       "      <td>636</td>\n",
       "      <td>45</td>\n",
       "      <td>0.0</td>\n",
       "      <td>0.00</td>\n",
       "      <td>2</td>\n",
       "      <td>1</td>\n",
       "      <td>1</td>\n",
       "      <td>159463.80</td>\n",
       "      <td>0</td>\n",
       "      <td>1</td>\n",
       "      <td>1</td>\n",
       "    </tr>\n",
       "    <tr>\n",
       "      <th>8530</th>\n",
       "      <td>808</td>\n",
       "      <td>33</td>\n",
       "      <td>2.0</td>\n",
       "      <td>103516.87</td>\n",
       "      <td>1</td>\n",
       "      <td>1</td>\n",
       "      <td>0</td>\n",
       "      <td>113907.80</td>\n",
       "      <td>0</td>\n",
       "      <td>0</td>\n",
       "      <td>0</td>\n",
       "    </tr>\n",
       "    <tr>\n",
       "      <th>1762</th>\n",
       "      <td>758</td>\n",
       "      <td>34</td>\n",
       "      <td>1.0</td>\n",
       "      <td>154139.45</td>\n",
       "      <td>1</td>\n",
       "      <td>1</td>\n",
       "      <td>1</td>\n",
       "      <td>60728.89</td>\n",
       "      <td>0</td>\n",
       "      <td>0</td>\n",
       "      <td>0</td>\n",
       "    </tr>\n",
       "    <tr>\n",
       "      <th>9090</th>\n",
       "      <td>809</td>\n",
       "      <td>39</td>\n",
       "      <td>5.0</td>\n",
       "      <td>0.00</td>\n",
       "      <td>1</td>\n",
       "      <td>1</td>\n",
       "      <td>0</td>\n",
       "      <td>77705.75</td>\n",
       "      <td>0</td>\n",
       "      <td>0</td>\n",
       "      <td>0</td>\n",
       "    </tr>\n",
       "    <tr>\n",
       "      <th>8777</th>\n",
       "      <td>603</td>\n",
       "      <td>24</td>\n",
       "      <td>1.0</td>\n",
       "      <td>165149.13</td>\n",
       "      <td>2</td>\n",
       "      <td>1</td>\n",
       "      <td>0</td>\n",
       "      <td>21858.28</td>\n",
       "      <td>0</td>\n",
       "      <td>1</td>\n",
       "      <td>1</td>\n",
       "    </tr>\n",
       "    <tr>\n",
       "      <th>...</th>\n",
       "      <td>...</td>\n",
       "      <td>...</td>\n",
       "      <td>...</td>\n",
       "      <td>...</td>\n",
       "      <td>...</td>\n",
       "      <td>...</td>\n",
       "      <td>...</td>\n",
       "      <td>...</td>\n",
       "      <td>...</td>\n",
       "      <td>...</td>\n",
       "      <td>...</td>\n",
       "    </tr>\n",
       "    <tr>\n",
       "      <th>2956</th>\n",
       "      <td>792</td>\n",
       "      <td>30</td>\n",
       "      <td>8.0</td>\n",
       "      <td>0.00</td>\n",
       "      <td>2</td>\n",
       "      <td>1</td>\n",
       "      <td>0</td>\n",
       "      <td>199644.20</td>\n",
       "      <td>0</td>\n",
       "      <td>0</td>\n",
       "      <td>1</td>\n",
       "    </tr>\n",
       "    <tr>\n",
       "      <th>667</th>\n",
       "      <td>503</td>\n",
       "      <td>29</td>\n",
       "      <td>3.0</td>\n",
       "      <td>0.00</td>\n",
       "      <td>2</td>\n",
       "      <td>1</td>\n",
       "      <td>1</td>\n",
       "      <td>143954.99</td>\n",
       "      <td>0</td>\n",
       "      <td>0</td>\n",
       "      <td>1</td>\n",
       "    </tr>\n",
       "    <tr>\n",
       "      <th>7371</th>\n",
       "      <td>850</td>\n",
       "      <td>30</td>\n",
       "      <td>10.0</td>\n",
       "      <td>153972.89</td>\n",
       "      <td>2</td>\n",
       "      <td>1</td>\n",
       "      <td>0</td>\n",
       "      <td>62811.03</td>\n",
       "      <td>0</td>\n",
       "      <td>0</td>\n",
       "      <td>1</td>\n",
       "    </tr>\n",
       "    <tr>\n",
       "      <th>9472</th>\n",
       "      <td>775</td>\n",
       "      <td>74</td>\n",
       "      <td>0.0</td>\n",
       "      <td>161371.50</td>\n",
       "      <td>1</td>\n",
       "      <td>1</td>\n",
       "      <td>1</td>\n",
       "      <td>134869.93</td>\n",
       "      <td>1</td>\n",
       "      <td>0</td>\n",
       "      <td>0</td>\n",
       "    </tr>\n",
       "    <tr>\n",
       "      <th>8193</th>\n",
       "      <td>592</td>\n",
       "      <td>66</td>\n",
       "      <td>5.0</td>\n",
       "      <td>149950.19</td>\n",
       "      <td>1</td>\n",
       "      <td>1</td>\n",
       "      <td>1</td>\n",
       "      <td>76267.59</td>\n",
       "      <td>0</td>\n",
       "      <td>0</td>\n",
       "      <td>0</td>\n",
       "    </tr>\n",
       "  </tbody>\n",
       "</table>\n",
       "<p>6000 rows × 11 columns</p>\n",
       "</div>"
      ],
      "text/plain": [
       "      creditscore  age  tenure    balance  numofproducts  hascrcard  \\\n",
       "5536          636   45     0.0       0.00              2          1   \n",
       "8530          808   33     2.0  103516.87              1          1   \n",
       "1762          758   34     1.0  154139.45              1          1   \n",
       "9090          809   39     5.0       0.00              1          1   \n",
       "8777          603   24     1.0  165149.13              2          1   \n",
       "...           ...  ...     ...        ...            ...        ...   \n",
       "2956          792   30     8.0       0.00              2          1   \n",
       "667           503   29     3.0       0.00              2          1   \n",
       "7371          850   30    10.0  153972.89              2          1   \n",
       "9472          775   74     0.0  161371.50              1          1   \n",
       "8193          592   66     5.0  149950.19              1          1   \n",
       "\n",
       "      isactivemember  estimatedsalary  geography_Germany  geography_Spain  \\\n",
       "5536               1        159463.80                  0                1   \n",
       "8530               0        113907.80                  0                0   \n",
       "1762               1         60728.89                  0                0   \n",
       "9090               0         77705.75                  0                0   \n",
       "8777               0         21858.28                  0                1   \n",
       "...              ...              ...                ...              ...   \n",
       "2956               0        199644.20                  0                0   \n",
       "667                1        143954.99                  0                0   \n",
       "7371               0         62811.03                  0                0   \n",
       "9472               1        134869.93                  1                0   \n",
       "8193               1         76267.59                  0                0   \n",
       "\n",
       "      gender_Male  \n",
       "5536            1  \n",
       "8530            0  \n",
       "1762            0  \n",
       "9090            0  \n",
       "8777            1  \n",
       "...           ...  \n",
       "2956            1  \n",
       "667             1  \n",
       "7371            1  \n",
       "9472            0  \n",
       "8193            0  \n",
       "\n",
       "[6000 rows x 11 columns]"
      ]
     },
     "execution_count": 21,
     "metadata": {},
     "output_type": "execute_result"
    }
   ],
   "source": [
    "features_train"
   ]
  },
  {
   "cell_type": "code",
   "execution_count": 22,
   "metadata": {},
   "outputs": [
    {
     "data": {
      "text/plain": [
       "5536    0\n",
       "8530    0\n",
       "1762    0\n",
       "9090    0\n",
       "8777    0\n",
       "       ..\n",
       "2956    0\n",
       "667     0\n",
       "7371    0\n",
       "9472    0\n",
       "8193    0\n",
       "Name: exited, Length: 6000, dtype: int64"
      ]
     },
     "execution_count": 22,
     "metadata": {},
     "output_type": "execute_result"
    }
   ],
   "source": [
    "target_train"
   ]
  },
  {
   "cell_type": "code",
   "execution_count": 23,
   "metadata": {},
   "outputs": [
    {
     "data": {
      "text/html": [
       "<div>\n",
       "<style scoped>\n",
       "    .dataframe tbody tr th:only-of-type {\n",
       "        vertical-align: middle;\n",
       "    }\n",
       "\n",
       "    .dataframe tbody tr th {\n",
       "        vertical-align: top;\n",
       "    }\n",
       "\n",
       "    .dataframe thead th {\n",
       "        text-align: right;\n",
       "    }\n",
       "</style>\n",
       "<table border=\"1\" class=\"dataframe\">\n",
       "  <thead>\n",
       "    <tr style=\"text-align: right;\">\n",
       "      <th></th>\n",
       "      <th>creditscore</th>\n",
       "      <th>age</th>\n",
       "      <th>tenure</th>\n",
       "      <th>balance</th>\n",
       "      <th>numofproducts</th>\n",
       "      <th>hascrcard</th>\n",
       "      <th>isactivemember</th>\n",
       "      <th>estimatedsalary</th>\n",
       "      <th>geography_Germany</th>\n",
       "      <th>geography_Spain</th>\n",
       "      <th>gender_Male</th>\n",
       "    </tr>\n",
       "  </thead>\n",
       "  <tbody>\n",
       "    <tr>\n",
       "      <th>9375</th>\n",
       "      <td>659</td>\n",
       "      <td>48</td>\n",
       "      <td>4.0</td>\n",
       "      <td>123593.22</td>\n",
       "      <td>2</td>\n",
       "      <td>1</td>\n",
       "      <td>0</td>\n",
       "      <td>82469.06</td>\n",
       "      <td>1</td>\n",
       "      <td>0</td>\n",
       "      <td>1</td>\n",
       "    </tr>\n",
       "    <tr>\n",
       "      <th>9536</th>\n",
       "      <td>550</td>\n",
       "      <td>42</td>\n",
       "      <td>10.0</td>\n",
       "      <td>128707.31</td>\n",
       "      <td>1</td>\n",
       "      <td>1</td>\n",
       "      <td>0</td>\n",
       "      <td>63092.65</td>\n",
       "      <td>1</td>\n",
       "      <td>0</td>\n",
       "      <td>0</td>\n",
       "    </tr>\n",
       "    <tr>\n",
       "      <th>6344</th>\n",
       "      <td>850</td>\n",
       "      <td>41</td>\n",
       "      <td>3.0</td>\n",
       "      <td>0.00</td>\n",
       "      <td>2</td>\n",
       "      <td>1</td>\n",
       "      <td>0</td>\n",
       "      <td>128892.36</td>\n",
       "      <td>0</td>\n",
       "      <td>0</td>\n",
       "      <td>1</td>\n",
       "    </tr>\n",
       "    <tr>\n",
       "      <th>4357</th>\n",
       "      <td>755</td>\n",
       "      <td>36</td>\n",
       "      <td>8.0</td>\n",
       "      <td>0.00</td>\n",
       "      <td>2</td>\n",
       "      <td>1</td>\n",
       "      <td>0</td>\n",
       "      <td>176809.87</td>\n",
       "      <td>0</td>\n",
       "      <td>0</td>\n",
       "      <td>1</td>\n",
       "    </tr>\n",
       "    <tr>\n",
       "      <th>9120</th>\n",
       "      <td>703</td>\n",
       "      <td>58</td>\n",
       "      <td>4.0</td>\n",
       "      <td>92930.92</td>\n",
       "      <td>1</td>\n",
       "      <td>0</td>\n",
       "      <td>1</td>\n",
       "      <td>85148.78</td>\n",
       "      <td>0</td>\n",
       "      <td>1</td>\n",
       "      <td>1</td>\n",
       "    </tr>\n",
       "    <tr>\n",
       "      <th>...</th>\n",
       "      <td>...</td>\n",
       "      <td>...</td>\n",
       "      <td>...</td>\n",
       "      <td>...</td>\n",
       "      <td>...</td>\n",
       "      <td>...</td>\n",
       "      <td>...</td>\n",
       "      <td>...</td>\n",
       "      <td>...</td>\n",
       "      <td>...</td>\n",
       "      <td>...</td>\n",
       "    </tr>\n",
       "    <tr>\n",
       "      <th>7831</th>\n",
       "      <td>749</td>\n",
       "      <td>42</td>\n",
       "      <td>2.0</td>\n",
       "      <td>56726.83</td>\n",
       "      <td>2</td>\n",
       "      <td>0</td>\n",
       "      <td>1</td>\n",
       "      <td>185543.35</td>\n",
       "      <td>0</td>\n",
       "      <td>0</td>\n",
       "      <td>1</td>\n",
       "    </tr>\n",
       "    <tr>\n",
       "      <th>9299</th>\n",
       "      <td>824</td>\n",
       "      <td>26</td>\n",
       "      <td>0.0</td>\n",
       "      <td>146266.00</td>\n",
       "      <td>1</td>\n",
       "      <td>1</td>\n",
       "      <td>0</td>\n",
       "      <td>21903.62</td>\n",
       "      <td>0</td>\n",
       "      <td>0</td>\n",
       "      <td>1</td>\n",
       "    </tr>\n",
       "    <tr>\n",
       "      <th>6361</th>\n",
       "      <td>416</td>\n",
       "      <td>25</td>\n",
       "      <td>0.0</td>\n",
       "      <td>97738.97</td>\n",
       "      <td>2</td>\n",
       "      <td>1</td>\n",
       "      <td>1</td>\n",
       "      <td>160523.33</td>\n",
       "      <td>1</td>\n",
       "      <td>0</td>\n",
       "      <td>0</td>\n",
       "    </tr>\n",
       "    <tr>\n",
       "      <th>6343</th>\n",
       "      <td>627</td>\n",
       "      <td>55</td>\n",
       "      <td>6.0</td>\n",
       "      <td>0.00</td>\n",
       "      <td>1</td>\n",
       "      <td>0</td>\n",
       "      <td>0</td>\n",
       "      <td>91943.94</td>\n",
       "      <td>0</td>\n",
       "      <td>1</td>\n",
       "      <td>0</td>\n",
       "    </tr>\n",
       "    <tr>\n",
       "      <th>1674</th>\n",
       "      <td>680</td>\n",
       "      <td>42</td>\n",
       "      <td>7.0</td>\n",
       "      <td>105722.69</td>\n",
       "      <td>1</td>\n",
       "      <td>1</td>\n",
       "      <td>1</td>\n",
       "      <td>90558.24</td>\n",
       "      <td>1</td>\n",
       "      <td>0</td>\n",
       "      <td>0</td>\n",
       "    </tr>\n",
       "  </tbody>\n",
       "</table>\n",
       "<p>2000 rows × 11 columns</p>\n",
       "</div>"
      ],
      "text/plain": [
       "      creditscore  age  tenure    balance  numofproducts  hascrcard  \\\n",
       "9375          659   48     4.0  123593.22              2          1   \n",
       "9536          550   42    10.0  128707.31              1          1   \n",
       "6344          850   41     3.0       0.00              2          1   \n",
       "4357          755   36     8.0       0.00              2          1   \n",
       "9120          703   58     4.0   92930.92              1          0   \n",
       "...           ...  ...     ...        ...            ...        ...   \n",
       "7831          749   42     2.0   56726.83              2          0   \n",
       "9299          824   26     0.0  146266.00              1          1   \n",
       "6361          416   25     0.0   97738.97              2          1   \n",
       "6343          627   55     6.0       0.00              1          0   \n",
       "1674          680   42     7.0  105722.69              1          1   \n",
       "\n",
       "      isactivemember  estimatedsalary  geography_Germany  geography_Spain  \\\n",
       "9375               0         82469.06                  1                0   \n",
       "9536               0         63092.65                  1                0   \n",
       "6344               0        128892.36                  0                0   \n",
       "4357               0        176809.87                  0                0   \n",
       "9120               1         85148.78                  0                1   \n",
       "...              ...              ...                ...              ...   \n",
       "7831               1        185543.35                  0                0   \n",
       "9299               0         21903.62                  0                0   \n",
       "6361               1        160523.33                  1                0   \n",
       "6343               0         91943.94                  0                1   \n",
       "1674               1         90558.24                  1                0   \n",
       "\n",
       "      gender_Male  \n",
       "9375            1  \n",
       "9536            0  \n",
       "6344            1  \n",
       "4357            1  \n",
       "9120            1  \n",
       "...           ...  \n",
       "7831            1  \n",
       "9299            1  \n",
       "6361            0  \n",
       "6343            0  \n",
       "1674            0  \n",
       "\n",
       "[2000 rows x 11 columns]"
      ]
     },
     "execution_count": 23,
     "metadata": {},
     "output_type": "execute_result"
    }
   ],
   "source": [
    "features_valid"
   ]
  },
  {
   "cell_type": "code",
   "execution_count": 24,
   "metadata": {
    "scrolled": false
   },
   "outputs": [
    {
     "data": {
      "text/plain": [
       "9375    1\n",
       "9536    1\n",
       "6344    0\n",
       "4357    0\n",
       "9120    0\n",
       "       ..\n",
       "7831    0\n",
       "9299    1\n",
       "6361    0\n",
       "6343    1\n",
       "1674    1\n",
       "Name: exited, Length: 2000, dtype: int64"
      ]
     },
     "execution_count": 24,
     "metadata": {},
     "output_type": "execute_result"
    }
   ],
   "source": [
    "target_valid"
   ]
  },
  {
   "cell_type": "markdown",
   "metadata": {},
   "source": [
    "Масштабирование признаков\n",
    "\n",
    "Один из методов масштабирования — стандартизация данных."
   ]
  },
  {
   "cell_type": "code",
   "execution_count": 25,
   "metadata": {},
   "outputs": [
    {
     "name": "stdout",
     "output_type": "stream",
     "text": [
      "(6000, 11) (2000, 11)\n"
     ]
    }
   ],
   "source": [
    "pd.options.mode.chained_assignment = None\n",
    "numeric = ['creditscore', 'age', 'tenure', 'balance', 'numofproducts', 'estimatedsalary']\n",
    "\n",
    "scaler = StandardScaler()\n",
    "scaler.fit(features_train[numeric])\n",
    "features_train[numeric] = scaler.transform(features_train[numeric])\n",
    "features_valid[numeric] = scaler.transform(features_valid[numeric])\n",
    "features_test[numeric] = scaler.transform(features_test[numeric])\n",
    "print(features_train.shape, features_valid.shape)"
   ]
  },
  {
   "cell_type": "markdown",
   "metadata": {},
   "source": [
    "Построим 2 модели: дерево и рандомный лес, сравним их показатели"
   ]
  },
  {
   "cell_type": "markdown",
   "metadata": {},
   "source": [
    "Отдельно создаем словарик, в который вписываем параметры, которые будем прогонять GridSearch’ем. буду использовать следующие параметры:\n",
    "\n",
    "n_estimators – число деревьев в лесу. \n",
    "\n",
    "max_depth – глубина дерева. \n",
    "\n",
    "min_samples_leaf – минимальное число образцов в листах. \n",
    "\n",
    "min_samples_leaf – минимальное число образцов для сплита. "
   ]
  },
  {
   "cell_type": "code",
   "execution_count": 26,
   "metadata": {},
   "outputs": [],
   "source": [
    "parameters_tr = {'max_depth' : range(1,20, 5),\n",
    "                'min_samples_leaf': range (1,10),\n",
    "              'min_samples_split': range (2,4)}"
   ]
  },
  {
   "cell_type": "code",
   "execution_count": 27,
   "metadata": {},
   "outputs": [
    {
     "name": "stdout",
     "output_type": "stream",
     "text": [
      "CPU times: user 27 µs, sys: 6 µs, total: 33 µs\n",
      "Wall time: 35 µs\n"
     ]
    }
   ],
   "source": [
    "%%time\n",
    "tr_grid = GridSearchCV(DecisionTreeClassifier(random_state=12345), \n",
    "                       param_grid = parameters_tr, n_jobs = -1, verbose = False, scoring = 'f1', error_score=0.0)"
   ]
  },
  {
   "cell_type": "code",
   "execution_count": 28,
   "metadata": {},
   "outputs": [
    {
     "name": "stdout",
     "output_type": "stream",
     "text": [
      "CPU times: user 406 ms, sys: 172 ms, total: 577 ms\n",
      "Wall time: 2.93 s\n"
     ]
    }
   ],
   "source": [
    "%%time\n",
    "tr_grid_model = tr_grid.fit(features_train, target_train)"
   ]
  },
  {
   "cell_type": "code",
   "execution_count": 29,
   "metadata": {},
   "outputs": [],
   "source": [
    "predicted_valid = tr_grid_model.predict(features_valid)\n",
    "accuracy_valid = accuracy_score(predicted_valid, target_valid)\n",
    "f1 = f1_score(target_valid, predicted_valid)\n",
    "predict_tr = tr_grid_model.predict_proba(features_valid)\n",
    "predict_tr = predict_tr[:, 1]\n",
    "auc_roc = roc_auc_score(target_valid, predict_tr)\n",
    "\n"
   ]
  },
  {
   "cell_type": "code",
   "execution_count": 30,
   "metadata": {},
   "outputs": [
    {
     "name": "stdout",
     "output_type": "stream",
     "text": [
      "{'max_depth': 11, 'min_samples_leaf': 9, 'min_samples_split': 2}\n",
      "0.5659748866421216\n"
     ]
    }
   ],
   "source": [
    "print(tr_grid.best_params_)\n",
    "print(tr_grid.best_score_)"
   ]
  },
  {
   "cell_type": "code",
   "execution_count": 31,
   "metadata": {},
   "outputs": [
    {
     "name": "stdout",
     "output_type": "stream",
     "text": [
      "показатель Accuracy 0.8405\n",
      "Показатель F1 0.5729585006693441\n",
      "Показатель auc_roc 0.8053384663554155\n"
     ]
    }
   ],
   "source": [
    "print('показатель Accuracy', accuracy_valid )\n",
    "print('Показатель F1', f1)\n",
    "print('Показатель auc_roc', auc_roc)"
   ]
  },
  {
   "cell_type": "code",
   "execution_count": 32,
   "metadata": {},
   "outputs": [],
   "source": [
    "parameters_fr = {'max_depth' : range(1,10,5),\n",
    "                 'n_estimators' : range(1,10,5),\n",
    "                'min_samples_leaf': range (2,8),\n",
    "              'min_samples_split': range (2,8)}"
   ]
  },
  {
   "cell_type": "code",
   "execution_count": 33,
   "metadata": {},
   "outputs": [],
   "source": [
    "fr_grid = GridSearchCV(RandomForestClassifier(random_state=12345), param_grid = parameters_fr,\n",
    "                      n_jobs = -1, verbose = False, scoring = 'f1')"
   ]
  },
  {
   "cell_type": "code",
   "execution_count": 34,
   "metadata": {},
   "outputs": [
    {
     "name": "stdout",
     "output_type": "stream",
     "text": [
      "CPU times: user 436 ms, sys: 69 ms, total: 505 ms\n",
      "Wall time: 1.41 s\n"
     ]
    }
   ],
   "source": [
    "%%time\n",
    "fr_grid_model = fr_grid.fit(features_train, target_train)\n",
    "predicted_valid_fr = fr_grid_model.predict(features_valid)\n",
    "accuracy_valid_fr = accuracy_score(predicted_valid_fr, target_valid)\n",
    "f1_fr = f1_score(target_valid, predicted_valid_fr)\n",
    "predict_fr = fr_grid_model.predict_proba(features_valid)\n",
    "predict_fr = predict_fr[:, 1]\n",
    "auc_roc_fr = roc_auc_score(target_valid, predict_fr)\n",
    "\n"
   ]
  },
  {
   "cell_type": "code",
   "execution_count": 35,
   "metadata": {},
   "outputs": [
    {
     "name": "stdout",
     "output_type": "stream",
     "text": [
      "RandomForestClassifier(max_depth=6, min_samples_leaf=3, n_estimators=6,\n",
      "                       random_state=12345)\n",
      "0.5230624707524655\n"
     ]
    }
   ],
   "source": [
    "print(fr_grid_model.best_estimator_)\n",
    "print(fr_grid_model.best_score_)"
   ]
  },
  {
   "cell_type": "code",
   "execution_count": 36,
   "metadata": {},
   "outputs": [
    {
     "name": "stdout",
     "output_type": "stream",
     "text": [
      "показатель Accuracy 0.861\n",
      "Показатель F1 0.5304054054054055\n",
      "Показатель auc_roc 0.8557108726600253\n"
     ]
    }
   ],
   "source": [
    "print('показатель Accuracy', accuracy_valid_fr )\n",
    "print('Показатель F1', f1_fr)\n",
    "print('Показатель auc_roc', auc_roc_fr)"
   ]
  },
  {
   "cell_type": "markdown",
   "metadata": {},
   "source": [
    "Выбираем случайный лес, так как он показывается лучшие результаты"
   ]
  },
  {
   "cell_type": "markdown",
   "metadata": {},
   "source": [
    "при тестировании по тест  модель  не достигает требуемых результатов, но попробуем улучшить этот показатель за счет борьбы с дисбалансом"
   ]
  },
  {
   "cell_type": "markdown",
   "metadata": {},
   "source": [
    "## Борьба с дисбалансом"
   ]
  },
  {
   "cell_type": "markdown",
   "metadata": {},
   "source": [
    "Попробуем улучшить нашу модель за счет борьбы с дисбалансов, есть 2 варианта:\n",
    "увеличение выборки и уменьшение выборки. Начнем с метода увеличение выборки\n"
   ]
  },
  {
   "cell_type": "markdown",
   "metadata": {},
   "source": [
    "Когда обучают модели, такая техника называется upsampling (от англ. up, «вверх»; sampling, «выборка»).\n",
    "\n",
    "Преобразование проходит в несколько этапов:\n",
    "\n",
    "- Разделить обучающую выборку на отрицательные и положительные объекты;\n",
    "- Скопировать несколько раз положительные объекты;\n",
    "- С учётом полученных данных создать новую обучающую выборку;\n",
    "- Перемешать данные: идущие друг за другом одинаковые вопросы не помогут обучению."
   ]
  },
  {
   "cell_type": "code",
   "execution_count": 37,
   "metadata": {},
   "outputs": [
    {
     "data": {
      "text/plain": [
       "<AxesSubplot:title={'center':'Class balance'}>"
      ]
     },
     "execution_count": 37,
     "metadata": {},
     "output_type": "execute_result"
    },
    {
     "data": {
      "image/png": "[encoded data removed]",
      "text/plain": [
       "<Figure size 432x288 with 1 Axes>"
      ]
     },
     "metadata": {
      "needs_background": "light"
     },
     "output_type": "display_data"
    }
   ],
   "source": [
    "df['exited'].value_counts().plot(kind='bar', title = 'Class balance')"
   ]
  },
  {
   "cell_type": "markdown",
   "metadata": {},
   "source": [
    "разница примерно в 4 раза, поэтому увеличиваем количество в 4 раза..."
   ]
  },
  {
   "cell_type": "code",
   "execution_count": 38,
   "metadata": {},
   "outputs": [],
   "source": [
    "def upsample(features, target, repeat):\n",
    "    features_zeros = features[target == 0]\n",
    "    features_ones = features[target == 1]\n",
    "    target_zeros = target[target == 0]\n",
    "    target_ones = target[target == 1]\n",
    "\n",
    "    features_upsampled = pd.concat([features_zeros] + [features_ones] * repeat)\n",
    "    target_upsampled = pd.concat([target_zeros] + [target_ones] * repeat)\n",
    "    \n",
    "    features_upsampled, target_upsampled = shuffle(\n",
    "        features_upsampled, target_upsampled, random_state=12345)\n",
    "    \n",
    "    return features_upsampled, target_upsampled\n",
    "\n",
    "features_upsampled, target_upsampled = upsample(features_train, target_train, 4)"
   ]
  },
  {
   "cell_type": "code",
   "execution_count": 39,
   "metadata": {},
   "outputs": [
    {
     "name": "stderr",
     "output_type": "stream",
     "text": [
      "100%|█████████████████████████████████████████████| 3/3 [00:23<00:00,  7.97s/it]"
     ]
    },
    {
     "name": "stdout",
     "output_type": "stream",
     "text": [
      "F1 наилучшей модели на валидационной выборке: 0.6357466063348416\n",
      "количество деревье 80\n",
      "глубина дерева 11\n",
      "CPU times: user 23.8 s, sys: 89.9 ms, total: 23.9 s\n",
      "Wall time: 23.9 s\n"
     ]
    },
    {
     "name": "stderr",
     "output_type": "stream",
     "text": [
      "\n"
     ]
    }
   ],
   "source": [
    "%%time\n",
    "best_model_rf = None\n",
    "best_result = 0\n",
    "for est in tqdm(range(70, 100, 10)):\n",
    "    for depth in range (1,20):\n",
    "        model_rf = RandomForestClassifier(random_state=12345, n_estimators=est, max_depth=depth) \n",
    "        model_rf.fit(features_upsampled, target_upsampled) \n",
    "        predicted_valid_fr_up = model_rf.predict(features_valid)\n",
    "        result = f1_score(target_valid, predicted_valid_fr_up)\n",
    "        if result > best_result:\n",
    "            best_model_rf = model_rf \n",
    "            best_result = result \n",
    "            best_est = est\n",
    "            best_dep = depth\n",
    "\n",
    "print(\"F1 наилучшей модели на валидационной выборке:\", best_result)\n",
    "print(\"количество деревье\", best_est)\n",
    "print ('глубина дерева', best_dep)"
   ]
  },
  {
   "cell_type": "code",
   "execution_count": 40,
   "metadata": {},
   "outputs": [],
   "source": [
    "predicted_valid_fr_up = best_model_rf.predict(features_valid)\n",
    "accuracy_valid_fr = accuracy_score(predicted_valid_fr_up, target_valid)\n",
    "f1_fr = f1_score(target_valid, predicted_valid_fr_up)\n",
    "predict_fr = best_model_rf.predict_proba(features_valid)\n",
    "predict_fr = predict_fr[:, 1]\n",
    "auc_roc_fr = roc_auc_score(target_valid, predict_fr)"
   ]
  },
  {
   "cell_type": "code",
   "execution_count": 41,
   "metadata": {},
   "outputs": [
    {
     "name": "stdout",
     "output_type": "stream",
     "text": [
      "показатель Accuracy 0.839\n",
      "Показатель F1 0.6357466063348416\n",
      "Показатель auc_roc 0.8669378160903585\n"
     ]
    }
   ],
   "source": [
    "print('показатель Accuracy', accuracy_valid_fr )\n",
    "print('Показатель F1', f1_fr)\n",
    "print('Показатель auc_roc', auc_roc_fr)"
   ]
  },
  {
   "cell_type": "markdown",
   "metadata": {},
   "source": [
    "Уменьшение выборки"
   ]
  },
  {
   "cell_type": "code",
   "execution_count": 42,
   "metadata": {},
   "outputs": [],
   "source": [
    "def downsample(features, target, fraction):\n",
    "    features_zeros = features[target == 0]\n",
    "    features_ones = features[target == 1]\n",
    "    target_zeros = target[target == 0]\n",
    "    target_ones = target[target == 1]\n",
    "\n",
    "    features_downsampled = pd.concat(\n",
    "        [features_zeros.sample(frac=fraction, random_state=12345)] + [features_ones])\n",
    "    target_downsampled = pd.concat(\n",
    "        [target_zeros.sample(frac=fraction, random_state=12345)] + [target_ones])\n",
    "    \n",
    "    features_downsampled, target_downsampled = shuffle(\n",
    "        features_downsampled, target_downsampled, random_state=12345)\n",
    "    \n",
    "    return features_downsampled, target_downsampled\n",
    "\n",
    "features_downsampled, target_downsampled = downsample(features_train, target_train, 0.3)"
   ]
  },
  {
   "cell_type": "code",
   "execution_count": 43,
   "metadata": {},
   "outputs": [
    {
     "name": "stderr",
     "output_type": "stream",
     "text": [
      "100%|█████████████████████████████████████████████| 2/2 [00:00<00:00,  3.48it/s]"
     ]
    },
    {
     "name": "stdout",
     "output_type": "stream",
     "text": [
      "F1: 0.6435754189944135\n",
      "количество деревье 11\n",
      "глубина дерева 6\n",
      "CPU times: user 572 ms, sys: 5.99 ms, total: 578 ms\n",
      "Wall time: 577 ms\n"
     ]
    },
    {
     "name": "stderr",
     "output_type": "stream",
     "text": [
      "\n"
     ]
    }
   ],
   "source": [
    "%%time\n",
    "best_model_rf = None\n",
    "best_result = 0\n",
    "for est in tqdm(range(1, 20, 10)):\n",
    "    for depth in range (1,20):\n",
    "        model_rf = RandomForestClassifier(random_state=12345, n_estimators=est, max_depth=depth) \n",
    "        model_rf.fit(features_downsampled, target_downsampled) \n",
    "        predicted_valid_fr_dw = model_rf.predict(features_valid)\n",
    "        result = f1_score(target_valid, predicted_valid_fr_dw)\n",
    "        if result > best_result:\n",
    "            best_model_rf_dw = model_rf \n",
    "            best_result = result \n",
    "            best_est = est\n",
    "            best_dep = depth\n",
    "\n",
    "print(\"F1:\", best_result)\n",
    "print(\"количество деревье\", best_est)\n",
    "print ('глубина дерева', best_dep)"
   ]
  },
  {
   "cell_type": "code",
   "execution_count": 44,
   "metadata": {},
   "outputs": [],
   "source": [
    "predicted_valid_fr_dw = best_model_rf_dw.predict(features_valid)\n",
    "accuracy_valid_fr = accuracy_score(predicted_valid_fr_dw, target_valid)\n",
    "f1_fr = f1_score(target_valid, predicted_valid_fr_dw)\n",
    "predict_fr = best_model_rf_dw.predict_proba(features_valid)\n",
    "predict_fr = predict_fr[:, 1]\n",
    "auc_roc_fr = roc_auc_score(target_valid, predict_fr)"
   ]
  },
  {
   "cell_type": "code",
   "execution_count": 45,
   "metadata": {},
   "outputs": [
    {
     "name": "stdout",
     "output_type": "stream",
     "text": [
      "показатель Accuracy 0.8405\n",
      "Показатель F1 0.6435754189944135\n",
      "Показатель auc_roc 0.8674367742164352\n"
     ]
    }
   ],
   "source": [
    "print('показатель Accuracy', accuracy_valid_fr )\n",
    "print('Показатель F1', f1_fr)\n",
    "print('Показатель auc_roc', auc_roc_fr)"
   ]
  },
  {
   "cell_type": "markdown",
   "metadata": {},
   "source": [
    "посчитаем с показателем class_weight"
   ]
  },
  {
   "cell_type": "code",
   "execution_count": 46,
   "metadata": {},
   "outputs": [
    {
     "name": "stderr",
     "output_type": "stream",
     "text": [
      "100%|███████████████████████████████████████████| 10/10 [02:52<00:00, 17.27s/it]"
     ]
    },
    {
     "name": "stdout",
     "output_type": "stream",
     "text": [
      "F1 наилучшей модели на валидационной выборке: 0.6381418092909535\n",
      "количество деревье 130\n",
      "глубина дерева 10\n",
      "CPU times: user 2min 52s, sys: 493 ms, total: 2min 52s\n",
      "Wall time: 2min 52s\n"
     ]
    },
    {
     "name": "stderr",
     "output_type": "stream",
     "text": [
      "\n"
     ]
    }
   ],
   "source": [
    "%%time\n",
    "best_model_rf = None\n",
    "best_result = 0\n",
    "for est in tqdm(range(100, 200, 10)):\n",
    "    for depth in range (10,35):\n",
    "        model_rf = RandomForestClassifier(random_state=12345, n_estimators=est, max_depth=depth, class_weight = 'balanced') \n",
    "        model_rf.fit(features_train, target_train) \n",
    "        predicted_valid_fr = model_rf.predict(features_valid)\n",
    "        result = f1_score(target_valid, predicted_valid_fr)\n",
    "        if result > best_result:\n",
    "            best_model_rf = model_rf \n",
    "            best_result = result \n",
    "            best_est = est\n",
    "            best_dep = depth\n",
    "\n",
    "print(\"F1 наилучшей модели на валидационной выборке:\", best_result)\n",
    "print(\"количество деревье\", best_est)\n",
    "print ('глубина дерева', best_dep)"
   ]
  },
  {
   "cell_type": "code",
   "execution_count": 47,
   "metadata": {},
   "outputs": [],
   "source": [
    "predicted_valid_frr = best_model_rf.predict(features_valid)\n",
    "accuracy_valid_fr = accuracy_score(predicted_valid_frr, target_valid)\n",
    "f1_fr = f1_score(target_valid, predicted_valid_frr)\n",
    "predict_fr = best_model_rf.predict_proba(features_valid)\n",
    "predict_fr = predict_fr[:, 1]\n",
    "auc_roc_fr = roc_auc_score(target_valid, predict_fr)"
   ]
  },
  {
   "cell_type": "code",
   "execution_count": 48,
   "metadata": {},
   "outputs": [
    {
     "name": "stdout",
     "output_type": "stream",
     "text": [
      "показатель Accuracy 0.852\n",
      "Показатель F1 0.6381418092909535\n",
      "Показатель auc_roc 0.8704312941601076\n"
     ]
    }
   ],
   "source": [
    "print('показатель Accuracy', accuracy_valid_fr )\n",
    "print('Показатель F1', f1_fr)\n",
    "print('Показатель auc_roc', auc_roc_fr)"
   ]
  },
  {
   "cell_type": "markdown",
   "metadata": {},
   "source": [
    "требуемый порог в 0.59 преодолели все 3 варианта на валид сборках: увеличение выборки, уменьшение и балансировка весов класса\n",
    "\n",
    "Рассмотрим ещё один вариант, с использованием grid и балансировку весов класса, а и затем добавим SMOTE отдельную главу по расчет с помощью Grid и SMOTE"
   ]
  },
  {
   "cell_type": "code",
   "execution_count": 49,
   "metadata": {},
   "outputs": [],
   "source": [
    "parameters_fr = {'max_depth' : range(1,10,5),\n",
    "                 'n_estimators' : range(10,30,5),\n",
    "                'min_samples_leaf': range (1,4),\n",
    "              'min_samples_split': range (2,4)}"
   ]
  },
  {
   "cell_type": "code",
   "execution_count": 50,
   "metadata": {},
   "outputs": [],
   "source": [
    "fr_grid = GridSearchCV(RandomForestClassifier(random_state=12345, class_weight = 'balanced'), param_grid = parameters_fr,\n",
    "                      n_jobs = -1, verbose = False, scoring = 'f1')"
   ]
  },
  {
   "cell_type": "code",
   "execution_count": 51,
   "metadata": {},
   "outputs": [
    {
     "name": "stdout",
     "output_type": "stream",
     "text": [
      "CPU times: user 243 ms, sys: 30.2 ms, total: 274 ms\n",
      "Wall time: 1.71 s\n"
     ]
    }
   ],
   "source": [
    "%%time\n",
    "fr_grid_model = fr_grid.fit(features_train, target_train)\n",
    "predicted_valid_grid = fr_grid_model.predict(features_valid)\n",
    "accuracy_valid_fr = accuracy_score(predicted_valid_grid, target_valid)\n",
    "f1_fr = f1_score(target_valid, predicted_valid_grid)\n",
    "predict_fr = fr_grid_model.predict_proba(features_valid)\n",
    "predict_fr = predict_fr[:, 1]\n",
    "auc_roc_fr = roc_auc_score(target_valid, predict_fr)"
   ]
  },
  {
   "cell_type": "code",
   "execution_count": 52,
   "metadata": {},
   "outputs": [
    {
     "name": "stdout",
     "output_type": "stream",
     "text": [
      "{'max_depth': 6, 'min_samples_leaf': 1, 'min_samples_split': 2, 'n_estimators': 20}\n",
      "0.6036221961461571\n"
     ]
    }
   ],
   "source": [
    "print(fr_grid_model.best_params_)\n",
    "print(fr_grid_model.best_score_)"
   ]
  },
  {
   "cell_type": "code",
   "execution_count": 53,
   "metadata": {},
   "outputs": [
    {
     "name": "stdout",
     "output_type": "stream",
     "text": [
      "показатель Accuracy 0.815\n",
      "Показатель F1 0.6177685950413223\n",
      "Показатель auc_roc 0.8716281767129225\n"
     ]
    }
   ],
   "source": [
    "print('показатель Accuracy', accuracy_valid_fr )\n",
    "print('Показатель F1', f1_fr)\n",
    "print('Показатель auc_roc', auc_roc_fr)"
   ]
  },
  {
   "cell_type": "markdown",
   "metadata": {},
   "source": [
    "## Тестирование модели"
   ]
  },
  {
   "cell_type": "markdown",
   "metadata": {},
   "source": [
    "тестируем нашего победителя"
   ]
  },
  {
   "cell_type": "markdown",
   "metadata": {},
   "source": [
    "модель смогла выдать требуемые результаты на подборке: случайный лес, функция gridsearch +  балансировка веса признаков\n",
    "Оставшийся вопрос - как совместить работу грида и смота\n"
   ]
  },
  {
   "cell_type": "code",
   "execution_count": 54,
   "metadata": {},
   "outputs": [],
   "source": [
    "predicted_test_fr = fr_grid_model.predict(features_test)\n",
    "accuracy_test_fr = accuracy_score(predicted_test_fr, target_test)\n",
    "f1_fr_test = f1_score(target_test, predicted_test_fr)\n",
    "predict_fr_test = fr_grid_model.predict(features_test)\n",
    "auc_roc_fr_test = roc_auc_score(target_test, predict_fr_test)"
   ]
  },
  {
   "cell_type": "code",
   "execution_count": 55,
   "metadata": {},
   "outputs": [
    {
     "name": "stdout",
     "output_type": "stream",
     "text": [
      "показатель Accuracy 0.827\n",
      "Показатель F1 0.6319148936170211\n",
      "Показатель auc_roc 0.7907907907907908\n"
     ]
    }
   ],
   "source": [
    "print('показатель Accuracy', accuracy_test_fr )\n",
    "print('Показатель F1', f1_fr_test)\n",
    "print('Показатель auc_roc', auc_roc_fr_test)"
   ]
  },
  {
   "cell_type": "markdown",
   "metadata": {},
   "source": [
    "альтернативный способ решения с использованием grid + smote"
   ]
  },
  {
   "cell_type": "code",
   "execution_count": 56,
   "metadata": {},
   "outputs": [],
   "source": [
    "try:\n",
    "    df= pd.read_csv('/datasets/Churn.csv')\n",
    "except:\n",
    "    df=pd.read_csv('/Users/aleksandrivanov/Downloads/Churn.csv')"
   ]
  },
  {
   "cell_type": "code",
   "execution_count": 57,
   "metadata": {},
   "outputs": [],
   "source": [
    "pd.set_option('display.max_columns', None)\n",
    "df = df.drop(['Surname','RowNumber','CustomerId'], axis=1)\n",
    "df.columns= df.columns.str.lower()\n",
    "df[\"tenure\"].fillna(0, inplace=True)\n",
    "features = df.drop(['exited'], axis=1)\n",
    "target = df['exited']"
   ]
  },
  {
   "cell_type": "code",
   "execution_count": 58,
   "metadata": {},
   "outputs": [],
   "source": [
    "features_train, features_test, target_train, target_test = train_test_split(\n",
    "    features, target, test_size=0.2, random_state=12345, stratify = target)"
   ]
  },
  {
   "cell_type": "code",
   "execution_count": 59,
   "metadata": {},
   "outputs": [],
   "source": [
    "features_train = pd.get_dummies(features_train,drop_first= True )\n",
    "features_test = pd.get_dummies(features_test,drop_first= True )"
   ]
  },
  {
   "cell_type": "code",
   "execution_count": 60,
   "metadata": {},
   "outputs": [],
   "source": [
    "numeric = ['creditscore', 'age', 'tenure', 'balance', 'numofproducts', 'estimatedsalary']\n",
    "scaler = StandardScaler()\n",
    "scaler.fit(features_train[numeric])\n",
    "features_train[numeric] = scaler.transform(features_train[numeric])\n",
    "features_test[numeric] = scaler.transform(features_test[numeric])"
   ]
  },
  {
   "cell_type": "code",
   "execution_count": 61,
   "metadata": {},
   "outputs": [],
   "source": [
    "parameters_fr = {'max_depth' : range(6,10),\n",
    "                'min_samples_leaf': range (1,8),\n",
    "              'min_samples_split': range (2,8),\n",
    "                'n_estimators': range(30, 40)}"
   ]
  },
  {
   "cell_type": "code",
   "execution_count": 62,
   "metadata": {},
   "outputs": [],
   "source": [
    "fr_grid = GridSearchCV(RandomForestClassifier(random_state=12345, class_weight = 'balanced'), \n",
    "                       param_grid = parameters_fr, n_jobs = -1, verbose = False, scoring = 'f1')"
   ]
  },
  {
   "cell_type": "code",
   "execution_count": 63,
   "metadata": {},
   "outputs": [
    {
     "name": "stdout",
     "output_type": "stream",
     "text": [
      "CPU times: user 14.5 s, sys: 2.54 s, total: 17 s\n",
      "Wall time: 2min 46s\n"
     ]
    }
   ],
   "source": [
    "%%time\n",
    "fr_grid_model_ = fr_grid.fit(features_train, target_train)\n",
    "predicted_test_grid = fr_grid_model_.predict(features_test)\n",
    "accuracy_test_fr_ = accuracy_score(predicted_test_grid, target_test)\n",
    "f1_fr_ = f1_score(target_test, predicted_test_grid)\n",
    "predict_fr_ = fr_grid_model.predict_proba(features_test)\n",
    "predict_fr_ = predict_fr_[:, 1]\n",
    "auc_roc_fr_ = roc_auc_score(target_test, predict_fr)"
   ]
  },
  {
   "cell_type": "code",
   "execution_count": 64,
   "metadata": {},
   "outputs": [
    {
     "name": "stdout",
     "output_type": "stream",
     "text": [
      "показатель Accuracy 0.8355\n",
      "Показатель F1 0.6372657111356119\n",
      "Показатель auc_roc 0.4837641956286024\n"
     ]
    }
   ],
   "source": [
    "print('показатель Accuracy', accuracy_test_fr_)\n",
    "print('Показатель F1', f1_fr_)\n",
    "print('Показатель auc_roc', auc_roc_fr_)"
   ]
  },
  {
   "cell_type": "code",
   "execution_count": 65,
   "metadata": {},
   "outputs": [
    {
     "name": "stdout",
     "output_type": "stream",
     "text": [
      "{'max_depth': 9, 'min_samples_leaf': 2, 'min_samples_split': 5, 'n_estimators': 38}\n",
      "0.6172343761558461\n"
     ]
    }
   ],
   "source": [
    "print(fr_grid_model_.best_params_)\n",
    "print(fr_grid_model_.best_score_)"
   ]
  },
  {
   "cell_type": "code",
   "execution_count": 66,
   "metadata": {},
   "outputs": [
    {
     "name": "stdout",
     "output_type": "stream",
     "text": [
      "Requirement already satisfied: imblearn in ./opt/anaconda3/lib/python3.9/site-packages (0.0)\n",
      "Requirement already satisfied: imbalanced-learn in ./opt/anaconda3/lib/python3.9/site-packages (from imblearn) (0.10.0)\n",
      "Requirement already satisfied: scikit-learn>=1.0.2 in ./opt/anaconda3/lib/python3.9/site-packages (from imbalanced-learn->imblearn) (1.0.2)\n",
      "Requirement already satisfied: numpy>=1.17.3 in ./opt/anaconda3/lib/python3.9/site-packages (from imbalanced-learn->imblearn) (1.21.5)\n",
      "Requirement already satisfied: scipy>=1.3.2 in ./opt/anaconda3/lib/python3.9/site-packages (from imbalanced-learn->imblearn) (1.7.3)\n",
      "Requirement already satisfied: joblib>=1.1.1 in ./opt/anaconda3/lib/python3.9/site-packages (from imbalanced-learn->imblearn) (1.2.0)\n",
      "Requirement already satisfied: threadpoolctl>=2.0.0 in ./opt/anaconda3/lib/python3.9/site-packages (from imbalanced-learn->imblearn) (2.2.0)\n"
     ]
    }
   ],
   "source": [
    "! pip install imblearn"
   ]
  },
  {
   "cell_type": "code",
   "execution_count": 67,
   "metadata": {},
   "outputs": [],
   "source": [
    "from imblearn.over_sampling import SMOTE"
   ]
  },
  {
   "cell_type": "code",
   "execution_count": 68,
   "metadata": {},
   "outputs": [],
   "source": [
    "smote = SMOTE(random_state = 12345)\n",
    "features_train_sm, target_train_sm = smote.fit_resample(features_train, target_train)"
   ]
  },
  {
   "cell_type": "code",
   "execution_count": 69,
   "metadata": {},
   "outputs": [
    {
     "name": "stdout",
     "output_type": "stream",
     "text": [
      "CPU times: user 15.4 s, sys: 3.28 s, total: 18.7 s\n",
      "Wall time: 4min 40s\n"
     ]
    }
   ],
   "source": [
    "%%time\n",
    "fr_grid_model_sm = fr_grid.fit(features_train_sm, target_train_sm)\n",
    "predicted_test_grid_sm = fr_grid_model_sm.predict(features_test)\n",
    "accuracy_test_fr = accuracy_score(predicted_test_grid_sm, target_test)\n",
    "f1_fr = f1_score(target_test, predicted_test_grid_sm)\n",
    "predict_fr_sm = fr_grid_model_sm.predict_proba(features_test)\n",
    "predict_fr_sm = predict_fr_sm[:, 1]\n",
    "auc_roc_fr_sm = roc_auc_score(target_test, predict_fr_sm)"
   ]
  },
  {
   "cell_type": "code",
   "execution_count": 70,
   "metadata": {},
   "outputs": [
    {
     "name": "stdout",
     "output_type": "stream",
     "text": [
      "показатель Accuracy 0.823\n",
      "Показатель F1 0.6152173913043478\n",
      "Показатель auc_roc 0.8556183301946014\n"
     ]
    }
   ],
   "source": [
    "print('показатель Accuracy', accuracy_test_fr )\n",
    "print('Показатель F1', f1_fr)\n",
    "print('Показатель auc_roc', auc_roc_fr_sm)"
   ]
  },
  {
   "cell_type": "code",
   "execution_count": 71,
   "metadata": {},
   "outputs": [
    {
     "name": "stdout",
     "output_type": "stream",
     "text": [
      "{'max_depth': 9, 'min_samples_leaf': 1, 'min_samples_split': 4, 'n_estimators': 31}\n",
      "0.82979671182629\n"
     ]
    }
   ],
   "source": [
    "print(fr_grid_model_sm.best_params_)\n",
    "print(fr_grid_model_sm.best_score_)"
   ]
  },
  {
   "cell_type": "markdown",
   "metadata": {},
   "source": [
    "Основные выводы:\n",
    "- требуется уточнить у коллег с разработки, почему получилось такое количество пропусков в столбце по количеству лет взаимодействия с банком\n",
    "- остальные данные не имеют явное количество выборосов\n",
    "- удалили 3 столбца, которые не несут эффективной информации для прогнозирования оттока\n",
    "\n",
    "В работе были рассмотрены несколько методов, как увеличить требуемые показания. Как от менее времене затратных ввиде Стратифай и Балансировка весов, так и более ресурсозатратные ввиде увеличения и уменьшения выборки.\n",
    "\n",
    "проведено исследование работы двух вариантов расчетов на освное модели случайный лес и дерево решений, наиболее эффективным оказался случайный лес, но он требует больше времени на расчет модели. так как у нас нет в этой ситации необхолимости быстро провести расчет, поэтому выбираем случайный лес, вариант логической регрессии откидываем сразу\n",
    "\n",
    "Несколько моделей смогли преодолеть требуемый порог в Ф1 0.59, наиболее затратный по техническим параметрам - Grid+ SMOTE, но он наимее затратен по длинне кода"
   ]
  },
  {
   "cell_type": "markdown",
   "metadata": {},
   "source": [
    "- Для предобратобки категориальных признаков был использован метод ОНЕ\n",
    "- было произведено масштабирование признаков\n",
    "- рассмотрены эффекты от разных варинатов борьбы с дисбалансом в данных: увеличение выборки, уменьшение выборки, балансировка весов классов, готовая функция SMOTE "
   ]
  },
  {
   "cell_type": "code",
   "execution_count": null,
   "metadata": {},
   "outputs": [],
   "source": []
  }
 ],
 "metadata": {
  "ExecuteTimeLog": [
   {
    "duration": 1396,
    "start_time": "2022-12-16T11:12:03.462Z"
   },
   {
    "duration": 155,
    "start_time": "2022-12-16T11:12:04.861Z"
   },
   {
    "duration": 14,
    "start_time": "2022-12-16T11:18:40.722Z"
   },
   {
    "duration": 12,
    "start_time": "2022-12-16T11:19:17.424Z"
   },
   {
    "duration": 13,
    "start_time": "2022-12-16T11:21:52.293Z"
   },
   {
    "duration": 23,
    "start_time": "2022-12-16T11:25:55.990Z"
   },
   {
    "duration": 4,
    "start_time": "2022-12-16T11:27:05.698Z"
   },
   {
    "duration": 10,
    "start_time": "2022-12-16T11:28:07.719Z"
   },
   {
    "duration": 104,
    "start_time": "2022-12-16T11:28:44.705Z"
   },
   {
    "duration": 8,
    "start_time": "2022-12-16T11:28:51.419Z"
   },
   {
    "duration": 4,
    "start_time": "2022-12-16T11:30:33.978Z"
   },
   {
    "duration": 75,
    "start_time": "2022-12-16T11:32:04.849Z"
   },
   {
    "duration": 4,
    "start_time": "2022-12-16T11:33:39.690Z"
   },
   {
    "duration": 1316,
    "start_time": "2022-12-16T11:34:01.005Z"
   },
   {
    "duration": 39,
    "start_time": "2022-12-16T11:34:02.323Z"
   },
   {
    "duration": 2,
    "start_time": "2022-12-16T11:34:02.364Z"
   },
   {
    "duration": 18,
    "start_time": "2022-12-16T11:34:02.367Z"
   },
   {
    "duration": 14,
    "start_time": "2022-12-16T11:34:02.387Z"
   },
   {
    "duration": 18,
    "start_time": "2022-12-16T11:34:02.402Z"
   },
   {
    "duration": 3,
    "start_time": "2022-12-16T11:34:02.422Z"
   },
   {
    "duration": 14,
    "start_time": "2022-12-16T11:34:02.427Z"
   },
   {
    "duration": 13,
    "start_time": "2022-12-16T11:34:02.442Z"
   },
   {
    "duration": 15,
    "start_time": "2022-12-16T11:34:02.456Z"
   },
   {
    "duration": 4,
    "start_time": "2022-12-16T11:34:02.472Z"
   },
   {
    "duration": 1185,
    "start_time": "2022-12-16T11:36:53.234Z"
   },
   {
    "duration": 7,
    "start_time": "2022-12-16T11:37:09.187Z"
   },
   {
    "duration": 3,
    "start_time": "2022-12-16T11:38:30.352Z"
   },
   {
    "duration": 8,
    "start_time": "2022-12-16T11:38:34.353Z"
   },
   {
    "duration": 6,
    "start_time": "2022-12-16T11:38:36.153Z"
   },
   {
    "duration": 1102,
    "start_time": "2022-12-16T11:38:36.923Z"
   },
   {
    "duration": 7,
    "start_time": "2022-12-16T11:38:42.286Z"
   },
   {
    "duration": 11,
    "start_time": "2022-12-16T11:42:28.304Z"
   },
   {
    "duration": 9,
    "start_time": "2022-12-16T11:42:40.449Z"
   },
   {
    "duration": 35,
    "start_time": "2022-12-16T11:43:01.956Z"
   },
   {
    "duration": 1499,
    "start_time": "2022-12-17T10:00:19.870Z"
   },
   {
    "duration": 162,
    "start_time": "2022-12-17T10:00:21.371Z"
   },
   {
    "duration": 3,
    "start_time": "2022-12-17T10:00:21.535Z"
   },
   {
    "duration": 24,
    "start_time": "2022-12-17T10:00:21.539Z"
   },
   {
    "duration": 17,
    "start_time": "2022-12-17T10:00:21.565Z"
   },
   {
    "duration": 27,
    "start_time": "2022-12-17T10:00:21.584Z"
   },
   {
    "duration": 3,
    "start_time": "2022-12-17T10:00:21.612Z"
   },
   {
    "duration": 12,
    "start_time": "2022-12-17T10:00:21.617Z"
   },
   {
    "duration": 20,
    "start_time": "2022-12-17T10:00:21.631Z"
   },
   {
    "duration": 9,
    "start_time": "2022-12-17T10:00:21.653Z"
   },
   {
    "duration": 19,
    "start_time": "2022-12-17T10:00:21.663Z"
   },
   {
    "duration": 43,
    "start_time": "2022-12-17T10:00:21.683Z"
   },
   {
    "duration": 9,
    "start_time": "2022-12-17T10:00:21.727Z"
   },
   {
    "duration": 19,
    "start_time": "2022-12-17T10:00:21.738Z"
   },
   {
    "duration": 20,
    "start_time": "2022-12-17T10:00:21.758Z"
   },
   {
    "duration": 5,
    "start_time": "2022-12-17T10:04:14.231Z"
   },
   {
    "duration": 8,
    "start_time": "2022-12-17T10:04:15.310Z"
   },
   {
    "duration": 7,
    "start_time": "2022-12-17T10:04:15.710Z"
   },
   {
    "duration": 16,
    "start_time": "2022-12-17T10:04:16.072Z"
   },
   {
    "duration": 4,
    "start_time": "2022-12-17T10:04:16.381Z"
   },
   {
    "duration": 15,
    "start_time": "2022-12-17T10:04:16.773Z"
   },
   {
    "duration": 5,
    "start_time": "2022-12-17T10:04:17.112Z"
   },
   {
    "duration": 17,
    "start_time": "2022-12-17T10:04:17.604Z"
   },
   {
    "duration": 6,
    "start_time": "2022-12-17T10:04:18.349Z"
   },
   {
    "duration": 1271,
    "start_time": "2022-12-17T20:39:32.243Z"
   },
   {
    "duration": 40,
    "start_time": "2022-12-17T20:39:33.515Z"
   },
   {
    "duration": 3,
    "start_time": "2022-12-17T20:39:33.557Z"
   },
   {
    "duration": 15,
    "start_time": "2022-12-17T20:39:33.562Z"
   },
   {
    "duration": 15,
    "start_time": "2022-12-17T20:39:33.578Z"
   },
   {
    "duration": 23,
    "start_time": "2022-12-17T20:39:33.595Z"
   },
   {
    "duration": 4,
    "start_time": "2022-12-17T20:39:33.619Z"
   },
   {
    "duration": 10,
    "start_time": "2022-12-17T20:39:33.624Z"
   },
   {
    "duration": 11,
    "start_time": "2022-12-17T20:39:33.635Z"
   },
   {
    "duration": 6,
    "start_time": "2022-12-17T20:39:33.648Z"
   },
   {
    "duration": 7,
    "start_time": "2022-12-17T20:39:33.655Z"
   },
   {
    "duration": 56,
    "start_time": "2022-12-17T20:39:33.663Z"
   },
   {
    "duration": 10,
    "start_time": "2022-12-17T20:39:33.721Z"
   },
   {
    "duration": 12,
    "start_time": "2022-12-17T20:39:33.732Z"
   },
   {
    "duration": 11,
    "start_time": "2022-12-17T20:39:33.746Z"
   },
   {
    "duration": 6,
    "start_time": "2022-12-17T20:39:33.758Z"
   },
   {
    "duration": 38,
    "start_time": "2022-12-17T20:39:33.766Z"
   },
   {
    "duration": 8,
    "start_time": "2022-12-17T20:39:33.806Z"
   },
   {
    "duration": 16,
    "start_time": "2022-12-17T20:39:33.816Z"
   },
   {
    "duration": 6,
    "start_time": "2022-12-17T20:39:33.834Z"
   },
   {
    "duration": 16,
    "start_time": "2022-12-17T20:39:33.841Z"
   },
   {
    "duration": 6,
    "start_time": "2022-12-17T20:39:33.859Z"
   },
   {
    "duration": 49,
    "start_time": "2022-12-17T20:39:33.867Z"
   },
   {
    "duration": 6,
    "start_time": "2022-12-17T20:39:33.918Z"
   },
   {
    "duration": 34,
    "start_time": "2022-12-17T20:39:33.926Z"
   },
   {
    "duration": 3,
    "start_time": "2022-12-17T20:39:33.961Z"
   },
   {
    "duration": 131,
    "start_time": "2022-12-17T20:39:33.965Z"
   },
   {
    "duration": 0,
    "start_time": "2022-12-17T20:39:34.098Z"
   },
   {
    "duration": 0,
    "start_time": "2022-12-17T20:39:34.104Z"
   },
   {
    "duration": 0,
    "start_time": "2022-12-17T20:39:34.105Z"
   },
   {
    "duration": 11,
    "start_time": "2022-12-17T20:40:47.643Z"
   },
   {
    "duration": 2,
    "start_time": "2022-12-17T20:40:53.538Z"
   },
   {
    "duration": 23,
    "start_time": "2022-12-17T20:40:55.476Z"
   },
   {
    "duration": 3,
    "start_time": "2022-12-17T20:44:49.541Z"
   },
   {
    "duration": 3,
    "start_time": "2022-12-17T20:44:49.877Z"
   },
   {
    "duration": 24,
    "start_time": "2022-12-17T20:44:50.273Z"
   },
   {
    "duration": 9,
    "start_time": "2022-12-17T20:44:51.315Z"
   },
   {
    "duration": 9,
    "start_time": "2022-12-17T20:44:51.795Z"
   },
   {
    "duration": 2,
    "start_time": "2022-12-17T20:46:11.738Z"
   },
   {
    "duration": 3,
    "start_time": "2022-12-17T20:46:12.052Z"
   },
   {
    "duration": 202,
    "start_time": "2022-12-17T20:46:12.552Z"
   },
   {
    "duration": 4,
    "start_time": "2022-12-17T20:46:14.869Z"
   },
   {
    "duration": 4,
    "start_time": "2022-12-17T20:46:15.588Z"
   },
   {
    "duration": 3,
    "start_time": "2022-12-17T20:53:29.654Z"
   },
   {
    "duration": 3,
    "start_time": "2022-12-17T20:53:30.520Z"
   },
   {
    "duration": 102,
    "start_time": "2022-12-17T20:53:30.876Z"
   },
   {
    "duration": 4,
    "start_time": "2022-12-17T20:53:31.453Z"
   },
   {
    "duration": 3,
    "start_time": "2022-12-17T20:53:32.417Z"
   },
   {
    "duration": 3,
    "start_time": "2022-12-17T20:53:44.047Z"
   },
   {
    "duration": 2,
    "start_time": "2022-12-17T20:53:44.421Z"
   },
   {
    "duration": 116,
    "start_time": "2022-12-17T20:53:44.747Z"
   },
   {
    "duration": 4,
    "start_time": "2022-12-17T20:53:45.087Z"
   },
   {
    "duration": 4,
    "start_time": "2022-12-17T20:53:45.556Z"
   },
   {
    "duration": 4,
    "start_time": "2022-12-17T20:53:49.741Z"
   },
   {
    "duration": 3,
    "start_time": "2022-12-17T20:53:49.956Z"
   },
   {
    "duration": 136,
    "start_time": "2022-12-17T20:53:50.141Z"
   },
   {
    "duration": 4,
    "start_time": "2022-12-17T20:53:50.317Z"
   },
   {
    "duration": 4,
    "start_time": "2022-12-17T20:53:50.516Z"
   },
   {
    "duration": 67,
    "start_time": "2022-12-17T20:55:54.280Z"
   },
   {
    "duration": 3,
    "start_time": "2022-12-17T20:55:54.599Z"
   },
   {
    "duration": 2,
    "start_time": "2022-12-17T20:57:58.297Z"
   },
   {
    "duration": 2,
    "start_time": "2022-12-17T20:57:58.894Z"
   },
   {
    "duration": 607,
    "start_time": "2022-12-17T20:57:59.213Z"
   },
   {
    "duration": 4,
    "start_time": "2022-12-17T20:57:59.822Z"
   },
   {
    "duration": 4,
    "start_time": "2022-12-17T20:58:02.693Z"
   },
   {
    "duration": 4,
    "start_time": "2022-12-17T20:59:43.896Z"
   },
   {
    "duration": 589,
    "start_time": "2022-12-17T20:59:46.116Z"
   },
   {
    "duration": 4,
    "start_time": "2022-12-17T20:59:46.707Z"
   },
   {
    "duration": 4,
    "start_time": "2022-12-17T20:59:48.502Z"
   },
   {
    "duration": 5,
    "start_time": "2022-12-17T21:00:05.493Z"
   },
   {
    "duration": 4,
    "start_time": "2022-12-17T21:00:06.538Z"
   },
   {
    "duration": 1400,
    "start_time": "2022-12-17T21:05:48.995Z"
   },
   {
    "duration": 40,
    "start_time": "2022-12-17T21:05:50.396Z"
   },
   {
    "duration": 3,
    "start_time": "2022-12-17T21:05:50.437Z"
   },
   {
    "duration": 17,
    "start_time": "2022-12-17T21:05:50.442Z"
   },
   {
    "duration": 14,
    "start_time": "2022-12-17T21:05:50.461Z"
   },
   {
    "duration": 21,
    "start_time": "2022-12-17T21:05:50.477Z"
   },
   {
    "duration": 8,
    "start_time": "2022-12-17T21:05:50.500Z"
   },
   {
    "duration": 11,
    "start_time": "2022-12-17T21:05:50.510Z"
   },
   {
    "duration": 14,
    "start_time": "2022-12-17T21:05:50.522Z"
   },
   {
    "duration": 6,
    "start_time": "2022-12-17T21:05:50.539Z"
   },
   {
    "duration": 8,
    "start_time": "2022-12-17T21:05:50.547Z"
   },
   {
    "duration": 56,
    "start_time": "2022-12-17T21:05:50.557Z"
   },
   {
    "duration": 9,
    "start_time": "2022-12-17T21:05:50.614Z"
   },
   {
    "duration": 13,
    "start_time": "2022-12-17T21:05:50.625Z"
   },
   {
    "duration": 12,
    "start_time": "2022-12-17T21:05:50.639Z"
   },
   {
    "duration": 12,
    "start_time": "2022-12-17T21:05:50.652Z"
   },
   {
    "duration": 10,
    "start_time": "2022-12-17T21:05:50.666Z"
   },
   {
    "duration": 11,
    "start_time": "2022-12-17T21:05:50.677Z"
   },
   {
    "duration": 27,
    "start_time": "2022-12-17T21:05:50.689Z"
   },
   {
    "duration": 5,
    "start_time": "2022-12-17T21:05:50.717Z"
   },
   {
    "duration": 31,
    "start_time": "2022-12-17T21:05:50.724Z"
   },
   {
    "duration": 17,
    "start_time": "2022-12-17T21:05:50.757Z"
   },
   {
    "duration": 18,
    "start_time": "2022-12-17T21:05:50.775Z"
   },
   {
    "duration": 14,
    "start_time": "2022-12-17T21:05:50.794Z"
   },
   {
    "duration": 35,
    "start_time": "2022-12-17T21:05:50.809Z"
   },
   {
    "duration": 3,
    "start_time": "2022-12-17T21:05:50.845Z"
   },
   {
    "duration": 13,
    "start_time": "2022-12-17T21:05:50.849Z"
   },
   {
    "duration": 5839,
    "start_time": "2022-12-17T21:05:50.865Z"
   },
   {
    "duration": 5,
    "start_time": "2022-12-17T21:05:56.705Z"
   },
   {
    "duration": 645,
    "start_time": "2022-12-17T21:05:56.712Z"
   },
   {
    "duration": 3,
    "start_time": "2022-12-17T21:05:57.358Z"
   },
   {
    "duration": 201,
    "start_time": "2022-12-17T21:05:57.364Z"
   },
   {
    "duration": 10,
    "start_time": "2022-12-17T21:05:57.567Z"
   },
   {
    "duration": 0,
    "start_time": "2022-12-17T21:05:57.579Z"
   },
   {
    "duration": 1331,
    "start_time": "2022-12-17T21:06:35.905Z"
   },
   {
    "duration": 38,
    "start_time": "2022-12-17T21:06:37.238Z"
   },
   {
    "duration": 4,
    "start_time": "2022-12-17T21:06:37.278Z"
   },
   {
    "duration": 23,
    "start_time": "2022-12-17T21:06:37.284Z"
   },
   {
    "duration": 24,
    "start_time": "2022-12-17T21:06:37.309Z"
   },
   {
    "duration": 23,
    "start_time": "2022-12-17T21:06:37.335Z"
   },
   {
    "duration": 5,
    "start_time": "2022-12-17T21:06:37.360Z"
   },
   {
    "duration": 7,
    "start_time": "2022-12-17T21:06:37.366Z"
   },
   {
    "duration": 17,
    "start_time": "2022-12-17T21:06:37.374Z"
   },
   {
    "duration": 8,
    "start_time": "2022-12-17T21:06:37.405Z"
   },
   {
    "duration": 9,
    "start_time": "2022-12-17T21:06:37.415Z"
   },
   {
    "duration": 41,
    "start_time": "2022-12-17T21:06:37.427Z"
   },
   {
    "duration": 9,
    "start_time": "2022-12-17T21:06:37.470Z"
   },
   {
    "duration": 32,
    "start_time": "2022-12-17T21:06:37.480Z"
   },
   {
    "duration": 13,
    "start_time": "2022-12-17T21:06:37.513Z"
   },
   {
    "duration": 6,
    "start_time": "2022-12-17T21:06:37.527Z"
   },
   {
    "duration": 8,
    "start_time": "2022-12-17T21:06:37.535Z"
   },
   {
    "duration": 8,
    "start_time": "2022-12-17T21:06:37.545Z"
   },
   {
    "duration": 53,
    "start_time": "2022-12-17T21:06:37.554Z"
   },
   {
    "duration": 5,
    "start_time": "2022-12-17T21:06:37.609Z"
   },
   {
    "duration": 44,
    "start_time": "2022-12-17T21:06:37.616Z"
   },
   {
    "duration": 7,
    "start_time": "2022-12-17T21:06:37.661Z"
   },
   {
    "duration": 15,
    "start_time": "2022-12-17T21:06:37.670Z"
   },
   {
    "duration": 4,
    "start_time": "2022-12-17T21:06:37.686Z"
   },
   {
    "duration": 33,
    "start_time": "2022-12-17T21:06:37.692Z"
   },
   {
    "duration": 2,
    "start_time": "2022-12-17T21:06:37.726Z"
   },
   {
    "duration": 8,
    "start_time": "2022-12-17T21:06:37.729Z"
   },
   {
    "duration": 5894,
    "start_time": "2022-12-17T21:06:37.740Z"
   },
   {
    "duration": 5,
    "start_time": "2022-12-17T21:06:43.636Z"
   },
   {
    "duration": 663,
    "start_time": "2022-12-17T21:06:43.642Z"
   },
   {
    "duration": 2,
    "start_time": "2022-12-17T21:06:44.307Z"
   },
   {
    "duration": 17,
    "start_time": "2022-12-17T21:06:44.310Z"
   },
   {
    "duration": 4909,
    "start_time": "2022-12-17T21:06:44.328Z"
   },
   {
    "duration": 4,
    "start_time": "2022-12-17T21:06:49.238Z"
   },
   {
    "duration": 1356,
    "start_time": "2022-12-17T21:18:51.785Z"
   },
   {
    "duration": 41,
    "start_time": "2022-12-17T21:18:53.142Z"
   },
   {
    "duration": 3,
    "start_time": "2022-12-17T21:18:53.185Z"
   },
   {
    "duration": 16,
    "start_time": "2022-12-17T21:18:53.189Z"
   },
   {
    "duration": 17,
    "start_time": "2022-12-17T21:18:53.207Z"
   },
   {
    "duration": 19,
    "start_time": "2022-12-17T21:18:53.225Z"
   },
   {
    "duration": 4,
    "start_time": "2022-12-17T21:18:53.245Z"
   },
   {
    "duration": 8,
    "start_time": "2022-12-17T21:18:53.251Z"
   },
   {
    "duration": 15,
    "start_time": "2022-12-17T21:18:53.261Z"
   },
   {
    "duration": 29,
    "start_time": "2022-12-17T21:18:53.277Z"
   },
   {
    "duration": 11,
    "start_time": "2022-12-17T21:18:53.307Z"
   },
   {
    "duration": 32,
    "start_time": "2022-12-17T21:18:53.319Z"
   },
   {
    "duration": 9,
    "start_time": "2022-12-17T21:18:53.352Z"
   },
   {
    "duration": 10,
    "start_time": "2022-12-17T21:18:53.364Z"
   },
   {
    "duration": 39,
    "start_time": "2022-12-17T21:18:53.375Z"
   },
   {
    "duration": 6,
    "start_time": "2022-12-17T21:18:53.416Z"
   },
   {
    "duration": 13,
    "start_time": "2022-12-17T21:18:53.423Z"
   },
   {
    "duration": 8,
    "start_time": "2022-12-17T21:18:53.437Z"
   },
   {
    "duration": 15,
    "start_time": "2022-12-17T21:18:53.446Z"
   },
   {
    "duration": 7,
    "start_time": "2022-12-17T21:18:53.462Z"
   },
   {
    "duration": 41,
    "start_time": "2022-12-17T21:18:53.470Z"
   },
   {
    "duration": 5,
    "start_time": "2022-12-17T21:18:53.512Z"
   },
   {
    "duration": 17,
    "start_time": "2022-12-17T21:18:53.519Z"
   },
   {
    "duration": 9,
    "start_time": "2022-12-17T21:18:53.538Z"
   },
   {
    "duration": 33,
    "start_time": "2022-12-17T21:18:53.549Z"
   },
   {
    "duration": 2,
    "start_time": "2022-12-17T21:18:53.583Z"
   },
   {
    "duration": 27,
    "start_time": "2022-12-17T21:18:53.587Z"
   },
   {
    "duration": 5818,
    "start_time": "2022-12-17T21:18:53.615Z"
   },
   {
    "duration": 111,
    "start_time": "2022-12-17T21:18:59.435Z"
   },
   {
    "duration": 0,
    "start_time": "2022-12-17T21:18:59.547Z"
   },
   {
    "duration": 0,
    "start_time": "2022-12-17T21:18:59.549Z"
   },
   {
    "duration": 0,
    "start_time": "2022-12-17T21:18:59.550Z"
   },
   {
    "duration": 0,
    "start_time": "2022-12-17T21:18:59.551Z"
   },
   {
    "duration": 0,
    "start_time": "2022-12-17T21:18:59.553Z"
   },
   {
    "duration": 0,
    "start_time": "2022-12-17T21:18:59.554Z"
   },
   {
    "duration": 0,
    "start_time": "2022-12-17T21:18:59.555Z"
   },
   {
    "duration": 1371,
    "start_time": "2022-12-17T21:20:23.271Z"
   },
   {
    "duration": 40,
    "start_time": "2022-12-17T21:20:24.644Z"
   },
   {
    "duration": 2,
    "start_time": "2022-12-17T21:20:24.686Z"
   },
   {
    "duration": 15,
    "start_time": "2022-12-17T21:20:24.690Z"
   },
   {
    "duration": 15,
    "start_time": "2022-12-17T21:20:24.707Z"
   },
   {
    "duration": 24,
    "start_time": "2022-12-17T21:20:24.723Z"
   },
   {
    "duration": 4,
    "start_time": "2022-12-17T21:20:24.748Z"
   },
   {
    "duration": 6,
    "start_time": "2022-12-17T21:20:24.753Z"
   },
   {
    "duration": 13,
    "start_time": "2022-12-17T21:20:24.761Z"
   },
   {
    "duration": 30,
    "start_time": "2022-12-17T21:20:24.776Z"
   },
   {
    "duration": 9,
    "start_time": "2022-12-17T21:20:24.808Z"
   },
   {
    "duration": 34,
    "start_time": "2022-12-17T21:20:24.819Z"
   },
   {
    "duration": 11,
    "start_time": "2022-12-17T21:20:24.855Z"
   },
   {
    "duration": 38,
    "start_time": "2022-12-17T21:20:24.869Z"
   },
   {
    "duration": 11,
    "start_time": "2022-12-17T21:20:24.909Z"
   },
   {
    "duration": 4,
    "start_time": "2022-12-17T21:20:24.922Z"
   },
   {
    "duration": 11,
    "start_time": "2022-12-17T21:20:24.930Z"
   },
   {
    "duration": 6,
    "start_time": "2022-12-17T21:20:24.943Z"
   },
   {
    "duration": 16,
    "start_time": "2022-12-17T21:20:24.951Z"
   },
   {
    "duration": 9,
    "start_time": "2022-12-17T21:20:24.968Z"
   },
   {
    "duration": 16,
    "start_time": "2022-12-17T21:20:25.004Z"
   },
   {
    "duration": 4,
    "start_time": "2022-12-17T21:20:25.021Z"
   },
   {
    "duration": 16,
    "start_time": "2022-12-17T21:20:25.027Z"
   },
   {
    "duration": 9,
    "start_time": "2022-12-17T21:20:25.044Z"
   },
   {
    "duration": 52,
    "start_time": "2022-12-17T21:20:25.054Z"
   },
   {
    "duration": 2,
    "start_time": "2022-12-17T21:20:25.108Z"
   },
   {
    "duration": 7,
    "start_time": "2022-12-17T21:20:25.112Z"
   },
   {
    "duration": 5755,
    "start_time": "2022-12-17T21:20:25.120Z"
   },
   {
    "duration": 116,
    "start_time": "2022-12-17T21:20:30.876Z"
   },
   {
    "duration": 0,
    "start_time": "2022-12-17T21:20:30.994Z"
   },
   {
    "duration": 0,
    "start_time": "2022-12-17T21:20:30.995Z"
   },
   {
    "duration": 0,
    "start_time": "2022-12-17T21:20:30.996Z"
   },
   {
    "duration": 0,
    "start_time": "2022-12-17T21:20:31.005Z"
   },
   {
    "duration": 0,
    "start_time": "2022-12-17T21:20:31.006Z"
   },
   {
    "duration": 0,
    "start_time": "2022-12-17T21:20:31.007Z"
   },
   {
    "duration": 0,
    "start_time": "2022-12-17T21:20:31.009Z"
   },
   {
    "duration": 16,
    "start_time": "2022-12-17T21:23:15.879Z"
   },
   {
    "duration": 15,
    "start_time": "2022-12-17T21:23:34.160Z"
   },
   {
    "duration": 1331,
    "start_time": "2022-12-17T21:27:29.439Z"
   },
   {
    "duration": 40,
    "start_time": "2022-12-17T21:27:30.771Z"
   },
   {
    "duration": 3,
    "start_time": "2022-12-17T21:27:30.812Z"
   },
   {
    "duration": 32,
    "start_time": "2022-12-17T21:27:30.817Z"
   },
   {
    "duration": 18,
    "start_time": "2022-12-17T21:27:30.851Z"
   },
   {
    "duration": 41,
    "start_time": "2022-12-17T21:27:30.871Z"
   },
   {
    "duration": 7,
    "start_time": "2022-12-17T21:27:30.914Z"
   },
   {
    "duration": 18,
    "start_time": "2022-12-17T21:27:30.922Z"
   },
   {
    "duration": 32,
    "start_time": "2022-12-17T21:27:30.941Z"
   },
   {
    "duration": 17,
    "start_time": "2022-12-17T21:27:30.974Z"
   },
   {
    "duration": 26,
    "start_time": "2022-12-17T21:27:30.992Z"
   },
   {
    "duration": 69,
    "start_time": "2022-12-17T21:27:31.019Z"
   },
   {
    "duration": 11,
    "start_time": "2022-12-17T21:27:31.090Z"
   },
   {
    "duration": 25,
    "start_time": "2022-12-17T21:27:31.105Z"
   },
   {
    "duration": 27,
    "start_time": "2022-12-17T21:27:31.132Z"
   },
   {
    "duration": 19,
    "start_time": "2022-12-17T21:27:31.161Z"
   },
   {
    "duration": 9,
    "start_time": "2022-12-17T21:27:31.181Z"
   },
   {
    "duration": 10,
    "start_time": "2022-12-17T21:27:31.192Z"
   },
   {
    "duration": 15,
    "start_time": "2022-12-17T21:27:31.204Z"
   },
   {
    "duration": 5,
    "start_time": "2022-12-17T21:27:31.221Z"
   },
   {
    "duration": 16,
    "start_time": "2022-12-17T21:27:31.228Z"
   },
   {
    "duration": 10,
    "start_time": "2022-12-17T21:27:31.246Z"
   },
   {
    "duration": 15,
    "start_time": "2022-12-17T21:27:31.257Z"
   },
   {
    "duration": 32,
    "start_time": "2022-12-17T21:27:31.274Z"
   },
   {
    "duration": 40,
    "start_time": "2022-12-17T21:27:31.307Z"
   },
   {
    "duration": 3,
    "start_time": "2022-12-17T21:27:31.349Z"
   },
   {
    "duration": 6,
    "start_time": "2022-12-17T21:27:31.354Z"
   },
   {
    "duration": 5627,
    "start_time": "2022-12-17T21:27:31.361Z"
   },
   {
    "duration": 15,
    "start_time": "2022-12-17T21:27:36.990Z"
   },
   {
    "duration": 650,
    "start_time": "2022-12-17T21:27:37.007Z"
   },
   {
    "duration": 3,
    "start_time": "2022-12-17T21:27:37.658Z"
   },
   {
    "duration": 6,
    "start_time": "2022-12-17T21:27:37.663Z"
   },
   {
    "duration": 4801,
    "start_time": "2022-12-17T21:27:37.671Z"
   },
   {
    "duration": 3,
    "start_time": "2022-12-17T21:27:42.473Z"
   },
   {
    "duration": 1279,
    "start_time": "2022-12-17T21:29:10.262Z"
   },
   {
    "duration": 40,
    "start_time": "2022-12-17T21:29:11.543Z"
   },
   {
    "duration": 3,
    "start_time": "2022-12-17T21:29:11.584Z"
   },
   {
    "duration": 16,
    "start_time": "2022-12-17T21:29:11.588Z"
   },
   {
    "duration": 15,
    "start_time": "2022-12-17T21:29:11.605Z"
   },
   {
    "duration": 17,
    "start_time": "2022-12-17T21:29:11.622Z"
   },
   {
    "duration": 3,
    "start_time": "2022-12-17T21:29:11.641Z"
   },
   {
    "duration": 7,
    "start_time": "2022-12-17T21:29:11.646Z"
   },
   {
    "duration": 11,
    "start_time": "2022-12-17T21:29:11.655Z"
   },
   {
    "duration": 6,
    "start_time": "2022-12-17T21:29:11.668Z"
   },
   {
    "duration": 34,
    "start_time": "2022-12-17T21:29:11.676Z"
   },
   {
    "duration": 33,
    "start_time": "2022-12-17T21:29:11.712Z"
   },
   {
    "duration": 9,
    "start_time": "2022-12-17T21:29:11.746Z"
   },
   {
    "duration": 10,
    "start_time": "2022-12-17T21:29:11.758Z"
   },
   {
    "duration": 36,
    "start_time": "2022-12-17T21:29:11.769Z"
   },
   {
    "duration": 5,
    "start_time": "2022-12-17T21:29:11.807Z"
   },
   {
    "duration": 9,
    "start_time": "2022-12-17T21:29:11.813Z"
   },
   {
    "duration": 7,
    "start_time": "2022-12-17T21:29:11.823Z"
   },
   {
    "duration": 16,
    "start_time": "2022-12-17T21:29:11.831Z"
   },
   {
    "duration": 5,
    "start_time": "2022-12-17T21:29:11.849Z"
   },
   {
    "duration": 14,
    "start_time": "2022-12-17T21:29:11.856Z"
   },
   {
    "duration": 8,
    "start_time": "2022-12-17T21:29:11.905Z"
   },
   {
    "duration": 16,
    "start_time": "2022-12-17T21:29:11.914Z"
   },
   {
    "duration": 6,
    "start_time": "2022-12-17T21:29:11.931Z"
   },
   {
    "duration": 33,
    "start_time": "2022-12-17T21:29:11.938Z"
   },
   {
    "duration": 2,
    "start_time": "2022-12-17T21:29:11.973Z"
   },
   {
    "duration": 4,
    "start_time": "2022-12-17T21:29:12.005Z"
   },
   {
    "duration": 5764,
    "start_time": "2022-12-17T21:29:12.010Z"
   },
   {
    "duration": 8,
    "start_time": "2022-12-17T21:29:17.775Z"
   },
   {
    "duration": 3,
    "start_time": "2022-12-17T21:29:17.784Z"
   },
   {
    "duration": 650,
    "start_time": "2022-12-17T21:29:17.788Z"
   },
   {
    "duration": 3,
    "start_time": "2022-12-17T21:29:18.439Z"
   },
   {
    "duration": 8,
    "start_time": "2022-12-17T21:29:18.443Z"
   },
   {
    "duration": 4749,
    "start_time": "2022-12-17T21:29:18.453Z"
   },
   {
    "duration": 3,
    "start_time": "2022-12-17T21:29:23.204Z"
   },
   {
    "duration": 11,
    "start_time": "2022-12-17T21:30:35.648Z"
   },
   {
    "duration": 10,
    "start_time": "2022-12-17T21:31:00.504Z"
   },
   {
    "duration": 105,
    "start_time": "2022-12-17T21:32:44.352Z"
   },
   {
    "duration": 14,
    "start_time": "2022-12-17T21:32:47.746Z"
   },
   {
    "duration": 10,
    "start_time": "2022-12-17T21:32:48.234Z"
   },
   {
    "duration": 1319,
    "start_time": "2022-12-17T21:32:58.116Z"
   },
   {
    "duration": 40,
    "start_time": "2022-12-17T21:32:59.437Z"
   },
   {
    "duration": 3,
    "start_time": "2022-12-17T21:32:59.478Z"
   },
   {
    "duration": 17,
    "start_time": "2022-12-17T21:32:59.482Z"
   },
   {
    "duration": 16,
    "start_time": "2022-12-17T21:32:59.502Z"
   },
   {
    "duration": 18,
    "start_time": "2022-12-17T21:32:59.519Z"
   },
   {
    "duration": 3,
    "start_time": "2022-12-17T21:32:59.539Z"
   },
   {
    "duration": 5,
    "start_time": "2022-12-17T21:32:59.544Z"
   },
   {
    "duration": 12,
    "start_time": "2022-12-17T21:32:59.550Z"
   },
   {
    "duration": 6,
    "start_time": "2022-12-17T21:32:59.563Z"
   },
   {
    "duration": 38,
    "start_time": "2022-12-17T21:32:59.571Z"
   },
   {
    "duration": 33,
    "start_time": "2022-12-17T21:32:59.611Z"
   },
   {
    "duration": 9,
    "start_time": "2022-12-17T21:32:59.646Z"
   },
   {
    "duration": 9,
    "start_time": "2022-12-17T21:32:59.658Z"
   },
   {
    "duration": 12,
    "start_time": "2022-12-17T21:32:59.668Z"
   },
   {
    "duration": 5,
    "start_time": "2022-12-17T21:32:59.704Z"
   },
   {
    "duration": 8,
    "start_time": "2022-12-17T21:32:59.711Z"
   },
   {
    "duration": 7,
    "start_time": "2022-12-17T21:32:59.720Z"
   },
   {
    "duration": 16,
    "start_time": "2022-12-17T21:32:59.728Z"
   },
   {
    "duration": 6,
    "start_time": "2022-12-17T21:32:59.745Z"
   },
   {
    "duration": 15,
    "start_time": "2022-12-17T21:32:59.752Z"
   },
   {
    "duration": 5,
    "start_time": "2022-12-17T21:32:59.769Z"
   },
   {
    "duration": 41,
    "start_time": "2022-12-17T21:32:59.775Z"
   },
   {
    "duration": 5,
    "start_time": "2022-12-17T21:32:59.817Z"
   },
   {
    "duration": 36,
    "start_time": "2022-12-17T21:32:59.823Z"
   },
   {
    "duration": 2,
    "start_time": "2022-12-17T21:32:59.860Z"
   },
   {
    "duration": 14,
    "start_time": "2022-12-17T21:32:59.864Z"
   },
   {
    "duration": 5752,
    "start_time": "2022-12-17T21:32:59.879Z"
   },
   {
    "duration": 112,
    "start_time": "2022-12-17T21:33:05.632Z"
   },
   {
    "duration": 0,
    "start_time": "2022-12-17T21:33:05.745Z"
   },
   {
    "duration": 0,
    "start_time": "2022-12-17T21:33:05.746Z"
   },
   {
    "duration": 0,
    "start_time": "2022-12-17T21:33:05.747Z"
   },
   {
    "duration": 0,
    "start_time": "2022-12-17T21:33:05.748Z"
   },
   {
    "duration": 0,
    "start_time": "2022-12-17T21:33:05.749Z"
   },
   {
    "duration": 0,
    "start_time": "2022-12-17T21:33:05.750Z"
   },
   {
    "duration": 1366,
    "start_time": "2022-12-17T21:33:43.788Z"
   },
   {
    "duration": 40,
    "start_time": "2022-12-17T21:33:45.156Z"
   },
   {
    "duration": 3,
    "start_time": "2022-12-17T21:33:45.198Z"
   },
   {
    "duration": 15,
    "start_time": "2022-12-17T21:33:45.203Z"
   },
   {
    "duration": 15,
    "start_time": "2022-12-17T21:33:45.219Z"
   },
   {
    "duration": 18,
    "start_time": "2022-12-17T21:33:45.235Z"
   },
   {
    "duration": 4,
    "start_time": "2022-12-17T21:33:45.255Z"
   },
   {
    "duration": 6,
    "start_time": "2022-12-17T21:33:45.260Z"
   },
   {
    "duration": 11,
    "start_time": "2022-12-17T21:33:45.267Z"
   },
   {
    "duration": 7,
    "start_time": "2022-12-17T21:33:45.304Z"
   },
   {
    "duration": 7,
    "start_time": "2022-12-17T21:33:45.312Z"
   },
   {
    "duration": 34,
    "start_time": "2022-12-17T21:33:45.321Z"
   },
   {
    "duration": 10,
    "start_time": "2022-12-17T21:33:45.356Z"
   },
   {
    "duration": 10,
    "start_time": "2022-12-17T21:33:45.367Z"
   },
   {
    "duration": 11,
    "start_time": "2022-12-17T21:33:45.405Z"
   },
   {
    "duration": 4,
    "start_time": "2022-12-17T21:33:45.418Z"
   },
   {
    "duration": 10,
    "start_time": "2022-12-17T21:33:45.424Z"
   },
   {
    "duration": 7,
    "start_time": "2022-12-17T21:33:45.435Z"
   },
   {
    "duration": 15,
    "start_time": "2022-12-17T21:33:45.444Z"
   },
   {
    "duration": 6,
    "start_time": "2022-12-17T21:33:45.460Z"
   },
   {
    "duration": 44,
    "start_time": "2022-12-17T21:33:45.467Z"
   },
   {
    "duration": 4,
    "start_time": "2022-12-17T21:33:45.513Z"
   },
   {
    "duration": 18,
    "start_time": "2022-12-17T21:33:45.518Z"
   },
   {
    "duration": 5,
    "start_time": "2022-12-17T21:33:45.537Z"
   },
   {
    "duration": 35,
    "start_time": "2022-12-17T21:33:45.543Z"
   },
   {
    "duration": 3,
    "start_time": "2022-12-17T21:33:45.579Z"
   },
   {
    "duration": 5,
    "start_time": "2022-12-17T21:33:45.604Z"
   },
   {
    "duration": 5851,
    "start_time": "2022-12-17T21:33:45.611Z"
   },
   {
    "duration": 11,
    "start_time": "2022-12-17T21:33:51.464Z"
   },
   {
    "duration": 8,
    "start_time": "2022-12-17T21:33:51.476Z"
   },
   {
    "duration": 626,
    "start_time": "2022-12-17T21:33:51.485Z"
   },
   {
    "duration": 2,
    "start_time": "2022-12-17T21:33:52.113Z"
   },
   {
    "duration": 6,
    "start_time": "2022-12-17T21:33:52.117Z"
   },
   {
    "duration": 4663,
    "start_time": "2022-12-17T21:33:52.124Z"
   },
   {
    "duration": 3,
    "start_time": "2022-12-17T21:33:56.788Z"
   },
   {
    "duration": 1298,
    "start_time": "2022-12-17T21:34:55.465Z"
   },
   {
    "duration": 40,
    "start_time": "2022-12-17T21:34:56.765Z"
   },
   {
    "duration": 3,
    "start_time": "2022-12-17T21:34:56.806Z"
   },
   {
    "duration": 17,
    "start_time": "2022-12-17T21:34:56.812Z"
   },
   {
    "duration": 15,
    "start_time": "2022-12-17T21:34:56.831Z"
   },
   {
    "duration": 19,
    "start_time": "2022-12-17T21:34:56.848Z"
   },
   {
    "duration": 3,
    "start_time": "2022-12-17T21:34:56.869Z"
   },
   {
    "duration": 6,
    "start_time": "2022-12-17T21:34:56.873Z"
   },
   {
    "duration": 9,
    "start_time": "2022-12-17T21:34:56.905Z"
   },
   {
    "duration": 6,
    "start_time": "2022-12-17T21:34:56.917Z"
   },
   {
    "duration": 7,
    "start_time": "2022-12-17T21:34:56.925Z"
   },
   {
    "duration": 35,
    "start_time": "2022-12-17T21:34:56.933Z"
   },
   {
    "duration": 36,
    "start_time": "2022-12-17T21:34:56.969Z"
   },
   {
    "duration": 10,
    "start_time": "2022-12-17T21:34:57.007Z"
   },
   {
    "duration": 13,
    "start_time": "2022-12-17T21:34:57.019Z"
   },
   {
    "duration": 5,
    "start_time": "2022-12-17T21:34:57.033Z"
   },
   {
    "duration": 8,
    "start_time": "2022-12-17T21:34:57.039Z"
   },
   {
    "duration": 7,
    "start_time": "2022-12-17T21:34:57.048Z"
   },
   {
    "duration": 16,
    "start_time": "2022-12-17T21:34:57.057Z"
   },
   {
    "duration": 6,
    "start_time": "2022-12-17T21:34:57.105Z"
   },
   {
    "duration": 16,
    "start_time": "2022-12-17T21:34:57.113Z"
   },
   {
    "duration": 4,
    "start_time": "2022-12-17T21:34:57.131Z"
   },
   {
    "duration": 16,
    "start_time": "2022-12-17T21:34:57.137Z"
   },
   {
    "duration": 6,
    "start_time": "2022-12-17T21:34:57.155Z"
   },
   {
    "duration": 10,
    "start_time": "2022-12-17T21:34:57.163Z"
   },
   {
    "duration": 31,
    "start_time": "2022-12-17T21:34:57.175Z"
   },
   {
    "duration": 6,
    "start_time": "2022-12-17T21:34:57.208Z"
   },
   {
    "duration": 12046,
    "start_time": "2022-12-17T21:34:57.217Z"
   },
   {
    "duration": 10,
    "start_time": "2022-12-17T21:35:09.264Z"
   },
   {
    "duration": 4,
    "start_time": "2022-12-17T21:35:09.275Z"
   },
   {
    "duration": 611,
    "start_time": "2022-12-17T21:35:09.280Z"
   },
   {
    "duration": 3,
    "start_time": "2022-12-17T21:35:09.893Z"
   },
   {
    "duration": 9,
    "start_time": "2022-12-17T21:35:09.897Z"
   },
   {
    "duration": 4691,
    "start_time": "2022-12-17T21:35:09.908Z"
   },
   {
    "duration": 4,
    "start_time": "2022-12-17T21:35:14.601Z"
   },
   {
    "duration": 1286,
    "start_time": "2022-12-17T21:40:40.144Z"
   },
   {
    "duration": 39,
    "start_time": "2022-12-17T21:40:41.432Z"
   },
   {
    "duration": 3,
    "start_time": "2022-12-17T21:40:41.472Z"
   },
   {
    "duration": 15,
    "start_time": "2022-12-17T21:40:41.477Z"
   },
   {
    "duration": 16,
    "start_time": "2022-12-17T21:40:41.493Z"
   },
   {
    "duration": 19,
    "start_time": "2022-12-17T21:40:41.511Z"
   },
   {
    "duration": 4,
    "start_time": "2022-12-17T21:40:41.532Z"
   },
   {
    "duration": 6,
    "start_time": "2022-12-17T21:40:41.537Z"
   },
   {
    "duration": 21,
    "start_time": "2022-12-17T21:40:41.544Z"
   },
   {
    "duration": 9,
    "start_time": "2022-12-17T21:40:41.568Z"
   },
   {
    "duration": 16,
    "start_time": "2022-12-17T21:40:41.578Z"
   },
   {
    "duration": 33,
    "start_time": "2022-12-17T21:40:41.605Z"
   },
   {
    "duration": 9,
    "start_time": "2022-12-17T21:40:41.639Z"
   },
   {
    "duration": 11,
    "start_time": "2022-12-17T21:40:41.649Z"
   },
   {
    "duration": 20,
    "start_time": "2022-12-17T21:40:41.661Z"
   },
   {
    "duration": 21,
    "start_time": "2022-12-17T21:40:41.683Z"
   },
   {
    "duration": 8,
    "start_time": "2022-12-17T21:40:41.706Z"
   },
   {
    "duration": 11,
    "start_time": "2022-12-17T21:40:41.715Z"
   },
   {
    "duration": 17,
    "start_time": "2022-12-17T21:40:41.727Z"
   },
   {
    "duration": 8,
    "start_time": "2022-12-17T21:40:41.746Z"
   },
   {
    "duration": 21,
    "start_time": "2022-12-17T21:40:41.756Z"
   },
   {
    "duration": 27,
    "start_time": "2022-12-17T21:40:41.778Z"
   },
   {
    "duration": 15,
    "start_time": "2022-12-17T21:40:41.807Z"
   },
   {
    "duration": 8,
    "start_time": "2022-12-17T21:40:41.823Z"
   },
   {
    "duration": 7,
    "start_time": "2022-12-17T21:40:41.833Z"
   },
   {
    "duration": 13,
    "start_time": "2022-12-17T21:40:41.841Z"
   },
   {
    "duration": 17,
    "start_time": "2022-12-17T21:40:41.856Z"
   },
   {
    "duration": 11821,
    "start_time": "2022-12-17T21:40:41.876Z"
   },
   {
    "duration": 11,
    "start_time": "2022-12-17T21:40:53.699Z"
   },
   {
    "duration": 3,
    "start_time": "2022-12-17T21:40:53.712Z"
   },
   {
    "duration": 6,
    "start_time": "2022-12-17T21:40:53.717Z"
   },
   {
    "duration": 6,
    "start_time": "2022-12-17T21:40:53.724Z"
   },
   {
    "duration": 34999,
    "start_time": "2022-12-17T21:40:53.732Z"
   },
   {
    "duration": 5,
    "start_time": "2022-12-17T21:41:28.732Z"
   },
   {
    "duration": 6,
    "start_time": "2022-12-17T21:41:28.738Z"
   },
   {
    "duration": 1338,
    "start_time": "2022-12-17T21:46:19.201Z"
   },
   {
    "duration": 42,
    "start_time": "2022-12-17T21:46:20.541Z"
   },
   {
    "duration": 3,
    "start_time": "2022-12-17T21:46:20.585Z"
   },
   {
    "duration": 29,
    "start_time": "2022-12-17T21:46:20.590Z"
   },
   {
    "duration": 15,
    "start_time": "2022-12-17T21:46:20.621Z"
   },
   {
    "duration": 42,
    "start_time": "2022-12-17T21:46:20.638Z"
   },
   {
    "duration": 4,
    "start_time": "2022-12-17T21:46:20.682Z"
   },
   {
    "duration": 19,
    "start_time": "2022-12-17T21:46:20.688Z"
   },
   {
    "duration": 16,
    "start_time": "2022-12-17T21:46:20.708Z"
   },
   {
    "duration": 7,
    "start_time": "2022-12-17T21:46:20.726Z"
   },
   {
    "duration": 7,
    "start_time": "2022-12-17T21:46:20.735Z"
   },
   {
    "duration": 41,
    "start_time": "2022-12-17T21:46:20.744Z"
   },
   {
    "duration": 22,
    "start_time": "2022-12-17T21:46:20.787Z"
   },
   {
    "duration": 26,
    "start_time": "2022-12-17T21:46:20.812Z"
   },
   {
    "duration": 13,
    "start_time": "2022-12-17T21:46:20.839Z"
   },
   {
    "duration": 4,
    "start_time": "2022-12-17T21:46:20.853Z"
   },
   {
    "duration": 56,
    "start_time": "2022-12-17T21:46:20.859Z"
   },
   {
    "duration": 7,
    "start_time": "2022-12-17T21:46:20.916Z"
   },
   {
    "duration": 14,
    "start_time": "2022-12-17T21:46:20.925Z"
   },
   {
    "duration": 9,
    "start_time": "2022-12-17T21:46:20.941Z"
   },
   {
    "duration": 17,
    "start_time": "2022-12-17T21:46:20.951Z"
   },
   {
    "duration": 6,
    "start_time": "2022-12-17T21:46:20.969Z"
   },
   {
    "duration": 34,
    "start_time": "2022-12-17T21:46:20.976Z"
   },
   {
    "duration": 5,
    "start_time": "2022-12-17T21:46:21.012Z"
   },
   {
    "duration": 5,
    "start_time": "2022-12-17T21:46:21.019Z"
   },
   {
    "duration": 5,
    "start_time": "2022-12-17T21:46:21.025Z"
   },
   {
    "duration": 5,
    "start_time": "2022-12-17T21:46:21.032Z"
   },
   {
    "duration": 11786,
    "start_time": "2022-12-17T21:46:21.038Z"
   },
   {
    "duration": 11,
    "start_time": "2022-12-17T21:46:32.825Z"
   },
   {
    "duration": 4,
    "start_time": "2022-12-17T21:46:32.838Z"
   },
   {
    "duration": 10,
    "start_time": "2022-12-17T21:46:32.844Z"
   },
   {
    "duration": 8,
    "start_time": "2022-12-17T21:46:32.855Z"
   },
   {
    "duration": 36451,
    "start_time": "2022-12-17T21:46:32.865Z"
   },
   {
    "duration": 3,
    "start_time": "2022-12-17T21:47:09.317Z"
   },
   {
    "duration": 1369,
    "start_time": "2022-12-17T22:02:00.007Z"
   },
   {
    "duration": 40,
    "start_time": "2022-12-17T22:02:01.378Z"
   },
   {
    "duration": 15,
    "start_time": "2022-12-17T22:02:01.422Z"
   },
   {
    "duration": 67,
    "start_time": "2022-12-17T22:02:01.438Z"
   },
   {
    "duration": 45,
    "start_time": "2022-12-17T22:02:01.507Z"
   },
   {
    "duration": 35,
    "start_time": "2022-12-17T22:02:01.553Z"
   },
   {
    "duration": 10,
    "start_time": "2022-12-17T22:02:01.589Z"
   },
   {
    "duration": 29,
    "start_time": "2022-12-17T22:02:01.601Z"
   },
   {
    "duration": 24,
    "start_time": "2022-12-17T22:02:01.632Z"
   },
   {
    "duration": 39,
    "start_time": "2022-12-17T22:02:01.658Z"
   },
   {
    "duration": 25,
    "start_time": "2022-12-17T22:02:01.699Z"
   },
   {
    "duration": 36,
    "start_time": "2022-12-17T22:02:01.725Z"
   },
   {
    "duration": 8,
    "start_time": "2022-12-17T22:02:01.763Z"
   },
   {
    "duration": 27,
    "start_time": "2022-12-17T22:02:01.772Z"
   },
   {
    "duration": 68,
    "start_time": "2022-12-17T22:02:01.801Z"
   },
   {
    "duration": 33,
    "start_time": "2022-12-17T22:02:01.871Z"
   },
   {
    "duration": 35,
    "start_time": "2022-12-17T22:02:01.905Z"
   },
   {
    "duration": 29,
    "start_time": "2022-12-17T22:02:01.942Z"
   },
   {
    "duration": 32,
    "start_time": "2022-12-17T22:02:01.972Z"
   },
   {
    "duration": 25,
    "start_time": "2022-12-17T22:02:02.006Z"
   },
   {
    "duration": 98,
    "start_time": "2022-12-17T22:02:02.032Z"
   },
   {
    "duration": 51,
    "start_time": "2022-12-17T22:02:02.131Z"
   },
   {
    "duration": 33,
    "start_time": "2022-12-17T22:02:02.184Z"
   },
   {
    "duration": 37,
    "start_time": "2022-12-17T22:02:02.218Z"
   },
   {
    "duration": 28,
    "start_time": "2022-12-17T22:02:02.257Z"
   },
   {
    "duration": 22,
    "start_time": "2022-12-17T22:02:02.287Z"
   },
   {
    "duration": 50,
    "start_time": "2022-12-17T22:02:02.313Z"
   },
   {
    "duration": 23170,
    "start_time": "2022-12-17T22:02:02.365Z"
   },
   {
    "duration": 10,
    "start_time": "2022-12-17T22:02:25.537Z"
   },
   {
    "duration": 3,
    "start_time": "2022-12-17T22:02:25.549Z"
   },
   {
    "duration": 3,
    "start_time": "2022-12-17T22:02:25.554Z"
   },
   {
    "duration": 8,
    "start_time": "2022-12-17T22:02:25.559Z"
   },
   {
    "duration": 67474,
    "start_time": "2022-12-17T22:02:25.568Z"
   },
   {
    "duration": 3,
    "start_time": "2022-12-17T22:03:33.044Z"
   },
   {
    "duration": 1499,
    "start_time": "2022-12-18T08:17:41.351Z"
   },
   {
    "duration": 91,
    "start_time": "2022-12-18T08:17:42.852Z"
   },
   {
    "duration": 4,
    "start_time": "2022-12-18T08:17:42.958Z"
   },
   {
    "duration": 23,
    "start_time": "2022-12-18T08:17:42.964Z"
   },
   {
    "duration": 18,
    "start_time": "2022-12-18T08:17:42.989Z"
   },
   {
    "duration": 18,
    "start_time": "2022-12-18T08:17:43.009Z"
   },
   {
    "duration": 4,
    "start_time": "2022-12-18T08:17:43.029Z"
   },
   {
    "duration": 3,
    "start_time": "2022-12-18T08:17:43.056Z"
   },
   {
    "duration": 21,
    "start_time": "2022-12-18T08:17:43.062Z"
   },
   {
    "duration": 8,
    "start_time": "2022-12-18T08:17:43.086Z"
   },
   {
    "duration": 10,
    "start_time": "2022-12-18T08:17:43.096Z"
   },
   {
    "duration": 85,
    "start_time": "2022-12-18T08:17:43.108Z"
   },
   {
    "duration": 10,
    "start_time": "2022-12-18T08:17:43.195Z"
   },
   {
    "duration": 11,
    "start_time": "2022-12-18T08:17:43.206Z"
   },
   {
    "duration": 11,
    "start_time": "2022-12-18T08:17:43.219Z"
   },
   {
    "duration": 28,
    "start_time": "2022-12-18T08:17:43.231Z"
   },
   {
    "duration": 9,
    "start_time": "2022-12-18T08:17:43.261Z"
   },
   {
    "duration": 7,
    "start_time": "2022-12-18T08:17:43.272Z"
   },
   {
    "duration": 16,
    "start_time": "2022-12-18T08:17:43.282Z"
   },
   {
    "duration": 7,
    "start_time": "2022-12-18T08:17:43.299Z"
   },
   {
    "duration": 49,
    "start_time": "2022-12-18T08:17:43.307Z"
   },
   {
    "duration": 6,
    "start_time": "2022-12-18T08:17:43.358Z"
   },
   {
    "duration": 17,
    "start_time": "2022-12-18T08:17:43.366Z"
   },
   {
    "duration": 9,
    "start_time": "2022-12-18T08:17:43.385Z"
   },
   {
    "duration": 7,
    "start_time": "2022-12-18T08:17:43.396Z"
   },
   {
    "duration": 10,
    "start_time": "2022-12-18T08:17:43.404Z"
   },
   {
    "duration": 1400,
    "start_time": "2022-12-18T08:23:33.809Z"
   },
   {
    "duration": 41,
    "start_time": "2022-12-18T08:23:35.211Z"
   },
   {
    "duration": 3,
    "start_time": "2022-12-18T08:23:35.254Z"
   },
   {
    "duration": 23,
    "start_time": "2022-12-18T08:23:35.260Z"
   },
   {
    "duration": 24,
    "start_time": "2022-12-18T08:23:35.285Z"
   },
   {
    "duration": 50,
    "start_time": "2022-12-18T08:23:35.311Z"
   },
   {
    "duration": 5,
    "start_time": "2022-12-18T08:23:35.363Z"
   },
   {
    "duration": 8,
    "start_time": "2022-12-18T08:23:35.370Z"
   },
   {
    "duration": 16,
    "start_time": "2022-12-18T08:23:35.380Z"
   },
   {
    "duration": 9,
    "start_time": "2022-12-18T08:23:35.400Z"
   },
   {
    "duration": 27,
    "start_time": "2022-12-18T08:23:35.410Z"
   },
   {
    "duration": 53,
    "start_time": "2022-12-18T08:23:35.438Z"
   },
   {
    "duration": 12,
    "start_time": "2022-12-18T08:23:35.493Z"
   },
   {
    "duration": 24,
    "start_time": "2022-12-18T08:23:35.507Z"
   },
   {
    "duration": 29,
    "start_time": "2022-12-18T08:23:35.533Z"
   },
   {
    "duration": 18,
    "start_time": "2022-12-18T08:23:35.564Z"
   },
   {
    "duration": 8,
    "start_time": "2022-12-18T08:23:35.584Z"
   },
   {
    "duration": 25,
    "start_time": "2022-12-18T08:23:35.594Z"
   },
   {
    "duration": 39,
    "start_time": "2022-12-18T08:23:35.621Z"
   },
   {
    "duration": 17,
    "start_time": "2022-12-18T08:23:35.662Z"
   },
   {
    "duration": 24,
    "start_time": "2022-12-18T08:23:35.682Z"
   },
   {
    "duration": 8,
    "start_time": "2022-12-18T08:23:35.708Z"
   },
   {
    "duration": 21,
    "start_time": "2022-12-18T08:23:35.718Z"
   },
   {
    "duration": 15,
    "start_time": "2022-12-18T08:23:35.741Z"
   },
   {
    "duration": 5,
    "start_time": "2022-12-18T08:23:35.758Z"
   },
   {
    "duration": 9,
    "start_time": "2022-12-18T08:23:35.765Z"
   },
   {
    "duration": 1369,
    "start_time": "2022-12-18T08:24:03.477Z"
   },
   {
    "duration": 41,
    "start_time": "2022-12-18T08:24:04.848Z"
   },
   {
    "duration": 4,
    "start_time": "2022-12-18T08:24:04.890Z"
   },
   {
    "duration": 18,
    "start_time": "2022-12-18T08:24:04.896Z"
   },
   {
    "duration": 17,
    "start_time": "2022-12-18T08:24:04.915Z"
   },
   {
    "duration": 32,
    "start_time": "2022-12-18T08:24:04.934Z"
   },
   {
    "duration": 6,
    "start_time": "2022-12-18T08:24:04.968Z"
   },
   {
    "duration": 11,
    "start_time": "2022-12-18T08:24:04.975Z"
   },
   {
    "duration": 20,
    "start_time": "2022-12-18T08:24:04.988Z"
   },
   {
    "duration": 7,
    "start_time": "2022-12-18T08:24:05.011Z"
   },
   {
    "duration": 9,
    "start_time": "2022-12-18T08:24:05.019Z"
   },
   {
    "duration": 60,
    "start_time": "2022-12-18T08:24:05.029Z"
   },
   {
    "duration": 11,
    "start_time": "2022-12-18T08:24:05.090Z"
   },
   {
    "duration": 13,
    "start_time": "2022-12-18T08:24:05.103Z"
   },
   {
    "duration": 36,
    "start_time": "2022-12-18T08:24:05.119Z"
   },
   {
    "duration": 6,
    "start_time": "2022-12-18T08:24:05.157Z"
   },
   {
    "duration": 13,
    "start_time": "2022-12-18T08:24:05.164Z"
   },
   {
    "duration": 10,
    "start_time": "2022-12-18T08:24:05.179Z"
   },
   {
    "duration": 25,
    "start_time": "2022-12-18T08:24:05.191Z"
   },
   {
    "duration": 6,
    "start_time": "2022-12-18T08:24:05.218Z"
   },
   {
    "duration": 25,
    "start_time": "2022-12-18T08:24:05.254Z"
   },
   {
    "duration": 6,
    "start_time": "2022-12-18T08:24:05.282Z"
   },
   {
    "duration": 25,
    "start_time": "2022-12-18T08:24:05.290Z"
   },
   {
    "duration": 38,
    "start_time": "2022-12-18T08:24:05.317Z"
   },
   {
    "duration": 4,
    "start_time": "2022-12-18T08:24:05.357Z"
   },
   {
    "duration": 18,
    "start_time": "2022-12-18T08:24:05.363Z"
   },
   {
    "duration": 86654,
    "start_time": "2022-12-18T08:24:05.383Z"
   },
   {
    "duration": 21,
    "start_time": "2022-12-18T08:25:32.042Z"
   },
   {
    "duration": 5,
    "start_time": "2022-12-18T08:25:32.065Z"
   },
   {
    "duration": 14,
    "start_time": "2022-12-18T08:25:32.072Z"
   },
   {
    "duration": 8,
    "start_time": "2022-12-18T08:25:32.087Z"
   },
   {
    "duration": 2234845,
    "start_time": "2022-12-18T08:25:32.098Z"
   },
   {
    "duration": 10,
    "start_time": "2022-12-18T09:02:46.945Z"
   },
   {
    "duration": 1698,
    "start_time": "2022-12-18T09:05:58.128Z"
   },
   {
    "duration": 40,
    "start_time": "2022-12-18T09:05:59.831Z"
   },
   {
    "duration": 6,
    "start_time": "2022-12-18T09:05:59.873Z"
   },
   {
    "duration": 17,
    "start_time": "2022-12-18T09:05:59.881Z"
   },
   {
    "duration": 17,
    "start_time": "2022-12-18T09:05:59.900Z"
   },
   {
    "duration": 43,
    "start_time": "2022-12-18T09:05:59.918Z"
   },
   {
    "duration": 7,
    "start_time": "2022-12-18T09:05:59.963Z"
   },
   {
    "duration": 10,
    "start_time": "2022-12-18T09:05:59.971Z"
   },
   {
    "duration": 18,
    "start_time": "2022-12-18T09:05:59.983Z"
   },
   {
    "duration": 7,
    "start_time": "2022-12-18T09:06:00.004Z"
   },
   {
    "duration": 12,
    "start_time": "2022-12-18T09:06:00.013Z"
   },
   {
    "duration": 48,
    "start_time": "2022-12-18T09:06:00.055Z"
   },
   {
    "duration": 12,
    "start_time": "2022-12-18T09:06:00.104Z"
   },
   {
    "duration": 18,
    "start_time": "2022-12-18T09:06:00.118Z"
   },
   {
    "duration": 20,
    "start_time": "2022-12-18T09:06:00.154Z"
   },
   {
    "duration": 20,
    "start_time": "2022-12-18T09:06:00.177Z"
   },
   {
    "duration": 45,
    "start_time": "2022-12-18T09:06:00.199Z"
   },
   {
    "duration": 43,
    "start_time": "2022-12-18T09:06:00.247Z"
   },
   {
    "duration": 41,
    "start_time": "2022-12-18T09:06:00.293Z"
   },
   {
    "duration": 17,
    "start_time": "2022-12-18T09:06:00.336Z"
   },
   {
    "duration": 47,
    "start_time": "2022-12-18T09:06:00.356Z"
   },
   {
    "duration": 10,
    "start_time": "2022-12-18T09:06:00.405Z"
   },
   {
    "duration": 45,
    "start_time": "2022-12-18T09:06:00.417Z"
   },
   {
    "duration": 20,
    "start_time": "2022-12-18T09:06:00.464Z"
   },
   {
    "duration": 8,
    "start_time": "2022-12-18T09:06:00.487Z"
   },
   {
    "duration": 26,
    "start_time": "2022-12-18T09:06:00.497Z"
   },
   {
    "duration": 14402,
    "start_time": "2022-12-18T09:06:00.525Z"
   },
   {
    "duration": 27,
    "start_time": "2022-12-18T09:06:14.930Z"
   },
   {
    "duration": 8,
    "start_time": "2022-12-18T09:06:14.959Z"
   },
   {
    "duration": 19,
    "start_time": "2022-12-18T09:06:14.969Z"
   },
   {
    "duration": 68,
    "start_time": "2022-12-18T09:06:14.990Z"
   },
   {
    "duration": 0,
    "start_time": "2022-12-18T09:06:15.060Z"
   },
   {
    "duration": 0,
    "start_time": "2022-12-18T09:06:15.062Z"
   },
   {
    "duration": 0,
    "start_time": "2022-12-18T09:06:15.064Z"
   },
   {
    "duration": 1,
    "start_time": "2022-12-18T09:06:15.065Z"
   },
   {
    "duration": 5,
    "start_time": "2022-12-18T09:06:29.302Z"
   },
   {
    "duration": 1430,
    "start_time": "2022-12-18T09:07:15.327Z"
   },
   {
    "duration": 43,
    "start_time": "2022-12-18T09:07:16.759Z"
   },
   {
    "duration": 3,
    "start_time": "2022-12-18T09:07:16.804Z"
   },
   {
    "duration": 22,
    "start_time": "2022-12-18T09:07:16.810Z"
   },
   {
    "duration": 18,
    "start_time": "2022-12-18T09:07:16.835Z"
   },
   {
    "duration": 21,
    "start_time": "2022-12-18T09:07:16.855Z"
   },
   {
    "duration": 5,
    "start_time": "2022-12-18T09:07:16.878Z"
   },
   {
    "duration": 6,
    "start_time": "2022-12-18T09:07:16.885Z"
   },
   {
    "duration": 13,
    "start_time": "2022-12-18T09:07:16.894Z"
   },
   {
    "duration": 9,
    "start_time": "2022-12-18T09:07:16.910Z"
   },
   {
    "duration": 12,
    "start_time": "2022-12-18T09:07:16.954Z"
   },
   {
    "duration": 47,
    "start_time": "2022-12-18T09:07:16.968Z"
   },
   {
    "duration": 39,
    "start_time": "2022-12-18T09:07:17.018Z"
   },
   {
    "duration": 20,
    "start_time": "2022-12-18T09:07:17.060Z"
   },
   {
    "duration": 22,
    "start_time": "2022-12-18T09:07:17.082Z"
   },
   {
    "duration": 8,
    "start_time": "2022-12-18T09:07:17.107Z"
   },
   {
    "duration": 37,
    "start_time": "2022-12-18T09:07:17.118Z"
   },
   {
    "duration": 13,
    "start_time": "2022-12-18T09:07:17.157Z"
   },
   {
    "duration": 23,
    "start_time": "2022-12-18T09:07:17.173Z"
   },
   {
    "duration": 13,
    "start_time": "2022-12-18T09:07:17.199Z"
   },
   {
    "duration": 49,
    "start_time": "2022-12-18T09:07:17.215Z"
   },
   {
    "duration": 8,
    "start_time": "2022-12-18T09:07:17.266Z"
   },
   {
    "duration": 34,
    "start_time": "2022-12-18T09:07:17.277Z"
   },
   {
    "duration": 12,
    "start_time": "2022-12-18T09:07:17.313Z"
   },
   {
    "duration": 11,
    "start_time": "2022-12-18T09:07:17.326Z"
   },
   {
    "duration": 18,
    "start_time": "2022-12-18T09:07:17.339Z"
   },
   {
    "duration": 14181,
    "start_time": "2022-12-18T09:07:17.359Z"
   },
   {
    "duration": 16,
    "start_time": "2022-12-18T09:07:31.555Z"
   },
   {
    "duration": 6,
    "start_time": "2022-12-18T09:07:31.573Z"
   },
   {
    "duration": 15,
    "start_time": "2022-12-18T09:07:31.581Z"
   },
   {
    "duration": 8,
    "start_time": "2022-12-18T09:07:31.599Z"
   },
   {
    "duration": 323510,
    "start_time": "2022-12-18T09:07:31.609Z"
   },
   {
    "duration": 4,
    "start_time": "2022-12-18T09:12:55.120Z"
   },
   {
    "duration": 39,
    "start_time": "2022-12-18T09:12:55.125Z"
   },
   {
    "duration": 11,
    "start_time": "2022-12-18T09:12:55.166Z"
   },
   {
    "duration": 1528,
    "start_time": "2022-12-18T10:48:55.267Z"
   },
   {
    "duration": 40,
    "start_time": "2022-12-18T10:48:56.799Z"
   },
   {
    "duration": 3,
    "start_time": "2022-12-18T10:48:56.841Z"
   },
   {
    "duration": 23,
    "start_time": "2022-12-18T10:48:56.846Z"
   },
   {
    "duration": 41,
    "start_time": "2022-12-18T10:48:56.871Z"
   },
   {
    "duration": 26,
    "start_time": "2022-12-18T10:48:56.915Z"
   },
   {
    "duration": 6,
    "start_time": "2022-12-18T10:48:56.944Z"
   },
   {
    "duration": 25,
    "start_time": "2022-12-18T10:48:56.952Z"
   },
   {
    "duration": 42,
    "start_time": "2022-12-18T10:48:56.979Z"
   },
   {
    "duration": 17,
    "start_time": "2022-12-18T10:48:57.023Z"
   },
   {
    "duration": 12,
    "start_time": "2022-12-18T10:48:57.041Z"
   },
   {
    "duration": 73,
    "start_time": "2022-12-18T10:48:57.059Z"
   },
   {
    "duration": 22,
    "start_time": "2022-12-18T10:48:57.135Z"
   },
   {
    "duration": 41,
    "start_time": "2022-12-18T10:48:57.180Z"
   },
   {
    "duration": 31,
    "start_time": "2022-12-18T10:48:57.223Z"
   },
   {
    "duration": 8,
    "start_time": "2022-12-18T10:48:57.256Z"
   },
   {
    "duration": 44,
    "start_time": "2022-12-18T10:48:57.267Z"
   },
   {
    "duration": 19,
    "start_time": "2022-12-18T10:48:57.314Z"
   },
   {
    "duration": 35,
    "start_time": "2022-12-18T10:48:57.335Z"
   },
   {
    "duration": 34,
    "start_time": "2022-12-18T10:48:57.373Z"
   },
   {
    "duration": 36,
    "start_time": "2022-12-18T10:48:57.409Z"
   },
   {
    "duration": 6,
    "start_time": "2022-12-18T10:48:57.447Z"
   },
   {
    "duration": 40,
    "start_time": "2022-12-18T10:48:57.454Z"
   },
   {
    "duration": 7,
    "start_time": "2022-12-18T10:48:57.496Z"
   },
   {
    "duration": 10,
    "start_time": "2022-12-18T10:48:57.505Z"
   },
   {
    "duration": 6,
    "start_time": "2022-12-18T10:48:57.517Z"
   },
   {
    "duration": 16212,
    "start_time": "2022-12-18T10:48:57.525Z"
   },
   {
    "duration": 25,
    "start_time": "2022-12-18T10:49:13.739Z"
   },
   {
    "duration": 25,
    "start_time": "2022-12-18T10:49:13.769Z"
   },
   {
    "duration": 12,
    "start_time": "2022-12-18T10:49:13.798Z"
   },
   {
    "duration": 14,
    "start_time": "2022-12-18T10:49:13.812Z"
   },
   {
    "duration": 1579,
    "start_time": "2022-12-18T10:50:29.073Z"
   },
   {
    "duration": 48,
    "start_time": "2022-12-18T10:50:30.654Z"
   },
   {
    "duration": 4,
    "start_time": "2022-12-18T10:50:30.704Z"
   },
   {
    "duration": 73,
    "start_time": "2022-12-18T10:50:30.711Z"
   },
   {
    "duration": 31,
    "start_time": "2022-12-18T10:50:30.786Z"
   },
   {
    "duration": 91,
    "start_time": "2022-12-18T10:50:30.819Z"
   },
   {
    "duration": 4,
    "start_time": "2022-12-18T10:50:30.912Z"
   },
   {
    "duration": 11,
    "start_time": "2022-12-18T10:50:30.918Z"
   },
   {
    "duration": 28,
    "start_time": "2022-12-18T10:50:30.931Z"
   },
   {
    "duration": 22,
    "start_time": "2022-12-18T10:50:30.967Z"
   },
   {
    "duration": 18,
    "start_time": "2022-12-18T10:50:30.991Z"
   },
   {
    "duration": 59,
    "start_time": "2022-12-18T10:50:31.011Z"
   },
   {
    "duration": 18,
    "start_time": "2022-12-18T10:50:31.075Z"
   },
   {
    "duration": 24,
    "start_time": "2022-12-18T10:50:31.096Z"
   },
   {
    "duration": 37,
    "start_time": "2022-12-18T10:50:31.123Z"
   },
   {
    "duration": 10,
    "start_time": "2022-12-18T10:50:31.165Z"
   },
   {
    "duration": 29,
    "start_time": "2022-12-18T10:50:31.176Z"
   },
   {
    "duration": 23,
    "start_time": "2022-12-18T10:50:31.206Z"
   },
   {
    "duration": 38,
    "start_time": "2022-12-18T10:50:31.231Z"
   },
   {
    "duration": 23,
    "start_time": "2022-12-18T10:50:31.271Z"
   },
   {
    "duration": 26,
    "start_time": "2022-12-18T10:50:31.297Z"
   },
   {
    "duration": 15,
    "start_time": "2022-12-18T10:50:31.325Z"
   },
   {
    "duration": 38,
    "start_time": "2022-12-18T10:50:31.342Z"
   },
   {
    "duration": 18,
    "start_time": "2022-12-18T10:50:31.382Z"
   },
   {
    "duration": 16,
    "start_time": "2022-12-18T10:50:31.402Z"
   },
   {
    "duration": 26,
    "start_time": "2022-12-18T10:50:31.420Z"
   },
   {
    "duration": 15000,
    "start_time": "2022-12-18T10:50:31.448Z"
   },
   {
    "duration": 24,
    "start_time": "2022-12-18T10:50:46.451Z"
   },
   {
    "duration": 15,
    "start_time": "2022-12-18T10:50:46.477Z"
   },
   {
    "duration": 8,
    "start_time": "2022-12-18T10:50:46.495Z"
   },
   {
    "duration": 10,
    "start_time": "2022-12-18T10:50:46.506Z"
   },
   {
    "duration": 347123,
    "start_time": "2022-12-18T10:50:46.519Z"
   },
   {
    "duration": 16,
    "start_time": "2022-12-18T10:56:33.643Z"
   },
   {
    "duration": 12,
    "start_time": "2022-12-18T10:56:33.667Z"
   },
   {
    "duration": 18,
    "start_time": "2022-12-18T10:56:33.682Z"
   },
   {
    "duration": 50,
    "start_time": "2022-12-18T10:56:33.702Z"
   },
   {
    "duration": 675913,
    "start_time": "2022-12-18T10:56:33.754Z"
   },
   {
    "duration": 5,
    "start_time": "2022-12-18T11:07:49.669Z"
   },
   {
    "duration": 21,
    "start_time": "2022-12-18T11:07:49.675Z"
   },
   {
    "duration": 175416,
    "start_time": "2022-12-18T11:07:49.699Z"
   },
   {
    "duration": 5,
    "start_time": "2022-12-18T11:10:45.116Z"
   },
   {
    "duration": 166,
    "start_time": "2022-12-18T12:09:11.220Z"
   },
   {
    "duration": 10,
    "start_time": "2022-12-18T12:09:11.412Z"
   },
   {
    "duration": 1485,
    "start_time": "2022-12-18T12:10:25.054Z"
   },
   {
    "duration": 45,
    "start_time": "2022-12-18T12:10:26.542Z"
   },
   {
    "duration": 3,
    "start_time": "2022-12-18T12:10:26.590Z"
   },
   {
    "duration": 23,
    "start_time": "2022-12-18T12:10:26.595Z"
   },
   {
    "duration": 30,
    "start_time": "2022-12-18T12:10:26.620Z"
   },
   {
    "duration": 26,
    "start_time": "2022-12-18T12:10:26.652Z"
   },
   {
    "duration": 19,
    "start_time": "2022-12-18T12:10:26.680Z"
   },
   {
    "duration": 6,
    "start_time": "2022-12-18T12:10:26.701Z"
   },
   {
    "duration": 24,
    "start_time": "2022-12-18T12:10:26.708Z"
   },
   {
    "duration": 8,
    "start_time": "2022-12-18T12:10:26.737Z"
   },
   {
    "duration": 22,
    "start_time": "2022-12-18T12:10:26.746Z"
   },
   {
    "duration": 41,
    "start_time": "2022-12-18T12:10:26.773Z"
   },
   {
    "duration": 10,
    "start_time": "2022-12-18T12:10:26.815Z"
   },
   {
    "duration": 13,
    "start_time": "2022-12-18T12:10:26.827Z"
   },
   {
    "duration": 41,
    "start_time": "2022-12-18T12:10:26.842Z"
   },
   {
    "duration": 5,
    "start_time": "2022-12-18T12:10:26.885Z"
   },
   {
    "duration": 28,
    "start_time": "2022-12-18T12:10:26.892Z"
   },
   {
    "duration": 12,
    "start_time": "2022-12-18T12:10:26.923Z"
   },
   {
    "duration": 57,
    "start_time": "2022-12-18T12:10:26.938Z"
   },
   {
    "duration": 18,
    "start_time": "2022-12-18T12:10:26.997Z"
   },
   {
    "duration": 34,
    "start_time": "2022-12-18T12:10:27.017Z"
   },
   {
    "duration": 21,
    "start_time": "2022-12-18T12:10:27.053Z"
   },
   {
    "duration": 20,
    "start_time": "2022-12-18T12:10:27.076Z"
   },
   {
    "duration": 5,
    "start_time": "2022-12-18T12:10:27.097Z"
   },
   {
    "duration": 15,
    "start_time": "2022-12-18T12:10:27.103Z"
   },
   {
    "duration": 17,
    "start_time": "2022-12-18T12:10:27.120Z"
   },
   {
    "duration": 2299,
    "start_time": "2022-12-18T12:10:27.139Z"
   },
   {
    "duration": 27,
    "start_time": "2022-12-18T12:10:29.443Z"
   },
   {
    "duration": 18,
    "start_time": "2022-12-18T12:10:29.475Z"
   },
   {
    "duration": 19,
    "start_time": "2022-12-18T12:10:29.495Z"
   },
   {
    "duration": 249,
    "start_time": "2022-12-18T12:10:29.516Z"
   },
   {
    "duration": 70,
    "start_time": "2022-12-18T12:10:29.769Z"
   },
   {
    "duration": 14,
    "start_time": "2022-12-18T12:10:29.842Z"
   },
   {
    "duration": 0,
    "start_time": "2022-12-18T12:10:29.860Z"
   },
   {
    "duration": 0,
    "start_time": "2022-12-18T12:10:29.861Z"
   },
   {
    "duration": 0,
    "start_time": "2022-12-18T12:10:29.862Z"
   },
   {
    "duration": 0,
    "start_time": "2022-12-18T12:10:29.863Z"
   },
   {
    "duration": 0,
    "start_time": "2022-12-18T12:10:29.864Z"
   },
   {
    "duration": 0,
    "start_time": "2022-12-18T12:10:29.865Z"
   },
   {
    "duration": 0,
    "start_time": "2022-12-18T12:10:29.865Z"
   },
   {
    "duration": 0,
    "start_time": "2022-12-18T12:10:29.866Z"
   },
   {
    "duration": 0,
    "start_time": "2022-12-18T12:10:29.867Z"
   },
   {
    "duration": 0,
    "start_time": "2022-12-18T12:10:29.868Z"
   },
   {
    "duration": 1474,
    "start_time": "2022-12-18T12:11:17.933Z"
   },
   {
    "duration": 41,
    "start_time": "2022-12-18T12:11:19.409Z"
   },
   {
    "duration": 14,
    "start_time": "2022-12-18T12:11:19.452Z"
   },
   {
    "duration": 35,
    "start_time": "2022-12-18T12:11:19.476Z"
   },
   {
    "duration": 20,
    "start_time": "2022-12-18T12:11:19.514Z"
   },
   {
    "duration": 23,
    "start_time": "2022-12-18T12:11:19.536Z"
   },
   {
    "duration": 9,
    "start_time": "2022-12-18T12:11:19.565Z"
   },
   {
    "duration": 7,
    "start_time": "2022-12-18T12:11:19.576Z"
   },
   {
    "duration": 16,
    "start_time": "2022-12-18T12:11:19.585Z"
   },
   {
    "duration": 9,
    "start_time": "2022-12-18T12:11:19.603Z"
   },
   {
    "duration": 9,
    "start_time": "2022-12-18T12:11:19.614Z"
   },
   {
    "duration": 69,
    "start_time": "2022-12-18T12:11:19.625Z"
   },
   {
    "duration": 10,
    "start_time": "2022-12-18T12:11:19.697Z"
   },
   {
    "duration": 22,
    "start_time": "2022-12-18T12:11:19.712Z"
   },
   {
    "duration": 35,
    "start_time": "2022-12-18T12:11:19.735Z"
   },
   {
    "duration": 7,
    "start_time": "2022-12-18T12:11:19.771Z"
   },
   {
    "duration": 12,
    "start_time": "2022-12-18T12:11:19.780Z"
   },
   {
    "duration": 8,
    "start_time": "2022-12-18T12:11:19.794Z"
   },
   {
    "duration": 23,
    "start_time": "2022-12-18T12:11:19.803Z"
   },
   {
    "duration": 36,
    "start_time": "2022-12-18T12:11:19.828Z"
   },
   {
    "duration": 28,
    "start_time": "2022-12-18T12:11:19.866Z"
   },
   {
    "duration": 9,
    "start_time": "2022-12-18T12:11:19.897Z"
   },
   {
    "duration": 27,
    "start_time": "2022-12-18T12:11:19.908Z"
   },
   {
    "duration": 6,
    "start_time": "2022-12-18T12:11:19.937Z"
   },
   {
    "duration": 16,
    "start_time": "2022-12-18T12:11:19.944Z"
   },
   {
    "duration": 21,
    "start_time": "2022-12-18T12:11:19.964Z"
   },
   {
    "duration": 2174,
    "start_time": "2022-12-18T12:11:19.986Z"
   },
   {
    "duration": 15,
    "start_time": "2022-12-18T12:11:22.161Z"
   },
   {
    "duration": 5,
    "start_time": "2022-12-18T12:11:22.180Z"
   },
   {
    "duration": 9,
    "start_time": "2022-12-18T12:11:22.186Z"
   },
   {
    "duration": 167,
    "start_time": "2022-12-18T12:11:22.197Z"
   },
   {
    "duration": 56,
    "start_time": "2022-12-18T12:11:22.367Z"
   },
   {
    "duration": 9,
    "start_time": "2022-12-18T12:11:22.425Z"
   },
   {
    "duration": 0,
    "start_time": "2022-12-18T12:11:22.436Z"
   },
   {
    "duration": 0,
    "start_time": "2022-12-18T12:11:22.438Z"
   },
   {
    "duration": 0,
    "start_time": "2022-12-18T12:11:22.440Z"
   },
   {
    "duration": 0,
    "start_time": "2022-12-18T12:11:22.442Z"
   },
   {
    "duration": 0,
    "start_time": "2022-12-18T12:11:22.444Z"
   },
   {
    "duration": 0,
    "start_time": "2022-12-18T12:11:22.445Z"
   },
   {
    "duration": 0,
    "start_time": "2022-12-18T12:11:22.448Z"
   },
   {
    "duration": 0,
    "start_time": "2022-12-18T12:11:22.449Z"
   },
   {
    "duration": 0,
    "start_time": "2022-12-18T12:11:22.451Z"
   },
   {
    "duration": 0,
    "start_time": "2022-12-18T12:11:22.453Z"
   },
   {
    "duration": 1373,
    "start_time": "2022-12-18T12:11:46.841Z"
   },
   {
    "duration": 50,
    "start_time": "2022-12-18T12:11:48.216Z"
   },
   {
    "duration": 8,
    "start_time": "2022-12-18T12:11:48.271Z"
   },
   {
    "duration": 23,
    "start_time": "2022-12-18T12:11:48.283Z"
   },
   {
    "duration": 22,
    "start_time": "2022-12-18T12:11:48.309Z"
   },
   {
    "duration": 40,
    "start_time": "2022-12-18T12:11:48.333Z"
   },
   {
    "duration": 5,
    "start_time": "2022-12-18T12:11:48.375Z"
   },
   {
    "duration": 3,
    "start_time": "2022-12-18T12:11:48.382Z"
   },
   {
    "duration": 23,
    "start_time": "2022-12-18T12:11:48.387Z"
   },
   {
    "duration": 11,
    "start_time": "2022-12-18T12:11:48.412Z"
   },
   {
    "duration": 14,
    "start_time": "2022-12-18T12:11:48.426Z"
   },
   {
    "duration": 64,
    "start_time": "2022-12-18T12:11:48.442Z"
   },
   {
    "duration": 10,
    "start_time": "2022-12-18T12:11:48.510Z"
   },
   {
    "duration": 19,
    "start_time": "2022-12-18T12:11:48.524Z"
   },
   {
    "duration": 41,
    "start_time": "2022-12-18T12:11:48.556Z"
   },
   {
    "duration": 11,
    "start_time": "2022-12-18T12:11:48.599Z"
   },
   {
    "duration": 15,
    "start_time": "2022-12-18T12:11:48.612Z"
   },
   {
    "duration": 12,
    "start_time": "2022-12-18T12:11:48.631Z"
   },
   {
    "duration": 31,
    "start_time": "2022-12-18T12:11:48.645Z"
   },
   {
    "duration": 8,
    "start_time": "2022-12-18T12:11:48.678Z"
   },
   {
    "duration": 19,
    "start_time": "2022-12-18T12:11:48.688Z"
   },
   {
    "duration": 15,
    "start_time": "2022-12-18T12:11:48.708Z"
   },
   {
    "duration": 19,
    "start_time": "2022-12-18T12:11:48.726Z"
   },
   {
    "duration": 23,
    "start_time": "2022-12-18T12:11:48.755Z"
   },
   {
    "duration": 9,
    "start_time": "2022-12-18T12:11:48.780Z"
   },
   {
    "duration": 11,
    "start_time": "2022-12-18T12:11:48.792Z"
   },
   {
    "duration": 2402,
    "start_time": "2022-12-18T12:11:48.806Z"
   },
   {
    "duration": 16,
    "start_time": "2022-12-18T12:11:51.215Z"
   },
   {
    "duration": 5,
    "start_time": "2022-12-18T12:11:51.232Z"
   },
   {
    "duration": 36,
    "start_time": "2022-12-18T12:11:51.238Z"
   },
   {
    "duration": 224,
    "start_time": "2022-12-18T12:11:51.276Z"
   },
   {
    "duration": 54,
    "start_time": "2022-12-18T12:11:51.502Z"
   },
   {
    "duration": 14,
    "start_time": "2022-12-18T12:11:51.560Z"
   },
   {
    "duration": 0,
    "start_time": "2022-12-18T12:11:51.576Z"
   },
   {
    "duration": 0,
    "start_time": "2022-12-18T12:11:51.578Z"
   },
   {
    "duration": 0,
    "start_time": "2022-12-18T12:11:51.579Z"
   },
   {
    "duration": 0,
    "start_time": "2022-12-18T12:11:51.580Z"
   },
   {
    "duration": 0,
    "start_time": "2022-12-18T12:11:51.583Z"
   },
   {
    "duration": 0,
    "start_time": "2022-12-18T12:11:51.584Z"
   },
   {
    "duration": 0,
    "start_time": "2022-12-18T12:11:51.585Z"
   },
   {
    "duration": 0,
    "start_time": "2022-12-18T12:11:51.587Z"
   },
   {
    "duration": 0,
    "start_time": "2022-12-18T12:11:51.588Z"
   },
   {
    "duration": 0,
    "start_time": "2022-12-18T12:11:51.590Z"
   },
   {
    "duration": 1517,
    "start_time": "2022-12-18T12:12:26.930Z"
   },
   {
    "duration": 65,
    "start_time": "2022-12-18T12:12:28.450Z"
   },
   {
    "duration": 5,
    "start_time": "2022-12-18T12:12:28.518Z"
   },
   {
    "duration": 20,
    "start_time": "2022-12-18T12:12:28.526Z"
   },
   {
    "duration": 34,
    "start_time": "2022-12-18T12:12:28.549Z"
   },
   {
    "duration": 33,
    "start_time": "2022-12-18T12:12:28.587Z"
   },
   {
    "duration": 5,
    "start_time": "2022-12-18T12:12:28.623Z"
   },
   {
    "duration": 6,
    "start_time": "2022-12-18T12:12:28.631Z"
   },
   {
    "duration": 19,
    "start_time": "2022-12-18T12:12:28.658Z"
   },
   {
    "duration": 12,
    "start_time": "2022-12-18T12:12:28.682Z"
   },
   {
    "duration": 11,
    "start_time": "2022-12-18T12:12:28.696Z"
   },
   {
    "duration": 62,
    "start_time": "2022-12-18T12:12:28.709Z"
   },
   {
    "duration": 12,
    "start_time": "2022-12-18T12:12:28.775Z"
   },
   {
    "duration": 13,
    "start_time": "2022-12-18T12:12:28.789Z"
   },
   {
    "duration": 20,
    "start_time": "2022-12-18T12:12:28.804Z"
   },
   {
    "duration": 7,
    "start_time": "2022-12-18T12:12:28.826Z"
   },
   {
    "duration": 32,
    "start_time": "2022-12-18T12:12:28.835Z"
   },
   {
    "duration": 38,
    "start_time": "2022-12-18T12:12:28.869Z"
   },
   {
    "duration": 19,
    "start_time": "2022-12-18T12:12:28.909Z"
   },
   {
    "duration": 9,
    "start_time": "2022-12-18T12:12:28.930Z"
   },
   {
    "duration": 38,
    "start_time": "2022-12-18T12:12:28.941Z"
   },
   {
    "duration": 19,
    "start_time": "2022-12-18T12:12:28.981Z"
   },
   {
    "duration": 25,
    "start_time": "2022-12-18T12:12:29.002Z"
   },
   {
    "duration": 7,
    "start_time": "2022-12-18T12:12:29.030Z"
   },
   {
    "duration": 20,
    "start_time": "2022-12-18T12:12:29.039Z"
   },
   {
    "duration": 7,
    "start_time": "2022-12-18T12:12:29.063Z"
   },
   {
    "duration": 2511,
    "start_time": "2022-12-18T12:12:29.071Z"
   },
   {
    "duration": 13,
    "start_time": "2022-12-18T12:12:31.586Z"
   },
   {
    "duration": 43,
    "start_time": "2022-12-18T12:12:31.601Z"
   },
   {
    "duration": 34,
    "start_time": "2022-12-18T12:12:31.647Z"
   },
   {
    "duration": 35,
    "start_time": "2022-12-18T12:12:31.684Z"
   },
   {
    "duration": 87961,
    "start_time": "2022-12-18T12:12:31.721Z"
   },
   {
    "duration": 5,
    "start_time": "2022-12-18T12:13:59.684Z"
   },
   {
    "duration": 4,
    "start_time": "2022-12-18T12:13:59.691Z"
   },
   {
    "duration": 5,
    "start_time": "2022-12-18T12:13:59.696Z"
   },
   {
    "duration": 18,
    "start_time": "2022-12-18T12:13:59.703Z"
   },
   {
    "duration": 158774,
    "start_time": "2022-12-18T12:13:59.723Z"
   },
   {
    "duration": 7,
    "start_time": "2022-12-18T12:16:38.499Z"
   },
   {
    "duration": 14,
    "start_time": "2022-12-18T12:16:38.507Z"
   },
   {
    "duration": 45887,
    "start_time": "2022-12-18T12:16:38.522Z"
   },
   {
    "duration": 4,
    "start_time": "2022-12-18T12:17:24.411Z"
   },
   {
    "duration": 25,
    "start_time": "2022-12-18T12:17:24.417Z"
   },
   {
    "duration": 11,
    "start_time": "2022-12-18T12:17:24.457Z"
   },
   {
    "duration": 1405,
    "start_time": "2022-12-18T20:00:15.580Z"
   },
   {
    "duration": 161,
    "start_time": "2022-12-18T20:00:16.988Z"
   },
   {
    "duration": 3,
    "start_time": "2022-12-18T20:00:17.150Z"
   },
   {
    "duration": 23,
    "start_time": "2022-12-18T20:00:17.155Z"
   },
   {
    "duration": 14,
    "start_time": "2022-12-18T20:00:17.179Z"
   },
   {
    "duration": 16,
    "start_time": "2022-12-18T20:00:17.195Z"
   },
   {
    "duration": 4,
    "start_time": "2022-12-18T20:00:17.212Z"
   },
   {
    "duration": 7,
    "start_time": "2022-12-18T20:00:17.217Z"
   },
   {
    "duration": 11,
    "start_time": "2022-12-18T20:00:17.225Z"
   },
   {
    "duration": 6,
    "start_time": "2022-12-18T20:00:17.238Z"
   },
   {
    "duration": 6,
    "start_time": "2022-12-18T20:00:17.245Z"
   },
   {
    "duration": 30,
    "start_time": "2022-12-18T20:00:17.253Z"
   },
   {
    "duration": 9,
    "start_time": "2022-12-18T20:00:17.285Z"
   },
   {
    "duration": 37,
    "start_time": "2022-12-18T20:00:17.295Z"
   },
   {
    "duration": 12,
    "start_time": "2022-12-18T20:00:17.334Z"
   },
   {
    "duration": 5,
    "start_time": "2022-12-18T20:00:17.347Z"
   },
   {
    "duration": 8,
    "start_time": "2022-12-18T20:00:17.354Z"
   },
   {
    "duration": 8,
    "start_time": "2022-12-18T20:00:17.363Z"
   },
   {
    "duration": 16,
    "start_time": "2022-12-18T20:00:17.372Z"
   },
   {
    "duration": 39,
    "start_time": "2022-12-18T20:00:17.390Z"
   },
   {
    "duration": 17,
    "start_time": "2022-12-18T20:00:17.430Z"
   },
   {
    "duration": 6,
    "start_time": "2022-12-18T20:00:17.449Z"
   },
   {
    "duration": 15,
    "start_time": "2022-12-18T20:00:17.456Z"
   },
   {
    "duration": 7,
    "start_time": "2022-12-18T20:00:17.472Z"
   },
   {
    "duration": 5,
    "start_time": "2022-12-18T20:00:17.480Z"
   },
   {
    "duration": 7,
    "start_time": "2022-12-18T20:00:17.486Z"
   },
   {
    "duration": 1798,
    "start_time": "2022-12-18T20:00:17.494Z"
   },
   {
    "duration": 9,
    "start_time": "2022-12-18T20:00:19.295Z"
   },
   {
    "duration": 3,
    "start_time": "2022-12-18T20:00:19.306Z"
   },
   {
    "duration": 17,
    "start_time": "2022-12-18T20:00:19.310Z"
   },
   {
    "duration": 6,
    "start_time": "2022-12-18T20:00:19.328Z"
   },
   {
    "duration": 6,
    "start_time": "2022-12-18T20:00:19.335Z"
   },
   {
    "duration": 69451,
    "start_time": "2022-12-18T20:00:19.342Z"
   },
   {
    "duration": 5,
    "start_time": "2022-12-18T20:01:28.794Z"
   },
   {
    "duration": 5,
    "start_time": "2022-12-18T20:01:28.800Z"
   },
   {
    "duration": 4,
    "start_time": "2022-12-18T20:01:28.807Z"
   },
   {
    "duration": 2,
    "start_time": "2022-12-18T20:01:28.826Z"
   },
   {
    "duration": 17,
    "start_time": "2022-12-18T20:01:28.829Z"
   },
   {
    "duration": 133559,
    "start_time": "2022-12-18T20:01:28.847Z"
   },
   {
    "duration": 3,
    "start_time": "2022-12-18T20:03:42.408Z"
   },
   {
    "duration": 7,
    "start_time": "2022-12-18T20:03:42.413Z"
   },
   {
    "duration": 10,
    "start_time": "2022-12-18T20:03:42.427Z"
   },
   {
    "duration": 34533,
    "start_time": "2022-12-18T20:03:42.439Z"
   },
   {
    "duration": 4,
    "start_time": "2022-12-18T20:04:16.974Z"
   },
   {
    "duration": 11,
    "start_time": "2022-12-18T20:04:16.980Z"
   },
   {
    "duration": 34,
    "start_time": "2022-12-18T20:04:16.992Z"
   },
   {
    "duration": 4,
    "start_time": "2022-12-18T20:04:17.028Z"
   },
   {
    "duration": 1618,
    "start_time": "2022-12-19T08:40:48.454Z"
   },
   {
    "duration": 93,
    "start_time": "2022-12-19T08:40:50.074Z"
   },
   {
    "duration": 3,
    "start_time": "2022-12-19T08:40:50.168Z"
   },
   {
    "duration": 18,
    "start_time": "2022-12-19T08:40:50.173Z"
   },
   {
    "duration": 17,
    "start_time": "2022-12-19T08:40:50.192Z"
   },
   {
    "duration": 19,
    "start_time": "2022-12-19T08:40:50.211Z"
   },
   {
    "duration": 4,
    "start_time": "2022-12-19T08:40:50.232Z"
   },
   {
    "duration": 9,
    "start_time": "2022-12-19T08:40:50.237Z"
   },
   {
    "duration": 32,
    "start_time": "2022-12-19T08:40:50.247Z"
   },
   {
    "duration": 7,
    "start_time": "2022-12-19T08:40:50.281Z"
   },
   {
    "duration": 9,
    "start_time": "2022-12-19T08:40:50.289Z"
   },
   {
    "duration": 35,
    "start_time": "2022-12-19T08:40:50.300Z"
   },
   {
    "duration": 10,
    "start_time": "2022-12-19T08:40:50.336Z"
   },
   {
    "duration": 38,
    "start_time": "2022-12-19T08:40:50.348Z"
   },
   {
    "duration": 16,
    "start_time": "2022-12-19T08:40:50.388Z"
   },
   {
    "duration": 5,
    "start_time": "2022-12-19T08:40:50.405Z"
   },
   {
    "duration": 9,
    "start_time": "2022-12-19T08:40:50.412Z"
   },
   {
    "duration": 7,
    "start_time": "2022-12-19T08:40:50.422Z"
   },
   {
    "duration": 25,
    "start_time": "2022-12-19T08:40:50.431Z"
   },
   {
    "duration": 7,
    "start_time": "2022-12-19T08:40:50.477Z"
   },
   {
    "duration": 18,
    "start_time": "2022-12-19T08:40:50.486Z"
   },
   {
    "duration": 5,
    "start_time": "2022-12-19T08:40:50.506Z"
   },
   {
    "duration": 22,
    "start_time": "2022-12-19T08:40:50.512Z"
   },
   {
    "duration": 9,
    "start_time": "2022-12-19T08:40:50.535Z"
   },
   {
    "duration": 54,
    "start_time": "2022-12-19T08:40:50.545Z"
   },
   {
    "duration": 3,
    "start_time": "2022-12-19T08:40:50.601Z"
   },
   {
    "duration": 9,
    "start_time": "2022-12-19T08:40:50.606Z"
   },
   {
    "duration": 2097,
    "start_time": "2022-12-19T08:40:50.619Z"
   },
   {
    "duration": 12,
    "start_time": "2022-12-19T08:40:52.718Z"
   },
   {
    "duration": 3,
    "start_time": "2022-12-19T08:40:52.732Z"
   },
   {
    "duration": 5,
    "start_time": "2022-12-19T08:40:52.737Z"
   },
   {
    "duration": 7,
    "start_time": "2022-12-19T08:40:52.744Z"
   },
   {
    "duration": 26,
    "start_time": "2022-12-19T08:40:52.753Z"
   },
   {
    "duration": 81360,
    "start_time": "2022-12-19T08:40:52.780Z"
   },
   {
    "duration": 5,
    "start_time": "2022-12-19T08:42:14.141Z"
   },
   {
    "duration": 23,
    "start_time": "2022-12-19T08:42:14.148Z"
   },
   {
    "duration": 47,
    "start_time": "2022-12-19T08:42:14.174Z"
   },
   {
    "duration": 10,
    "start_time": "2022-12-19T08:42:14.222Z"
   },
   {
    "duration": 51,
    "start_time": "2022-12-19T08:42:14.234Z"
   },
   {
    "duration": 155264,
    "start_time": "2022-12-19T08:42:14.286Z"
   },
   {
    "duration": 4,
    "start_time": "2022-12-19T08:44:49.552Z"
   },
   {
    "duration": 20,
    "start_time": "2022-12-19T08:44:49.558Z"
   },
   {
    "duration": 11,
    "start_time": "2022-12-19T08:44:49.580Z"
   },
   {
    "duration": 40825,
    "start_time": "2022-12-19T08:44:49.593Z"
   },
   {
    "duration": 5,
    "start_time": "2022-12-19T08:45:30.419Z"
   },
   {
    "duration": 13,
    "start_time": "2022-12-19T08:45:30.425Z"
   },
   {
    "duration": 31,
    "start_time": "2022-12-19T08:45:30.440Z"
   },
   {
    "duration": 16,
    "start_time": "2022-12-19T08:45:30.473Z"
   },
   {
    "duration": 14,
    "start_time": "2022-12-19T08:45:30.491Z"
   },
   {
    "duration": 20,
    "start_time": "2022-12-19T09:04:10.087Z"
   },
   {
    "duration": 4,
    "start_time": "2022-12-19T09:04:12.317Z"
   },
   {
    "duration": 1453,
    "start_time": "2022-12-19T09:05:38.155Z"
   },
   {
    "duration": 42,
    "start_time": "2022-12-19T09:05:39.609Z"
   },
   {
    "duration": 2,
    "start_time": "2022-12-19T09:05:39.653Z"
   },
   {
    "duration": 17,
    "start_time": "2022-12-19T09:05:39.657Z"
   },
   {
    "duration": 18,
    "start_time": "2022-12-19T09:05:39.675Z"
   },
   {
    "duration": 25,
    "start_time": "2022-12-19T09:05:39.694Z"
   },
   {
    "duration": 4,
    "start_time": "2022-12-19T09:05:39.721Z"
   },
   {
    "duration": 10,
    "start_time": "2022-12-19T09:05:39.727Z"
   },
   {
    "duration": 18,
    "start_time": "2022-12-19T09:05:39.739Z"
   },
   {
    "duration": 8,
    "start_time": "2022-12-19T09:05:39.777Z"
   },
   {
    "duration": 11,
    "start_time": "2022-12-19T09:05:39.786Z"
   },
   {
    "duration": 37,
    "start_time": "2022-12-19T09:05:39.799Z"
   },
   {
    "duration": 12,
    "start_time": "2022-12-19T09:05:39.838Z"
   },
   {
    "duration": 36,
    "start_time": "2022-12-19T09:05:39.852Z"
   },
   {
    "duration": 15,
    "start_time": "2022-12-19T09:05:39.890Z"
   },
   {
    "duration": 7,
    "start_time": "2022-12-19T09:05:39.906Z"
   },
   {
    "duration": 11,
    "start_time": "2022-12-19T09:05:39.914Z"
   },
   {
    "duration": 8,
    "start_time": "2022-12-19T09:05:39.927Z"
   },
   {
    "duration": 18,
    "start_time": "2022-12-19T09:05:39.936Z"
   },
   {
    "duration": 6,
    "start_time": "2022-12-19T09:05:39.978Z"
   },
   {
    "duration": 25,
    "start_time": "2022-12-19T09:05:39.986Z"
   },
   {
    "duration": 20,
    "start_time": "2022-12-19T09:05:40.013Z"
   },
   {
    "duration": 32,
    "start_time": "2022-12-19T09:05:40.034Z"
   },
   {
    "duration": 31,
    "start_time": "2022-12-19T09:05:40.068Z"
   },
   {
    "duration": 45,
    "start_time": "2022-12-19T09:05:40.101Z"
   },
   {
    "duration": 5,
    "start_time": "2022-12-19T09:05:40.148Z"
   },
   {
    "duration": 36,
    "start_time": "2022-12-19T09:05:40.155Z"
   },
   {
    "duration": 2272,
    "start_time": "2022-12-19T09:05:40.195Z"
   },
   {
    "duration": 18,
    "start_time": "2022-12-19T09:05:42.469Z"
   },
   {
    "duration": 12,
    "start_time": "2022-12-19T09:05:42.488Z"
   },
   {
    "duration": 23,
    "start_time": "2022-12-19T09:05:42.502Z"
   },
   {
    "duration": 27,
    "start_time": "2022-12-19T09:05:42.526Z"
   },
   {
    "duration": 22,
    "start_time": "2022-12-19T09:05:42.555Z"
   },
   {
    "duration": 85464,
    "start_time": "2022-12-19T09:05:42.579Z"
   },
   {
    "duration": 6,
    "start_time": "2022-12-19T09:07:08.044Z"
   },
   {
    "duration": 7,
    "start_time": "2022-12-19T09:07:08.051Z"
   },
   {
    "duration": 33,
    "start_time": "2022-12-19T09:07:08.060Z"
   },
   {
    "duration": 5,
    "start_time": "2022-12-19T09:07:08.094Z"
   },
   {
    "duration": 20,
    "start_time": "2022-12-19T09:07:08.100Z"
   },
   {
    "duration": 161352,
    "start_time": "2022-12-19T09:07:08.122Z"
   },
   {
    "duration": 4,
    "start_time": "2022-12-19T09:09:49.477Z"
   },
   {
    "duration": 29,
    "start_time": "2022-12-19T09:09:49.482Z"
   },
   {
    "duration": 15,
    "start_time": "2022-12-19T09:09:49.513Z"
   },
   {
    "duration": 40703,
    "start_time": "2022-12-19T09:09:49.530Z"
   },
   {
    "duration": 5,
    "start_time": "2022-12-19T09:10:30.235Z"
   },
   {
    "duration": 29,
    "start_time": "2022-12-19T09:10:30.242Z"
   },
   {
    "duration": 39,
    "start_time": "2022-12-19T09:10:30.273Z"
   },
   {
    "duration": 21,
    "start_time": "2022-12-19T09:10:30.314Z"
   },
   {
    "duration": 1471,
    "start_time": "2022-12-19T09:22:22.914Z"
   },
   {
    "duration": 42,
    "start_time": "2022-12-19T09:22:24.387Z"
   },
   {
    "duration": 3,
    "start_time": "2022-12-19T09:22:24.431Z"
   },
   {
    "duration": 20,
    "start_time": "2022-12-19T09:22:24.436Z"
   },
   {
    "duration": 20,
    "start_time": "2022-12-19T09:22:24.458Z"
   },
   {
    "duration": 20,
    "start_time": "2022-12-19T09:22:24.480Z"
   },
   {
    "duration": 4,
    "start_time": "2022-12-19T09:22:24.502Z"
   },
   {
    "duration": 9,
    "start_time": "2022-12-19T09:22:24.508Z"
   },
   {
    "duration": 18,
    "start_time": "2022-12-19T09:22:24.519Z"
   },
   {
    "duration": 8,
    "start_time": "2022-12-19T09:22:24.539Z"
   },
   {
    "duration": 39,
    "start_time": "2022-12-19T09:22:24.549Z"
   },
   {
    "duration": 49,
    "start_time": "2022-12-19T09:22:24.590Z"
   },
   {
    "duration": 11,
    "start_time": "2022-12-19T09:22:24.641Z"
   },
   {
    "duration": 29,
    "start_time": "2022-12-19T09:22:24.654Z"
   },
   {
    "duration": 20,
    "start_time": "2022-12-19T09:22:24.685Z"
   },
   {
    "duration": 5,
    "start_time": "2022-12-19T09:22:24.707Z"
   },
   {
    "duration": 11,
    "start_time": "2022-12-19T09:22:24.714Z"
   },
   {
    "duration": 9,
    "start_time": "2022-12-19T09:22:24.727Z"
   },
   {
    "duration": 49,
    "start_time": "2022-12-19T09:22:24.738Z"
   },
   {
    "duration": 14,
    "start_time": "2022-12-19T09:22:24.789Z"
   },
   {
    "duration": 19,
    "start_time": "2022-12-19T09:22:24.805Z"
   },
   {
    "duration": 5,
    "start_time": "2022-12-19T09:22:24.826Z"
   },
   {
    "duration": 26,
    "start_time": "2022-12-19T09:22:24.833Z"
   },
   {
    "duration": 20,
    "start_time": "2022-12-19T09:22:24.861Z"
   },
   {
    "duration": 43,
    "start_time": "2022-12-19T09:22:24.883Z"
   },
   {
    "duration": 3,
    "start_time": "2022-12-19T09:22:24.928Z"
   },
   {
    "duration": 11,
    "start_time": "2022-12-19T09:22:24.933Z"
   },
   {
    "duration": 2323,
    "start_time": "2022-12-19T09:22:24.948Z"
   },
   {
    "duration": 16,
    "start_time": "2022-12-19T09:22:27.273Z"
   },
   {
    "duration": 16,
    "start_time": "2022-12-19T09:22:27.291Z"
   },
   {
    "duration": 9,
    "start_time": "2022-12-19T09:22:27.310Z"
   },
   {
    "duration": 11,
    "start_time": "2022-12-19T09:22:27.321Z"
   },
   {
    "duration": 11,
    "start_time": "2022-12-19T09:22:27.334Z"
   },
   {
    "duration": 84692,
    "start_time": "2022-12-19T09:22:27.347Z"
   },
   {
    "duration": 6,
    "start_time": "2022-12-19T09:23:52.041Z"
   },
   {
    "duration": 21,
    "start_time": "2022-12-19T09:23:52.049Z"
   },
   {
    "duration": 23,
    "start_time": "2022-12-19T09:23:52.072Z"
   },
   {
    "duration": 4,
    "start_time": "2022-12-19T09:23:52.097Z"
   },
   {
    "duration": 22,
    "start_time": "2022-12-19T09:23:52.103Z"
   },
   {
    "duration": 159223,
    "start_time": "2022-12-19T09:23:52.127Z"
   },
   {
    "duration": 5,
    "start_time": "2022-12-19T09:26:31.352Z"
   },
   {
    "duration": 18,
    "start_time": "2022-12-19T09:26:31.360Z"
   },
   {
    "duration": 32,
    "start_time": "2022-12-19T09:26:31.380Z"
   },
   {
    "duration": 42441,
    "start_time": "2022-12-19T09:26:31.414Z"
   },
   {
    "duration": 3,
    "start_time": "2022-12-19T09:27:13.857Z"
   },
   {
    "duration": 29,
    "start_time": "2022-12-19T09:27:13.862Z"
   },
   {
    "duration": 22,
    "start_time": "2022-12-19T09:27:13.892Z"
   },
   {
    "duration": 161954,
    "start_time": "2022-12-19T09:27:13.915Z"
   },
   {
    "duration": 6,
    "start_time": "2022-12-19T09:29:55.877Z"
   },
   {
    "duration": 34,
    "start_time": "2022-12-19T09:29:55.896Z"
   },
   {
    "duration": 4,
    "start_time": "2022-12-19T09:29:55.932Z"
   },
   {
    "duration": 1629,
    "start_time": "2022-12-20T07:55:58.899Z"
   },
   {
    "duration": 80,
    "start_time": "2022-12-20T07:56:00.530Z"
   },
   {
    "duration": 3,
    "start_time": "2022-12-20T07:56:00.612Z"
   },
   {
    "duration": 40,
    "start_time": "2022-12-20T07:56:00.617Z"
   },
   {
    "duration": 31,
    "start_time": "2022-12-20T07:56:00.659Z"
   },
   {
    "duration": 37,
    "start_time": "2022-12-20T07:56:00.692Z"
   },
   {
    "duration": 14,
    "start_time": "2022-12-20T07:56:00.731Z"
   },
   {
    "duration": 27,
    "start_time": "2022-12-20T07:56:00.747Z"
   },
   {
    "duration": 50,
    "start_time": "2022-12-20T07:56:00.776Z"
   },
   {
    "duration": 28,
    "start_time": "2022-12-20T07:56:00.828Z"
   },
   {
    "duration": 47,
    "start_time": "2022-12-20T07:56:00.858Z"
   },
   {
    "duration": 53,
    "start_time": "2022-12-20T07:56:00.907Z"
   },
   {
    "duration": 3,
    "start_time": "2022-12-20T07:56:00.963Z"
   },
   {
    "duration": 28,
    "start_time": "2022-12-20T07:56:00.968Z"
   },
   {
    "duration": 36,
    "start_time": "2022-12-20T07:56:00.998Z"
   },
   {
    "duration": 39,
    "start_time": "2022-12-20T07:56:01.036Z"
   },
   {
    "duration": 37,
    "start_time": "2022-12-20T07:56:01.077Z"
   },
   {
    "duration": 26,
    "start_time": "2022-12-20T07:56:01.116Z"
   },
   {
    "duration": 41,
    "start_time": "2022-12-20T07:56:01.144Z"
   },
   {
    "duration": 31,
    "start_time": "2022-12-20T07:56:01.187Z"
   },
   {
    "duration": 21,
    "start_time": "2022-12-20T07:56:01.220Z"
   },
   {
    "duration": 52,
    "start_time": "2022-12-20T07:56:01.243Z"
   },
   {
    "duration": 19,
    "start_time": "2022-12-20T07:56:01.297Z"
   },
   {
    "duration": 39,
    "start_time": "2022-12-20T07:56:01.318Z"
   },
   {
    "duration": 16,
    "start_time": "2022-12-20T07:56:01.358Z"
   },
   {
    "duration": 56,
    "start_time": "2022-12-20T07:56:01.376Z"
   },
   {
    "duration": 3,
    "start_time": "2022-12-20T07:56:01.435Z"
   },
   {
    "duration": 16,
    "start_time": "2022-12-20T07:56:01.443Z"
   },
   {
    "duration": 197055,
    "start_time": "2022-12-20T07:56:01.461Z"
   },
   {
    "duration": 173,
    "start_time": "2022-12-20T07:59:18.518Z"
   },
   {
    "duration": 40,
    "start_time": "2022-12-20T07:59:18.693Z"
   },
   {
    "duration": 0,
    "start_time": "2022-12-20T07:59:18.735Z"
   },
   {
    "duration": 0,
    "start_time": "2022-12-20T07:59:18.736Z"
   },
   {
    "duration": 0,
    "start_time": "2022-12-20T07:59:18.737Z"
   },
   {
    "duration": 0,
    "start_time": "2022-12-20T07:59:18.739Z"
   },
   {
    "duration": 0,
    "start_time": "2022-12-20T07:59:18.740Z"
   },
   {
    "duration": 0,
    "start_time": "2022-12-20T07:59:18.741Z"
   },
   {
    "duration": 0,
    "start_time": "2022-12-20T07:59:18.743Z"
   },
   {
    "duration": 0,
    "start_time": "2022-12-20T07:59:18.744Z"
   },
   {
    "duration": 0,
    "start_time": "2022-12-20T07:59:18.746Z"
   },
   {
    "duration": 0,
    "start_time": "2022-12-20T07:59:18.747Z"
   },
   {
    "duration": 0,
    "start_time": "2022-12-20T07:59:18.749Z"
   },
   {
    "duration": 0,
    "start_time": "2022-12-20T07:59:18.750Z"
   },
   {
    "duration": 0,
    "start_time": "2022-12-20T07:59:18.752Z"
   },
   {
    "duration": 0,
    "start_time": "2022-12-20T07:59:18.754Z"
   },
   {
    "duration": 0,
    "start_time": "2022-12-20T07:59:18.755Z"
   },
   {
    "duration": 0,
    "start_time": "2022-12-20T07:59:18.757Z"
   },
   {
    "duration": 0,
    "start_time": "2022-12-20T07:59:18.759Z"
   },
   {
    "duration": 0,
    "start_time": "2022-12-20T07:59:18.760Z"
   },
   {
    "duration": 0,
    "start_time": "2022-12-20T07:59:18.762Z"
   },
   {
    "duration": 0,
    "start_time": "2022-12-20T07:59:18.763Z"
   },
   {
    "duration": 68,
    "start_time": "2022-12-20T08:31:19.352Z"
   },
   {
    "duration": 16,
    "start_time": "2022-12-20T08:32:48.940Z"
   },
   {
    "duration": 56,
    "start_time": "2022-12-20T08:32:53.819Z"
   },
   {
    "duration": 4,
    "start_time": "2022-12-20T08:33:31.031Z"
   },
   {
    "duration": 5,
    "start_time": "2022-12-20T08:33:33.074Z"
   },
   {
    "duration": 1511,
    "start_time": "2022-12-20T08:40:59.866Z"
   },
   {
    "duration": 42,
    "start_time": "2022-12-20T08:41:01.379Z"
   },
   {
    "duration": 3,
    "start_time": "2022-12-20T08:41:01.423Z"
   },
   {
    "duration": 24,
    "start_time": "2022-12-20T08:41:01.429Z"
   },
   {
    "duration": 39,
    "start_time": "2022-12-20T08:41:01.454Z"
   },
   {
    "duration": 21,
    "start_time": "2022-12-20T08:41:01.495Z"
   },
   {
    "duration": 50,
    "start_time": "2022-12-20T08:41:01.518Z"
   },
   {
    "duration": 95,
    "start_time": "2022-12-20T08:41:01.570Z"
   },
   {
    "duration": 41,
    "start_time": "2022-12-20T08:41:01.670Z"
   },
   {
    "duration": 24,
    "start_time": "2022-12-20T08:41:01.714Z"
   },
   {
    "duration": 60,
    "start_time": "2022-12-20T08:41:01.739Z"
   },
   {
    "duration": 87,
    "start_time": "2022-12-20T08:41:01.800Z"
   },
   {
    "duration": 55,
    "start_time": "2022-12-20T08:41:01.888Z"
   },
   {
    "duration": 148,
    "start_time": "2022-12-20T08:41:01.945Z"
   },
   {
    "duration": 69,
    "start_time": "2022-12-20T08:41:02.095Z"
   },
   {
    "duration": 26,
    "start_time": "2022-12-20T08:41:02.170Z"
   },
   {
    "duration": 22,
    "start_time": "2022-12-20T08:41:02.198Z"
   },
   {
    "duration": 21,
    "start_time": "2022-12-20T08:41:02.222Z"
   },
   {
    "duration": 53,
    "start_time": "2022-12-20T08:41:02.244Z"
   },
   {
    "duration": 21,
    "start_time": "2022-12-20T08:41:02.299Z"
   },
   {
    "duration": 28,
    "start_time": "2022-12-20T08:41:02.322Z"
   },
   {
    "duration": 39,
    "start_time": "2022-12-20T08:41:02.352Z"
   },
   {
    "duration": 20,
    "start_time": "2022-12-20T08:41:02.393Z"
   },
   {
    "duration": 29,
    "start_time": "2022-12-20T08:41:02.415Z"
   },
   {
    "duration": 50,
    "start_time": "2022-12-20T08:41:02.446Z"
   },
   {
    "duration": 55,
    "start_time": "2022-12-20T08:41:02.497Z"
   },
   {
    "duration": 10,
    "start_time": "2022-12-20T08:41:02.554Z"
   },
   {
    "duration": 13,
    "start_time": "2022-12-20T08:41:02.568Z"
   },
   {
    "duration": 194808,
    "start_time": "2022-12-20T08:41:02.582Z"
   },
   {
    "duration": 15,
    "start_time": "2022-12-20T08:44:17.392Z"
   },
   {
    "duration": 14,
    "start_time": "2022-12-20T08:44:17.409Z"
   },
   {
    "duration": 14,
    "start_time": "2022-12-20T08:44:17.426Z"
   },
   {
    "duration": 19,
    "start_time": "2022-12-20T08:44:17.442Z"
   },
   {
    "duration": 22,
    "start_time": "2022-12-20T08:44:17.462Z"
   },
   {
    "duration": 562002,
    "start_time": "2022-12-20T08:44:17.486Z"
   },
   {
    "duration": 4,
    "start_time": "2022-12-20T08:53:39.491Z"
   },
   {
    "duration": 18,
    "start_time": "2022-12-20T08:53:39.497Z"
   },
   {
    "duration": 0,
    "start_time": "2022-12-20T08:53:39.517Z"
   },
   {
    "duration": 0,
    "start_time": "2022-12-20T08:53:39.519Z"
   },
   {
    "duration": 0,
    "start_time": "2022-12-20T08:53:39.520Z"
   },
   {
    "duration": 0,
    "start_time": "2022-12-20T08:53:39.521Z"
   },
   {
    "duration": 0,
    "start_time": "2022-12-20T08:53:39.523Z"
   },
   {
    "duration": 0,
    "start_time": "2022-12-20T08:53:39.524Z"
   },
   {
    "duration": 0,
    "start_time": "2022-12-20T08:53:39.525Z"
   },
   {
    "duration": 0,
    "start_time": "2022-12-20T08:53:39.526Z"
   },
   {
    "duration": 0,
    "start_time": "2022-12-20T08:53:39.527Z"
   },
   {
    "duration": 0,
    "start_time": "2022-12-20T08:53:39.528Z"
   },
   {
    "duration": 0,
    "start_time": "2022-12-20T08:53:39.529Z"
   },
   {
    "duration": 0,
    "start_time": "2022-12-20T08:53:39.530Z"
   },
   {
    "duration": 0,
    "start_time": "2022-12-20T08:53:39.531Z"
   },
   {
    "duration": 748,
    "start_time": "2022-12-20T09:01:36.281Z"
   },
   {
    "duration": 144,
    "start_time": "2022-12-20T09:01:45.474Z"
   },
   {
    "duration": 49,
    "start_time": "2022-12-20T09:02:56.390Z"
   },
   {
    "duration": 49,
    "start_time": "2022-12-20T09:03:03.774Z"
   },
   {
    "duration": 54,
    "start_time": "2022-12-20T09:03:25.379Z"
   },
   {
    "duration": 54,
    "start_time": "2022-12-20T09:03:34.589Z"
   },
   {
    "duration": 66,
    "start_time": "2022-12-20T09:03:54.829Z"
   },
   {
    "duration": 48,
    "start_time": "2022-12-20T09:04:05.198Z"
   },
   {
    "duration": 1043,
    "start_time": "2022-12-20T09:04:21.265Z"
   },
   {
    "duration": 121,
    "start_time": "2022-12-20T09:04:38.013Z"
   },
   {
    "duration": 13,
    "start_time": "2022-12-20T09:26:47.191Z"
   },
   {
    "duration": 590677,
    "start_time": "2022-12-20T09:28:53.099Z"
   },
   {
    "duration": 4,
    "start_time": "2022-12-20T09:38:43.779Z"
   },
   {
    "duration": 1436,
    "start_time": "2022-12-20T10:04:10.057Z"
   },
   {
    "duration": 41,
    "start_time": "2022-12-20T10:04:11.495Z"
   },
   {
    "duration": 3,
    "start_time": "2022-12-20T10:04:11.538Z"
   },
   {
    "duration": 26,
    "start_time": "2022-12-20T10:04:11.543Z"
   },
   {
    "duration": 18,
    "start_time": "2022-12-20T10:04:11.572Z"
   },
   {
    "duration": 19,
    "start_time": "2022-12-20T10:04:11.592Z"
   },
   {
    "duration": 5,
    "start_time": "2022-12-20T10:04:11.613Z"
   },
   {
    "duration": 6,
    "start_time": "2022-12-20T10:04:11.620Z"
   },
   {
    "duration": 42,
    "start_time": "2022-12-20T10:04:11.628Z"
   },
   {
    "duration": 7,
    "start_time": "2022-12-20T10:04:11.673Z"
   },
   {
    "duration": 12,
    "start_time": "2022-12-20T10:04:11.681Z"
   },
   {
    "duration": 36,
    "start_time": "2022-12-20T10:04:11.694Z"
   },
   {
    "duration": 31,
    "start_time": "2022-12-20T10:04:11.732Z"
   },
   {
    "duration": 18,
    "start_time": "2022-12-20T10:04:11.766Z"
   },
   {
    "duration": 21,
    "start_time": "2022-12-20T10:04:11.786Z"
   },
   {
    "duration": 4,
    "start_time": "2022-12-20T10:04:11.809Z"
   },
   {
    "duration": 9,
    "start_time": "2022-12-20T10:04:11.815Z"
   },
   {
    "duration": 10,
    "start_time": "2022-12-20T10:04:11.826Z"
   },
   {
    "duration": 39,
    "start_time": "2022-12-20T10:04:11.838Z"
   },
   {
    "duration": 19,
    "start_time": "2022-12-20T10:04:11.879Z"
   },
   {
    "duration": 5,
    "start_time": "2022-12-20T10:04:11.900Z"
   },
   {
    "duration": 19,
    "start_time": "2022-12-20T10:04:11.907Z"
   },
   {
    "duration": 10,
    "start_time": "2022-12-20T10:04:11.954Z"
   },
   {
    "duration": 20,
    "start_time": "2022-12-20T10:04:11.967Z"
   },
   {
    "duration": 5,
    "start_time": "2022-12-20T10:04:11.989Z"
   },
   {
    "duration": 32,
    "start_time": "2022-12-20T10:04:11.996Z"
   },
   {
    "duration": 4,
    "start_time": "2022-12-20T10:04:12.056Z"
   },
   {
    "duration": 15,
    "start_time": "2022-12-20T10:04:12.066Z"
   },
   {
    "duration": 193957,
    "start_time": "2022-12-20T10:04:12.083Z"
   },
   {
    "duration": 21,
    "start_time": "2022-12-20T10:07:26.042Z"
   },
   {
    "duration": 5,
    "start_time": "2022-12-20T10:07:26.066Z"
   },
   {
    "duration": 13,
    "start_time": "2022-12-20T10:07:26.072Z"
   },
   {
    "duration": 9,
    "start_time": "2022-12-20T10:07:26.087Z"
   },
   {
    "duration": 12,
    "start_time": "2022-12-20T10:07:26.098Z"
   },
   {
    "duration": 571509,
    "start_time": "2022-12-20T10:07:26.112Z"
   },
   {
    "duration": 4,
    "start_time": "2022-12-20T10:16:57.623Z"
   },
   {
    "duration": 15,
    "start_time": "2022-12-20T10:16:57.629Z"
   },
   {
    "duration": 6,
    "start_time": "2022-12-20T10:16:57.646Z"
   },
   {
    "duration": 7,
    "start_time": "2022-12-20T10:16:57.663Z"
   },
   {
    "duration": 153,
    "start_time": "2022-12-20T10:16:57.672Z"
   },
   {
    "duration": 12,
    "start_time": "2022-12-20T10:16:57.826Z"
   },
   {
    "duration": 7,
    "start_time": "2022-12-20T10:16:57.840Z"
   },
   {
    "duration": 4,
    "start_time": "2022-12-20T10:16:57.855Z"
   },
   {
    "duration": 10,
    "start_time": "2022-12-20T10:16:57.862Z"
   },
   {
    "duration": 31263,
    "start_time": "2022-12-20T10:16:57.875Z"
   },
   {
    "duration": 50,
    "start_time": "2022-12-20T10:17:29.141Z"
   },
   {
    "duration": 12,
    "start_time": "2022-12-20T10:17:29.193Z"
   },
   {
    "duration": 37,
    "start_time": "2022-12-20T10:17:29.207Z"
   },
   {
    "duration": 3,
    "start_time": "2022-12-20T10:17:29.247Z"
   },
   {
    "duration": 43,
    "start_time": "2022-12-20T10:17:29.252Z"
   },
   {
    "duration": 7,
    "start_time": "2022-12-20T10:17:29.297Z"
   },
   {
    "duration": 15171,
    "start_time": "2022-12-20T10:17:29.306Z"
   },
   {
    "duration": 168,
    "start_time": "2022-12-20T10:17:44.478Z"
   },
   {
    "duration": 0,
    "start_time": "2022-12-20T10:17:44.649Z"
   },
   {
    "duration": 0,
    "start_time": "2022-12-20T10:17:44.654Z"
   },
   {
    "duration": 17,
    "start_time": "2022-12-20T10:25:46.465Z"
   },
   {
    "duration": 4,
    "start_time": "2022-12-20T10:26:03.194Z"
   },
   {
    "duration": 1378,
    "start_time": "2022-12-20T10:52:10.953Z"
   },
   {
    "duration": 42,
    "start_time": "2022-12-20T10:52:12.333Z"
   },
   {
    "duration": 4,
    "start_time": "2022-12-20T10:52:12.380Z"
   },
   {
    "duration": 26,
    "start_time": "2022-12-20T10:52:12.385Z"
   },
   {
    "duration": 24,
    "start_time": "2022-12-20T10:52:12.413Z"
   },
   {
    "duration": 22,
    "start_time": "2022-12-20T10:52:12.438Z"
   },
   {
    "duration": 15,
    "start_time": "2022-12-20T10:52:12.462Z"
   },
   {
    "duration": 23,
    "start_time": "2022-12-20T10:52:12.479Z"
   },
   {
    "duration": 28,
    "start_time": "2022-12-20T10:52:12.505Z"
   },
   {
    "duration": 7,
    "start_time": "2022-12-20T10:52:12.535Z"
   },
   {
    "duration": 29,
    "start_time": "2022-12-20T10:52:12.543Z"
   },
   {
    "duration": 35,
    "start_time": "2022-12-20T10:52:12.574Z"
   },
   {
    "duration": 3,
    "start_time": "2022-12-20T10:52:12.610Z"
   },
   {
    "duration": 32,
    "start_time": "2022-12-20T10:52:12.614Z"
   },
   {
    "duration": 19,
    "start_time": "2022-12-20T10:52:12.648Z"
   },
   {
    "duration": 8,
    "start_time": "2022-12-20T10:52:12.668Z"
   },
   {
    "duration": 14,
    "start_time": "2022-12-20T10:52:12.677Z"
   },
   {
    "duration": 6,
    "start_time": "2022-12-20T10:52:12.693Z"
   },
   {
    "duration": 28,
    "start_time": "2022-12-20T10:52:12.701Z"
   },
   {
    "duration": 19,
    "start_time": "2022-12-20T10:52:12.731Z"
   },
   {
    "duration": 11,
    "start_time": "2022-12-20T10:52:12.754Z"
   },
   {
    "duration": 32,
    "start_time": "2022-12-20T10:52:12.767Z"
   },
   {
    "duration": 18,
    "start_time": "2022-12-20T10:52:12.801Z"
   },
   {
    "duration": 26,
    "start_time": "2022-12-20T10:52:12.820Z"
   },
   {
    "duration": 11,
    "start_time": "2022-12-20T10:52:12.848Z"
   },
   {
    "duration": 42,
    "start_time": "2022-12-20T10:52:12.860Z"
   },
   {
    "duration": 3,
    "start_time": "2022-12-20T10:52:12.905Z"
   },
   {
    "duration": 8,
    "start_time": "2022-12-20T10:52:12.909Z"
   },
   {
    "duration": 188936,
    "start_time": "2022-12-20T10:52:12.919Z"
   },
   {
    "duration": 12,
    "start_time": "2022-12-20T10:55:21.856Z"
   },
   {
    "duration": 3,
    "start_time": "2022-12-20T10:55:21.869Z"
   },
   {
    "duration": 9,
    "start_time": "2022-12-20T10:55:21.874Z"
   },
   {
    "duration": 6,
    "start_time": "2022-12-20T10:55:21.884Z"
   },
   {
    "duration": 10,
    "start_time": "2022-12-20T10:55:21.891Z"
   },
   {
    "duration": 547485,
    "start_time": "2022-12-20T10:55:21.903Z"
   },
   {
    "duration": 4,
    "start_time": "2022-12-20T11:04:29.390Z"
   },
   {
    "duration": 17,
    "start_time": "2022-12-20T11:04:29.395Z"
   },
   {
    "duration": 19,
    "start_time": "2022-12-20T11:04:29.413Z"
   },
   {
    "duration": 18,
    "start_time": "2022-12-20T11:04:29.434Z"
   },
   {
    "duration": 128,
    "start_time": "2022-12-20T11:04:29.454Z"
   },
   {
    "duration": 13,
    "start_time": "2022-12-20T11:04:29.584Z"
   },
   {
    "duration": 8,
    "start_time": "2022-12-20T11:04:29.599Z"
   },
   {
    "duration": 8,
    "start_time": "2022-12-20T11:04:29.609Z"
   },
   {
    "duration": 15,
    "start_time": "2022-12-20T11:04:29.618Z"
   },
   {
    "duration": 277997,
    "start_time": "2022-12-20T11:04:29.635Z"
   },
   {
    "duration": 56,
    "start_time": "2022-12-20T11:09:07.634Z"
   },
   {
    "duration": 4,
    "start_time": "2022-12-20T11:09:07.692Z"
   },
   {
    "duration": 13,
    "start_time": "2022-12-20T11:09:07.698Z"
   },
   {
    "duration": 2,
    "start_time": "2022-12-20T11:09:07.713Z"
   },
   {
    "duration": 11,
    "start_time": "2022-12-20T11:09:07.717Z"
   },
   {
    "duration": 8,
    "start_time": "2022-12-20T11:09:07.730Z"
   },
   {
    "duration": 117877,
    "start_time": "2022-12-20T11:09:07.740Z"
   },
   {
    "duration": 123,
    "start_time": "2022-12-20T11:11:05.619Z"
   },
   {
    "duration": 0,
    "start_time": "2022-12-20T11:11:05.744Z"
   },
   {
    "duration": 0,
    "start_time": "2022-12-20T11:11:05.745Z"
   },
   {
    "duration": 0,
    "start_time": "2022-12-20T11:11:05.754Z"
   },
   {
    "duration": 0,
    "start_time": "2022-12-20T11:11:05.756Z"
   },
   {
    "duration": 0,
    "start_time": "2022-12-20T11:11:05.757Z"
   },
   {
    "duration": 0,
    "start_time": "2022-12-20T11:11:05.758Z"
   },
   {
    "duration": 0,
    "start_time": "2022-12-20T11:11:05.760Z"
   },
   {
    "duration": 0,
    "start_time": "2022-12-20T11:11:05.762Z"
   },
   {
    "duration": 0,
    "start_time": "2022-12-20T11:11:05.763Z"
   },
   {
    "duration": 1,
    "start_time": "2022-12-20T11:11:05.764Z"
   },
   {
    "duration": 0,
    "start_time": "2022-12-20T11:11:05.766Z"
   },
   {
    "duration": 10,
    "start_time": "2022-12-20T11:11:47.205Z"
   },
   {
    "duration": 18,
    "start_time": "2022-12-20T11:12:16.795Z"
   },
   {
    "duration": 4,
    "start_time": "2022-12-20T11:12:17.855Z"
   },
   {
    "duration": 12,
    "start_time": "2022-12-20T11:12:21.908Z"
   },
   {
    "duration": 20,
    "start_time": "2022-12-20T11:12:22.467Z"
   },
   {
    "duration": 29,
    "start_time": "2022-12-20T11:12:23.164Z"
   },
   {
    "duration": 12,
    "start_time": "2022-12-20T11:12:26.366Z"
   },
   {
    "duration": 269266,
    "start_time": "2022-12-20T11:12:41.498Z"
   },
   {
    "duration": 43,
    "start_time": "2022-12-20T11:17:10.766Z"
   },
   {
    "duration": 5,
    "start_time": "2022-12-20T11:17:10.811Z"
   },
   {
    "duration": 197857,
    "start_time": "2022-12-20T11:19:38.028Z"
   },
   {
    "duration": 52,
    "start_time": "2022-12-20T11:22:55.887Z"
   },
   {
    "duration": 15,
    "start_time": "2022-12-20T11:22:55.941Z"
   },
   {
    "duration": 560447,
    "start_time": "2022-12-20T11:39:50.382Z"
   },
   {
    "duration": 4,
    "start_time": "2022-12-20T11:49:10.831Z"
   },
   {
    "duration": 11,
    "start_time": "2022-12-20T11:57:04.239Z"
   },
   {
    "duration": 46,
    "start_time": "2022-12-20T11:58:29.854Z"
   },
   {
    "duration": 47,
    "start_time": "2022-12-20T12:01:01.335Z"
   },
   {
    "duration": 14,
    "start_time": "2022-12-20T12:01:45.128Z"
   },
   {
    "duration": 52,
    "start_time": "2022-12-20T12:03:30.272Z"
   },
   {
    "duration": 51,
    "start_time": "2022-12-20T12:14:11.241Z"
   },
   {
    "duration": 51,
    "start_time": "2022-12-20T12:14:18.134Z"
   },
   {
    "duration": 63,
    "start_time": "2022-12-20T12:20:00.334Z"
   },
   {
    "duration": 56,
    "start_time": "2022-12-20T12:22:11.392Z"
   },
   {
    "duration": 8769,
    "start_time": "2022-12-20T12:22:55.593Z"
   },
   {
    "duration": 2394,
    "start_time": "2022-12-20T12:33:28.651Z"
   },
   {
    "duration": 2794,
    "start_time": "2022-12-20T12:34:11.881Z"
   },
   {
    "duration": 1259,
    "start_time": "2022-12-20T12:39:39.854Z"
   },
   {
    "duration": 42,
    "start_time": "2022-12-20T12:39:41.115Z"
   },
   {
    "duration": 4,
    "start_time": "2022-12-20T12:39:41.158Z"
   },
   {
    "duration": 19,
    "start_time": "2022-12-20T12:39:41.164Z"
   },
   {
    "duration": 18,
    "start_time": "2022-12-20T12:39:41.184Z"
   },
   {
    "duration": 22,
    "start_time": "2022-12-20T12:39:41.203Z"
   },
   {
    "duration": 4,
    "start_time": "2022-12-20T12:39:41.227Z"
   },
   {
    "duration": 24,
    "start_time": "2022-12-20T12:39:41.233Z"
   },
   {
    "duration": 17,
    "start_time": "2022-12-20T12:39:41.259Z"
   },
   {
    "duration": 10,
    "start_time": "2022-12-20T12:39:41.279Z"
   },
   {
    "duration": 12,
    "start_time": "2022-12-20T12:39:41.290Z"
   },
   {
    "duration": 53,
    "start_time": "2022-12-20T12:39:41.303Z"
   },
   {
    "duration": 4,
    "start_time": "2022-12-20T12:39:41.358Z"
   },
   {
    "duration": 19,
    "start_time": "2022-12-20T12:39:41.363Z"
   },
   {
    "duration": 15,
    "start_time": "2022-12-20T12:39:41.384Z"
   },
   {
    "duration": 4,
    "start_time": "2022-12-20T12:39:41.401Z"
   },
   {
    "duration": 10,
    "start_time": "2022-12-20T12:39:41.406Z"
   },
   {
    "duration": 8,
    "start_time": "2022-12-20T12:39:41.418Z"
   },
   {
    "duration": 42,
    "start_time": "2022-12-20T12:39:41.427Z"
   },
   {
    "duration": 19,
    "start_time": "2022-12-20T12:39:41.471Z"
   },
   {
    "duration": 5,
    "start_time": "2022-12-20T12:39:41.492Z"
   },
   {
    "duration": 21,
    "start_time": "2022-12-20T12:39:41.499Z"
   },
   {
    "duration": 7,
    "start_time": "2022-12-20T12:39:41.522Z"
   },
   {
    "duration": 17,
    "start_time": "2022-12-20T12:39:41.555Z"
   },
   {
    "duration": 8,
    "start_time": "2022-12-20T12:39:41.574Z"
   },
   {
    "duration": 37,
    "start_time": "2022-12-20T12:39:41.583Z"
   },
   {
    "duration": 3,
    "start_time": "2022-12-20T12:39:41.621Z"
   },
   {
    "duration": 9,
    "start_time": "2022-12-20T12:39:41.628Z"
   },
   {
    "duration": 215790,
    "start_time": "2022-12-20T12:39:41.638Z"
   },
   {
    "duration": 36,
    "start_time": "2022-12-20T12:43:17.430Z"
   },
   {
    "duration": 11,
    "start_time": "2022-12-20T12:43:17.467Z"
   },
   {
    "duration": 8,
    "start_time": "2022-12-20T12:43:17.483Z"
   },
   {
    "duration": 8,
    "start_time": "2022-12-20T12:43:17.494Z"
   },
   {
    "duration": 13,
    "start_time": "2022-12-20T12:43:17.503Z"
   },
   {
    "duration": 707437,
    "start_time": "2022-12-20T12:43:17.518Z"
   },
   {
    "duration": 15,
    "start_time": "2022-12-20T12:55:04.956Z"
   },
   {
    "duration": 13,
    "start_time": "2022-12-20T12:55:04.974Z"
   },
   {
    "duration": 6,
    "start_time": "2022-12-20T12:55:04.989Z"
   },
   {
    "duration": 6,
    "start_time": "2022-12-20T12:55:04.997Z"
   },
   {
    "duration": 139,
    "start_time": "2022-12-20T12:55:05.005Z"
   },
   {
    "duration": 23,
    "start_time": "2022-12-20T12:55:05.146Z"
   },
   {
    "duration": 22,
    "start_time": "2022-12-20T12:55:05.171Z"
   },
   {
    "duration": 9,
    "start_time": "2022-12-20T12:55:05.195Z"
   },
   {
    "duration": 13,
    "start_time": "2022-12-20T12:55:05.207Z"
   },
   {
    "duration": 18657,
    "start_time": "2022-12-20T12:55:05.223Z"
   },
   {
    "duration": 21,
    "start_time": "2022-12-20T12:55:23.882Z"
   },
   {
    "duration": 4,
    "start_time": "2022-12-20T12:55:23.906Z"
   },
   {
    "duration": 14,
    "start_time": "2022-12-20T12:55:23.912Z"
   },
   {
    "duration": 3,
    "start_time": "2022-12-20T12:55:23.928Z"
   },
   {
    "duration": 5,
    "start_time": "2022-12-20T12:55:23.932Z"
   },
   {
    "duration": 6,
    "start_time": "2022-12-20T12:55:23.939Z"
   },
   {
    "duration": 139762,
    "start_time": "2022-12-20T12:55:23.946Z"
   },
   {
    "duration": 24,
    "start_time": "2022-12-20T12:57:43.710Z"
   },
   {
    "duration": 26,
    "start_time": "2022-12-20T12:57:43.736Z"
   },
   {
    "duration": 23,
    "start_time": "2022-12-20T12:57:43.764Z"
   },
   {
    "duration": 21,
    "start_time": "2022-12-20T12:57:43.789Z"
   },
   {
    "duration": 29,
    "start_time": "2022-12-20T12:57:43.812Z"
   },
   {
    "duration": 26,
    "start_time": "2022-12-20T12:57:43.843Z"
   },
   {
    "duration": 1374,
    "start_time": "2022-12-20T13:00:48.349Z"
   },
   {
    "duration": 47,
    "start_time": "2022-12-20T13:00:49.726Z"
   },
   {
    "duration": 4,
    "start_time": "2022-12-20T13:00:49.777Z"
   },
   {
    "duration": 25,
    "start_time": "2022-12-20T13:00:49.783Z"
   },
   {
    "duration": 17,
    "start_time": "2022-12-20T13:00:49.811Z"
   },
   {
    "duration": 39,
    "start_time": "2022-12-20T13:00:49.830Z"
   },
   {
    "duration": 5,
    "start_time": "2022-12-20T13:00:49.870Z"
   },
   {
    "duration": 18,
    "start_time": "2022-12-20T13:00:49.878Z"
   },
   {
    "duration": 18,
    "start_time": "2022-12-20T13:00:49.898Z"
   },
   {
    "duration": 7,
    "start_time": "2022-12-20T13:00:49.919Z"
   },
   {
    "duration": 8,
    "start_time": "2022-12-20T13:00:49.927Z"
   },
   {
    "duration": 47,
    "start_time": "2022-12-20T13:00:49.937Z"
   },
   {
    "duration": 3,
    "start_time": "2022-12-20T13:00:49.986Z"
   },
   {
    "duration": 30,
    "start_time": "2022-12-20T13:00:49.990Z"
   },
   {
    "duration": 27,
    "start_time": "2022-12-20T13:00:50.022Z"
   },
   {
    "duration": 31,
    "start_time": "2022-12-20T13:00:50.051Z"
   },
   {
    "duration": 15,
    "start_time": "2022-12-20T13:00:50.084Z"
   },
   {
    "duration": 7,
    "start_time": "2022-12-20T13:00:50.101Z"
   },
   {
    "duration": 24,
    "start_time": "2022-12-20T13:00:50.110Z"
   },
   {
    "duration": 18,
    "start_time": "2022-12-20T13:00:50.136Z"
   },
   {
    "duration": 19,
    "start_time": "2022-12-20T13:00:50.155Z"
   },
   {
    "duration": 30,
    "start_time": "2022-12-20T13:00:50.176Z"
   },
   {
    "duration": 9,
    "start_time": "2022-12-20T13:00:50.208Z"
   },
   {
    "duration": 23,
    "start_time": "2022-12-20T13:00:50.219Z"
   },
   {
    "duration": 8,
    "start_time": "2022-12-20T13:00:50.243Z"
   },
   {
    "duration": 48,
    "start_time": "2022-12-20T13:00:50.255Z"
   },
   {
    "duration": 3,
    "start_time": "2022-12-20T13:00:50.305Z"
   },
   {
    "duration": 6,
    "start_time": "2022-12-20T13:00:50.312Z"
   },
   {
    "duration": 56589,
    "start_time": "2022-12-20T13:00:50.319Z"
   },
   {
    "duration": 17,
    "start_time": "2022-12-20T13:01:46.910Z"
   },
   {
    "duration": 5,
    "start_time": "2022-12-20T13:01:46.928Z"
   },
   {
    "duration": 27,
    "start_time": "2022-12-20T13:01:46.934Z"
   },
   {
    "duration": 15,
    "start_time": "2022-12-20T13:01:46.966Z"
   },
   {
    "duration": 13,
    "start_time": "2022-12-20T13:01:46.982Z"
   },
   {
    "duration": 194780,
    "start_time": "2022-12-20T13:01:46.997Z"
   },
   {
    "duration": 5,
    "start_time": "2022-12-20T13:05:01.779Z"
   },
   {
    "duration": 37,
    "start_time": "2022-12-20T13:05:01.786Z"
   },
   {
    "duration": 16,
    "start_time": "2022-12-20T13:05:01.825Z"
   },
   {
    "duration": 39,
    "start_time": "2022-12-20T13:05:01.843Z"
   },
   {
    "duration": 166,
    "start_time": "2022-12-20T13:05:01.884Z"
   },
   {
    "duration": 21,
    "start_time": "2022-12-20T13:05:02.052Z"
   },
   {
    "duration": 32,
    "start_time": "2022-12-20T13:05:02.075Z"
   },
   {
    "duration": 54,
    "start_time": "2022-12-20T13:05:02.110Z"
   },
   {
    "duration": 30,
    "start_time": "2022-12-20T13:05:02.166Z"
   },
   {
    "duration": 34184,
    "start_time": "2022-12-20T13:05:02.198Z"
   },
   {
    "duration": 36,
    "start_time": "2022-12-20T13:05:36.384Z"
   },
   {
    "duration": 6,
    "start_time": "2022-12-20T13:05:36.422Z"
   },
   {
    "duration": 39,
    "start_time": "2022-12-20T13:05:36.429Z"
   },
   {
    "duration": 11,
    "start_time": "2022-12-20T13:05:36.469Z"
   },
   {
    "duration": 10,
    "start_time": "2022-12-20T13:05:36.482Z"
   },
   {
    "duration": 6,
    "start_time": "2022-12-20T13:05:36.494Z"
   },
   {
    "duration": 16277,
    "start_time": "2022-12-20T13:05:36.501Z"
   },
   {
    "duration": 23,
    "start_time": "2022-12-20T13:05:52.779Z"
   },
   {
    "duration": 6,
    "start_time": "2022-12-20T13:05:52.804Z"
   },
   {
    "duration": 20,
    "start_time": "2022-12-20T13:05:52.812Z"
   },
   {
    "duration": 48,
    "start_time": "2022-12-20T13:05:52.834Z"
   },
   {
    "duration": 31,
    "start_time": "2022-12-20T13:05:52.884Z"
   },
   {
    "duration": 11,
    "start_time": "2022-12-20T13:05:52.917Z"
   },
   {
    "duration": 35318,
    "start_time": "2022-12-20T13:05:52.930Z"
   },
   {
    "duration": 35,
    "start_time": "2022-12-20T13:06:28.255Z"
   },
   {
    "duration": 6,
    "start_time": "2022-12-20T13:06:28.294Z"
   },
   {
    "duration": 25285,
    "start_time": "2022-12-20T13:06:28.302Z"
   },
   {
    "duration": 29,
    "start_time": "2022-12-20T13:06:53.589Z"
   },
   {
    "duration": 7,
    "start_time": "2022-12-20T13:06:53.620Z"
   },
   {
    "duration": 29,
    "start_time": "2022-12-20T13:06:53.629Z"
   },
   {
    "duration": 4,
    "start_time": "2022-12-20T13:06:53.662Z"
   },
   {
    "duration": 200015,
    "start_time": "2022-12-20T13:06:53.670Z"
   },
   {
    "duration": 5,
    "start_time": "2022-12-20T13:10:13.688Z"
   },
   {
    "duration": 2685,
    "start_time": "2022-12-20T13:10:13.696Z"
   },
   {
    "duration": 200,
    "start_time": "2022-12-20T13:10:16.384Z"
   },
   {
    "duration": 0,
    "start_time": "2022-12-20T13:10:16.586Z"
   },
   {
    "duration": 0,
    "start_time": "2022-12-20T13:10:16.588Z"
   },
   {
    "duration": 0,
    "start_time": "2022-12-20T13:10:16.590Z"
   },
   {
    "duration": 0,
    "start_time": "2022-12-20T13:10:16.592Z"
   },
   {
    "duration": 0,
    "start_time": "2022-12-20T13:10:16.594Z"
   },
   {
    "duration": 0,
    "start_time": "2022-12-20T13:10:16.596Z"
   },
   {
    "duration": 0,
    "start_time": "2022-12-20T13:10:16.597Z"
   },
   {
    "duration": 0,
    "start_time": "2022-12-20T13:10:16.599Z"
   },
   {
    "duration": 10,
    "start_time": "2022-12-20T13:12:11.205Z"
   },
   {
    "duration": 29,
    "start_time": "2022-12-20T13:12:40.708Z"
   },
   {
    "duration": 12,
    "start_time": "2022-12-20T13:13:17.667Z"
   },
   {
    "duration": 14,
    "start_time": "2022-12-20T13:13:45.316Z"
   },
   {
    "duration": 26,
    "start_time": "2022-12-20T13:13:46.546Z"
   },
   {
    "duration": 32,
    "start_time": "2022-12-20T13:13:48.470Z"
   },
   {
    "duration": 26,
    "start_time": "2022-12-20T13:13:49.114Z"
   },
   {
    "duration": 20,
    "start_time": "2022-12-20T13:15:14.788Z"
   },
   {
    "duration": 1228,
    "start_time": "2022-12-20T13:31:40.398Z"
   },
   {
    "duration": 42,
    "start_time": "2022-12-20T13:31:41.628Z"
   },
   {
    "duration": 3,
    "start_time": "2022-12-20T13:31:41.672Z"
   },
   {
    "duration": 16,
    "start_time": "2022-12-20T13:31:41.677Z"
   },
   {
    "duration": 16,
    "start_time": "2022-12-20T13:31:41.694Z"
   },
   {
    "duration": 18,
    "start_time": "2022-12-20T13:31:41.712Z"
   },
   {
    "duration": 4,
    "start_time": "2022-12-20T13:31:41.755Z"
   },
   {
    "duration": 13,
    "start_time": "2022-12-20T13:31:41.761Z"
   },
   {
    "duration": 17,
    "start_time": "2022-12-20T13:31:41.775Z"
   },
   {
    "duration": 7,
    "start_time": "2022-12-20T13:31:41.795Z"
   },
   {
    "duration": 10,
    "start_time": "2022-12-20T13:31:41.803Z"
   },
   {
    "duration": 49,
    "start_time": "2022-12-20T13:31:41.814Z"
   },
   {
    "duration": 2,
    "start_time": "2022-12-20T13:31:41.866Z"
   },
   {
    "duration": 17,
    "start_time": "2022-12-20T13:31:41.869Z"
   },
   {
    "duration": 17,
    "start_time": "2022-12-20T13:31:41.888Z"
   },
   {
    "duration": 7,
    "start_time": "2022-12-20T13:31:41.907Z"
   },
   {
    "duration": 8,
    "start_time": "2022-12-20T13:31:41.916Z"
   },
   {
    "duration": 29,
    "start_time": "2022-12-20T13:31:41.926Z"
   },
   {
    "duration": 21,
    "start_time": "2022-12-20T13:31:41.957Z"
   },
   {
    "duration": 26,
    "start_time": "2022-12-20T13:31:41.980Z"
   },
   {
    "duration": 6,
    "start_time": "2022-12-20T13:31:42.009Z"
   },
   {
    "duration": 50,
    "start_time": "2022-12-20T13:31:42.017Z"
   },
   {
    "duration": 7,
    "start_time": "2022-12-20T13:31:42.069Z"
   },
   {
    "duration": 32,
    "start_time": "2022-12-20T13:31:42.078Z"
   },
   {
    "duration": 7,
    "start_time": "2022-12-20T13:31:42.112Z"
   },
   {
    "duration": 51,
    "start_time": "2022-12-20T13:31:42.121Z"
   },
   {
    "duration": 3,
    "start_time": "2022-12-20T13:31:42.173Z"
   },
   {
    "duration": 6,
    "start_time": "2022-12-20T13:31:42.180Z"
   },
   {
    "duration": 53848,
    "start_time": "2022-12-20T13:31:42.188Z"
   },
   {
    "duration": 24,
    "start_time": "2022-12-20T13:32:36.037Z"
   },
   {
    "duration": 4,
    "start_time": "2022-12-20T13:32:36.063Z"
   },
   {
    "duration": 17,
    "start_time": "2022-12-20T13:32:36.069Z"
   },
   {
    "duration": 10,
    "start_time": "2022-12-20T13:32:36.088Z"
   },
   {
    "duration": 26,
    "start_time": "2022-12-20T13:32:36.100Z"
   },
   {
    "duration": 1574,
    "start_time": "2022-12-20T13:41:36.555Z"
   },
   {
    "duration": 165,
    "start_time": "2022-12-20T13:41:38.130Z"
   },
   {
    "duration": 3,
    "start_time": "2022-12-20T13:41:38.297Z"
   },
   {
    "duration": 19,
    "start_time": "2022-12-20T13:41:38.302Z"
   },
   {
    "duration": 17,
    "start_time": "2022-12-20T13:41:38.323Z"
   },
   {
    "duration": 20,
    "start_time": "2022-12-20T13:41:38.342Z"
   },
   {
    "duration": 4,
    "start_time": "2022-12-20T13:41:38.364Z"
   },
   {
    "duration": 20,
    "start_time": "2022-12-20T13:41:38.380Z"
   },
   {
    "duration": 13,
    "start_time": "2022-12-20T13:41:38.403Z"
   },
   {
    "duration": 7,
    "start_time": "2022-12-20T13:41:38.419Z"
   },
   {
    "duration": 9,
    "start_time": "2022-12-20T13:41:38.428Z"
   },
   {
    "duration": 52,
    "start_time": "2022-12-20T13:41:38.440Z"
   },
   {
    "duration": 5,
    "start_time": "2022-12-20T13:41:38.494Z"
   },
   {
    "duration": 24,
    "start_time": "2022-12-20T13:41:38.501Z"
   },
   {
    "duration": 16,
    "start_time": "2022-12-20T13:41:38.527Z"
   },
   {
    "duration": 4,
    "start_time": "2022-12-20T13:41:38.545Z"
   },
   {
    "duration": 14,
    "start_time": "2022-12-20T13:41:38.552Z"
   },
   {
    "duration": 11,
    "start_time": "2022-12-20T13:41:38.568Z"
   },
   {
    "duration": 34,
    "start_time": "2022-12-20T13:41:38.582Z"
   },
   {
    "duration": 18,
    "start_time": "2022-12-20T13:41:38.618Z"
   },
   {
    "duration": 6,
    "start_time": "2022-12-20T13:41:38.637Z"
   },
   {
    "duration": 23,
    "start_time": "2022-12-20T13:41:38.645Z"
   },
   {
    "duration": 31,
    "start_time": "2022-12-20T13:41:38.670Z"
   },
   {
    "duration": 24,
    "start_time": "2022-12-20T13:41:38.703Z"
   },
   {
    "duration": 8,
    "start_time": "2022-12-20T13:41:38.729Z"
   },
   {
    "duration": 29,
    "start_time": "2022-12-20T13:41:38.739Z"
   },
   {
    "duration": 9,
    "start_time": "2022-12-20T13:41:38.770Z"
   },
   {
    "duration": 12,
    "start_time": "2022-12-20T13:41:38.785Z"
   }
  ],
  "kernelspec": {
   "display_name": "Python 3 (ipykernel)",
   "language": "python",
   "name": "python3"
  },
  "language_info": {
   "codemirror_mode": {
    "name": "ipython",
    "version": 3
   },
   "file_extension": ".py",
   "mimetype": "text/x-python",
   "name": "python",
   "nbconvert_exporter": "python",
   "pygments_lexer": "ipython3",
   "version": "3.9.12"
  },
  "toc": {
   "base_numbering": 1,
   "nav_menu": {},
   "number_sections": true,
   "sideBar": true,
   "skip_h1_title": true,
   "title_cell": "Содержание",
   "title_sidebar": "Contents",
   "toc_cell": true,
   "toc_position": {},
   "toc_section_display": true,
   "toc_window_display": true
  }
 },
 "nbformat": 4,
 "nbformat_minor": 2
}

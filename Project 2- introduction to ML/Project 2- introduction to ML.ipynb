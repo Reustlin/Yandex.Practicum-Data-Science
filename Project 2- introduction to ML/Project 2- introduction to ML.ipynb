{
 "cells": [
  {
   "cell_type": "markdown",
   "metadata": {},
   "source": [
    "# Рекомендация тарифов"
   ]
  },
  {
   "cell_type": "markdown",
   "metadata": {},
   "source": [
    "В вашем распоряжении данные о поведении клиентов, которые уже перешли на эти тарифы (из проекта курса «Статистический анализ данных»). Нужно построить модель для задачи классификации, которая выберет подходящий тариф. Предобработка данных не понадобится — вы её уже сделали.\n",
    "\n",
    "Постройте модель с максимально большим значением *accuracy*. Чтобы сдать проект успешно, нужно довести долю правильных ответов по крайней мере до 0.75. Проверьте *accuracy* на тестовой выборке самостоятельно."
   ]
  },
  {
   "cell_type": "markdown",
   "metadata": {},
   "source": [
    "## Откройте и изучите файл"
   ]
  },
  {
   "cell_type": "code",
   "execution_count": 1,
   "metadata": {},
   "outputs": [],
   "source": [
    "#загрузим всё, что может пригодиться\n",
    "import pandas as pd\n",
    "from sklearn.model_selection import train_test_split\n",
    "from sklearn.linear_model import LinearRegression\n",
    "from sklearn.ensemble import RandomForestClassifier\n",
    "from sklearn.tree import DecisionTreeClassifier\n",
    "from sklearn.metrics import accuracy_score\n",
    "import matplotlib.pyplot as plt\n",
    "from tqdm import tqdm\n"
   ]
  },
  {
   "cell_type": "code",
   "execution_count": 2,
   "metadata": {},
   "outputs": [],
   "source": [
    "try:\n",
    "    df= pd.read_csv('/datasets/users_behavior.csv')\n",
    "except:\n",
    "    df=pd.read_csv('/Users/aleksandrivanov/Downloads/users_behavior.csv')"
   ]
  },
  {
   "cell_type": "code",
   "execution_count": 3,
   "metadata": {},
   "outputs": [
    {
     "data": {
      "text/html": [
       "<div>\n",
       "<style scoped>\n",
       "    .dataframe tbody tr th:only-of-type {\n",
       "        vertical-align: middle;\n",
       "    }\n",
       "\n",
       "    .dataframe tbody tr th {\n",
       "        vertical-align: top;\n",
       "    }\n",
       "\n",
       "    .dataframe thead th {\n",
       "        text-align: right;\n",
       "    }\n",
       "</style>\n",
       "<table border=\"1\" class=\"dataframe\">\n",
       "  <thead>\n",
       "    <tr style=\"text-align: right;\">\n",
       "      <th></th>\n",
       "      <th>calls</th>\n",
       "      <th>minutes</th>\n",
       "      <th>messages</th>\n",
       "      <th>mb_used</th>\n",
       "      <th>is_ultra</th>\n",
       "    </tr>\n",
       "  </thead>\n",
       "  <tbody>\n",
       "    <tr>\n",
       "      <th>0</th>\n",
       "      <td>40.0</td>\n",
       "      <td>311.90</td>\n",
       "      <td>83.0</td>\n",
       "      <td>19915.42</td>\n",
       "      <td>0</td>\n",
       "    </tr>\n",
       "    <tr>\n",
       "      <th>1</th>\n",
       "      <td>85.0</td>\n",
       "      <td>516.75</td>\n",
       "      <td>56.0</td>\n",
       "      <td>22696.96</td>\n",
       "      <td>0</td>\n",
       "    </tr>\n",
       "    <tr>\n",
       "      <th>2</th>\n",
       "      <td>77.0</td>\n",
       "      <td>467.66</td>\n",
       "      <td>86.0</td>\n",
       "      <td>21060.45</td>\n",
       "      <td>0</td>\n",
       "    </tr>\n",
       "    <tr>\n",
       "      <th>3</th>\n",
       "      <td>106.0</td>\n",
       "      <td>745.53</td>\n",
       "      <td>81.0</td>\n",
       "      <td>8437.39</td>\n",
       "      <td>1</td>\n",
       "    </tr>\n",
       "    <tr>\n",
       "      <th>4</th>\n",
       "      <td>66.0</td>\n",
       "      <td>418.74</td>\n",
       "      <td>1.0</td>\n",
       "      <td>14502.75</td>\n",
       "      <td>0</td>\n",
       "    </tr>\n",
       "    <tr>\n",
       "      <th>5</th>\n",
       "      <td>58.0</td>\n",
       "      <td>344.56</td>\n",
       "      <td>21.0</td>\n",
       "      <td>15823.37</td>\n",
       "      <td>0</td>\n",
       "    </tr>\n",
       "    <tr>\n",
       "      <th>6</th>\n",
       "      <td>57.0</td>\n",
       "      <td>431.64</td>\n",
       "      <td>20.0</td>\n",
       "      <td>3738.90</td>\n",
       "      <td>1</td>\n",
       "    </tr>\n",
       "    <tr>\n",
       "      <th>7</th>\n",
       "      <td>15.0</td>\n",
       "      <td>132.40</td>\n",
       "      <td>6.0</td>\n",
       "      <td>21911.60</td>\n",
       "      <td>0</td>\n",
       "    </tr>\n",
       "    <tr>\n",
       "      <th>8</th>\n",
       "      <td>7.0</td>\n",
       "      <td>43.39</td>\n",
       "      <td>3.0</td>\n",
       "      <td>2538.67</td>\n",
       "      <td>1</td>\n",
       "    </tr>\n",
       "    <tr>\n",
       "      <th>9</th>\n",
       "      <td>90.0</td>\n",
       "      <td>665.41</td>\n",
       "      <td>38.0</td>\n",
       "      <td>17358.61</td>\n",
       "      <td>0</td>\n",
       "    </tr>\n",
       "    <tr>\n",
       "      <th>10</th>\n",
       "      <td>82.0</td>\n",
       "      <td>560.51</td>\n",
       "      <td>20.0</td>\n",
       "      <td>9619.53</td>\n",
       "      <td>1</td>\n",
       "    </tr>\n",
       "    <tr>\n",
       "      <th>11</th>\n",
       "      <td>45.0</td>\n",
       "      <td>344.32</td>\n",
       "      <td>13.0</td>\n",
       "      <td>19898.81</td>\n",
       "      <td>0</td>\n",
       "    </tr>\n",
       "    <tr>\n",
       "      <th>12</th>\n",
       "      <td>51.0</td>\n",
       "      <td>437.13</td>\n",
       "      <td>61.0</td>\n",
       "      <td>21523.58</td>\n",
       "      <td>0</td>\n",
       "    </tr>\n",
       "    <tr>\n",
       "      <th>13</th>\n",
       "      <td>56.0</td>\n",
       "      <td>433.07</td>\n",
       "      <td>16.0</td>\n",
       "      <td>16702.36</td>\n",
       "      <td>0</td>\n",
       "    </tr>\n",
       "    <tr>\n",
       "      <th>14</th>\n",
       "      <td>108.0</td>\n",
       "      <td>587.90</td>\n",
       "      <td>0.0</td>\n",
       "      <td>14406.50</td>\n",
       "      <td>1</td>\n",
       "    </tr>\n",
       "    <tr>\n",
       "      <th>15</th>\n",
       "      <td>6.0</td>\n",
       "      <td>22.13</td>\n",
       "      <td>0.0</td>\n",
       "      <td>2710.09</td>\n",
       "      <td>0</td>\n",
       "    </tr>\n",
       "    <tr>\n",
       "      <th>16</th>\n",
       "      <td>2.0</td>\n",
       "      <td>18.73</td>\n",
       "      <td>0.0</td>\n",
       "      <td>588.89</td>\n",
       "      <td>0</td>\n",
       "    </tr>\n",
       "    <tr>\n",
       "      <th>17</th>\n",
       "      <td>26.0</td>\n",
       "      <td>163.62</td>\n",
       "      <td>4.0</td>\n",
       "      <td>16870.34</td>\n",
       "      <td>0</td>\n",
       "    </tr>\n",
       "    <tr>\n",
       "      <th>18</th>\n",
       "      <td>79.0</td>\n",
       "      <td>532.62</td>\n",
       "      <td>90.0</td>\n",
       "      <td>19908.31</td>\n",
       "      <td>0</td>\n",
       "    </tr>\n",
       "    <tr>\n",
       "      <th>19</th>\n",
       "      <td>49.0</td>\n",
       "      <td>341.67</td>\n",
       "      <td>81.0</td>\n",
       "      <td>11770.28</td>\n",
       "      <td>1</td>\n",
       "    </tr>\n",
       "  </tbody>\n",
       "</table>\n",
       "</div>"
      ],
      "text/plain": [
       "    calls  minutes  messages   mb_used  is_ultra\n",
       "0    40.0   311.90      83.0  19915.42         0\n",
       "1    85.0   516.75      56.0  22696.96         0\n",
       "2    77.0   467.66      86.0  21060.45         0\n",
       "3   106.0   745.53      81.0   8437.39         1\n",
       "4    66.0   418.74       1.0  14502.75         0\n",
       "5    58.0   344.56      21.0  15823.37         0\n",
       "6    57.0   431.64      20.0   3738.90         1\n",
       "7    15.0   132.40       6.0  21911.60         0\n",
       "8     7.0    43.39       3.0   2538.67         1\n",
       "9    90.0   665.41      38.0  17358.61         0\n",
       "10   82.0   560.51      20.0   9619.53         1\n",
       "11   45.0   344.32      13.0  19898.81         0\n",
       "12   51.0   437.13      61.0  21523.58         0\n",
       "13   56.0   433.07      16.0  16702.36         0\n",
       "14  108.0   587.90       0.0  14406.50         1\n",
       "15    6.0    22.13       0.0   2710.09         0\n",
       "16    2.0    18.73       0.0    588.89         0\n",
       "17   26.0   163.62       4.0  16870.34         0\n",
       "18   79.0   532.62      90.0  19908.31         0\n",
       "19   49.0   341.67      81.0  11770.28         1"
      ]
     },
     "execution_count": 3,
     "metadata": {},
     "output_type": "execute_result"
    }
   ],
   "source": [
    "df.head(20)"
   ]
  },
  {
   "cell_type": "code",
   "execution_count": 4,
   "metadata": {},
   "outputs": [
    {
     "name": "stdout",
     "output_type": "stream",
     "text": [
      "<class 'pandas.core.frame.DataFrame'>\n",
      "RangeIndex: 3214 entries, 0 to 3213\n",
      "Data columns (total 5 columns):\n",
      " #   Column    Non-Null Count  Dtype  \n",
      "---  ------    --------------  -----  \n",
      " 0   calls     3214 non-null   float64\n",
      " 1   minutes   3214 non-null   float64\n",
      " 2   messages  3214 non-null   float64\n",
      " 3   mb_used   3214 non-null   float64\n",
      " 4   is_ultra  3214 non-null   int64  \n",
      "dtypes: float64(4), int64(1)\n",
      "memory usage: 125.7 KB\n"
     ]
    }
   ],
   "source": [
    "df.info()"
   ]
  },
  {
   "cell_type": "code",
   "execution_count": 5,
   "metadata": {},
   "outputs": [
    {
     "data": {
      "text/html": [
       "<div>\n",
       "<style scoped>\n",
       "    .dataframe tbody tr th:only-of-type {\n",
       "        vertical-align: middle;\n",
       "    }\n",
       "\n",
       "    .dataframe tbody tr th {\n",
       "        vertical-align: top;\n",
       "    }\n",
       "\n",
       "    .dataframe thead th {\n",
       "        text-align: right;\n",
       "    }\n",
       "</style>\n",
       "<table border=\"1\" class=\"dataframe\">\n",
       "  <thead>\n",
       "    <tr style=\"text-align: right;\">\n",
       "      <th></th>\n",
       "      <th>calls</th>\n",
       "      <th>minutes</th>\n",
       "      <th>messages</th>\n",
       "      <th>mb_used</th>\n",
       "      <th>is_ultra</th>\n",
       "    </tr>\n",
       "  </thead>\n",
       "  <tbody>\n",
       "    <tr>\n",
       "      <th>calls</th>\n",
       "      <td>1.000000</td>\n",
       "      <td>0.982083</td>\n",
       "      <td>0.177385</td>\n",
       "      <td>0.286442</td>\n",
       "      <td>0.207122</td>\n",
       "    </tr>\n",
       "    <tr>\n",
       "      <th>minutes</th>\n",
       "      <td>0.982083</td>\n",
       "      <td>1.000000</td>\n",
       "      <td>0.173110</td>\n",
       "      <td>0.280967</td>\n",
       "      <td>0.206955</td>\n",
       "    </tr>\n",
       "    <tr>\n",
       "      <th>messages</th>\n",
       "      <td>0.177385</td>\n",
       "      <td>0.173110</td>\n",
       "      <td>1.000000</td>\n",
       "      <td>0.195721</td>\n",
       "      <td>0.203830</td>\n",
       "    </tr>\n",
       "    <tr>\n",
       "      <th>mb_used</th>\n",
       "      <td>0.286442</td>\n",
       "      <td>0.280967</td>\n",
       "      <td>0.195721</td>\n",
       "      <td>1.000000</td>\n",
       "      <td>0.198568</td>\n",
       "    </tr>\n",
       "    <tr>\n",
       "      <th>is_ultra</th>\n",
       "      <td>0.207122</td>\n",
       "      <td>0.206955</td>\n",
       "      <td>0.203830</td>\n",
       "      <td>0.198568</td>\n",
       "      <td>1.000000</td>\n",
       "    </tr>\n",
       "  </tbody>\n",
       "</table>\n",
       "</div>"
      ],
      "text/plain": [
       "             calls   minutes  messages   mb_used  is_ultra\n",
       "calls     1.000000  0.982083  0.177385  0.286442  0.207122\n",
       "minutes   0.982083  1.000000  0.173110  0.280967  0.206955\n",
       "messages  0.177385  0.173110  1.000000  0.195721  0.203830\n",
       "mb_used   0.286442  0.280967  0.195721  1.000000  0.198568\n",
       "is_ultra  0.207122  0.206955  0.203830  0.198568  1.000000"
      ]
     },
     "execution_count": 5,
     "metadata": {},
     "output_type": "execute_result"
    }
   ],
   "source": [
    "df.corr()"
   ]
  },
  {
   "cell_type": "markdown",
   "metadata": {},
   "source": [
    "минуты и звонки корреляция почти 1 в 1, возможно, можно что-то выбрать одно для дальнейшего исследования"
   ]
  },
  {
   "cell_type": "markdown",
   "metadata": {},
   "source": [
    "## Разбейте данные на выборки"
   ]
  },
  {
   "cell_type": "code",
   "execution_count": 6,
   "metadata": {},
   "outputs": [],
   "source": [
    "features = df.drop(['is_ultra'], axis=1)\n",
    "target = df['is_ultra']"
   ]
  },
  {
   "cell_type": "markdown",
   "metadata": {},
   "source": [
    "Разобьем переменные в 2 этапа, в начале выделим тестовую модельв 20%, а потом оставшуюся часть разобьем ещё раз, добавим вспомогательную переменную _help"
   ]
  },
  {
   "cell_type": "code",
   "execution_count": 7,
   "metadata": {},
   "outputs": [],
   "source": [
    "features_help, features_test, target_help, target_test = train_test_split(\n",
    "    features, target, test_size=0.2, random_state=12345, stratify = target)"
   ]
  },
  {
   "cell_type": "code",
   "execution_count": 8,
   "metadata": {},
   "outputs": [],
   "source": [
    "features_train, features_valid, target_train, target_valid = train_test_split(\n",
    "    features_help, target_help, test_size=0.25, random_state=12345, stratify = target_help)"
   ]
  },
  {
   "cell_type": "markdown",
   "metadata": {},
   "source": [
    "Итоговые переменные, которые будут испозоваться для обучения модели:\n",
    "тестовые, последний этап, 20%:\n",
    "features_test\n",
    "target_test\n",
    "Для обучения модели, 60%:\n",
    "features_train\n",
    "target_train\n",
    "Для промежучной проверки, 20%:\n",
    "features_valid\n",
    "target_valid"
   ]
  },
  {
   "cell_type": "code",
   "execution_count": 9,
   "metadata": {},
   "outputs": [
    {
     "data": {
      "text/html": [
       "<div>\n",
       "<style scoped>\n",
       "    .dataframe tbody tr th:only-of-type {\n",
       "        vertical-align: middle;\n",
       "    }\n",
       "\n",
       "    .dataframe tbody tr th {\n",
       "        vertical-align: top;\n",
       "    }\n",
       "\n",
       "    .dataframe thead th {\n",
       "        text-align: right;\n",
       "    }\n",
       "</style>\n",
       "<table border=\"1\" class=\"dataframe\">\n",
       "  <thead>\n",
       "    <tr style=\"text-align: right;\">\n",
       "      <th></th>\n",
       "      <th>calls</th>\n",
       "      <th>minutes</th>\n",
       "      <th>messages</th>\n",
       "      <th>mb_used</th>\n",
       "    </tr>\n",
       "  </thead>\n",
       "  <tbody>\n",
       "    <tr>\n",
       "      <th>2424</th>\n",
       "      <td>56.0</td>\n",
       "      <td>364.36</td>\n",
       "      <td>0.0</td>\n",
       "      <td>14129.94</td>\n",
       "    </tr>\n",
       "    <tr>\n",
       "      <th>2118</th>\n",
       "      <td>76.0</td>\n",
       "      <td>430.70</td>\n",
       "      <td>34.0</td>\n",
       "      <td>25138.49</td>\n",
       "    </tr>\n",
       "    <tr>\n",
       "      <th>2034</th>\n",
       "      <td>108.0</td>\n",
       "      <td>812.04</td>\n",
       "      <td>4.0</td>\n",
       "      <td>24490.28</td>\n",
       "    </tr>\n",
       "    <tr>\n",
       "      <th>2286</th>\n",
       "      <td>67.0</td>\n",
       "      <td>460.76</td>\n",
       "      <td>27.0</td>\n",
       "      <td>16626.26</td>\n",
       "    </tr>\n",
       "    <tr>\n",
       "      <th>1364</th>\n",
       "      <td>69.0</td>\n",
       "      <td>515.52</td>\n",
       "      <td>34.0</td>\n",
       "      <td>21231.90</td>\n",
       "    </tr>\n",
       "    <tr>\n",
       "      <th>...</th>\n",
       "      <td>...</td>\n",
       "      <td>...</td>\n",
       "      <td>...</td>\n",
       "      <td>...</td>\n",
       "    </tr>\n",
       "    <tr>\n",
       "      <th>2295</th>\n",
       "      <td>10.0</td>\n",
       "      <td>61.30</td>\n",
       "      <td>0.0</td>\n",
       "      <td>958.19</td>\n",
       "    </tr>\n",
       "    <tr>\n",
       "      <th>2327</th>\n",
       "      <td>58.0</td>\n",
       "      <td>370.03</td>\n",
       "      <td>29.0</td>\n",
       "      <td>33526.69</td>\n",
       "    </tr>\n",
       "    <tr>\n",
       "      <th>1983</th>\n",
       "      <td>44.0</td>\n",
       "      <td>293.54</td>\n",
       "      <td>51.0</td>\n",
       "      <td>11816.92</td>\n",
       "    </tr>\n",
       "    <tr>\n",
       "      <th>2315</th>\n",
       "      <td>48.0</td>\n",
       "      <td>341.65</td>\n",
       "      <td>0.0</td>\n",
       "      <td>19000.02</td>\n",
       "    </tr>\n",
       "    <tr>\n",
       "      <th>873</th>\n",
       "      <td>71.0</td>\n",
       "      <td>556.84</td>\n",
       "      <td>71.0</td>\n",
       "      <td>19869.21</td>\n",
       "    </tr>\n",
       "  </tbody>\n",
       "</table>\n",
       "<p>643 rows × 4 columns</p>\n",
       "</div>"
      ],
      "text/plain": [
       "      calls  minutes  messages   mb_used\n",
       "2424   56.0   364.36       0.0  14129.94\n",
       "2118   76.0   430.70      34.0  25138.49\n",
       "2034  108.0   812.04       4.0  24490.28\n",
       "2286   67.0   460.76      27.0  16626.26\n",
       "1364   69.0   515.52      34.0  21231.90\n",
       "...     ...      ...       ...       ...\n",
       "2295   10.0    61.30       0.0    958.19\n",
       "2327   58.0   370.03      29.0  33526.69\n",
       "1983   44.0   293.54      51.0  11816.92\n",
       "2315   48.0   341.65       0.0  19000.02\n",
       "873    71.0   556.84      71.0  19869.21\n",
       "\n",
       "[643 rows x 4 columns]"
      ]
     },
     "execution_count": 9,
     "metadata": {},
     "output_type": "execute_result"
    }
   ],
   "source": [
    "features_test"
   ]
  },
  {
   "cell_type": "code",
   "execution_count": 10,
   "metadata": {},
   "outputs": [
    {
     "data": {
      "text/plain": [
       "2424    0\n",
       "2118    0\n",
       "2034    1\n",
       "2286    0\n",
       "1364    0\n",
       "       ..\n",
       "2295    0\n",
       "2327    1\n",
       "1983    0\n",
       "2315    0\n",
       "873     0\n",
       "Name: is_ultra, Length: 643, dtype: int64"
      ]
     },
     "execution_count": 10,
     "metadata": {},
     "output_type": "execute_result"
    }
   ],
   "source": [
    "target_test"
   ]
  },
  {
   "cell_type": "code",
   "execution_count": 11,
   "metadata": {},
   "outputs": [
    {
     "data": {
      "text/html": [
       "<div>\n",
       "<style scoped>\n",
       "    .dataframe tbody tr th:only-of-type {\n",
       "        vertical-align: middle;\n",
       "    }\n",
       "\n",
       "    .dataframe tbody tr th {\n",
       "        vertical-align: top;\n",
       "    }\n",
       "\n",
       "    .dataframe thead th {\n",
       "        text-align: right;\n",
       "    }\n",
       "</style>\n",
       "<table border=\"1\" class=\"dataframe\">\n",
       "  <thead>\n",
       "    <tr style=\"text-align: right;\">\n",
       "      <th></th>\n",
       "      <th>calls</th>\n",
       "      <th>minutes</th>\n",
       "      <th>messages</th>\n",
       "      <th>mb_used</th>\n",
       "    </tr>\n",
       "  </thead>\n",
       "  <tbody>\n",
       "    <tr>\n",
       "      <th>1659</th>\n",
       "      <td>27.0</td>\n",
       "      <td>170.58</td>\n",
       "      <td>23.0</td>\n",
       "      <td>21798.61</td>\n",
       "    </tr>\n",
       "    <tr>\n",
       "      <th>2176</th>\n",
       "      <td>75.0</td>\n",
       "      <td>489.47</td>\n",
       "      <td>7.0</td>\n",
       "      <td>20478.94</td>\n",
       "    </tr>\n",
       "    <tr>\n",
       "      <th>108</th>\n",
       "      <td>47.0</td>\n",
       "      <td>300.12</td>\n",
       "      <td>123.0</td>\n",
       "      <td>31244.61</td>\n",
       "    </tr>\n",
       "    <tr>\n",
       "      <th>426</th>\n",
       "      <td>36.0</td>\n",
       "      <td>198.96</td>\n",
       "      <td>32.0</td>\n",
       "      <td>21596.86</td>\n",
       "    </tr>\n",
       "    <tr>\n",
       "      <th>1892</th>\n",
       "      <td>102.0</td>\n",
       "      <td>740.28</td>\n",
       "      <td>19.0</td>\n",
       "      <td>17864.12</td>\n",
       "    </tr>\n",
       "    <tr>\n",
       "      <th>...</th>\n",
       "      <td>...</td>\n",
       "      <td>...</td>\n",
       "      <td>...</td>\n",
       "      <td>...</td>\n",
       "    </tr>\n",
       "    <tr>\n",
       "      <th>2298</th>\n",
       "      <td>64.0</td>\n",
       "      <td>475.68</td>\n",
       "      <td>20.0</td>\n",
       "      <td>8540.27</td>\n",
       "    </tr>\n",
       "    <tr>\n",
       "      <th>397</th>\n",
       "      <td>80.0</td>\n",
       "      <td>547.01</td>\n",
       "      <td>54.0</td>\n",
       "      <td>21265.57</td>\n",
       "    </tr>\n",
       "    <tr>\n",
       "      <th>1439</th>\n",
       "      <td>38.0</td>\n",
       "      <td>275.74</td>\n",
       "      <td>16.0</td>\n",
       "      <td>7122.54</td>\n",
       "    </tr>\n",
       "    <tr>\n",
       "      <th>3151</th>\n",
       "      <td>84.0</td>\n",
       "      <td>622.60</td>\n",
       "      <td>32.0</td>\n",
       "      <td>16318.74</td>\n",
       "    </tr>\n",
       "    <tr>\n",
       "      <th>607</th>\n",
       "      <td>108.0</td>\n",
       "      <td>820.07</td>\n",
       "      <td>83.0</td>\n",
       "      <td>14768.14</td>\n",
       "    </tr>\n",
       "  </tbody>\n",
       "</table>\n",
       "<p>1928 rows × 4 columns</p>\n",
       "</div>"
      ],
      "text/plain": [
       "      calls  minutes  messages   mb_used\n",
       "1659   27.0   170.58      23.0  21798.61\n",
       "2176   75.0   489.47       7.0  20478.94\n",
       "108    47.0   300.12     123.0  31244.61\n",
       "426    36.0   198.96      32.0  21596.86\n",
       "1892  102.0   740.28      19.0  17864.12\n",
       "...     ...      ...       ...       ...\n",
       "2298   64.0   475.68      20.0   8540.27\n",
       "397    80.0   547.01      54.0  21265.57\n",
       "1439   38.0   275.74      16.0   7122.54\n",
       "3151   84.0   622.60      32.0  16318.74\n",
       "607   108.0   820.07      83.0  14768.14\n",
       "\n",
       "[1928 rows x 4 columns]"
      ]
     },
     "execution_count": 11,
     "metadata": {},
     "output_type": "execute_result"
    }
   ],
   "source": [
    "features_train"
   ]
  },
  {
   "cell_type": "code",
   "execution_count": 12,
   "metadata": {},
   "outputs": [
    {
     "data": {
      "text/plain": [
       "1659    0\n",
       "2176    1\n",
       "108     1\n",
       "426     0\n",
       "1892    0\n",
       "       ..\n",
       "2298    0\n",
       "397     0\n",
       "1439    0\n",
       "3151    0\n",
       "607     1\n",
       "Name: is_ultra, Length: 1928, dtype: int64"
      ]
     },
     "execution_count": 12,
     "metadata": {},
     "output_type": "execute_result"
    }
   ],
   "source": [
    "target_train"
   ]
  },
  {
   "cell_type": "code",
   "execution_count": 13,
   "metadata": {},
   "outputs": [
    {
     "data": {
      "text/html": [
       "<div>\n",
       "<style scoped>\n",
       "    .dataframe tbody tr th:only-of-type {\n",
       "        vertical-align: middle;\n",
       "    }\n",
       "\n",
       "    .dataframe tbody tr th {\n",
       "        vertical-align: top;\n",
       "    }\n",
       "\n",
       "    .dataframe thead th {\n",
       "        text-align: right;\n",
       "    }\n",
       "</style>\n",
       "<table border=\"1\" class=\"dataframe\">\n",
       "  <thead>\n",
       "    <tr style=\"text-align: right;\">\n",
       "      <th></th>\n",
       "      <th>calls</th>\n",
       "      <th>minutes</th>\n",
       "      <th>messages</th>\n",
       "      <th>mb_used</th>\n",
       "    </tr>\n",
       "  </thead>\n",
       "  <tbody>\n",
       "    <tr>\n",
       "      <th>580</th>\n",
       "      <td>43.0</td>\n",
       "      <td>321.63</td>\n",
       "      <td>42.0</td>\n",
       "      <td>25599.87</td>\n",
       "    </tr>\n",
       "    <tr>\n",
       "      <th>2272</th>\n",
       "      <td>93.0</td>\n",
       "      <td>658.89</td>\n",
       "      <td>38.0</td>\n",
       "      <td>17655.47</td>\n",
       "    </tr>\n",
       "    <tr>\n",
       "      <th>1415</th>\n",
       "      <td>82.0</td>\n",
       "      <td>507.89</td>\n",
       "      <td>88.0</td>\n",
       "      <td>17543.37</td>\n",
       "    </tr>\n",
       "    <tr>\n",
       "      <th>1356</th>\n",
       "      <td>43.0</td>\n",
       "      <td>256.90</td>\n",
       "      <td>1.0</td>\n",
       "      <td>10450.48</td>\n",
       "    </tr>\n",
       "    <tr>\n",
       "      <th>1910</th>\n",
       "      <td>111.0</td>\n",
       "      <td>728.20</td>\n",
       "      <td>37.0</td>\n",
       "      <td>14135.23</td>\n",
       "    </tr>\n",
       "    <tr>\n",
       "      <th>...</th>\n",
       "      <td>...</td>\n",
       "      <td>...</td>\n",
       "      <td>...</td>\n",
       "      <td>...</td>\n",
       "    </tr>\n",
       "    <tr>\n",
       "      <th>3133</th>\n",
       "      <td>56.0</td>\n",
       "      <td>385.68</td>\n",
       "      <td>28.0</td>\n",
       "      <td>18148.98</td>\n",
       "    </tr>\n",
       "    <tr>\n",
       "      <th>2268</th>\n",
       "      <td>10.0</td>\n",
       "      <td>78.67</td>\n",
       "      <td>8.0</td>\n",
       "      <td>4986.91</td>\n",
       "    </tr>\n",
       "    <tr>\n",
       "      <th>49</th>\n",
       "      <td>58.0</td>\n",
       "      <td>474.92</td>\n",
       "      <td>11.0</td>\n",
       "      <td>17858.59</td>\n",
       "    </tr>\n",
       "    <tr>\n",
       "      <th>1980</th>\n",
       "      <td>47.0</td>\n",
       "      <td>367.09</td>\n",
       "      <td>42.0</td>\n",
       "      <td>22329.28</td>\n",
       "    </tr>\n",
       "    <tr>\n",
       "      <th>2867</th>\n",
       "      <td>70.0</td>\n",
       "      <td>443.01</td>\n",
       "      <td>9.0</td>\n",
       "      <td>13834.84</td>\n",
       "    </tr>\n",
       "  </tbody>\n",
       "</table>\n",
       "<p>643 rows × 4 columns</p>\n",
       "</div>"
      ],
      "text/plain": [
       "      calls  minutes  messages   mb_used\n",
       "580    43.0   321.63      42.0  25599.87\n",
       "2272   93.0   658.89      38.0  17655.47\n",
       "1415   82.0   507.89      88.0  17543.37\n",
       "1356   43.0   256.90       1.0  10450.48\n",
       "1910  111.0   728.20      37.0  14135.23\n",
       "...     ...      ...       ...       ...\n",
       "3133   56.0   385.68      28.0  18148.98\n",
       "2268   10.0    78.67       8.0   4986.91\n",
       "49     58.0   474.92      11.0  17858.59\n",
       "1980   47.0   367.09      42.0  22329.28\n",
       "2867   70.0   443.01       9.0  13834.84\n",
       "\n",
       "[643 rows x 4 columns]"
      ]
     },
     "execution_count": 13,
     "metadata": {},
     "output_type": "execute_result"
    }
   ],
   "source": [
    "features_valid"
   ]
  },
  {
   "cell_type": "code",
   "execution_count": 14,
   "metadata": {},
   "outputs": [
    {
     "data": {
      "text/plain": [
       "580     1\n",
       "2272    1\n",
       "1415    1\n",
       "1356    0\n",
       "1910    0\n",
       "       ..\n",
       "3133    0\n",
       "2268    0\n",
       "49      0\n",
       "1980    0\n",
       "2867    0\n",
       "Name: is_ultra, Length: 643, dtype: int64"
      ]
     },
     "execution_count": 14,
     "metadata": {},
     "output_type": "execute_result"
    }
   ],
   "source": [
    "target_valid"
   ]
  },
  {
   "cell_type": "markdown",
   "metadata": {},
   "source": [
    "## Исследуйте модели"
   ]
  },
  {
   "cell_type": "markdown",
   "metadata": {},
   "source": [
    "В данном проекте у нас задача классификации, поэтому используем 2 варианта, это одно дерево с разной глубиной, либо \"случайный лес\""
   ]
  },
  {
   "cell_type": "code",
   "execution_count": 28,
   "metadata": {},
   "outputs": [
    {
     "name": "stderr",
     "output_type": "stream",
     "text": [
      "100%|██████████████████████████████████████████| 99/99 [00:00<00:00, 147.17it/s]"
     ]
    },
    {
     "name": "stdout",
     "output_type": "stream",
     "text": [
      "Accuracy наилучшей модели на валидационной выборке: 0.8164852255054432\n",
      "количество этажей у дерева 5\n",
      "CPU times: user 673 ms, sys: 7.87 ms, total: 681 ms\n",
      "Wall time: 679 ms\n"
     ]
    },
    {
     "name": "stderr",
     "output_type": "stream",
     "text": [
      "\n"
     ]
    }
   ],
   "source": [
    "%%time\n",
    "best_model_tr = None\n",
    "best_result = 0\n",
    "for depth in tqdm(range(1,100)):\n",
    "    model_tr = DecisionTreeClassifier(random_state=12345, max_depth=depth)\n",
    "    model_tr.fit(features_train, target_train)\n",
    "    predictions_valid = model_tr.predict(features_valid)\n",
    "    result = accuracy_score(target_valid, predictions_valid)\n",
    "    if result > best_result:\n",
    "        best_model_tr = model_tr \n",
    "        best_result = result \n",
    "        best_depth = depth\n",
    "\n",
    "print(\"Accuracy наилучшей модели на валидационной выборке:\", best_result)\n",
    "print(\"количество этажей у дерева\", best_depth)"
   ]
  },
  {
   "cell_type": "code",
   "execution_count": 16,
   "metadata": {},
   "outputs": [
    {
     "data": {
      "image/png": "[encoded data removed]",
      "text/plain": [
       "<Figure size 2520x1440 with 1 Axes>"
      ]
     },
     "metadata": {
      "needs_background": "light"
     },
     "output_type": "display_data"
    }
   ],
   "source": [
    "from sklearn import tree\n",
    "import matplotlib.pyplot as plt\n",
    "fig = plt.figure(figsize=(35,20))\n",
    "_ = tree.plot_tree(best_model_tr, \n",
    "               feature_names=features.columns.values, \n",
    "               class_names=['Smart','Ultra'],\n",
    "               filled=True,\n",
    "               fontsize = 15,\n",
    "               max_depth = 3     # Это чтобы прорисовывало 3 уровня, не глубже\n",
    "                  )"
   ]
  },
  {
   "cell_type": "markdown",
   "metadata": {},
   "source": [
    "<b>А теперь посчитаем целый лес</b>"
   ]
  },
  {
   "cell_type": "code",
   "execution_count": 27,
   "metadata": {},
   "outputs": [
    {
     "name": "stderr",
     "output_type": "stream",
     "text": [
      "100%|███████████████████████████████████████████| 19/19 [00:07<00:00,  2.52it/s]"
     ]
    },
    {
     "name": "stdout",
     "output_type": "stream",
     "text": [
      "Accuracy наилучшей модели на валидационной выборке: 0.8320373250388803\n",
      "количество деревье 10\n",
      "глубина дерева 8\n",
      "CPU times: user 7.52 s, sys: 38.7 ms, total: 7.56 s\n",
      "Wall time: 7.56 s\n"
     ]
    },
    {
     "name": "stderr",
     "output_type": "stream",
     "text": [
      "\n"
     ]
    }
   ],
   "source": [
    "%%time\n",
    "best_model_rf = None\n",
    "best_result = 0\n",
    "for est in tqdm(range(1, 20)):\n",
    "    for depth in range (1,20):\n",
    "        model_rf = RandomForestClassifier(random_state=12345, n_estimators=est, max_depth=depth) \n",
    "        model_rf.fit(features_train, target_train) \n",
    "        result = model_rf.score(features_valid, target_valid) \n",
    "        if result > best_result:\n",
    "            best_model_rf = model_rf \n",
    "            best_result = result \n",
    "            best_est = est\n",
    "            best_dep = depth\n",
    "\n",
    "print(\"Accuracy наилучшей модели на валидационной выборке:\", best_result)\n",
    "print(\"количество деревье\", best_est)\n",
    "print ('глубина дерева', best_dep)"
   ]
  },
  {
   "cell_type": "markdown",
   "metadata": {},
   "source": [
    "Случайный лес побеждает"
   ]
  },
  {
   "cell_type": "markdown",
   "metadata": {},
   "source": [
    "## Проверьте модель на тестовой выборке"
   ]
  },
  {
   "cell_type": "markdown",
   "metadata": {},
   "source": [
    "проверим случайный лес"
   ]
  },
  {
   "cell_type": "code",
   "execution_count": 18,
   "metadata": {},
   "outputs": [
    {
     "name": "stdout",
     "output_type": "stream",
     "text": [
      "0.8102643856920684\n"
     ]
    }
   ],
   "source": [
    "result = best_model_rf.score(features_test, target_test) \n",
    "print(result)"
   ]
  },
  {
   "cell_type": "markdown",
   "metadata": {},
   "source": [
    "Окончательный вывод: наилучшие результаты показала модель случайный лес с 65 деревьями"
   ]
  },
  {
   "cell_type": "code",
   "execution_count": 19,
   "metadata": {},
   "outputs": [],
   "source": [
    "#попробуем объединить переменные и сделать обучение на них\n",
    "features_new = pd.concat((features_train, features_valid), axis=0)\n",
    "target_new = pd.concat((target_train, target_valid), axis=0)"
   ]
  },
  {
   "cell_type": "code",
   "execution_count": 20,
   "metadata": {},
   "outputs": [
    {
     "name": "stdout",
     "output_type": "stream",
     "text": [
      "0.7993779160186625\n"
     ]
    }
   ],
   "source": [
    "model_new = RandomForestClassifier(random_state=12345, n_estimators=65) \n",
    "model_new.fit(features_new, target_new) \n",
    "result = model_new.score(features_test, target_test) \n",
    "print(result)\n",
    "#эксперимент не удался"
   ]
  },
  {
   "cell_type": "markdown",
   "metadata": {},
   "source": [
    "Вывод: наиболее точная модель построенная по принципу \"случайный лес\", но она же и считает дольше. Разница дерева с лесом не критично высокая, поэтому если требуется посчитать как можно быстрее, то допускается использование дерево, но если приоритете на точность, то необходимо использовать модель построенную через \"случайный лес\", требуемое значение на тестовой сборке в 0.75 модель прошла"
   ]
  },
  {
   "cell_type": "markdown",
   "metadata": {},
   "source": [
    "## (бонус) Проверьте модели на адекватность"
   ]
  },
  {
   "cell_type": "code",
   "execution_count": 21,
   "metadata": {},
   "outputs": [
    {
     "data": {
      "text/plain": [
       "0    0.693528\n",
       "1    0.306472\n",
       "Name: is_ultra, dtype: float64"
      ]
     },
     "execution_count": 21,
     "metadata": {},
     "output_type": "execute_result"
    }
   ],
   "source": [
    "# добрый день! можно подсказку, как тут делать?\n",
    "df[\"is_ultra\"].value_counts(normalize=True)\n"
   ]
  },
  {
   "cell_type": "markdown",
   "metadata": {},
   "source": [
    "Если бы наша модель предсказывала бы только всегда тариф смарт, \n",
    "то она была бы права в 69% случаев, но у нас значение выше 75%, значит относительно настолько прямолинейной модели наша адекватнее"
   ]
  },
  {
   "cell_type": "code",
   "execution_count": 42,
   "metadata": {},
   "outputs": [
    {
     "data": {
      "text/plain": [
       "0.6936236391912908"
      ]
     },
     "execution_count": 42,
     "metadata": {},
     "output_type": "execute_result"
    }
   ],
   "source": [
    "#построение модели через dummy\n",
    "from sklearn.dummy import DummyClassifier\n",
    "model_test = DummyClassifier(strategy='most_frequent', random_state=1)\n",
    "model_test.fit(features_train, target_train)\n",
    "predict= model_test.predict(features_test)\n",
    "model_test.score(predict, target_test)"
   ]
  }
 ],
 "metadata": {
  "ExecuteTimeLog": [
   {
    "duration": 47,
    "start_time": "2022-12-01T08:16:24.065Z"
   },
   {
    "duration": 1545,
    "start_time": "2022-12-01T08:16:28.420Z"
   },
   {
    "duration": 76,
    "start_time": "2022-12-01T08:16:29.968Z"
   },
   {
    "duration": 78,
    "start_time": "2022-12-01T08:16:39.245Z"
   },
   {
    "duration": 13,
    "start_time": "2022-12-01T08:21:42.061Z"
   },
   {
    "duration": 14,
    "start_time": "2022-12-01T08:21:54.127Z"
   },
   {
    "duration": 11,
    "start_time": "2022-12-01T08:22:13.149Z"
   },
   {
    "duration": 3,
    "start_time": "2022-12-01T08:22:55.536Z"
   },
   {
    "duration": 7,
    "start_time": "2022-12-01T08:34:16.627Z"
   },
   {
    "duration": 5,
    "start_time": "2022-12-01T08:36:51.551Z"
   },
   {
    "duration": 4009,
    "start_time": "2022-12-01T08:53:11.247Z"
   },
   {
    "duration": 28,
    "start_time": "2022-12-01T08:54:03.218Z"
   },
   {
    "duration": 9,
    "start_time": "2022-12-01T08:55:16.865Z"
   },
   {
    "duration": 9847,
    "start_time": "2022-12-01T08:55:47.402Z"
   },
   {
    "duration": 53,
    "start_time": "2022-12-01T08:56:09.794Z"
   },
   {
    "duration": 75,
    "start_time": "2022-12-01T09:02:07.453Z"
   },
   {
    "duration": 8013,
    "start_time": "2022-12-01T09:02:12.709Z"
   },
   {
    "duration": 12,
    "start_time": "2022-12-01T09:02:38.794Z"
   },
   {
    "duration": 4,
    "start_time": "2022-12-01T09:02:47.649Z"
   },
   {
    "duration": 13,
    "start_time": "2022-12-01T09:03:10.099Z"
   },
   {
    "duration": 5,
    "start_time": "2022-12-01T09:03:17.466Z"
   },
   {
    "duration": 12,
    "start_time": "2022-12-01T09:03:26.104Z"
   },
   {
    "duration": 5,
    "start_time": "2022-12-01T09:03:40.129Z"
   },
   {
    "duration": 2268,
    "start_time": "2022-12-01T09:04:08.173Z"
   },
   {
    "duration": 6358,
    "start_time": "2022-12-01T09:07:40.689Z"
   },
   {
    "duration": 2040,
    "start_time": "2022-12-01T09:08:05.285Z"
   },
   {
    "duration": 1936,
    "start_time": "2022-12-01T09:08:10.411Z"
   },
   {
    "duration": 90633,
    "start_time": "2022-12-01T09:08:41.736Z"
   },
   {
    "duration": 2412,
    "start_time": "2022-12-01T09:10:46.068Z"
   },
   {
    "duration": 47435,
    "start_time": "2022-12-01T09:14:22.077Z"
   },
   {
    "duration": 111590,
    "start_time": "2022-12-01T09:17:30.640Z"
   },
   {
    "duration": 247,
    "start_time": "2022-12-01T09:24:52.272Z"
   },
   {
    "duration": 11,
    "start_time": "2022-12-01T09:28:44.388Z"
   },
   {
    "duration": 1408,
    "start_time": "2022-12-01T09:29:12.194Z"
   },
   {
    "duration": 30,
    "start_time": "2022-12-01T09:29:13.603Z"
   },
   {
    "duration": 17,
    "start_time": "2022-12-01T09:29:13.635Z"
   },
   {
    "duration": 11,
    "start_time": "2022-12-01T09:29:13.653Z"
   },
   {
    "duration": 8,
    "start_time": "2022-12-01T09:29:13.665Z"
   },
   {
    "duration": 7,
    "start_time": "2022-12-01T09:29:13.674Z"
   },
   {
    "duration": 12,
    "start_time": "2022-12-01T09:29:13.683Z"
   },
   {
    "duration": 13,
    "start_time": "2022-12-01T09:29:13.696Z"
   },
   {
    "duration": 7,
    "start_time": "2022-12-01T09:29:13.710Z"
   },
   {
    "duration": 18,
    "start_time": "2022-12-01T09:29:13.719Z"
   },
   {
    "duration": 8,
    "start_time": "2022-12-01T09:29:13.739Z"
   },
   {
    "duration": 19,
    "start_time": "2022-12-01T09:29:13.748Z"
   },
   {
    "duration": 9,
    "start_time": "2022-12-01T09:29:13.768Z"
   },
   {
    "duration": 116,
    "start_time": "2022-12-01T09:29:13.779Z"
   },
   {
    "duration": 0,
    "start_time": "2022-12-01T09:29:13.897Z"
   },
   {
    "duration": 0,
    "start_time": "2022-12-01T09:29:13.898Z"
   },
   {
    "duration": 3,
    "start_time": "2022-12-01T09:29:57.793Z"
   },
   {
    "duration": 1417,
    "start_time": "2022-12-01T09:30:02.938Z"
   },
   {
    "duration": 29,
    "start_time": "2022-12-01T09:30:04.357Z"
   },
   {
    "duration": 18,
    "start_time": "2022-12-01T09:30:04.387Z"
   },
   {
    "duration": 12,
    "start_time": "2022-12-01T09:30:04.406Z"
   },
   {
    "duration": 7,
    "start_time": "2022-12-01T09:30:04.420Z"
   },
   {
    "duration": 6,
    "start_time": "2022-12-01T09:30:04.429Z"
   },
   {
    "duration": 14,
    "start_time": "2022-12-01T09:30:04.437Z"
   },
   {
    "duration": 20,
    "start_time": "2022-12-01T09:30:04.453Z"
   },
   {
    "duration": 8,
    "start_time": "2022-12-01T09:30:04.475Z"
   },
   {
    "duration": 13,
    "start_time": "2022-12-01T09:30:04.484Z"
   },
   {
    "duration": 23,
    "start_time": "2022-12-01T09:30:04.499Z"
   },
   {
    "duration": 14,
    "start_time": "2022-12-01T09:30:04.524Z"
   },
   {
    "duration": 7,
    "start_time": "2022-12-01T09:30:04.539Z"
   },
   {
    "duration": 35,
    "start_time": "2022-12-01T09:30:04.548Z"
   },
   {
    "duration": 286,
    "start_time": "2022-12-01T09:30:04.585Z"
   },
   {
    "duration": 9,
    "start_time": "2022-12-01T09:30:04.872Z"
   },
   {
    "duration": 69,
    "start_time": "2022-12-01T09:33:31.653Z"
   },
   {
    "duration": 30,
    "start_time": "2022-12-01T09:33:43.306Z"
   },
   {
    "duration": 128,
    "start_time": "2022-12-01T09:33:56.632Z"
   },
   {
    "duration": 784,
    "start_time": "2022-12-01T09:33:57.706Z"
   },
   {
    "duration": 780,
    "start_time": "2022-12-01T09:39:41.034Z"
   },
   {
    "duration": 95,
    "start_time": "2022-12-01T09:40:18.410Z"
   },
   {
    "duration": 789,
    "start_time": "2022-12-01T09:40:19.057Z"
   },
   {
    "duration": 97,
    "start_time": "2022-12-01T09:40:51.091Z"
   },
   {
    "duration": 3128,
    "start_time": "2022-12-01T09:42:54.442Z"
   },
   {
    "duration": 351,
    "start_time": "2022-12-01T09:43:01.218Z"
   },
   {
    "duration": 1443,
    "start_time": "2022-12-01T09:50:44.332Z"
   },
   {
    "duration": 30,
    "start_time": "2022-12-01T09:50:45.777Z"
   },
   {
    "duration": 16,
    "start_time": "2022-12-01T09:50:45.809Z"
   },
   {
    "duration": 11,
    "start_time": "2022-12-01T09:50:45.827Z"
   },
   {
    "duration": 4,
    "start_time": "2022-12-01T09:50:45.839Z"
   },
   {
    "duration": 16,
    "start_time": "2022-12-01T09:50:45.845Z"
   },
   {
    "duration": 9,
    "start_time": "2022-12-01T09:50:45.863Z"
   },
   {
    "duration": 18,
    "start_time": "2022-12-01T09:50:45.873Z"
   },
   {
    "duration": 7,
    "start_time": "2022-12-01T09:50:45.893Z"
   },
   {
    "duration": 12,
    "start_time": "2022-12-01T09:50:45.914Z"
   },
   {
    "duration": 8,
    "start_time": "2022-12-01T09:50:45.928Z"
   },
   {
    "duration": 17,
    "start_time": "2022-12-01T09:50:45.937Z"
   },
   {
    "duration": 9,
    "start_time": "2022-12-01T09:50:45.956Z"
   },
   {
    "duration": 385,
    "start_time": "2022-12-01T09:50:45.967Z"
   },
   {
    "duration": 182,
    "start_time": "2022-12-01T09:50:46.353Z"
   },
   {
    "duration": 1008,
    "start_time": "2022-12-01T09:50:46.536Z"
   },
   {
    "duration": 3077,
    "start_time": "2022-12-01T09:50:47.545Z"
   },
   {
    "duration": 3081,
    "start_time": "2022-12-01T09:50:50.624Z"
   },
   {
    "duration": 1773,
    "start_time": "2022-12-01T09:50:53.707Z"
   },
   {
    "duration": 18630,
    "start_time": "2022-12-01T09:50:55.481Z"
   },
   {
    "duration": 116,
    "start_time": "2022-12-01T10:02:59.270Z"
   },
   {
    "duration": 16,
    "start_time": "2022-12-01T10:05:16.118Z"
   },
   {
    "duration": 18,
    "start_time": "2022-12-01T10:06:10.301Z"
   },
   {
    "duration": 246,
    "start_time": "2022-12-01T10:06:49.749Z"
   },
   {
    "duration": 255,
    "start_time": "2022-12-01T10:07:05.598Z"
   },
   {
    "duration": 2050,
    "start_time": "2022-12-01T10:56:59.674Z"
   },
   {
    "duration": 31,
    "start_time": "2022-12-01T10:57:01.726Z"
   },
   {
    "duration": 18,
    "start_time": "2022-12-01T10:57:01.759Z"
   },
   {
    "duration": 26,
    "start_time": "2022-12-01T10:57:01.779Z"
   },
   {
    "duration": 30,
    "start_time": "2022-12-01T10:57:01.807Z"
   },
   {
    "duration": 20,
    "start_time": "2022-12-01T10:57:01.838Z"
   },
   {
    "duration": 12,
    "start_time": "2022-12-01T10:57:01.860Z"
   },
   {
    "duration": 31,
    "start_time": "2022-12-01T10:57:01.873Z"
   },
   {
    "duration": 24,
    "start_time": "2022-12-01T10:57:01.906Z"
   },
   {
    "duration": 23,
    "start_time": "2022-12-01T10:57:01.936Z"
   },
   {
    "duration": 29,
    "start_time": "2022-12-01T10:57:01.961Z"
   },
   {
    "duration": 54,
    "start_time": "2022-12-01T10:57:01.992Z"
   },
   {
    "duration": 18,
    "start_time": "2022-12-01T10:57:02.048Z"
   },
   {
    "duration": 419,
    "start_time": "2022-12-01T10:57:02.067Z"
   },
   {
    "duration": 172,
    "start_time": "2022-12-01T10:57:02.488Z"
   },
   {
    "duration": 1104,
    "start_time": "2022-12-01T10:57:02.662Z"
   },
   {
    "duration": 3626,
    "start_time": "2022-12-01T10:57:03.767Z"
   },
   {
    "duration": 3511,
    "start_time": "2022-12-01T10:57:07.395Z"
   },
   {
    "duration": 7829,
    "start_time": "2022-12-01T10:57:10.909Z"
   },
   {
    "duration": 20885,
    "start_time": "2022-12-01T10:57:18.740Z"
   },
   {
    "duration": 17,
    "start_time": "2022-12-01T10:57:39.627Z"
   },
   {
    "duration": 296,
    "start_time": "2022-12-01T10:57:39.645Z"
   },
   {
    "duration": 3,
    "start_time": "2022-12-01T10:57:39.942Z"
   },
   {
    "duration": 5,
    "start_time": "2022-12-01T12:31:15.307Z"
   },
   {
    "duration": 315,
    "start_time": "2022-12-01T12:33:58.463Z"
   },
   {
    "duration": 22,
    "start_time": "2022-12-01T12:37:01.544Z"
   },
   {
    "duration": 1397,
    "start_time": "2022-12-01T12:42:52.333Z"
   },
   {
    "duration": 31,
    "start_time": "2022-12-01T12:42:53.732Z"
   },
   {
    "duration": 31,
    "start_time": "2022-12-01T12:42:53.765Z"
   },
   {
    "duration": 35,
    "start_time": "2022-12-01T12:42:53.799Z"
   },
   {
    "duration": 39,
    "start_time": "2022-12-01T12:42:53.836Z"
   },
   {
    "duration": 33,
    "start_time": "2022-12-01T12:42:53.877Z"
   },
   {
    "duration": 26,
    "start_time": "2022-12-01T12:42:53.912Z"
   },
   {
    "duration": 20,
    "start_time": "2022-12-01T12:42:53.940Z"
   },
   {
    "duration": 33,
    "start_time": "2022-12-01T12:42:53.962Z"
   },
   {
    "duration": 21,
    "start_time": "2022-12-01T12:42:53.997Z"
   },
   {
    "duration": 22,
    "start_time": "2022-12-01T12:42:54.019Z"
   },
   {
    "duration": 41,
    "start_time": "2022-12-01T12:42:54.042Z"
   },
   {
    "duration": 24,
    "start_time": "2022-12-01T12:42:54.085Z"
   },
   {
    "duration": 1001,
    "start_time": "2022-12-01T12:42:54.110Z"
   },
   {
    "duration": 18416,
    "start_time": "2022-12-01T12:42:55.113Z"
   },
   {
    "duration": 108,
    "start_time": "2022-12-01T12:43:13.531Z"
   },
   {
    "duration": 0,
    "start_time": "2022-12-01T12:43:13.641Z"
   },
   {
    "duration": 0,
    "start_time": "2022-12-01T12:43:13.642Z"
   },
   {
    "duration": 0,
    "start_time": "2022-12-01T12:43:13.643Z"
   },
   {
    "duration": 11,
    "start_time": "2022-12-01T12:45:11.073Z"
   },
   {
    "duration": 27,
    "start_time": "2022-12-01T12:46:30.682Z"
   },
   {
    "duration": 5,
    "start_time": "2022-12-01T12:46:44.427Z"
   },
   {
    "duration": 337,
    "start_time": "2022-12-01T12:46:44.864Z"
   },
   {
    "duration": 11,
    "start_time": "2022-12-01T13:15:40.419Z"
   },
   {
    "duration": 1357,
    "start_time": "2022-12-01T13:17:28.084Z"
   },
   {
    "duration": 31,
    "start_time": "2022-12-01T13:17:29.443Z"
   },
   {
    "duration": 17,
    "start_time": "2022-12-01T13:17:29.476Z"
   },
   {
    "duration": 12,
    "start_time": "2022-12-01T13:17:29.494Z"
   },
   {
    "duration": 13,
    "start_time": "2022-12-01T13:17:29.508Z"
   },
   {
    "duration": 4,
    "start_time": "2022-12-01T13:17:29.523Z"
   },
   {
    "duration": 7,
    "start_time": "2022-12-01T13:17:29.528Z"
   },
   {
    "duration": 6,
    "start_time": "2022-12-01T13:17:29.537Z"
   },
   {
    "duration": 18,
    "start_time": "2022-12-01T13:17:29.545Z"
   },
   {
    "duration": 20,
    "start_time": "2022-12-01T13:17:29.565Z"
   },
   {
    "duration": 20,
    "start_time": "2022-12-01T13:17:29.587Z"
   },
   {
    "duration": 8,
    "start_time": "2022-12-01T13:17:29.609Z"
   },
   {
    "duration": 14,
    "start_time": "2022-12-01T13:17:29.618Z"
   },
   {
    "duration": 7,
    "start_time": "2022-12-01T13:17:29.633Z"
   },
   {
    "duration": 1018,
    "start_time": "2022-12-01T13:17:29.641Z"
   },
   {
    "duration": 18525,
    "start_time": "2022-12-01T13:17:30.661Z"
   },
   {
    "duration": 39,
    "start_time": "2022-12-01T13:17:49.188Z"
   },
   {
    "duration": 4,
    "start_time": "2022-12-01T13:17:49.229Z"
   },
   {
    "duration": 111,
    "start_time": "2022-12-01T13:17:49.235Z"
   },
   {
    "duration": 0,
    "start_time": "2022-12-01T13:17:49.347Z"
   },
   {
    "duration": 354,
    "start_time": "2022-12-01T13:18:29.307Z"
   },
   {
    "duration": 8,
    "start_time": "2022-12-01T13:21:42.659Z"
   },
   {
    "duration": 18476,
    "start_time": "2022-12-01T13:29:28.085Z"
   },
   {
    "duration": 1332,
    "start_time": "2022-12-01T13:30:11.306Z"
   },
   {
    "duration": 29,
    "start_time": "2022-12-01T13:30:12.640Z"
   },
   {
    "duration": 15,
    "start_time": "2022-12-01T13:30:12.671Z"
   },
   {
    "duration": 10,
    "start_time": "2022-12-01T13:30:12.688Z"
   },
   {
    "duration": 9,
    "start_time": "2022-12-01T13:30:12.700Z"
   },
   {
    "duration": 4,
    "start_time": "2022-12-01T13:30:12.710Z"
   },
   {
    "duration": 9,
    "start_time": "2022-12-01T13:30:12.716Z"
   },
   {
    "duration": 4,
    "start_time": "2022-12-01T13:30:12.727Z"
   },
   {
    "duration": 13,
    "start_time": "2022-12-01T13:30:12.733Z"
   },
   {
    "duration": 6,
    "start_time": "2022-12-01T13:30:12.748Z"
   },
   {
    "duration": 12,
    "start_time": "2022-12-01T13:30:12.756Z"
   },
   {
    "duration": 10,
    "start_time": "2022-12-01T13:30:12.770Z"
   },
   {
    "duration": 15,
    "start_time": "2022-12-01T13:30:12.781Z"
   },
   {
    "duration": 6,
    "start_time": "2022-12-01T13:30:12.813Z"
   },
   {
    "duration": 1012,
    "start_time": "2022-12-01T13:30:12.820Z"
   },
   {
    "duration": 18643,
    "start_time": "2022-12-01T13:30:13.834Z"
   },
   {
    "duration": 26,
    "start_time": "2022-12-01T13:30:32.479Z"
   },
   {
    "duration": 5,
    "start_time": "2022-12-01T13:30:32.514Z"
   },
   {
    "duration": 340,
    "start_time": "2022-12-01T13:30:32.520Z"
   },
   {
    "duration": 7,
    "start_time": "2022-12-01T13:30:32.862Z"
   },
   {
    "duration": 53,
    "start_time": "2022-12-01T16:10:18.482Z"
   },
   {
    "duration": 1613,
    "start_time": "2022-12-01T16:10:24.576Z"
   },
   {
    "duration": 76,
    "start_time": "2022-12-01T16:10:26.191Z"
   },
   {
    "duration": 20,
    "start_time": "2022-12-01T16:10:26.269Z"
   },
   {
    "duration": 12,
    "start_time": "2022-12-01T16:10:26.291Z"
   },
   {
    "duration": 14,
    "start_time": "2022-12-01T16:10:26.305Z"
   },
   {
    "duration": 5,
    "start_time": "2022-12-01T16:10:26.324Z"
   },
   {
    "duration": 23,
    "start_time": "2022-12-01T16:10:26.331Z"
   },
   {
    "duration": 5,
    "start_time": "2022-12-01T16:10:26.356Z"
   },
   {
    "duration": 14,
    "start_time": "2022-12-01T16:10:26.363Z"
   },
   {
    "duration": 6,
    "start_time": "2022-12-01T16:10:26.380Z"
   },
   {
    "duration": 15,
    "start_time": "2022-12-01T16:10:26.387Z"
   },
   {
    "duration": 7,
    "start_time": "2022-12-01T16:10:26.404Z"
   },
   {
    "duration": 47,
    "start_time": "2022-12-01T16:10:26.412Z"
   },
   {
    "duration": 7,
    "start_time": "2022-12-01T16:10:26.461Z"
   },
   {
    "duration": 1156,
    "start_time": "2022-12-01T16:10:26.470Z"
   },
   {
    "duration": 21925,
    "start_time": "2022-12-01T16:10:27.628Z"
   },
   {
    "duration": 23,
    "start_time": "2022-12-01T16:10:49.554Z"
   },
   {
    "duration": 2523,
    "start_time": "2022-12-01T16:10:49.580Z"
   },
   {
    "duration": 761,
    "start_time": "2022-12-01T16:10:52.104Z"
   },
   {
    "duration": 10,
    "start_time": "2022-12-01T16:10:52.868Z"
   },
   {
    "duration": 3,
    "start_time": "2022-12-01T16:14:21.328Z"
   },
   {
    "duration": 204,
    "start_time": "2022-12-01T16:15:03.777Z"
   },
   {
    "duration": 14,
    "start_time": "2022-12-01T16:15:34.001Z"
   },
   {
    "duration": 17,
    "start_time": "2022-12-01T16:16:30.606Z"
   },
   {
    "duration": 2189,
    "start_time": "2022-12-01T16:44:03.112Z"
   },
   {
    "duration": 30,
    "start_time": "2022-12-01T16:44:05.303Z"
   },
   {
    "duration": 31,
    "start_time": "2022-12-01T16:44:05.335Z"
   },
   {
    "duration": 27,
    "start_time": "2022-12-01T16:44:05.368Z"
   },
   {
    "duration": 13,
    "start_time": "2022-12-01T16:44:05.397Z"
   },
   {
    "duration": 31,
    "start_time": "2022-12-01T16:44:05.411Z"
   },
   {
    "duration": 41,
    "start_time": "2022-12-01T16:44:05.443Z"
   },
   {
    "duration": 30,
    "start_time": "2022-12-01T16:44:05.485Z"
   },
   {
    "duration": 42,
    "start_time": "2022-12-01T16:44:05.517Z"
   },
   {
    "duration": 30,
    "start_time": "2022-12-01T16:44:05.562Z"
   },
   {
    "duration": 42,
    "start_time": "2022-12-01T16:44:05.594Z"
   },
   {
    "duration": 26,
    "start_time": "2022-12-01T16:44:05.637Z"
   },
   {
    "duration": 47,
    "start_time": "2022-12-01T16:44:05.664Z"
   },
   {
    "duration": 9,
    "start_time": "2022-12-01T16:44:05.712Z"
   },
   {
    "duration": 974,
    "start_time": "2022-12-01T16:44:05.722Z"
   },
   {
    "duration": 18859,
    "start_time": "2022-12-01T16:44:06.698Z"
   },
   {
    "duration": 21,
    "start_time": "2022-12-01T16:44:25.558Z"
   },
   {
    "duration": 4,
    "start_time": "2022-12-01T16:44:25.581Z"
   },
   {
    "duration": 337,
    "start_time": "2022-12-01T16:44:25.587Z"
   },
   {
    "duration": 7,
    "start_time": "2022-12-01T16:44:25.926Z"
   },
   {
    "duration": 114,
    "start_time": "2022-12-01T16:44:36.394Z"
   },
   {
    "duration": 1098,
    "start_time": "2022-12-01T16:45:19.279Z"
   }
  ],
  "kernelspec": {
   "display_name": "Python 3 (ipykernel)",
   "language": "python",
   "name": "python3"
  },
  "language_info": {
   "codemirror_mode": {
    "name": "ipython",
    "version": 3
   },
   "file_extension": ".py",
   "mimetype": "text/x-python",
   "name": "python",
   "nbconvert_exporter": "python",
   "pygments_lexer": "ipython3",
   "version": "3.9.12"
  },
  "toc": {
   "base_numbering": 1,
   "nav_menu": {},
   "number_sections": true,
   "sideBar": true,
   "skip_h1_title": true,
   "title_cell": "Table of Contents",
   "title_sidebar": "Contents",
   "toc_cell": false,
   "toc_position": {},
   "toc_section_display": true,
   "toc_window_display": false
  }
 },
 "nbformat": 4,
 "nbformat_minor": 2
}

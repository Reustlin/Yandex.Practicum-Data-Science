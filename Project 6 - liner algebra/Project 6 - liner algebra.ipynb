{
 "cells": [
  {
   "cell_type": "markdown",
   "metadata": {
    "toc": true
   },
   "source": [
    "<h1>Содержание<span class=\"tocSkip\"></span></h1>\n",
    "<div class=\"toc\"><ul class=\"toc-item\"><li><span><a href=\"#Загрузка-данных\" data-toc-modified-id=\"Загрузка-данных-1\"><span class=\"toc-item-num\">1&nbsp;&nbsp;</span>Загрузка данных</a></span></li><li><span><a href=\"#Умножение-матриц\" data-toc-modified-id=\"Умножение-матриц-2\"><span class=\"toc-item-num\">2&nbsp;&nbsp;</span>Умножение матриц</a></span></li><li><span><a href=\"#Алгоритм-преобразования\" data-toc-modified-id=\"Алгоритм-преобразования-3\"><span class=\"toc-item-num\">3&nbsp;&nbsp;</span>Алгоритм преобразования</a></span></li><li><span><a href=\"#Проверка-алгоритма\" data-toc-modified-id=\"Проверка-алгоритма-4\"><span class=\"toc-item-num\">4&nbsp;&nbsp;</span>Проверка алгоритма</a></span></li><li><span><a href=\"#Чек-лист-проверки\" data-toc-modified-id=\"Чек-лист-проверки-5\"><span class=\"toc-item-num\">5&nbsp;&nbsp;</span>Чек-лист проверки</a></span></li></ul></div>"
   ]
  },
  {
   "cell_type": "markdown",
   "metadata": {},
   "source": [
    "# Защита персональных данных клиентов"
   ]
  },
  {
   "cell_type": "markdown",
   "metadata": {},
   "source": [
    "Вам нужно защитить данные клиентов страховой компании «Хоть потоп». Разработайте такой метод преобразования данных, чтобы по ним было сложно восстановить персональную информацию. Обоснуйте корректность его работы.\n",
    "\n",
    "Нужно защитить данные, чтобы при преобразовании качество моделей машинного обучения не ухудшилось. Подбирать наилучшую модель не требуется."
   ]
  },
  {
   "cell_type": "markdown",
   "metadata": {},
   "source": [
    "## Загрузка данных"
   ]
  },
  {
   "cell_type": "code",
   "execution_count": 1,
   "metadata": {},
   "outputs": [],
   "source": [
    "import pandas as pd\n",
    "import numpy as np\n",
    "import seaborn as sns\n",
    "\n",
    "from sklearn.model_selection import train_test_split\n",
    "from sklearn.linear_model import LinearRegression\n",
    "\n",
    "from sklearn.metrics import r2_score"
   ]
  },
  {
   "cell_type": "code",
   "execution_count": 2,
   "metadata": {},
   "outputs": [],
   "source": [
    "df = pd.read_csv('/datasets/insurance.csv')"
   ]
  },
  {
   "cell_type": "code",
   "execution_count": 3,
   "metadata": {},
   "outputs": [
    {
     "name": "stdout",
     "output_type": "stream",
     "text": [
      "<class 'pandas.core.frame.DataFrame'>\n",
      "RangeIndex: 5000 entries, 0 to 4999\n",
      "Data columns (total 5 columns):\n",
      " #   Column             Non-Null Count  Dtype  \n",
      "---  ------             --------------  -----  \n",
      " 0   Пол                5000 non-null   int64  \n",
      " 1   Возраст            5000 non-null   float64\n",
      " 2   Зарплата           5000 non-null   float64\n",
      " 3   Члены семьи        5000 non-null   int64  \n",
      " 4   Страховые выплаты  5000 non-null   int64  \n",
      "dtypes: float64(2), int64(3)\n",
      "memory usage: 195.4 KB\n"
     ]
    }
   ],
   "source": [
    "df.info()"
   ]
  },
  {
   "cell_type": "code",
   "execution_count": 4,
   "metadata": {},
   "outputs": [
    {
     "data": {
      "text/html": [
       "<div>\n",
       "<style scoped>\n",
       "    .dataframe tbody tr th:only-of-type {\n",
       "        vertical-align: middle;\n",
       "    }\n",
       "\n",
       "    .dataframe tbody tr th {\n",
       "        vertical-align: top;\n",
       "    }\n",
       "\n",
       "    .dataframe thead th {\n",
       "        text-align: right;\n",
       "    }\n",
       "</style>\n",
       "<table border=\"1\" class=\"dataframe\">\n",
       "  <thead>\n",
       "    <tr style=\"text-align: right;\">\n",
       "      <th></th>\n",
       "      <th>Пол</th>\n",
       "      <th>Возраст</th>\n",
       "      <th>Зарплата</th>\n",
       "      <th>Члены семьи</th>\n",
       "      <th>Страховые выплаты</th>\n",
       "    </tr>\n",
       "  </thead>\n",
       "  <tbody>\n",
       "    <tr>\n",
       "      <th>0</th>\n",
       "      <td>1</td>\n",
       "      <td>41.0</td>\n",
       "      <td>49600.0</td>\n",
       "      <td>1</td>\n",
       "      <td>0</td>\n",
       "    </tr>\n",
       "    <tr>\n",
       "      <th>1</th>\n",
       "      <td>0</td>\n",
       "      <td>46.0</td>\n",
       "      <td>38000.0</td>\n",
       "      <td>1</td>\n",
       "      <td>1</td>\n",
       "    </tr>\n",
       "    <tr>\n",
       "      <th>2</th>\n",
       "      <td>0</td>\n",
       "      <td>29.0</td>\n",
       "      <td>21000.0</td>\n",
       "      <td>0</td>\n",
       "      <td>0</td>\n",
       "    </tr>\n",
       "    <tr>\n",
       "      <th>3</th>\n",
       "      <td>0</td>\n",
       "      <td>21.0</td>\n",
       "      <td>41700.0</td>\n",
       "      <td>2</td>\n",
       "      <td>0</td>\n",
       "    </tr>\n",
       "    <tr>\n",
       "      <th>4</th>\n",
       "      <td>1</td>\n",
       "      <td>28.0</td>\n",
       "      <td>26100.0</td>\n",
       "      <td>0</td>\n",
       "      <td>0</td>\n",
       "    </tr>\n",
       "  </tbody>\n",
       "</table>\n",
       "</div>"
      ],
      "text/plain": [
       "   Пол  Возраст  Зарплата  Члены семьи  Страховые выплаты\n",
       "0    1     41.0   49600.0            1                  0\n",
       "1    0     46.0   38000.0            1                  1\n",
       "2    0     29.0   21000.0            0                  0\n",
       "3    0     21.0   41700.0            2                  0\n",
       "4    1     28.0   26100.0            0                  0"
      ]
     },
     "execution_count": 4,
     "metadata": {},
     "output_type": "execute_result"
    }
   ],
   "source": [
    "df.head()"
   ]
  },
  {
   "cell_type": "code",
   "execution_count": 5,
   "metadata": {},
   "outputs": [
    {
     "data": {
      "text/html": [
       "<div>\n",
       "<style scoped>\n",
       "    .dataframe tbody tr th:only-of-type {\n",
       "        vertical-align: middle;\n",
       "    }\n",
       "\n",
       "    .dataframe tbody tr th {\n",
       "        vertical-align: top;\n",
       "    }\n",
       "\n",
       "    .dataframe thead th {\n",
       "        text-align: right;\n",
       "    }\n",
       "</style>\n",
       "<table border=\"1\" class=\"dataframe\">\n",
       "  <thead>\n",
       "    <tr style=\"text-align: right;\">\n",
       "      <th></th>\n",
       "      <th>Пол</th>\n",
       "      <th>Возраст</th>\n",
       "      <th>Зарплата</th>\n",
       "      <th>Члены семьи</th>\n",
       "      <th>Страховые выплаты</th>\n",
       "    </tr>\n",
       "  </thead>\n",
       "  <tbody>\n",
       "    <tr>\n",
       "      <th>count</th>\n",
       "      <td>5000.000000</td>\n",
       "      <td>5000.000000</td>\n",
       "      <td>5000.000000</td>\n",
       "      <td>5000.000000</td>\n",
       "      <td>5000.000000</td>\n",
       "    </tr>\n",
       "    <tr>\n",
       "      <th>mean</th>\n",
       "      <td>0.499000</td>\n",
       "      <td>30.952800</td>\n",
       "      <td>39916.360000</td>\n",
       "      <td>1.194200</td>\n",
       "      <td>0.148000</td>\n",
       "    </tr>\n",
       "    <tr>\n",
       "      <th>std</th>\n",
       "      <td>0.500049</td>\n",
       "      <td>8.440807</td>\n",
       "      <td>9900.083569</td>\n",
       "      <td>1.091387</td>\n",
       "      <td>0.463183</td>\n",
       "    </tr>\n",
       "    <tr>\n",
       "      <th>min</th>\n",
       "      <td>0.000000</td>\n",
       "      <td>18.000000</td>\n",
       "      <td>5300.000000</td>\n",
       "      <td>0.000000</td>\n",
       "      <td>0.000000</td>\n",
       "    </tr>\n",
       "    <tr>\n",
       "      <th>25%</th>\n",
       "      <td>0.000000</td>\n",
       "      <td>24.000000</td>\n",
       "      <td>33300.000000</td>\n",
       "      <td>0.000000</td>\n",
       "      <td>0.000000</td>\n",
       "    </tr>\n",
       "    <tr>\n",
       "      <th>50%</th>\n",
       "      <td>0.000000</td>\n",
       "      <td>30.000000</td>\n",
       "      <td>40200.000000</td>\n",
       "      <td>1.000000</td>\n",
       "      <td>0.000000</td>\n",
       "    </tr>\n",
       "    <tr>\n",
       "      <th>75%</th>\n",
       "      <td>1.000000</td>\n",
       "      <td>37.000000</td>\n",
       "      <td>46600.000000</td>\n",
       "      <td>2.000000</td>\n",
       "      <td>0.000000</td>\n",
       "    </tr>\n",
       "    <tr>\n",
       "      <th>max</th>\n",
       "      <td>1.000000</td>\n",
       "      <td>65.000000</td>\n",
       "      <td>79000.000000</td>\n",
       "      <td>6.000000</td>\n",
       "      <td>5.000000</td>\n",
       "    </tr>\n",
       "  </tbody>\n",
       "</table>\n",
       "</div>"
      ],
      "text/plain": [
       "               Пол      Возраст      Зарплата  Члены семьи  Страховые выплаты\n",
       "count  5000.000000  5000.000000   5000.000000  5000.000000        5000.000000\n",
       "mean      0.499000    30.952800  39916.360000     1.194200           0.148000\n",
       "std       0.500049     8.440807   9900.083569     1.091387           0.463183\n",
       "min       0.000000    18.000000   5300.000000     0.000000           0.000000\n",
       "25%       0.000000    24.000000  33300.000000     0.000000           0.000000\n",
       "50%       0.000000    30.000000  40200.000000     1.000000           0.000000\n",
       "75%       1.000000    37.000000  46600.000000     2.000000           0.000000\n",
       "max       1.000000    65.000000  79000.000000     6.000000           5.000000"
      ]
     },
     "execution_count": 5,
     "metadata": {},
     "output_type": "execute_result"
    }
   ],
   "source": [
    "df.describe()"
   ]
  },
  {
   "cell_type": "code",
   "execution_count": 6,
   "metadata": {},
   "outputs": [
    {
     "data": {
      "text/plain": [
       "Пол                  0\n",
       "Возраст              0\n",
       "Зарплата             0\n",
       "Члены семьи          0\n",
       "Страховые выплаты    0\n",
       "dtype: int64"
      ]
     },
     "execution_count": 6,
     "metadata": {},
     "output_type": "execute_result"
    }
   ],
   "source": [
    "df.isna().sum()"
   ]
  },
  {
   "cell_type": "code",
   "execution_count": 7,
   "metadata": {},
   "outputs": [
    {
     "data": {
      "text/plain": [
       "153"
      ]
     },
     "execution_count": 7,
     "metadata": {},
     "output_type": "execute_result"
    }
   ],
   "source": [
    "df.duplicated().sum()"
   ]
  },
  {
   "cell_type": "code",
   "execution_count": 8,
   "metadata": {},
   "outputs": [
    {
     "data": {
      "text/html": [
       "<div>\n",
       "<style scoped>\n",
       "    .dataframe tbody tr th:only-of-type {\n",
       "        vertical-align: middle;\n",
       "    }\n",
       "\n",
       "    .dataframe tbody tr th {\n",
       "        vertical-align: top;\n",
       "    }\n",
       "\n",
       "    .dataframe thead th {\n",
       "        text-align: right;\n",
       "    }\n",
       "</style>\n",
       "<table border=\"1\" class=\"dataframe\">\n",
       "  <thead>\n",
       "    <tr style=\"text-align: right;\">\n",
       "      <th></th>\n",
       "      <th>Пол</th>\n",
       "      <th>Возраст</th>\n",
       "      <th>Зарплата</th>\n",
       "      <th>Члены семьи</th>\n",
       "      <th>Страховые выплаты</th>\n",
       "    </tr>\n",
       "  </thead>\n",
       "  <tbody>\n",
       "    <tr>\n",
       "      <th>Пол</th>\n",
       "      <td>1.000000</td>\n",
       "      <td>0.002074</td>\n",
       "      <td>0.014910</td>\n",
       "      <td>-0.008991</td>\n",
       "      <td>0.010140</td>\n",
       "    </tr>\n",
       "    <tr>\n",
       "      <th>Возраст</th>\n",
       "      <td>0.002074</td>\n",
       "      <td>1.000000</td>\n",
       "      <td>-0.019093</td>\n",
       "      <td>-0.006692</td>\n",
       "      <td>0.651030</td>\n",
       "    </tr>\n",
       "    <tr>\n",
       "      <th>Зарплата</th>\n",
       "      <td>0.014910</td>\n",
       "      <td>-0.019093</td>\n",
       "      <td>1.000000</td>\n",
       "      <td>-0.030296</td>\n",
       "      <td>-0.014963</td>\n",
       "    </tr>\n",
       "    <tr>\n",
       "      <th>Члены семьи</th>\n",
       "      <td>-0.008991</td>\n",
       "      <td>-0.006692</td>\n",
       "      <td>-0.030296</td>\n",
       "      <td>1.000000</td>\n",
       "      <td>-0.036290</td>\n",
       "    </tr>\n",
       "    <tr>\n",
       "      <th>Страховые выплаты</th>\n",
       "      <td>0.010140</td>\n",
       "      <td>0.651030</td>\n",
       "      <td>-0.014963</td>\n",
       "      <td>-0.036290</td>\n",
       "      <td>1.000000</td>\n",
       "    </tr>\n",
       "  </tbody>\n",
       "</table>\n",
       "</div>"
      ],
      "text/plain": [
       "                        Пол   Возраст  Зарплата  Члены семьи  \\\n",
       "Пол                1.000000  0.002074  0.014910    -0.008991   \n",
       "Возраст            0.002074  1.000000 -0.019093    -0.006692   \n",
       "Зарплата           0.014910 -0.019093  1.000000    -0.030296   \n",
       "Члены семьи       -0.008991 -0.006692 -0.030296     1.000000   \n",
       "Страховые выплаты  0.010140  0.651030 -0.014963    -0.036290   \n",
       "\n",
       "                   Страховые выплаты  \n",
       "Пол                         0.010140  \n",
       "Возраст                     0.651030  \n",
       "Зарплата                   -0.014963  \n",
       "Члены семьи                -0.036290  \n",
       "Страховые выплаты           1.000000  "
      ]
     },
     "execution_count": 8,
     "metadata": {},
     "output_type": "execute_result"
    }
   ],
   "source": [
    "df.corr()"
   ]
  },
  {
   "cell_type": "markdown",
   "metadata": {},
   "source": [
    "**Предварительная оценка данных**\\\n",
    "Загрузили данные, в целом везде тип данных либо int, либо float, в целом, нас устраивает для работы оба варианта. Но зачем нам нули после точки в возрасте и зарплате, переведем всё к int\\\n",
    "Лишних столбцов, например, фамилия/имя нет, поэтому что-то выкидывать по столбцам из таблицы нечего.\\\n",
    "Отсутсвуют пропуски, отедельное спасибо менеджеру и разработчику, подготовили среду\\заполняют данные по клиентам корректно\\\n",
    "Есть явные дубликаты, откуда они появились не понятно, но для обучения они нам не нужны, удалим их. \\\n",
    "Таблица обезличена, в целом данные могут совпадать по разным типам клиентов, поэтому искать неявные дубликаты смысла нет\\\n",
    "Судя по describe явных выбросов в данных нет, нет людей с возрастом 270 лет, максимальная зарплата грустно конечно, 79 тысяч, количество людей в семье 6 человек, тоже выглядит адекватно. Минимальный возраст 18 лет, здесь всё хорошо\\\n",
    "Корреляция близкая к высокой между выплатами и возрастом (высокая от 0.7, у нас 0.65)"
   ]
  },
  {
   "attachments": {
    "image.png": {
     "image/png": "[encoded data removed]"
    }
   },
   "cell_type": "markdown",
   "metadata": {},
   "source": [
    "![image.png](attachment:image.png)"
   ]
  },
  {
   "attachments": {
    "image.png": {
     "image/png": "[encoded data removed]"
    }
   },
   "cell_type": "markdown",
   "metadata": {},
   "source": [
    "![image.png](attachment:image.png)"
   ]
  },
  {
   "cell_type": "code",
   "execution_count": 9,
   "metadata": {},
   "outputs": [],
   "source": [
    "df = df.drop_duplicates()\n",
    "df['Возраст'] = df['Возраст'].astype(\"int64\")\n",
    "df['Зарплата'] = df['Зарплата'].astype(\"int64\")"
   ]
  },
  {
   "cell_type": "code",
   "execution_count": 10,
   "metadata": {
    "scrolled": true
   },
   "outputs": [
    {
     "name": "stdout",
     "output_type": "stream",
     "text": [
      "<class 'pandas.core.frame.DataFrame'>\n",
      "Int64Index: 4847 entries, 0 to 4999\n",
      "Data columns (total 5 columns):\n",
      " #   Column             Non-Null Count  Dtype\n",
      "---  ------             --------------  -----\n",
      " 0   Пол                4847 non-null   int64\n",
      " 1   Возраст            4847 non-null   int64\n",
      " 2   Зарплата           4847 non-null   int64\n",
      " 3   Члены семьи        4847 non-null   int64\n",
      " 4   Страховые выплаты  4847 non-null   int64\n",
      "dtypes: int64(5)\n",
      "memory usage: 227.2 KB\n"
     ]
    }
   ],
   "source": [
    "df.info() #с ошибкой, но всё стало форматом int64"
   ]
  },
  {
   "cell_type": "code",
   "execution_count": 11,
   "metadata": {},
   "outputs": [
    {
     "data": {
      "text/plain": [
       "0"
      ]
     },
     "execution_count": 11,
     "metadata": {},
     "output_type": "execute_result"
    }
   ],
   "source": [
    "df.duplicated().sum()# явные дубликаты удалили"
   ]
  },
  {
   "cell_type": "markdown",
   "metadata": {},
   "source": [
    "***Вывод по разделу***\n",
    "\n",
    "Загрузили данные, в целом везде тип данных либо int, либо float, в целом, нас устраивает для работы оба варианта. Но зачем нам нули после точки в возрасте и зарплате, перевели всё к int\\\n",
    "Лишних столбцов, например, фамилия/имя нет, поэтому что-то выкидывать по столбцам из таблицы нечего.\\\n",
    "Отсутсвуют пропуски, отедельное спасибо менеджеру и разработчику, подготовили среду\\заполняют данные по клиентам корректно.\\\n",
    "Есть явные дубликаты, откуда они появились не понятно, но для обучения они нам не нужны, удалили их.\\\n",
    "Таблица обезличена, в целом данные могут совпадать по разным типам клиентов, поэтому искать неявные дубликаты смысла нет\\\n",
    "Судя по describe явных выбросов в данных нет, нет людей с возрастом 270 лет, максимальная зарплата грустно конечно, 79 тысяч, количество людей в семье 6 человек, тоже выглядит адекватно. Минимальный возраст 18 лет, здесь всё хорошо\\\n",
    "Корреляция близкая к высокой между выплатами и возрастом, но пока попадает в границу средней, поэтому никакой признак не удаляем. (высокая от 0.7, у нас 0.65)\n"
   ]
  },
  {
   "cell_type": "code",
   "execution_count": 12,
   "metadata": {},
   "outputs": [
    {
     "data": {
      "text/plain": [
       "<AxesSubplot:>"
      ]
     },
     "execution_count": 12,
     "metadata": {},
     "output_type": "execute_result"
    },
    {
     "data": {
      "image/png": "[encoded data removed]",
      "text/plain": [
       "<Figure size 432x288 with 2 Axes>"
      ]
     },
     "metadata": {
      "needs_background": "light"
     },
     "output_type": "display_data"
    }
   ],
   "source": [
    "sns.heatmap(df.corr(), annot=True) #как  вариант, чтоб было сразу и быстро видно"
   ]
  },
  {
   "cell_type": "code",
   "execution_count": 13,
   "metadata": {},
   "outputs": [
    {
     "data": {
      "text/plain": [
       "<AxesSubplot:>"
      ]
     },
     "execution_count": 13,
     "metadata": {},
     "output_type": "execute_result"
    },
    {
     "data": {
      "image/png": "[encoded data removed]",
      "text/plain": [
       "<Figure size 432x288 with 1 Axes>"
      ]
     },
     "metadata": {
      "needs_background": "light"
     },
     "output_type": "display_data"
    }
   ],
   "source": [
    "df['Пол'].hist()"
   ]
  },
  {
   "cell_type": "code",
   "execution_count": 14,
   "metadata": {
    "scrolled": true
   },
   "outputs": [
    {
     "data": {
      "text/plain": [
       "<AxesSubplot:>"
      ]
     },
     "execution_count": 14,
     "metadata": {},
     "output_type": "execute_result"
    },
    {
     "data": {
      "image/png": "[encoded data removed]",
      "text/plain": [
       "<Figure size 432x288 with 1 Axes>"
      ]
     },
     "metadata": {
      "needs_background": "light"
     },
     "output_type": "display_data"
    }
   ],
   "source": [
    "df['Возраст'].hist()"
   ]
  },
  {
   "cell_type": "markdown",
   "metadata": {},
   "source": [
    "## Умножение матриц"
   ]
  },
  {
   "cell_type": "markdown",
   "metadata": {},
   "source": [
    "В этом задании вы можете записывать формулы в *Jupyter Notebook.*\n",
    "\n",
    "Чтобы записать формулу внутри текста, окружите её символами доллара \\\\$; если снаружи —  двойными символами \\\\$\\\\$. Эти формулы записываются на языке вёрстки *LaTeX.* \n",
    "\n",
    "Для примера мы записали формулы линейной регрессии. Можете их скопировать и отредактировать, чтобы решить задачу.\n",
    "\n",
    "Работать в *LaTeX* необязательно."
   ]
  },
  {
   "cell_type": "markdown",
   "metadata": {},
   "source": [
    "Обозначения:\n",
    "\n",
    "- $X$ — матрица признаков (нулевой столбец состоит из единиц)\n",
    "\n",
    "- $y$ — вектор целевого признака\n",
    "\n",
    "- $P$ — матрица, на которую умножаются признаки\n",
    "\n",
    "- $w$ — вектор весов линейной регрессии (нулевой элемент равен сдвигу)"
   ]
  },
  {
   "cell_type": "markdown",
   "metadata": {},
   "source": [
    "Предсказания:\n",
    "\n",
    "$$\n",
    "a = Xw\n",
    "$$\n",
    "\n",
    "Задача обучения:\n",
    "\n",
    "$$\n",
    "w = \\arg\\min_w MSE(Xw, y)\n",
    "$$\n",
    "\n",
    "Формула обучения:\n",
    "\n",
    "$$\n",
    "w = (X^T X)^{-1} X^T y\n",
    "$$"
   ]
  },
  {
   "cell_type": "markdown",
   "metadata": {},
   "source": [
    "**Вопрос:** Признаки умножают на обратимую матрицу. Изменится ли качество линейной регрессии? (Её можно обучить заново.)\\\n",
    "\n",
    "**Ответ:** не изменится\n",
    "\n",
    "**Обоснование:** хотел предложить обойтись только практическим путем, но, мне кажется, идея не прокатит =)"
   ]
  },
  {
   "cell_type": "markdown",
   "metadata": {},
   "source": [
    "Для обоснования этого явления нам надо вспомнить 4 свойства матриц:\n",
    "\n",
    "$$\n",
    "(A*B)^{T}=A^{T}*B^{T}\n",
    "$$"
   ]
  },
  {
   "cell_type": "markdown",
   "metadata": {},
   "source": [
    "$$\n",
    "(A*B)^{-1}=B^{-1}*A^{-1}\n",
    "$$"
   ]
  },
  {
   "cell_type": "markdown",
   "metadata": {},
   "source": [
    "$$\n",
    "(A*A)^{-1}=A^{-1}*A=E\n",
    "$$"
   ]
  },
  {
   "cell_type": "markdown",
   "metadata": {},
   "source": [
    "$$\n",
    "AE=EA=A\n",
    "$$"
   ]
  },
  {
   "cell_type": "markdown",
   "metadata": {},
   "source": [
    "$$\n",
    "a = Xw\n",
    "$$\n",
    "\n",
    "Признак Х умножим на обратимую матрицу Р \n",
    "\n",
    "$$\n",
    "a1=XPw1\n",
    "$$"
   ]
  },
  {
   "cell_type": "markdown",
   "metadata": {},
   "source": [
    "$$\n",
    "w1 = ((XP)^{T}*XP)^{-1}(XP)^{T}y\n",
    "$$\n",
    "\n",
    "Подставим данные w1 из формулы обучения в формулу предсказания и раскроем скобки:\n",
    "\n",
    "$$\n",
    "    a1=XP((XP^{T}*XP)^{-1}*(XP)^{T} y = XP(X^{T}*P^{T}*XP)^{-1}X^{T}*P^{T}y\n",
    "$$"
   ]
  },
  {
   "cell_type": "markdown",
   "metadata": {},
   "source": [
    "Вынесем за скобки P в степени Т и Р"
   ]
  },
  {
   "cell_type": "markdown",
   "metadata": {},
   "source": [
    "$$\n",
    "a1 = XPP^{-1}*(X^{T}*X)^{-1}*(P^{T})^{-1}*P^{T}*X^{T} y\n",
    "$$"
   ]
  },
  {
   "cell_type": "markdown",
   "metadata": {},
   "source": [
    "Р на Р в -1 степени дает единичную матрицу, так же Р в степени Т на Р в степени Т и в -1 тоже дает единичную матрицу, а при умножении матрицы на единичную, получается та же матрица, поэтому сократим!"
   ]
  },
  {
   "cell_type": "markdown",
   "metadata": {},
   "source": [
    "$$\n",
    "a1 = X(X^{T}*X)^{-1}* X^{T} y\n",
    "$$"
   ]
  },
  {
   "cell_type": "markdown",
   "metadata": {},
   "source": [
    "$$\n",
    "w = (X^T X)^{-1} X^T y\n",
    "$$"
   ]
  },
  {
   "cell_type": "markdown",
   "metadata": {},
   "source": [
    "$$\n",
    "a1=Xw = a\n",
    "$$"
   ]
  },
  {
   "cell_type": "markdown",
   "metadata": {},
   "source": [
    "Мы доказали, что а = а1, а значит модель не изменится, теперь проверим на практике!"
   ]
  },
  {
   "cell_type": "markdown",
   "metadata": {},
   "source": [
    "## Алгоритм преобразования"
   ]
  },
  {
   "cell_type": "markdown",
   "metadata": {},
   "source": [
    "**Алгоритм**\n",
    "\n",
    "Мы создадим матрицу, в которая должна быть с одной стороны квадратная, с другой соответствовать нашему количеству признаков, в итоге делаем матрицу 4 на 4 из случайных цифр\\\n",
    "Далее мы проверяем эту матрицу на обратимость и домнажамем наши признаки на эту матрицу\n",
    "\n",
    "Важный момент, матрица должна подходить под условие, что для неё существует обратная матрица, иначе мы никогда не сможем расшифровать наши данные \n",
    "$$\n",
    "С= Х*Р\n",
    "$$\n",
    "$$\n",
    "Х=С*Р^{-1}\n",
    "$$\n",
    "\n",
    "Где Х - исходные признаки\\\n",
    "Р - случайная матрица\\\n",
    "С - зашифрованные признаки\n",
    "\n",
    "\n"
   ]
  },
  {
   "cell_type": "markdown",
   "metadata": {},
   "source": [
    "**Обоснование**\n",
    "\n",
    "Эти действия нам нужны для защиты персональных данных клиентов, на случай, если всё-таки произойдет утечка данных, злоумышленникам они были бы бесполезны (а не как случай в Яндекс.Еде пару лет назад :-) )"
   ]
  },
  {
   "cell_type": "markdown",
   "metadata": {},
   "source": [
    "## Проверка алгоритма"
   ]
  },
  {
   "cell_type": "code",
   "execution_count": 15,
   "metadata": {},
   "outputs": [],
   "source": [
    "features = df.drop([\"Страховые выплаты\"], axis=1)\n",
    "target = df[\"Страховые выплаты\"]"
   ]
  },
  {
   "cell_type": "code",
   "execution_count": 16,
   "metadata": {},
   "outputs": [
    {
     "name": "stdout",
     "output_type": "stream",
     "text": [
      "<class 'pandas.core.frame.DataFrame'>\n",
      "Int64Index: 4847 entries, 0 to 4999\n",
      "Data columns (total 4 columns):\n",
      " #   Column       Non-Null Count  Dtype\n",
      "---  ------       --------------  -----\n",
      " 0   Пол          4847 non-null   int64\n",
      " 1   Возраст      4847 non-null   int64\n",
      " 2   Зарплата     4847 non-null   int64\n",
      " 3   Члены семьи  4847 non-null   int64\n",
      "dtypes: int64(4)\n",
      "memory usage: 189.3 KB\n"
     ]
    }
   ],
   "source": [
    "features.info()"
   ]
  },
  {
   "cell_type": "code",
   "execution_count": 17,
   "metadata": {},
   "outputs": [
    {
     "data": {
      "text/plain": [
       "0    0\n",
       "1    1\n",
       "2    0\n",
       "3    0\n",
       "4    0\n",
       "Name: Страховые выплаты, dtype: int64"
      ]
     },
     "execution_count": 17,
     "metadata": {},
     "output_type": "execute_result"
    }
   ],
   "source": [
    "target.head()"
   ]
  },
  {
   "cell_type": "markdown",
   "metadata": {},
   "source": [
    "Данные разбили, теперь создадим матрицу, затем проверим её на обратимость"
   ]
  },
  {
   "cell_type": "code",
   "execution_count": 18,
   "metadata": {},
   "outputs": [],
   "source": [
    "matrix = np.random.randint(100,size = (4, 4))"
   ]
  },
  {
   "cell_type": "code",
   "execution_count": 19,
   "metadata": {},
   "outputs": [
    {
     "data": {
      "text/plain": [
       "array([[50,  5, 45, 58],\n",
       "       [48, 84, 56, 13],\n",
       "       [96, 47, 63, 26],\n",
       "       [38, 69,  9, 78]])"
      ]
     },
     "execution_count": 19,
     "metadata": {},
     "output_type": "execute_result"
    }
   ],
   "source": [
    "matrix"
   ]
  },
  {
   "cell_type": "code",
   "execution_count": 20,
   "metadata": {},
   "outputs": [],
   "source": [
    "matrix_inv = np.linalg.inv(matrix)"
   ]
  },
  {
   "cell_type": "code",
   "execution_count": 21,
   "metadata": {},
   "outputs": [
    {
     "data": {
      "text/plain": [
       "array([[-0.01373143, -0.01669189,  0.02392879,  0.00501627],\n",
       "       [-0.00921598,  0.00852095, -0.00185581,  0.00605135],\n",
       "       [ 0.02275783,  0.0197748 , -0.01582544, -0.01494314],\n",
       "       [ 0.01221637, -0.00168752, -0.00818992,  0.00674778]])"
      ]
     },
     "execution_count": 21,
     "metadata": {},
     "output_type": "execute_result"
    }
   ],
   "source": [
    "matrix_inv"
   ]
  },
  {
   "cell_type": "markdown",
   "metadata": {},
   "source": [
    "Построим нашу модель, затем умножим признаки на матрицу и построим ещё раз модtль, если они сойдутся, то значит теория оказалась верной "
   ]
  },
  {
   "cell_type": "code",
   "execution_count": 22,
   "metadata": {},
   "outputs": [
    {
     "name": "stdout",
     "output_type": "stream",
     "text": [
      "R2_score для изначальной модели 0.4302010046633\n"
     ]
    }
   ],
   "source": [
    "model = LinearRegression(normalize = True)\n",
    "model.fit(features, target)\n",
    "predictions = model.predict(features)\n",
    "print(\"R2_score для изначальной модели\", round(r2_score(target, predictions),13))"
   ]
  },
  {
   "cell_type": "code",
   "execution_count": 23,
   "metadata": {},
   "outputs": [],
   "source": [
    "features_matrix = features @ matrix"
   ]
  },
  {
   "cell_type": "code",
   "execution_count": 24,
   "metadata": {},
   "outputs": [
    {
     "name": "stdout",
     "output_type": "stream",
     "text": [
      "R2_score для изначальной модели 0.4302010046633\n"
     ]
    }
   ],
   "source": [
    "model = LinearRegression(normalize = True)\n",
    "model.fit(features_matrix, target)\n",
    "predictions = model.predict(features_matrix)\n",
    "print(\"R2_score для изначальной модели\", round(r2_score(target, predictions),13))"
   ]
  },
  {
   "cell_type": "markdown",
   "metadata": {},
   "source": [
    "**Вывод**\\\n",
    "Значения сошлись, поэтому в целом мы смогли защитить данные пользователя, умножив наши данные на матрицу, не потеряв в качестве модели."
   ]
  },
  {
   "cell_type": "code",
   "execution_count": null,
   "metadata": {},
   "outputs": [],
   "source": []
  }
 ],
 "metadata": {
  "ExecuteTimeLog": [
   {
    "duration": 1087,
    "start_time": "2023-02-02T10:37:36.153Z"
   },
   {
    "duration": 90,
    "start_time": "2023-02-02T10:38:00.970Z"
   },
   {
    "duration": 11,
    "start_time": "2023-02-02T10:38:01.494Z"
   },
   {
    "duration": 106,
    "start_time": "2023-02-02T10:38:10.645Z"
   },
   {
    "duration": 11,
    "start_time": "2023-02-02T10:38:43.532Z"
   },
   {
    "duration": 9,
    "start_time": "2023-02-02T10:39:24.892Z"
   },
   {
    "duration": 22,
    "start_time": "2023-02-02T10:39:33.569Z"
   },
   {
    "duration": 7,
    "start_time": "2023-02-02T10:40:15.932Z"
   },
   {
    "duration": 8,
    "start_time": "2023-02-02T10:47:00.203Z"
   },
   {
    "duration": 14,
    "start_time": "2023-02-02T10:50:37.078Z"
   },
   {
    "duration": 8,
    "start_time": "2023-02-02T10:52:04.859Z"
   },
   {
    "duration": 10,
    "start_time": "2023-02-02T10:52:31.898Z"
   },
   {
    "duration": 6,
    "start_time": "2023-02-02T10:53:14.459Z"
   },
   {
    "duration": 4,
    "start_time": "2023-02-02T11:13:26.217Z"
   },
   {
    "duration": 11,
    "start_time": "2023-02-02T11:13:46.126Z"
   },
   {
    "duration": 9,
    "start_time": "2023-02-02T11:13:55.822Z"
   },
   {
    "duration": 5,
    "start_time": "2023-02-02T11:14:26.287Z"
   },
   {
    "duration": 8,
    "start_time": "2023-02-02T11:18:39.601Z"
   },
   {
    "duration": 3,
    "start_time": "2023-02-02T11:18:42.065Z"
   },
   {
    "duration": 4,
    "start_time": "2023-02-02T11:18:42.329Z"
   },
   {
    "duration": 8,
    "start_time": "2023-02-02T11:19:18.338Z"
   },
   {
    "duration": 3,
    "start_time": "2023-02-02T11:19:26.291Z"
   },
   {
    "duration": 5,
    "start_time": "2023-02-02T11:19:32.655Z"
   },
   {
    "duration": 97,
    "start_time": "2023-02-02T11:21:47.396Z"
   },
   {
    "duration": 11,
    "start_time": "2023-02-02T11:21:52.408Z"
   },
   {
    "duration": 3,
    "start_time": "2023-02-02T11:22:25.487Z"
   },
   {
    "duration": 4,
    "start_time": "2023-02-02T11:22:41.638Z"
   },
   {
    "duration": 15,
    "start_time": "2023-02-02T11:23:08.191Z"
   },
   {
    "duration": 11,
    "start_time": "2023-02-02T11:23:40.879Z"
   },
   {
    "duration": 8,
    "start_time": "2023-02-02T11:24:36.487Z"
   },
   {
    "duration": 20,
    "start_time": "2023-02-02T11:24:52.862Z"
   },
   {
    "duration": 9,
    "start_time": "2023-02-02T11:24:58.281Z"
   },
   {
    "duration": 9,
    "start_time": "2023-02-02T11:25:04.907Z"
   },
   {
    "duration": 8,
    "start_time": "2023-02-02T11:25:20.931Z"
   },
   {
    "duration": 8,
    "start_time": "2023-02-02T11:25:32.512Z"
   },
   {
    "duration": 3,
    "start_time": "2023-02-02T11:25:33.151Z"
   },
   {
    "duration": 8,
    "start_time": "2023-02-02T11:25:33.796Z"
   },
   {
    "duration": 9,
    "start_time": "2023-02-02T11:26:52.743Z"
   },
   {
    "duration": 2,
    "start_time": "2023-02-02T11:26:53.255Z"
   },
   {
    "duration": 9,
    "start_time": "2023-02-02T11:26:53.696Z"
   },
   {
    "duration": 9,
    "start_time": "2023-02-02T11:27:03.433Z"
   },
   {
    "duration": 3,
    "start_time": "2023-02-02T11:27:03.807Z"
   },
   {
    "duration": 75,
    "start_time": "2023-02-02T11:27:04.336Z"
   },
   {
    "duration": 1233,
    "start_time": "2023-02-02T14:50:56.860Z"
   },
   {
    "duration": 90,
    "start_time": "2023-02-02T14:50:58.095Z"
   },
   {
    "duration": 13,
    "start_time": "2023-02-02T14:50:58.187Z"
   },
   {
    "duration": 19,
    "start_time": "2023-02-02T14:50:58.203Z"
   },
   {
    "duration": 24,
    "start_time": "2023-02-02T14:50:58.224Z"
   },
   {
    "duration": 32,
    "start_time": "2023-02-02T14:50:58.250Z"
   },
   {
    "duration": 8,
    "start_time": "2023-02-02T14:50:58.284Z"
   },
   {
    "duration": 15,
    "start_time": "2023-02-02T14:50:58.293Z"
   },
   {
    "duration": 7,
    "start_time": "2023-02-02T14:50:58.310Z"
   },
   {
    "duration": 14,
    "start_time": "2023-02-02T14:50:58.320Z"
   },
   {
    "duration": 12,
    "start_time": "2023-02-02T14:50:58.337Z"
   },
   {
    "duration": 39,
    "start_time": "2023-02-02T14:50:58.350Z"
   },
   {
    "duration": 16,
    "start_time": "2023-02-02T14:50:58.391Z"
   },
   {
    "duration": 6,
    "start_time": "2023-02-02T14:50:58.418Z"
   },
   {
    "duration": 9,
    "start_time": "2023-02-02T14:50:58.426Z"
   },
   {
    "duration": 10,
    "start_time": "2023-02-02T14:50:58.437Z"
   },
   {
    "duration": 32,
    "start_time": "2023-02-02T14:50:58.449Z"
   },
   {
    "duration": 6,
    "start_time": "2023-02-02T14:50:58.484Z"
   },
   {
    "duration": 194,
    "start_time": "2023-02-02T14:50:58.493Z"
   },
   {
    "duration": 90,
    "start_time": "2023-02-02T14:50:58.692Z"
   },
   {
    "duration": 29,
    "start_time": "2023-02-02T14:50:58.785Z"
   },
   {
    "duration": 1133,
    "start_time": "2023-02-02T15:40:29.356Z"
   },
   {
    "duration": 143,
    "start_time": "2023-02-02T15:40:30.491Z"
   },
   {
    "duration": 12,
    "start_time": "2023-02-02T15:40:30.636Z"
   },
   {
    "duration": 44,
    "start_time": "2023-02-02T15:40:30.650Z"
   },
   {
    "duration": 117,
    "start_time": "2023-02-02T15:40:30.696Z"
   },
   {
    "duration": 82,
    "start_time": "2023-02-02T15:40:30.815Z"
   },
   {
    "duration": 70,
    "start_time": "2023-02-02T15:40:30.898Z"
   },
   {
    "duration": 20,
    "start_time": "2023-02-02T15:40:30.970Z"
   },
   {
    "duration": 90,
    "start_time": "2023-02-02T15:40:30.992Z"
   },
   {
    "duration": 49,
    "start_time": "2023-02-02T15:40:31.085Z"
   },
   {
    "duration": 31,
    "start_time": "2023-02-02T15:40:31.136Z"
   },
   {
    "duration": 27,
    "start_time": "2023-02-02T15:40:31.169Z"
   },
   {
    "duration": 43,
    "start_time": "2023-02-02T15:40:31.198Z"
   },
   {
    "duration": 23,
    "start_time": "2023-02-02T15:40:31.243Z"
   },
   {
    "duration": 30,
    "start_time": "2023-02-02T15:40:31.267Z"
   },
   {
    "duration": 29,
    "start_time": "2023-02-02T15:40:31.299Z"
   },
   {
    "duration": 26,
    "start_time": "2023-02-02T15:40:31.330Z"
   },
   {
    "duration": 97,
    "start_time": "2023-02-02T15:40:31.358Z"
   },
   {
    "duration": 110,
    "start_time": "2023-02-02T15:40:31.457Z"
   },
   {
    "duration": 96,
    "start_time": "2023-02-02T15:40:31.570Z"
   },
   {
    "duration": 8,
    "start_time": "2023-02-02T15:40:31.754Z"
   },
   {
    "duration": 11,
    "start_time": "2023-02-02T15:40:53.619Z"
   },
   {
    "duration": 2,
    "start_time": "2023-02-02T15:40:54.076Z"
   },
   {
    "duration": 10,
    "start_time": "2023-02-02T15:40:54.637Z"
   },
   {
    "duration": 2075,
    "start_time": "2023-02-02T16:32:54.567Z"
   },
   {
    "duration": 149,
    "start_time": "2023-02-02T16:32:56.644Z"
   },
   {
    "duration": 12,
    "start_time": "2023-02-02T16:33:42.526Z"
   },
   {
    "duration": 14,
    "start_time": "2023-02-02T16:33:43.095Z"
   },
   {
    "duration": 22,
    "start_time": "2023-02-02T16:33:44.083Z"
   },
   {
    "duration": 6,
    "start_time": "2023-02-02T16:33:44.525Z"
   },
   {
    "duration": 6,
    "start_time": "2023-02-02T16:33:45.869Z"
   },
   {
    "duration": 10,
    "start_time": "2023-02-02T16:33:46.612Z"
   },
   {
    "duration": 7,
    "start_time": "2023-02-02T16:33:48.439Z"
   },
   {
    "duration": 12,
    "start_time": "2023-02-02T16:33:48.744Z"
   },
   {
    "duration": 5,
    "start_time": "2023-02-02T16:33:48.936Z"
   },
   {
    "duration": 7,
    "start_time": "2023-02-02T16:38:57.741Z"
   },
   {
    "duration": 11,
    "start_time": "2023-02-02T16:38:58.491Z"
   },
   {
    "duration": 6,
    "start_time": "2023-02-02T16:38:59.622Z"
   },
   {
    "duration": 3,
    "start_time": "2023-02-02T16:45:11.946Z"
   },
   {
    "duration": 10,
    "start_time": "2023-02-02T16:45:12.399Z"
   },
   {
    "duration": 5,
    "start_time": "2023-02-02T16:45:12.858Z"
   },
   {
    "duration": 3,
    "start_time": "2023-02-02T16:45:13.809Z"
   },
   {
    "duration": 4,
    "start_time": "2023-02-02T16:45:14.688Z"
   },
   {
    "duration": 3,
    "start_time": "2023-02-02T16:45:15.305Z"
   },
   {
    "duration": 4,
    "start_time": "2023-02-02T16:45:16.382Z"
   },
   {
    "duration": 16,
    "start_time": "2023-02-02T16:45:43.063Z"
   },
   {
    "duration": 2,
    "start_time": "2023-02-02T16:45:44.685Z"
   },
   {
    "duration": 10,
    "start_time": "2023-02-02T16:45:45.201Z"
   },
   {
    "duration": 46,
    "start_time": "2023-02-02T18:14:58.447Z"
   },
   {
    "duration": 1149,
    "start_time": "2023-02-02T18:15:04.850Z"
   },
   {
    "duration": 107,
    "start_time": "2023-02-02T18:15:06.001Z"
   },
   {
    "duration": 14,
    "start_time": "2023-02-02T18:15:06.110Z"
   },
   {
    "duration": 20,
    "start_time": "2023-02-02T18:15:06.126Z"
   },
   {
    "duration": 31,
    "start_time": "2023-02-02T18:15:06.149Z"
   },
   {
    "duration": 7,
    "start_time": "2023-02-02T18:15:06.183Z"
   },
   {
    "duration": 33,
    "start_time": "2023-02-02T18:15:06.192Z"
   },
   {
    "duration": 11,
    "start_time": "2023-02-02T18:15:06.227Z"
   },
   {
    "duration": 9,
    "start_time": "2023-02-02T18:15:06.240Z"
   },
   {
    "duration": 17,
    "start_time": "2023-02-02T18:15:06.255Z"
   },
   {
    "duration": 14,
    "start_time": "2023-02-02T18:15:06.274Z"
   },
   {
    "duration": 908,
    "start_time": "2023-02-02T18:15:06.290Z"
   },
   {
    "duration": 4,
    "start_time": "2023-02-02T18:15:07.200Z"
   },
   {
    "duration": 25,
    "start_time": "2023-02-02T18:15:07.206Z"
   },
   {
    "duration": 13,
    "start_time": "2023-02-02T18:15:07.232Z"
   },
   {
    "duration": 4,
    "start_time": "2023-02-02T18:15:07.249Z"
   },
   {
    "duration": 8,
    "start_time": "2023-02-02T18:15:07.256Z"
   },
   {
    "duration": 6,
    "start_time": "2023-02-02T18:15:07.266Z"
   },
   {
    "duration": 52,
    "start_time": "2023-02-02T18:15:07.275Z"
   },
   {
    "duration": 292,
    "start_time": "2023-02-02T18:15:07.329Z"
   },
   {
    "duration": 5,
    "start_time": "2023-02-02T18:15:07.624Z"
   },
   {
    "duration": 193,
    "start_time": "2023-02-02T18:15:07.631Z"
   },
   {
    "duration": 1382,
    "start_time": "2023-02-02T18:35:50.072Z"
   },
   {
    "duration": 31,
    "start_time": "2023-02-02T18:35:51.457Z"
   },
   {
    "duration": 11,
    "start_time": "2023-02-02T18:35:51.490Z"
   },
   {
    "duration": 13,
    "start_time": "2023-02-02T18:35:51.503Z"
   },
   {
    "duration": 24,
    "start_time": "2023-02-02T18:35:51.517Z"
   },
   {
    "duration": 5,
    "start_time": "2023-02-02T18:35:51.543Z"
   },
   {
    "duration": 9,
    "start_time": "2023-02-02T18:35:51.550Z"
   },
   {
    "duration": 18,
    "start_time": "2023-02-02T18:35:51.560Z"
   },
   {
    "duration": 7,
    "start_time": "2023-02-02T18:35:51.580Z"
   },
   {
    "duration": 12,
    "start_time": "2023-02-02T18:35:51.589Z"
   },
   {
    "duration": 28,
    "start_time": "2023-02-02T18:35:51.602Z"
   },
   {
    "duration": 388,
    "start_time": "2023-02-02T18:35:51.632Z"
   },
   {
    "duration": 5,
    "start_time": "2023-02-02T18:35:52.022Z"
   },
   {
    "duration": 15,
    "start_time": "2023-02-02T18:35:52.028Z"
   },
   {
    "duration": 11,
    "start_time": "2023-02-02T18:35:52.044Z"
   },
   {
    "duration": 9,
    "start_time": "2023-02-02T18:35:52.056Z"
   },
   {
    "duration": 15,
    "start_time": "2023-02-02T18:35:52.066Z"
   },
   {
    "duration": 8,
    "start_time": "2023-02-02T18:35:52.083Z"
   },
   {
    "duration": 33,
    "start_time": "2023-02-02T18:35:52.093Z"
   },
   {
    "duration": 97,
    "start_time": "2023-02-02T18:35:52.128Z"
   },
   {
    "duration": 7,
    "start_time": "2023-02-02T18:35:52.227Z"
   },
   {
    "duration": 106,
    "start_time": "2023-02-02T18:35:52.329Z"
   },
   {
    "duration": 168,
    "start_time": "2023-02-02T18:39:27.974Z"
   },
   {
    "duration": 149,
    "start_time": "2023-02-02T18:39:52.407Z"
   },
   {
    "duration": 916,
    "start_time": "2023-02-02T18:50:30.009Z"
   },
   {
    "duration": 6,
    "start_time": "2023-02-02T18:50:48.260Z"
   },
   {
    "duration": 807,
    "start_time": "2023-02-02T18:51:06.297Z"
   },
   {
    "duration": 199,
    "start_time": "2023-02-02T18:51:15.711Z"
   },
   {
    "duration": 115,
    "start_time": "2023-02-02T18:51:40.890Z"
   },
   {
    "duration": 1535,
    "start_time": "2023-02-02T19:06:23.781Z"
   },
   {
    "duration": 32,
    "start_time": "2023-02-02T19:06:25.318Z"
   },
   {
    "duration": 13,
    "start_time": "2023-02-02T19:06:25.351Z"
   },
   {
    "duration": 14,
    "start_time": "2023-02-02T19:06:25.366Z"
   },
   {
    "duration": 26,
    "start_time": "2023-02-02T19:06:25.382Z"
   },
   {
    "duration": 5,
    "start_time": "2023-02-02T19:06:25.410Z"
   },
   {
    "duration": 7,
    "start_time": "2023-02-02T19:06:25.417Z"
   },
   {
    "duration": 11,
    "start_time": "2023-02-02T19:06:25.426Z"
   },
   {
    "duration": 7,
    "start_time": "2023-02-02T19:06:25.439Z"
   },
   {
    "duration": 11,
    "start_time": "2023-02-02T19:06:25.449Z"
   },
   {
    "duration": 6,
    "start_time": "2023-02-02T19:06:25.461Z"
   },
   {
    "duration": 444,
    "start_time": "2023-02-02T19:06:25.469Z"
   },
   {
    "duration": 160,
    "start_time": "2023-02-02T19:06:25.914Z"
   },
   {
    "duration": 164,
    "start_time": "2023-02-02T19:06:26.075Z"
   },
   {
    "duration": 4,
    "start_time": "2023-02-02T19:06:26.240Z"
   },
   {
    "duration": 16,
    "start_time": "2023-02-02T19:06:26.246Z"
   },
   {
    "duration": 6,
    "start_time": "2023-02-02T19:06:26.264Z"
   },
   {
    "duration": 5,
    "start_time": "2023-02-02T19:06:26.272Z"
   },
   {
    "duration": 7,
    "start_time": "2023-02-02T19:06:26.279Z"
   },
   {
    "duration": 33,
    "start_time": "2023-02-02T19:06:26.287Z"
   },
   {
    "duration": 18,
    "start_time": "2023-02-02T19:06:26.325Z"
   },
   {
    "duration": 178,
    "start_time": "2023-02-02T19:06:26.344Z"
   },
   {
    "duration": 108,
    "start_time": "2023-02-02T19:06:26.525Z"
   },
   {
    "duration": 17,
    "start_time": "2023-02-02T19:06:26.635Z"
   }
  ],
  "kernelspec": {
   "display_name": "Python 3 (ipykernel)",
   "language": "python",
   "name": "python3"
  },
  "language_info": {
   "codemirror_mode": {
    "name": "ipython",
    "version": 3
   },
   "file_extension": ".py",
   "mimetype": "text/x-python",
   "name": "python",
   "nbconvert_exporter": "python",
   "pygments_lexer": "ipython3",
   "version": "3.9.16"
  },
  "toc": {
   "base_numbering": 1,
   "nav_menu": {},
   "number_sections": true,
   "sideBar": true,
   "skip_h1_title": true,
   "title_cell": "Содержание",
   "title_sidebar": "Contents",
   "toc_cell": true,
   "toc_position": {},
   "toc_section_display": true,
   "toc_window_display": true
  }
 },
 "nbformat": 4,
 "nbformat_minor": 2
}

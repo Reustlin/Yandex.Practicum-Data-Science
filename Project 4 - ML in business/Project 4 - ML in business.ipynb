{
 "cells": [
  {
   "cell_type": "markdown",
   "metadata": {},
   "source": [
    "# Выбор локации для скважины"
   ]
  },
  {
   "cell_type": "markdown",
   "metadata": {},
   "source": [
    "Допустим, вы работаете в добывающей компании «ГлавРосГосНефть». Нужно решить, где бурить новую скважину.\n",
    "\n",
    "Вам предоставлены пробы нефти в трёх регионах: в каждом 10 000 месторождений, где измерили качество нефти и объём её запасов. Постройте модель машинного обучения, которая поможет определить регион, где добыча принесёт наибольшую прибыль. Проанализируйте возможную прибыль и риски техникой *Bootstrap.*\n",
    "\n",
    "Шаги для выбора локации:\n",
    "\n",
    "- В избранном регионе ищут месторождения, для каждого определяют значения признаков;\n",
    "- Строят модель и оценивают объём запасов;\n",
    "- Выбирают месторождения с самым высокими оценками значений. Количество месторождений зависит от бюджета компании и стоимости разработки одной скважины;\n",
    "- Прибыль равна суммарной прибыли отобранных месторождений."
   ]
  },
  {
   "cell_type": "markdown",
   "metadata": {},
   "source": [
    "id — уникальный идентификатор скважины;\n",
    "\n",
    "f0, f1, f2 — три признака точек (неважно, что они означают, но сами признаки значимы);\n",
    "\n",
    "product — объём запасов в скважине (тыс. баррелей)."
   ]
  },
  {
   "cell_type": "markdown",
   "metadata": {},
   "source": [
    "## Загрузка и подготовка данных"
   ]
  },
  {
   "cell_type": "code",
   "execution_count": 1,
   "metadata": {},
   "outputs": [],
   "source": [
    "import pandas as pd\n",
    "from sklearn.model_selection import train_test_split\n",
    "from sklearn.linear_model import LinearRegression\n",
    "from sklearn.metrics import mean_squared_error\n",
    "from sklearn.model_selection import GridSearchCV \n",
    "import numpy as np\n"
   ]
  },
  {
   "cell_type": "code",
   "execution_count": 2,
   "metadata": {},
   "outputs": [],
   "source": [
    "#для удобсва заказчика будем делать маркировку не 0 1 2, а 1, 2, 3\n",
    "df_1 = pd.read_csv('/Users/aleksandrivanov/Downloads/geo_data_0.csv')\n",
    "df_2 = pd.read_csv('/Users/aleksandrivanov/Downloads/geo_data_1.csv')\n",
    "df_3 = pd.read_csv('/Users/aleksandrivanov/Downloads/geo_data_2.csv')\n",
    "state = np.random.RandomState(12345)"
   ]
  },
  {
   "cell_type": "code",
   "execution_count": 3,
   "metadata": {},
   "outputs": [
    {
     "data": {
      "text/html": [
       "<div>\n",
       "<style scoped>\n",
       "    .dataframe tbody tr th:only-of-type {\n",
       "        vertical-align: middle;\n",
       "    }\n",
       "\n",
       "    .dataframe tbody tr th {\n",
       "        vertical-align: top;\n",
       "    }\n",
       "\n",
       "    .dataframe thead th {\n",
       "        text-align: right;\n",
       "    }\n",
       "</style>\n",
       "<table border=\"1\" class=\"dataframe\">\n",
       "  <thead>\n",
       "    <tr style=\"text-align: right;\">\n",
       "      <th></th>\n",
       "      <th>id</th>\n",
       "      <th>f0</th>\n",
       "      <th>f1</th>\n",
       "      <th>f2</th>\n",
       "      <th>product</th>\n",
       "    </tr>\n",
       "  </thead>\n",
       "  <tbody>\n",
       "    <tr>\n",
       "      <th>0</th>\n",
       "      <td>txEyH</td>\n",
       "      <td>0.705745</td>\n",
       "      <td>-0.497823</td>\n",
       "      <td>1.221170</td>\n",
       "      <td>105.280062</td>\n",
       "    </tr>\n",
       "    <tr>\n",
       "      <th>1</th>\n",
       "      <td>2acmU</td>\n",
       "      <td>1.334711</td>\n",
       "      <td>-0.340164</td>\n",
       "      <td>4.365080</td>\n",
       "      <td>73.037750</td>\n",
       "    </tr>\n",
       "    <tr>\n",
       "      <th>2</th>\n",
       "      <td>409Wp</td>\n",
       "      <td>1.022732</td>\n",
       "      <td>0.151990</td>\n",
       "      <td>1.419926</td>\n",
       "      <td>85.265647</td>\n",
       "    </tr>\n",
       "    <tr>\n",
       "      <th>3</th>\n",
       "      <td>iJLyR</td>\n",
       "      <td>-0.032172</td>\n",
       "      <td>0.139033</td>\n",
       "      <td>2.978566</td>\n",
       "      <td>168.620776</td>\n",
       "    </tr>\n",
       "    <tr>\n",
       "      <th>4</th>\n",
       "      <td>Xdl7t</td>\n",
       "      <td>1.988431</td>\n",
       "      <td>0.155413</td>\n",
       "      <td>4.751769</td>\n",
       "      <td>154.036647</td>\n",
       "    </tr>\n",
       "    <tr>\n",
       "      <th>...</th>\n",
       "      <td>...</td>\n",
       "      <td>...</td>\n",
       "      <td>...</td>\n",
       "      <td>...</td>\n",
       "      <td>...</td>\n",
       "    </tr>\n",
       "    <tr>\n",
       "      <th>99995</th>\n",
       "      <td>DLsed</td>\n",
       "      <td>0.971957</td>\n",
       "      <td>0.370953</td>\n",
       "      <td>6.075346</td>\n",
       "      <td>110.744026</td>\n",
       "    </tr>\n",
       "    <tr>\n",
       "      <th>99996</th>\n",
       "      <td>QKivN</td>\n",
       "      <td>1.392429</td>\n",
       "      <td>-0.382606</td>\n",
       "      <td>1.273912</td>\n",
       "      <td>122.346843</td>\n",
       "    </tr>\n",
       "    <tr>\n",
       "      <th>99997</th>\n",
       "      <td>3rnvd</td>\n",
       "      <td>1.029585</td>\n",
       "      <td>0.018787</td>\n",
       "      <td>-1.348308</td>\n",
       "      <td>64.375443</td>\n",
       "    </tr>\n",
       "    <tr>\n",
       "      <th>99998</th>\n",
       "      <td>7kl59</td>\n",
       "      <td>0.998163</td>\n",
       "      <td>-0.528582</td>\n",
       "      <td>1.583869</td>\n",
       "      <td>74.040764</td>\n",
       "    </tr>\n",
       "    <tr>\n",
       "      <th>99999</th>\n",
       "      <td>1CWhH</td>\n",
       "      <td>1.764754</td>\n",
       "      <td>-0.266417</td>\n",
       "      <td>5.722849</td>\n",
       "      <td>149.633246</td>\n",
       "    </tr>\n",
       "  </tbody>\n",
       "</table>\n",
       "<p>100000 rows × 5 columns</p>\n",
       "</div>"
      ],
      "text/plain": [
       "          id        f0        f1        f2     product\n",
       "0      txEyH  0.705745 -0.497823  1.221170  105.280062\n",
       "1      2acmU  1.334711 -0.340164  4.365080   73.037750\n",
       "2      409Wp  1.022732  0.151990  1.419926   85.265647\n",
       "3      iJLyR -0.032172  0.139033  2.978566  168.620776\n",
       "4      Xdl7t  1.988431  0.155413  4.751769  154.036647\n",
       "...      ...       ...       ...       ...         ...\n",
       "99995  DLsed  0.971957  0.370953  6.075346  110.744026\n",
       "99996  QKivN  1.392429 -0.382606  1.273912  122.346843\n",
       "99997  3rnvd  1.029585  0.018787 -1.348308   64.375443\n",
       "99998  7kl59  0.998163 -0.528582  1.583869   74.040764\n",
       "99999  1CWhH  1.764754 -0.266417  5.722849  149.633246\n",
       "\n",
       "[100000 rows x 5 columns]"
      ]
     },
     "metadata": {},
     "output_type": "display_data"
    },
    {
     "data": {
      "text/html": [
       "<div>\n",
       "<style scoped>\n",
       "    .dataframe tbody tr th:only-of-type {\n",
       "        vertical-align: middle;\n",
       "    }\n",
       "\n",
       "    .dataframe tbody tr th {\n",
       "        vertical-align: top;\n",
       "    }\n",
       "\n",
       "    .dataframe thead th {\n",
       "        text-align: right;\n",
       "    }\n",
       "</style>\n",
       "<table border=\"1\" class=\"dataframe\">\n",
       "  <thead>\n",
       "    <tr style=\"text-align: right;\">\n",
       "      <th></th>\n",
       "      <th>id</th>\n",
       "      <th>f0</th>\n",
       "      <th>f1</th>\n",
       "      <th>f2</th>\n",
       "      <th>product</th>\n",
       "    </tr>\n",
       "  </thead>\n",
       "  <tbody>\n",
       "    <tr>\n",
       "      <th>0</th>\n",
       "      <td>kBEdx</td>\n",
       "      <td>-15.001348</td>\n",
       "      <td>-8.276000</td>\n",
       "      <td>-0.005876</td>\n",
       "      <td>3.179103</td>\n",
       "    </tr>\n",
       "    <tr>\n",
       "      <th>1</th>\n",
       "      <td>62mP7</td>\n",
       "      <td>14.272088</td>\n",
       "      <td>-3.475083</td>\n",
       "      <td>0.999183</td>\n",
       "      <td>26.953261</td>\n",
       "    </tr>\n",
       "    <tr>\n",
       "      <th>2</th>\n",
       "      <td>vyE1P</td>\n",
       "      <td>6.263187</td>\n",
       "      <td>-5.948386</td>\n",
       "      <td>5.001160</td>\n",
       "      <td>134.766305</td>\n",
       "    </tr>\n",
       "    <tr>\n",
       "      <th>3</th>\n",
       "      <td>KcrkZ</td>\n",
       "      <td>-13.081196</td>\n",
       "      <td>-11.506057</td>\n",
       "      <td>4.999415</td>\n",
       "      <td>137.945408</td>\n",
       "    </tr>\n",
       "    <tr>\n",
       "      <th>4</th>\n",
       "      <td>AHL4O</td>\n",
       "      <td>12.702195</td>\n",
       "      <td>-8.147433</td>\n",
       "      <td>5.004363</td>\n",
       "      <td>134.766305</td>\n",
       "    </tr>\n",
       "    <tr>\n",
       "      <th>...</th>\n",
       "      <td>...</td>\n",
       "      <td>...</td>\n",
       "      <td>...</td>\n",
       "      <td>...</td>\n",
       "      <td>...</td>\n",
       "    </tr>\n",
       "    <tr>\n",
       "      <th>99995</th>\n",
       "      <td>QywKC</td>\n",
       "      <td>9.535637</td>\n",
       "      <td>-6.878139</td>\n",
       "      <td>1.998296</td>\n",
       "      <td>53.906522</td>\n",
       "    </tr>\n",
       "    <tr>\n",
       "      <th>99996</th>\n",
       "      <td>ptvty</td>\n",
       "      <td>-10.160631</td>\n",
       "      <td>-12.558096</td>\n",
       "      <td>5.005581</td>\n",
       "      <td>137.945408</td>\n",
       "    </tr>\n",
       "    <tr>\n",
       "      <th>99997</th>\n",
       "      <td>09gWa</td>\n",
       "      <td>-7.378891</td>\n",
       "      <td>-3.084104</td>\n",
       "      <td>4.998651</td>\n",
       "      <td>137.945408</td>\n",
       "    </tr>\n",
       "    <tr>\n",
       "      <th>99998</th>\n",
       "      <td>rqwUm</td>\n",
       "      <td>0.665714</td>\n",
       "      <td>-6.152593</td>\n",
       "      <td>1.000146</td>\n",
       "      <td>30.132364</td>\n",
       "    </tr>\n",
       "    <tr>\n",
       "      <th>99999</th>\n",
       "      <td>relB0</td>\n",
       "      <td>-3.426139</td>\n",
       "      <td>-7.794274</td>\n",
       "      <td>-0.003299</td>\n",
       "      <td>3.179103</td>\n",
       "    </tr>\n",
       "  </tbody>\n",
       "</table>\n",
       "<p>100000 rows × 5 columns</p>\n",
       "</div>"
      ],
      "text/plain": [
       "          id         f0         f1        f2     product\n",
       "0      kBEdx -15.001348  -8.276000 -0.005876    3.179103\n",
       "1      62mP7  14.272088  -3.475083  0.999183   26.953261\n",
       "2      vyE1P   6.263187  -5.948386  5.001160  134.766305\n",
       "3      KcrkZ -13.081196 -11.506057  4.999415  137.945408\n",
       "4      AHL4O  12.702195  -8.147433  5.004363  134.766305\n",
       "...      ...        ...        ...       ...         ...\n",
       "99995  QywKC   9.535637  -6.878139  1.998296   53.906522\n",
       "99996  ptvty -10.160631 -12.558096  5.005581  137.945408\n",
       "99997  09gWa  -7.378891  -3.084104  4.998651  137.945408\n",
       "99998  rqwUm   0.665714  -6.152593  1.000146   30.132364\n",
       "99999  relB0  -3.426139  -7.794274 -0.003299    3.179103\n",
       "\n",
       "[100000 rows x 5 columns]"
      ]
     },
     "metadata": {},
     "output_type": "display_data"
    },
    {
     "data": {
      "text/html": [
       "<div>\n",
       "<style scoped>\n",
       "    .dataframe tbody tr th:only-of-type {\n",
       "        vertical-align: middle;\n",
       "    }\n",
       "\n",
       "    .dataframe tbody tr th {\n",
       "        vertical-align: top;\n",
       "    }\n",
       "\n",
       "    .dataframe thead th {\n",
       "        text-align: right;\n",
       "    }\n",
       "</style>\n",
       "<table border=\"1\" class=\"dataframe\">\n",
       "  <thead>\n",
       "    <tr style=\"text-align: right;\">\n",
       "      <th></th>\n",
       "      <th>id</th>\n",
       "      <th>f0</th>\n",
       "      <th>f1</th>\n",
       "      <th>f2</th>\n",
       "      <th>product</th>\n",
       "    </tr>\n",
       "  </thead>\n",
       "  <tbody>\n",
       "    <tr>\n",
       "      <th>0</th>\n",
       "      <td>fwXo0</td>\n",
       "      <td>-1.146987</td>\n",
       "      <td>0.963328</td>\n",
       "      <td>-0.828965</td>\n",
       "      <td>27.758673</td>\n",
       "    </tr>\n",
       "    <tr>\n",
       "      <th>1</th>\n",
       "      <td>WJtFt</td>\n",
       "      <td>0.262778</td>\n",
       "      <td>0.269839</td>\n",
       "      <td>-2.530187</td>\n",
       "      <td>56.069697</td>\n",
       "    </tr>\n",
       "    <tr>\n",
       "      <th>2</th>\n",
       "      <td>ovLUW</td>\n",
       "      <td>0.194587</td>\n",
       "      <td>0.289035</td>\n",
       "      <td>-5.586433</td>\n",
       "      <td>62.871910</td>\n",
       "    </tr>\n",
       "    <tr>\n",
       "      <th>3</th>\n",
       "      <td>q6cA6</td>\n",
       "      <td>2.236060</td>\n",
       "      <td>-0.553760</td>\n",
       "      <td>0.930038</td>\n",
       "      <td>114.572842</td>\n",
       "    </tr>\n",
       "    <tr>\n",
       "      <th>4</th>\n",
       "      <td>WPMUX</td>\n",
       "      <td>-0.515993</td>\n",
       "      <td>1.716266</td>\n",
       "      <td>5.899011</td>\n",
       "      <td>149.600746</td>\n",
       "    </tr>\n",
       "    <tr>\n",
       "      <th>...</th>\n",
       "      <td>...</td>\n",
       "      <td>...</td>\n",
       "      <td>...</td>\n",
       "      <td>...</td>\n",
       "      <td>...</td>\n",
       "    </tr>\n",
       "    <tr>\n",
       "      <th>99995</th>\n",
       "      <td>4GxBu</td>\n",
       "      <td>-1.777037</td>\n",
       "      <td>1.125220</td>\n",
       "      <td>6.263374</td>\n",
       "      <td>172.327046</td>\n",
       "    </tr>\n",
       "    <tr>\n",
       "      <th>99996</th>\n",
       "      <td>YKFjq</td>\n",
       "      <td>-1.261523</td>\n",
       "      <td>-0.894828</td>\n",
       "      <td>2.524545</td>\n",
       "      <td>138.748846</td>\n",
       "    </tr>\n",
       "    <tr>\n",
       "      <th>99997</th>\n",
       "      <td>tKPY3</td>\n",
       "      <td>-1.199934</td>\n",
       "      <td>-2.957637</td>\n",
       "      <td>5.219411</td>\n",
       "      <td>157.080080</td>\n",
       "    </tr>\n",
       "    <tr>\n",
       "      <th>99998</th>\n",
       "      <td>nmxp2</td>\n",
       "      <td>-2.419896</td>\n",
       "      <td>2.417221</td>\n",
       "      <td>-5.548444</td>\n",
       "      <td>51.795253</td>\n",
       "    </tr>\n",
       "    <tr>\n",
       "      <th>99999</th>\n",
       "      <td>V9kWn</td>\n",
       "      <td>-2.551421</td>\n",
       "      <td>-2.025625</td>\n",
       "      <td>6.090891</td>\n",
       "      <td>102.775767</td>\n",
       "    </tr>\n",
       "  </tbody>\n",
       "</table>\n",
       "<p>100000 rows × 5 columns</p>\n",
       "</div>"
      ],
      "text/plain": [
       "          id        f0        f1        f2     product\n",
       "0      fwXo0 -1.146987  0.963328 -0.828965   27.758673\n",
       "1      WJtFt  0.262778  0.269839 -2.530187   56.069697\n",
       "2      ovLUW  0.194587  0.289035 -5.586433   62.871910\n",
       "3      q6cA6  2.236060 -0.553760  0.930038  114.572842\n",
       "4      WPMUX -0.515993  1.716266  5.899011  149.600746\n",
       "...      ...       ...       ...       ...         ...\n",
       "99995  4GxBu -1.777037  1.125220  6.263374  172.327046\n",
       "99996  YKFjq -1.261523 -0.894828  2.524545  138.748846\n",
       "99997  tKPY3 -1.199934 -2.957637  5.219411  157.080080\n",
       "99998  nmxp2 -2.419896  2.417221 -5.548444   51.795253\n",
       "99999  V9kWn -2.551421 -2.025625  6.090891  102.775767\n",
       "\n",
       "[100000 rows x 5 columns]"
      ]
     },
     "metadata": {},
     "output_type": "display_data"
    }
   ],
   "source": [
    "display(df_1)\n",
    "display(df_2)\n",
    "display(df_3)"
   ]
  },
  {
   "cell_type": "code",
   "execution_count": 4,
   "metadata": {},
   "outputs": [
    {
     "name": "stdout",
     "output_type": "stream",
     "text": [
      "<class 'pandas.core.frame.DataFrame'>\n",
      "RangeIndex: 100000 entries, 0 to 99999\n",
      "Data columns (total 5 columns):\n",
      " #   Column   Non-Null Count   Dtype  \n",
      "---  ------   --------------   -----  \n",
      " 0   id       100000 non-null  object \n",
      " 1   f0       100000 non-null  float64\n",
      " 2   f1       100000 non-null  float64\n",
      " 3   f2       100000 non-null  float64\n",
      " 4   product  100000 non-null  float64\n",
      "dtypes: float64(4), object(1)\n",
      "memory usage: 3.8+ MB\n",
      "None\n",
      "\n",
      "<class 'pandas.core.frame.DataFrame'>\n",
      "RangeIndex: 100000 entries, 0 to 99999\n",
      "Data columns (total 5 columns):\n",
      " #   Column   Non-Null Count   Dtype  \n",
      "---  ------   --------------   -----  \n",
      " 0   id       100000 non-null  object \n",
      " 1   f0       100000 non-null  float64\n",
      " 2   f1       100000 non-null  float64\n",
      " 3   f2       100000 non-null  float64\n",
      " 4   product  100000 non-null  float64\n",
      "dtypes: float64(4), object(1)\n",
      "memory usage: 3.8+ MB\n",
      "None\n",
      "\n",
      "<class 'pandas.core.frame.DataFrame'>\n",
      "RangeIndex: 100000 entries, 0 to 99999\n",
      "Data columns (total 5 columns):\n",
      " #   Column   Non-Null Count   Dtype  \n",
      "---  ------   --------------   -----  \n",
      " 0   id       100000 non-null  object \n",
      " 1   f0       100000 non-null  float64\n",
      " 2   f1       100000 non-null  float64\n",
      " 3   f2       100000 non-null  float64\n",
      " 4   product  100000 non-null  float64\n",
      "dtypes: float64(4), object(1)\n",
      "memory usage: 3.8+ MB\n",
      "None\n"
     ]
    }
   ],
   "source": [
    "print(df_1.info())\n",
    "print()\n",
    "print(df_2.info())\n",
    "print()\n",
    "print(df_3.info())"
   ]
  },
  {
   "cell_type": "code",
   "execution_count": 5,
   "metadata": {},
   "outputs": [
    {
     "name": "stdout",
     "output_type": "stream",
     "text": [
      "0\n",
      "0\n",
      "0\n"
     ]
    }
   ],
   "source": [
    "print(df_1.duplicated().sum())\n",
    "print(df_2.duplicated().sum())\n",
    "print(df_3.duplicated().sum())"
   ]
  },
  {
   "cell_type": "code",
   "execution_count": 6,
   "metadata": {
    "scrolled": false
   },
   "outputs": [
    {
     "data": {
      "text/html": [
       "<div>\n",
       "<style scoped>\n",
       "    .dataframe tbody tr th:only-of-type {\n",
       "        vertical-align: middle;\n",
       "    }\n",
       "\n",
       "    .dataframe tbody tr th {\n",
       "        vertical-align: top;\n",
       "    }\n",
       "\n",
       "    .dataframe thead th {\n",
       "        text-align: right;\n",
       "    }\n",
       "</style>\n",
       "<table border=\"1\" class=\"dataframe\">\n",
       "  <thead>\n",
       "    <tr style=\"text-align: right;\">\n",
       "      <th></th>\n",
       "      <th>f0</th>\n",
       "      <th>f1</th>\n",
       "      <th>f2</th>\n",
       "      <th>product</th>\n",
       "    </tr>\n",
       "  </thead>\n",
       "  <tbody>\n",
       "    <tr>\n",
       "      <th>count</th>\n",
       "      <td>100000.000000</td>\n",
       "      <td>100000.000000</td>\n",
       "      <td>100000.000000</td>\n",
       "      <td>100000.000000</td>\n",
       "    </tr>\n",
       "    <tr>\n",
       "      <th>mean</th>\n",
       "      <td>0.500419</td>\n",
       "      <td>0.250143</td>\n",
       "      <td>2.502647</td>\n",
       "      <td>92.500000</td>\n",
       "    </tr>\n",
       "    <tr>\n",
       "      <th>std</th>\n",
       "      <td>0.871832</td>\n",
       "      <td>0.504433</td>\n",
       "      <td>3.248248</td>\n",
       "      <td>44.288691</td>\n",
       "    </tr>\n",
       "    <tr>\n",
       "      <th>min</th>\n",
       "      <td>-1.408605</td>\n",
       "      <td>-0.848218</td>\n",
       "      <td>-12.088328</td>\n",
       "      <td>0.000000</td>\n",
       "    </tr>\n",
       "    <tr>\n",
       "      <th>25%</th>\n",
       "      <td>-0.072580</td>\n",
       "      <td>-0.200881</td>\n",
       "      <td>0.287748</td>\n",
       "      <td>56.497507</td>\n",
       "    </tr>\n",
       "    <tr>\n",
       "      <th>50%</th>\n",
       "      <td>0.502360</td>\n",
       "      <td>0.250252</td>\n",
       "      <td>2.515969</td>\n",
       "      <td>91.849972</td>\n",
       "    </tr>\n",
       "    <tr>\n",
       "      <th>75%</th>\n",
       "      <td>1.073581</td>\n",
       "      <td>0.700646</td>\n",
       "      <td>4.715088</td>\n",
       "      <td>128.564089</td>\n",
       "    </tr>\n",
       "    <tr>\n",
       "      <th>max</th>\n",
       "      <td>2.362331</td>\n",
       "      <td>1.343769</td>\n",
       "      <td>16.003790</td>\n",
       "      <td>185.364347</td>\n",
       "    </tr>\n",
       "  </tbody>\n",
       "</table>\n",
       "</div>"
      ],
      "text/plain": [
       "                  f0             f1             f2        product\n",
       "count  100000.000000  100000.000000  100000.000000  100000.000000\n",
       "mean        0.500419       0.250143       2.502647      92.500000\n",
       "std         0.871832       0.504433       3.248248      44.288691\n",
       "min        -1.408605      -0.848218     -12.088328       0.000000\n",
       "25%        -0.072580      -0.200881       0.287748      56.497507\n",
       "50%         0.502360       0.250252       2.515969      91.849972\n",
       "75%         1.073581       0.700646       4.715088     128.564089\n",
       "max         2.362331       1.343769      16.003790     185.364347"
      ]
     },
     "metadata": {},
     "output_type": "display_data"
    },
    {
     "name": "stdout",
     "output_type": "stream",
     "text": [
      "\n"
     ]
    },
    {
     "data": {
      "text/html": [
       "<div>\n",
       "<style scoped>\n",
       "    .dataframe tbody tr th:only-of-type {\n",
       "        vertical-align: middle;\n",
       "    }\n",
       "\n",
       "    .dataframe tbody tr th {\n",
       "        vertical-align: top;\n",
       "    }\n",
       "\n",
       "    .dataframe thead th {\n",
       "        text-align: right;\n",
       "    }\n",
       "</style>\n",
       "<table border=\"1\" class=\"dataframe\">\n",
       "  <thead>\n",
       "    <tr style=\"text-align: right;\">\n",
       "      <th></th>\n",
       "      <th>f0</th>\n",
       "      <th>f1</th>\n",
       "      <th>f2</th>\n",
       "      <th>product</th>\n",
       "    </tr>\n",
       "  </thead>\n",
       "  <tbody>\n",
       "    <tr>\n",
       "      <th>count</th>\n",
       "      <td>100000.000000</td>\n",
       "      <td>100000.000000</td>\n",
       "      <td>100000.000000</td>\n",
       "      <td>100000.000000</td>\n",
       "    </tr>\n",
       "    <tr>\n",
       "      <th>mean</th>\n",
       "      <td>1.141296</td>\n",
       "      <td>-4.796579</td>\n",
       "      <td>2.494541</td>\n",
       "      <td>68.825000</td>\n",
       "    </tr>\n",
       "    <tr>\n",
       "      <th>std</th>\n",
       "      <td>8.965932</td>\n",
       "      <td>5.119872</td>\n",
       "      <td>1.703572</td>\n",
       "      <td>45.944423</td>\n",
       "    </tr>\n",
       "    <tr>\n",
       "      <th>min</th>\n",
       "      <td>-31.609576</td>\n",
       "      <td>-26.358598</td>\n",
       "      <td>-0.018144</td>\n",
       "      <td>0.000000</td>\n",
       "    </tr>\n",
       "    <tr>\n",
       "      <th>25%</th>\n",
       "      <td>-6.298551</td>\n",
       "      <td>-8.267985</td>\n",
       "      <td>1.000021</td>\n",
       "      <td>26.953261</td>\n",
       "    </tr>\n",
       "    <tr>\n",
       "      <th>50%</th>\n",
       "      <td>1.153055</td>\n",
       "      <td>-4.813172</td>\n",
       "      <td>2.011479</td>\n",
       "      <td>57.085625</td>\n",
       "    </tr>\n",
       "    <tr>\n",
       "      <th>75%</th>\n",
       "      <td>8.621015</td>\n",
       "      <td>-1.332816</td>\n",
       "      <td>3.999904</td>\n",
       "      <td>107.813044</td>\n",
       "    </tr>\n",
       "    <tr>\n",
       "      <th>max</th>\n",
       "      <td>29.421755</td>\n",
       "      <td>18.734063</td>\n",
       "      <td>5.019721</td>\n",
       "      <td>137.945408</td>\n",
       "    </tr>\n",
       "  </tbody>\n",
       "</table>\n",
       "</div>"
      ],
      "text/plain": [
       "                  f0             f1             f2        product\n",
       "count  100000.000000  100000.000000  100000.000000  100000.000000\n",
       "mean        1.141296      -4.796579       2.494541      68.825000\n",
       "std         8.965932       5.119872       1.703572      45.944423\n",
       "min       -31.609576     -26.358598      -0.018144       0.000000\n",
       "25%        -6.298551      -8.267985       1.000021      26.953261\n",
       "50%         1.153055      -4.813172       2.011479      57.085625\n",
       "75%         8.621015      -1.332816       3.999904     107.813044\n",
       "max        29.421755      18.734063       5.019721     137.945408"
      ]
     },
     "metadata": {},
     "output_type": "display_data"
    },
    {
     "name": "stdout",
     "output_type": "stream",
     "text": [
      "\n"
     ]
    },
    {
     "data": {
      "text/html": [
       "<div>\n",
       "<style scoped>\n",
       "    .dataframe tbody tr th:only-of-type {\n",
       "        vertical-align: middle;\n",
       "    }\n",
       "\n",
       "    .dataframe tbody tr th {\n",
       "        vertical-align: top;\n",
       "    }\n",
       "\n",
       "    .dataframe thead th {\n",
       "        text-align: right;\n",
       "    }\n",
       "</style>\n",
       "<table border=\"1\" class=\"dataframe\">\n",
       "  <thead>\n",
       "    <tr style=\"text-align: right;\">\n",
       "      <th></th>\n",
       "      <th>f0</th>\n",
       "      <th>f1</th>\n",
       "      <th>f2</th>\n",
       "      <th>product</th>\n",
       "    </tr>\n",
       "  </thead>\n",
       "  <tbody>\n",
       "    <tr>\n",
       "      <th>count</th>\n",
       "      <td>100000.000000</td>\n",
       "      <td>100000.000000</td>\n",
       "      <td>100000.000000</td>\n",
       "      <td>100000.000000</td>\n",
       "    </tr>\n",
       "    <tr>\n",
       "      <th>mean</th>\n",
       "      <td>0.002023</td>\n",
       "      <td>-0.002081</td>\n",
       "      <td>2.495128</td>\n",
       "      <td>95.000000</td>\n",
       "    </tr>\n",
       "    <tr>\n",
       "      <th>std</th>\n",
       "      <td>1.732045</td>\n",
       "      <td>1.730417</td>\n",
       "      <td>3.473445</td>\n",
       "      <td>44.749921</td>\n",
       "    </tr>\n",
       "    <tr>\n",
       "      <th>min</th>\n",
       "      <td>-8.760004</td>\n",
       "      <td>-7.084020</td>\n",
       "      <td>-11.970335</td>\n",
       "      <td>0.000000</td>\n",
       "    </tr>\n",
       "    <tr>\n",
       "      <th>25%</th>\n",
       "      <td>-1.162288</td>\n",
       "      <td>-1.174820</td>\n",
       "      <td>0.130359</td>\n",
       "      <td>59.450441</td>\n",
       "    </tr>\n",
       "    <tr>\n",
       "      <th>50%</th>\n",
       "      <td>0.009424</td>\n",
       "      <td>-0.009482</td>\n",
       "      <td>2.484236</td>\n",
       "      <td>94.925613</td>\n",
       "    </tr>\n",
       "    <tr>\n",
       "      <th>75%</th>\n",
       "      <td>1.158535</td>\n",
       "      <td>1.163678</td>\n",
       "      <td>4.858794</td>\n",
       "      <td>130.595027</td>\n",
       "    </tr>\n",
       "    <tr>\n",
       "      <th>max</th>\n",
       "      <td>7.238262</td>\n",
       "      <td>7.844801</td>\n",
       "      <td>16.739402</td>\n",
       "      <td>190.029838</td>\n",
       "    </tr>\n",
       "  </tbody>\n",
       "</table>\n",
       "</div>"
      ],
      "text/plain": [
       "                  f0             f1             f2        product\n",
       "count  100000.000000  100000.000000  100000.000000  100000.000000\n",
       "mean        0.002023      -0.002081       2.495128      95.000000\n",
       "std         1.732045       1.730417       3.473445      44.749921\n",
       "min        -8.760004      -7.084020     -11.970335       0.000000\n",
       "25%        -1.162288      -1.174820       0.130359      59.450441\n",
       "50%         0.009424      -0.009482       2.484236      94.925613\n",
       "75%         1.158535       1.163678       4.858794     130.595027\n",
       "max         7.238262       7.844801      16.739402     190.029838"
      ]
     },
     "metadata": {},
     "output_type": "display_data"
    }
   ],
   "source": [
    "display(df_1.describe())\n",
    "print()\n",
    "display(df_2.describe())\n",
    "print()\n",
    "display(df_3.describe())"
   ]
  },
  {
   "cell_type": "code",
   "execution_count": 7,
   "metadata": {},
   "outputs": [
    {
     "name": "stdout",
     "output_type": "stream",
     "text": [
      "id         0\n",
      "f0         0\n",
      "f1         0\n",
      "f2         0\n",
      "product    0\n",
      "dtype: int64\n",
      "\n",
      "id         0\n",
      "f0         0\n",
      "f1         0\n",
      "f2         0\n",
      "product    0\n",
      "dtype: int64\n",
      "\n",
      "id         0\n",
      "f0         0\n",
      "f1         0\n",
      "f2         0\n",
      "product    0\n",
      "dtype: int64\n",
      "\n"
     ]
    }
   ],
   "source": [
    "print(df_1.isnull().sum())\n",
    "print()\n",
    "print(df_2.isnull().sum())\n",
    "print()\n",
    "print(df_3.isnull().sum())\n",
    "print()"
   ]
  },
  {
   "cell_type": "code",
   "execution_count": 8,
   "metadata": {},
   "outputs": [
    {
     "data": {
      "text/plain": [
       "fiKDv    2\n",
       "QcMuo    2\n",
       "AGS9W    2\n",
       "Tdehs    2\n",
       "74z30    2\n",
       "        ..\n",
       "x8osI    1\n",
       "gZ7tR    1\n",
       "Zw8hj    1\n",
       "zcrQO    1\n",
       "1CWhH    1\n",
       "Name: id, Length: 99990, dtype: int64"
      ]
     },
     "execution_count": 8,
     "metadata": {},
     "output_type": "execute_result"
    }
   ],
   "source": [
    "df_1['id'].value_counts()"
   ]
  },
  {
   "cell_type": "code",
   "execution_count": 9,
   "metadata": {},
   "outputs": [
    {
     "data": {
      "text/html": [
       "<div>\n",
       "<style scoped>\n",
       "    .dataframe tbody tr th:only-of-type {\n",
       "        vertical-align: middle;\n",
       "    }\n",
       "\n",
       "    .dataframe tbody tr th {\n",
       "        vertical-align: top;\n",
       "    }\n",
       "\n",
       "    .dataframe thead th {\n",
       "        text-align: right;\n",
       "    }\n",
       "</style>\n",
       "<table border=\"1\" class=\"dataframe\">\n",
       "  <thead>\n",
       "    <tr style=\"text-align: right;\">\n",
       "      <th></th>\n",
       "      <th>id</th>\n",
       "      <th>f0</th>\n",
       "      <th>f1</th>\n",
       "      <th>f2</th>\n",
       "      <th>product</th>\n",
       "    </tr>\n",
       "  </thead>\n",
       "  <tbody>\n",
       "    <tr>\n",
       "      <th>7530</th>\n",
       "      <td>HZww2</td>\n",
       "      <td>1.061194</td>\n",
       "      <td>-0.373969</td>\n",
       "      <td>10.430210</td>\n",
       "      <td>158.828695</td>\n",
       "    </tr>\n",
       "    <tr>\n",
       "      <th>41724</th>\n",
       "      <td>bxg6G</td>\n",
       "      <td>-0.823752</td>\n",
       "      <td>0.546319</td>\n",
       "      <td>3.630479</td>\n",
       "      <td>93.007798</td>\n",
       "    </tr>\n",
       "    <tr>\n",
       "      <th>51970</th>\n",
       "      <td>A5aEY</td>\n",
       "      <td>-0.180335</td>\n",
       "      <td>0.935548</td>\n",
       "      <td>-2.094773</td>\n",
       "      <td>33.020205</td>\n",
       "    </tr>\n",
       "    <tr>\n",
       "      <th>63593</th>\n",
       "      <td>QcMuo</td>\n",
       "      <td>0.635635</td>\n",
       "      <td>-0.473422</td>\n",
       "      <td>0.862670</td>\n",
       "      <td>64.578675</td>\n",
       "    </tr>\n",
       "    <tr>\n",
       "      <th>66136</th>\n",
       "      <td>74z30</td>\n",
       "      <td>1.084962</td>\n",
       "      <td>-0.312358</td>\n",
       "      <td>6.990771</td>\n",
       "      <td>127.643327</td>\n",
       "    </tr>\n",
       "    <tr>\n",
       "      <th>69163</th>\n",
       "      <td>AGS9W</td>\n",
       "      <td>-0.933795</td>\n",
       "      <td>0.116194</td>\n",
       "      <td>-3.655896</td>\n",
       "      <td>19.230453</td>\n",
       "    </tr>\n",
       "    <tr>\n",
       "      <th>75715</th>\n",
       "      <td>Tdehs</td>\n",
       "      <td>0.112079</td>\n",
       "      <td>0.430296</td>\n",
       "      <td>3.218993</td>\n",
       "      <td>60.964018</td>\n",
       "    </tr>\n",
       "    <tr>\n",
       "      <th>90815</th>\n",
       "      <td>fiKDv</td>\n",
       "      <td>0.049883</td>\n",
       "      <td>0.841313</td>\n",
       "      <td>6.394613</td>\n",
       "      <td>137.346586</td>\n",
       "    </tr>\n",
       "    <tr>\n",
       "      <th>92341</th>\n",
       "      <td>TtcGQ</td>\n",
       "      <td>0.110711</td>\n",
       "      <td>1.022689</td>\n",
       "      <td>0.911381</td>\n",
       "      <td>101.318008</td>\n",
       "    </tr>\n",
       "    <tr>\n",
       "      <th>97785</th>\n",
       "      <td>bsk9y</td>\n",
       "      <td>0.378429</td>\n",
       "      <td>0.005837</td>\n",
       "      <td>0.160827</td>\n",
       "      <td>160.637302</td>\n",
       "    </tr>\n",
       "  </tbody>\n",
       "</table>\n",
       "</div>"
      ],
      "text/plain": [
       "          id        f0        f1         f2     product\n",
       "7530   HZww2  1.061194 -0.373969  10.430210  158.828695\n",
       "41724  bxg6G -0.823752  0.546319   3.630479   93.007798\n",
       "51970  A5aEY -0.180335  0.935548  -2.094773   33.020205\n",
       "63593  QcMuo  0.635635 -0.473422   0.862670   64.578675\n",
       "66136  74z30  1.084962 -0.312358   6.990771  127.643327\n",
       "69163  AGS9W -0.933795  0.116194  -3.655896   19.230453\n",
       "75715  Tdehs  0.112079  0.430296   3.218993   60.964018\n",
       "90815  fiKDv  0.049883  0.841313   6.394613  137.346586\n",
       "92341  TtcGQ  0.110711  1.022689   0.911381  101.318008\n",
       "97785  bsk9y  0.378429  0.005837   0.160827  160.637302"
      ]
     },
     "execution_count": 9,
     "metadata": {},
     "output_type": "execute_result"
    }
   ],
   "source": [
    "df_1[df_1.duplicated(['id'])]"
   ]
  },
  {
   "cell_type": "code",
   "execution_count": 10,
   "metadata": {},
   "outputs": [
    {
     "data": {
      "text/html": [
       "<div>\n",
       "<style scoped>\n",
       "    .dataframe tbody tr th:only-of-type {\n",
       "        vertical-align: middle;\n",
       "    }\n",
       "\n",
       "    .dataframe tbody tr th {\n",
       "        vertical-align: top;\n",
       "    }\n",
       "\n",
       "    .dataframe thead th {\n",
       "        text-align: right;\n",
       "    }\n",
       "</style>\n",
       "<table border=\"1\" class=\"dataframe\">\n",
       "  <thead>\n",
       "    <tr style=\"text-align: right;\">\n",
       "      <th></th>\n",
       "      <th>id</th>\n",
       "      <th>f0</th>\n",
       "      <th>f1</th>\n",
       "      <th>f2</th>\n",
       "      <th>product</th>\n",
       "    </tr>\n",
       "  </thead>\n",
       "  <tbody>\n",
       "    <tr>\n",
       "      <th>931</th>\n",
       "      <td>HZww2</td>\n",
       "      <td>0.755284</td>\n",
       "      <td>0.368511</td>\n",
       "      <td>1.863211</td>\n",
       "      <td>30.681774</td>\n",
       "    </tr>\n",
       "    <tr>\n",
       "      <th>7530</th>\n",
       "      <td>HZww2</td>\n",
       "      <td>1.061194</td>\n",
       "      <td>-0.373969</td>\n",
       "      <td>10.430210</td>\n",
       "      <td>158.828695</td>\n",
       "    </tr>\n",
       "  </tbody>\n",
       "</table>\n",
       "</div>"
      ],
      "text/plain": [
       "         id        f0        f1         f2     product\n",
       "931   HZww2  0.755284  0.368511   1.863211   30.681774\n",
       "7530  HZww2  1.061194 -0.373969  10.430210  158.828695"
      ]
     },
     "execution_count": 10,
     "metadata": {},
     "output_type": "execute_result"
    }
   ],
   "source": [
    "df_1[df_1['id'] == 'HZww2']"
   ]
  },
  {
   "cell_type": "code",
   "execution_count": 11,
   "metadata": {},
   "outputs": [
    {
     "data": {
      "text/html": [
       "<div>\n",
       "<style scoped>\n",
       "    .dataframe tbody tr th:only-of-type {\n",
       "        vertical-align: middle;\n",
       "    }\n",
       "\n",
       "    .dataframe tbody tr th {\n",
       "        vertical-align: top;\n",
       "    }\n",
       "\n",
       "    .dataframe thead th {\n",
       "        text-align: right;\n",
       "    }\n",
       "</style>\n",
       "<table border=\"1\" class=\"dataframe\">\n",
       "  <thead>\n",
       "    <tr style=\"text-align: right;\">\n",
       "      <th></th>\n",
       "      <th>id</th>\n",
       "      <th>f0</th>\n",
       "      <th>f1</th>\n",
       "      <th>f2</th>\n",
       "      <th>product</th>\n",
       "    </tr>\n",
       "  </thead>\n",
       "  <tbody>\n",
       "    <tr>\n",
       "      <th>41906</th>\n",
       "      <td>LHZR0</td>\n",
       "      <td>-8.989672</td>\n",
       "      <td>-4.286607</td>\n",
       "      <td>2.009139</td>\n",
       "      <td>57.085625</td>\n",
       "    </tr>\n",
       "    <tr>\n",
       "      <th>82178</th>\n",
       "      <td>bfPNe</td>\n",
       "      <td>-6.202799</td>\n",
       "      <td>-4.820045</td>\n",
       "      <td>2.995107</td>\n",
       "      <td>84.038886</td>\n",
       "    </tr>\n",
       "    <tr>\n",
       "      <th>82873</th>\n",
       "      <td>wt4Uk</td>\n",
       "      <td>10.259972</td>\n",
       "      <td>-9.376355</td>\n",
       "      <td>4.994297</td>\n",
       "      <td>134.766305</td>\n",
       "    </tr>\n",
       "    <tr>\n",
       "      <th>84461</th>\n",
       "      <td>5ltQ6</td>\n",
       "      <td>18.213839</td>\n",
       "      <td>2.191999</td>\n",
       "      <td>3.993869</td>\n",
       "      <td>107.813044</td>\n",
       "    </tr>\n",
       "  </tbody>\n",
       "</table>\n",
       "</div>"
      ],
      "text/plain": [
       "          id         f0        f1        f2     product\n",
       "41906  LHZR0  -8.989672 -4.286607  2.009139   57.085625\n",
       "82178  bfPNe  -6.202799 -4.820045  2.995107   84.038886\n",
       "82873  wt4Uk  10.259972 -9.376355  4.994297  134.766305\n",
       "84461  5ltQ6  18.213839  2.191999  3.993869  107.813044"
      ]
     },
     "execution_count": 11,
     "metadata": {},
     "output_type": "execute_result"
    }
   ],
   "source": [
    "df_2[df_2.duplicated(['id'])]"
   ]
  },
  {
   "cell_type": "code",
   "execution_count": 12,
   "metadata": {},
   "outputs": [
    {
     "data": {
      "text/html": [
       "<div>\n",
       "<style scoped>\n",
       "    .dataframe tbody tr th:only-of-type {\n",
       "        vertical-align: middle;\n",
       "    }\n",
       "\n",
       "    .dataframe tbody tr th {\n",
       "        vertical-align: top;\n",
       "    }\n",
       "\n",
       "    .dataframe thead th {\n",
       "        text-align: right;\n",
       "    }\n",
       "</style>\n",
       "<table border=\"1\" class=\"dataframe\">\n",
       "  <thead>\n",
       "    <tr style=\"text-align: right;\">\n",
       "      <th></th>\n",
       "      <th>id</th>\n",
       "      <th>f0</th>\n",
       "      <th>f1</th>\n",
       "      <th>f2</th>\n",
       "      <th>product</th>\n",
       "    </tr>\n",
       "  </thead>\n",
       "  <tbody>\n",
       "    <tr>\n",
       "      <th>1305</th>\n",
       "      <td>LHZR0</td>\n",
       "      <td>11.170835</td>\n",
       "      <td>-1.945066</td>\n",
       "      <td>3.002872</td>\n",
       "      <td>80.859783</td>\n",
       "    </tr>\n",
       "    <tr>\n",
       "      <th>41906</th>\n",
       "      <td>LHZR0</td>\n",
       "      <td>-8.989672</td>\n",
       "      <td>-4.286607</td>\n",
       "      <td>2.009139</td>\n",
       "      <td>57.085625</td>\n",
       "    </tr>\n",
       "  </tbody>\n",
       "</table>\n",
       "</div>"
      ],
      "text/plain": [
       "          id         f0        f1        f2    product\n",
       "1305   LHZR0  11.170835 -1.945066  3.002872  80.859783\n",
       "41906  LHZR0  -8.989672 -4.286607  2.009139  57.085625"
      ]
     },
     "execution_count": 12,
     "metadata": {},
     "output_type": "execute_result"
    }
   ],
   "source": [
    "df_2[df_2['id'] == 'LHZR0']"
   ]
  },
  {
   "cell_type": "code",
   "execution_count": 13,
   "metadata": {},
   "outputs": [
    {
     "data": {
      "text/html": [
       "<div>\n",
       "<style scoped>\n",
       "    .dataframe tbody tr th:only-of-type {\n",
       "        vertical-align: middle;\n",
       "    }\n",
       "\n",
       "    .dataframe tbody tr th {\n",
       "        vertical-align: top;\n",
       "    }\n",
       "\n",
       "    .dataframe thead th {\n",
       "        text-align: right;\n",
       "    }\n",
       "</style>\n",
       "<table border=\"1\" class=\"dataframe\">\n",
       "  <thead>\n",
       "    <tr style=\"text-align: right;\">\n",
       "      <th></th>\n",
       "      <th>id</th>\n",
       "      <th>f0</th>\n",
       "      <th>f1</th>\n",
       "      <th>f2</th>\n",
       "      <th>product</th>\n",
       "    </tr>\n",
       "  </thead>\n",
       "  <tbody>\n",
       "    <tr>\n",
       "      <th>43233</th>\n",
       "      <td>xCHr8</td>\n",
       "      <td>-0.847066</td>\n",
       "      <td>2.101796</td>\n",
       "      <td>5.597130</td>\n",
       "      <td>184.388641</td>\n",
       "    </tr>\n",
       "    <tr>\n",
       "      <th>49564</th>\n",
       "      <td>VF7Jo</td>\n",
       "      <td>-0.883115</td>\n",
       "      <td>0.560537</td>\n",
       "      <td>0.723601</td>\n",
       "      <td>136.233420</td>\n",
       "    </tr>\n",
       "    <tr>\n",
       "      <th>55967</th>\n",
       "      <td>KUPhW</td>\n",
       "      <td>1.211150</td>\n",
       "      <td>3.176408</td>\n",
       "      <td>5.543540</td>\n",
       "      <td>132.831802</td>\n",
       "    </tr>\n",
       "    <tr>\n",
       "      <th>95090</th>\n",
       "      <td>Vcm5J</td>\n",
       "      <td>2.587702</td>\n",
       "      <td>1.986875</td>\n",
       "      <td>2.482245</td>\n",
       "      <td>92.327572</td>\n",
       "    </tr>\n",
       "  </tbody>\n",
       "</table>\n",
       "</div>"
      ],
      "text/plain": [
       "          id        f0        f1        f2     product\n",
       "43233  xCHr8 -0.847066  2.101796  5.597130  184.388641\n",
       "49564  VF7Jo -0.883115  0.560537  0.723601  136.233420\n",
       "55967  KUPhW  1.211150  3.176408  5.543540  132.831802\n",
       "95090  Vcm5J  2.587702  1.986875  2.482245   92.327572"
      ]
     },
     "execution_count": 13,
     "metadata": {},
     "output_type": "execute_result"
    }
   ],
   "source": [
    "df_3[df_3.duplicated(['id'])]"
   ]
  },
  {
   "cell_type": "code",
   "execution_count": 14,
   "metadata": {},
   "outputs": [
    {
     "data": {
      "text/html": [
       "<div>\n",
       "<style scoped>\n",
       "    .dataframe tbody tr th:only-of-type {\n",
       "        vertical-align: middle;\n",
       "    }\n",
       "\n",
       "    .dataframe tbody tr th {\n",
       "        vertical-align: top;\n",
       "    }\n",
       "\n",
       "    .dataframe thead th {\n",
       "        text-align: right;\n",
       "    }\n",
       "</style>\n",
       "<table border=\"1\" class=\"dataframe\">\n",
       "  <thead>\n",
       "    <tr style=\"text-align: right;\">\n",
       "      <th></th>\n",
       "      <th>id</th>\n",
       "      <th>f0</th>\n",
       "      <th>f1</th>\n",
       "      <th>f2</th>\n",
       "      <th>product</th>\n",
       "    </tr>\n",
       "  </thead>\n",
       "  <tbody>\n",
       "    <tr>\n",
       "      <th>28039</th>\n",
       "      <td>xCHr8</td>\n",
       "      <td>1.633027</td>\n",
       "      <td>0.368135</td>\n",
       "      <td>-2.378367</td>\n",
       "      <td>6.120525</td>\n",
       "    </tr>\n",
       "    <tr>\n",
       "      <th>43233</th>\n",
       "      <td>xCHr8</td>\n",
       "      <td>-0.847066</td>\n",
       "      <td>2.101796</td>\n",
       "      <td>5.597130</td>\n",
       "      <td>184.388641</td>\n",
       "    </tr>\n",
       "  </tbody>\n",
       "</table>\n",
       "</div>"
      ],
      "text/plain": [
       "          id        f0        f1        f2     product\n",
       "28039  xCHr8  1.633027  0.368135 -2.378367    6.120525\n",
       "43233  xCHr8 -0.847066  2.101796  5.597130  184.388641"
      ]
     },
     "execution_count": 14,
     "metadata": {},
     "output_type": "execute_result"
    }
   ],
   "source": [
    "df_3[df_3['id'] == 'xCHr8']"
   ]
  },
  {
   "cell_type": "markdown",
   "metadata": {},
   "source": [
    " Можно удалить столбик с \"Id\"б он не несет смысловой нагрузкид ля обучения."
   ]
  },
  {
   "cell_type": "code",
   "execution_count": 15,
   "metadata": {},
   "outputs": [],
   "source": [
    "df_1 = df_1.drop('id', axis= 1)\n",
    "df_2 = df_2.drop('id', axis= 1)\n",
    "df_3 = df_3.drop('id', axis= 1)"
   ]
  },
  {
   "cell_type": "markdown",
   "metadata": {},
   "source": [
    "Посмотрим как таблица ведет себя по корреляции"
   ]
  },
  {
   "cell_type": "code",
   "execution_count": 16,
   "metadata": {},
   "outputs": [
    {
     "data": {
      "text/html": [
       "<div>\n",
       "<style scoped>\n",
       "    .dataframe tbody tr th:only-of-type {\n",
       "        vertical-align: middle;\n",
       "    }\n",
       "\n",
       "    .dataframe tbody tr th {\n",
       "        vertical-align: top;\n",
       "    }\n",
       "\n",
       "    .dataframe thead th {\n",
       "        text-align: right;\n",
       "    }\n",
       "</style>\n",
       "<table border=\"1\" class=\"dataframe\">\n",
       "  <thead>\n",
       "    <tr style=\"text-align: right;\">\n",
       "      <th></th>\n",
       "      <th>f0</th>\n",
       "      <th>f1</th>\n",
       "      <th>f2</th>\n",
       "      <th>product</th>\n",
       "    </tr>\n",
       "  </thead>\n",
       "  <tbody>\n",
       "    <tr>\n",
       "      <th>f0</th>\n",
       "      <td>1.000000</td>\n",
       "      <td>-0.440723</td>\n",
       "      <td>-0.003153</td>\n",
       "      <td>0.143536</td>\n",
       "    </tr>\n",
       "    <tr>\n",
       "      <th>f1</th>\n",
       "      <td>-0.440723</td>\n",
       "      <td>1.000000</td>\n",
       "      <td>0.001724</td>\n",
       "      <td>-0.192356</td>\n",
       "    </tr>\n",
       "    <tr>\n",
       "      <th>f2</th>\n",
       "      <td>-0.003153</td>\n",
       "      <td>0.001724</td>\n",
       "      <td>1.000000</td>\n",
       "      <td>0.483663</td>\n",
       "    </tr>\n",
       "    <tr>\n",
       "      <th>product</th>\n",
       "      <td>0.143536</td>\n",
       "      <td>-0.192356</td>\n",
       "      <td>0.483663</td>\n",
       "      <td>1.000000</td>\n",
       "    </tr>\n",
       "  </tbody>\n",
       "</table>\n",
       "</div>"
      ],
      "text/plain": [
       "               f0        f1        f2   product\n",
       "f0       1.000000 -0.440723 -0.003153  0.143536\n",
       "f1      -0.440723  1.000000  0.001724 -0.192356\n",
       "f2      -0.003153  0.001724  1.000000  0.483663\n",
       "product  0.143536 -0.192356  0.483663  1.000000"
      ]
     },
     "execution_count": 16,
     "metadata": {},
     "output_type": "execute_result"
    }
   ],
   "source": [
    "df_1.corr()"
   ]
  },
  {
   "cell_type": "code",
   "execution_count": 17,
   "metadata": {},
   "outputs": [
    {
     "data": {
      "text/html": [
       "<div>\n",
       "<style scoped>\n",
       "    .dataframe tbody tr th:only-of-type {\n",
       "        vertical-align: middle;\n",
       "    }\n",
       "\n",
       "    .dataframe tbody tr th {\n",
       "        vertical-align: top;\n",
       "    }\n",
       "\n",
       "    .dataframe thead th {\n",
       "        text-align: right;\n",
       "    }\n",
       "</style>\n",
       "<table border=\"1\" class=\"dataframe\">\n",
       "  <thead>\n",
       "    <tr style=\"text-align: right;\">\n",
       "      <th></th>\n",
       "      <th>f0</th>\n",
       "      <th>f1</th>\n",
       "      <th>f2</th>\n",
       "      <th>product</th>\n",
       "    </tr>\n",
       "  </thead>\n",
       "  <tbody>\n",
       "    <tr>\n",
       "      <th>f0</th>\n",
       "      <td>1.000000</td>\n",
       "      <td>0.182287</td>\n",
       "      <td>-0.001777</td>\n",
       "      <td>-0.030491</td>\n",
       "    </tr>\n",
       "    <tr>\n",
       "      <th>f1</th>\n",
       "      <td>0.182287</td>\n",
       "      <td>1.000000</td>\n",
       "      <td>-0.002595</td>\n",
       "      <td>-0.010155</td>\n",
       "    </tr>\n",
       "    <tr>\n",
       "      <th>f2</th>\n",
       "      <td>-0.001777</td>\n",
       "      <td>-0.002595</td>\n",
       "      <td>1.000000</td>\n",
       "      <td>0.999397</td>\n",
       "    </tr>\n",
       "    <tr>\n",
       "      <th>product</th>\n",
       "      <td>-0.030491</td>\n",
       "      <td>-0.010155</td>\n",
       "      <td>0.999397</td>\n",
       "      <td>1.000000</td>\n",
       "    </tr>\n",
       "  </tbody>\n",
       "</table>\n",
       "</div>"
      ],
      "text/plain": [
       "               f0        f1        f2   product\n",
       "f0       1.000000  0.182287 -0.001777 -0.030491\n",
       "f1       0.182287  1.000000 -0.002595 -0.010155\n",
       "f2      -0.001777 -0.002595  1.000000  0.999397\n",
       "product -0.030491 -0.010155  0.999397  1.000000"
      ]
     },
     "execution_count": 17,
     "metadata": {},
     "output_type": "execute_result"
    }
   ],
   "source": [
    "df_2.corr()"
   ]
  },
  {
   "cell_type": "code",
   "execution_count": 18,
   "metadata": {
    "scrolled": true
   },
   "outputs": [
    {
     "data": {
      "text/html": [
       "<div>\n",
       "<style scoped>\n",
       "    .dataframe tbody tr th:only-of-type {\n",
       "        vertical-align: middle;\n",
       "    }\n",
       "\n",
       "    .dataframe tbody tr th {\n",
       "        vertical-align: top;\n",
       "    }\n",
       "\n",
       "    .dataframe thead th {\n",
       "        text-align: right;\n",
       "    }\n",
       "</style>\n",
       "<table border=\"1\" class=\"dataframe\">\n",
       "  <thead>\n",
       "    <tr style=\"text-align: right;\">\n",
       "      <th></th>\n",
       "      <th>f0</th>\n",
       "      <th>f1</th>\n",
       "      <th>f2</th>\n",
       "      <th>product</th>\n",
       "    </tr>\n",
       "  </thead>\n",
       "  <tbody>\n",
       "    <tr>\n",
       "      <th>f0</th>\n",
       "      <td>1.000000</td>\n",
       "      <td>0.000528</td>\n",
       "      <td>-0.000448</td>\n",
       "      <td>-0.001987</td>\n",
       "    </tr>\n",
       "    <tr>\n",
       "      <th>f1</th>\n",
       "      <td>0.000528</td>\n",
       "      <td>1.000000</td>\n",
       "      <td>0.000779</td>\n",
       "      <td>-0.001012</td>\n",
       "    </tr>\n",
       "    <tr>\n",
       "      <th>f2</th>\n",
       "      <td>-0.000448</td>\n",
       "      <td>0.000779</td>\n",
       "      <td>1.000000</td>\n",
       "      <td>0.445871</td>\n",
       "    </tr>\n",
       "    <tr>\n",
       "      <th>product</th>\n",
       "      <td>-0.001987</td>\n",
       "      <td>-0.001012</td>\n",
       "      <td>0.445871</td>\n",
       "      <td>1.000000</td>\n",
       "    </tr>\n",
       "  </tbody>\n",
       "</table>\n",
       "</div>"
      ],
      "text/plain": [
       "               f0        f1        f2   product\n",
       "f0       1.000000  0.000528 -0.000448 -0.001987\n",
       "f1       0.000528  1.000000  0.000779 -0.001012\n",
       "f2      -0.000448  0.000779  1.000000  0.445871\n",
       "product -0.001987 -0.001012  0.445871  1.000000"
      ]
     },
     "execution_count": 18,
     "metadata": {},
     "output_type": "execute_result"
    }
   ],
   "source": [
    "df_3.corr()"
   ]
  },
  {
   "cell_type": "code",
   "execution_count": null,
   "metadata": {},
   "outputs": [],
   "source": []
  },
  {
   "cell_type": "markdown",
   "metadata": {},
   "source": [
    "Итоговый вывод:\n",
    "Все 3 таблицы по структуре одинаковые\n",
    "\n",
    "Явных выборосов нет, но лучше уточнить на самом деле у бизнеса, реально ли может быть такой разброс\n",
    "\n",
    "Есть неянвые дубликаты. Возможно, делали в замер в начале эксптуатации скважины и после выхода на режим, удалять ничего пока не буду, так же можно поговорить с бизнесом по этому вопросу\n",
    "\n",
    "пропуски в данных отсутствуют\n",
    "\n",
    "Можно удалить столбик с \"Id\"б он не несет смысловой нагрузкид ля обучения.\n",
    "\n",
    "По первой таблице( если считать с 0 или по второму месторождению) ситуация отличается, корреляция почти 100% между признаком f2 и продуктом, в остальных 2х она в 2 раза ниже.\n",
    "\n",
    "То есть добыча во втором датасете очень сильно зависит от одного из признаков"
   ]
  },
  {
   "cell_type": "markdown",
   "metadata": {},
   "source": [
    "## Обучение и проверка модели"
   ]
  },
  {
   "cell_type": "code",
   "execution_count": 19,
   "metadata": {},
   "outputs": [],
   "source": [
    "def oil_predict (df):\n",
    "    target = df['product']\n",
    "    features = df.drop('product', axis=1)\n",
    "    features_train, features_valid, target_train, target_valid = train_test_split(features, target,\n",
    "                                                                                  test_size=.25,\n",
    "                                                                                  random_state=12345)\n",
    "    reg = LinearRegression()\n",
    "    parameters = {} #гриду для линейной регрессии не нужны доп параметры, \n",
    "    #там всё \"зашито\" внутри по умолчанию, либо настраивать их вручну.\n",
    "    grid = GridSearchCV(reg, param_grid = parameters, n_jobs = -1)\n",
    "    model = grid.fit(features_train,target_train) #обучаем\n",
    "    predictions_valid = pd.Series(model.predict(features_valid)) #проверяем\n",
    "    print('Среднее значение сырья по факту: ',round(target_valid.mean(),2)) #оставим 2 цифры после запятой\n",
    "    print('Среднее значения сырья по предсказанию: ',round(predictions_valid.mean(),2)) #выводим среднее\n",
    "    print('RMSE: ',mean_squared_error(target_valid,predictions_valid)**0.5) # Считаем показатель RMSE\n",
    "    \n",
    "    return predictions_valid, target_valid"
   ]
  },
  {
   "cell_type": "code",
   "execution_count": 20,
   "metadata": {},
   "outputs": [
    {
     "name": "stdout",
     "output_type": "stream",
     "text": [
      "Среднее значение сырья по факту:  92.08\n",
      "Среднее значения сырья по предсказанию:  92.59\n",
      "RMSE:  37.5794217150813\n"
     ]
    }
   ],
   "source": [
    "predictions_valid_1, target_valid_1 = oil_predict(df_1)"
   ]
  },
  {
   "cell_type": "code",
   "execution_count": 21,
   "metadata": {},
   "outputs": [
    {
     "name": "stdout",
     "output_type": "stream",
     "text": [
      "Среднее значение сырья по факту:  68.72\n",
      "Среднее значения сырья по предсказанию:  68.73\n",
      "RMSE:  0.8930992867756165\n"
     ]
    }
   ],
   "source": [
    "predictions_valid_2, target_valid_2 = oil_predict(df_2)"
   ]
  },
  {
   "cell_type": "code",
   "execution_count": 22,
   "metadata": {},
   "outputs": [
    {
     "name": "stdout",
     "output_type": "stream",
     "text": [
      "Среднее значение сырья по факту:  94.88\n",
      "Среднее значения сырья по предсказанию:  94.97\n",
      "RMSE:  40.02970873393434\n"
     ]
    }
   ],
   "source": [
    "predictions_valid_3, target_valid_3 = oil_predict(df_3)"
   ]
  },
  {
   "cell_type": "code",
   "execution_count": 23,
   "metadata": {},
   "outputs": [
    {
     "name": "stdout",
     "output_type": "stream",
     "text": [
      "(25000,)\n",
      "(25000,)\n",
      "\n",
      "(25000,)\n",
      "(25000,)\n",
      "\n",
      "(25000,)\n",
      "(25000,)\n"
     ]
    }
   ],
   "source": [
    "\n",
    "print(predictions_valid_1.shape)\n",
    "print(target_valid_1 .shape)\n",
    "print()\n",
    "print(predictions_valid_2.shape)\n",
    "print(target_valid_2 .shape)\n",
    "print()\n",
    "print(predictions_valid_3.shape)\n",
    "print(target_valid_3 .shape)"
   ]
  },
  {
   "cell_type": "markdown",
   "metadata": {},
   "source": [
    "Первые предварительные выводы: самые маленькие запасы получаются у второго месторождения, но у неё самое низкое значение RMSE "
   ]
  },
  {
   "cell_type": "code",
   "execution_count": 25,
   "metadata": {},
   "outputs": [
    {
     "name": "stdout",
     "output_type": "stream",
     "text": [
      "Затраты на 1 скважину:  50000000.0\n",
      "требуемое количество с одной скважины для окупаемости, тыс. бар:  111.11\n"
     ]
    }
   ],
   "source": [
    "## Подготовка к расчёту прибыли\n",
    "\n",
    "MONEY = 10000000000\n",
    "BAR_1000 = 450000\n",
    "LOSS = 0.025\n",
    "\n",
    "WELLS = 200\n",
    "ONE_WELL = MONEY/WELLS\n",
    "print('Затраты на 1 скважину: ', ONE_WELL)\n",
    "TARGET_BAR = ONE_WELL/450000\n",
    "print('требуемое количество с одной скважины для окупаемости, тыс. бар: ', round(TARGET_BAR,2))"
   ]
  },
  {
   "cell_type": "markdown",
   "metadata": {},
   "source": [
    "функция для расчета прибыли"
   ]
  },
  {
   "cell_type": "code",
   "execution_count": 26,
   "metadata": {},
   "outputs": [],
   "source": [
    "def revenue(target_valid, predictions_model, count):\n",
    "    \n",
    "    '''вделим в отдельный датафрейм список правильных ответов target_valid и список предсказаний \n",
    "    обученной модели predictions_model, чтобы закончить страдания с перепутавшимися индексами и задублированными значениями''' \n",
    "    \n",
    "    df_rev_calc= pd.DataFrame({'target_valid': target_valid, 'predictions_model': predictions_model})\n",
    "    \n",
    "    '''сортируем скважины по убыванию значений предсказаний и вбираем выбираем скважины \n",
    "    с максимальными значениями предсказаний, суммируем целевое значение объёма сырья, соответствующее этим максимальным \n",
    "    предсказаниям, и считаем прибль для полученного сырья''' \n",
    "    \n",
    "    selected = df_rev_calc.sort_values(by='predictions_model', ascending=False)['target_valid'][:count]\n",
    "\n",
    "    profit = ((BAR_1000 * selected.sum()) - MONEY)\n",
    "        \n",
    "    return profit"
   ]
  },
  {
   "cell_type": "code",
   "execution_count": 27,
   "metadata": {},
   "outputs": [
    {
     "name": "stdout",
     "output_type": "stream",
     "text": [
      "Первое месторождение:\n",
      "Итоговый доход: 3320826043.1398506\n"
     ]
    }
   ],
   "source": [
    "print('Первое месторождение:')\n",
    "print('Итоговый доход:',revenue(target_valid_1.reset_index(drop= True), pd.Series(predictions_valid_1), 200))\n"
   ]
  },
  {
   "cell_type": "code",
   "execution_count": 28,
   "metadata": {},
   "outputs": [
    {
     "name": "stdout",
     "output_type": "stream",
     "text": [
      "Второе месторождение:\n",
      "Итоговый доход: 2415086696.681511\n"
     ]
    }
   ],
   "source": [
    "print('Второе месторождение:')\n",
    "print('Итоговый доход:',revenue(target_valid_2.reset_index(drop= True), pd.Series(predictions_valid_2), 200))"
   ]
  },
  {
   "cell_type": "code",
   "execution_count": 29,
   "metadata": {},
   "outputs": [
    {
     "name": "stdout",
     "output_type": "stream",
     "text": [
      "Третье месторождение:\n",
      "Итоговый доход: 2710349963.5998325\n"
     ]
    }
   ],
   "source": [
    "print('Третье месторождение:')\n",
    "print('Итоговый доход:',revenue(target_valid_3.reset_index(drop= True), pd.Series(predictions_valid_3), 200))"
   ]
  },
  {
   "cell_type": "markdown",
   "metadata": {},
   "source": [
    "Во втором месторождении получается самый низкий итоговый доход, лидирует первое месторождение по доходу"
   ]
  },
  {
   "cell_type": "code",
   "execution_count": null,
   "metadata": {},
   "outputs": [],
   "source": []
  },
  {
   "cell_type": "markdown",
   "metadata": {},
   "source": [
    "## Расчёт прибыли и рисков "
   ]
  },
  {
   "cell_type": "code",
   "execution_count": 30,
   "metadata": {},
   "outputs": [],
   "source": [
    "def boot(target, predictions):  \n",
    "    values = []\n",
    "    for i in range(1000):\n",
    "        target_subsample = target.sample(n=500, replace=True, random_state=state)\n",
    "        predictions_subsample = predictions[target_subsample.index]\n",
    "        values.append(revenue(target_subsample, predictions_subsample, 200))\n",
    "    \n",
    "    values = pd.Series(values)\n",
    "    lower = values.quantile(0.025)\n",
    "    upper = values.quantile(0.975)\n",
    "    print('Ожидаемая прибыль, млрд рублей:',values.mean()/ 10**9) #посчитаем среднее значение, переведем в млрд для удобвства восприятие\n",
    "    print('верхняя граница доверительного интервала:', upper)\n",
    "    print('нижняя граница доверительного интервала:', lower)\n",
    "    print('Риск потерь',(values < 0).mean() * 100) #переведем в %"
   ]
  },
  {
   "cell_type": "code",
   "execution_count": 31,
   "metadata": {},
   "outputs": [
    {
     "name": "stdout",
     "output_type": "stream",
     "text": [
      "Первое месторождение:\n",
      "Ожидаемая прибыль, млрд рублей: 0.3961649848023711\n",
      "верхняя граница доверительного интервала: 909766941.5534226\n",
      "нижняя граница доверительного интервала: -111215545.89049526\n",
      "Риск потерь 6.9\n"
     ]
    }
   ],
   "source": [
    "print('Первое месторождение:')\n",
    "boot(target_valid_1.reset_index(drop= True), pd.Series(predictions_valid_1))"
   ]
  },
  {
   "cell_type": "code",
   "execution_count": 32,
   "metadata": {},
   "outputs": [
    {
     "name": "stdout",
     "output_type": "stream",
     "text": [
      "Второе месторождение:\n",
      "Ожидаемая прибыль, млрд рублей: 0.4611558172772397\n",
      "верхняя граница доверительного интервала: 862952060.2637234\n",
      "нижняя граница доверительного интервала: 78050810.7517417\n",
      "Риск потерь 0.7000000000000001\n"
     ]
    }
   ],
   "source": [
    "print('Второе месторождение:')\n",
    "boot(target_valid_2.reset_index(drop= True), pd.Series(predictions_valid_2))"
   ]
  },
  {
   "cell_type": "code",
   "execution_count": 33,
   "metadata": {},
   "outputs": [
    {
     "name": "stdout",
     "output_type": "stream",
     "text": [
      "Третье месторождение:\n",
      "Ожидаемая прибыль, млрд рублей: 0.39295047517060444\n",
      "верхняя граница доверительного интервала: 934562914.5511636\n",
      "нижняя граница доверительного интервала: -112227625.37857565\n",
      "Риск потерь 6.5\n"
     ]
    }
   ],
   "source": [
    "print('Третье месторождение:')\n",
    "boot(target_valid_3.reset_index(drop= True), pd.Series(predictions_valid_3))"
   ]
  },
  {
   "cell_type": "markdown",
   "metadata": {},
   "source": [
    "Вывод"
   ]
  },
  {
   "cell_type": "markdown",
   "metadata": {},
   "source": [
    "Шансы прогореть на 3 месторождении очень высокий, при этом прибыль меньше, чем  у мервого"
   ]
  },
  {
   "cell_type": "markdown",
   "metadata": {},
   "source": [
    "Раньше первое месторождение лидировало, но как показал расчет с помощью процедуры Bootstrap - шанс прогореть до 6.5%, мы не проходим по требуемому тз, поэтому откидываем его"
   ]
  },
  {
   "cell_type": "markdown",
   "metadata": {},
   "source": [
    "Итог: победило месторождение номер 2(датасет 1), там самый маленький запас по нефти, но шанс прогореть до 1%, в результат месторождение получилось хорошим среднячком с минимальными рисками. Если заказчик захочет рискнуть, то может отредактировать тз по риску и выбрать 1 месторождение. "
   ]
  }
 ],
 "metadata": {
  "ExecuteTimeLog": [
   {
    "duration": 1047,
    "start_time": "2022-12-29T08:40:00.916Z"
   },
   {
    "duration": 128,
    "start_time": "2022-12-29T08:40:01.965Z"
   },
   {
    "duration": 1921,
    "start_time": "2022-12-29T08:40:48.960Z"
   },
   {
    "duration": 42,
    "start_time": "2022-12-29T08:45:55.053Z"
   },
   {
    "duration": 32,
    "start_time": "2022-12-29T08:45:55.266Z"
   },
   {
    "duration": 11,
    "start_time": "2022-12-29T08:46:31.816Z"
   },
   {
    "duration": 22,
    "start_time": "2022-12-29T08:47:34.304Z"
   },
   {
    "duration": 11,
    "start_time": "2022-12-29T08:47:51.729Z"
   },
   {
    "duration": 130,
    "start_time": "2022-12-29T08:49:15.073Z"
   },
   {
    "duration": 94,
    "start_time": "2022-12-29T08:49:29.224Z"
   },
   {
    "duration": 104,
    "start_time": "2022-12-29T08:51:22.033Z"
   },
   {
    "duration": 1110,
    "start_time": "2022-12-29T08:51:59.017Z"
   },
   {
    "duration": 1082,
    "start_time": "2022-12-29T08:52:51.427Z"
   },
   {
    "duration": 28,
    "start_time": "2022-12-29T08:53:34.113Z"
   },
   {
    "duration": 18,
    "start_time": "2022-12-29T08:55:05.219Z"
   },
   {
    "duration": 26,
    "start_time": "2022-12-29T09:02:46.131Z"
   },
   {
    "duration": 14,
    "start_time": "2022-12-29T09:03:04.932Z"
   },
   {
    "duration": 26,
    "start_time": "2022-12-29T09:08:49.892Z"
   },
   {
    "duration": 16,
    "start_time": "2022-12-29T09:09:12.620Z"
   },
   {
    "duration": 8,
    "start_time": "2022-12-29T09:21:53.692Z"
   },
   {
    "duration": 16,
    "start_time": "2022-12-29T09:22:00.973Z"
   },
   {
    "duration": 16,
    "start_time": "2022-12-29T09:22:24.694Z"
   },
   {
    "duration": 14,
    "start_time": "2022-12-29T09:22:24.964Z"
   },
   {
    "duration": 14,
    "start_time": "2022-12-29T09:22:25.252Z"
   },
   {
    "duration": 10,
    "start_time": "2022-12-29T09:24:17.742Z"
   },
   {
    "duration": 8,
    "start_time": "2022-12-29T09:24:21.426Z"
   },
   {
    "duration": 8,
    "start_time": "2022-12-29T09:24:33.165Z"
   },
   {
    "duration": 18,
    "start_time": "2022-12-29T09:31:01.026Z"
   },
   {
    "duration": 13,
    "start_time": "2022-12-29T09:34:55.076Z"
   },
   {
    "duration": 1059,
    "start_time": "2022-12-29T09:39:01.895Z"
   },
   {
    "duration": 350,
    "start_time": "2022-12-29T09:39:02.956Z"
   },
   {
    "duration": 44,
    "start_time": "2022-12-29T09:39:03.307Z"
   },
   {
    "duration": 31,
    "start_time": "2022-12-29T09:39:03.353Z"
   },
   {
    "duration": 144,
    "start_time": "2022-12-29T09:39:03.386Z"
   },
   {
    "duration": 111,
    "start_time": "2022-12-29T09:39:03.532Z"
   },
   {
    "duration": 19,
    "start_time": "2022-12-29T09:39:03.644Z"
   },
   {
    "duration": 89,
    "start_time": "2022-12-29T09:39:03.664Z"
   },
   {
    "duration": 28,
    "start_time": "2022-12-29T09:39:03.755Z"
   },
   {
    "duration": 36,
    "start_time": "2022-12-29T09:39:03.787Z"
   },
   {
    "duration": 32,
    "start_time": "2022-12-29T09:39:03.826Z"
   },
   {
    "duration": 15,
    "start_time": "2022-12-29T09:39:03.859Z"
   },
   {
    "duration": 27,
    "start_time": "2022-12-29T09:39:03.876Z"
   },
   {
    "duration": 19,
    "start_time": "2022-12-29T09:39:03.913Z"
   },
   {
    "duration": 17,
    "start_time": "2022-12-29T09:39:03.934Z"
   },
   {
    "duration": 18,
    "start_time": "2022-12-29T09:39:03.953Z"
   },
   {
    "duration": 13,
    "start_time": "2022-12-29T09:39:03.973Z"
   },
   {
    "duration": 43,
    "start_time": "2022-12-29T09:39:03.988Z"
   },
   {
    "duration": 45,
    "start_time": "2022-12-30T09:41:18.597Z"
   },
   {
    "duration": 1062,
    "start_time": "2022-12-30T09:44:00.610Z"
   },
   {
    "duration": 771,
    "start_time": "2022-12-30T09:44:01.674Z"
   },
   {
    "duration": 34,
    "start_time": "2022-12-30T09:44:02.446Z"
   },
   {
    "duration": 34,
    "start_time": "2022-12-30T09:44:02.482Z"
   },
   {
    "duration": 123,
    "start_time": "2022-12-30T09:44:02.518Z"
   },
   {
    "duration": 107,
    "start_time": "2022-12-30T09:44:02.643Z"
   },
   {
    "duration": 19,
    "start_time": "2022-12-30T09:44:02.752Z"
   },
   {
    "duration": 85,
    "start_time": "2022-12-30T09:44:02.773Z"
   },
   {
    "duration": 40,
    "start_time": "2022-12-30T09:44:02.860Z"
   },
   {
    "duration": 13,
    "start_time": "2022-12-30T09:44:02.902Z"
   },
   {
    "duration": 41,
    "start_time": "2022-12-30T09:44:02.917Z"
   },
   {
    "duration": 15,
    "start_time": "2022-12-30T09:44:02.960Z"
   },
   {
    "duration": 44,
    "start_time": "2022-12-30T09:44:02.977Z"
   },
   {
    "duration": 43,
    "start_time": "2022-12-30T09:44:03.024Z"
   },
   {
    "duration": 16,
    "start_time": "2022-12-30T09:44:03.069Z"
   },
   {
    "duration": 19,
    "start_time": "2022-12-30T09:44:03.086Z"
   },
   {
    "duration": 14,
    "start_time": "2022-12-30T09:44:03.107Z"
   },
   {
    "duration": 19,
    "start_time": "2022-12-30T09:44:03.123Z"
   },
   {
    "duration": 156,
    "start_time": "2022-12-30T09:44:03.144Z"
   },
   {
    "duration": 26,
    "start_time": "2022-12-30T09:45:13.502Z"
   },
   {
    "duration": 27,
    "start_time": "2022-12-30T09:45:51.063Z"
   },
   {
    "duration": 26,
    "start_time": "2022-12-30T09:46:59.000Z"
   },
   {
    "duration": 1081,
    "start_time": "2022-12-30T09:47:29.778Z"
   },
   {
    "duration": 354,
    "start_time": "2022-12-30T09:47:30.861Z"
   },
   {
    "duration": 36,
    "start_time": "2022-12-30T09:47:31.218Z"
   },
   {
    "duration": 53,
    "start_time": "2022-12-30T09:47:31.256Z"
   },
   {
    "duration": 134,
    "start_time": "2022-12-30T09:47:31.311Z"
   },
   {
    "duration": 101,
    "start_time": "2022-12-30T09:47:31.447Z"
   },
   {
    "duration": 18,
    "start_time": "2022-12-30T09:47:31.549Z"
   },
   {
    "duration": 77,
    "start_time": "2022-12-30T09:47:31.569Z"
   },
   {
    "duration": 25,
    "start_time": "2022-12-30T09:47:31.647Z"
   },
   {
    "duration": 24,
    "start_time": "2022-12-30T09:47:31.673Z"
   },
   {
    "duration": 30,
    "start_time": "2022-12-30T09:47:31.698Z"
   },
   {
    "duration": 13,
    "start_time": "2022-12-30T09:47:31.729Z"
   },
   {
    "duration": 42,
    "start_time": "2022-12-30T09:47:31.744Z"
   },
   {
    "duration": 14,
    "start_time": "2022-12-30T09:47:31.796Z"
   },
   {
    "duration": 17,
    "start_time": "2022-12-30T09:47:31.811Z"
   },
   {
    "duration": 23,
    "start_time": "2022-12-30T09:47:31.830Z"
   },
   {
    "duration": 15,
    "start_time": "2022-12-30T09:47:31.855Z"
   },
   {
    "duration": 37,
    "start_time": "2022-12-30T09:47:31.871Z"
   },
   {
    "duration": 117,
    "start_time": "2022-12-30T09:47:31.910Z"
   },
   {
    "duration": 23,
    "start_time": "2022-12-30T09:48:00.735Z"
   },
   {
    "duration": 21,
    "start_time": "2022-12-30T09:49:49.351Z"
   },
   {
    "duration": 12,
    "start_time": "2022-12-30T09:50:51.968Z"
   },
   {
    "duration": 11,
    "start_time": "2022-12-30T09:51:08.963Z"
   },
   {
    "duration": 25,
    "start_time": "2022-12-30T09:51:23.175Z"
   },
   {
    "duration": 8,
    "start_time": "2022-12-30T09:51:49.930Z"
   },
   {
    "duration": 24,
    "start_time": "2022-12-30T09:57:39.097Z"
   },
   {
    "duration": 23,
    "start_time": "2022-12-30T09:58:40.041Z"
   },
   {
    "duration": 29,
    "start_time": "2022-12-30T09:59:16.085Z"
   },
   {
    "duration": 21,
    "start_time": "2022-12-30T09:59:33.416Z"
   },
   {
    "duration": 24,
    "start_time": "2022-12-30T09:59:49.468Z"
   },
   {
    "duration": 23,
    "start_time": "2022-12-30T10:00:04.630Z"
   },
   {
    "duration": 12,
    "start_time": "2022-12-30T10:03:17.929Z"
   },
   {
    "duration": 22,
    "start_time": "2022-12-30T10:03:29.555Z"
   },
   {
    "duration": 32,
    "start_time": "2022-12-30T10:14:51.634Z"
   },
   {
    "duration": 554,
    "start_time": "2022-12-30T11:49:18.452Z"
   },
   {
    "duration": 428,
    "start_time": "2022-12-30T11:49:46.677Z"
   },
   {
    "duration": 4,
    "start_time": "2022-12-30T11:58:42.130Z"
   },
   {
    "duration": 703,
    "start_time": "2022-12-30T12:03:13.310Z"
   },
   {
    "duration": 615,
    "start_time": "2022-12-30T12:05:16.582Z"
   },
   {
    "duration": 670,
    "start_time": "2022-12-30T12:09:48.830Z"
   },
   {
    "duration": 536,
    "start_time": "2022-12-30T12:09:59.167Z"
   },
   {
    "duration": 10,
    "start_time": "2022-12-30T12:52:56.010Z"
   },
   {
    "duration": 9,
    "start_time": "2022-12-30T12:53:03.033Z"
   },
   {
    "duration": 5,
    "start_time": "2022-12-30T13:04:35.372Z"
   },
   {
    "duration": 3,
    "start_time": "2022-12-30T13:04:36.544Z"
   },
   {
    "duration": 555,
    "start_time": "2022-12-30T13:04:36.744Z"
   },
   {
    "duration": 796,
    "start_time": "2022-12-30T13:04:37.301Z"
   },
   {
    "duration": 601,
    "start_time": "2022-12-30T13:04:38.099Z"
   },
   {
    "duration": 5,
    "start_time": "2022-12-30T13:04:54.819Z"
   },
   {
    "duration": 2,
    "start_time": "2022-12-30T13:04:54.983Z"
   },
   {
    "duration": 556,
    "start_time": "2022-12-30T13:04:55.144Z"
   },
   {
    "duration": 895,
    "start_time": "2022-12-30T13:04:55.702Z"
   },
   {
    "duration": 701,
    "start_time": "2022-12-30T13:04:56.599Z"
   },
   {
    "duration": 49,
    "start_time": "2022-12-30T13:05:14.858Z"
   },
   {
    "duration": 48,
    "start_time": "2022-12-30T13:05:25.432Z"
   },
   {
    "duration": 458,
    "start_time": "2022-12-30T13:05:33.242Z"
   },
   {
    "duration": 472,
    "start_time": "2022-12-30T13:05:34.527Z"
   },
   {
    "duration": 457,
    "start_time": "2022-12-30T13:05:35.744Z"
   },
   {
    "duration": 5,
    "start_time": "2022-12-30T13:15:21.026Z"
   },
   {
    "duration": 2,
    "start_time": "2022-12-30T13:15:21.601Z"
   },
   {
    "duration": 439,
    "start_time": "2022-12-30T13:15:21.961Z"
   },
   {
    "duration": 5,
    "start_time": "2022-12-30T13:15:44.245Z"
   },
   {
    "duration": 2,
    "start_time": "2022-12-30T13:15:44.524Z"
   },
   {
    "duration": 515,
    "start_time": "2022-12-30T13:15:44.785Z"
   },
   {
    "duration": 698,
    "start_time": "2022-12-30T13:15:45.302Z"
   },
   {
    "duration": 695,
    "start_time": "2022-12-30T13:15:46.002Z"
   },
   {
    "duration": 10,
    "start_time": "2022-12-30T13:37:28.098Z"
   },
   {
    "duration": 4,
    "start_time": "2022-12-30T13:37:45.465Z"
   },
   {
    "duration": 4,
    "start_time": "2022-12-30T13:38:50.027Z"
   },
   {
    "duration": 4,
    "start_time": "2022-12-30T16:18:24.913Z"
   },
   {
    "duration": 9,
    "start_time": "2022-12-31T09:15:15.128Z"
   },
   {
    "duration": 45,
    "start_time": "2022-12-31T09:15:15.519Z"
   },
   {
    "duration": 993,
    "start_time": "2022-12-31T09:17:44.783Z"
   },
   {
    "duration": 726,
    "start_time": "2022-12-31T09:17:45.778Z"
   },
   {
    "duration": 32,
    "start_time": "2022-12-31T09:17:46.505Z"
   },
   {
    "duration": 33,
    "start_time": "2022-12-31T09:17:46.539Z"
   },
   {
    "duration": 125,
    "start_time": "2022-12-31T09:17:46.574Z"
   },
   {
    "duration": 96,
    "start_time": "2022-12-31T09:17:46.701Z"
   },
   {
    "duration": 33,
    "start_time": "2022-12-31T09:17:46.799Z"
   },
   {
    "duration": 54,
    "start_time": "2022-12-31T09:17:46.833Z"
   },
   {
    "duration": 39,
    "start_time": "2022-12-31T09:17:46.888Z"
   },
   {
    "duration": 12,
    "start_time": "2022-12-31T09:17:46.930Z"
   },
   {
    "duration": 25,
    "start_time": "2022-12-31T09:17:46.944Z"
   },
   {
    "duration": 14,
    "start_time": "2022-12-31T09:17:46.970Z"
   },
   {
    "duration": 45,
    "start_time": "2022-12-31T09:17:46.985Z"
   },
   {
    "duration": 12,
    "start_time": "2022-12-31T09:17:47.032Z"
   },
   {
    "duration": 13,
    "start_time": "2022-12-31T09:17:47.046Z"
   },
   {
    "duration": 18,
    "start_time": "2022-12-31T09:17:47.061Z"
   },
   {
    "duration": 12,
    "start_time": "2022-12-31T09:17:47.080Z"
   },
   {
    "duration": 34,
    "start_time": "2022-12-31T09:17:47.094Z"
   },
   {
    "duration": 2,
    "start_time": "2022-12-31T09:17:47.130Z"
   },
   {
    "duration": 10,
    "start_time": "2022-12-31T09:17:47.133Z"
   },
   {
    "duration": 5,
    "start_time": "2022-12-31T09:17:47.144Z"
   },
   {
    "duration": 105,
    "start_time": "2022-12-31T09:17:47.151Z"
   },
   {
    "duration": 0,
    "start_time": "2022-12-31T09:17:47.257Z"
   },
   {
    "duration": 0,
    "start_time": "2022-12-31T09:17:47.258Z"
   },
   {
    "duration": 0,
    "start_time": "2022-12-31T09:17:47.259Z"
   },
   {
    "duration": 0,
    "start_time": "2022-12-31T09:17:47.260Z"
   },
   {
    "duration": 0,
    "start_time": "2022-12-31T09:17:47.261Z"
   },
   {
    "duration": 4,
    "start_time": "2022-12-31T09:18:04.510Z"
   },
   {
    "duration": 2,
    "start_time": "2022-12-31T09:18:05.705Z"
   },
   {
    "duration": 641,
    "start_time": "2022-12-31T09:18:06.285Z"
   },
   {
    "duration": 691,
    "start_time": "2022-12-31T09:18:07.538Z"
   },
   {
    "duration": 700,
    "start_time": "2022-12-31T09:18:08.325Z"
   },
   {
    "duration": 4,
    "start_time": "2022-12-31T09:18:11.420Z"
   },
   {
    "duration": 3,
    "start_time": "2022-12-31T09:18:12.874Z"
   },
   {
    "duration": 16,
    "start_time": "2022-12-31T09:18:13.994Z"
   },
   {
    "duration": 3,
    "start_time": "2022-12-31T09:18:50.866Z"
   },
   {
    "duration": 14,
    "start_time": "2022-12-31T09:18:51.874Z"
   },
   {
    "duration": 1032,
    "start_time": "2023-01-03T08:03:21.990Z"
   },
   {
    "duration": 1539,
    "start_time": "2023-01-03T08:03:23.024Z"
   },
   {
    "duration": 34,
    "start_time": "2023-01-03T08:03:24.565Z"
   },
   {
    "duration": 33,
    "start_time": "2023-01-03T08:03:24.601Z"
   },
   {
    "duration": 130,
    "start_time": "2023-01-03T08:03:24.636Z"
   },
   {
    "duration": 111,
    "start_time": "2023-01-03T08:03:24.768Z"
   },
   {
    "duration": 20,
    "start_time": "2023-01-03T08:03:24.881Z"
   },
   {
    "duration": 70,
    "start_time": "2023-01-03T08:03:24.923Z"
   },
   {
    "duration": 44,
    "start_time": "2023-01-03T08:03:24.995Z"
   },
   {
    "duration": 14,
    "start_time": "2023-01-03T08:03:25.042Z"
   },
   {
    "duration": 28,
    "start_time": "2023-01-03T08:03:25.058Z"
   },
   {
    "duration": 39,
    "start_time": "2023-01-03T08:03:25.088Z"
   },
   {
    "duration": 35,
    "start_time": "2023-01-03T08:03:25.129Z"
   },
   {
    "duration": 14,
    "start_time": "2023-01-03T08:03:25.166Z"
   },
   {
    "duration": 19,
    "start_time": "2023-01-03T08:03:25.181Z"
   },
   {
    "duration": 32,
    "start_time": "2023-01-03T08:03:25.201Z"
   },
   {
    "duration": 14,
    "start_time": "2023-01-03T08:03:25.235Z"
   },
   {
    "duration": 13,
    "start_time": "2023-01-03T08:03:25.250Z"
   },
   {
    "duration": 2,
    "start_time": "2023-01-03T08:03:25.265Z"
   },
   {
    "duration": 5,
    "start_time": "2023-01-03T08:03:25.269Z"
   },
   {
    "duration": 8,
    "start_time": "2023-01-03T08:03:25.275Z"
   },
   {
    "duration": 548,
    "start_time": "2023-01-03T08:03:25.284Z"
   },
   {
    "duration": 700,
    "start_time": "2023-01-03T08:03:25.925Z"
   },
   {
    "duration": 798,
    "start_time": "2023-01-03T08:03:26.627Z"
   },
   {
    "duration": 95,
    "start_time": "2023-01-03T08:03:27.427Z"
   },
   {
    "duration": 9,
    "start_time": "2023-01-03T08:03:27.524Z"
   },
   {
    "duration": 174,
    "start_time": "2023-01-03T08:03:27.536Z"
   },
   {
    "duration": 992,
    "start_time": "2023-01-03T08:09:14.283Z"
   },
   {
    "duration": 357,
    "start_time": "2023-01-03T08:09:15.276Z"
   },
   {
    "duration": 35,
    "start_time": "2023-01-03T08:09:15.637Z"
   },
   {
    "duration": 54,
    "start_time": "2023-01-03T08:09:15.674Z"
   },
   {
    "duration": 139,
    "start_time": "2023-01-03T08:09:15.729Z"
   },
   {
    "duration": 118,
    "start_time": "2023-01-03T08:09:15.870Z"
   },
   {
    "duration": 33,
    "start_time": "2023-01-03T08:09:15.990Z"
   },
   {
    "duration": 64,
    "start_time": "2023-01-03T08:09:16.024Z"
   },
   {
    "duration": 45,
    "start_time": "2023-01-03T08:09:16.093Z"
   },
   {
    "duration": 14,
    "start_time": "2023-01-03T08:09:16.140Z"
   },
   {
    "duration": 26,
    "start_time": "2023-01-03T08:09:16.156Z"
   },
   {
    "duration": 42,
    "start_time": "2023-01-03T08:09:16.183Z"
   },
   {
    "duration": 26,
    "start_time": "2023-01-03T08:09:16.227Z"
   },
   {
    "duration": 14,
    "start_time": "2023-01-03T08:09:16.255Z"
   },
   {
    "duration": 20,
    "start_time": "2023-01-03T08:09:16.271Z"
   },
   {
    "duration": 43,
    "start_time": "2023-01-03T08:09:16.292Z"
   },
   {
    "duration": 13,
    "start_time": "2023-01-03T08:09:16.337Z"
   },
   {
    "duration": 14,
    "start_time": "2023-01-03T08:09:16.351Z"
   },
   {
    "duration": 2,
    "start_time": "2023-01-03T08:09:16.366Z"
   },
   {
    "duration": 7,
    "start_time": "2023-01-03T08:09:16.369Z"
   },
   {
    "duration": 5,
    "start_time": "2023-01-03T08:09:16.378Z"
   },
   {
    "duration": 541,
    "start_time": "2023-01-03T08:09:16.384Z"
   },
   {
    "duration": 798,
    "start_time": "2023-01-03T08:09:16.927Z"
   },
   {
    "duration": 699,
    "start_time": "2023-01-03T08:09:17.727Z"
   },
   {
    "duration": 95,
    "start_time": "2023-01-03T08:09:18.428Z"
   },
   {
    "duration": 6,
    "start_time": "2023-01-03T08:09:18.525Z"
   },
   {
    "duration": 98,
    "start_time": "2023-01-03T08:09:18.535Z"
   },
   {
    "duration": 1023,
    "start_time": "2023-01-03T08:13:25.845Z"
   },
   {
    "duration": 357,
    "start_time": "2023-01-03T08:13:26.870Z"
   },
   {
    "duration": 33,
    "start_time": "2023-01-03T08:13:27.229Z"
   },
   {
    "duration": 33,
    "start_time": "2023-01-03T08:13:27.264Z"
   },
   {
    "duration": 131,
    "start_time": "2023-01-03T08:13:27.321Z"
   },
   {
    "duration": 108,
    "start_time": "2023-01-03T08:13:27.454Z"
   },
   {
    "duration": 18,
    "start_time": "2023-01-03T08:13:27.564Z"
   },
   {
    "duration": 79,
    "start_time": "2023-01-03T08:13:27.584Z"
   },
   {
    "duration": 28,
    "start_time": "2023-01-03T08:13:27.665Z"
   },
   {
    "duration": 29,
    "start_time": "2023-01-03T08:13:27.695Z"
   },
   {
    "duration": 26,
    "start_time": "2023-01-03T08:13:27.726Z"
   },
   {
    "duration": 13,
    "start_time": "2023-01-03T08:13:27.754Z"
   },
   {
    "duration": 53,
    "start_time": "2023-01-03T08:13:27.769Z"
   },
   {
    "duration": 15,
    "start_time": "2023-01-03T08:13:27.824Z"
   },
   {
    "duration": 28,
    "start_time": "2023-01-03T08:13:27.841Z"
   },
   {
    "duration": 20,
    "start_time": "2023-01-03T08:13:27.871Z"
   },
   {
    "duration": 14,
    "start_time": "2023-01-03T08:13:27.892Z"
   },
   {
    "duration": 15,
    "start_time": "2023-01-03T08:13:27.921Z"
   },
   {
    "duration": 2,
    "start_time": "2023-01-03T08:13:27.937Z"
   },
   {
    "duration": 6,
    "start_time": "2023-01-03T08:13:27.940Z"
   },
   {
    "duration": 5,
    "start_time": "2023-01-03T08:13:27.948Z"
   },
   {
    "duration": 471,
    "start_time": "2023-01-03T08:13:27.954Z"
   },
   {
    "duration": 698,
    "start_time": "2023-01-03T08:13:28.427Z"
   },
   {
    "duration": 701,
    "start_time": "2023-01-03T08:13:29.126Z"
   },
   {
    "duration": 94,
    "start_time": "2023-01-03T08:13:29.829Z"
   },
   {
    "duration": 11,
    "start_time": "2023-01-03T08:13:29.925Z"
   },
   {
    "duration": 90,
    "start_time": "2023-01-03T08:13:29.938Z"
   },
   {
    "duration": 11,
    "start_time": "2023-01-03T08:13:30.031Z"
   },
   {
    "duration": 12,
    "start_time": "2023-01-03T08:13:30.044Z"
   },
   {
    "duration": 5,
    "start_time": "2023-01-03T09:54:00.925Z"
   },
   {
    "duration": 95,
    "start_time": "2023-01-03T09:54:01.408Z"
   },
   {
    "duration": 1110,
    "start_time": "2023-01-03T09:54:39.504Z"
   },
   {
    "duration": 365,
    "start_time": "2023-01-03T09:54:40.616Z"
   },
   {
    "duration": 41,
    "start_time": "2023-01-03T09:54:40.982Z"
   },
   {
    "duration": 33,
    "start_time": "2023-01-03T09:54:41.025Z"
   },
   {
    "duration": 149,
    "start_time": "2023-01-03T09:54:41.060Z"
   },
   {
    "duration": 124,
    "start_time": "2023-01-03T09:54:41.211Z"
   },
   {
    "duration": 19,
    "start_time": "2023-01-03T09:54:41.336Z"
   },
   {
    "duration": 89,
    "start_time": "2023-01-03T09:54:41.356Z"
   },
   {
    "duration": 29,
    "start_time": "2023-01-03T09:54:41.447Z"
   },
   {
    "duration": 14,
    "start_time": "2023-01-03T09:54:41.478Z"
   },
   {
    "duration": 47,
    "start_time": "2023-01-03T09:54:41.494Z"
   },
   {
    "duration": 15,
    "start_time": "2023-01-03T09:54:41.543Z"
   },
   {
    "duration": 40,
    "start_time": "2023-01-03T09:54:41.560Z"
   },
   {
    "duration": 22,
    "start_time": "2023-01-03T09:54:41.621Z"
   },
   {
    "duration": 17,
    "start_time": "2023-01-03T09:54:41.645Z"
   },
   {
    "duration": 27,
    "start_time": "2023-01-03T09:54:41.664Z"
   },
   {
    "duration": 30,
    "start_time": "2023-01-03T09:54:41.693Z"
   },
   {
    "duration": 15,
    "start_time": "2023-01-03T09:54:41.725Z"
   },
   {
    "duration": 2,
    "start_time": "2023-01-03T09:54:41.741Z"
   },
   {
    "duration": 7,
    "start_time": "2023-01-03T09:54:41.745Z"
   },
   {
    "duration": 5,
    "start_time": "2023-01-03T09:54:41.753Z"
   },
   {
    "duration": 565,
    "start_time": "2023-01-03T09:54:41.760Z"
   },
   {
    "duration": 598,
    "start_time": "2023-01-03T09:54:42.327Z"
   },
   {
    "duration": 697,
    "start_time": "2023-01-03T09:54:42.928Z"
   },
   {
    "duration": 5,
    "start_time": "2023-01-03T09:54:43.627Z"
   },
   {
    "duration": 13,
    "start_time": "2023-01-03T09:54:43.723Z"
   },
   {
    "duration": 15,
    "start_time": "2023-01-03T09:54:43.738Z"
   },
   {
    "duration": 36,
    "start_time": "2023-01-03T09:54:43.756Z"
   },
   {
    "duration": 19,
    "start_time": "2023-01-03T09:54:43.794Z"
   },
   {
    "duration": 40,
    "start_time": "2023-01-03T09:54:43.815Z"
   },
   {
    "duration": 146,
    "start_time": "2023-01-03T09:54:43.857Z"
   },
   {
    "duration": 5,
    "start_time": "2023-01-03T09:55:20.968Z"
   },
   {
    "duration": 2717,
    "start_time": "2023-01-03T09:55:21.865Z"
   },
   {
    "duration": 892,
    "start_time": "2023-01-03T09:56:04.403Z"
   },
   {
    "duration": 898,
    "start_time": "2023-01-03T09:56:05.297Z"
   },
   {
    "duration": 887,
    "start_time": "2023-01-03T09:56:06.196Z"
   },
   {
    "duration": 4,
    "start_time": "2023-01-03T09:56:25.661Z"
   },
   {
    "duration": 866,
    "start_time": "2023-01-03T09:56:25.856Z"
   },
   {
    "duration": 867,
    "start_time": "2023-01-03T09:56:26.724Z"
   },
   {
    "duration": 869,
    "start_time": "2023-01-03T09:56:27.592Z"
   },
   {
    "duration": 5,
    "start_time": "2023-01-03T10:10:43.243Z"
   },
   {
    "duration": 907,
    "start_time": "2023-01-03T10:10:43.563Z"
   },
   {
    "duration": 846,
    "start_time": "2023-01-03T10:10:44.471Z"
   },
   {
    "duration": 863,
    "start_time": "2023-01-03T10:10:45.322Z"
   },
   {
    "duration": 5,
    "start_time": "2023-01-03T10:13:28.138Z"
   },
   {
    "duration": 660,
    "start_time": "2023-01-03T10:13:28.435Z"
   },
   {
    "duration": 666,
    "start_time": "2023-01-03T10:13:29.097Z"
   },
   {
    "duration": 669,
    "start_time": "2023-01-03T10:13:29.765Z"
   },
   {
    "duration": 5,
    "start_time": "2023-01-03T10:14:41.849Z"
   },
   {
    "duration": 658,
    "start_time": "2023-01-03T10:14:42.042Z"
   },
   {
    "duration": 632,
    "start_time": "2023-01-03T10:14:42.702Z"
   },
   {
    "duration": 639,
    "start_time": "2023-01-03T10:14:43.336Z"
   },
   {
    "duration": 6,
    "start_time": "2023-01-03T10:15:02.074Z"
   },
   {
    "duration": 704,
    "start_time": "2023-01-03T10:15:02.314Z"
   },
   {
    "duration": 696,
    "start_time": "2023-01-03T10:15:03.022Z"
   },
   {
    "duration": 754,
    "start_time": "2023-01-03T10:15:03.722Z"
   },
   {
    "duration": 6,
    "start_time": "2023-01-03T10:19:41.355Z"
   },
   {
    "duration": 716,
    "start_time": "2023-01-03T10:19:41.578Z"
   },
   {
    "duration": 698,
    "start_time": "2023-01-03T10:19:42.296Z"
   },
   {
    "duration": 700,
    "start_time": "2023-01-03T10:19:42.995Z"
   },
   {
    "duration": 5,
    "start_time": "2023-01-03T10:21:29.900Z"
   },
   {
    "duration": 660,
    "start_time": "2023-01-03T10:21:30.099Z"
   },
   {
    "duration": 660,
    "start_time": "2023-01-03T10:21:30.761Z"
   },
   {
    "duration": 704,
    "start_time": "2023-01-03T10:21:31.423Z"
   },
   {
    "duration": 6,
    "start_time": "2023-01-03T10:21:33.467Z"
   },
   {
    "duration": 729,
    "start_time": "2023-01-03T10:21:33.654Z"
   },
   {
    "duration": 0,
    "start_time": "2023-01-03T10:21:34.385Z"
   },
   {
    "duration": 0,
    "start_time": "2023-01-03T10:21:34.386Z"
   },
   {
    "duration": 5,
    "start_time": "2023-01-03T10:21:45.291Z"
   },
   {
    "duration": 675,
    "start_time": "2023-01-03T10:21:45.450Z"
   },
   {
    "duration": 662,
    "start_time": "2023-01-03T10:21:46.128Z"
   },
   {
    "duration": 665,
    "start_time": "2023-01-03T10:21:46.792Z"
   },
   {
    "duration": 6,
    "start_time": "2023-01-03T10:23:28.974Z"
   },
   {
    "duration": 658,
    "start_time": "2023-01-03T10:23:29.172Z"
   },
   {
    "duration": 677,
    "start_time": "2023-01-03T10:23:29.832Z"
   },
   {
    "duration": 695,
    "start_time": "2023-01-03T10:23:30.510Z"
   },
   {
    "duration": 5,
    "start_time": "2023-01-03T10:29:40.879Z"
   },
   {
    "duration": 647,
    "start_time": "2023-01-03T10:29:41.060Z"
   },
   {
    "duration": 698,
    "start_time": "2023-01-03T10:29:41.709Z"
   },
   {
    "duration": 704,
    "start_time": "2023-01-03T10:29:42.409Z"
   },
   {
    "duration": 1043,
    "start_time": "2023-01-03T10:42:56.144Z"
   },
   {
    "duration": 373,
    "start_time": "2023-01-03T10:42:57.189Z"
   },
   {
    "duration": 36,
    "start_time": "2023-01-03T10:42:57.563Z"
   },
   {
    "duration": 46,
    "start_time": "2023-01-03T10:42:57.601Z"
   },
   {
    "duration": 141,
    "start_time": "2023-01-03T10:42:57.648Z"
   },
   {
    "duration": 116,
    "start_time": "2023-01-03T10:42:57.791Z"
   },
   {
    "duration": 31,
    "start_time": "2023-01-03T10:42:57.908Z"
   },
   {
    "duration": 85,
    "start_time": "2023-01-03T10:42:57.940Z"
   },
   {
    "duration": 30,
    "start_time": "2023-01-03T10:42:58.027Z"
   },
   {
    "duration": 15,
    "start_time": "2023-01-03T10:42:58.060Z"
   },
   {
    "duration": 49,
    "start_time": "2023-01-03T10:42:58.076Z"
   },
   {
    "duration": 14,
    "start_time": "2023-01-03T10:42:58.126Z"
   },
   {
    "duration": 28,
    "start_time": "2023-01-03T10:42:58.142Z"
   },
   {
    "duration": 13,
    "start_time": "2023-01-03T10:42:58.172Z"
   },
   {
    "duration": 36,
    "start_time": "2023-01-03T10:42:58.187Z"
   },
   {
    "duration": 20,
    "start_time": "2023-01-03T10:42:58.225Z"
   },
   {
    "duration": 13,
    "start_time": "2023-01-03T10:42:58.246Z"
   },
   {
    "duration": 13,
    "start_time": "2023-01-03T10:42:58.261Z"
   },
   {
    "duration": 3,
    "start_time": "2023-01-03T10:42:58.275Z"
   },
   {
    "duration": 6,
    "start_time": "2023-01-03T10:42:58.279Z"
   },
   {
    "duration": 7,
    "start_time": "2023-01-03T10:42:58.286Z"
   },
   {
    "duration": 632,
    "start_time": "2023-01-03T10:42:58.294Z"
   },
   {
    "duration": 797,
    "start_time": "2023-01-03T10:42:58.928Z"
   },
   {
    "duration": 699,
    "start_time": "2023-01-03T10:42:59.726Z"
   },
   {
    "duration": 96,
    "start_time": "2023-01-03T10:43:00.427Z"
   },
   {
    "duration": 16,
    "start_time": "2023-01-03T10:43:00.525Z"
   },
   {
    "duration": 7,
    "start_time": "2023-01-03T10:43:00.622Z"
   },
   {
    "duration": 11,
    "start_time": "2023-01-03T10:43:00.632Z"
   },
   {
    "duration": 19,
    "start_time": "2023-01-03T10:43:00.645Z"
   },
   {
    "duration": 18,
    "start_time": "2023-01-03T10:43:00.665Z"
   },
   {
    "duration": 741,
    "start_time": "2023-01-03T10:43:00.685Z"
   },
   {
    "duration": 734,
    "start_time": "2023-01-03T10:43:01.428Z"
   },
   {
    "duration": 722,
    "start_time": "2023-01-03T10:43:02.164Z"
   },
   {
    "duration": 4,
    "start_time": "2023-01-03T10:43:57.358Z"
   },
   {
    "duration": 685,
    "start_time": "2023-01-03T10:43:57.597Z"
   },
   {
    "duration": 674,
    "start_time": "2023-01-03T10:43:58.284Z"
   },
   {
    "duration": 677,
    "start_time": "2023-01-03T10:43:58.960Z"
   },
   {
    "duration": 1015,
    "start_time": "2023-01-03T11:01:02.976Z"
   },
   {
    "duration": 409,
    "start_time": "2023-01-03T11:01:03.992Z"
   },
   {
    "duration": 42,
    "start_time": "2023-01-03T11:01:04.402Z"
   },
   {
    "duration": 32,
    "start_time": "2023-01-03T11:01:04.446Z"
   },
   {
    "duration": 142,
    "start_time": "2023-01-03T11:01:04.480Z"
   },
   {
    "duration": 115,
    "start_time": "2023-01-03T11:01:04.623Z"
   },
   {
    "duration": 18,
    "start_time": "2023-01-03T11:01:04.739Z"
   },
   {
    "duration": 82,
    "start_time": "2023-01-03T11:01:04.758Z"
   },
   {
    "duration": 29,
    "start_time": "2023-01-03T11:01:04.841Z"
   },
   {
    "duration": 13,
    "start_time": "2023-01-03T11:01:04.872Z"
   },
   {
    "duration": 54,
    "start_time": "2023-01-03T11:01:04.887Z"
   },
   {
    "duration": 17,
    "start_time": "2023-01-03T11:01:04.943Z"
   },
   {
    "duration": 48,
    "start_time": "2023-01-03T11:01:04.962Z"
   },
   {
    "duration": 14,
    "start_time": "2023-01-03T11:01:05.011Z"
   },
   {
    "duration": 47,
    "start_time": "2023-01-03T11:01:05.027Z"
   },
   {
    "duration": 43,
    "start_time": "2023-01-03T11:01:05.075Z"
   },
   {
    "duration": 14,
    "start_time": "2023-01-03T11:01:05.119Z"
   },
   {
    "duration": 19,
    "start_time": "2023-01-03T11:01:05.135Z"
   },
   {
    "duration": 9,
    "start_time": "2023-01-03T11:01:05.155Z"
   },
   {
    "duration": 26,
    "start_time": "2023-01-03T11:01:05.166Z"
   },
   {
    "duration": 30,
    "start_time": "2023-01-03T11:01:05.193Z"
   },
   {
    "duration": 500,
    "start_time": "2023-01-03T11:01:05.225Z"
   },
   {
    "duration": 798,
    "start_time": "2023-01-03T11:01:05.727Z"
   },
   {
    "duration": 698,
    "start_time": "2023-01-03T11:01:06.527Z"
   },
   {
    "duration": 5,
    "start_time": "2023-01-03T11:01:07.227Z"
   },
   {
    "duration": 4,
    "start_time": "2023-01-03T11:01:07.323Z"
   },
   {
    "duration": 100,
    "start_time": "2023-01-03T11:01:07.330Z"
   },
   {
    "duration": 7,
    "start_time": "2023-01-03T11:01:07.432Z"
   },
   {
    "duration": 8,
    "start_time": "2023-01-03T11:01:07.440Z"
   },
   {
    "duration": 4,
    "start_time": "2023-01-03T11:01:07.449Z"
   },
   {
    "duration": 677,
    "start_time": "2023-01-03T11:01:07.455Z"
   },
   {
    "duration": 644,
    "start_time": "2023-01-03T11:01:08.134Z"
   },
   {
    "duration": 655,
    "start_time": "2023-01-03T11:01:08.780Z"
   },
   {
    "duration": 1077,
    "start_time": "2023-01-03T11:09:10.835Z"
   },
   {
    "duration": 356,
    "start_time": "2023-01-03T11:09:11.914Z"
   },
   {
    "duration": 35,
    "start_time": "2023-01-03T11:09:12.272Z"
   },
   {
    "duration": 42,
    "start_time": "2023-01-03T11:09:12.308Z"
   },
   {
    "duration": 145,
    "start_time": "2023-01-03T11:09:12.352Z"
   },
   {
    "duration": 122,
    "start_time": "2023-01-03T11:09:12.499Z"
   },
   {
    "duration": 18,
    "start_time": "2023-01-03T11:09:12.623Z"
   },
   {
    "duration": 80,
    "start_time": "2023-01-03T11:09:12.643Z"
   },
   {
    "duration": 31,
    "start_time": "2023-01-03T11:09:12.724Z"
   },
   {
    "duration": 13,
    "start_time": "2023-01-03T11:09:12.756Z"
   },
   {
    "duration": 28,
    "start_time": "2023-01-03T11:09:12.771Z"
   },
   {
    "duration": 15,
    "start_time": "2023-01-03T11:09:12.822Z"
   },
   {
    "duration": 33,
    "start_time": "2023-01-03T11:09:12.839Z"
   },
   {
    "duration": 14,
    "start_time": "2023-01-03T11:09:12.875Z"
   },
   {
    "duration": 38,
    "start_time": "2023-01-03T11:09:12.891Z"
   },
   {
    "duration": 20,
    "start_time": "2023-01-03T11:09:12.931Z"
   },
   {
    "duration": 14,
    "start_time": "2023-01-03T11:09:12.952Z"
   },
   {
    "duration": 14,
    "start_time": "2023-01-03T11:09:12.967Z"
   },
   {
    "duration": 2,
    "start_time": "2023-01-03T11:09:12.983Z"
   },
   {
    "duration": 9,
    "start_time": "2023-01-03T11:09:12.986Z"
   },
   {
    "duration": 26,
    "start_time": "2023-01-03T11:09:12.997Z"
   },
   {
    "duration": 600,
    "start_time": "2023-01-03T11:09:13.025Z"
   },
   {
    "duration": 695,
    "start_time": "2023-01-03T11:09:13.628Z"
   },
   {
    "duration": 601,
    "start_time": "2023-01-03T11:09:14.324Z"
   },
   {
    "duration": 94,
    "start_time": "2023-01-03T11:09:14.927Z"
   },
   {
    "duration": 6,
    "start_time": "2023-01-03T11:09:15.023Z"
   },
   {
    "duration": 16,
    "start_time": "2023-01-03T11:09:15.030Z"
   },
   {
    "duration": 75,
    "start_time": "2023-01-03T11:09:15.048Z"
   },
   {
    "duration": 7,
    "start_time": "2023-01-03T11:09:15.124Z"
   },
   {
    "duration": 5,
    "start_time": "2023-01-03T11:09:15.133Z"
   },
   {
    "duration": 665,
    "start_time": "2023-01-03T11:09:15.139Z"
   },
   {
    "duration": 675,
    "start_time": "2023-01-03T11:09:15.806Z"
   },
   {
    "duration": 640,
    "start_time": "2023-01-03T11:09:16.483Z"
   },
   {
    "duration": 98,
    "start_time": "2023-01-03T11:25:32.017Z"
   },
   {
    "duration": 23,
    "start_time": "2023-01-03T11:26:35.513Z"
   },
   {
    "duration": 9,
    "start_time": "2023-01-03T11:30:42.184Z"
   },
   {
    "duration": 5,
    "start_time": "2023-01-03T11:31:24.289Z"
   },
   {
    "duration": 1840,
    "start_time": "2023-01-03T11:31:24.624Z"
   },
   {
    "duration": 11,
    "start_time": "2023-01-03T11:36:42.866Z"
   },
   {
    "duration": 71,
    "start_time": "2023-01-03T11:38:19.635Z"
   },
   {
    "duration": 26,
    "start_time": "2023-01-03T11:38:34.042Z"
   },
   {
    "duration": 4,
    "start_time": "2023-01-03T11:39:46.876Z"
   },
   {
    "duration": 21,
    "start_time": "2023-01-03T11:52:07.238Z"
   },
   {
    "duration": 3,
    "start_time": "2023-01-03T11:58:58.292Z"
   },
   {
    "duration": 8,
    "start_time": "2023-01-03T11:58:58.985Z"
   },
   {
    "duration": 7,
    "start_time": "2023-01-03T11:58:59.586Z"
   },
   {
    "duration": 10,
    "start_time": "2023-01-03T12:10:33.911Z"
   },
   {
    "duration": 12,
    "start_time": "2023-01-03T12:11:04.987Z"
   },
   {
    "duration": 644,
    "start_time": "2023-01-03T12:11:52.555Z"
   },
   {
    "duration": 16,
    "start_time": "2023-01-03T12:13:13.972Z"
   },
   {
    "duration": 12,
    "start_time": "2023-01-03T12:18:21.300Z"
   },
   {
    "duration": 11,
    "start_time": "2023-01-03T12:18:57.716Z"
   },
   {
    "duration": 11,
    "start_time": "2023-01-03T12:19:15.303Z"
   },
   {
    "duration": 11,
    "start_time": "2023-01-03T12:21:24.580Z"
   },
   {
    "duration": 10,
    "start_time": "2023-01-03T12:21:30.534Z"
   },
   {
    "duration": 21,
    "start_time": "2023-01-03T12:27:49.894Z"
   },
   {
    "duration": 5,
    "start_time": "2023-01-03T12:44:58.711Z"
   },
   {
    "duration": 6,
    "start_time": "2023-01-03T12:46:41.534Z"
   },
   {
    "duration": 628,
    "start_time": "2023-01-03T12:46:41.802Z"
   },
   {
    "duration": 0,
    "start_time": "2023-01-03T12:46:42.434Z"
   },
   {
    "duration": 5,
    "start_time": "2023-01-03T12:47:01.078Z"
   },
   {
    "duration": 569,
    "start_time": "2023-01-03T12:47:01.359Z"
   },
   {
    "duration": 456,
    "start_time": "2023-01-03T12:47:03.671Z"
   },
   {
    "duration": 453,
    "start_time": "2023-01-03T12:47:04.975Z"
   },
   {
    "duration": 1059,
    "start_time": "2023-01-03T12:55:18.958Z"
   },
   {
    "duration": 361,
    "start_time": "2023-01-03T12:55:20.019Z"
   },
   {
    "duration": 45,
    "start_time": "2023-01-03T12:55:20.382Z"
   },
   {
    "duration": 31,
    "start_time": "2023-01-03T12:55:20.429Z"
   },
   {
    "duration": 133,
    "start_time": "2023-01-03T12:55:20.461Z"
   },
   {
    "duration": 106,
    "start_time": "2023-01-03T12:55:20.596Z"
   },
   {
    "duration": 34,
    "start_time": "2023-01-03T12:55:20.703Z"
   },
   {
    "duration": 73,
    "start_time": "2023-01-03T12:55:20.739Z"
   },
   {
    "duration": 33,
    "start_time": "2023-01-03T12:55:20.823Z"
   },
   {
    "duration": 15,
    "start_time": "2023-01-03T12:55:20.859Z"
   },
   {
    "duration": 52,
    "start_time": "2023-01-03T12:55:20.876Z"
   },
   {
    "duration": 15,
    "start_time": "2023-01-03T12:55:20.930Z"
   },
   {
    "duration": 32,
    "start_time": "2023-01-03T12:55:20.946Z"
   },
   {
    "duration": 17,
    "start_time": "2023-01-03T12:55:20.980Z"
   },
   {
    "duration": 45,
    "start_time": "2023-01-03T12:55:20.999Z"
   },
   {
    "duration": 20,
    "start_time": "2023-01-03T12:55:21.045Z"
   },
   {
    "duration": 16,
    "start_time": "2023-01-03T12:55:21.067Z"
   },
   {
    "duration": 38,
    "start_time": "2023-01-03T12:55:21.084Z"
   },
   {
    "duration": 3,
    "start_time": "2023-01-03T12:55:21.124Z"
   },
   {
    "duration": 9,
    "start_time": "2023-01-03T12:55:21.129Z"
   },
   {
    "duration": 8,
    "start_time": "2023-01-03T12:55:21.139Z"
   },
   {
    "duration": 579,
    "start_time": "2023-01-03T12:55:21.148Z"
   },
   {
    "duration": 701,
    "start_time": "2023-01-03T12:55:21.728Z"
   },
   {
    "duration": 696,
    "start_time": "2023-01-03T12:55:22.431Z"
   },
   {
    "duration": 2,
    "start_time": "2023-01-03T12:55:23.129Z"
   },
   {
    "duration": 3,
    "start_time": "2023-01-03T12:55:23.223Z"
   },
   {
    "duration": 95,
    "start_time": "2023-01-03T12:55:23.227Z"
   },
   {
    "duration": 3,
    "start_time": "2023-01-03T12:55:23.325Z"
   },
   {
    "duration": 6,
    "start_time": "2023-01-03T12:55:23.329Z"
   },
   {
    "duration": 6,
    "start_time": "2023-01-03T12:55:23.337Z"
   },
   {
    "duration": 111,
    "start_time": "2023-01-03T12:55:23.346Z"
   },
   {
    "duration": 0,
    "start_time": "2023-01-03T12:55:23.459Z"
   },
   {
    "duration": 0,
    "start_time": "2023-01-03T12:55:23.460Z"
   },
   {
    "duration": 0,
    "start_time": "2023-01-03T12:55:23.461Z"
   },
   {
    "duration": 0,
    "start_time": "2023-01-03T12:55:23.462Z"
   },
   {
    "duration": 0,
    "start_time": "2023-01-03T12:55:23.463Z"
   },
   {
    "duration": 0,
    "start_time": "2023-01-03T12:55:23.465Z"
   },
   {
    "duration": 0,
    "start_time": "2023-01-03T12:55:23.466Z"
   },
   {
    "duration": 3,
    "start_time": "2023-01-03T12:58:51.736Z"
   },
   {
    "duration": 24,
    "start_time": "2023-01-03T12:58:52.327Z"
   },
   {
    "duration": 1118,
    "start_time": "2023-01-03T12:59:17.889Z"
   },
   {
    "duration": 373,
    "start_time": "2023-01-03T12:59:19.009Z"
   },
   {
    "duration": 49,
    "start_time": "2023-01-03T12:59:19.384Z"
   },
   {
    "duration": 34,
    "start_time": "2023-01-03T12:59:19.435Z"
   },
   {
    "duration": 152,
    "start_time": "2023-01-03T12:59:19.471Z"
   },
   {
    "duration": 117,
    "start_time": "2023-01-03T12:59:19.624Z"
   },
   {
    "duration": 19,
    "start_time": "2023-01-03T12:59:19.743Z"
   },
   {
    "duration": 84,
    "start_time": "2023-01-03T12:59:19.764Z"
   },
   {
    "duration": 32,
    "start_time": "2023-01-03T12:59:19.850Z"
   },
   {
    "duration": 15,
    "start_time": "2023-01-03T12:59:19.884Z"
   },
   {
    "duration": 49,
    "start_time": "2023-01-03T12:59:19.900Z"
   },
   {
    "duration": 16,
    "start_time": "2023-01-03T12:59:19.950Z"
   },
   {
    "duration": 26,
    "start_time": "2023-01-03T12:59:19.967Z"
   },
   {
    "duration": 38,
    "start_time": "2023-01-03T12:59:19.995Z"
   },
   {
    "duration": 17,
    "start_time": "2023-01-03T12:59:20.035Z"
   },
   {
    "duration": 20,
    "start_time": "2023-01-03T12:59:20.053Z"
   },
   {
    "duration": 13,
    "start_time": "2023-01-03T12:59:20.075Z"
   },
   {
    "duration": 33,
    "start_time": "2023-01-03T12:59:20.090Z"
   },
   {
    "duration": 2,
    "start_time": "2023-01-03T12:59:20.125Z"
   },
   {
    "duration": 6,
    "start_time": "2023-01-03T12:59:20.128Z"
   },
   {
    "duration": 7,
    "start_time": "2023-01-03T12:59:20.135Z"
   },
   {
    "duration": 686,
    "start_time": "2023-01-03T12:59:20.144Z"
   },
   {
    "duration": 595,
    "start_time": "2023-01-03T12:59:20.832Z"
   },
   {
    "duration": 699,
    "start_time": "2023-01-03T12:59:21.428Z"
   },
   {
    "duration": 3,
    "start_time": "2023-01-03T12:59:22.128Z"
   },
   {
    "duration": 3,
    "start_time": "2023-01-03T12:59:22.223Z"
   },
   {
    "duration": 13,
    "start_time": "2023-01-03T12:59:22.228Z"
   },
   {
    "duration": 10,
    "start_time": "2023-01-03T12:59:22.325Z"
   },
   {
    "duration": 18,
    "start_time": "2023-01-03T12:59:22.336Z"
   },
   {
    "duration": 8,
    "start_time": "2023-01-03T12:59:22.355Z"
   },
   {
    "duration": 108,
    "start_time": "2023-01-03T12:59:22.365Z"
   },
   {
    "duration": 0,
    "start_time": "2023-01-03T12:59:22.475Z"
   },
   {
    "duration": 0,
    "start_time": "2023-01-03T12:59:22.476Z"
   },
   {
    "duration": 0,
    "start_time": "2023-01-03T12:59:22.477Z"
   },
   {
    "duration": 0,
    "start_time": "2023-01-03T12:59:22.478Z"
   },
   {
    "duration": 0,
    "start_time": "2023-01-03T12:59:22.478Z"
   },
   {
    "duration": 0,
    "start_time": "2023-01-03T12:59:22.479Z"
   },
   {
    "duration": 0,
    "start_time": "2023-01-03T12:59:22.480Z"
   },
   {
    "duration": 71,
    "start_time": "2023-01-03T13:00:04.586Z"
   },
   {
    "duration": 27,
    "start_time": "2023-01-03T13:00:15.085Z"
   },
   {
    "duration": 4,
    "start_time": "2023-01-03T13:01:37.812Z"
   },
   {
    "duration": 1055,
    "start_time": "2023-01-03T13:01:59.160Z"
   },
   {
    "duration": 393,
    "start_time": "2023-01-03T13:02:00.217Z"
   },
   {
    "duration": 39,
    "start_time": "2023-01-03T13:02:00.611Z"
   },
   {
    "duration": 38,
    "start_time": "2023-01-03T13:02:00.652Z"
   },
   {
    "duration": 163,
    "start_time": "2023-01-03T13:02:00.692Z"
   },
   {
    "duration": 119,
    "start_time": "2023-01-03T13:02:00.857Z"
   },
   {
    "duration": 20,
    "start_time": "2023-01-03T13:02:00.978Z"
   },
   {
    "duration": 92,
    "start_time": "2023-01-03T13:02:00.999Z"
   },
   {
    "duration": 47,
    "start_time": "2023-01-03T13:02:01.093Z"
   },
   {
    "duration": 14,
    "start_time": "2023-01-03T13:02:01.144Z"
   },
   {
    "duration": 32,
    "start_time": "2023-01-03T13:02:01.159Z"
   },
   {
    "duration": 35,
    "start_time": "2023-01-03T13:02:01.193Z"
   },
   {
    "duration": 30,
    "start_time": "2023-01-03T13:02:01.230Z"
   },
   {
    "duration": 13,
    "start_time": "2023-01-03T13:02:01.262Z"
   },
   {
    "duration": 19,
    "start_time": "2023-01-03T13:02:01.276Z"
   },
   {
    "duration": 36,
    "start_time": "2023-01-03T13:02:01.297Z"
   },
   {
    "duration": 14,
    "start_time": "2023-01-03T13:02:01.335Z"
   },
   {
    "duration": 13,
    "start_time": "2023-01-03T13:02:01.351Z"
   },
   {
    "duration": 2,
    "start_time": "2023-01-03T13:02:01.366Z"
   },
   {
    "duration": 11,
    "start_time": "2023-01-03T13:02:01.370Z"
   },
   {
    "duration": 14,
    "start_time": "2023-01-03T13:02:01.382Z"
   },
   {
    "duration": 528,
    "start_time": "2023-01-03T13:02:01.398Z"
   },
   {
    "duration": 799,
    "start_time": "2023-01-03T13:02:01.927Z"
   },
   {
    "duration": 700,
    "start_time": "2023-01-03T13:02:02.728Z"
   },
   {
    "duration": 92,
    "start_time": "2023-01-03T13:02:03.431Z"
   },
   {
    "duration": 13,
    "start_time": "2023-01-03T13:02:03.525Z"
   },
   {
    "duration": 83,
    "start_time": "2023-01-03T13:02:03.540Z"
   },
   {
    "duration": 8,
    "start_time": "2023-01-03T13:02:03.627Z"
   },
   {
    "duration": 9,
    "start_time": "2023-01-03T13:02:03.637Z"
   },
   {
    "duration": 8,
    "start_time": "2023-01-03T13:02:03.647Z"
   },
   {
    "duration": 116,
    "start_time": "2023-01-03T13:02:03.656Z"
   },
   {
    "duration": 0,
    "start_time": "2023-01-03T13:02:03.773Z"
   },
   {
    "duration": 0,
    "start_time": "2023-01-03T13:02:03.775Z"
   },
   {
    "duration": 0,
    "start_time": "2023-01-03T13:02:03.776Z"
   },
   {
    "duration": 0,
    "start_time": "2023-01-03T13:02:03.777Z"
   },
   {
    "duration": 0,
    "start_time": "2023-01-03T13:02:03.778Z"
   },
   {
    "duration": 0,
    "start_time": "2023-01-03T13:02:03.780Z"
   },
   {
    "duration": 0,
    "start_time": "2023-01-03T13:02:03.781Z"
   },
   {
    "duration": 3,
    "start_time": "2023-01-03T13:02:34.864Z"
   },
   {
    "duration": 22,
    "start_time": "2023-01-03T13:02:35.467Z"
   },
   {
    "duration": 9,
    "start_time": "2023-01-03T13:03:03.899Z"
   },
   {
    "duration": 4,
    "start_time": "2023-01-03T13:03:36.960Z"
   },
   {
    "duration": 8,
    "start_time": "2023-01-03T13:03:37.320Z"
   },
   {
    "duration": 9,
    "start_time": "2023-01-03T13:03:37.735Z"
   },
   {
    "duration": 9,
    "start_time": "2023-01-03T13:04:02.898Z"
   },
   {
    "duration": 8,
    "start_time": "2023-01-03T13:04:03.272Z"
   },
   {
    "duration": 5,
    "start_time": "2023-01-03T13:09:49.448Z"
   },
   {
    "duration": 19,
    "start_time": "2023-01-03T13:10:24.257Z"
   },
   {
    "duration": 4,
    "start_time": "2023-01-03T13:11:07.089Z"
   },
   {
    "duration": 22,
    "start_time": "2023-01-03T13:11:08.584Z"
   },
   {
    "duration": 5,
    "start_time": "2023-01-03T13:11:33.313Z"
   },
   {
    "duration": 23,
    "start_time": "2023-01-03T13:11:34.512Z"
   },
   {
    "duration": 5,
    "start_time": "2023-01-03T13:12:42.897Z"
   },
   {
    "duration": 22,
    "start_time": "2023-01-03T13:12:43.997Z"
   },
   {
    "duration": 9,
    "start_time": "2023-01-03T13:23:55.211Z"
   },
   {
    "duration": 3,
    "start_time": "2023-01-03T13:24:00.530Z"
   },
   {
    "duration": 24,
    "start_time": "2023-01-03T13:24:01.492Z"
   },
   {
    "duration": 5,
    "start_time": "2023-01-03T13:26:41.936Z"
   },
   {
    "duration": 3,
    "start_time": "2023-01-03T13:26:42.202Z"
   },
   {
    "duration": 20,
    "start_time": "2023-01-03T13:26:43.202Z"
   },
   {
    "duration": 5,
    "start_time": "2023-01-03T13:28:02.532Z"
   },
   {
    "duration": 3,
    "start_time": "2023-01-03T13:28:02.861Z"
   },
   {
    "duration": 12,
    "start_time": "2023-01-03T13:28:03.481Z"
   },
   {
    "duration": 21,
    "start_time": "2023-01-03T13:28:10.817Z"
   },
   {
    "duration": 4,
    "start_time": "2023-01-03T13:29:58.747Z"
   },
   {
    "duration": 2,
    "start_time": "2023-01-03T13:29:58.986Z"
   },
   {
    "duration": 8,
    "start_time": "2023-01-03T13:29:59.329Z"
   },
   {
    "duration": 23,
    "start_time": "2023-01-03T13:30:08.905Z"
   },
   {
    "duration": 4,
    "start_time": "2023-01-03T13:31:04.403Z"
   },
   {
    "duration": 3,
    "start_time": "2023-01-03T13:31:04.724Z"
   },
   {
    "duration": 24,
    "start_time": "2023-01-03T13:31:05.178Z"
   },
   {
    "duration": 1099,
    "start_time": "2023-01-03T13:31:55.213Z"
   },
   {
    "duration": 352,
    "start_time": "2023-01-03T13:31:56.314Z"
   },
   {
    "duration": 37,
    "start_time": "2023-01-03T13:31:56.667Z"
   },
   {
    "duration": 47,
    "start_time": "2023-01-03T13:31:56.706Z"
   },
   {
    "duration": 136,
    "start_time": "2023-01-03T13:31:56.754Z"
   },
   {
    "duration": 106,
    "start_time": "2023-01-03T13:31:56.892Z"
   },
   {
    "duration": 31,
    "start_time": "2023-01-03T13:31:56.999Z"
   },
   {
    "duration": 70,
    "start_time": "2023-01-03T13:31:57.032Z"
   },
   {
    "duration": 46,
    "start_time": "2023-01-03T13:31:57.103Z"
   },
   {
    "duration": 13,
    "start_time": "2023-01-03T13:31:57.151Z"
   },
   {
    "duration": 31,
    "start_time": "2023-01-03T13:31:57.165Z"
   },
   {
    "duration": 32,
    "start_time": "2023-01-03T13:31:57.197Z"
   },
   {
    "duration": 26,
    "start_time": "2023-01-03T13:31:57.230Z"
   },
   {
    "duration": 13,
    "start_time": "2023-01-03T13:31:57.258Z"
   },
   {
    "duration": 16,
    "start_time": "2023-01-03T13:31:57.273Z"
   },
   {
    "duration": 42,
    "start_time": "2023-01-03T13:31:57.290Z"
   },
   {
    "duration": 13,
    "start_time": "2023-01-03T13:31:57.334Z"
   },
   {
    "duration": 14,
    "start_time": "2023-01-03T13:31:57.348Z"
   },
   {
    "duration": 2,
    "start_time": "2023-01-03T13:31:57.363Z"
   },
   {
    "duration": 6,
    "start_time": "2023-01-03T13:31:57.367Z"
   },
   {
    "duration": 8,
    "start_time": "2023-01-03T13:31:57.375Z"
   },
   {
    "duration": 543,
    "start_time": "2023-01-03T13:31:57.384Z"
   },
   {
    "duration": 597,
    "start_time": "2023-01-03T13:31:57.929Z"
   },
   {
    "duration": 699,
    "start_time": "2023-01-03T13:31:58.528Z"
   },
   {
    "duration": 93,
    "start_time": "2023-01-03T13:31:59.228Z"
   },
   {
    "duration": 2,
    "start_time": "2023-01-03T13:31:59.323Z"
   },
   {
    "duration": 8,
    "start_time": "2023-01-03T13:31:59.327Z"
   },
   {
    "duration": 7,
    "start_time": "2023-01-03T13:31:59.337Z"
   },
   {
    "duration": 5,
    "start_time": "2023-01-03T13:31:59.345Z"
   },
   {
    "duration": 4,
    "start_time": "2023-01-03T13:31:59.352Z"
   },
   {
    "duration": 11,
    "start_time": "2023-01-03T13:31:59.358Z"
   },
   {
    "duration": 8,
    "start_time": "2023-01-03T13:31:59.371Z"
   },
   {
    "duration": 8,
    "start_time": "2023-01-03T13:31:59.381Z"
   },
   {
    "duration": 31,
    "start_time": "2023-01-03T13:31:59.391Z"
   },
   {
    "duration": 5,
    "start_time": "2023-01-03T13:31:59.424Z"
   },
   {
    "duration": 120,
    "start_time": "2023-01-03T13:31:59.431Z"
   },
   {
    "duration": 0,
    "start_time": "2023-01-03T13:31:59.553Z"
   },
   {
    "duration": 0,
    "start_time": "2023-01-03T13:31:59.555Z"
   },
   {
    "duration": 0,
    "start_time": "2023-01-03T13:31:59.556Z"
   },
   {
    "duration": 4,
    "start_time": "2023-01-03T13:33:52.375Z"
   },
   {
    "duration": 3,
    "start_time": "2023-01-03T13:33:52.890Z"
   },
   {
    "duration": 21,
    "start_time": "2023-01-03T13:33:53.400Z"
   },
   {
    "duration": 27,
    "start_time": "2023-01-03T13:37:12.015Z"
   },
   {
    "duration": 5,
    "start_time": "2023-01-03T13:40:29.255Z"
   },
   {
    "duration": 31,
    "start_time": "2023-01-03T13:40:32.111Z"
   },
   {
    "duration": 1103,
    "start_time": "2023-01-03T13:44:23.010Z"
   },
   {
    "duration": 396,
    "start_time": "2023-01-03T13:44:24.117Z"
   },
   {
    "duration": 41,
    "start_time": "2023-01-03T13:44:24.515Z"
   },
   {
    "duration": 63,
    "start_time": "2023-01-03T13:44:24.559Z"
   },
   {
    "duration": 135,
    "start_time": "2023-01-03T13:44:24.624Z"
   },
   {
    "duration": 116,
    "start_time": "2023-01-03T13:44:24.761Z"
   },
   {
    "duration": 18,
    "start_time": "2023-01-03T13:44:24.879Z"
   },
   {
    "duration": 92,
    "start_time": "2023-01-03T13:44:24.899Z"
   },
   {
    "duration": 40,
    "start_time": "2023-01-03T13:44:24.993Z"
   },
   {
    "duration": 16,
    "start_time": "2023-01-03T13:44:25.035Z"
   },
   {
    "duration": 30,
    "start_time": "2023-01-03T13:44:25.052Z"
   },
   {
    "duration": 14,
    "start_time": "2023-01-03T13:44:25.083Z"
   },
   {
    "duration": 27,
    "start_time": "2023-01-03T13:44:25.122Z"
   },
   {
    "duration": 21,
    "start_time": "2023-01-03T13:44:25.151Z"
   },
   {
    "duration": 21,
    "start_time": "2023-01-03T13:44:25.174Z"
   },
   {
    "duration": 49,
    "start_time": "2023-01-03T13:44:25.197Z"
   },
   {
    "duration": 16,
    "start_time": "2023-01-03T13:44:25.249Z"
   },
   {
    "duration": 16,
    "start_time": "2023-01-03T13:44:25.266Z"
   },
   {
    "duration": 2,
    "start_time": "2023-01-03T13:44:25.284Z"
   },
   {
    "duration": 38,
    "start_time": "2023-01-03T13:44:25.288Z"
   },
   {
    "duration": 9,
    "start_time": "2023-01-03T13:44:25.328Z"
   },
   {
    "duration": 390,
    "start_time": "2023-01-03T13:44:25.338Z"
   },
   {
    "duration": 692,
    "start_time": "2023-01-03T13:44:25.732Z"
   },
   {
    "duration": 597,
    "start_time": "2023-01-03T13:44:26.426Z"
   },
   {
    "duration": 2,
    "start_time": "2023-01-03T13:44:27.025Z"
   },
   {
    "duration": 8,
    "start_time": "2023-01-03T13:44:27.029Z"
   },
   {
    "duration": 90,
    "start_time": "2023-01-03T13:44:27.038Z"
   },
   {
    "duration": 6,
    "start_time": "2023-01-03T13:44:27.131Z"
   },
   {
    "duration": 6,
    "start_time": "2023-01-03T13:44:27.139Z"
   },
   {
    "duration": 7,
    "start_time": "2023-01-03T13:44:27.147Z"
   },
   {
    "duration": 13,
    "start_time": "2023-01-03T13:44:27.155Z"
   },
   {
    "duration": 9,
    "start_time": "2023-01-03T13:44:27.169Z"
   },
   {
    "duration": 9,
    "start_time": "2023-01-03T13:44:27.180Z"
   },
   {
    "duration": 5,
    "start_time": "2023-01-03T13:44:27.222Z"
   },
   {
    "duration": 114,
    "start_time": "2023-01-03T13:44:27.229Z"
   },
   {
    "duration": 0,
    "start_time": "2023-01-03T13:44:27.345Z"
   },
   {
    "duration": 0,
    "start_time": "2023-01-03T13:44:27.346Z"
   },
   {
    "duration": 0,
    "start_time": "2023-01-03T13:44:27.347Z"
   },
   {
    "duration": 66,
    "start_time": "2023-01-03T13:47:23.235Z"
   },
   {
    "duration": 22,
    "start_time": "2023-01-03T13:47:32.244Z"
   },
   {
    "duration": 5,
    "start_time": "2023-01-03T13:47:56.307Z"
   },
   {
    "duration": 24,
    "start_time": "2023-01-03T13:47:57.047Z"
   },
   {
    "duration": 12,
    "start_time": "2023-01-03T13:56:23.467Z"
   },
   {
    "duration": 17,
    "start_time": "2023-01-03T13:56:33.000Z"
   },
   {
    "duration": 1153,
    "start_time": "2023-01-03T13:57:08.121Z"
   },
   {
    "duration": 348,
    "start_time": "2023-01-03T13:57:09.276Z"
   },
   {
    "duration": 36,
    "start_time": "2023-01-03T13:57:09.625Z"
   },
   {
    "duration": 32,
    "start_time": "2023-01-03T13:57:09.663Z"
   },
   {
    "duration": 148,
    "start_time": "2023-01-03T13:57:09.697Z"
   },
   {
    "duration": 110,
    "start_time": "2023-01-03T13:57:09.847Z"
   },
   {
    "duration": 19,
    "start_time": "2023-01-03T13:57:09.959Z"
   },
   {
    "duration": 100,
    "start_time": "2023-01-03T13:57:09.980Z"
   },
   {
    "duration": 42,
    "start_time": "2023-01-03T13:57:10.081Z"
   },
   {
    "duration": 14,
    "start_time": "2023-01-03T13:57:10.126Z"
   },
   {
    "duration": 31,
    "start_time": "2023-01-03T13:57:10.142Z"
   },
   {
    "duration": 14,
    "start_time": "2023-01-03T13:57:10.174Z"
   },
   {
    "duration": 54,
    "start_time": "2023-01-03T13:57:10.190Z"
   },
   {
    "duration": 14,
    "start_time": "2023-01-03T13:57:10.245Z"
   },
   {
    "duration": 17,
    "start_time": "2023-01-03T13:57:10.260Z"
   },
   {
    "duration": 21,
    "start_time": "2023-01-03T13:57:10.279Z"
   },
   {
    "duration": 35,
    "start_time": "2023-01-03T13:57:10.301Z"
   },
   {
    "duration": 15,
    "start_time": "2023-01-03T13:57:10.338Z"
   },
   {
    "duration": 2,
    "start_time": "2023-01-03T13:57:10.355Z"
   },
   {
    "duration": 6,
    "start_time": "2023-01-03T13:57:10.359Z"
   },
   {
    "duration": 6,
    "start_time": "2023-01-03T13:57:10.366Z"
   },
   {
    "duration": 568,
    "start_time": "2023-01-03T13:57:10.373Z"
   },
   {
    "duration": 702,
    "start_time": "2023-01-03T13:57:11.023Z"
   },
   {
    "duration": 700,
    "start_time": "2023-01-03T13:57:11.726Z"
   },
   {
    "duration": 3,
    "start_time": "2023-01-03T13:57:12.428Z"
   },
   {
    "duration": 193,
    "start_time": "2023-01-03T13:57:12.432Z"
   },
   {
    "duration": 5,
    "start_time": "2023-01-03T13:57:12.627Z"
   },
   {
    "duration": 5,
    "start_time": "2023-01-03T13:57:12.634Z"
   },
   {
    "duration": 6,
    "start_time": "2023-01-03T13:57:12.641Z"
   },
   {
    "duration": 4,
    "start_time": "2023-01-03T13:57:12.648Z"
   },
   {
    "duration": 11,
    "start_time": "2023-01-03T13:57:12.653Z"
   },
   {
    "duration": 8,
    "start_time": "2023-01-03T13:57:12.666Z"
   },
   {
    "duration": 8,
    "start_time": "2023-01-03T13:57:12.675Z"
   },
   {
    "duration": 4,
    "start_time": "2023-01-03T13:57:12.685Z"
   },
   {
    "duration": 144,
    "start_time": "2023-01-03T13:57:12.691Z"
   },
   {
    "duration": 0,
    "start_time": "2023-01-03T13:57:12.836Z"
   },
   {
    "duration": 0,
    "start_time": "2023-01-03T13:57:12.837Z"
   },
   {
    "duration": 0,
    "start_time": "2023-01-03T13:57:12.838Z"
   },
   {
    "duration": 3,
    "start_time": "2023-01-03T13:59:42.508Z"
   },
   {
    "duration": 22,
    "start_time": "2023-01-03T13:59:42.950Z"
   },
   {
    "duration": 4,
    "start_time": "2023-01-03T13:59:48.623Z"
   },
   {
    "duration": 25,
    "start_time": "2023-01-03T13:59:49.189Z"
   },
   {
    "duration": 4,
    "start_time": "2023-01-03T14:00:01.364Z"
   },
   {
    "duration": 4,
    "start_time": "2023-01-03T14:00:09.459Z"
   },
   {
    "duration": 9,
    "start_time": "2023-01-03T14:00:10.396Z"
   },
   {
    "duration": 4,
    "start_time": "2023-01-03T14:00:32.045Z"
   },
   {
    "duration": 21,
    "start_time": "2023-01-03T14:00:34.324Z"
   },
   {
    "duration": 5,
    "start_time": "2023-01-03T14:01:02.320Z"
   },
   {
    "duration": 22,
    "start_time": "2023-01-03T14:01:03.056Z"
   },
   {
    "duration": 6,
    "start_time": "2023-01-03T14:01:39.907Z"
   },
   {
    "duration": 21,
    "start_time": "2023-01-03T14:01:40.875Z"
   },
   {
    "duration": 4,
    "start_time": "2023-01-03T14:05:19.364Z"
   },
   {
    "duration": 9,
    "start_time": "2023-01-03T14:05:20.060Z"
   },
   {
    "duration": 9,
    "start_time": "2023-01-03T14:05:20.556Z"
   },
   {
    "duration": 9,
    "start_time": "2023-01-03T14:05:20.788Z"
   },
   {
    "duration": 6,
    "start_time": "2023-01-03T14:05:22.798Z"
   },
   {
    "duration": 23,
    "start_time": "2023-01-03T14:05:23.748Z"
   },
   {
    "duration": 5,
    "start_time": "2023-01-03T14:17:11.543Z"
   },
   {
    "duration": 21,
    "start_time": "2023-01-03T14:17:12.702Z"
   },
   {
    "duration": 1084,
    "start_time": "2023-01-03T14:34:18.603Z"
   },
   {
    "duration": 362,
    "start_time": "2023-01-03T14:34:19.689Z"
   },
   {
    "duration": 34,
    "start_time": "2023-01-03T14:34:20.052Z"
   },
   {
    "duration": 51,
    "start_time": "2023-01-03T14:34:20.088Z"
   },
   {
    "duration": 133,
    "start_time": "2023-01-03T14:34:20.141Z"
   },
   {
    "duration": 106,
    "start_time": "2023-01-03T14:34:20.275Z"
   },
   {
    "duration": 17,
    "start_time": "2023-01-03T14:34:20.383Z"
   },
   {
    "duration": 81,
    "start_time": "2023-01-03T14:34:20.402Z"
   },
   {
    "duration": 45,
    "start_time": "2023-01-03T14:34:20.485Z"
   },
   {
    "duration": 14,
    "start_time": "2023-01-03T14:34:20.533Z"
   },
   {
    "duration": 30,
    "start_time": "2023-01-03T14:34:20.548Z"
   },
   {
    "duration": 16,
    "start_time": "2023-01-03T14:34:20.579Z"
   },
   {
    "duration": 50,
    "start_time": "2023-01-03T14:34:20.596Z"
   },
   {
    "duration": 14,
    "start_time": "2023-01-03T14:34:20.647Z"
   },
   {
    "duration": 19,
    "start_time": "2023-01-03T14:34:20.662Z"
   },
   {
    "duration": 21,
    "start_time": "2023-01-03T14:34:20.682Z"
   },
   {
    "duration": 31,
    "start_time": "2023-01-03T14:34:20.705Z"
   },
   {
    "duration": 14,
    "start_time": "2023-01-03T14:34:20.738Z"
   },
   {
    "duration": 2,
    "start_time": "2023-01-03T14:34:20.754Z"
   },
   {
    "duration": 10,
    "start_time": "2023-01-03T14:34:20.757Z"
   },
   {
    "duration": 11,
    "start_time": "2023-01-03T14:34:20.768Z"
   },
   {
    "duration": 17,
    "start_time": "2023-01-03T14:34:20.781Z"
   },
   {
    "duration": 2,
    "start_time": "2023-01-03T14:34:20.800Z"
   },
   {
    "duration": 3,
    "start_time": "2023-01-03T14:34:20.821Z"
   },
   {
    "duration": 8,
    "start_time": "2023-01-03T14:34:20.826Z"
   },
   {
    "duration": 7,
    "start_time": "2023-01-03T14:34:20.835Z"
   },
   {
    "duration": 7,
    "start_time": "2023-01-03T14:34:20.844Z"
   },
   {
    "duration": 3,
    "start_time": "2023-01-03T14:34:20.854Z"
   },
   {
    "duration": 102,
    "start_time": "2023-01-03T14:34:20.858Z"
   },
   {
    "duration": 0,
    "start_time": "2023-01-03T14:34:20.961Z"
   },
   {
    "duration": 0,
    "start_time": "2023-01-03T14:34:20.962Z"
   },
   {
    "duration": 0,
    "start_time": "2023-01-03T14:34:20.963Z"
   },
   {
    "duration": 0,
    "start_time": "2023-01-03T14:34:20.964Z"
   },
   {
    "duration": 0,
    "start_time": "2023-01-03T14:34:20.965Z"
   },
   {
    "duration": 0,
    "start_time": "2023-01-03T14:34:20.966Z"
   },
   {
    "duration": 0,
    "start_time": "2023-01-03T14:34:20.967Z"
   },
   {
    "duration": 1031,
    "start_time": "2023-01-03T14:35:52.187Z"
   },
   {
    "duration": 368,
    "start_time": "2023-01-03T14:35:53.220Z"
   },
   {
    "duration": 42,
    "start_time": "2023-01-03T14:35:53.589Z"
   },
   {
    "duration": 32,
    "start_time": "2023-01-03T14:35:53.633Z"
   },
   {
    "duration": 143,
    "start_time": "2023-01-03T14:35:53.667Z"
   },
   {
    "duration": 115,
    "start_time": "2023-01-03T14:35:53.813Z"
   },
   {
    "duration": 19,
    "start_time": "2023-01-03T14:35:53.929Z"
   },
   {
    "duration": 109,
    "start_time": "2023-01-03T14:35:53.950Z"
   },
   {
    "duration": 38,
    "start_time": "2023-01-03T14:35:54.061Z"
   },
   {
    "duration": 30,
    "start_time": "2023-01-03T14:35:54.102Z"
   },
   {
    "duration": 43,
    "start_time": "2023-01-03T14:35:54.134Z"
   },
   {
    "duration": 20,
    "start_time": "2023-01-03T14:35:54.180Z"
   },
   {
    "duration": 57,
    "start_time": "2023-01-03T14:35:54.202Z"
   },
   {
    "duration": 16,
    "start_time": "2023-01-03T14:35:54.262Z"
   },
   {
    "duration": 27,
    "start_time": "2023-01-03T14:35:54.281Z"
   },
   {
    "duration": 17,
    "start_time": "2023-01-03T14:35:54.322Z"
   },
   {
    "duration": 14,
    "start_time": "2023-01-03T14:35:54.341Z"
   },
   {
    "duration": 15,
    "start_time": "2023-01-03T14:35:54.357Z"
   },
   {
    "duration": 3,
    "start_time": "2023-01-03T14:35:54.373Z"
   },
   {
    "duration": 18,
    "start_time": "2023-01-03T14:35:54.377Z"
   },
   {
    "duration": 29,
    "start_time": "2023-01-03T14:35:54.397Z"
   },
   {
    "duration": 20,
    "start_time": "2023-01-03T14:35:54.427Z"
   },
   {
    "duration": 841,
    "start_time": "2023-01-03T14:35:54.449Z"
   },
   {
    "duration": 0,
    "start_time": "2023-01-03T14:35:55.291Z"
   },
   {
    "duration": 0,
    "start_time": "2023-01-03T14:35:55.292Z"
   },
   {
    "duration": 0,
    "start_time": "2023-01-03T14:35:55.293Z"
   },
   {
    "duration": 0,
    "start_time": "2023-01-03T14:35:55.294Z"
   },
   {
    "duration": 0,
    "start_time": "2023-01-03T14:35:55.296Z"
   },
   {
    "duration": 0,
    "start_time": "2023-01-03T14:35:55.297Z"
   },
   {
    "duration": 0,
    "start_time": "2023-01-03T14:35:55.297Z"
   },
   {
    "duration": 0,
    "start_time": "2023-01-03T14:35:55.298Z"
   },
   {
    "duration": 0,
    "start_time": "2023-01-03T14:35:55.299Z"
   },
   {
    "duration": 0,
    "start_time": "2023-01-03T14:35:55.300Z"
   },
   {
    "duration": 0,
    "start_time": "2023-01-03T14:35:55.322Z"
   },
   {
    "duration": 0,
    "start_time": "2023-01-03T14:35:55.323Z"
   },
   {
    "duration": 0,
    "start_time": "2023-01-03T14:35:55.325Z"
   },
   {
    "duration": 0,
    "start_time": "2023-01-03T14:35:55.326Z"
   },
   {
    "duration": 505,
    "start_time": "2023-01-03T14:36:11.816Z"
   },
   {
    "duration": 469,
    "start_time": "2023-01-03T14:36:22.362Z"
   },
   {
    "duration": 385,
    "start_time": "2023-01-03T14:36:31.842Z"
   },
   {
    "duration": 4,
    "start_time": "2023-01-03T14:36:43.231Z"
   },
   {
    "duration": 17,
    "start_time": "2023-01-03T14:36:44.631Z"
   },
   {
    "duration": 454,
    "start_time": "2023-01-03T14:36:56.472Z"
   },
   {
    "duration": 3,
    "start_time": "2023-01-03T14:36:59.847Z"
   },
   {
    "duration": 2,
    "start_time": "2023-01-03T14:37:00.087Z"
   },
   {
    "duration": 2,
    "start_time": "2023-01-03T14:37:00.343Z"
   },
   {
    "duration": 3,
    "start_time": "2023-01-03T14:37:00.745Z"
   },
   {
    "duration": 4,
    "start_time": "2023-01-03T14:37:02.399Z"
   },
   {
    "duration": 3,
    "start_time": "2023-01-03T14:37:05.104Z"
   },
   {
    "duration": 9,
    "start_time": "2023-01-03T14:37:07.655Z"
   },
   {
    "duration": 5,
    "start_time": "2023-01-03T14:37:20.796Z"
   },
   {
    "duration": 25,
    "start_time": "2023-01-03T14:37:22.006Z"
   },
   {
    "duration": 10,
    "start_time": "2023-01-03T14:41:14.624Z"
   },
   {
    "duration": 4,
    "start_time": "2023-01-03T14:50:06.920Z"
   },
   {
    "duration": 12,
    "start_time": "2023-01-03T14:50:07.667Z"
   },
   {
    "duration": 1040,
    "start_time": "2023-01-03T14:50:46.958Z"
   },
   {
    "duration": 358,
    "start_time": "2023-01-03T14:50:47.999Z"
   },
   {
    "duration": 38,
    "start_time": "2023-01-03T14:50:48.359Z"
   },
   {
    "duration": 64,
    "start_time": "2023-01-03T14:50:48.399Z"
   },
   {
    "duration": 167,
    "start_time": "2023-01-03T14:50:48.465Z"
   },
   {
    "duration": 110,
    "start_time": "2023-01-03T14:50:48.634Z"
   },
   {
    "duration": 20,
    "start_time": "2023-01-03T14:50:48.745Z"
   },
   {
    "duration": 96,
    "start_time": "2023-01-03T14:50:48.767Z"
   },
   {
    "duration": 32,
    "start_time": "2023-01-03T14:50:48.865Z"
   },
   {
    "duration": 30,
    "start_time": "2023-01-03T14:50:48.901Z"
   },
   {
    "duration": 28,
    "start_time": "2023-01-03T14:50:48.933Z"
   },
   {
    "duration": 16,
    "start_time": "2023-01-03T14:50:48.963Z"
   },
   {
    "duration": 60,
    "start_time": "2023-01-03T14:50:48.981Z"
   },
   {
    "duration": 19,
    "start_time": "2023-01-03T14:50:49.044Z"
   },
   {
    "duration": 34,
    "start_time": "2023-01-03T14:50:49.065Z"
   },
   {
    "duration": 26,
    "start_time": "2023-01-03T14:50:49.102Z"
   },
   {
    "duration": 15,
    "start_time": "2023-01-03T14:50:49.131Z"
   },
   {
    "duration": 26,
    "start_time": "2023-01-03T14:50:49.148Z"
   },
   {
    "duration": 7,
    "start_time": "2023-01-03T14:50:49.176Z"
   },
   {
    "duration": 17,
    "start_time": "2023-01-03T14:50:49.185Z"
   },
   {
    "duration": 25,
    "start_time": "2023-01-03T14:50:49.204Z"
   },
   {
    "duration": 29,
    "start_time": "2023-01-03T14:50:49.231Z"
   },
   {
    "duration": 662,
    "start_time": "2023-01-03T14:50:49.262Z"
   },
   {
    "duration": 3,
    "start_time": "2023-01-03T14:50:49.925Z"
   },
   {
    "duration": 107,
    "start_time": "2023-01-03T14:50:49.930Z"
   },
   {
    "duration": 13,
    "start_time": "2023-01-03T14:50:50.038Z"
   },
   {
    "duration": 31,
    "start_time": "2023-01-03T14:50:50.052Z"
   },
   {
    "duration": 20,
    "start_time": "2023-01-03T14:50:50.086Z"
   },
   {
    "duration": 17,
    "start_time": "2023-01-03T14:50:50.107Z"
   },
   {
    "duration": 100,
    "start_time": "2023-01-03T14:50:50.125Z"
   },
   {
    "duration": 0,
    "start_time": "2023-01-03T14:50:50.227Z"
   },
   {
    "duration": 0,
    "start_time": "2023-01-03T14:50:50.229Z"
   },
   {
    "duration": 0,
    "start_time": "2023-01-03T14:50:50.230Z"
   },
   {
    "duration": 0,
    "start_time": "2023-01-03T14:50:50.232Z"
   },
   {
    "duration": 0,
    "start_time": "2023-01-03T14:50:50.233Z"
   },
   {
    "duration": 0,
    "start_time": "2023-01-03T14:50:50.234Z"
   },
   {
    "duration": 0,
    "start_time": "2023-01-03T14:50:50.236Z"
   },
   {
    "duration": 0,
    "start_time": "2023-01-03T14:50:50.237Z"
   },
   {
    "duration": 4,
    "start_time": "2023-01-03T14:53:43.277Z"
   },
   {
    "duration": 3,
    "start_time": "2023-01-03T14:53:45.283Z"
   },
   {
    "duration": 16,
    "start_time": "2023-01-03T14:53:45.881Z"
   },
   {
    "duration": 12,
    "start_time": "2023-01-03T14:54:14.760Z"
   },
   {
    "duration": 1052,
    "start_time": "2023-01-03T14:57:17.940Z"
   },
   {
    "duration": 379,
    "start_time": "2023-01-03T14:57:18.994Z"
   },
   {
    "duration": 48,
    "start_time": "2023-01-03T14:57:19.375Z"
   },
   {
    "duration": 44,
    "start_time": "2023-01-03T14:57:19.426Z"
   },
   {
    "duration": 140,
    "start_time": "2023-01-03T14:57:19.472Z"
   },
   {
    "duration": 111,
    "start_time": "2023-01-03T14:57:19.613Z"
   },
   {
    "duration": 21,
    "start_time": "2023-01-03T14:57:19.725Z"
   },
   {
    "duration": 88,
    "start_time": "2023-01-03T14:57:19.747Z"
   },
   {
    "duration": 34,
    "start_time": "2023-01-03T14:57:19.837Z"
   },
   {
    "duration": 15,
    "start_time": "2023-01-03T14:57:19.874Z"
   },
   {
    "duration": 50,
    "start_time": "2023-01-03T14:57:19.890Z"
   },
   {
    "duration": 15,
    "start_time": "2023-01-03T14:57:19.942Z"
   },
   {
    "duration": 30,
    "start_time": "2023-01-03T14:57:19.959Z"
   },
   {
    "duration": 34,
    "start_time": "2023-01-03T14:57:19.990Z"
   },
   {
    "duration": 16,
    "start_time": "2023-01-03T14:57:20.025Z"
   },
   {
    "duration": 19,
    "start_time": "2023-01-03T14:57:20.043Z"
   },
   {
    "duration": 15,
    "start_time": "2023-01-03T14:57:20.064Z"
   },
   {
    "duration": 42,
    "start_time": "2023-01-03T14:57:20.081Z"
   },
   {
    "duration": 3,
    "start_time": "2023-01-03T14:57:20.125Z"
   },
   {
    "duration": 6,
    "start_time": "2023-01-03T14:57:20.130Z"
   },
   {
    "duration": 14,
    "start_time": "2023-01-03T14:57:20.137Z"
   },
   {
    "duration": 25,
    "start_time": "2023-01-03T14:57:20.153Z"
   },
   {
    "duration": 247,
    "start_time": "2023-01-03T14:57:20.180Z"
   },
   {
    "duration": 0,
    "start_time": "2023-01-03T14:57:20.429Z"
   },
   {
    "duration": 0,
    "start_time": "2023-01-03T14:57:20.431Z"
   },
   {
    "duration": 0,
    "start_time": "2023-01-03T14:57:20.434Z"
   },
   {
    "duration": 0,
    "start_time": "2023-01-03T14:57:20.436Z"
   },
   {
    "duration": 0,
    "start_time": "2023-01-03T14:57:20.437Z"
   },
   {
    "duration": 0,
    "start_time": "2023-01-03T14:57:20.438Z"
   },
   {
    "duration": 0,
    "start_time": "2023-01-03T14:57:20.439Z"
   },
   {
    "duration": 0,
    "start_time": "2023-01-03T14:57:20.440Z"
   },
   {
    "duration": 0,
    "start_time": "2023-01-03T14:57:20.441Z"
   },
   {
    "duration": 0,
    "start_time": "2023-01-03T14:57:20.442Z"
   },
   {
    "duration": 0,
    "start_time": "2023-01-03T14:57:20.443Z"
   },
   {
    "duration": 0,
    "start_time": "2023-01-03T14:57:20.444Z"
   },
   {
    "duration": 0,
    "start_time": "2023-01-03T14:57:20.445Z"
   },
   {
    "duration": 0,
    "start_time": "2023-01-03T14:57:20.446Z"
   },
   {
    "duration": 0,
    "start_time": "2023-01-03T14:57:20.448Z"
   },
   {
    "duration": 0,
    "start_time": "2023-01-03T14:57:20.448Z"
   },
   {
    "duration": 15,
    "start_time": "2023-01-03T14:59:34.722Z"
   },
   {
    "duration": 1047,
    "start_time": "2023-01-03T14:59:40.771Z"
   },
   {
    "duration": 379,
    "start_time": "2023-01-03T14:59:41.820Z"
   },
   {
    "duration": 48,
    "start_time": "2023-01-03T14:59:42.200Z"
   },
   {
    "duration": 34,
    "start_time": "2023-01-03T14:59:42.250Z"
   },
   {
    "duration": 148,
    "start_time": "2023-01-03T14:59:42.285Z"
   },
   {
    "duration": 118,
    "start_time": "2023-01-03T14:59:42.434Z"
   },
   {
    "duration": 20,
    "start_time": "2023-01-03T14:59:42.553Z"
   },
   {
    "duration": 90,
    "start_time": "2023-01-03T14:59:42.575Z"
   },
   {
    "duration": 31,
    "start_time": "2023-01-03T14:59:42.667Z"
   },
   {
    "duration": 16,
    "start_time": "2023-01-03T14:59:42.722Z"
   },
   {
    "duration": 29,
    "start_time": "2023-01-03T14:59:42.740Z"
   },
   {
    "duration": 16,
    "start_time": "2023-01-03T14:59:42.771Z"
   },
   {
    "duration": 58,
    "start_time": "2023-01-03T14:59:42.789Z"
   },
   {
    "duration": 14,
    "start_time": "2023-01-03T14:59:42.849Z"
   },
   {
    "duration": 21,
    "start_time": "2023-01-03T14:59:42.865Z"
   },
   {
    "duration": 42,
    "start_time": "2023-01-03T14:59:42.888Z"
   },
   {
    "duration": 17,
    "start_time": "2023-01-03T14:59:42.931Z"
   },
   {
    "duration": 16,
    "start_time": "2023-01-03T14:59:42.949Z"
   },
   {
    "duration": 2,
    "start_time": "2023-01-03T14:59:42.968Z"
   },
   {
    "duration": 6,
    "start_time": "2023-01-03T14:59:42.972Z"
   },
   {
    "duration": 10,
    "start_time": "2023-01-03T14:59:42.980Z"
   },
   {
    "duration": 20,
    "start_time": "2023-01-03T14:59:43.023Z"
   },
   {
    "duration": 485,
    "start_time": "2023-01-03T14:59:43.046Z"
   },
   {
    "duration": 3,
    "start_time": "2023-01-03T14:59:43.532Z"
   },
   {
    "duration": 88,
    "start_time": "2023-01-03T14:59:43.537Z"
   },
   {
    "duration": 99,
    "start_time": "2023-01-03T14:59:43.629Z"
   },
   {
    "duration": 6,
    "start_time": "2023-01-03T14:59:43.729Z"
   },
   {
    "duration": 9,
    "start_time": "2023-01-03T14:59:43.737Z"
   },
   {
    "duration": 7,
    "start_time": "2023-01-03T14:59:43.748Z"
   },
   {
    "duration": 6,
    "start_time": "2023-01-03T14:59:43.757Z"
   },
   {
    "duration": 124,
    "start_time": "2023-01-03T14:59:43.765Z"
   },
   {
    "duration": 0,
    "start_time": "2023-01-03T14:59:43.891Z"
   },
   {
    "duration": 0,
    "start_time": "2023-01-03T14:59:43.892Z"
   },
   {
    "duration": 0,
    "start_time": "2023-01-03T14:59:43.893Z"
   },
   {
    "duration": 0,
    "start_time": "2023-01-03T14:59:43.894Z"
   },
   {
    "duration": 0,
    "start_time": "2023-01-03T14:59:43.895Z"
   },
   {
    "duration": 0,
    "start_time": "2023-01-03T14:59:43.896Z"
   },
   {
    "duration": 0,
    "start_time": "2023-01-03T14:59:43.897Z"
   },
   {
    "duration": 0,
    "start_time": "2023-01-03T14:59:43.898Z"
   },
   {
    "duration": 12,
    "start_time": "2023-01-03T15:00:16.486Z"
   },
   {
    "duration": 3,
    "start_time": "2023-01-03T15:03:09.121Z"
   },
   {
    "duration": 3,
    "start_time": "2023-01-03T15:03:09.601Z"
   },
   {
    "duration": 10,
    "start_time": "2023-01-03T15:03:10.041Z"
   },
   {
    "duration": 11,
    "start_time": "2023-01-03T15:03:18.186Z"
   },
   {
    "duration": 1092,
    "start_time": "2023-01-03T15:06:51.194Z"
   },
   {
    "duration": 361,
    "start_time": "2023-01-03T15:06:52.288Z"
   },
   {
    "duration": 35,
    "start_time": "2023-01-03T15:06:52.650Z"
   },
   {
    "duration": 48,
    "start_time": "2023-01-03T15:06:52.687Z"
   },
   {
    "duration": 139,
    "start_time": "2023-01-03T15:06:52.737Z"
   },
   {
    "duration": 115,
    "start_time": "2023-01-03T15:06:52.878Z"
   },
   {
    "duration": 35,
    "start_time": "2023-01-03T15:06:52.995Z"
   },
   {
    "duration": 67,
    "start_time": "2023-01-03T15:06:53.031Z"
   },
   {
    "duration": 44,
    "start_time": "2023-01-03T15:06:53.100Z"
   },
   {
    "duration": 14,
    "start_time": "2023-01-03T15:06:53.147Z"
   },
   {
    "duration": 31,
    "start_time": "2023-01-03T15:06:53.163Z"
   },
   {
    "duration": 38,
    "start_time": "2023-01-03T15:06:53.196Z"
   },
   {
    "duration": 36,
    "start_time": "2023-01-03T15:06:53.235Z"
   },
   {
    "duration": 14,
    "start_time": "2023-01-03T15:06:53.273Z"
   },
   {
    "duration": 36,
    "start_time": "2023-01-03T15:06:53.288Z"
   },
   {
    "duration": 21,
    "start_time": "2023-01-03T15:06:53.327Z"
   },
   {
    "duration": 17,
    "start_time": "2023-01-03T15:06:53.349Z"
   },
   {
    "duration": 13,
    "start_time": "2023-01-03T15:06:53.368Z"
   },
   {
    "duration": 14,
    "start_time": "2023-01-03T15:06:53.383Z"
   },
   {
    "duration": 24,
    "start_time": "2023-01-03T15:06:53.399Z"
   },
   {
    "duration": 7,
    "start_time": "2023-01-03T15:06:53.425Z"
   },
   {
    "duration": 18,
    "start_time": "2023-01-03T15:06:53.433Z"
   },
   {
    "duration": 570,
    "start_time": "2023-01-03T15:06:53.453Z"
   },
   {
    "duration": 3,
    "start_time": "2023-01-03T15:06:54.024Z"
   },
   {
    "duration": 101,
    "start_time": "2023-01-03T15:06:54.028Z"
   },
   {
    "duration": 12,
    "start_time": "2023-01-03T15:06:54.131Z"
   },
   {
    "duration": 10,
    "start_time": "2023-01-03T15:06:54.145Z"
   },
   {
    "duration": 14,
    "start_time": "2023-01-03T15:06:54.158Z"
   },
   {
    "duration": 22,
    "start_time": "2023-01-03T15:06:54.174Z"
   },
   {
    "duration": 19,
    "start_time": "2023-01-03T15:06:54.199Z"
   },
   {
    "duration": 23,
    "start_time": "2023-01-03T15:06:54.220Z"
   },
   {
    "duration": 137,
    "start_time": "2023-01-03T15:06:54.245Z"
   },
   {
    "duration": 0,
    "start_time": "2023-01-03T15:06:54.384Z"
   },
   {
    "duration": 0,
    "start_time": "2023-01-03T15:06:54.385Z"
   },
   {
    "duration": 0,
    "start_time": "2023-01-03T15:06:54.386Z"
   },
   {
    "duration": 0,
    "start_time": "2023-01-03T15:06:54.387Z"
   },
   {
    "duration": 0,
    "start_time": "2023-01-03T15:06:54.389Z"
   },
   {
    "duration": 0,
    "start_time": "2023-01-03T15:06:54.390Z"
   },
   {
    "duration": 0,
    "start_time": "2023-01-03T15:06:54.391Z"
   },
   {
    "duration": 12,
    "start_time": "2023-01-03T15:07:25.984Z"
   },
   {
    "duration": 15,
    "start_time": "2023-01-03T15:11:01.217Z"
   },
   {
    "duration": 20,
    "start_time": "2023-01-03T15:11:16.058Z"
   },
   {
    "duration": 1060,
    "start_time": "2023-01-03T15:12:44.834Z"
   },
   {
    "duration": 371,
    "start_time": "2023-01-03T15:12:45.899Z"
   },
   {
    "duration": 36,
    "start_time": "2023-01-03T15:12:46.272Z"
   },
   {
    "duration": 39,
    "start_time": "2023-01-03T15:12:46.310Z"
   },
   {
    "duration": 144,
    "start_time": "2023-01-03T15:12:46.351Z"
   },
   {
    "duration": 126,
    "start_time": "2023-01-03T15:12:46.497Z"
   },
   {
    "duration": 26,
    "start_time": "2023-01-03T15:12:46.625Z"
   },
   {
    "duration": 98,
    "start_time": "2023-01-03T15:12:46.653Z"
   },
   {
    "duration": 29,
    "start_time": "2023-01-03T15:12:46.752Z"
   },
   {
    "duration": 14,
    "start_time": "2023-01-03T15:12:46.783Z"
   },
   {
    "duration": 44,
    "start_time": "2023-01-03T15:12:46.822Z"
   },
   {
    "duration": 24,
    "start_time": "2023-01-03T15:12:46.868Z"
   },
   {
    "duration": 48,
    "start_time": "2023-01-03T15:12:46.896Z"
   },
   {
    "duration": 15,
    "start_time": "2023-01-03T15:12:46.946Z"
   },
   {
    "duration": 16,
    "start_time": "2023-01-03T15:12:46.963Z"
   },
   {
    "duration": 42,
    "start_time": "2023-01-03T15:12:46.981Z"
   },
   {
    "duration": 17,
    "start_time": "2023-01-03T15:12:47.026Z"
   },
   {
    "duration": 15,
    "start_time": "2023-01-03T15:12:47.045Z"
   },
   {
    "duration": 3,
    "start_time": "2023-01-03T15:12:47.061Z"
   },
   {
    "duration": 10,
    "start_time": "2023-01-03T15:12:47.066Z"
   },
   {
    "duration": 9,
    "start_time": "2023-01-03T15:12:47.078Z"
   },
   {
    "duration": 53,
    "start_time": "2023-01-03T15:12:47.089Z"
   },
   {
    "duration": 250,
    "start_time": "2023-01-03T15:12:47.143Z"
   },
   {
    "duration": 0,
    "start_time": "2023-01-03T15:12:47.395Z"
   },
   {
    "duration": 0,
    "start_time": "2023-01-03T15:12:47.397Z"
   },
   {
    "duration": 0,
    "start_time": "2023-01-03T15:12:47.398Z"
   },
   {
    "duration": 0,
    "start_time": "2023-01-03T15:12:47.399Z"
   },
   {
    "duration": 0,
    "start_time": "2023-01-03T15:12:47.400Z"
   },
   {
    "duration": 0,
    "start_time": "2023-01-03T15:12:47.402Z"
   },
   {
    "duration": 0,
    "start_time": "2023-01-03T15:12:47.422Z"
   },
   {
    "duration": 0,
    "start_time": "2023-01-03T15:12:47.424Z"
   },
   {
    "duration": 0,
    "start_time": "2023-01-03T15:12:47.425Z"
   },
   {
    "duration": 0,
    "start_time": "2023-01-03T15:12:47.426Z"
   },
   {
    "duration": 0,
    "start_time": "2023-01-03T15:12:47.430Z"
   },
   {
    "duration": 0,
    "start_time": "2023-01-03T15:12:47.431Z"
   },
   {
    "duration": 0,
    "start_time": "2023-01-03T15:12:47.433Z"
   },
   {
    "duration": 0,
    "start_time": "2023-01-03T15:12:47.434Z"
   },
   {
    "duration": 0,
    "start_time": "2023-01-03T15:12:47.436Z"
   },
   {
    "duration": 0,
    "start_time": "2023-01-03T15:12:47.437Z"
   },
   {
    "duration": 34,
    "start_time": "2023-01-03T15:13:25.602Z"
   },
   {
    "duration": 31,
    "start_time": "2023-01-03T15:15:28.539Z"
   },
   {
    "duration": 15,
    "start_time": "2023-01-03T15:16:55.796Z"
   },
   {
    "duration": 6,
    "start_time": "2023-01-03T15:17:03.437Z"
   },
   {
    "duration": 1069,
    "start_time": "2023-01-03T15:28:12.093Z"
   },
   {
    "duration": 355,
    "start_time": "2023-01-03T15:28:13.163Z"
   },
   {
    "duration": 32,
    "start_time": "2023-01-03T15:28:13.519Z"
   },
   {
    "duration": 31,
    "start_time": "2023-01-03T15:28:13.552Z"
   },
   {
    "duration": 139,
    "start_time": "2023-01-03T15:28:13.584Z"
   },
   {
    "duration": 105,
    "start_time": "2023-01-03T15:28:13.724Z"
   },
   {
    "duration": 22,
    "start_time": "2023-01-03T15:28:13.830Z"
   },
   {
    "duration": 87,
    "start_time": "2023-01-03T15:28:13.853Z"
   },
   {
    "duration": 28,
    "start_time": "2023-01-03T15:28:13.941Z"
   },
   {
    "duration": 13,
    "start_time": "2023-01-03T15:28:13.972Z"
   },
   {
    "duration": 50,
    "start_time": "2023-01-03T15:28:13.986Z"
   },
   {
    "duration": 19,
    "start_time": "2023-01-03T15:28:14.038Z"
   },
   {
    "duration": 42,
    "start_time": "2023-01-03T15:28:14.061Z"
   },
   {
    "duration": 28,
    "start_time": "2023-01-03T15:28:14.105Z"
   },
   {
    "duration": 33,
    "start_time": "2023-01-03T15:28:14.135Z"
   },
   {
    "duration": 24,
    "start_time": "2023-01-03T15:28:14.170Z"
   },
   {
    "duration": 28,
    "start_time": "2023-01-03T15:28:14.196Z"
   },
   {
    "duration": 17,
    "start_time": "2023-01-03T15:28:14.226Z"
   },
   {
    "duration": 3,
    "start_time": "2023-01-03T15:28:14.245Z"
   },
   {
    "duration": 13,
    "start_time": "2023-01-03T15:28:14.250Z"
   },
   {
    "duration": 8,
    "start_time": "2023-01-03T15:28:14.265Z"
   },
   {
    "duration": 26,
    "start_time": "2023-01-03T15:28:14.275Z"
   },
   {
    "duration": 22,
    "start_time": "2023-01-03T15:28:14.302Z"
   },
   {
    "duration": 229,
    "start_time": "2023-01-03T15:28:14.325Z"
   },
   {
    "duration": 0,
    "start_time": "2023-01-03T15:28:14.556Z"
   },
   {
    "duration": 0,
    "start_time": "2023-01-03T15:28:14.558Z"
   },
   {
    "duration": 0,
    "start_time": "2023-01-03T15:28:14.559Z"
   },
   {
    "duration": 0,
    "start_time": "2023-01-03T15:28:14.560Z"
   },
   {
    "duration": 0,
    "start_time": "2023-01-03T15:28:14.562Z"
   },
   {
    "duration": 0,
    "start_time": "2023-01-03T15:28:14.563Z"
   },
   {
    "duration": 0,
    "start_time": "2023-01-03T15:28:14.564Z"
   },
   {
    "duration": 0,
    "start_time": "2023-01-03T15:28:14.565Z"
   },
   {
    "duration": 0,
    "start_time": "2023-01-03T15:28:14.566Z"
   },
   {
    "duration": 0,
    "start_time": "2023-01-03T15:28:14.567Z"
   },
   {
    "duration": 0,
    "start_time": "2023-01-03T15:28:14.568Z"
   },
   {
    "duration": 0,
    "start_time": "2023-01-03T15:28:14.569Z"
   },
   {
    "duration": 0,
    "start_time": "2023-01-03T15:28:14.569Z"
   },
   {
    "duration": 0,
    "start_time": "2023-01-03T15:28:14.570Z"
   },
   {
    "duration": 0,
    "start_time": "2023-01-03T15:28:14.571Z"
   },
   {
    "duration": 0,
    "start_time": "2023-01-03T15:28:14.572Z"
   },
   {
    "duration": 149,
    "start_time": "2023-01-03T15:30:52.396Z"
   },
   {
    "duration": 1129,
    "start_time": "2023-01-03T15:31:43.241Z"
   },
   {
    "duration": 370,
    "start_time": "2023-01-03T15:31:44.372Z"
   },
   {
    "duration": 38,
    "start_time": "2023-01-03T15:31:44.746Z"
   },
   {
    "duration": 55,
    "start_time": "2023-01-03T15:31:44.785Z"
   },
   {
    "duration": 137,
    "start_time": "2023-01-03T15:31:44.842Z"
   },
   {
    "duration": 115,
    "start_time": "2023-01-03T15:31:44.981Z"
   },
   {
    "duration": 31,
    "start_time": "2023-01-03T15:31:45.098Z"
   },
   {
    "duration": 65,
    "start_time": "2023-01-03T15:31:45.131Z"
   },
   {
    "duration": 46,
    "start_time": "2023-01-03T15:31:45.198Z"
   },
   {
    "duration": 13,
    "start_time": "2023-01-03T15:31:45.246Z"
   },
   {
    "duration": 29,
    "start_time": "2023-01-03T15:31:45.260Z"
   },
   {
    "duration": 37,
    "start_time": "2023-01-03T15:31:45.291Z"
   },
   {
    "duration": 31,
    "start_time": "2023-01-03T15:31:45.330Z"
   },
   {
    "duration": 13,
    "start_time": "2023-01-03T15:31:45.363Z"
   },
   {
    "duration": 18,
    "start_time": "2023-01-03T15:31:45.378Z"
   },
   {
    "duration": 35,
    "start_time": "2023-01-03T15:31:45.397Z"
   },
   {
    "duration": 15,
    "start_time": "2023-01-03T15:31:45.434Z"
   },
   {
    "duration": 15,
    "start_time": "2023-01-03T15:31:45.451Z"
   },
   {
    "duration": 2,
    "start_time": "2023-01-03T15:31:45.467Z"
   },
   {
    "duration": 9,
    "start_time": "2023-01-03T15:31:45.471Z"
   },
   {
    "duration": 10,
    "start_time": "2023-01-03T15:31:45.482Z"
   },
   {
    "duration": 35,
    "start_time": "2023-01-03T15:31:45.493Z"
   },
   {
    "duration": 5,
    "start_time": "2023-01-03T15:31:45.530Z"
   },
   {
    "duration": 7,
    "start_time": "2023-01-03T15:31:45.536Z"
   },
   {
    "duration": 299,
    "start_time": "2023-01-03T15:31:45.544Z"
   },
   {
    "duration": 0,
    "start_time": "2023-01-03T15:31:45.845Z"
   },
   {
    "duration": 0,
    "start_time": "2023-01-03T15:31:45.849Z"
   },
   {
    "duration": 0,
    "start_time": "2023-01-03T15:31:45.850Z"
   },
   {
    "duration": 0,
    "start_time": "2023-01-03T15:31:45.852Z"
   },
   {
    "duration": 0,
    "start_time": "2023-01-03T15:31:45.853Z"
   },
   {
    "duration": 0,
    "start_time": "2023-01-03T15:31:45.854Z"
   },
   {
    "duration": 0,
    "start_time": "2023-01-03T15:31:45.856Z"
   },
   {
    "duration": 0,
    "start_time": "2023-01-03T15:31:45.862Z"
   },
   {
    "duration": 0,
    "start_time": "2023-01-03T15:31:45.864Z"
   },
   {
    "duration": 0,
    "start_time": "2023-01-03T15:31:45.865Z"
   },
   {
    "duration": 0,
    "start_time": "2023-01-03T15:31:45.867Z"
   },
   {
    "duration": 0,
    "start_time": "2023-01-03T15:31:45.868Z"
   },
   {
    "duration": 0,
    "start_time": "2023-01-03T15:31:45.870Z"
   },
   {
    "duration": 0,
    "start_time": "2023-01-03T15:31:45.871Z"
   },
   {
    "duration": 1028,
    "start_time": "2023-01-03T15:32:39.460Z"
   },
   {
    "duration": 359,
    "start_time": "2023-01-03T15:32:40.490Z"
   },
   {
    "duration": 36,
    "start_time": "2023-01-03T15:32:40.850Z"
   },
   {
    "duration": 52,
    "start_time": "2023-01-03T15:32:40.887Z"
   },
   {
    "duration": 121,
    "start_time": "2023-01-03T15:32:40.940Z"
   },
   {
    "duration": 101,
    "start_time": "2023-01-03T15:32:41.063Z"
   },
   {
    "duration": 18,
    "start_time": "2023-01-03T15:32:41.166Z"
   },
   {
    "duration": 87,
    "start_time": "2023-01-03T15:32:41.186Z"
   },
   {
    "duration": 51,
    "start_time": "2023-01-03T15:32:41.274Z"
   },
   {
    "duration": 15,
    "start_time": "2023-01-03T15:32:41.327Z"
   },
   {
    "duration": 34,
    "start_time": "2023-01-03T15:32:41.344Z"
   },
   {
    "duration": 15,
    "start_time": "2023-01-03T15:32:41.379Z"
   },
   {
    "duration": 49,
    "start_time": "2023-01-03T15:32:41.396Z"
   },
   {
    "duration": 14,
    "start_time": "2023-01-03T15:32:41.447Z"
   },
   {
    "duration": 19,
    "start_time": "2023-01-03T15:32:41.462Z"
   },
   {
    "duration": 20,
    "start_time": "2023-01-03T15:32:41.482Z"
   },
   {
    "duration": 30,
    "start_time": "2023-01-03T15:32:41.504Z"
   },
   {
    "duration": 14,
    "start_time": "2023-01-03T15:32:41.536Z"
   },
   {
    "duration": 3,
    "start_time": "2023-01-03T15:32:41.551Z"
   },
   {
    "duration": 9,
    "start_time": "2023-01-03T15:32:41.555Z"
   },
   {
    "duration": 7,
    "start_time": "2023-01-03T15:32:41.566Z"
   },
   {
    "duration": 285,
    "start_time": "2023-01-03T15:32:41.575Z"
   },
   {
    "duration": 0,
    "start_time": "2023-01-03T15:32:41.861Z"
   },
   {
    "duration": 0,
    "start_time": "2023-01-03T15:32:41.862Z"
   },
   {
    "duration": 0,
    "start_time": "2023-01-03T15:32:41.863Z"
   },
   {
    "duration": 0,
    "start_time": "2023-01-03T15:32:41.864Z"
   },
   {
    "duration": 0,
    "start_time": "2023-01-03T15:32:41.867Z"
   },
   {
    "duration": 0,
    "start_time": "2023-01-03T15:32:41.868Z"
   },
   {
    "duration": 0,
    "start_time": "2023-01-03T15:32:41.869Z"
   },
   {
    "duration": 0,
    "start_time": "2023-01-03T15:32:41.870Z"
   },
   {
    "duration": 0,
    "start_time": "2023-01-03T15:32:41.871Z"
   },
   {
    "duration": 0,
    "start_time": "2023-01-03T15:32:41.873Z"
   },
   {
    "duration": 0,
    "start_time": "2023-01-03T15:32:41.874Z"
   },
   {
    "duration": 0,
    "start_time": "2023-01-03T15:32:41.875Z"
   },
   {
    "duration": 0,
    "start_time": "2023-01-03T15:32:41.876Z"
   },
   {
    "duration": 0,
    "start_time": "2023-01-03T15:32:41.877Z"
   },
   {
    "duration": 1,
    "start_time": "2023-01-03T15:32:41.878Z"
   },
   {
    "duration": 0,
    "start_time": "2023-01-03T15:32:41.879Z"
   },
   {
    "duration": 0,
    "start_time": "2023-01-03T15:32:41.880Z"
   },
   {
    "duration": 0,
    "start_time": "2023-01-03T15:32:41.881Z"
   },
   {
    "duration": 0,
    "start_time": "2023-01-03T15:32:41.882Z"
   },
   {
    "duration": 0,
    "start_time": "2023-01-03T15:32:41.883Z"
   },
   {
    "duration": 69,
    "start_time": "2023-01-03T15:34:53.577Z"
   },
   {
    "duration": 190,
    "start_time": "2023-01-03T15:34:54.095Z"
   },
   {
    "duration": 5,
    "start_time": "2023-01-03T15:34:59.923Z"
   },
   {
    "duration": 175,
    "start_time": "2023-01-03T15:35:00.404Z"
   },
   {
    "duration": 5,
    "start_time": "2023-01-03T15:37:20.164Z"
   },
   {
    "duration": 137,
    "start_time": "2023-01-03T15:37:20.580Z"
   },
   {
    "duration": 141,
    "start_time": "2023-01-03T15:37:52.335Z"
   },
   {
    "duration": 1016,
    "start_time": "2023-01-03T15:39:42.260Z"
   },
   {
    "duration": 350,
    "start_time": "2023-01-03T15:39:43.278Z"
   },
   {
    "duration": 34,
    "start_time": "2023-01-03T15:39:43.630Z"
   },
   {
    "duration": 32,
    "start_time": "2023-01-03T15:39:43.665Z"
   },
   {
    "duration": 148,
    "start_time": "2023-01-03T15:39:43.698Z"
   },
   {
    "duration": 113,
    "start_time": "2023-01-03T15:39:43.847Z"
   },
   {
    "duration": 17,
    "start_time": "2023-01-03T15:39:43.962Z"
   },
   {
    "duration": 104,
    "start_time": "2023-01-03T15:39:43.981Z"
   },
   {
    "duration": 50,
    "start_time": "2023-01-03T15:39:44.087Z"
   },
   {
    "duration": 18,
    "start_time": "2023-01-03T15:39:44.140Z"
   },
   {
    "duration": 38,
    "start_time": "2023-01-03T15:39:44.160Z"
   },
   {
    "duration": 33,
    "start_time": "2023-01-03T15:39:44.200Z"
   },
   {
    "duration": 29,
    "start_time": "2023-01-03T15:39:44.235Z"
   },
   {
    "duration": 14,
    "start_time": "2023-01-03T15:39:44.266Z"
   },
   {
    "duration": 16,
    "start_time": "2023-01-03T15:39:44.281Z"
   },
   {
    "duration": 18,
    "start_time": "2023-01-03T15:39:44.322Z"
   },
   {
    "duration": 14,
    "start_time": "2023-01-03T15:39:44.341Z"
   },
   {
    "duration": 14,
    "start_time": "2023-01-03T15:39:44.357Z"
   },
   {
    "duration": 2,
    "start_time": "2023-01-03T15:39:44.372Z"
   },
   {
    "duration": 5,
    "start_time": "2023-01-03T15:39:44.376Z"
   },
   {
    "duration": 11,
    "start_time": "2023-01-03T15:39:44.382Z"
   },
   {
    "duration": 283,
    "start_time": "2023-01-03T15:39:44.395Z"
   },
   {
    "duration": 0,
    "start_time": "2023-01-03T15:39:44.680Z"
   },
   {
    "duration": 0,
    "start_time": "2023-01-03T15:39:44.681Z"
   },
   {
    "duration": 0,
    "start_time": "2023-01-03T15:39:44.683Z"
   },
   {
    "duration": 0,
    "start_time": "2023-01-03T15:39:44.684Z"
   },
   {
    "duration": 0,
    "start_time": "2023-01-03T15:39:44.685Z"
   },
   {
    "duration": 0,
    "start_time": "2023-01-03T15:39:44.687Z"
   },
   {
    "duration": 0,
    "start_time": "2023-01-03T15:39:44.687Z"
   },
   {
    "duration": 0,
    "start_time": "2023-01-03T15:39:44.688Z"
   },
   {
    "duration": 0,
    "start_time": "2023-01-03T15:39:44.689Z"
   },
   {
    "duration": 0,
    "start_time": "2023-01-03T15:39:44.690Z"
   },
   {
    "duration": 0,
    "start_time": "2023-01-03T15:39:44.691Z"
   },
   {
    "duration": 0,
    "start_time": "2023-01-03T15:39:44.692Z"
   },
   {
    "duration": 0,
    "start_time": "2023-01-03T15:39:44.693Z"
   },
   {
    "duration": 0,
    "start_time": "2023-01-03T15:39:44.694Z"
   },
   {
    "duration": 0,
    "start_time": "2023-01-03T15:39:44.695Z"
   },
   {
    "duration": 0,
    "start_time": "2023-01-03T15:39:44.696Z"
   },
   {
    "duration": 0,
    "start_time": "2023-01-03T15:39:44.696Z"
   },
   {
    "duration": 0,
    "start_time": "2023-01-03T15:39:44.697Z"
   },
   {
    "duration": 0,
    "start_time": "2023-01-03T15:39:44.722Z"
   },
   {
    "duration": 0,
    "start_time": "2023-01-03T15:39:44.723Z"
   },
   {
    "duration": 0,
    "start_time": "2023-01-03T15:39:44.724Z"
   },
   {
    "duration": 0,
    "start_time": "2023-01-03T15:39:44.725Z"
   },
   {
    "duration": 0,
    "start_time": "2023-01-03T15:39:44.726Z"
   },
   {
    "duration": 0,
    "start_time": "2023-01-03T15:39:44.727Z"
   },
   {
    "duration": 1107,
    "start_time": "2023-01-03T15:39:58.103Z"
   },
   {
    "duration": 365,
    "start_time": "2023-01-03T15:39:59.212Z"
   },
   {
    "duration": 45,
    "start_time": "2023-01-03T15:39:59.578Z"
   },
   {
    "duration": 33,
    "start_time": "2023-01-03T15:39:59.625Z"
   },
   {
    "duration": 143,
    "start_time": "2023-01-03T15:39:59.660Z"
   },
   {
    "duration": 126,
    "start_time": "2023-01-03T15:39:59.805Z"
   },
   {
    "duration": 19,
    "start_time": "2023-01-03T15:39:59.933Z"
   },
   {
    "duration": 90,
    "start_time": "2023-01-03T15:39:59.954Z"
   },
   {
    "duration": 33,
    "start_time": "2023-01-03T15:40:00.045Z"
   },
   {
    "duration": 16,
    "start_time": "2023-01-03T15:40:00.080Z"
   },
   {
    "duration": 50,
    "start_time": "2023-01-03T15:40:00.097Z"
   },
   {
    "duration": 15,
    "start_time": "2023-01-03T15:40:00.149Z"
   },
   {
    "duration": 59,
    "start_time": "2023-01-03T15:40:00.166Z"
   },
   {
    "duration": 16,
    "start_time": "2023-01-03T15:40:00.227Z"
   },
   {
    "duration": 63,
    "start_time": "2023-01-03T15:40:00.244Z"
   },
   {
    "duration": 36,
    "start_time": "2023-01-03T15:40:00.308Z"
   },
   {
    "duration": 16,
    "start_time": "2023-01-03T15:40:00.346Z"
   },
   {
    "duration": 24,
    "start_time": "2023-01-03T15:40:00.364Z"
   },
   {
    "duration": 15,
    "start_time": "2023-01-03T15:40:00.390Z"
   },
   {
    "duration": 29,
    "start_time": "2023-01-03T15:40:00.407Z"
   },
   {
    "duration": 57,
    "start_time": "2023-01-03T15:40:00.438Z"
   },
   {
    "duration": 34,
    "start_time": "2023-01-03T15:40:00.497Z"
   },
   {
    "duration": 42,
    "start_time": "2023-01-03T15:40:00.532Z"
   },
   {
    "duration": 44,
    "start_time": "2023-01-03T15:40:00.575Z"
   },
   {
    "duration": 13,
    "start_time": "2023-01-03T15:40:00.620Z"
   },
   {
    "duration": 44,
    "start_time": "2023-01-03T15:40:00.635Z"
   },
   {
    "duration": 39,
    "start_time": "2023-01-03T15:40:00.681Z"
   },
   {
    "duration": 71,
    "start_time": "2023-01-03T15:40:00.724Z"
   },
   {
    "duration": 114,
    "start_time": "2023-01-03T15:40:00.797Z"
   },
   {
    "duration": 0,
    "start_time": "2023-01-03T15:40:00.913Z"
   },
   {
    "duration": 0,
    "start_time": "2023-01-03T15:40:00.914Z"
   },
   {
    "duration": 0,
    "start_time": "2023-01-03T15:40:00.922Z"
   },
   {
    "duration": 0,
    "start_time": "2023-01-03T15:40:00.923Z"
   },
   {
    "duration": 0,
    "start_time": "2023-01-03T15:40:00.924Z"
   },
   {
    "duration": 1,
    "start_time": "2023-01-03T15:40:00.925Z"
   },
   {
    "duration": 0,
    "start_time": "2023-01-03T15:40:00.927Z"
   },
   {
    "duration": 0,
    "start_time": "2023-01-03T15:40:00.928Z"
   },
   {
    "duration": 0,
    "start_time": "2023-01-03T15:40:00.929Z"
   },
   {
    "duration": 0,
    "start_time": "2023-01-03T15:40:00.930Z"
   },
   {
    "duration": 0,
    "start_time": "2023-01-03T15:40:00.932Z"
   },
   {
    "duration": 0,
    "start_time": "2023-01-03T15:40:00.933Z"
   },
   {
    "duration": 0,
    "start_time": "2023-01-03T15:40:00.934Z"
   },
   {
    "duration": 0,
    "start_time": "2023-01-03T15:40:00.935Z"
   },
   {
    "duration": 0,
    "start_time": "2023-01-03T15:40:00.937Z"
   },
   {
    "duration": 0,
    "start_time": "2023-01-03T15:40:00.938Z"
   },
   {
    "duration": 0,
    "start_time": "2023-01-03T15:40:00.939Z"
   },
   {
    "duration": 1099,
    "start_time": "2023-01-03T15:40:20.788Z"
   },
   {
    "duration": 361,
    "start_time": "2023-01-03T15:40:21.889Z"
   },
   {
    "duration": 33,
    "start_time": "2023-01-03T15:40:22.251Z"
   },
   {
    "duration": 49,
    "start_time": "2023-01-03T15:40:22.286Z"
   },
   {
    "duration": 122,
    "start_time": "2023-01-03T15:40:22.337Z"
   },
   {
    "duration": 106,
    "start_time": "2023-01-03T15:40:22.461Z"
   },
   {
    "duration": 18,
    "start_time": "2023-01-03T15:40:22.568Z"
   },
   {
    "duration": 81,
    "start_time": "2023-01-03T15:40:22.588Z"
   },
   {
    "duration": 28,
    "start_time": "2023-01-03T15:40:22.670Z"
   },
   {
    "duration": 28,
    "start_time": "2023-01-03T15:40:22.701Z"
   },
   {
    "duration": 27,
    "start_time": "2023-01-03T15:40:22.731Z"
   },
   {
    "duration": 12,
    "start_time": "2023-01-03T15:40:22.760Z"
   },
   {
    "duration": 28,
    "start_time": "2023-01-03T15:40:22.774Z"
   },
   {
    "duration": 13,
    "start_time": "2023-01-03T15:40:22.821Z"
   },
   {
    "duration": 15,
    "start_time": "2023-01-03T15:40:22.835Z"
   },
   {
    "duration": 22,
    "start_time": "2023-01-03T15:40:22.851Z"
   },
   {
    "duration": 14,
    "start_time": "2023-01-03T15:40:22.874Z"
   },
   {
    "duration": 38,
    "start_time": "2023-01-03T15:40:22.889Z"
   },
   {
    "duration": 2,
    "start_time": "2023-01-03T15:40:22.928Z"
   },
   {
    "duration": 7,
    "start_time": "2023-01-03T15:40:22.931Z"
   },
   {
    "duration": 5,
    "start_time": "2023-01-03T15:40:22.939Z"
   },
   {
    "duration": 6,
    "start_time": "2023-01-03T15:40:22.946Z"
   },
   {
    "duration": 6,
    "start_time": "2023-01-03T15:40:22.954Z"
   },
   {
    "duration": 7,
    "start_time": "2023-01-03T15:40:22.962Z"
   },
   {
    "duration": 4,
    "start_time": "2023-01-03T15:40:22.971Z"
   },
   {
    "duration": 6,
    "start_time": "2023-01-03T15:40:22.976Z"
   },
   {
    "duration": 7,
    "start_time": "2023-01-03T15:40:22.983Z"
   },
   {
    "duration": 39,
    "start_time": "2023-01-03T15:40:22.994Z"
   },
   {
    "duration": 21,
    "start_time": "2023-01-03T15:40:23.035Z"
   },
   {
    "duration": 22,
    "start_time": "2023-01-03T15:40:23.057Z"
   },
   {
    "duration": 3,
    "start_time": "2023-01-03T15:40:23.081Z"
   },
   {
    "duration": 8,
    "start_time": "2023-01-03T15:40:23.086Z"
   },
   {
    "duration": 27,
    "start_time": "2023-01-03T15:40:23.095Z"
   },
   {
    "duration": 5,
    "start_time": "2023-01-03T15:40:23.124Z"
   },
   {
    "duration": 5,
    "start_time": "2023-01-03T15:40:23.131Z"
   },
   {
    "duration": 5,
    "start_time": "2023-01-03T15:40:23.138Z"
   },
   {
    "duration": 5,
    "start_time": "2023-01-03T15:40:23.144Z"
   },
   {
    "duration": 103,
    "start_time": "2023-01-03T15:40:23.150Z"
   },
   {
    "duration": 0,
    "start_time": "2023-01-03T15:40:23.255Z"
   },
   {
    "duration": 0,
    "start_time": "2023-01-03T15:40:23.256Z"
   },
   {
    "duration": 0,
    "start_time": "2023-01-03T15:40:23.257Z"
   },
   {
    "duration": 0,
    "start_time": "2023-01-03T15:40:23.259Z"
   },
   {
    "duration": 0,
    "start_time": "2023-01-03T15:40:23.259Z"
   },
   {
    "duration": 0,
    "start_time": "2023-01-03T15:40:23.260Z"
   },
   {
    "duration": 0,
    "start_time": "2023-01-03T15:40:23.261Z"
   },
   {
    "duration": 0,
    "start_time": "2023-01-03T15:40:23.262Z"
   },
   {
    "duration": 15,
    "start_time": "2023-01-03T15:41:02.288Z"
   },
   {
    "duration": 1119,
    "start_time": "2023-01-03T15:41:42.102Z"
   },
   {
    "duration": 374,
    "start_time": "2023-01-03T15:41:43.223Z"
   },
   {
    "duration": 43,
    "start_time": "2023-01-03T15:41:43.599Z"
   },
   {
    "duration": 36,
    "start_time": "2023-01-03T15:41:43.643Z"
   },
   {
    "duration": 138,
    "start_time": "2023-01-03T15:41:43.681Z"
   },
   {
    "duration": 117,
    "start_time": "2023-01-03T15:41:43.821Z"
   },
   {
    "duration": 17,
    "start_time": "2023-01-03T15:41:43.940Z"
   },
   {
    "duration": 95,
    "start_time": "2023-01-03T15:41:43.959Z"
   },
   {
    "duration": 35,
    "start_time": "2023-01-03T15:41:44.056Z"
   },
   {
    "duration": 34,
    "start_time": "2023-01-03T15:41:44.096Z"
   },
   {
    "duration": 37,
    "start_time": "2023-01-03T15:41:44.132Z"
   },
   {
    "duration": 18,
    "start_time": "2023-01-03T15:41:44.171Z"
   },
   {
    "duration": 58,
    "start_time": "2023-01-03T15:41:44.191Z"
   },
   {
    "duration": 14,
    "start_time": "2023-01-03T15:41:44.251Z"
   },
   {
    "duration": 18,
    "start_time": "2023-01-03T15:41:44.267Z"
   },
   {
    "duration": 19,
    "start_time": "2023-01-03T15:41:44.287Z"
   },
   {
    "duration": 15,
    "start_time": "2023-01-03T15:41:44.321Z"
   },
   {
    "duration": 14,
    "start_time": "2023-01-03T15:41:44.337Z"
   },
   {
    "duration": 2,
    "start_time": "2023-01-03T15:41:44.353Z"
   },
   {
    "duration": 7,
    "start_time": "2023-01-03T15:41:44.356Z"
   },
   {
    "duration": 9,
    "start_time": "2023-01-03T15:41:44.364Z"
   },
   {
    "duration": 8,
    "start_time": "2023-01-03T15:41:44.374Z"
   },
   {
    "duration": 4,
    "start_time": "2023-01-03T15:41:44.384Z"
   },
   {
    "duration": 33,
    "start_time": "2023-01-03T15:41:44.390Z"
   },
   {
    "duration": 4,
    "start_time": "2023-01-03T15:41:44.425Z"
   },
   {
    "duration": 5,
    "start_time": "2023-01-03T15:41:44.431Z"
   },
   {
    "duration": 7,
    "start_time": "2023-01-03T15:41:44.438Z"
   },
   {
    "duration": 16,
    "start_time": "2023-01-03T15:41:44.448Z"
   },
   {
    "duration": 14,
    "start_time": "2023-01-03T15:41:44.466Z"
   },
   {
    "duration": 14,
    "start_time": "2023-01-03T15:41:44.481Z"
   },
   {
    "duration": 32,
    "start_time": "2023-01-03T15:41:44.497Z"
   },
   {
    "duration": 5,
    "start_time": "2023-01-03T15:41:44.530Z"
   },
   {
    "duration": 6,
    "start_time": "2023-01-03T15:41:44.536Z"
   },
   {
    "duration": 4,
    "start_time": "2023-01-03T15:41:44.544Z"
   },
   {
    "duration": 4,
    "start_time": "2023-01-03T15:41:44.549Z"
   },
   {
    "duration": 5,
    "start_time": "2023-01-03T15:41:44.555Z"
   },
   {
    "duration": 6,
    "start_time": "2023-01-03T15:41:44.561Z"
   },
   {
    "duration": 4,
    "start_time": "2023-01-03T15:41:44.569Z"
   },
   {
    "duration": 112,
    "start_time": "2023-01-03T15:41:44.575Z"
   },
   {
    "duration": 0,
    "start_time": "2023-01-03T15:41:44.688Z"
   },
   {
    "duration": 0,
    "start_time": "2023-01-03T15:41:44.690Z"
   },
   {
    "duration": 0,
    "start_time": "2023-01-03T15:41:44.691Z"
   },
   {
    "duration": 0,
    "start_time": "2023-01-03T15:41:44.692Z"
   },
   {
    "duration": 0,
    "start_time": "2023-01-03T15:41:44.693Z"
   },
   {
    "duration": 0,
    "start_time": "2023-01-03T15:41:44.694Z"
   },
   {
    "duration": 0,
    "start_time": "2023-01-03T15:41:44.695Z"
   },
   {
    "duration": 0,
    "start_time": "2023-01-03T15:41:44.696Z"
   },
   {
    "duration": 1028,
    "start_time": "2023-01-03T15:42:25.955Z"
   },
   {
    "duration": 354,
    "start_time": "2023-01-03T15:42:26.984Z"
   },
   {
    "duration": 37,
    "start_time": "2023-01-03T15:42:27.340Z"
   },
   {
    "duration": 50,
    "start_time": "2023-01-03T15:42:27.379Z"
   },
   {
    "duration": 123,
    "start_time": "2023-01-03T15:42:27.431Z"
   },
   {
    "duration": 107,
    "start_time": "2023-01-03T15:42:27.556Z"
   },
   {
    "duration": 19,
    "start_time": "2023-01-03T15:42:27.664Z"
   },
   {
    "duration": 84,
    "start_time": "2023-01-03T15:42:27.685Z"
   },
   {
    "duration": 28,
    "start_time": "2023-01-03T15:42:27.770Z"
   },
   {
    "duration": 29,
    "start_time": "2023-01-03T15:42:27.800Z"
   },
   {
    "duration": 35,
    "start_time": "2023-01-03T15:42:27.832Z"
   },
   {
    "duration": 15,
    "start_time": "2023-01-03T15:42:27.869Z"
   },
   {
    "duration": 46,
    "start_time": "2023-01-03T15:42:27.886Z"
   },
   {
    "duration": 13,
    "start_time": "2023-01-03T15:42:27.934Z"
   },
   {
    "duration": 17,
    "start_time": "2023-01-03T15:42:27.948Z"
   },
   {
    "duration": 19,
    "start_time": "2023-01-03T15:42:27.966Z"
   },
   {
    "duration": 39,
    "start_time": "2023-01-03T15:42:27.987Z"
   },
   {
    "duration": 14,
    "start_time": "2023-01-03T15:42:28.027Z"
   },
   {
    "duration": 3,
    "start_time": "2023-01-03T15:42:28.042Z"
   },
   {
    "duration": 6,
    "start_time": "2023-01-03T15:42:28.047Z"
   },
   {
    "duration": 8,
    "start_time": "2023-01-03T15:42:28.054Z"
   },
   {
    "duration": 563,
    "start_time": "2023-01-03T15:42:28.063Z"
   },
   {
    "duration": 2,
    "start_time": "2023-01-03T15:42:28.628Z"
   },
   {
    "duration": 98,
    "start_time": "2023-01-03T15:42:28.631Z"
   },
   {
    "duration": 8,
    "start_time": "2023-01-03T15:42:28.731Z"
   },
   {
    "duration": 2,
    "start_time": "2023-01-03T15:42:28.823Z"
   },
   {
    "duration": 5,
    "start_time": "2023-01-03T15:42:28.827Z"
   },
   {
    "duration": 16,
    "start_time": "2023-01-03T15:42:28.835Z"
   },
   {
    "duration": 14,
    "start_time": "2023-01-03T15:42:28.853Z"
   },
   {
    "duration": 13,
    "start_time": "2023-01-03T15:42:28.869Z"
   },
   {
    "duration": 39,
    "start_time": "2023-01-03T15:42:28.884Z"
   },
   {
    "duration": 4,
    "start_time": "2023-01-03T15:42:28.925Z"
   },
   {
    "duration": 4,
    "start_time": "2023-01-03T15:42:28.931Z"
   },
   {
    "duration": 9,
    "start_time": "2023-01-03T15:42:28.936Z"
   },
   {
    "duration": 9,
    "start_time": "2023-01-03T15:42:28.946Z"
   },
   {
    "duration": 14,
    "start_time": "2023-01-03T15:42:28.957Z"
   },
   {
    "duration": 10,
    "start_time": "2023-01-03T15:42:28.972Z"
   },
   {
    "duration": 8,
    "start_time": "2023-01-03T15:42:28.984Z"
   },
   {
    "duration": 14,
    "start_time": "2023-01-03T15:42:28.993Z"
   },
   {
    "duration": 95,
    "start_time": "2023-01-03T15:42:29.009Z"
   },
   {
    "duration": 0,
    "start_time": "2023-01-03T15:42:29.106Z"
   },
   {
    "duration": 0,
    "start_time": "2023-01-03T15:42:29.107Z"
   },
   {
    "duration": 0,
    "start_time": "2023-01-03T15:42:29.108Z"
   },
   {
    "duration": 0,
    "start_time": "2023-01-03T15:42:29.109Z"
   },
   {
    "duration": 0,
    "start_time": "2023-01-03T15:42:29.110Z"
   },
   {
    "duration": 0,
    "start_time": "2023-01-03T15:42:29.111Z"
   },
   {
    "duration": 0,
    "start_time": "2023-01-03T15:42:29.122Z"
   },
   {
    "duration": 5,
    "start_time": "2023-01-03T15:43:00.036Z"
   },
   {
    "duration": 25,
    "start_time": "2023-01-03T15:43:01.443Z"
   },
   {
    "duration": 4,
    "start_time": "2023-01-03T15:43:14.654Z"
   },
   {
    "duration": 17,
    "start_time": "2023-01-03T15:43:14.932Z"
   },
   {
    "duration": 22,
    "start_time": "2023-01-03T15:43:15.193Z"
   },
   {
    "duration": 3,
    "start_time": "2023-01-03T15:46:15.212Z"
   },
   {
    "duration": 1075,
    "start_time": "2023-01-03T15:47:41.647Z"
   },
   {
    "duration": 372,
    "start_time": "2023-01-03T15:47:42.724Z"
   },
   {
    "duration": 42,
    "start_time": "2023-01-03T15:47:43.097Z"
   },
   {
    "duration": 35,
    "start_time": "2023-01-03T15:47:43.142Z"
   },
   {
    "duration": 150,
    "start_time": "2023-01-03T15:47:43.179Z"
   },
   {
    "duration": 123,
    "start_time": "2023-01-03T15:47:43.331Z"
   },
   {
    "duration": 21,
    "start_time": "2023-01-03T15:47:43.456Z"
   },
   {
    "duration": 90,
    "start_time": "2023-01-03T15:47:43.479Z"
   },
   {
    "duration": 30,
    "start_time": "2023-01-03T15:47:43.571Z"
   },
   {
    "duration": 16,
    "start_time": "2023-01-03T15:47:43.621Z"
   },
   {
    "duration": 32,
    "start_time": "2023-01-03T15:47:43.639Z"
   },
   {
    "duration": 15,
    "start_time": "2023-01-03T15:47:43.673Z"
   },
   {
    "duration": 59,
    "start_time": "2023-01-03T15:47:43.690Z"
   },
   {
    "duration": 15,
    "start_time": "2023-01-03T15:47:43.751Z"
   },
   {
    "duration": 19,
    "start_time": "2023-01-03T15:47:43.768Z"
   },
   {
    "duration": 36,
    "start_time": "2023-01-03T15:47:43.789Z"
   },
   {
    "duration": 17,
    "start_time": "2023-01-03T15:47:43.827Z"
   },
   {
    "duration": 17,
    "start_time": "2023-01-03T15:47:43.846Z"
   },
   {
    "duration": 2,
    "start_time": "2023-01-03T15:47:43.865Z"
   },
   {
    "duration": 7,
    "start_time": "2023-01-03T15:47:43.869Z"
   },
   {
    "duration": 9,
    "start_time": "2023-01-03T15:47:43.878Z"
   },
   {
    "duration": 640,
    "start_time": "2023-01-03T15:47:43.889Z"
   },
   {
    "duration": 694,
    "start_time": "2023-01-03T15:47:44.531Z"
   },
   {
    "duration": 800,
    "start_time": "2023-01-03T15:47:45.227Z"
   },
   {
    "duration": 91,
    "start_time": "2023-01-03T15:47:46.032Z"
   },
   {
    "duration": 8,
    "start_time": "2023-01-03T15:47:46.125Z"
   },
   {
    "duration": 88,
    "start_time": "2023-01-03T15:47:46.134Z"
   },
   {
    "duration": 7,
    "start_time": "2023-01-03T15:47:46.226Z"
   },
   {
    "duration": 6,
    "start_time": "2023-01-03T15:47:46.234Z"
   },
   {
    "duration": 5,
    "start_time": "2023-01-03T15:47:46.242Z"
   },
   {
    "duration": 5,
    "start_time": "2023-01-03T15:47:46.248Z"
   },
   {
    "duration": 7,
    "start_time": "2023-01-03T15:47:46.254Z"
   },
   {
    "duration": 6,
    "start_time": "2023-01-03T15:47:46.262Z"
   },
   {
    "duration": 6,
    "start_time": "2023-01-03T15:47:46.270Z"
   },
   {
    "duration": 8,
    "start_time": "2023-01-03T15:47:46.277Z"
   },
   {
    "duration": 9,
    "start_time": "2023-01-03T15:47:46.287Z"
   },
   {
    "duration": 116,
    "start_time": "2023-01-03T15:47:46.298Z"
   },
   {
    "duration": 0,
    "start_time": "2023-01-03T15:47:46.422Z"
   },
   {
    "duration": 0,
    "start_time": "2023-01-03T15:47:46.423Z"
   },
   {
    "duration": 1,
    "start_time": "2023-01-03T15:47:46.424Z"
   },
   {
    "duration": 0,
    "start_time": "2023-01-03T15:47:46.426Z"
   },
   {
    "duration": 0,
    "start_time": "2023-01-03T15:47:46.426Z"
   },
   {
    "duration": 0,
    "start_time": "2023-01-03T15:47:46.427Z"
   },
   {
    "duration": 0,
    "start_time": "2023-01-03T15:47:46.428Z"
   },
   {
    "duration": 0,
    "start_time": "2023-01-03T15:47:46.429Z"
   },
   {
    "duration": 8,
    "start_time": "2023-01-03T15:49:58.933Z"
   },
   {
    "duration": 8,
    "start_time": "2023-01-03T15:50:07.036Z"
   },
   {
    "duration": 9,
    "start_time": "2023-01-03T15:50:41.014Z"
   },
   {
    "duration": 9,
    "start_time": "2023-01-03T15:50:51.101Z"
   },
   {
    "duration": 1020,
    "start_time": "2023-01-03T15:53:08.652Z"
   },
   {
    "duration": 364,
    "start_time": "2023-01-03T15:53:09.674Z"
   },
   {
    "duration": 36,
    "start_time": "2023-01-03T15:53:10.040Z"
   },
   {
    "duration": 52,
    "start_time": "2023-01-03T15:53:10.078Z"
   },
   {
    "duration": 135,
    "start_time": "2023-01-03T15:53:10.132Z"
   },
   {
    "duration": 111,
    "start_time": "2023-01-03T15:53:10.269Z"
   },
   {
    "duration": 18,
    "start_time": "2023-01-03T15:53:10.381Z"
   },
   {
    "duration": 79,
    "start_time": "2023-01-03T15:53:10.401Z"
   },
   {
    "duration": 46,
    "start_time": "2023-01-03T15:53:10.481Z"
   },
   {
    "duration": 14,
    "start_time": "2023-01-03T15:53:10.529Z"
   },
   {
    "duration": 34,
    "start_time": "2023-01-03T15:53:10.544Z"
   },
   {
    "duration": 13,
    "start_time": "2023-01-03T15:53:10.579Z"
   },
   {
    "duration": 54,
    "start_time": "2023-01-03T15:53:10.593Z"
   },
   {
    "duration": 14,
    "start_time": "2023-01-03T15:53:10.649Z"
   },
   {
    "duration": 24,
    "start_time": "2023-01-03T15:53:10.665Z"
   },
   {
    "duration": 40,
    "start_time": "2023-01-03T15:53:10.691Z"
   },
   {
    "duration": 15,
    "start_time": "2023-01-03T15:53:10.733Z"
   },
   {
    "duration": 25,
    "start_time": "2023-01-03T15:53:10.750Z"
   },
   {
    "duration": 3,
    "start_time": "2023-01-03T15:53:10.777Z"
   },
   {
    "duration": 6,
    "start_time": "2023-01-03T15:53:10.782Z"
   },
   {
    "duration": 7,
    "start_time": "2023-01-03T15:53:10.790Z"
   },
   {
    "duration": 604,
    "start_time": "2023-01-03T15:53:10.822Z"
   },
   {
    "duration": 699,
    "start_time": "2023-01-03T15:53:11.427Z"
   },
   {
    "duration": 698,
    "start_time": "2023-01-03T15:53:12.128Z"
   },
   {
    "duration": 2,
    "start_time": "2023-01-03T15:53:12.828Z"
   },
   {
    "duration": 98,
    "start_time": "2023-01-03T15:53:12.832Z"
   },
   {
    "duration": 6,
    "start_time": "2023-01-03T15:53:12.931Z"
   },
   {
    "duration": 4,
    "start_time": "2023-01-03T15:53:13.021Z"
   },
   {
    "duration": 9,
    "start_time": "2023-01-03T15:53:13.026Z"
   },
   {
    "duration": 9,
    "start_time": "2023-01-03T15:53:13.036Z"
   },
   {
    "duration": 6,
    "start_time": "2023-01-03T15:53:13.046Z"
   },
   {
    "duration": 4,
    "start_time": "2023-01-03T15:53:13.053Z"
   },
   {
    "duration": 14,
    "start_time": "2023-01-03T15:53:13.059Z"
   },
   {
    "duration": 5,
    "start_time": "2023-01-03T15:53:13.075Z"
   },
   {
    "duration": 9,
    "start_time": "2023-01-03T15:53:13.082Z"
   },
   {
    "duration": 4,
    "start_time": "2023-01-03T15:53:13.093Z"
   },
   {
    "duration": 9,
    "start_time": "2023-01-03T15:53:13.099Z"
   },
   {
    "duration": 111,
    "start_time": "2023-01-03T15:53:13.109Z"
   },
   {
    "duration": 0,
    "start_time": "2023-01-03T15:53:13.222Z"
   },
   {
    "duration": 0,
    "start_time": "2023-01-03T15:53:13.223Z"
   },
   {
    "duration": 0,
    "start_time": "2023-01-03T15:53:13.224Z"
   },
   {
    "duration": 0,
    "start_time": "2023-01-03T15:53:13.225Z"
   },
   {
    "duration": 0,
    "start_time": "2023-01-03T15:53:13.226Z"
   },
   {
    "duration": 0,
    "start_time": "2023-01-03T15:53:13.227Z"
   },
   {
    "duration": 0,
    "start_time": "2023-01-03T15:53:13.228Z"
   },
   {
    "duration": 0,
    "start_time": "2023-01-03T15:53:13.229Z"
   },
   {
    "duration": 11,
    "start_time": "2023-01-03T15:53:34.704Z"
   },
   {
    "duration": 3,
    "start_time": "2023-01-03T15:54:21.157Z"
   },
   {
    "duration": 3,
    "start_time": "2023-01-03T15:54:28.366Z"
   },
   {
    "duration": 3,
    "start_time": "2023-01-03T15:54:29.325Z"
   },
   {
    "duration": 8,
    "start_time": "2023-01-03T15:54:30.085Z"
   },
   {
    "duration": 21,
    "start_time": "2023-01-03T15:55:07.645Z"
   },
   {
    "duration": 4,
    "start_time": "2023-01-03T15:55:15.645Z"
   },
   {
    "duration": 23,
    "start_time": "2023-01-03T15:55:15.884Z"
   },
   {
    "duration": 21,
    "start_time": "2023-01-03T15:55:32.166Z"
   },
   {
    "duration": 22,
    "start_time": "2023-01-03T15:59:41.344Z"
   },
   {
    "duration": 3,
    "start_time": "2023-01-03T16:06:32.543Z"
   },
   {
    "duration": 5,
    "start_time": "2023-01-03T16:06:46.047Z"
   },
   {
    "duration": 68,
    "start_time": "2023-01-03T16:07:47.673Z"
   },
   {
    "duration": 73,
    "start_time": "2023-01-03T16:08:06.221Z"
   },
   {
    "duration": 9,
    "start_time": "2023-01-03T16:08:15.678Z"
   },
   {
    "duration": 8,
    "start_time": "2023-01-03T16:08:34.832Z"
   },
   {
    "duration": 20,
    "start_time": "2023-01-03T16:08:39.135Z"
   },
   {
    "duration": 9,
    "start_time": "2023-01-03T16:09:02.996Z"
   },
   {
    "duration": 1013,
    "start_time": "2023-01-03T16:09:19.165Z"
   },
   {
    "duration": 366,
    "start_time": "2023-01-03T16:09:20.180Z"
   },
   {
    "duration": 35,
    "start_time": "2023-01-03T16:09:20.548Z"
   },
   {
    "duration": 53,
    "start_time": "2023-01-03T16:09:20.585Z"
   },
   {
    "duration": 121,
    "start_time": "2023-01-03T16:09:20.640Z"
   },
   {
    "duration": 111,
    "start_time": "2023-01-03T16:09:20.763Z"
   },
   {
    "duration": 19,
    "start_time": "2023-01-03T16:09:20.875Z"
   },
   {
    "duration": 85,
    "start_time": "2023-01-03T16:09:20.895Z"
   },
   {
    "duration": 42,
    "start_time": "2023-01-03T16:09:20.981Z"
   },
   {
    "duration": 14,
    "start_time": "2023-01-03T16:09:21.024Z"
   },
   {
    "duration": 35,
    "start_time": "2023-01-03T16:09:21.039Z"
   },
   {
    "duration": 13,
    "start_time": "2023-01-03T16:09:21.076Z"
   },
   {
    "duration": 43,
    "start_time": "2023-01-03T16:09:21.090Z"
   },
   {
    "duration": 12,
    "start_time": "2023-01-03T16:09:21.136Z"
   },
   {
    "duration": 16,
    "start_time": "2023-01-03T16:09:21.150Z"
   },
   {
    "duration": 18,
    "start_time": "2023-01-03T16:09:21.168Z"
   },
   {
    "duration": 35,
    "start_time": "2023-01-03T16:09:21.187Z"
   },
   {
    "duration": 14,
    "start_time": "2023-01-03T16:09:21.223Z"
   },
   {
    "duration": 2,
    "start_time": "2023-01-03T16:09:21.239Z"
   },
   {
    "duration": 8,
    "start_time": "2023-01-03T16:09:21.242Z"
   },
   {
    "duration": 6,
    "start_time": "2023-01-03T16:09:21.251Z"
   },
   {
    "duration": 568,
    "start_time": "2023-01-03T16:09:21.258Z"
   },
   {
    "duration": 699,
    "start_time": "2023-01-03T16:09:21.828Z"
   },
   {
    "duration": 698,
    "start_time": "2023-01-03T16:09:22.529Z"
   },
   {
    "duration": 2,
    "start_time": "2023-01-03T16:09:23.229Z"
   },
   {
    "duration": 6,
    "start_time": "2023-01-03T16:09:23.323Z"
   },
   {
    "duration": 91,
    "start_time": "2023-01-03T16:09:23.331Z"
   },
   {
    "duration": 9,
    "start_time": "2023-01-03T16:09:23.424Z"
   },
   {
    "duration": 4,
    "start_time": "2023-01-03T16:09:23.434Z"
   },
   {
    "duration": 4,
    "start_time": "2023-01-03T16:09:23.440Z"
   },
   {
    "duration": 5,
    "start_time": "2023-01-03T16:09:23.446Z"
   },
   {
    "duration": 5,
    "start_time": "2023-01-03T16:09:23.452Z"
   },
   {
    "duration": 7,
    "start_time": "2023-01-03T16:09:23.458Z"
   },
   {
    "duration": 8,
    "start_time": "2023-01-03T16:09:23.467Z"
   },
   {
    "duration": 5,
    "start_time": "2023-01-03T16:09:23.476Z"
   },
   {
    "duration": 8,
    "start_time": "2023-01-03T16:09:23.482Z"
   },
   {
    "duration": 32,
    "start_time": "2023-01-03T16:09:23.491Z"
   },
   {
    "duration": 9,
    "start_time": "2023-01-03T16:09:23.525Z"
   },
   {
    "duration": 9,
    "start_time": "2023-01-03T16:09:23.535Z"
   },
   {
    "duration": 5,
    "start_time": "2023-01-03T16:09:23.545Z"
   },
   {
    "duration": 1584,
    "start_time": "2023-01-03T16:09:23.553Z"
   },
   {
    "duration": 0,
    "start_time": "2023-01-03T16:09:25.139Z"
   },
   {
    "duration": 0,
    "start_time": "2023-01-03T16:09:25.140Z"
   },
   {
    "duration": 0,
    "start_time": "2023-01-03T16:09:25.141Z"
   },
   {
    "duration": 0,
    "start_time": "2023-01-03T16:09:25.142Z"
   },
   {
    "duration": 1400,
    "start_time": "2023-01-03T16:09:41.509Z"
   },
   {
    "duration": 5,
    "start_time": "2023-01-03T16:11:11.605Z"
   },
   {
    "duration": 1419,
    "start_time": "2023-01-03T16:11:12.043Z"
   },
   {
    "duration": 1277,
    "start_time": "2023-01-03T16:11:18.590Z"
   },
   {
    "duration": 1311,
    "start_time": "2023-01-03T16:11:36.366Z"
   },
   {
    "duration": 9,
    "start_time": "2023-01-03T16:11:37.679Z"
   },
   {
    "duration": 0,
    "start_time": "2023-01-03T16:11:37.690Z"
   },
   {
    "duration": 1258,
    "start_time": "2023-01-03T16:12:50.226Z"
   },
   {
    "duration": 18,
    "start_time": "2023-01-03T16:12:51.486Z"
   },
   {
    "duration": 0,
    "start_time": "2023-01-03T16:12:51.506Z"
   },
   {
    "duration": 1081,
    "start_time": "2023-01-03T16:13:51.451Z"
   },
   {
    "duration": 347,
    "start_time": "2023-01-03T16:13:52.534Z"
   },
   {
    "duration": 42,
    "start_time": "2023-01-03T16:13:52.883Z"
   },
   {
    "duration": 32,
    "start_time": "2023-01-03T16:13:52.927Z"
   },
   {
    "duration": 132,
    "start_time": "2023-01-03T16:13:52.960Z"
   },
   {
    "duration": 102,
    "start_time": "2023-01-03T16:13:53.094Z"
   },
   {
    "duration": 32,
    "start_time": "2023-01-03T16:13:53.197Z"
   },
   {
    "duration": 62,
    "start_time": "2023-01-03T16:13:53.231Z"
   },
   {
    "duration": 51,
    "start_time": "2023-01-03T16:13:53.294Z"
   },
   {
    "duration": 13,
    "start_time": "2023-01-03T16:13:53.347Z"
   },
   {
    "duration": 26,
    "start_time": "2023-01-03T16:13:53.361Z"
   },
   {
    "duration": 34,
    "start_time": "2023-01-03T16:13:53.389Z"
   },
   {
    "duration": 25,
    "start_time": "2023-01-03T16:13:53.424Z"
   },
   {
    "duration": 12,
    "start_time": "2023-01-03T16:13:53.451Z"
   },
   {
    "duration": 17,
    "start_time": "2023-01-03T16:13:53.464Z"
   },
   {
    "duration": 23,
    "start_time": "2023-01-03T16:13:53.483Z"
   },
   {
    "duration": 27,
    "start_time": "2023-01-03T16:13:53.507Z"
   },
   {
    "duration": 13,
    "start_time": "2023-01-03T16:13:53.536Z"
   },
   {
    "duration": 2,
    "start_time": "2023-01-03T16:13:53.550Z"
   },
   {
    "duration": 6,
    "start_time": "2023-01-03T16:13:53.553Z"
   },
   {
    "duration": 8,
    "start_time": "2023-01-03T16:13:53.560Z"
   },
   {
    "duration": 556,
    "start_time": "2023-01-03T16:13:53.570Z"
   },
   {
    "duration": 600,
    "start_time": "2023-01-03T16:13:54.128Z"
   },
   {
    "duration": 698,
    "start_time": "2023-01-03T16:13:54.729Z"
   },
   {
    "duration": 92,
    "start_time": "2023-01-03T16:13:55.429Z"
   },
   {
    "duration": 101,
    "start_time": "2023-01-03T16:13:55.523Z"
   },
   {
    "duration": 6,
    "start_time": "2023-01-03T16:13:55.626Z"
   },
   {
    "duration": 10,
    "start_time": "2023-01-03T16:13:55.635Z"
   },
   {
    "duration": 8,
    "start_time": "2023-01-03T16:13:55.646Z"
   },
   {
    "duration": 14,
    "start_time": "2023-01-03T16:13:55.655Z"
   },
   {
    "duration": 14,
    "start_time": "2023-01-03T16:13:55.670Z"
   },
   {
    "duration": 8,
    "start_time": "2023-01-03T16:13:55.685Z"
   },
   {
    "duration": 4,
    "start_time": "2023-01-03T16:13:55.695Z"
   },
   {
    "duration": 5,
    "start_time": "2023-01-03T16:13:55.701Z"
   },
   {
    "duration": 7,
    "start_time": "2023-01-03T16:13:55.707Z"
   },
   {
    "duration": 12,
    "start_time": "2023-01-03T16:13:55.715Z"
   },
   {
    "duration": 8,
    "start_time": "2023-01-03T16:13:55.728Z"
   },
   {
    "duration": 8,
    "start_time": "2023-01-03T16:13:55.737Z"
   },
   {
    "duration": 4,
    "start_time": "2023-01-03T16:13:55.746Z"
   },
   {
    "duration": 126,
    "start_time": "2023-01-03T16:13:55.751Z"
   },
   {
    "duration": 0,
    "start_time": "2023-01-03T16:13:55.879Z"
   },
   {
    "duration": 0,
    "start_time": "2023-01-03T16:13:55.880Z"
   },
   {
    "duration": 63,
    "start_time": "2023-01-03T16:15:01.360Z"
   },
   {
    "duration": 93,
    "start_time": "2023-01-03T16:15:09.006Z"
   },
   {
    "duration": 94,
    "start_time": "2023-01-03T16:15:20.083Z"
   },
   {
    "duration": 73,
    "start_time": "2023-01-03T16:15:39.430Z"
   },
   {
    "duration": 89,
    "start_time": "2023-01-03T16:15:44.944Z"
   },
   {
    "duration": 99,
    "start_time": "2023-01-03T16:15:53.966Z"
   },
   {
    "duration": 70,
    "start_time": "2023-01-03T16:16:23.408Z"
   },
   {
    "duration": 1091,
    "start_time": "2023-01-03T16:17:38.515Z"
   },
   {
    "duration": 382,
    "start_time": "2023-01-03T16:17:39.609Z"
   },
   {
    "duration": 45,
    "start_time": "2023-01-03T16:17:39.993Z"
   },
   {
    "duration": 35,
    "start_time": "2023-01-03T16:17:40.040Z"
   },
   {
    "duration": 147,
    "start_time": "2023-01-03T16:17:40.077Z"
   },
   {
    "duration": 117,
    "start_time": "2023-01-03T16:17:40.226Z"
   },
   {
    "duration": 22,
    "start_time": "2023-01-03T16:17:40.345Z"
   },
   {
    "duration": 87,
    "start_time": "2023-01-03T16:17:40.368Z"
   },
   {
    "duration": 30,
    "start_time": "2023-01-03T16:17:40.457Z"
   },
   {
    "duration": 13,
    "start_time": "2023-01-03T16:17:40.489Z"
   },
   {
    "duration": 33,
    "start_time": "2023-01-03T16:17:40.522Z"
   },
   {
    "duration": 14,
    "start_time": "2023-01-03T16:17:40.556Z"
   },
   {
    "duration": 50,
    "start_time": "2023-01-03T16:17:40.572Z"
   },
   {
    "duration": 16,
    "start_time": "2023-01-03T16:17:40.625Z"
   },
   {
    "duration": 19,
    "start_time": "2023-01-03T16:17:40.642Z"
   },
   {
    "duration": 37,
    "start_time": "2023-01-03T16:17:40.662Z"
   },
   {
    "duration": 23,
    "start_time": "2023-01-03T16:17:40.700Z"
   },
   {
    "duration": 16,
    "start_time": "2023-01-03T16:17:40.724Z"
   },
   {
    "duration": 2,
    "start_time": "2023-01-03T16:17:40.742Z"
   },
   {
    "duration": 10,
    "start_time": "2023-01-03T16:17:40.746Z"
   },
   {
    "duration": 13,
    "start_time": "2023-01-03T16:17:40.757Z"
   },
   {
    "duration": 553,
    "start_time": "2023-01-03T16:17:40.772Z"
   },
   {
    "duration": 796,
    "start_time": "2023-01-03T16:17:41.327Z"
   },
   {
    "duration": 602,
    "start_time": "2023-01-03T16:17:42.124Z"
   },
   {
    "duration": 2,
    "start_time": "2023-01-03T16:17:42.727Z"
   },
   {
    "duration": 97,
    "start_time": "2023-01-03T16:17:42.731Z"
   },
   {
    "duration": 5,
    "start_time": "2023-01-03T16:17:42.831Z"
   },
   {
    "duration": 94,
    "start_time": "2023-01-03T16:17:42.837Z"
   },
   {
    "duration": 10,
    "start_time": "2023-01-03T16:17:42.933Z"
   },
   {
    "duration": 5,
    "start_time": "2023-01-03T16:17:42.944Z"
   },
   {
    "duration": 5,
    "start_time": "2023-01-03T16:17:42.950Z"
   },
   {
    "duration": 4,
    "start_time": "2023-01-03T16:17:42.956Z"
   },
   {
    "duration": 5,
    "start_time": "2023-01-03T16:17:42.962Z"
   },
   {
    "duration": 6,
    "start_time": "2023-01-03T16:17:42.969Z"
   },
   {
    "duration": 4,
    "start_time": "2023-01-03T16:17:42.977Z"
   },
   {
    "duration": 13,
    "start_time": "2023-01-03T16:17:42.983Z"
   },
   {
    "duration": 25,
    "start_time": "2023-01-03T16:17:42.998Z"
   },
   {
    "duration": 8,
    "start_time": "2023-01-03T16:17:43.024Z"
   },
   {
    "duration": 4,
    "start_time": "2023-01-03T16:17:43.034Z"
   },
   {
    "duration": 69,
    "start_time": "2023-01-03T16:17:43.040Z"
   },
   {
    "duration": 0,
    "start_time": "2023-01-03T16:17:43.111Z"
   },
   {
    "duration": 0,
    "start_time": "2023-01-03T16:17:43.112Z"
   },
   {
    "duration": 1248,
    "start_time": "2023-01-03T16:18:58.679Z"
   },
   {
    "duration": 1259,
    "start_time": "2023-01-03T16:19:20.286Z"
   },
   {
    "duration": 1236,
    "start_time": "2023-01-03T16:19:21.547Z"
   },
   {
    "duration": 1157,
    "start_time": "2023-02-19T16:45:41.324Z"
   },
   {
    "duration": 931,
    "start_time": "2023-02-19T16:45:42.483Z"
   },
   {
    "duration": 40,
    "start_time": "2023-02-19T16:45:43.416Z"
   },
   {
    "duration": 43,
    "start_time": "2023-02-19T16:45:43.458Z"
   },
   {
    "duration": 153,
    "start_time": "2023-02-19T16:45:43.502Z"
   },
   {
    "duration": 122,
    "start_time": "2023-02-19T16:45:43.657Z"
   },
   {
    "duration": 36,
    "start_time": "2023-02-19T16:45:43.781Z"
   },
   {
    "duration": 104,
    "start_time": "2023-02-19T16:45:43.818Z"
   },
   {
    "duration": 37,
    "start_time": "2023-02-19T16:45:43.923Z"
   },
   {
    "duration": 36,
    "start_time": "2023-02-19T16:45:43.964Z"
   },
   {
    "duration": 36,
    "start_time": "2023-02-19T16:45:44.002Z"
   },
   {
    "duration": 20,
    "start_time": "2023-02-19T16:45:44.040Z"
   },
   {
    "duration": 57,
    "start_time": "2023-02-19T16:45:44.062Z"
   },
   {
    "duration": 22,
    "start_time": "2023-02-19T16:45:44.121Z"
   },
   {
    "duration": 24,
    "start_time": "2023-02-19T16:45:44.145Z"
   },
   {
    "duration": 30,
    "start_time": "2023-02-19T16:45:44.171Z"
   },
   {
    "duration": 14,
    "start_time": "2023-02-19T16:45:44.202Z"
   },
   {
    "duration": 15,
    "start_time": "2023-02-19T16:45:44.218Z"
   },
   {
    "duration": 5,
    "start_time": "2023-02-19T16:45:44.234Z"
   },
   {
    "duration": 465,
    "start_time": "2023-02-19T16:45:44.240Z"
   },
   {
    "duration": 898,
    "start_time": "2023-02-19T16:45:44.706Z"
   },
   {
    "duration": 696,
    "start_time": "2023-02-19T16:45:45.607Z"
   },
   {
    "duration": 101,
    "start_time": "2023-02-19T16:45:46.305Z"
   },
   {
    "duration": 96,
    "start_time": "2023-02-19T16:45:46.408Z"
   },
   {
    "duration": 11,
    "start_time": "2023-02-19T16:45:46.506Z"
   },
   {
    "duration": 117,
    "start_time": "2023-02-19T16:45:46.519Z"
   },
   {
    "duration": 0,
    "start_time": "2023-02-19T16:45:46.638Z"
   },
   {
    "duration": 0,
    "start_time": "2023-02-19T16:45:46.641Z"
   },
   {
    "duration": 0,
    "start_time": "2023-02-19T16:45:46.642Z"
   },
   {
    "duration": 0,
    "start_time": "2023-02-19T16:45:46.644Z"
   },
   {
    "duration": 0,
    "start_time": "2023-02-19T16:45:46.645Z"
   },
   {
    "duration": 0,
    "start_time": "2023-02-19T16:45:46.646Z"
   },
   {
    "duration": 3,
    "start_time": "2023-02-19T16:47:51.201Z"
   },
   {
    "duration": 4,
    "start_time": "2023-02-19T16:48:05.708Z"
   },
   {
    "duration": 20,
    "start_time": "2023-02-19T16:48:06.066Z"
   },
   {
    "duration": 3,
    "start_time": "2023-02-19T16:48:32.504Z"
   },
   {
    "duration": 11,
    "start_time": "2023-02-19T16:48:33.766Z"
   },
   {
    "duration": 11,
    "start_time": "2023-02-19T16:48:34.453Z"
   },
   {
    "duration": 11,
    "start_time": "2023-02-19T16:48:34.625Z"
   },
   {
    "duration": 5,
    "start_time": "2023-02-19T16:48:45.861Z"
   },
   {
    "duration": 22,
    "start_time": "2023-02-19T16:48:46.753Z"
   },
   {
    "duration": 21,
    "start_time": "2023-02-19T16:48:46.951Z"
   },
   {
    "duration": 21,
    "start_time": "2023-02-19T16:48:47.394Z"
   },
   {
    "duration": 1126,
    "start_time": "2023-02-19T16:48:58.172Z"
   },
   {
    "duration": 373,
    "start_time": "2023-02-19T16:48:59.301Z"
   },
   {
    "duration": 39,
    "start_time": "2023-02-19T16:48:59.676Z"
   },
   {
    "duration": 34,
    "start_time": "2023-02-19T16:48:59.717Z"
   },
   {
    "duration": 147,
    "start_time": "2023-02-19T16:48:59.753Z"
   },
   {
    "duration": 117,
    "start_time": "2023-02-19T16:48:59.901Z"
   },
   {
    "duration": 21,
    "start_time": "2023-02-19T16:49:00.019Z"
   },
   {
    "duration": 94,
    "start_time": "2023-02-19T16:49:00.042Z"
   },
   {
    "duration": 38,
    "start_time": "2023-02-19T16:49:00.137Z"
   },
   {
    "duration": 27,
    "start_time": "2023-02-19T16:49:00.179Z"
   },
   {
    "duration": 70,
    "start_time": "2023-02-19T16:49:00.208Z"
   },
   {
    "duration": 50,
    "start_time": "2023-02-19T16:49:00.279Z"
   },
   {
    "duration": 72,
    "start_time": "2023-02-19T16:49:00.331Z"
   },
   {
    "duration": 27,
    "start_time": "2023-02-19T16:49:00.405Z"
   },
   {
    "duration": 74,
    "start_time": "2023-02-19T16:49:00.434Z"
   },
   {
    "duration": 56,
    "start_time": "2023-02-19T16:49:00.510Z"
   },
   {
    "duration": 35,
    "start_time": "2023-02-19T16:49:00.568Z"
   },
   {
    "duration": 43,
    "start_time": "2023-02-19T16:49:00.605Z"
   },
   {
    "duration": 35,
    "start_time": "2023-02-19T16:49:00.649Z"
   },
   {
    "duration": 516,
    "start_time": "2023-02-19T16:49:00.687Z"
   },
   {
    "duration": 698,
    "start_time": "2023-02-19T16:49:01.205Z"
   },
   {
    "duration": 705,
    "start_time": "2023-02-19T16:49:01.904Z"
   },
   {
    "duration": 93,
    "start_time": "2023-02-19T16:49:02.611Z"
   },
   {
    "duration": 108,
    "start_time": "2023-02-19T16:49:02.706Z"
   },
   {
    "duration": 11,
    "start_time": "2023-02-19T16:49:02.815Z"
   },
   {
    "duration": 17,
    "start_time": "2023-02-19T16:49:02.828Z"
   },
   {
    "duration": 9,
    "start_time": "2023-02-19T16:49:02.847Z"
   },
   {
    "duration": 15,
    "start_time": "2023-02-19T16:49:02.859Z"
   },
   {
    "duration": 42,
    "start_time": "2023-02-19T16:49:02.876Z"
   },
   {
    "duration": 114,
    "start_time": "2023-02-19T16:49:02.919Z"
   },
   {
    "duration": 0,
    "start_time": "2023-02-19T16:49:03.034Z"
   },
   {
    "duration": 0,
    "start_time": "2023-02-19T16:49:03.035Z"
   },
   {
    "duration": 1100,
    "start_time": "2023-02-19T16:49:54.634Z"
   },
   {
    "duration": 384,
    "start_time": "2023-02-19T16:49:55.736Z"
   },
   {
    "duration": 44,
    "start_time": "2023-02-19T16:49:56.122Z"
   },
   {
    "duration": 61,
    "start_time": "2023-02-19T16:49:56.168Z"
   },
   {
    "duration": 159,
    "start_time": "2023-02-19T16:49:56.231Z"
   },
   {
    "duration": 118,
    "start_time": "2023-02-19T16:49:56.392Z"
   },
   {
    "duration": 21,
    "start_time": "2023-02-19T16:49:56.512Z"
   },
   {
    "duration": 102,
    "start_time": "2023-02-19T16:49:56.534Z"
   },
   {
    "duration": 32,
    "start_time": "2023-02-19T16:49:56.637Z"
   },
   {
    "duration": 29,
    "start_time": "2023-02-19T16:49:56.672Z"
   },
   {
    "duration": 31,
    "start_time": "2023-02-19T16:49:56.703Z"
   },
   {
    "duration": 13,
    "start_time": "2023-02-19T16:49:56.735Z"
   },
   {
    "duration": 49,
    "start_time": "2023-02-19T16:49:56.750Z"
   },
   {
    "duration": 16,
    "start_time": "2023-02-19T16:49:56.800Z"
   },
   {
    "duration": 20,
    "start_time": "2023-02-19T16:49:56.818Z"
   },
   {
    "duration": 43,
    "start_time": "2023-02-19T16:49:56.840Z"
   },
   {
    "duration": 14,
    "start_time": "2023-02-19T16:49:56.885Z"
   },
   {
    "duration": 15,
    "start_time": "2023-02-19T16:49:56.900Z"
   },
   {
    "duration": 5,
    "start_time": "2023-02-19T16:49:56.916Z"
   },
   {
    "duration": 582,
    "start_time": "2023-02-19T16:49:56.922Z"
   },
   {
    "duration": 697,
    "start_time": "2023-02-19T16:49:57.506Z"
   },
   {
    "duration": 700,
    "start_time": "2023-02-19T16:49:58.205Z"
   },
   {
    "duration": 93,
    "start_time": "2023-02-19T16:49:58.907Z"
   },
   {
    "duration": 106,
    "start_time": "2023-02-19T16:49:59.002Z"
   },
   {
    "duration": 7,
    "start_time": "2023-02-19T16:49:59.110Z"
   },
   {
    "duration": 13,
    "start_time": "2023-02-19T16:49:59.119Z"
   },
   {
    "duration": 11,
    "start_time": "2023-02-19T16:49:59.134Z"
   },
   {
    "duration": 10,
    "start_time": "2023-02-19T16:49:59.147Z"
   },
   {
    "duration": 5,
    "start_time": "2023-02-19T16:49:59.158Z"
   },
   {
    "duration": 3252,
    "start_time": "2023-02-19T16:49:59.165Z"
   },
   {
    "duration": 3351,
    "start_time": "2023-02-19T16:50:02.418Z"
   },
   {
    "duration": 3358,
    "start_time": "2023-02-19T16:50:05.771Z"
   },
   {
    "duration": 4,
    "start_time": "2023-02-19T19:17:05.364Z"
   },
   {
    "duration": 119,
    "start_time": "2023-02-19T19:17:06.471Z"
   },
   {
    "duration": 16,
    "start_time": "2023-02-19T19:17:06.932Z"
   },
   {
    "duration": 5,
    "start_time": "2023-02-19T19:17:49.361Z"
   },
   {
    "duration": 18,
    "start_time": "2023-02-19T19:17:50.391Z"
   },
   {
    "duration": 18,
    "start_time": "2023-02-19T19:17:51.208Z"
   },
   {
    "duration": 4,
    "start_time": "2023-02-19T19:24:07.740Z"
   },
   {
    "duration": 10,
    "start_time": "2023-02-19T19:24:09.000Z"
   },
   {
    "duration": 11,
    "start_time": "2023-02-19T19:24:09.772Z"
   },
   {
    "duration": 12,
    "start_time": "2023-02-19T19:24:10.036Z"
   },
   {
    "duration": 5,
    "start_time": "2023-02-19T19:24:11.509Z"
   },
   {
    "duration": 17,
    "start_time": "2023-02-19T19:24:14.192Z"
   },
   {
    "duration": 11,
    "start_time": "2023-02-19T19:24:36.728Z"
   },
   {
    "duration": 20,
    "start_time": "2023-02-19T19:24:46.660Z"
   },
   {
    "duration": 5,
    "start_time": "2023-02-19T19:25:00.582Z"
   },
   {
    "duration": 24,
    "start_time": "2023-02-19T19:25:01.362Z"
   }
  ],
  "kernelspec": {
   "display_name": "Python 3 (ipykernel)",
   "language": "python",
   "name": "python3"
  },
  "language_info": {
   "codemirror_mode": {
    "name": "ipython",
    "version": 3
   },
   "file_extension": ".py",
   "mimetype": "text/x-python",
   "name": "python",
   "nbconvert_exporter": "python",
   "pygments_lexer": "ipython3",
   "version": "3.9.16"
  },
  "toc": {
   "base_numbering": 1,
   "nav_menu": {},
   "number_sections": true,
   "sideBar": true,
   "skip_h1_title": true,
   "title_cell": "Table of Contents",
   "title_sidebar": "Contents",
   "toc_cell": false,
   "toc_position": {},
   "toc_section_display": true,
   "toc_window_display": false
  }
 },
 "nbformat": 4,
 "nbformat_minor": 2
}

{
 "cells": [
  {
   "cell_type": "markdown",
   "metadata": {},
   "source": [
    "# Определение стоимости автомобилей"
   ]
  },
  {
   "cell_type": "markdown",
   "metadata": {},
   "source": [
    "Сервис по продаже автомобилей с пробегом «Не бит, не крашен» разрабатывает приложение для привлечения новых клиентов. В нём можно быстро узнать рыночную стоимость своего автомобиля. В вашем распоряжении исторические данные: технические характеристики, комплектации и цены автомобилей. Вам нужно построить модель для определения стоимости. \n",
    "\n",
    "Заказчику важны:\n",
    "\n",
    "- качество предсказания;\n",
    "- скорость предсказания;\n",
    "- время обучения."
   ]
  },
  {
   "cell_type": "markdown",
   "metadata": {},
   "source": [
    "Признаки\n",
    "\n",
    "DateCrawled — дата скачивания анкеты из базы\n",
    "\n",
    "VehicleType — тип автомобильного кузова\n",
    "\n",
    "RegistrationYear — год регистрации автомобиля\n",
    "\n",
    "Gearbox — тип коробки передач\n",
    "\n",
    "Power — мощность (л. с.)\n",
    "\n",
    "Model — модель автомобиля\n",
    "\n",
    "Kilometer — пробег (км)\n",
    "\n",
    "RegistrationMonth — месяц регистрации автомобиля\n",
    "\n",
    "FuelType — тип топлива\n",
    "\n",
    "Brand — марка автомобиля\n",
    "\n",
    "Repaired — была машина в ремонте или нет\n",
    "\n",
    "DateCreated — дата создания анкеты\n",
    "\n",
    "NumberOfPictures — количество фотографий автомобиля\n",
    "\n",
    "PostalCode — почтовый индекс владельца анкеты (пользователя)\n",
    "\n",
    "LastSeen — дата последней активности пользователя\n",
    "\n",
    "\n",
    "Целевой признак\n",
    "Price — цена (евро)"
   ]
  },
  {
   "cell_type": "markdown",
   "metadata": {},
   "source": [
    "## Подготовка данных"
   ]
  },
  {
   "cell_type": "code",
   "execution_count": 1,
   "metadata": {},
   "outputs": [],
   "source": [
    "import pandas as pd\n",
    "import numpy as np\n",
    "import seaborn as sns\n",
    "\n",
    "import matplotlib.pyplot as plt\n",
    "import time\n",
    "\n",
    "\n",
    "from sklearn.preprocessing import OneHotEncoder, OrdinalEncoder, StandardScaler \n",
    "from sklearn.model_selection import train_test_split, GridSearchCV\n",
    "from sklearn.metrics import mean_squared_error, make_scorer\n",
    "from sklearn.tree import DecisionTreeRegressor\n",
    "from sklearn.ensemble import RandomForestRegressor\n",
    "from sklearn.linear_model import LinearRegression\n",
    " \n",
    "\n",
    "\n",
    "from catboost import CatBoostRegressor\n",
    "from lightgbm import LGBMRegressor\n",
    "from xgboost import XGBRegressor\n",
    "\n",
    "\n",
    "import warnings #чтоб на ошибки не ругался\n",
    "warnings.filterwarnings(\"ignore\")"
   ]
  },
  {
   "cell_type": "code",
   "execution_count": 2,
   "metadata": {},
   "outputs": [],
   "source": [
    "try:\n",
    "    df= pd.read_csv('/datasets/autos.csv')\n",
    "except:\n",
    "    df=pd.read_csv('/Users/aleksandrivanov/Downloads/autos.csv')\n",
    "pd.set_option('display.max_columns', None)"
   ]
  },
  {
   "cell_type": "code",
   "execution_count": 3,
   "metadata": {},
   "outputs": [
    {
     "name": "stdout",
     "output_type": "stream",
     "text": [
      "<class 'pandas.core.frame.DataFrame'>\n",
      "RangeIndex: 354369 entries, 0 to 354368\n",
      "Data columns (total 16 columns):\n",
      " #   Column             Non-Null Count   Dtype \n",
      "---  ------             --------------   ----- \n",
      " 0   DateCrawled        354369 non-null  object\n",
      " 1   Price              354369 non-null  int64 \n",
      " 2   VehicleType        316879 non-null  object\n",
      " 3   RegistrationYear   354369 non-null  int64 \n",
      " 4   Gearbox            334536 non-null  object\n",
      " 5   Power              354369 non-null  int64 \n",
      " 6   Model              334664 non-null  object\n",
      " 7   Kilometer          354369 non-null  int64 \n",
      " 8   RegistrationMonth  354369 non-null  int64 \n",
      " 9   FuelType           321474 non-null  object\n",
      " 10  Brand              354369 non-null  object\n",
      " 11  Repaired           283215 non-null  object\n",
      " 12  DateCreated        354369 non-null  object\n",
      " 13  NumberOfPictures   354369 non-null  int64 \n",
      " 14  PostalCode         354369 non-null  int64 \n",
      " 15  LastSeen           354369 non-null  object\n",
      "dtypes: int64(7), object(9)\n",
      "memory usage: 43.3+ MB\n"
     ]
    }
   ],
   "source": [
    "df.info()"
   ]
  },
  {
   "cell_type": "code",
   "execution_count": 4,
   "metadata": {
    "scrolled": true
   },
   "outputs": [
    {
     "data": {
      "text/html": [
       "<div>\n",
       "<style scoped>\n",
       "    .dataframe tbody tr th:only-of-type {\n",
       "        vertical-align: middle;\n",
       "    }\n",
       "\n",
       "    .dataframe tbody tr th {\n",
       "        vertical-align: top;\n",
       "    }\n",
       "\n",
       "    .dataframe thead th {\n",
       "        text-align: right;\n",
       "    }\n",
       "</style>\n",
       "<table border=\"1\" class=\"dataframe\">\n",
       "  <thead>\n",
       "    <tr style=\"text-align: right;\">\n",
       "      <th></th>\n",
       "      <th>DateCrawled</th>\n",
       "      <th>Price</th>\n",
       "      <th>VehicleType</th>\n",
       "      <th>RegistrationYear</th>\n",
       "      <th>Gearbox</th>\n",
       "      <th>Power</th>\n",
       "      <th>Model</th>\n",
       "      <th>Kilometer</th>\n",
       "      <th>RegistrationMonth</th>\n",
       "      <th>FuelType</th>\n",
       "      <th>Brand</th>\n",
       "      <th>Repaired</th>\n",
       "      <th>DateCreated</th>\n",
       "      <th>NumberOfPictures</th>\n",
       "      <th>PostalCode</th>\n",
       "      <th>LastSeen</th>\n",
       "    </tr>\n",
       "  </thead>\n",
       "  <tbody>\n",
       "    <tr>\n",
       "      <th>0</th>\n",
       "      <td>2016-03-24 11:52:17</td>\n",
       "      <td>480</td>\n",
       "      <td>NaN</td>\n",
       "      <td>1993</td>\n",
       "      <td>manual</td>\n",
       "      <td>0</td>\n",
       "      <td>golf</td>\n",
       "      <td>150000</td>\n",
       "      <td>0</td>\n",
       "      <td>petrol</td>\n",
       "      <td>volkswagen</td>\n",
       "      <td>NaN</td>\n",
       "      <td>2016-03-24 00:00:00</td>\n",
       "      <td>0</td>\n",
       "      <td>70435</td>\n",
       "      <td>2016-04-07 03:16:57</td>\n",
       "    </tr>\n",
       "    <tr>\n",
       "      <th>1</th>\n",
       "      <td>2016-03-24 10:58:45</td>\n",
       "      <td>18300</td>\n",
       "      <td>coupe</td>\n",
       "      <td>2011</td>\n",
       "      <td>manual</td>\n",
       "      <td>190</td>\n",
       "      <td>NaN</td>\n",
       "      <td>125000</td>\n",
       "      <td>5</td>\n",
       "      <td>gasoline</td>\n",
       "      <td>audi</td>\n",
       "      <td>yes</td>\n",
       "      <td>2016-03-24 00:00:00</td>\n",
       "      <td>0</td>\n",
       "      <td>66954</td>\n",
       "      <td>2016-04-07 01:46:50</td>\n",
       "    </tr>\n",
       "    <tr>\n",
       "      <th>2</th>\n",
       "      <td>2016-03-14 12:52:21</td>\n",
       "      <td>9800</td>\n",
       "      <td>suv</td>\n",
       "      <td>2004</td>\n",
       "      <td>auto</td>\n",
       "      <td>163</td>\n",
       "      <td>grand</td>\n",
       "      <td>125000</td>\n",
       "      <td>8</td>\n",
       "      <td>gasoline</td>\n",
       "      <td>jeep</td>\n",
       "      <td>NaN</td>\n",
       "      <td>2016-03-14 00:00:00</td>\n",
       "      <td>0</td>\n",
       "      <td>90480</td>\n",
       "      <td>2016-04-05 12:47:46</td>\n",
       "    </tr>\n",
       "    <tr>\n",
       "      <th>3</th>\n",
       "      <td>2016-03-17 16:54:04</td>\n",
       "      <td>1500</td>\n",
       "      <td>small</td>\n",
       "      <td>2001</td>\n",
       "      <td>manual</td>\n",
       "      <td>75</td>\n",
       "      <td>golf</td>\n",
       "      <td>150000</td>\n",
       "      <td>6</td>\n",
       "      <td>petrol</td>\n",
       "      <td>volkswagen</td>\n",
       "      <td>no</td>\n",
       "      <td>2016-03-17 00:00:00</td>\n",
       "      <td>0</td>\n",
       "      <td>91074</td>\n",
       "      <td>2016-03-17 17:40:17</td>\n",
       "    </tr>\n",
       "    <tr>\n",
       "      <th>4</th>\n",
       "      <td>2016-03-31 17:25:20</td>\n",
       "      <td>3600</td>\n",
       "      <td>small</td>\n",
       "      <td>2008</td>\n",
       "      <td>manual</td>\n",
       "      <td>69</td>\n",
       "      <td>fabia</td>\n",
       "      <td>90000</td>\n",
       "      <td>7</td>\n",
       "      <td>gasoline</td>\n",
       "      <td>skoda</td>\n",
       "      <td>no</td>\n",
       "      <td>2016-03-31 00:00:00</td>\n",
       "      <td>0</td>\n",
       "      <td>60437</td>\n",
       "      <td>2016-04-06 10:17:21</td>\n",
       "    </tr>\n",
       "  </tbody>\n",
       "</table>\n",
       "</div>"
      ],
      "text/plain": [
       "           DateCrawled  Price VehicleType  RegistrationYear Gearbox  Power  \\\n",
       "0  2016-03-24 11:52:17    480         NaN              1993  manual      0   \n",
       "1  2016-03-24 10:58:45  18300       coupe              2011  manual    190   \n",
       "2  2016-03-14 12:52:21   9800         suv              2004    auto    163   \n",
       "3  2016-03-17 16:54:04   1500       small              2001  manual     75   \n",
       "4  2016-03-31 17:25:20   3600       small              2008  manual     69   \n",
       "\n",
       "   Model  Kilometer  RegistrationMonth  FuelType       Brand Repaired  \\\n",
       "0   golf     150000                  0    petrol  volkswagen      NaN   \n",
       "1    NaN     125000                  5  gasoline        audi      yes   \n",
       "2  grand     125000                  8  gasoline        jeep      NaN   \n",
       "3   golf     150000                  6    petrol  volkswagen       no   \n",
       "4  fabia      90000                  7  gasoline       skoda       no   \n",
       "\n",
       "           DateCreated  NumberOfPictures  PostalCode             LastSeen  \n",
       "0  2016-03-24 00:00:00                 0       70435  2016-04-07 03:16:57  \n",
       "1  2016-03-24 00:00:00                 0       66954  2016-04-07 01:46:50  \n",
       "2  2016-03-14 00:00:00                 0       90480  2016-04-05 12:47:46  \n",
       "3  2016-03-17 00:00:00                 0       91074  2016-03-17 17:40:17  \n",
       "4  2016-03-31 00:00:00                 0       60437  2016-04-06 10:17:21  "
      ]
     },
     "execution_count": 4,
     "metadata": {},
     "output_type": "execute_result"
    }
   ],
   "source": [
    "df.head()"
   ]
  },
  {
   "cell_type": "code",
   "execution_count": 5,
   "metadata": {},
   "outputs": [],
   "source": [
    "#сделаем все буквы в нижний регистр, иначе будет угадывать где маленькая буква была, где большая\n",
    "df.columns= df.columns.str.lower()"
   ]
  },
  {
   "cell_type": "code",
   "execution_count": 6,
   "metadata": {},
   "outputs": [
    {
     "data": {
      "text/plain": [
       "4"
      ]
     },
     "execution_count": 6,
     "metadata": {},
     "output_type": "execute_result"
    }
   ],
   "source": [
    "df.duplicated().sum()"
   ]
  },
  {
   "cell_type": "code",
   "execution_count": 7,
   "metadata": {
    "scrolled": true
   },
   "outputs": [],
   "source": [
    "df = df.drop_duplicates(keep='first')\n",
    "df = df.reset_index(drop=True)"
   ]
  },
  {
   "cell_type": "code",
   "execution_count": 8,
   "metadata": {},
   "outputs": [
    {
     "data": {
      "text/plain": [
       "0"
      ]
     },
     "execution_count": 8,
     "metadata": {},
     "output_type": "execute_result"
    }
   ],
   "source": [
    "df.duplicated().sum() #от явных дубликатов избавились"
   ]
  },
  {
   "cell_type": "code",
   "execution_count": 9,
   "metadata": {},
   "outputs": [
    {
     "data": {
      "text/html": [
       "<div>\n",
       "<style scoped>\n",
       "    .dataframe tbody tr th:only-of-type {\n",
       "        vertical-align: middle;\n",
       "    }\n",
       "\n",
       "    .dataframe tbody tr th {\n",
       "        vertical-align: top;\n",
       "    }\n",
       "\n",
       "    .dataframe thead th {\n",
       "        text-align: right;\n",
       "    }\n",
       "</style>\n",
       "<table border=\"1\" class=\"dataframe\">\n",
       "  <thead>\n",
       "    <tr style=\"text-align: right;\">\n",
       "      <th></th>\n",
       "      <th>datecrawled</th>\n",
       "      <th>price</th>\n",
       "      <th>vehicletype</th>\n",
       "      <th>registrationyear</th>\n",
       "      <th>gearbox</th>\n",
       "      <th>power</th>\n",
       "      <th>model</th>\n",
       "      <th>kilometer</th>\n",
       "      <th>registrationmonth</th>\n",
       "      <th>fueltype</th>\n",
       "      <th>brand</th>\n",
       "      <th>repaired</th>\n",
       "      <th>datecreated</th>\n",
       "      <th>numberofpictures</th>\n",
       "      <th>postalcode</th>\n",
       "      <th>lastseen</th>\n",
       "    </tr>\n",
       "  </thead>\n",
       "  <tbody>\n",
       "    <tr>\n",
       "      <th>0</th>\n",
       "      <td>2016-03-24 11:52:17</td>\n",
       "      <td>480</td>\n",
       "      <td>NaN</td>\n",
       "      <td>1993</td>\n",
       "      <td>manual</td>\n",
       "      <td>0</td>\n",
       "      <td>golf</td>\n",
       "      <td>150000</td>\n",
       "      <td>0</td>\n",
       "      <td>petrol</td>\n",
       "      <td>volkswagen</td>\n",
       "      <td>NaN</td>\n",
       "      <td>2016-03-24 00:00:00</td>\n",
       "      <td>0</td>\n",
       "      <td>70435</td>\n",
       "      <td>2016-04-07 03:16:57</td>\n",
       "    </tr>\n",
       "    <tr>\n",
       "      <th>1</th>\n",
       "      <td>2016-03-24 10:58:45</td>\n",
       "      <td>18300</td>\n",
       "      <td>coupe</td>\n",
       "      <td>2011</td>\n",
       "      <td>manual</td>\n",
       "      <td>190</td>\n",
       "      <td>NaN</td>\n",
       "      <td>125000</td>\n",
       "      <td>5</td>\n",
       "      <td>gasoline</td>\n",
       "      <td>audi</td>\n",
       "      <td>yes</td>\n",
       "      <td>2016-03-24 00:00:00</td>\n",
       "      <td>0</td>\n",
       "      <td>66954</td>\n",
       "      <td>2016-04-07 01:46:50</td>\n",
       "    </tr>\n",
       "    <tr>\n",
       "      <th>2</th>\n",
       "      <td>2016-03-14 12:52:21</td>\n",
       "      <td>9800</td>\n",
       "      <td>suv</td>\n",
       "      <td>2004</td>\n",
       "      <td>auto</td>\n",
       "      <td>163</td>\n",
       "      <td>grand</td>\n",
       "      <td>125000</td>\n",
       "      <td>8</td>\n",
       "      <td>gasoline</td>\n",
       "      <td>jeep</td>\n",
       "      <td>NaN</td>\n",
       "      <td>2016-03-14 00:00:00</td>\n",
       "      <td>0</td>\n",
       "      <td>90480</td>\n",
       "      <td>2016-04-05 12:47:46</td>\n",
       "    </tr>\n",
       "    <tr>\n",
       "      <th>3</th>\n",
       "      <td>2016-03-17 16:54:04</td>\n",
       "      <td>1500</td>\n",
       "      <td>small</td>\n",
       "      <td>2001</td>\n",
       "      <td>manual</td>\n",
       "      <td>75</td>\n",
       "      <td>golf</td>\n",
       "      <td>150000</td>\n",
       "      <td>6</td>\n",
       "      <td>petrol</td>\n",
       "      <td>volkswagen</td>\n",
       "      <td>no</td>\n",
       "      <td>2016-03-17 00:00:00</td>\n",
       "      <td>0</td>\n",
       "      <td>91074</td>\n",
       "      <td>2016-03-17 17:40:17</td>\n",
       "    </tr>\n",
       "    <tr>\n",
       "      <th>4</th>\n",
       "      <td>2016-03-31 17:25:20</td>\n",
       "      <td>3600</td>\n",
       "      <td>small</td>\n",
       "      <td>2008</td>\n",
       "      <td>manual</td>\n",
       "      <td>69</td>\n",
       "      <td>fabia</td>\n",
       "      <td>90000</td>\n",
       "      <td>7</td>\n",
       "      <td>gasoline</td>\n",
       "      <td>skoda</td>\n",
       "      <td>no</td>\n",
       "      <td>2016-03-31 00:00:00</td>\n",
       "      <td>0</td>\n",
       "      <td>60437</td>\n",
       "      <td>2016-04-06 10:17:21</td>\n",
       "    </tr>\n",
       "    <tr>\n",
       "      <th>...</th>\n",
       "      <td>...</td>\n",
       "      <td>...</td>\n",
       "      <td>...</td>\n",
       "      <td>...</td>\n",
       "      <td>...</td>\n",
       "      <td>...</td>\n",
       "      <td>...</td>\n",
       "      <td>...</td>\n",
       "      <td>...</td>\n",
       "      <td>...</td>\n",
       "      <td>...</td>\n",
       "      <td>...</td>\n",
       "      <td>...</td>\n",
       "      <td>...</td>\n",
       "      <td>...</td>\n",
       "      <td>...</td>\n",
       "    </tr>\n",
       "    <tr>\n",
       "      <th>354360</th>\n",
       "      <td>2016-03-21 09:50:58</td>\n",
       "      <td>0</td>\n",
       "      <td>NaN</td>\n",
       "      <td>2005</td>\n",
       "      <td>manual</td>\n",
       "      <td>0</td>\n",
       "      <td>colt</td>\n",
       "      <td>150000</td>\n",
       "      <td>7</td>\n",
       "      <td>petrol</td>\n",
       "      <td>mitsubishi</td>\n",
       "      <td>yes</td>\n",
       "      <td>2016-03-21 00:00:00</td>\n",
       "      <td>0</td>\n",
       "      <td>2694</td>\n",
       "      <td>2016-03-21 10:42:49</td>\n",
       "    </tr>\n",
       "    <tr>\n",
       "      <th>354361</th>\n",
       "      <td>2016-03-14 17:48:27</td>\n",
       "      <td>2200</td>\n",
       "      <td>NaN</td>\n",
       "      <td>2005</td>\n",
       "      <td>NaN</td>\n",
       "      <td>0</td>\n",
       "      <td>NaN</td>\n",
       "      <td>20000</td>\n",
       "      <td>1</td>\n",
       "      <td>NaN</td>\n",
       "      <td>sonstige_autos</td>\n",
       "      <td>NaN</td>\n",
       "      <td>2016-03-14 00:00:00</td>\n",
       "      <td>0</td>\n",
       "      <td>39576</td>\n",
       "      <td>2016-04-06 00:46:52</td>\n",
       "    </tr>\n",
       "    <tr>\n",
       "      <th>354362</th>\n",
       "      <td>2016-03-05 19:56:21</td>\n",
       "      <td>1199</td>\n",
       "      <td>convertible</td>\n",
       "      <td>2000</td>\n",
       "      <td>auto</td>\n",
       "      <td>101</td>\n",
       "      <td>fortwo</td>\n",
       "      <td>125000</td>\n",
       "      <td>3</td>\n",
       "      <td>petrol</td>\n",
       "      <td>smart</td>\n",
       "      <td>no</td>\n",
       "      <td>2016-03-05 00:00:00</td>\n",
       "      <td>0</td>\n",
       "      <td>26135</td>\n",
       "      <td>2016-03-11 18:17:12</td>\n",
       "    </tr>\n",
       "    <tr>\n",
       "      <th>354363</th>\n",
       "      <td>2016-03-19 18:57:12</td>\n",
       "      <td>9200</td>\n",
       "      <td>bus</td>\n",
       "      <td>1996</td>\n",
       "      <td>manual</td>\n",
       "      <td>102</td>\n",
       "      <td>transporter</td>\n",
       "      <td>150000</td>\n",
       "      <td>3</td>\n",
       "      <td>gasoline</td>\n",
       "      <td>volkswagen</td>\n",
       "      <td>no</td>\n",
       "      <td>2016-03-19 00:00:00</td>\n",
       "      <td>0</td>\n",
       "      <td>87439</td>\n",
       "      <td>2016-04-07 07:15:26</td>\n",
       "    </tr>\n",
       "    <tr>\n",
       "      <th>354364</th>\n",
       "      <td>2016-03-20 19:41:08</td>\n",
       "      <td>3400</td>\n",
       "      <td>wagon</td>\n",
       "      <td>2002</td>\n",
       "      <td>manual</td>\n",
       "      <td>100</td>\n",
       "      <td>golf</td>\n",
       "      <td>150000</td>\n",
       "      <td>6</td>\n",
       "      <td>gasoline</td>\n",
       "      <td>volkswagen</td>\n",
       "      <td>NaN</td>\n",
       "      <td>2016-03-20 00:00:00</td>\n",
       "      <td>0</td>\n",
       "      <td>40764</td>\n",
       "      <td>2016-03-24 12:45:21</td>\n",
       "    </tr>\n",
       "  </tbody>\n",
       "</table>\n",
       "<p>354365 rows × 16 columns</p>\n",
       "</div>"
      ],
      "text/plain": [
       "                datecrawled  price  vehicletype  registrationyear gearbox  \\\n",
       "0       2016-03-24 11:52:17    480          NaN              1993  manual   \n",
       "1       2016-03-24 10:58:45  18300        coupe              2011  manual   \n",
       "2       2016-03-14 12:52:21   9800          suv              2004    auto   \n",
       "3       2016-03-17 16:54:04   1500        small              2001  manual   \n",
       "4       2016-03-31 17:25:20   3600        small              2008  manual   \n",
       "...                     ...    ...          ...               ...     ...   \n",
       "354360  2016-03-21 09:50:58      0          NaN              2005  manual   \n",
       "354361  2016-03-14 17:48:27   2200          NaN              2005     NaN   \n",
       "354362  2016-03-05 19:56:21   1199  convertible              2000    auto   \n",
       "354363  2016-03-19 18:57:12   9200          bus              1996  manual   \n",
       "354364  2016-03-20 19:41:08   3400        wagon              2002  manual   \n",
       "\n",
       "        power        model  kilometer  registrationmonth  fueltype  \\\n",
       "0           0         golf     150000                  0    petrol   \n",
       "1         190          NaN     125000                  5  gasoline   \n",
       "2         163        grand     125000                  8  gasoline   \n",
       "3          75         golf     150000                  6    petrol   \n",
       "4          69        fabia      90000                  7  gasoline   \n",
       "...       ...          ...        ...                ...       ...   \n",
       "354360      0         colt     150000                  7    petrol   \n",
       "354361      0          NaN      20000                  1       NaN   \n",
       "354362    101       fortwo     125000                  3    petrol   \n",
       "354363    102  transporter     150000                  3  gasoline   \n",
       "354364    100         golf     150000                  6  gasoline   \n",
       "\n",
       "                 brand repaired          datecreated  numberofpictures  \\\n",
       "0           volkswagen      NaN  2016-03-24 00:00:00                 0   \n",
       "1                 audi      yes  2016-03-24 00:00:00                 0   \n",
       "2                 jeep      NaN  2016-03-14 00:00:00                 0   \n",
       "3           volkswagen       no  2016-03-17 00:00:00                 0   \n",
       "4                skoda       no  2016-03-31 00:00:00                 0   \n",
       "...                ...      ...                  ...               ...   \n",
       "354360      mitsubishi      yes  2016-03-21 00:00:00                 0   \n",
       "354361  sonstige_autos      NaN  2016-03-14 00:00:00                 0   \n",
       "354362           smart       no  2016-03-05 00:00:00                 0   \n",
       "354363      volkswagen       no  2016-03-19 00:00:00                 0   \n",
       "354364      volkswagen      NaN  2016-03-20 00:00:00                 0   \n",
       "\n",
       "        postalcode             lastseen  \n",
       "0            70435  2016-04-07 03:16:57  \n",
       "1            66954  2016-04-07 01:46:50  \n",
       "2            90480  2016-04-05 12:47:46  \n",
       "3            91074  2016-03-17 17:40:17  \n",
       "4            60437  2016-04-06 10:17:21  \n",
       "...            ...                  ...  \n",
       "354360        2694  2016-03-21 10:42:49  \n",
       "354361       39576  2016-04-06 00:46:52  \n",
       "354362       26135  2016-03-11 18:17:12  \n",
       "354363       87439  2016-04-07 07:15:26  \n",
       "354364       40764  2016-03-24 12:45:21  \n",
       "\n",
       "[354365 rows x 16 columns]"
      ]
     },
     "metadata": {},
     "output_type": "display_data"
    }
   ],
   "source": [
    "display(df)"
   ]
  },
  {
   "cell_type": "code",
   "execution_count": 10,
   "metadata": {},
   "outputs": [
    {
     "data": {
      "text/plain": [
       "datecrawled              0\n",
       "price                    0\n",
       "vehicletype          37490\n",
       "registrationyear         0\n",
       "gearbox              19833\n",
       "power                    0\n",
       "model                19705\n",
       "kilometer                0\n",
       "registrationmonth        0\n",
       "fueltype             32895\n",
       "brand                    0\n",
       "repaired             71154\n",
       "datecreated              0\n",
       "numberofpictures         0\n",
       "postalcode               0\n",
       "lastseen                 0\n",
       "dtype: int64"
      ]
     },
     "execution_count": 10,
     "metadata": {},
     "output_type": "execute_result"
    }
   ],
   "source": [
    "df.isnull().sum() #как все плохо с пропусками..."
   ]
  },
  {
   "cell_type": "markdown",
   "metadata": {},
   "source": [
    "Посмотрим что у нас по колонкам, вдруг можно что-то и удалить...\n",
    "1. datecrawled дата скачивания анкеты, у нас есть год регистрации\n",
    "2. registrationmonth - у нас есть год\n",
    "3. datecreated - дата создания анкеты, не очень информативный признак для цены, избавимся\n",
    "4. numberofpictures - для цены не нужный признак, а вот для увеличения просмотров анкеты было бы интереснее\n",
    "5. postalcode - вряд ли мы будем просить модель отправить письмо по этому индексу, удаляем\n",
    "6. lastseen - тоже не помощник нам\n",
    "\n",
    "Вывод: эти 6 колонок можно удалить из датасета, увы, проблему пропусков они не решают..."
   ]
  },
  {
   "cell_type": "code",
   "execution_count": 11,
   "metadata": {},
   "outputs": [],
   "source": [
    "df = df.drop(['datecrawled', 'registrationmonth', 'datecreated', 'numberofpictures', 'postalcode', 'lastseen'], axis = 1)"
   ]
  },
  {
   "cell_type": "code",
   "execution_count": 12,
   "metadata": {
    "scrolled": true
   },
   "outputs": [
    {
     "data": {
      "text/html": [
       "<div>\n",
       "<style scoped>\n",
       "    .dataframe tbody tr th:only-of-type {\n",
       "        vertical-align: middle;\n",
       "    }\n",
       "\n",
       "    .dataframe tbody tr th {\n",
       "        vertical-align: top;\n",
       "    }\n",
       "\n",
       "    .dataframe thead th {\n",
       "        text-align: right;\n",
       "    }\n",
       "</style>\n",
       "<table border=\"1\" class=\"dataframe\">\n",
       "  <thead>\n",
       "    <tr style=\"text-align: right;\">\n",
       "      <th></th>\n",
       "      <th>price</th>\n",
       "      <th>vehicletype</th>\n",
       "      <th>registrationyear</th>\n",
       "      <th>gearbox</th>\n",
       "      <th>power</th>\n",
       "      <th>model</th>\n",
       "      <th>kilometer</th>\n",
       "      <th>fueltype</th>\n",
       "      <th>brand</th>\n",
       "      <th>repaired</th>\n",
       "    </tr>\n",
       "  </thead>\n",
       "  <tbody>\n",
       "    <tr>\n",
       "      <th>0</th>\n",
       "      <td>480</td>\n",
       "      <td>NaN</td>\n",
       "      <td>1993</td>\n",
       "      <td>manual</td>\n",
       "      <td>0</td>\n",
       "      <td>golf</td>\n",
       "      <td>150000</td>\n",
       "      <td>petrol</td>\n",
       "      <td>volkswagen</td>\n",
       "      <td>NaN</td>\n",
       "    </tr>\n",
       "    <tr>\n",
       "      <th>1</th>\n",
       "      <td>18300</td>\n",
       "      <td>coupe</td>\n",
       "      <td>2011</td>\n",
       "      <td>manual</td>\n",
       "      <td>190</td>\n",
       "      <td>NaN</td>\n",
       "      <td>125000</td>\n",
       "      <td>gasoline</td>\n",
       "      <td>audi</td>\n",
       "      <td>yes</td>\n",
       "    </tr>\n",
       "    <tr>\n",
       "      <th>2</th>\n",
       "      <td>9800</td>\n",
       "      <td>suv</td>\n",
       "      <td>2004</td>\n",
       "      <td>auto</td>\n",
       "      <td>163</td>\n",
       "      <td>grand</td>\n",
       "      <td>125000</td>\n",
       "      <td>gasoline</td>\n",
       "      <td>jeep</td>\n",
       "      <td>NaN</td>\n",
       "    </tr>\n",
       "    <tr>\n",
       "      <th>3</th>\n",
       "      <td>1500</td>\n",
       "      <td>small</td>\n",
       "      <td>2001</td>\n",
       "      <td>manual</td>\n",
       "      <td>75</td>\n",
       "      <td>golf</td>\n",
       "      <td>150000</td>\n",
       "      <td>petrol</td>\n",
       "      <td>volkswagen</td>\n",
       "      <td>no</td>\n",
       "    </tr>\n",
       "    <tr>\n",
       "      <th>4</th>\n",
       "      <td>3600</td>\n",
       "      <td>small</td>\n",
       "      <td>2008</td>\n",
       "      <td>manual</td>\n",
       "      <td>69</td>\n",
       "      <td>fabia</td>\n",
       "      <td>90000</td>\n",
       "      <td>gasoline</td>\n",
       "      <td>skoda</td>\n",
       "      <td>no</td>\n",
       "    </tr>\n",
       "  </tbody>\n",
       "</table>\n",
       "</div>"
      ],
      "text/plain": [
       "   price vehicletype  registrationyear gearbox  power  model  kilometer  \\\n",
       "0    480         NaN              1993  manual      0   golf     150000   \n",
       "1  18300       coupe              2011  manual    190    NaN     125000   \n",
       "2   9800         suv              2004    auto    163  grand     125000   \n",
       "3   1500       small              2001  manual     75   golf     150000   \n",
       "4   3600       small              2008  manual     69  fabia      90000   \n",
       "\n",
       "   fueltype       brand repaired  \n",
       "0    petrol  volkswagen      NaN  \n",
       "1  gasoline        audi      yes  \n",
       "2  gasoline        jeep      NaN  \n",
       "3    petrol  volkswagen       no  \n",
       "4  gasoline       skoda       no  "
      ]
     },
     "execution_count": 12,
     "metadata": {},
     "output_type": "execute_result"
    }
   ],
   "source": [
    "df.head()"
   ]
  },
  {
   "cell_type": "code",
   "execution_count": 13,
   "metadata": {},
   "outputs": [
    {
     "data": {
      "text/plain": [
       "price                   0\n",
       "vehicletype         37490\n",
       "registrationyear        0\n",
       "gearbox             19833\n",
       "power                   0\n",
       "model               19705\n",
       "kilometer               0\n",
       "fueltype            32895\n",
       "brand                   0\n",
       "repaired            71154\n",
       "dtype: int64"
      ]
     },
     "execution_count": 13,
     "metadata": {},
     "output_type": "execute_result"
    }
   ],
   "source": [
    "df.isnull().sum()"
   ]
  },
  {
   "cell_type": "code",
   "execution_count": 14,
   "metadata": {},
   "outputs": [
    {
     "name": "stdout",
     "output_type": "stream",
     "text": [
      "manual    268249\n",
      "auto       66283\n",
      "Name: gearbox, dtype: int64\n",
      "['manual' 'auto' nan]\n"
     ]
    }
   ],
   "source": [
    "print(df['gearbox'].value_counts())\n",
    "print(df['gearbox'].unique())"
   ]
  },
  {
   "cell_type": "markdown",
   "metadata": {},
   "source": [
    "у нас есть 3 варианта в машине коробки управления: механика, автоматом и что-то неизвестное, так как эти пропуски заменить на какое-то спец значение нельзя, то придется поставить заглушку, так как тут вопрос всё-таки не 1 тысячи строк, а 19 тысяч пропусков, это много для удаления."
   ]
  },
  {
   "cell_type": "code",
   "execution_count": 15,
   "metadata": {},
   "outputs": [
    {
     "name": "stdout",
     "output_type": "stream",
     "text": [
      "sedan          91457\n",
      "small          79830\n",
      "wagon          65165\n",
      "bus            28775\n",
      "convertible    20203\n",
      "coupe          16161\n",
      "suv            11996\n",
      "other           3288\n",
      "Name: vehicletype, dtype: int64\n",
      "[nan 'coupe' 'suv' 'small' 'sedan' 'convertible' 'bus' 'wagon' 'other']\n"
     ]
    }
   ],
   "source": [
    "print(df['vehicletype'].value_counts())\n",
    "print(df['vehicletype'].unique())"
   ]
  },
  {
   "cell_type": "markdown",
   "metadata": {},
   "source": [
    "в vehicletype пропуски заполним тоже в раздел other "
   ]
  },
  {
   "cell_type": "code",
   "execution_count": 16,
   "metadata": {
    "scrolled": true
   },
   "outputs": [
    {
     "name": "stdout",
     "output_type": "stream",
     "text": [
      "golf                  29232\n",
      "other                 24420\n",
      "3er                   19761\n",
      "polo                  13066\n",
      "corsa                 12570\n",
      "                      ...  \n",
      "i3                        8\n",
      "serie_3                   4\n",
      "rangerover                4\n",
      "range_rover_evoque        2\n",
      "serie_1                   2\n",
      "Name: model, Length: 250, dtype: int64\n",
      "['golf' nan 'grand' 'fabia' '3er' '2_reihe' 'other' 'c_max' '3_reihe'\n",
      " 'passat' 'navara' 'ka' 'polo' 'twingo' 'a_klasse' 'scirocco' '5er'\n",
      " 'meriva' 'arosa' 'c4' 'civic' 'transporter' 'punto' 'e_klasse' 'clio'\n",
      " 'kadett' 'kangoo' 'corsa' 'one' 'fortwo' '1er' 'b_klasse' 'signum'\n",
      " 'astra' 'a8' 'jetta' 'fiesta' 'c_klasse' 'micra' 'vito' 'sprinter' '156'\n",
      " 'escort' 'forester' 'xc_reihe' 'scenic' 'a4' 'a1' 'insignia' 'combo'\n",
      " 'focus' 'tt' 'a6' 'jazz' 'omega' 'slk' '7er' '80' '147' '100' 'z_reihe'\n",
      " 'sportage' 'sorento' 'v40' 'ibiza' 'mustang' 'eos' 'touran' 'getz' 'a3'\n",
      " 'almera' 'megane' 'lupo' 'r19' 'zafira' 'caddy' 'mondeo' 'cordoba' 'colt'\n",
      " 'impreza' 'vectra' 'berlingo' 'tiguan' 'i_reihe' 'espace' 'sharan'\n",
      " '6_reihe' 'panda' 'up' 'seicento' 'ceed' '5_reihe' 'yeti' 'octavia' 'mii'\n",
      " 'rx_reihe' '6er' 'modus' 'fox' 'matiz' 'beetle' 'c1' 'rio' 'touareg'\n",
      " 'logan' 'spider' 'cuore' 's_max' 'a2' 'galaxy' 'c3' 'viano' 's_klasse'\n",
      " '1_reihe' 'avensis' 'roomster' 'sl' 'kaefer' 'santa' 'cooper' 'leon'\n",
      " '4_reihe' 'a5' '500' 'laguna' 'ptcruiser' 'clk' 'primera' 'x_reihe'\n",
      " 'exeo' '159' 'transit' 'juke' 'qashqai' 'carisma' 'accord' 'corolla'\n",
      " 'lanos' 'phaeton' 'verso' 'swift' 'rav' 'picanto' 'boxster' 'kalos'\n",
      " 'superb' 'stilo' 'alhambra' 'mx_reihe' 'roadster' 'ypsilon' 'cayenne'\n",
      " 'galant' 'justy' '90' 'sirion' 'crossfire' 'agila' 'duster' 'cr_reihe'\n",
      " 'v50' 'c_reihe' 'v_klasse' 'm_klasse' 'yaris' 'c5' 'aygo' 'cc' 'carnival'\n",
      " 'fusion' '911' 'bora' 'forfour' 'm_reihe' 'cl' 'tigra' '300c' 'spark'\n",
      " 'v70' 'kuga' 'x_type' 'ducato' 's_type' 'x_trail' 'toledo' 'altea'\n",
      " 'voyager' 'calibra' 'bravo' 'antara' 'tucson' 'citigo' 'jimny' 'wrangler'\n",
      " 'lybra' 'q7' 'lancer' 'captiva' 'c2' 'discovery' 'freelander' 'sandero'\n",
      " 'note' '900' 'cherokee' 'clubman' 'samara' 'defender' '601' 'cx_reihe'\n",
      " 'legacy' 'pajero' 'auris' 'niva' 's60' 'nubira' 'vivaro' 'g_klasse'\n",
      " 'lodgy' '850' 'range_rover' 'q3' 'serie_2' 'glk' 'charade' 'croma'\n",
      " 'outlander' 'doblo' 'musa' 'move' '9000' 'v60' '145' 'aveo' '200' 'b_max'\n",
      " 'range_rover_sport' 'terios' 'rangerover' 'q5' 'range_rover_evoque'\n",
      " 'materia' 'delta' 'gl' 'kalina' 'amarok' 'elefantino' 'i3' 'kappa'\n",
      " 'serie_3' 'serie_1']\n"
     ]
    }
   ],
   "source": [
    "print(df['model'].value_counts())\n",
    "print(df['model'].unique())"
   ]
  },
  {
   "cell_type": "markdown",
   "metadata": {},
   "source": [
    "тоже other... увы, для бизнеса такие пропуски всё-таки критичны, просто понимая, что модель в стоимости машины будет существенным моментом, такое количество пропусков в этом столбце это плохо..."
   ]
  },
  {
   "cell_type": "code",
   "execution_count": 17,
   "metadata": {},
   "outputs": [
    {
     "name": "stdout",
     "output_type": "stream",
     "text": [
      "petrol      216349\n",
      "gasoline     98719\n",
      "lpg           5310\n",
      "cng            565\n",
      "hybrid         233\n",
      "other          204\n",
      "electric        90\n",
      "Name: fueltype, dtype: int64\n",
      "['petrol' 'gasoline' nan 'lpg' 'other' 'hybrid' 'cng' 'electric']\n"
     ]
    }
   ],
   "source": [
    "print(df['fueltype'].value_counts())\n",
    "print(df['fueltype'].unique())"
   ]
  },
  {
   "cell_type": "markdown",
   "metadata": {},
   "source": [
    "32 тысячи машин криво заполнили на чём они ездят... пока отнесем к other, так как тут никак не придумать по другому"
   ]
  },
  {
   "cell_type": "code",
   "execution_count": 18,
   "metadata": {},
   "outputs": [
    {
     "name": "stdout",
     "output_type": "stream",
     "text": [
      "no     247158\n",
      "yes     36053\n",
      "Name: repaired, dtype: int64\n",
      "[nan 'yes' 'no']\n"
     ]
    }
   ],
   "source": [
    "print(df['repaired'].value_counts())\n",
    "print(df['repaired'].unique())"
   ]
  },
  {
   "cell_type": "markdown",
   "metadata": {},
   "source": [
    "71 тысяча... пусть будет тоже other"
   ]
  },
  {
   "cell_type": "code",
   "execution_count": 19,
   "metadata": {
    "scrolled": true
   },
   "outputs": [
    {
     "data": {
      "text/plain": [
       "price               0\n",
       "vehicletype         0\n",
       "registrationyear    0\n",
       "gearbox             0\n",
       "power               0\n",
       "model               0\n",
       "kilometer           0\n",
       "fueltype            0\n",
       "brand               0\n",
       "repaired            0\n",
       "dtype: int64"
      ]
     },
     "execution_count": 19,
     "metadata": {},
     "output_type": "execute_result"
    }
   ],
   "source": [
    "for column in ['vehicletype', 'gearbox', 'model', 'fueltype', 'repaired']:\n",
    "    df[column] = df[column].fillna('other')\n",
    "df.isnull().sum()"
   ]
  },
  {
   "cell_type": "markdown",
   "metadata": {},
   "source": [
    "С пропусками разобрались.\n",
    "\n",
    "Предварительные выводы по пропускам:\n",
    "\n",
    "Датасет не маленький, есть большое количество различных данных, присутствовало несколько явных дубликатов, работу вести по неявным сложно, так как отличия даже в пару км у одной и той же машины может означать как и повтор, так и разные позиции. Следует поговорить с бизнесом и разработчиком, почему так много пропусков в разных столбцах. "
   ]
  },
  {
   "cell_type": "code",
   "execution_count": 20,
   "metadata": {},
   "outputs": [
    {
     "data": {
      "text/html": [
       "<div>\n",
       "<style scoped>\n",
       "    .dataframe tbody tr th:only-of-type {\n",
       "        vertical-align: middle;\n",
       "    }\n",
       "\n",
       "    .dataframe tbody tr th {\n",
       "        vertical-align: top;\n",
       "    }\n",
       "\n",
       "    .dataframe thead th {\n",
       "        text-align: right;\n",
       "    }\n",
       "</style>\n",
       "<table border=\"1\" class=\"dataframe\">\n",
       "  <thead>\n",
       "    <tr style=\"text-align: right;\">\n",
       "      <th></th>\n",
       "      <th>price</th>\n",
       "      <th>registrationyear</th>\n",
       "      <th>power</th>\n",
       "      <th>kilometer</th>\n",
       "    </tr>\n",
       "  </thead>\n",
       "  <tbody>\n",
       "    <tr>\n",
       "      <th>count</th>\n",
       "      <td>354365.000000</td>\n",
       "      <td>354365.000000</td>\n",
       "      <td>354365.000000</td>\n",
       "      <td>354365.000000</td>\n",
       "    </tr>\n",
       "    <tr>\n",
       "      <th>mean</th>\n",
       "      <td>4416.679830</td>\n",
       "      <td>2004.234481</td>\n",
       "      <td>110.093816</td>\n",
       "      <td>128211.363989</td>\n",
       "    </tr>\n",
       "    <tr>\n",
       "      <th>std</th>\n",
       "      <td>4514.176349</td>\n",
       "      <td>90.228466</td>\n",
       "      <td>189.851330</td>\n",
       "      <td>37905.083858</td>\n",
       "    </tr>\n",
       "    <tr>\n",
       "      <th>min</th>\n",
       "      <td>0.000000</td>\n",
       "      <td>1000.000000</td>\n",
       "      <td>0.000000</td>\n",
       "      <td>5000.000000</td>\n",
       "    </tr>\n",
       "    <tr>\n",
       "      <th>25%</th>\n",
       "      <td>1050.000000</td>\n",
       "      <td>1999.000000</td>\n",
       "      <td>69.000000</td>\n",
       "      <td>125000.000000</td>\n",
       "    </tr>\n",
       "    <tr>\n",
       "      <th>50%</th>\n",
       "      <td>2700.000000</td>\n",
       "      <td>2003.000000</td>\n",
       "      <td>105.000000</td>\n",
       "      <td>150000.000000</td>\n",
       "    </tr>\n",
       "    <tr>\n",
       "      <th>75%</th>\n",
       "      <td>6400.000000</td>\n",
       "      <td>2008.000000</td>\n",
       "      <td>143.000000</td>\n",
       "      <td>150000.000000</td>\n",
       "    </tr>\n",
       "    <tr>\n",
       "      <th>max</th>\n",
       "      <td>20000.000000</td>\n",
       "      <td>9999.000000</td>\n",
       "      <td>20000.000000</td>\n",
       "      <td>150000.000000</td>\n",
       "    </tr>\n",
       "  </tbody>\n",
       "</table>\n",
       "</div>"
      ],
      "text/plain": [
       "               price  registrationyear          power      kilometer\n",
       "count  354365.000000     354365.000000  354365.000000  354365.000000\n",
       "mean     4416.679830       2004.234481     110.093816  128211.363989\n",
       "std      4514.176349         90.228466     189.851330   37905.083858\n",
       "min         0.000000       1000.000000       0.000000    5000.000000\n",
       "25%      1050.000000       1999.000000      69.000000  125000.000000\n",
       "50%      2700.000000       2003.000000     105.000000  150000.000000\n",
       "75%      6400.000000       2008.000000     143.000000  150000.000000\n",
       "max     20000.000000       9999.000000   20000.000000  150000.000000"
      ]
     },
     "execution_count": 20,
     "metadata": {},
     "output_type": "execute_result"
    }
   ],
   "source": [
    "df.describe()"
   ]
  },
  {
   "cell_type": "code",
   "execution_count": 21,
   "metadata": {
    "scrolled": true
   },
   "outputs": [
    {
     "data": {
      "text/plain": [
       "<AxesSubplot:>"
      ]
     },
     "execution_count": 21,
     "metadata": {},
     "output_type": "execute_result"
    },
    {
     "data": {
      "image/png": "[encoded data removed]",
      "text/plain": [
       "<Figure size 432x288 with 1 Axes>"
      ]
     },
     "metadata": {
      "needs_background": "light"
     },
     "output_type": "display_data"
    }
   ],
   "source": [
    "df['registrationyear'].hist(bins = 5)"
   ]
  },
  {
   "cell_type": "code",
   "execution_count": 22,
   "metadata": {},
   "outputs": [
    {
     "data": {
      "text/plain": [
       "<AxesSubplot:>"
      ]
     },
     "execution_count": 22,
     "metadata": {},
     "output_type": "execute_result"
    },
    {
     "data": {
      "image/png": "[encoded data removed]",
      "text/plain": [
       "<Figure size 432x288 with 2 Axes>"
      ]
     },
     "metadata": {
      "needs_background": "light"
     },
     "output_type": "display_data"
    }
   ],
   "source": [
    "sns.heatmap(df.corr(), annot=True)"
   ]
  },
  {
   "cell_type": "code",
   "execution_count": 23,
   "metadata": {},
   "outputs": [
    {
     "name": "stdout",
     "output_type": "stream",
     "text": [
      "        price vehicletype  registrationyear gearbox  power    model  \\\n",
      "22       2900       other              2018  manual     90   meriva   \n",
      "26       5555       other              2017  manual    125       c4   \n",
      "48       7750       other              2017  manual     80     golf   \n",
      "51       2000       other              2017  manual     90    punto   \n",
      "57       2399       other              2018  manual     64    other   \n",
      "...       ...         ...               ...     ...    ...      ...   \n",
      "354108   3600       other              2017  manual     86  transit   \n",
      "354136   1000       other              2017  manual    101       a4   \n",
      "354199   2140       other              2018  manual     80   fiesta   \n",
      "354249   1250       other              2018   other      0    corsa   \n",
      "354285   5000       other              2017  manual    120    other   \n",
      "\n",
      "        kilometer  fueltype       brand repaired  \n",
      "22         150000    petrol        opel       no  \n",
      "26         125000     other     citroen       no  \n",
      "48         100000    petrol  volkswagen    other  \n",
      "51         150000  gasoline        fiat      yes  \n",
      "57         125000     other        seat       no  \n",
      "...           ...       ...         ...      ...  \n",
      "354108     150000  gasoline        ford    other  \n",
      "354136     150000     other        audi    other  \n",
      "354199     150000     other        ford       no  \n",
      "354249     150000    petrol        opel    other  \n",
      "354285     150000     other     citroen      yes  \n",
      "\n",
      "[14530 rows x 10 columns]\n"
     ]
    }
   ],
   "source": [
    "print( df[df['registrationyear'] > 2016]) # о_О машины из будущего, опасно..."
   ]
  },
  {
   "cell_type": "code",
   "execution_count": 24,
   "metadata": {},
   "outputs": [
    {
     "name": "stdout",
     "output_type": "stream",
     "text": [
      "price               14530\n",
      "vehicletype         14530\n",
      "registrationyear    14530\n",
      "gearbox             14530\n",
      "power               14530\n",
      "model               14530\n",
      "kilometer           14530\n",
      "fueltype            14530\n",
      "brand               14530\n",
      "repaired            14530\n",
      "dtype: int64\n"
     ]
    }
   ],
   "source": [
    "print( (df[df['registrationyear'] > 2016]).count())# 105 машин со странным годом годом регистрации, лучше избавлюсь я от них"
   ]
  },
  {
   "cell_type": "code",
   "execution_count": 25,
   "metadata": {},
   "outputs": [],
   "source": [
    "df = df.query(\"registrationyear < 2016\")"
   ]
  },
  {
   "cell_type": "code",
   "execution_count": 26,
   "metadata": {},
   "outputs": [
    {
     "data": {
      "text/plain": [
       "<AxesSubplot:>"
      ]
     },
     "execution_count": 26,
     "metadata": {},
     "output_type": "execute_result"
    },
    {
     "data": {
      "image/png": "[encoded data removed]",
      "text/plain": [
       "<Figure size 432x288 with 1 Axes>"
      ]
     },
     "metadata": {
      "needs_background": "light"
     },
     "output_type": "display_data"
    }
   ],
   "source": [
    "df['registrationyear'].hist(bins = 5)"
   ]
  },
  {
   "cell_type": "code",
   "execution_count": 27,
   "metadata": {},
   "outputs": [],
   "source": [
    "df = df.query(\"registrationyear > 1900\")"
   ]
  },
  {
   "cell_type": "code",
   "execution_count": 28,
   "metadata": {},
   "outputs": [
    {
     "data": {
      "text/plain": [
       "<AxesSubplot:>"
      ]
     },
     "execution_count": 28,
     "metadata": {},
     "output_type": "execute_result"
    },
    {
     "data": {
      "image/png": "[encoded data removed]",
      "text/plain": [
       "<Figure size 432x288 with 1 Axes>"
      ]
     },
     "metadata": {
      "needs_background": "light"
     },
     "output_type": "display_data"
    }
   ],
   "source": [
    "df['registrationyear'].hist(bins = 5)"
   ]
  },
  {
   "cell_type": "code",
   "execution_count": 29,
   "metadata": {
    "scrolled": true
   },
   "outputs": [
    {
     "data": {
      "text/html": [
       "<div>\n",
       "<style scoped>\n",
       "    .dataframe tbody tr th:only-of-type {\n",
       "        vertical-align: middle;\n",
       "    }\n",
       "\n",
       "    .dataframe tbody tr th {\n",
       "        vertical-align: top;\n",
       "    }\n",
       "\n",
       "    .dataframe thead th {\n",
       "        text-align: right;\n",
       "    }\n",
       "</style>\n",
       "<table border=\"1\" class=\"dataframe\">\n",
       "  <thead>\n",
       "    <tr style=\"text-align: right;\">\n",
       "      <th></th>\n",
       "      <th>price</th>\n",
       "      <th>registrationyear</th>\n",
       "      <th>power</th>\n",
       "      <th>kilometer</th>\n",
       "    </tr>\n",
       "  </thead>\n",
       "  <tbody>\n",
       "    <tr>\n",
       "      <th>count</th>\n",
       "      <td>330170.000000</td>\n",
       "      <td>330170.000000</td>\n",
       "      <td>330170.000000</td>\n",
       "      <td>330170.000000</td>\n",
       "    </tr>\n",
       "    <tr>\n",
       "      <th>mean</th>\n",
       "      <td>4540.142793</td>\n",
       "      <td>2002.089236</td>\n",
       "      <td>111.899603</td>\n",
       "      <td>127920.783233</td>\n",
       "    </tr>\n",
       "    <tr>\n",
       "      <th>std</th>\n",
       "      <td>4564.406192</td>\n",
       "      <td>6.802969</td>\n",
       "      <td>182.411127</td>\n",
       "      <td>37913.367297</td>\n",
       "    </tr>\n",
       "    <tr>\n",
       "      <th>min</th>\n",
       "      <td>0.000000</td>\n",
       "      <td>1910.000000</td>\n",
       "      <td>0.000000</td>\n",
       "      <td>5000.000000</td>\n",
       "    </tr>\n",
       "    <tr>\n",
       "      <th>25%</th>\n",
       "      <td>1149.000000</td>\n",
       "      <td>1999.000000</td>\n",
       "      <td>70.000000</td>\n",
       "      <td>125000.000000</td>\n",
       "    </tr>\n",
       "    <tr>\n",
       "      <th>50%</th>\n",
       "      <td>2850.000000</td>\n",
       "      <td>2002.000000</td>\n",
       "      <td>105.000000</td>\n",
       "      <td>150000.000000</td>\n",
       "    </tr>\n",
       "    <tr>\n",
       "      <th>75%</th>\n",
       "      <td>6500.000000</td>\n",
       "      <td>2007.000000</td>\n",
       "      <td>143.000000</td>\n",
       "      <td>150000.000000</td>\n",
       "    </tr>\n",
       "    <tr>\n",
       "      <th>max</th>\n",
       "      <td>20000.000000</td>\n",
       "      <td>2015.000000</td>\n",
       "      <td>20000.000000</td>\n",
       "      <td>150000.000000</td>\n",
       "    </tr>\n",
       "  </tbody>\n",
       "</table>\n",
       "</div>"
      ],
      "text/plain": [
       "               price  registrationyear          power      kilometer\n",
       "count  330170.000000     330170.000000  330170.000000  330170.000000\n",
       "mean     4540.142793       2002.089236     111.899603  127920.783233\n",
       "std      4564.406192          6.802969     182.411127   37913.367297\n",
       "min         0.000000       1910.000000       0.000000    5000.000000\n",
       "25%      1149.000000       1999.000000      70.000000  125000.000000\n",
       "50%      2850.000000       2002.000000     105.000000  150000.000000\n",
       "75%      6500.000000       2007.000000     143.000000  150000.000000\n",
       "max     20000.000000       2015.000000   20000.000000  150000.000000"
      ]
     },
     "execution_count": 29,
     "metadata": {},
     "output_type": "execute_result"
    }
   ],
   "source": [
    "df.describe()"
   ]
  },
  {
   "cell_type": "code",
   "execution_count": 30,
   "metadata": {},
   "outputs": [
    {
     "name": "stdout",
     "output_type": "stream",
     "text": [
      "<class 'pandas.core.frame.DataFrame'>\n",
      "Int64Index: 330170 entries, 0 to 354364\n",
      "Data columns (total 10 columns):\n",
      " #   Column            Non-Null Count   Dtype \n",
      "---  ------            --------------   ----- \n",
      " 0   price             330170 non-null  int64 \n",
      " 1   vehicletype       330170 non-null  object\n",
      " 2   registrationyear  330170 non-null  int64 \n",
      " 3   gearbox           330170 non-null  object\n",
      " 4   power             330170 non-null  int64 \n",
      " 5   model             330170 non-null  object\n",
      " 6   kilometer         330170 non-null  int64 \n",
      " 7   fueltype          330170 non-null  object\n",
      " 8   brand             330170 non-null  object\n",
      " 9   repaired          330170 non-null  object\n",
      "dtypes: int64(4), object(6)\n",
      "memory usage: 27.7+ MB\n"
     ]
    }
   ],
   "source": [
    "df.info()"
   ]
  },
  {
   "cell_type": "code",
   "execution_count": 31,
   "metadata": {},
   "outputs": [
    {
     "data": {
      "image/png": "[encoded data removed]",
      "text/plain": [
       "<Figure size 432x288 with 1 Axes>"
      ]
     },
     "metadata": {
      "needs_background": "light"
     },
     "output_type": "display_data"
    },
    {
     "data": {
      "image/png": "[encoded data removed]",
      "text/plain": [
       "<Figure size 432x288 with 1 Axes>"
      ]
     },
     "metadata": {
      "needs_background": "light"
     },
     "output_type": "display_data"
    },
    {
     "data": {
      "image/png": "[encoded data removed]",
      "text/plain": [
       "<Figure size 432x288 with 1 Axes>"
      ]
     },
     "metadata": {
      "needs_background": "light"
     },
     "output_type": "display_data"
    },
    {
     "data": {
      "image/png": "[encoded data removed]",
      "text/plain": [
       "<Figure size 432x288 with 1 Axes>"
      ]
     },
     "metadata": {
      "needs_background": "light"
     },
     "output_type": "display_data"
    },
    {
     "data": {
      "image/png": "[encoded data removed]",
      "text/plain": [
       "<Figure size 432x288 with 1 Axes>"
      ]
     },
     "metadata": {
      "needs_background": "light"
     },
     "output_type": "display_data"
    },
    {
     "data": {
      "image/png": "[encoded data removed]",
      "text/plain": [
       "<Figure size 432x288 with 1 Axes>"
      ]
     },
     "metadata": {
      "needs_background": "light"
     },
     "output_type": "display_data"
    }
   ],
   "source": [
    "for i in ['vehicletype', 'gearbox', 'model', 'fueltype', 'brand', 'repaired']:\n",
    "    df[i].hist(bins = 20)\n",
    "    plt.title(i)\n",
    "    plt.show()"
   ]
  },
  {
   "cell_type": "markdown",
   "metadata": {},
   "source": [
    "Дисбаланс между данными есть, но он естественный\\\n",
    "Теперь посмотрим что там с прайсом 0... "
   ]
  },
  {
   "cell_type": "code",
   "execution_count": 32,
   "metadata": {
    "scrolled": true
   },
   "outputs": [
    {
     "data": {
      "text/plain": [
       "<AxesSubplot:xlabel='price'>"
      ]
     },
     "execution_count": 32,
     "metadata": {},
     "output_type": "execute_result"
    },
    {
     "data": {
      "image/png": "[encoded data removed]",
      "text/plain": [
       "<Figure size 432x288 with 1 Axes>"
      ]
     },
     "metadata": {
      "needs_background": "light"
     },
     "output_type": "display_data"
    }
   ],
   "source": [
    "sns.boxplot(df['price'])"
   ]
  },
  {
   "cell_type": "code",
   "execution_count": 33,
   "metadata": {},
   "outputs": [
    {
     "data": {
      "text/html": [
       "<div>\n",
       "<style scoped>\n",
       "    .dataframe tbody tr th:only-of-type {\n",
       "        vertical-align: middle;\n",
       "    }\n",
       "\n",
       "    .dataframe tbody tr th {\n",
       "        vertical-align: top;\n",
       "    }\n",
       "\n",
       "    .dataframe thead th {\n",
       "        text-align: right;\n",
       "    }\n",
       "</style>\n",
       "<table border=\"1\" class=\"dataframe\">\n",
       "  <thead>\n",
       "    <tr style=\"text-align: right;\">\n",
       "      <th></th>\n",
       "      <th>price</th>\n",
       "      <th>vehicletype</th>\n",
       "      <th>registrationyear</th>\n",
       "      <th>gearbox</th>\n",
       "      <th>power</th>\n",
       "      <th>model</th>\n",
       "      <th>kilometer</th>\n",
       "      <th>fueltype</th>\n",
       "      <th>brand</th>\n",
       "      <th>repaired</th>\n",
       "    </tr>\n",
       "  </thead>\n",
       "  <tbody>\n",
       "    <tr>\n",
       "      <th>7</th>\n",
       "      <td>0</td>\n",
       "      <td>sedan</td>\n",
       "      <td>1980</td>\n",
       "      <td>manual</td>\n",
       "      <td>50</td>\n",
       "      <td>other</td>\n",
       "      <td>40000</td>\n",
       "      <td>petrol</td>\n",
       "      <td>volkswagen</td>\n",
       "      <td>no</td>\n",
       "    </tr>\n",
       "    <tr>\n",
       "      <th>40</th>\n",
       "      <td>0</td>\n",
       "      <td>other</td>\n",
       "      <td>1990</td>\n",
       "      <td>other</td>\n",
       "      <td>0</td>\n",
       "      <td>corsa</td>\n",
       "      <td>150000</td>\n",
       "      <td>petrol</td>\n",
       "      <td>opel</td>\n",
       "      <td>other</td>\n",
       "    </tr>\n",
       "    <tr>\n",
       "      <th>115</th>\n",
       "      <td>0</td>\n",
       "      <td>small</td>\n",
       "      <td>1999</td>\n",
       "      <td>other</td>\n",
       "      <td>0</td>\n",
       "      <td>other</td>\n",
       "      <td>5000</td>\n",
       "      <td>petrol</td>\n",
       "      <td>volkswagen</td>\n",
       "      <td>other</td>\n",
       "    </tr>\n",
       "    <tr>\n",
       "      <th>152</th>\n",
       "      <td>0</td>\n",
       "      <td>bus</td>\n",
       "      <td>2004</td>\n",
       "      <td>manual</td>\n",
       "      <td>101</td>\n",
       "      <td>meriva</td>\n",
       "      <td>150000</td>\n",
       "      <td>lpg</td>\n",
       "      <td>opel</td>\n",
       "      <td>yes</td>\n",
       "    </tr>\n",
       "    <tr>\n",
       "      <th>154</th>\n",
       "      <td>0</td>\n",
       "      <td>other</td>\n",
       "      <td>2006</td>\n",
       "      <td>other</td>\n",
       "      <td>0</td>\n",
       "      <td>other</td>\n",
       "      <td>5000</td>\n",
       "      <td>other</td>\n",
       "      <td>fiat</td>\n",
       "      <td>other</td>\n",
       "    </tr>\n",
       "    <tr>\n",
       "      <th>231</th>\n",
       "      <td>0</td>\n",
       "      <td>wagon</td>\n",
       "      <td>2001</td>\n",
       "      <td>manual</td>\n",
       "      <td>115</td>\n",
       "      <td>mondeo</td>\n",
       "      <td>150000</td>\n",
       "      <td>other</td>\n",
       "      <td>ford</td>\n",
       "      <td>other</td>\n",
       "    </tr>\n",
       "    <tr>\n",
       "      <th>334</th>\n",
       "      <td>0</td>\n",
       "      <td>other</td>\n",
       "      <td>2005</td>\n",
       "      <td>other</td>\n",
       "      <td>0</td>\n",
       "      <td>polo</td>\n",
       "      <td>150000</td>\n",
       "      <td>petrol</td>\n",
       "      <td>volkswagen</td>\n",
       "      <td>other</td>\n",
       "    </tr>\n",
       "    <tr>\n",
       "      <th>415</th>\n",
       "      <td>0</td>\n",
       "      <td>other</td>\n",
       "      <td>1985</td>\n",
       "      <td>other</td>\n",
       "      <td>0</td>\n",
       "      <td>3er</td>\n",
       "      <td>150000</td>\n",
       "      <td>other</td>\n",
       "      <td>bmw</td>\n",
       "      <td>other</td>\n",
       "    </tr>\n",
       "    <tr>\n",
       "      <th>471</th>\n",
       "      <td>0</td>\n",
       "      <td>other</td>\n",
       "      <td>1990</td>\n",
       "      <td>other</td>\n",
       "      <td>0</td>\n",
       "      <td>3er</td>\n",
       "      <td>5000</td>\n",
       "      <td>other</td>\n",
       "      <td>bmw</td>\n",
       "      <td>other</td>\n",
       "    </tr>\n",
       "    <tr>\n",
       "      <th>478</th>\n",
       "      <td>0</td>\n",
       "      <td>other</td>\n",
       "      <td>2000</td>\n",
       "      <td>manual</td>\n",
       "      <td>0</td>\n",
       "      <td>other</td>\n",
       "      <td>150000</td>\n",
       "      <td>other</td>\n",
       "      <td>audi</td>\n",
       "      <td>yes</td>\n",
       "    </tr>\n",
       "    <tr>\n",
       "      <th>522</th>\n",
       "      <td>0</td>\n",
       "      <td>other</td>\n",
       "      <td>2000</td>\n",
       "      <td>other</td>\n",
       "      <td>0</td>\n",
       "      <td>other</td>\n",
       "      <td>150000</td>\n",
       "      <td>other</td>\n",
       "      <td>volvo</td>\n",
       "      <td>other</td>\n",
       "    </tr>\n",
       "    <tr>\n",
       "      <th>524</th>\n",
       "      <td>0</td>\n",
       "      <td>other</td>\n",
       "      <td>2005</td>\n",
       "      <td>manual</td>\n",
       "      <td>136</td>\n",
       "      <td>other</td>\n",
       "      <td>100000</td>\n",
       "      <td>other</td>\n",
       "      <td>toyota</td>\n",
       "      <td>other</td>\n",
       "    </tr>\n",
       "    <tr>\n",
       "      <th>563</th>\n",
       "      <td>0</td>\n",
       "      <td>sedan</td>\n",
       "      <td>1998</td>\n",
       "      <td>auto</td>\n",
       "      <td>230</td>\n",
       "      <td>other</td>\n",
       "      <td>150000</td>\n",
       "      <td>petrol</td>\n",
       "      <td>saab</td>\n",
       "      <td>other</td>\n",
       "    </tr>\n",
       "    <tr>\n",
       "      <th>579</th>\n",
       "      <td>0</td>\n",
       "      <td>sedan</td>\n",
       "      <td>1996</td>\n",
       "      <td>manual</td>\n",
       "      <td>170</td>\n",
       "      <td>5er</td>\n",
       "      <td>150000</td>\n",
       "      <td>petrol</td>\n",
       "      <td>bmw</td>\n",
       "      <td>no</td>\n",
       "    </tr>\n",
       "    <tr>\n",
       "      <th>590</th>\n",
       "      <td>0</td>\n",
       "      <td>sedan</td>\n",
       "      <td>1997</td>\n",
       "      <td>manual</td>\n",
       "      <td>0</td>\n",
       "      <td>3er</td>\n",
       "      <td>150000</td>\n",
       "      <td>petrol</td>\n",
       "      <td>bmw</td>\n",
       "      <td>other</td>\n",
       "    </tr>\n",
       "  </tbody>\n",
       "</table>\n",
       "</div>"
      ],
      "text/plain": [
       "     price vehicletype  registrationyear gearbox  power   model  kilometer  \\\n",
       "7        0       sedan              1980  manual     50   other      40000   \n",
       "40       0       other              1990   other      0   corsa     150000   \n",
       "115      0       small              1999   other      0   other       5000   \n",
       "152      0         bus              2004  manual    101  meriva     150000   \n",
       "154      0       other              2006   other      0   other       5000   \n",
       "231      0       wagon              2001  manual    115  mondeo     150000   \n",
       "334      0       other              2005   other      0    polo     150000   \n",
       "415      0       other              1985   other      0     3er     150000   \n",
       "471      0       other              1990   other      0     3er       5000   \n",
       "478      0       other              2000  manual      0   other     150000   \n",
       "522      0       other              2000   other      0   other     150000   \n",
       "524      0       other              2005  manual    136   other     100000   \n",
       "563      0       sedan              1998    auto    230   other     150000   \n",
       "579      0       sedan              1996  manual    170     5er     150000   \n",
       "590      0       sedan              1997  manual      0     3er     150000   \n",
       "\n",
       "    fueltype       brand repaired  \n",
       "7     petrol  volkswagen       no  \n",
       "40    petrol        opel    other  \n",
       "115   petrol  volkswagen    other  \n",
       "152      lpg        opel      yes  \n",
       "154    other        fiat    other  \n",
       "231    other        ford    other  \n",
       "334   petrol  volkswagen    other  \n",
       "415    other         bmw    other  \n",
       "471    other         bmw    other  \n",
       "478    other        audi      yes  \n",
       "522    other       volvo    other  \n",
       "524    other      toyota    other  \n",
       "563   petrol        saab    other  \n",
       "579   petrol         bmw       no  \n",
       "590   petrol         bmw    other  "
      ]
     },
     "execution_count": 33,
     "metadata": {},
     "output_type": "execute_result"
    }
   ],
   "source": [
    "df.query('price == 0 ').head(15)"
   ]
  },
  {
   "cell_type": "code",
   "execution_count": 34,
   "metadata": {},
   "outputs": [
    {
     "data": {
      "text/plain": [
       "price               9377\n",
       "vehicletype         9377\n",
       "registrationyear    9377\n",
       "gearbox             9377\n",
       "power               9377\n",
       "model               9377\n",
       "kilometer           9377\n",
       "fueltype            9377\n",
       "brand               9377\n",
       "repaired            9377\n",
       "dtype: int64"
      ]
     },
     "execution_count": 34,
     "metadata": {},
     "output_type": "execute_result"
    }
   ],
   "source": [
    "df.query('price == 0 ').count()"
   ]
  },
  {
   "cell_type": "markdown",
   "metadata": {},
   "source": [
    "10.7 тысяч машин отдают бесплатно, есть как старые, так и новые. Почему это так - не понятно, вопросы к бизнесу.."
   ]
  },
  {
   "cell_type": "markdown",
   "metadata": {},
   "source": [
    "всё-таки предлагаю убрать нулевые стоимости машин, а так же привести в порядок мощности, ибо по верхней границе какие-то машины убийцы..."
   ]
  },
  {
   "cell_type": "code",
   "execution_count": 35,
   "metadata": {
    "scrolled": true
   },
   "outputs": [
    {
     "data": {
      "text/html": [
       "<div>\n",
       "<style scoped>\n",
       "    .dataframe tbody tr th:only-of-type {\n",
       "        vertical-align: middle;\n",
       "    }\n",
       "\n",
       "    .dataframe tbody tr th {\n",
       "        vertical-align: top;\n",
       "    }\n",
       "\n",
       "    .dataframe thead th {\n",
       "        text-align: right;\n",
       "    }\n",
       "</style>\n",
       "<table border=\"1\" class=\"dataframe\">\n",
       "  <thead>\n",
       "    <tr style=\"text-align: right;\">\n",
       "      <th></th>\n",
       "      <th>price</th>\n",
       "      <th>registrationyear</th>\n",
       "      <th>power</th>\n",
       "      <th>kilometer</th>\n",
       "    </tr>\n",
       "  </thead>\n",
       "  <tbody>\n",
       "    <tr>\n",
       "      <th>count</th>\n",
       "      <td>330170.000000</td>\n",
       "      <td>330170.000000</td>\n",
       "      <td>330170.000000</td>\n",
       "      <td>330170.000000</td>\n",
       "    </tr>\n",
       "    <tr>\n",
       "      <th>mean</th>\n",
       "      <td>4540.142793</td>\n",
       "      <td>2002.089236</td>\n",
       "      <td>111.899603</td>\n",
       "      <td>127920.783233</td>\n",
       "    </tr>\n",
       "    <tr>\n",
       "      <th>std</th>\n",
       "      <td>4564.406192</td>\n",
       "      <td>6.802969</td>\n",
       "      <td>182.411127</td>\n",
       "      <td>37913.367297</td>\n",
       "    </tr>\n",
       "    <tr>\n",
       "      <th>min</th>\n",
       "      <td>0.000000</td>\n",
       "      <td>1910.000000</td>\n",
       "      <td>0.000000</td>\n",
       "      <td>5000.000000</td>\n",
       "    </tr>\n",
       "    <tr>\n",
       "      <th>25%</th>\n",
       "      <td>1149.000000</td>\n",
       "      <td>1999.000000</td>\n",
       "      <td>70.000000</td>\n",
       "      <td>125000.000000</td>\n",
       "    </tr>\n",
       "    <tr>\n",
       "      <th>50%</th>\n",
       "      <td>2850.000000</td>\n",
       "      <td>2002.000000</td>\n",
       "      <td>105.000000</td>\n",
       "      <td>150000.000000</td>\n",
       "    </tr>\n",
       "    <tr>\n",
       "      <th>75%</th>\n",
       "      <td>6500.000000</td>\n",
       "      <td>2007.000000</td>\n",
       "      <td>143.000000</td>\n",
       "      <td>150000.000000</td>\n",
       "    </tr>\n",
       "    <tr>\n",
       "      <th>max</th>\n",
       "      <td>20000.000000</td>\n",
       "      <td>2015.000000</td>\n",
       "      <td>20000.000000</td>\n",
       "      <td>150000.000000</td>\n",
       "    </tr>\n",
       "  </tbody>\n",
       "</table>\n",
       "</div>"
      ],
      "text/plain": [
       "               price  registrationyear          power      kilometer\n",
       "count  330170.000000     330170.000000  330170.000000  330170.000000\n",
       "mean     4540.142793       2002.089236     111.899603  127920.783233\n",
       "std      4564.406192          6.802969     182.411127   37913.367297\n",
       "min         0.000000       1910.000000       0.000000    5000.000000\n",
       "25%      1149.000000       1999.000000      70.000000  125000.000000\n",
       "50%      2850.000000       2002.000000     105.000000  150000.000000\n",
       "75%      6500.000000       2007.000000     143.000000  150000.000000\n",
       "max     20000.000000       2015.000000   20000.000000  150000.000000"
      ]
     },
     "execution_count": 35,
     "metadata": {},
     "output_type": "execute_result"
    }
   ],
   "source": [
    "df.describe()"
   ]
  },
  {
   "cell_type": "code",
   "execution_count": 36,
   "metadata": {},
   "outputs": [
    {
     "data": {
      "text/plain": [
       "<AxesSubplot:xlabel='power'>"
      ]
     },
     "execution_count": 36,
     "metadata": {},
     "output_type": "execute_result"
    },
    {
     "data": {
      "image/png": "[encoded data removed]",
      "text/plain": [
       "<Figure size 432x288 with 1 Axes>"
      ]
     },
     "metadata": {
      "needs_background": "light"
     },
     "output_type": "display_data"
    }
   ],
   "source": [
    "sns.boxplot(df['power'])"
   ]
  },
  {
   "cell_type": "code",
   "execution_count": 37,
   "metadata": {},
   "outputs": [
    {
     "data": {
      "text/plain": [
       "<AxesSubplot:>"
      ]
     },
     "execution_count": 37,
     "metadata": {},
     "output_type": "execute_result"
    },
    {
     "data": {
      "image/png": "[encoded data removed]",
      "text/plain": [
       "<Figure size 432x288 with 1 Axes>"
      ]
     },
     "metadata": {
      "needs_background": "light"
     },
     "output_type": "display_data"
    }
   ],
   "source": [
    "df['power'].hist(bins = 20)"
   ]
  },
  {
   "cell_type": "code",
   "execution_count": 38,
   "metadata": {},
   "outputs": [],
   "source": [
    "df = df.query(\"power < 2500\")"
   ]
  },
  {
   "cell_type": "code",
   "execution_count": 39,
   "metadata": {},
   "outputs": [],
   "source": [
    "df = df.query(\"price > 5\")"
   ]
  },
  {
   "cell_type": "code",
   "execution_count": 40,
   "metadata": {},
   "outputs": [
    {
     "data": {
      "text/html": [
       "<div>\n",
       "<style scoped>\n",
       "    .dataframe tbody tr th:only-of-type {\n",
       "        vertical-align: middle;\n",
       "    }\n",
       "\n",
       "    .dataframe tbody tr th {\n",
       "        vertical-align: top;\n",
       "    }\n",
       "\n",
       "    .dataframe thead th {\n",
       "        text-align: right;\n",
       "    }\n",
       "</style>\n",
       "<table border=\"1\" class=\"dataframe\">\n",
       "  <thead>\n",
       "    <tr style=\"text-align: right;\">\n",
       "      <th></th>\n",
       "      <th>price</th>\n",
       "      <th>registrationyear</th>\n",
       "      <th>power</th>\n",
       "      <th>kilometer</th>\n",
       "    </tr>\n",
       "  </thead>\n",
       "  <tbody>\n",
       "    <tr>\n",
       "      <th>count</th>\n",
       "      <td>319611.000000</td>\n",
       "      <td>319611.000000</td>\n",
       "      <td>319611.000000</td>\n",
       "      <td>319611.000000</td>\n",
       "    </tr>\n",
       "    <tr>\n",
       "      <th>mean</th>\n",
       "      <td>4689.217674</td>\n",
       "      <td>2002.236725</td>\n",
       "      <td>110.570265</td>\n",
       "      <td>128087.331162</td>\n",
       "    </tr>\n",
       "    <tr>\n",
       "      <th>std</th>\n",
       "      <td>4562.918034</td>\n",
       "      <td>6.610562</td>\n",
       "      <td>71.253375</td>\n",
       "      <td>37453.784143</td>\n",
       "    </tr>\n",
       "    <tr>\n",
       "      <th>min</th>\n",
       "      <td>7.000000</td>\n",
       "      <td>1910.000000</td>\n",
       "      <td>0.000000</td>\n",
       "      <td>5000.000000</td>\n",
       "    </tr>\n",
       "    <tr>\n",
       "      <th>25%</th>\n",
       "      <td>1250.000000</td>\n",
       "      <td>1999.000000</td>\n",
       "      <td>73.000000</td>\n",
       "      <td>125000.000000</td>\n",
       "    </tr>\n",
       "    <tr>\n",
       "      <th>50%</th>\n",
       "      <td>2999.000000</td>\n",
       "      <td>2003.000000</td>\n",
       "      <td>105.000000</td>\n",
       "      <td>150000.000000</td>\n",
       "    </tr>\n",
       "    <tr>\n",
       "      <th>75%</th>\n",
       "      <td>6800.000000</td>\n",
       "      <td>2007.000000</td>\n",
       "      <td>143.000000</td>\n",
       "      <td>150000.000000</td>\n",
       "    </tr>\n",
       "    <tr>\n",
       "      <th>max</th>\n",
       "      <td>20000.000000</td>\n",
       "      <td>2015.000000</td>\n",
       "      <td>2461.000000</td>\n",
       "      <td>150000.000000</td>\n",
       "    </tr>\n",
       "  </tbody>\n",
       "</table>\n",
       "</div>"
      ],
      "text/plain": [
       "               price  registrationyear          power      kilometer\n",
       "count  319611.000000     319611.000000  319611.000000  319611.000000\n",
       "mean     4689.217674       2002.236725     110.570265  128087.331162\n",
       "std      4562.918034          6.610562      71.253375   37453.784143\n",
       "min         7.000000       1910.000000       0.000000    5000.000000\n",
       "25%      1250.000000       1999.000000      73.000000  125000.000000\n",
       "50%      2999.000000       2003.000000     105.000000  150000.000000\n",
       "75%      6800.000000       2007.000000     143.000000  150000.000000\n",
       "max     20000.000000       2015.000000    2461.000000  150000.000000"
      ]
     },
     "execution_count": 40,
     "metadata": {},
     "output_type": "execute_result"
    }
   ],
   "source": [
    "df.describe()"
   ]
  },
  {
   "cell_type": "markdown",
   "metadata": {},
   "source": [
    "общий вывод по разделу:\\\n",
    "Данные предоставлено небрежно, отсутствует много важной информации, присутствует как много пропусков, так и не всегда адекватные значения вбиты в требуемые поля. Необходимо обсудить с разработчиками и менеджерами эти моменты при заполнении, чтоб в будущем можно было доучить модель уже по более адекватным данным \n",
    "\n",
    "В целом между данными есть дисбаланс, но он естественный, а не из-за выборки"
   ]
  },
  {
   "cell_type": "markdown",
   "metadata": {},
   "source": [
    "## Обучение моделей"
   ]
  },
  {
   "cell_type": "markdown",
   "metadata": {},
   "source": [
    "Моя цель в рамках этого проекта разобраться с 3 основными способами градиентного бустинга: XGBoost, LightGBM и CatBoost. Сравнить их результаты и хоть немного понять как они работают. Так же пытаюсь разобраться с этими моделями при совместной работе с GridsearchCV"
   ]
  },
  {
   "cell_type": "markdown",
   "metadata": {},
   "source": [
    "первая модель для эксперимента будет - catboost, так как он сам умеет \"переваривать\" категориальные переменные, т.е. ему не требуется предварительного OHE данных."
   ]
  },
  {
   "cell_type": "code",
   "execution_count": 41,
   "metadata": {},
   "outputs": [],
   "source": [
    "features = df.drop(['price'], axis=1)\n",
    "target = df['price']"
   ]
  },
  {
   "cell_type": "code",
   "execution_count": 42,
   "metadata": {},
   "outputs": [],
   "source": [
    "features_train, features_test, target_train, target_test = train_test_split(\n",
    "    features, target, test_size=0.2, random_state=12345)"
   ]
  },
  {
   "cell_type": "code",
   "execution_count": 43,
   "metadata": {},
   "outputs": [
    {
     "data": {
      "text/html": [
       "<div>\n",
       "<style scoped>\n",
       "    .dataframe tbody tr th:only-of-type {\n",
       "        vertical-align: middle;\n",
       "    }\n",
       "\n",
       "    .dataframe tbody tr th {\n",
       "        vertical-align: top;\n",
       "    }\n",
       "\n",
       "    .dataframe thead th {\n",
       "        text-align: right;\n",
       "    }\n",
       "</style>\n",
       "<table border=\"1\" class=\"dataframe\">\n",
       "  <thead>\n",
       "    <tr style=\"text-align: right;\">\n",
       "      <th></th>\n",
       "      <th>vehicletype</th>\n",
       "      <th>registrationyear</th>\n",
       "      <th>gearbox</th>\n",
       "      <th>power</th>\n",
       "      <th>model</th>\n",
       "      <th>kilometer</th>\n",
       "      <th>fueltype</th>\n",
       "      <th>brand</th>\n",
       "      <th>repaired</th>\n",
       "    </tr>\n",
       "  </thead>\n",
       "  <tbody>\n",
       "    <tr>\n",
       "      <th>64966</th>\n",
       "      <td>wagon</td>\n",
       "      <td>2002</td>\n",
       "      <td>manual</td>\n",
       "      <td>101</td>\n",
       "      <td>passat</td>\n",
       "      <td>150000</td>\n",
       "      <td>gasoline</td>\n",
       "      <td>volkswagen</td>\n",
       "      <td>no</td>\n",
       "    </tr>\n",
       "    <tr>\n",
       "      <th>190868</th>\n",
       "      <td>bus</td>\n",
       "      <td>2003</td>\n",
       "      <td>manual</td>\n",
       "      <td>97</td>\n",
       "      <td>zafira</td>\n",
       "      <td>150000</td>\n",
       "      <td>cng</td>\n",
       "      <td>opel</td>\n",
       "      <td>no</td>\n",
       "    </tr>\n",
       "    <tr>\n",
       "      <th>31959</th>\n",
       "      <td>small</td>\n",
       "      <td>2009</td>\n",
       "      <td>manual</td>\n",
       "      <td>75</td>\n",
       "      <td>one</td>\n",
       "      <td>80000</td>\n",
       "      <td>petrol</td>\n",
       "      <td>mini</td>\n",
       "      <td>no</td>\n",
       "    </tr>\n",
       "    <tr>\n",
       "      <th>145753</th>\n",
       "      <td>small</td>\n",
       "      <td>1999</td>\n",
       "      <td>auto</td>\n",
       "      <td>90</td>\n",
       "      <td>a_klasse</td>\n",
       "      <td>150000</td>\n",
       "      <td>gasoline</td>\n",
       "      <td>mercedes_benz</td>\n",
       "      <td>no</td>\n",
       "    </tr>\n",
       "    <tr>\n",
       "      <th>7408</th>\n",
       "      <td>small</td>\n",
       "      <td>2005</td>\n",
       "      <td>manual</td>\n",
       "      <td>60</td>\n",
       "      <td>corsa</td>\n",
       "      <td>90000</td>\n",
       "      <td>petrol</td>\n",
       "      <td>opel</td>\n",
       "      <td>no</td>\n",
       "    </tr>\n",
       "  </tbody>\n",
       "</table>\n",
       "</div>"
      ],
      "text/plain": [
       "       vehicletype  registrationyear gearbox  power     model  kilometer  \\\n",
       "64966        wagon              2002  manual    101    passat     150000   \n",
       "190868         bus              2003  manual     97    zafira     150000   \n",
       "31959        small              2009  manual     75       one      80000   \n",
       "145753       small              1999    auto     90  a_klasse     150000   \n",
       "7408         small              2005  manual     60     corsa      90000   \n",
       "\n",
       "        fueltype          brand repaired  \n",
       "64966   gasoline     volkswagen       no  \n",
       "190868       cng           opel       no  \n",
       "31959     petrol           mini       no  \n",
       "145753  gasoline  mercedes_benz       no  \n",
       "7408      petrol           opel       no  "
      ]
     },
     "execution_count": 43,
     "metadata": {},
     "output_type": "execute_result"
    }
   ],
   "source": [
    "features_train.head()"
   ]
  },
  {
   "cell_type": "code",
   "execution_count": 44,
   "metadata": {},
   "outputs": [],
   "source": [
    "cat_features = ['vehicletype', 'gearbox', 'model', 'fueltype', 'brand', 'repaired']"
   ]
  },
  {
   "cell_type": "code",
   "execution_count": 45,
   "metadata": {
    "scrolled": false
   },
   "outputs": [
    {
     "name": "stdout",
     "output_type": "stream",
     "text": [
      "CPU times: user 4min 8s, sys: 8.35 s, total: 4min 16s\n",
      "Wall time: 44.8 s\n"
     ]
    }
   ],
   "source": [
    "%%time\n",
    "start_time = time.time()\n",
    "catboost = CatBoostRegressor(loss_function='RMSE', verbose = False)\n",
    "cat_m = catboost.fit(features_train, target_train, cat_features=cat_features, verbose = False)\n",
    "cat_time = time.time() - start_time"
   ]
  },
  {
   "cell_type": "code",
   "execution_count": 46,
   "metadata": {},
   "outputs": [
    {
     "name": "stdout",
     "output_type": "stream",
     "text": [
      "{'learn': {'RMSE': 1532.195044512251}}\n"
     ]
    }
   ],
   "source": [
    "print(cat_m.best_score_)"
   ]
  },
  {
   "cell_type": "code",
   "execution_count": 47,
   "metadata": {},
   "outputs": [
    {
     "data": {
      "text/plain": [
       "array([ 7.45547316, 41.39512984,  1.000478  , 24.82566139,  4.30768887,\n",
       "        6.30995747,  1.59909458, 10.3182302 ,  2.78828648])"
      ]
     },
     "execution_count": 47,
     "metadata": {},
     "output_type": "execute_result"
    }
   ],
   "source": [
    "feature_importances= cat_m.feature_importances_\n",
    "feature_importances"
   ]
  },
  {
   "cell_type": "code",
   "execution_count": 48,
   "metadata": {
    "scrolled": true
   },
   "outputs": [
    {
     "data": {
      "image/png": "[encoded data removed]",
      "text/plain": [
       "<Figure size 432x288 with 1 Axes>"
      ]
     },
     "metadata": {
      "needs_background": "light"
     },
     "output_type": "display_data"
    }
   ],
   "source": [
    "plt.bar(range(len(feature_importances)), feature_importances)\n",
    "\n",
    "\n",
    "plt.title('Feature Importances')\n",
    "plt.xlabel('номер признака')\n",
    "plt.ylabel('Importance')\n",
    "\n",
    "\n",
    "features = [f'Feature {i}' for i in range(len(feature_importances))]\n",
    "plt.xticks(range(len(feature_importances)), features, rotation=90)\n",
    "\n",
    "\n",
    "plt.show()"
   ]
  },
  {
   "cell_type": "code",
   "execution_count": 49,
   "metadata": {},
   "outputs": [
    {
     "data": {
      "image/png": "[encoded data removed]",
      "text/plain": [
       "<Figure size 432x288 with 1 Axes>"
      ]
     },
     "metadata": {
      "needs_background": "light"
     },
     "output_type": "display_data"
    }
   ],
   "source": [
    "feature_importance = cat_m.feature_importances_\n",
    "feature_imp = pd.DataFrame(sorted(zip(feature_importance, features_train.columns)), columns=['Value','Feature'])\n",
    "sns.barplot(x=\"Value\", y=\"Feature\", data=feature_imp.sort_values(by=\"Value\", ascending=False))\n",
    "plt.title('Feature importance')\n",
    "plt.tight_layout()\n",
    "plt.show();"
   ]
  },
  {
   "cell_type": "code",
   "execution_count": 50,
   "metadata": {},
   "outputs": [],
   "source": [
    "def rmse(y_true, y_pred):\n",
    "    error = (y_true - y_pred) ** 2\n",
    "    return np.sqrt(np.mean(error))\n",
    "\n",
    "rmse_scorer = make_scorer(\n",
    "    rmse,\n",
    "    greater_is_better=False)"
   ]
  },
  {
   "cell_type": "code",
   "execution_count": 51,
   "metadata": {
    "scrolled": false
   },
   "outputs": [
    {
     "name": "stdout",
     "output_type": "stream",
     "text": [
      "CPU times: user 6min 26s, sys: 20.2 s, total: 6min 46s\n",
      "Wall time: 4min 3s\n"
     ]
    }
   ],
   "source": [
    "%%time\n",
    "start_time = time.time()\n",
    "\n",
    "params_cat = {'depth':range(9,10), 'learning_rate':np.arange(0.1,0.6,0.2)}\n",
    "\n",
    "catboost_grid = GridSearchCV(catboost, params_cat, cv=2, n_jobs = -1, scoring = rmse_scorer, verbose = False)\n",
    "catboost_grid.fit(features_train, target_train, cat_features=cat_features)\n",
    "cat_grid_time = time.time() - start_time"
   ]
  },
  {
   "cell_type": "code",
   "execution_count": 52,
   "metadata": {
    "scrolled": true
   },
   "outputs": [
    {
     "name": "stdout",
     "output_type": "stream",
     "text": [
      "{'depth': 9, 'learning_rate': 0.1}\n",
      "1577.6619762241378\n"
     ]
    }
   ],
   "source": [
    "print(catboost_grid.best_params_)\n",
    "print(catboost_grid.best_score_*-1)\n"
   ]
  },
  {
   "cell_type": "code",
   "execution_count": 53,
   "metadata": {},
   "outputs": [
    {
     "name": "stdout",
     "output_type": "stream",
     "text": [
      "{'mean_fit_time': array([174.26898205, 174.11722302, 174.02418196]), 'std_fit_time': array([0.60043108, 0.03538609, 1.09821308]), 'mean_score_time': array([0.33317697, 0.64417183, 0.40618956]), 'std_score_time': array([0.02744305, 0.03652894, 0.01590645]), 'param_depth': masked_array(data=[9, 9, 9],\n",
      "             mask=[False, False, False],\n",
      "       fill_value='?',\n",
      "            dtype=object), 'param_learning_rate': masked_array(data=[0.1, 0.30000000000000004, 0.5000000000000001],\n",
      "             mask=[False, False, False],\n",
      "       fill_value='?',\n",
      "            dtype=object), 'params': [{'depth': 9, 'learning_rate': 0.1}, {'depth': 9, 'learning_rate': 0.30000000000000004}, {'depth': 9, 'learning_rate': 0.5000000000000001}], 'split0_test_score': array([-1583.71322167, -1593.64824747, -1628.6736771 ]), 'split1_test_score': array([-1571.61073078, -1582.79200279, -1624.56820725]), 'mean_test_score': array([-1577.66197622, -1588.22012513, -1626.62094217]), 'std_test_score': array([6.05124544, 5.42812234, 2.05273493]), 'rank_test_score': array([1, 2, 3], dtype=int32)}\n"
     ]
    }
   ],
   "source": [
    "print(catboost_grid.cv_results_)"
   ]
  },
  {
   "cell_type": "markdown",
   "metadata": {},
   "source": [
    "На обучающей выборке у catboost получились следующие результаты:\n",
    "{'depth': 9, 'learning_rate': 0.1}\\\n",
    "1577\n",
    "CPU times: user 6min 57s, sys: 20.5 s, total: 7min 17s\\\n",
    "Wall time: 4 минуты"
   ]
  },
  {
   "cell_type": "code",
   "execution_count": 54,
   "metadata": {},
   "outputs": [],
   "source": [
    "importances = catboost_grid.best_estimator_.feature_importances_"
   ]
  },
  {
   "cell_type": "code",
   "execution_count": 55,
   "metadata": {},
   "outputs": [
    {
     "name": "stdout",
     "output_type": "stream",
     "text": [
      "Feature 0: 9.074432520375238\n",
      "Feature 1: 33.47432543337264\n",
      "Feature 2: 1.7683917266355473\n",
      "Feature 3: 22.454847707753707\n",
      "Feature 4: 5.734420257965039\n",
      "Feature 5: 7.480889147043498\n",
      "Feature 6: 2.550674670201187\n",
      "Feature 7: 14.112987206013697\n",
      "Feature 8: 3.34903133063915\n"
     ]
    }
   ],
   "source": [
    "for i, feature in enumerate(features):\n",
    "    print(f'{feature}: {importances[i]}')"
   ]
  },
  {
   "cell_type": "code",
   "execution_count": 56,
   "metadata": {},
   "outputs": [
    {
     "data": {
      "image/png": "[encoded data removed]",
      "text/plain": [
       "<Figure size 432x288 with 1 Axes>"
      ]
     },
     "metadata": {
      "needs_background": "light"
     },
     "output_type": "display_data"
    }
   ],
   "source": [
    "feature_importance = catboost_grid.best_estimator_.feature_importances_\n",
    "feature_imp = pd.DataFrame(sorted(zip(feature_importance, features_train.columns)), columns=['Value','Feature'])\n",
    "sns.barplot(x=\"Value\", y=\"Feature\", data=feature_imp.sort_values(by=\"Value\", ascending=False))\n",
    "plt.title('Feature importance')\n",
    "plt.tight_layout()\n",
    "plt.show();"
   ]
  },
  {
   "cell_type": "markdown",
   "metadata": {},
   "source": [
    "XGBRegressor"
   ]
  },
  {
   "cell_type": "code",
   "execution_count": 57,
   "metadata": {},
   "outputs": [],
   "source": [
    "encoder = OrdinalEncoder() \n",
    "features_train_oe = pd.DataFrame(encoder.fit_transform(features_train),\n",
    "                            columns=features_train.columns)"
   ]
  },
  {
   "cell_type": "code",
   "execution_count": 58,
   "metadata": {},
   "outputs": [
    {
     "data": {
      "text/html": [
       "<div>\n",
       "<style scoped>\n",
       "    .dataframe tbody tr th:only-of-type {\n",
       "        vertical-align: middle;\n",
       "    }\n",
       "\n",
       "    .dataframe tbody tr th {\n",
       "        vertical-align: top;\n",
       "    }\n",
       "\n",
       "    .dataframe thead th {\n",
       "        text-align: right;\n",
       "    }\n",
       "</style>\n",
       "<table border=\"1\" class=\"dataframe\">\n",
       "  <thead>\n",
       "    <tr style=\"text-align: right;\">\n",
       "      <th></th>\n",
       "      <th>vehicletype</th>\n",
       "      <th>registrationyear</th>\n",
       "      <th>gearbox</th>\n",
       "      <th>power</th>\n",
       "      <th>model</th>\n",
       "      <th>kilometer</th>\n",
       "      <th>fueltype</th>\n",
       "      <th>brand</th>\n",
       "      <th>repaired</th>\n",
       "    </tr>\n",
       "  </thead>\n",
       "  <tbody>\n",
       "    <tr>\n",
       "      <th>0</th>\n",
       "      <td>7.0</td>\n",
       "      <td>74.0</td>\n",
       "      <td>1.0</td>\n",
       "      <td>101.0</td>\n",
       "      <td>170.0</td>\n",
       "      <td>12.0</td>\n",
       "      <td>2.0</td>\n",
       "      <td>38.0</td>\n",
       "      <td>0.0</td>\n",
       "    </tr>\n",
       "    <tr>\n",
       "      <th>1</th>\n",
       "      <td>0.0</td>\n",
       "      <td>75.0</td>\n",
       "      <td>1.0</td>\n",
       "      <td>97.0</td>\n",
       "      <td>249.0</td>\n",
       "      <td>12.0</td>\n",
       "      <td>0.0</td>\n",
       "      <td>24.0</td>\n",
       "      <td>0.0</td>\n",
       "    </tr>\n",
       "    <tr>\n",
       "      <th>2</th>\n",
       "      <td>5.0</td>\n",
       "      <td>81.0</td>\n",
       "      <td>1.0</td>\n",
       "      <td>75.0</td>\n",
       "      <td>165.0</td>\n",
       "      <td>8.0</td>\n",
       "      <td>6.0</td>\n",
       "      <td>21.0</td>\n",
       "      <td>0.0</td>\n",
       "    </tr>\n",
       "    <tr>\n",
       "      <th>3</th>\n",
       "      <td>5.0</td>\n",
       "      <td>71.0</td>\n",
       "      <td>0.0</td>\n",
       "      <td>90.0</td>\n",
       "      <td>33.0</td>\n",
       "      <td>12.0</td>\n",
       "      <td>2.0</td>\n",
       "      <td>20.0</td>\n",
       "      <td>0.0</td>\n",
       "    </tr>\n",
       "    <tr>\n",
       "      <th>4</th>\n",
       "      <td>5.0</td>\n",
       "      <td>77.0</td>\n",
       "      <td>1.0</td>\n",
       "      <td>60.0</td>\n",
       "      <td>83.0</td>\n",
       "      <td>9.0</td>\n",
       "      <td>6.0</td>\n",
       "      <td>24.0</td>\n",
       "      <td>0.0</td>\n",
       "    </tr>\n",
       "    <tr>\n",
       "      <th>...</th>\n",
       "      <td>...</td>\n",
       "      <td>...</td>\n",
       "      <td>...</td>\n",
       "      <td>...</td>\n",
       "      <td>...</td>\n",
       "      <td>...</td>\n",
       "      <td>...</td>\n",
       "      <td>...</td>\n",
       "      <td>...</td>\n",
       "    </tr>\n",
       "    <tr>\n",
       "      <th>255683</th>\n",
       "      <td>4.0</td>\n",
       "      <td>83.0</td>\n",
       "      <td>1.0</td>\n",
       "      <td>86.0</td>\n",
       "      <td>116.0</td>\n",
       "      <td>6.0</td>\n",
       "      <td>6.0</td>\n",
       "      <td>38.0</td>\n",
       "      <td>0.0</td>\n",
       "    </tr>\n",
       "    <tr>\n",
       "      <th>255684</th>\n",
       "      <td>5.0</td>\n",
       "      <td>71.0</td>\n",
       "      <td>1.0</td>\n",
       "      <td>110.0</td>\n",
       "      <td>120.0</td>\n",
       "      <td>12.0</td>\n",
       "      <td>2.0</td>\n",
       "      <td>30.0</td>\n",
       "      <td>2.0</td>\n",
       "    </tr>\n",
       "    <tr>\n",
       "      <th>255685</th>\n",
       "      <td>3.0</td>\n",
       "      <td>72.0</td>\n",
       "      <td>2.0</td>\n",
       "      <td>60.0</td>\n",
       "      <td>102.0</td>\n",
       "      <td>12.0</td>\n",
       "      <td>5.0</td>\n",
       "      <td>10.0</td>\n",
       "      <td>1.0</td>\n",
       "    </tr>\n",
       "    <tr>\n",
       "      <th>255686</th>\n",
       "      <td>7.0</td>\n",
       "      <td>58.0</td>\n",
       "      <td>1.0</td>\n",
       "      <td>113.0</td>\n",
       "      <td>166.0</td>\n",
       "      <td>12.0</td>\n",
       "      <td>6.0</td>\n",
       "      <td>39.0</td>\n",
       "      <td>0.0</td>\n",
       "    </tr>\n",
       "    <tr>\n",
       "      <th>255687</th>\n",
       "      <td>7.0</td>\n",
       "      <td>71.0</td>\n",
       "      <td>1.0</td>\n",
       "      <td>74.0</td>\n",
       "      <td>166.0</td>\n",
       "      <td>12.0</td>\n",
       "      <td>4.0</td>\n",
       "      <td>25.0</td>\n",
       "      <td>1.0</td>\n",
       "    </tr>\n",
       "  </tbody>\n",
       "</table>\n",
       "<p>255688 rows × 9 columns</p>\n",
       "</div>"
      ],
      "text/plain": [
       "        vehicletype  registrationyear  gearbox  power  model  kilometer  \\\n",
       "0               7.0              74.0      1.0  101.0  170.0       12.0   \n",
       "1               0.0              75.0      1.0   97.0  249.0       12.0   \n",
       "2               5.0              81.0      1.0   75.0  165.0        8.0   \n",
       "3               5.0              71.0      0.0   90.0   33.0       12.0   \n",
       "4               5.0              77.0      1.0   60.0   83.0        9.0   \n",
       "...             ...               ...      ...    ...    ...        ...   \n",
       "255683          4.0              83.0      1.0   86.0  116.0        6.0   \n",
       "255684          5.0              71.0      1.0  110.0  120.0       12.0   \n",
       "255685          3.0              72.0      2.0   60.0  102.0       12.0   \n",
       "255686          7.0              58.0      1.0  113.0  166.0       12.0   \n",
       "255687          7.0              71.0      1.0   74.0  166.0       12.0   \n",
       "\n",
       "        fueltype  brand  repaired  \n",
       "0            2.0   38.0       0.0  \n",
       "1            0.0   24.0       0.0  \n",
       "2            6.0   21.0       0.0  \n",
       "3            2.0   20.0       0.0  \n",
       "4            6.0   24.0       0.0  \n",
       "...          ...    ...       ...  \n",
       "255683       6.0   38.0       0.0  \n",
       "255684       2.0   30.0       2.0  \n",
       "255685       5.0   10.0       1.0  \n",
       "255686       6.0   39.0       0.0  \n",
       "255687       4.0   25.0       1.0  \n",
       "\n",
       "[255688 rows x 9 columns]"
      ]
     },
     "execution_count": 58,
     "metadata": {},
     "output_type": "execute_result"
    }
   ],
   "source": [
    "features_train_oe"
   ]
  },
  {
   "cell_type": "code",
   "execution_count": 59,
   "metadata": {},
   "outputs": [],
   "source": [
    "model_xgb = XGBRegressor ()"
   ]
  },
  {
   "cell_type": "code",
   "execution_count": 60,
   "metadata": {},
   "outputs": [
    {
     "name": "stdout",
     "output_type": "stream",
     "text": [
      "Fitting 3 folds for each of 12 candidates, totalling 36 fits\n",
      "CPU times: user 15.2 s, sys: 2.37 s, total: 17.5 s\n",
      "Wall time: 16 s\n"
     ]
    }
   ],
   "source": [
    "%%time\n",
    "start_time = time.time()\n",
    "\n",
    "params_xgb = {\n",
    "        'n_estimators': [10,20, 30],\n",
    "        'max_depth': [3, 8],\n",
    "        'eta': [0.5, 1]\n",
    "        }\n",
    "grid_xgb = GridSearchCV(XGBRegressor(), params_xgb, n_jobs=-1, scoring = rmse_scorer, verbose = 10, cv = 3)\n",
    "\n",
    "grid_xgb.fit(features_train_oe, target_train)\n",
    "xgb_grid_time = time.time() - start_time"
   ]
  },
  {
   "cell_type": "code",
   "execution_count": 61,
   "metadata": {},
   "outputs": [
    {
     "name": "stdout",
     "output_type": "stream",
     "text": [
      "1653.2976350976853\n"
     ]
    }
   ],
   "source": [
    "print(grid_xgb.best_score_*-1)"
   ]
  },
  {
   "cell_type": "code",
   "execution_count": 62,
   "metadata": {
    "scrolled": true
   },
   "outputs": [
    {
     "name": "stdout",
     "output_type": "stream",
     "text": [
      "{'mean_fit_time': array([0.73636492, 1.30603536, 1.82233071, 1.9302783 , 3.49494274,\n",
      "       5.28042642, 0.69868437, 1.29434768, 1.84673564, 1.90350779,\n",
      "       3.30644989, 4.56403685]), 'std_fit_time': array([0.00948653, 0.07673235, 0.03526426, 0.02331911, 0.04413497,\n",
      "       0.04996595, 0.0085855 , 0.03270839, 0.01789887, 0.07619416,\n",
      "       0.05333588, 0.01447036]), 'mean_score_time': array([0.03997342, 0.063574  , 0.05776238, 0.05544043, 0.08730133,\n",
      "       0.13161429, 0.04092725, 0.04324007, 0.05010374, 0.05539759,\n",
      "       0.07168627, 0.09001708]), 'std_score_time': array([0.00442294, 0.014437  , 0.00348069, 0.00316838, 0.01031088,\n",
      "       0.01932783, 0.00204302, 0.00332942, 0.00180745, 0.00394322,\n",
      "       0.00036552, 0.00186583]), 'param_eta': masked_array(data=[0.5, 0.5, 0.5, 0.5, 0.5, 0.5, 1, 1, 1, 1, 1, 1],\n",
      "             mask=[False, False, False, False, False, False, False, False,\n",
      "                   False, False, False, False],\n",
      "       fill_value='?',\n",
      "            dtype=object), 'param_max_depth': masked_array(data=[3, 3, 3, 8, 8, 8, 3, 3, 3, 8, 8, 8],\n",
      "             mask=[False, False, False, False, False, False, False, False,\n",
      "                   False, False, False, False],\n",
      "       fill_value='?',\n",
      "            dtype=object), 'param_n_estimators': masked_array(data=[10, 20, 30, 10, 20, 30, 10, 20, 30, 10, 20, 30],\n",
      "             mask=[False, False, False, False, False, False, False, False,\n",
      "                   False, False, False, False],\n",
      "       fill_value='?',\n",
      "            dtype=object), 'params': [{'eta': 0.5, 'max_depth': 3, 'n_estimators': 10}, {'eta': 0.5, 'max_depth': 3, 'n_estimators': 20}, {'eta': 0.5, 'max_depth': 3, 'n_estimators': 30}, {'eta': 0.5, 'max_depth': 8, 'n_estimators': 10}, {'eta': 0.5, 'max_depth': 8, 'n_estimators': 20}, {'eta': 0.5, 'max_depth': 8, 'n_estimators': 30}, {'eta': 1, 'max_depth': 3, 'n_estimators': 10}, {'eta': 1, 'max_depth': 3, 'n_estimators': 20}, {'eta': 1, 'max_depth': 3, 'n_estimators': 30}, {'eta': 1, 'max_depth': 8, 'n_estimators': 10}, {'eta': 1, 'max_depth': 8, 'n_estimators': 20}, {'eta': 1, 'max_depth': 8, 'n_estimators': 30}], 'split0_test_score': array([-2105.70743265, -1979.82492574, -1911.03179556, -1739.54317626,\n",
      "       -1679.74088329, -1655.19392171, -2180.44737461, -1998.81864828,\n",
      "       -1938.07732248, -1813.44933136, -1782.0304419 , -1762.68263239]), 'split1_test_score': array([-2102.93563795, -1959.29396029, -1897.98937425, -1731.05270887,\n",
      "       -1672.69937815, -1657.98718934, -2138.60329475, -1972.26732056,\n",
      "       -1901.57879118, -1818.38742678, -1773.70275238, -1753.15187991]), 'split2_test_score': array([-2103.02598381, -1951.49486703, -1879.53030734, -1716.81413149,\n",
      "       -1671.31146194, -1646.71179425, -2121.12419869, -1986.73796024,\n",
      "       -1914.40958446, -1781.75357723, -1750.63067228, -1742.62741506]), 'mean_test_score': array([-2103.8896848 , -1963.53791768, -1896.18382572, -1729.13667221,\n",
      "       -1674.58390779, -1653.2976351 , -2146.72495601, -1985.94130969,\n",
      "       -1918.02189937, -1804.53011179, -1768.78795552, -1752.82064245]), 'std_test_score': array([ 1.28587091, 11.94868019, 12.92364613,  9.37748248,  3.69029132,\n",
      "        4.79448021, 24.8901699 , 10.85416172, 15.11781093, 16.23112425,\n",
      "       13.28163655,  8.19085767]), 'rank_test_score': array([11,  9,  7,  3,  2,  1, 12, 10,  8,  6,  5,  4], dtype=int32)}\n"
     ]
    }
   ],
   "source": [
    "print(grid_xgb.cv_results_)"
   ]
  },
  {
   "cell_type": "code",
   "execution_count": 63,
   "metadata": {},
   "outputs": [],
   "source": [
    "importances = grid_xgb.best_estimator_.feature_importances_"
   ]
  },
  {
   "cell_type": "code",
   "execution_count": 64,
   "metadata": {},
   "outputs": [
    {
     "name": "stdout",
     "output_type": "stream",
     "text": [
      "Feature 0: 0.049233995378017426\n",
      "Feature 1: 0.4748140871524811\n",
      "Feature 2: 0.03276285529136658\n",
      "Feature 3: 0.222534641623497\n",
      "Feature 4: 0.027214206755161285\n",
      "Feature 5: 0.041444871574640274\n",
      "Feature 6: 0.02912505343556404\n",
      "Feature 7: 0.059576354920864105\n",
      "Feature 8: 0.06329391151666641\n"
     ]
    }
   ],
   "source": [
    "for i, feature in enumerate(features):\n",
    "    print(f'{feature}: {importances[i]}')"
   ]
  },
  {
   "cell_type": "code",
   "execution_count": 65,
   "metadata": {},
   "outputs": [
    {
     "data": {
      "image/png": "[encoded data removed]",
      "text/plain": [
       "<Figure size 432x288 with 1 Axes>"
      ]
     },
     "metadata": {
      "needs_background": "light"
     },
     "output_type": "display_data"
    }
   ],
   "source": [
    "feature_importance = grid_xgb.best_estimator_.feature_importances_\n",
    "feature_imp = pd.DataFrame(sorted(zip(feature_importance, features_train.columns)), columns=['Value','Feature'])\n",
    "sns.barplot(x=\"Value\", y=\"Feature\", data=feature_imp.sort_values(by=\"Value\", ascending=False))\n",
    "plt.title('Feature importance')\n",
    "plt.tight_layout()\n",
    "plt.show();"
   ]
  },
  {
   "cell_type": "code",
   "execution_count": 66,
   "metadata": {},
   "outputs": [],
   "source": [
    "def oneHotEncode(df):\n",
    "    # инициализируем кодировщик\n",
    "    ohe = OneHotEncoder()\n",
    "\n",
    "    # получаем список незакодированных признаков\n",
    "    non_encoded_columns = [col for col in df.columns if df[col].dtype == 'object']\n",
    "\n",
    "    # кодируем незакодированные признаки\n",
    "    encoded_columns = ohe.fit_transform(df[non_encoded_columns]).toarray()\n",
    "\n",
    "    # сохраняем имена кодированных признаков\n",
    "    encoded_columns_names = ohe.get_feature_names(non_encoded_columns)\n",
    "\n",
    "    # сохраняем имена исходных незакодированных признаков\n",
    "    non_encoded_columns_names = df[non_encoded_columns].columns.values\n",
    "\n",
    "    # удаляем незакодированные признаки\n",
    "    df.drop(non_encoded_columns, axis=1, inplace=True)\n",
    "\n",
    "    # добавляем кодированные признаки\n",
    "    for col, name in zip(encoded_columns.T, encoded_columns_names):\n",
    "        df[name] = col\n",
    "\n",
    "    return df\n"
   ]
  },
  {
   "cell_type": "code",
   "execution_count": 67,
   "metadata": {},
   "outputs": [],
   "source": [
    "features_train_ohe = oneHotEncode(features_train)"
   ]
  },
  {
   "cell_type": "code",
   "execution_count": 68,
   "metadata": {},
   "outputs": [],
   "source": [
    "#numeric = ['vehicletype','registrationyear','gearbox','power','model','kilometer','fueltype','brand','repaired']\n",
    "numeric = ['registrationyear','power','kilometer']\n",
    "scaler = StandardScaler()\n",
    "scaler.fit(features_train_ohe[numeric])\n",
    "features_train_ohe[numeric] = scaler.transform(features_train_ohe[numeric])\n",
    "#features_test[numeric] = scaler.transform(features_test[numeric])"
   ]
  },
  {
   "cell_type": "code",
   "execution_count": 69,
   "metadata": {},
   "outputs": [
    {
     "name": "stdout",
     "output_type": "stream",
     "text": [
      "CPU times: user 7.65 s, sys: 1.68 s, total: 9.33 s\n",
      "Wall time: 14.1 s\n"
     ]
    }
   ],
   "source": [
    "%%time\n",
    "start_time = time.time()\n",
    "reg = LinearRegression()\n",
    "parameters = {} #гриду для линейной регрессии не нужны доп параметры, \n",
    "#там всё \"зашито\" внутри по умолчанию, либо настраивать их вручну.\n",
    "grid_line = GridSearchCV(reg, param_grid = parameters, n_jobs = -1, scoring = rmse_scorer)\n",
    "model_line = grid_line.fit(features_train_ohe,target_train) #обучаем\n",
    "line_grid_time = time.time() - start_time"
   ]
  },
  {
   "cell_type": "code",
   "execution_count": 70,
   "metadata": {},
   "outputs": [
    {
     "name": "stdout",
     "output_type": "stream",
     "text": [
      "1174368246310.3025\n"
     ]
    }
   ],
   "source": [
    "print(model_line.best_score_*-1)"
   ]
  },
  {
   "cell_type": "markdown",
   "metadata": {},
   "source": [
    "результат получился весьма странный..."
   ]
  },
  {
   "cell_type": "markdown",
   "metadata": {},
   "source": [
    "попробуем теперь lightGBM"
   ]
  },
  {
   "cell_type": "code",
   "execution_count": 71,
   "metadata": {},
   "outputs": [],
   "source": [
    "param_grid = {\n",
    "    'num_leaves': [10, 20, 31, 40, 50],\n",
    "    'learning_rate': [0.01, 0.05, 0.1],\n",
    "    'n_estimators': [10, 20, 50]\n",
    "}"
   ]
  },
  {
   "cell_type": "code",
   "execution_count": 72,
   "metadata": {},
   "outputs": [],
   "source": [
    "model_lgbm = LGBMRegressor()"
   ]
  },
  {
   "cell_type": "code",
   "execution_count": 73,
   "metadata": {},
   "outputs": [
    {
     "name": "stdout",
     "output_type": "stream",
     "text": [
      "CPU times: user 7min 27s, sys: 1min 33s, total: 9min 1s\n",
      "Wall time: 1min 45s\n"
     ]
    }
   ],
   "source": [
    "%%time\n",
    "start_time = time.time()\n",
    "grid_lgb = GridSearchCV(estimator=model_lgbm, param_grid=param_grid, cv=5, scoring = rmse_scorer)\n",
    "grid_lgb.fit(features_train_oe, target_train)\n",
    "lgbm_grid_time = time.time() - start_time"
   ]
  },
  {
   "cell_type": "code",
   "execution_count": 74,
   "metadata": {},
   "outputs": [
    {
     "name": "stdout",
     "output_type": "stream",
     "text": [
      "1743.55496189464\n"
     ]
    }
   ],
   "source": [
    "print(grid_lgb.best_score_*-1)"
   ]
  },
  {
   "cell_type": "code",
   "execution_count": 75,
   "metadata": {
    "scrolled": true
   },
   "outputs": [
    {
     "name": "stdout",
     "output_type": "stream",
     "text": [
      "{'mean_fit_time': array([0.15903916, 0.20184565, 0.20514584, 0.26277251, 0.32957683,\n",
      "       0.23751922, 0.31539383, 0.37183485, 0.40902643, 0.49316587,\n",
      "       0.41132503, 0.68093209, 0.76210818, 0.86233258, 1.05951257,\n",
      "       0.14223409, 0.16056747, 0.22355223, 0.26832871, 0.27979212,\n",
      "       0.207234  , 0.27980404, 0.36918812, 0.40894885, 0.46157479,\n",
      "       0.37509122, 0.60529604, 0.7921978 , 0.90032835, 1.10791168,\n",
      "       0.1592257 , 0.19895539, 0.22110763, 0.24909191, 0.33178539,\n",
      "       0.21982365, 0.28488173, 0.37925243, 0.41051936, 0.5407485 ,\n",
      "       0.44601951, 0.55650959, 0.86111331, 0.81835923, 1.08460736]), 'std_fit_time': array([0.02113752, 0.02140784, 0.01458001, 0.01062018, 0.01541367,\n",
      "       0.01626782, 0.03357185, 0.02647657, 0.03026219, 0.03345334,\n",
      "       0.02703218, 0.16562311, 0.08909873, 0.03796243, 0.11773306,\n",
      "       0.00563706, 0.01573461, 0.01845971, 0.01938281, 0.00874415,\n",
      "       0.01370946, 0.0113854 , 0.06130173, 0.02776883, 0.04767994,\n",
      "       0.03417357, 0.06658461, 0.07133874, 0.04457821, 0.06926984,\n",
      "       0.01069984, 0.02020853, 0.00799867, 0.01527183, 0.05186722,\n",
      "       0.01430591, 0.01418966, 0.0276411 , 0.03348817, 0.04475308,\n",
      "       0.03724354, 0.03497345, 0.23692759, 0.05385489, 0.082083  ]), 'mean_score_time': array([0.00844917, 0.00883212, 0.00785756, 0.00863585, 0.00942283,\n",
      "       0.00994225, 0.00993896, 0.01074357, 0.0117476 , 0.01376696,\n",
      "       0.01483798, 0.02105303, 0.02525783, 0.02651892, 0.03178277,\n",
      "       0.00797935, 0.00870781, 0.00984879, 0.0105803 , 0.00953732,\n",
      "       0.00932522, 0.01228895, 0.01257195, 0.01415987, 0.01497421,\n",
      "       0.01892667, 0.02660499, 0.02906938, 0.03192472, 0.03574209,\n",
      "       0.00751715, 0.00816984, 0.00924826, 0.00932651, 0.01063952,\n",
      "       0.01003623, 0.01295514, 0.01409836, 0.01643586, 0.01637931,\n",
      "       0.02251258, 0.03077698, 0.03506675, 0.03888621, 0.04292226]), 'std_score_time': array([0.00120852, 0.00166781, 0.00038588, 0.00075599, 0.00094344,\n",
      "       0.00091306, 0.00062411, 0.00092159, 0.0006276 , 0.0030225 ,\n",
      "       0.00156961, 0.00127614, 0.00141092, 0.00141699, 0.00280525,\n",
      "       0.00072053, 0.00153802, 0.00063103, 0.00208203, 0.00054004,\n",
      "       0.00053933, 0.00113121, 0.00067177, 0.00073783, 0.00092011,\n",
      "       0.00092474, 0.00098381, 0.00121185, 0.00155791, 0.00226784,\n",
      "       0.00058593, 0.00074653, 0.00039812, 0.00071251, 0.00126405,\n",
      "       0.00061825, 0.00104077, 0.00078963, 0.00218916, 0.000671  ,\n",
      "       0.00110341, 0.00221575, 0.00168374, 0.00299523, 0.00673051]), 'param_learning_rate': masked_array(data=[0.01, 0.01, 0.01, 0.01, 0.01, 0.01, 0.01, 0.01, 0.01,\n",
      "                   0.01, 0.01, 0.01, 0.01, 0.01, 0.01, 0.05, 0.05, 0.05,\n",
      "                   0.05, 0.05, 0.05, 0.05, 0.05, 0.05, 0.05, 0.05, 0.05,\n",
      "                   0.05, 0.05, 0.05, 0.1, 0.1, 0.1, 0.1, 0.1, 0.1, 0.1,\n",
      "                   0.1, 0.1, 0.1, 0.1, 0.1, 0.1, 0.1, 0.1],\n",
      "             mask=[False, False, False, False, False, False, False, False,\n",
      "                   False, False, False, False, False, False, False, False,\n",
      "                   False, False, False, False, False, False, False, False,\n",
      "                   False, False, False, False, False, False, False, False,\n",
      "                   False, False, False, False, False, False, False, False,\n",
      "                   False, False, False, False, False],\n",
      "       fill_value='?',\n",
      "            dtype=object), 'param_n_estimators': masked_array(data=[10, 10, 10, 10, 10, 20, 20, 20, 20, 20, 50, 50, 50, 50,\n",
      "                   50, 10, 10, 10, 10, 10, 20, 20, 20, 20, 20, 50, 50, 50,\n",
      "                   50, 50, 10, 10, 10, 10, 10, 20, 20, 20, 20, 20, 50, 50,\n",
      "                   50, 50, 50],\n",
      "             mask=[False, False, False, False, False, False, False, False,\n",
      "                   False, False, False, False, False, False, False, False,\n",
      "                   False, False, False, False, False, False, False, False,\n",
      "                   False, False, False, False, False, False, False, False,\n",
      "                   False, False, False, False, False, False, False, False,\n",
      "                   False, False, False, False, False],\n",
      "       fill_value='?',\n",
      "            dtype=object), 'param_num_leaves': masked_array(data=[10, 20, 31, 40, 50, 10, 20, 31, 40, 50, 10, 20, 31, 40,\n",
      "                   50, 10, 20, 31, 40, 50, 10, 20, 31, 40, 50, 10, 20, 31,\n",
      "                   40, 50, 10, 20, 31, 40, 50, 10, 20, 31, 40, 50, 10, 20,\n",
      "                   31, 40, 50],\n",
      "             mask=[False, False, False, False, False, False, False, False,\n",
      "                   False, False, False, False, False, False, False, False,\n",
      "                   False, False, False, False, False, False, False, False,\n",
      "                   False, False, False, False, False, False, False, False,\n",
      "                   False, False, False, False, False, False, False, False,\n",
      "                   False, False, False, False, False],\n",
      "       fill_value='?',\n",
      "            dtype=object), 'params': [{'learning_rate': 0.01, 'n_estimators': 10, 'num_leaves': 10}, {'learning_rate': 0.01, 'n_estimators': 10, 'num_leaves': 20}, {'learning_rate': 0.01, 'n_estimators': 10, 'num_leaves': 31}, {'learning_rate': 0.01, 'n_estimators': 10, 'num_leaves': 40}, {'learning_rate': 0.01, 'n_estimators': 10, 'num_leaves': 50}, {'learning_rate': 0.01, 'n_estimators': 20, 'num_leaves': 10}, {'learning_rate': 0.01, 'n_estimators': 20, 'num_leaves': 20}, {'learning_rate': 0.01, 'n_estimators': 20, 'num_leaves': 31}, {'learning_rate': 0.01, 'n_estimators': 20, 'num_leaves': 40}, {'learning_rate': 0.01, 'n_estimators': 20, 'num_leaves': 50}, {'learning_rate': 0.01, 'n_estimators': 50, 'num_leaves': 10}, {'learning_rate': 0.01, 'n_estimators': 50, 'num_leaves': 20}, {'learning_rate': 0.01, 'n_estimators': 50, 'num_leaves': 31}, {'learning_rate': 0.01, 'n_estimators': 50, 'num_leaves': 40}, {'learning_rate': 0.01, 'n_estimators': 50, 'num_leaves': 50}, {'learning_rate': 0.05, 'n_estimators': 10, 'num_leaves': 10}, {'learning_rate': 0.05, 'n_estimators': 10, 'num_leaves': 20}, {'learning_rate': 0.05, 'n_estimators': 10, 'num_leaves': 31}, {'learning_rate': 0.05, 'n_estimators': 10, 'num_leaves': 40}, {'learning_rate': 0.05, 'n_estimators': 10, 'num_leaves': 50}, {'learning_rate': 0.05, 'n_estimators': 20, 'num_leaves': 10}, {'learning_rate': 0.05, 'n_estimators': 20, 'num_leaves': 20}, {'learning_rate': 0.05, 'n_estimators': 20, 'num_leaves': 31}, {'learning_rate': 0.05, 'n_estimators': 20, 'num_leaves': 40}, {'learning_rate': 0.05, 'n_estimators': 20, 'num_leaves': 50}, {'learning_rate': 0.05, 'n_estimators': 50, 'num_leaves': 10}, {'learning_rate': 0.05, 'n_estimators': 50, 'num_leaves': 20}, {'learning_rate': 0.05, 'n_estimators': 50, 'num_leaves': 31}, {'learning_rate': 0.05, 'n_estimators': 50, 'num_leaves': 40}, {'learning_rate': 0.05, 'n_estimators': 50, 'num_leaves': 50}, {'learning_rate': 0.1, 'n_estimators': 10, 'num_leaves': 10}, {'learning_rate': 0.1, 'n_estimators': 10, 'num_leaves': 20}, {'learning_rate': 0.1, 'n_estimators': 10, 'num_leaves': 31}, {'learning_rate': 0.1, 'n_estimators': 10, 'num_leaves': 40}, {'learning_rate': 0.1, 'n_estimators': 10, 'num_leaves': 50}, {'learning_rate': 0.1, 'n_estimators': 20, 'num_leaves': 10}, {'learning_rate': 0.1, 'n_estimators': 20, 'num_leaves': 20}, {'learning_rate': 0.1, 'n_estimators': 20, 'num_leaves': 31}, {'learning_rate': 0.1, 'n_estimators': 20, 'num_leaves': 40}, {'learning_rate': 0.1, 'n_estimators': 20, 'num_leaves': 50}, {'learning_rate': 0.1, 'n_estimators': 50, 'num_leaves': 10}, {'learning_rate': 0.1, 'n_estimators': 50, 'num_leaves': 20}, {'learning_rate': 0.1, 'n_estimators': 50, 'num_leaves': 31}, {'learning_rate': 0.1, 'n_estimators': 50, 'num_leaves': 40}, {'learning_rate': 0.1, 'n_estimators': 50, 'num_leaves': 50}], 'split0_test_score': array([-4298.90275919, -4277.76264607, -4268.650321  , -4264.80040241,\n",
      "       -4261.19158974, -4045.55742811, -4006.78787507, -3988.97433961,\n",
      "       -3981.08697583, -3973.90959044, -3450.04300026, -3367.56280313,\n",
      "       -3330.2201263 , -3312.56047326, -3299.30404231, -3433.44835229,\n",
      "       -3350.68714599, -3312.76528988, -3295.4934637 , -3280.33627194,\n",
      "       -2830.56106877, -2714.61583355, -2657.23298724, -2625.45898658,\n",
      "       -2599.83500848, -2207.74046116, -2078.07674133, -2014.41624514,\n",
      "       -1980.68174338, -1948.32867199, -2810.9075253 , -2695.54892318,\n",
      "       -2635.89177073, -2602.08801954, -2576.02248841, -2314.76080477,\n",
      "       -2186.39101242, -2118.02489193, -2079.46240191, -2048.32533299,\n",
      "       -1962.90459323, -1857.26385092, -1808.33171202, -1778.57544924,\n",
      "       -1756.1077536 ]), 'split1_test_score': array([-4297.45194141, -4275.99044646, -4266.53096769, -4262.69351949,\n",
      "       -4259.63659714, -4045.40027473, -4006.27229182, -3987.76184401,\n",
      "       -3980.03564088, -3973.7424663 , -3454.73308037, -3372.3437325 ,\n",
      "       -3334.34972927, -3316.76295859, -3303.42310417, -3437.62505583,\n",
      "       -3355.93723706, -3316.72095542, -3299.05637784, -3284.63754561,\n",
      "       -2839.0047582 , -2725.34939729, -2663.90161031, -2630.33213548,\n",
      "       -2606.15423886, -2210.88725186, -2086.30626408, -2019.11729082,\n",
      "       -1978.14724976, -1950.45309243, -2822.10206661, -2705.0580978 ,\n",
      "       -2640.33649043, -2610.77643562, -2586.06132101, -2323.58070632,\n",
      "       -2200.08698123, -2125.34785926, -2081.39068169, -2053.93182051,\n",
      "       -1961.74290862, -1858.38686494, -1806.73629598, -1776.11145805,\n",
      "       -1754.09529815]), 'split2_test_score': array([-4264.81762884, -4244.39165168, -4235.89357959, -4232.13751124,\n",
      "       -4228.53860282, -4012.35547355, -3975.72664307, -3958.54070357,\n",
      "       -3950.82594881, -3944.12302227, -3423.45822651, -3342.67417098,\n",
      "       -3305.74190234, -3288.58733092, -3274.70153072, -3407.95593277,\n",
      "       -3325.71643519, -3288.78585836, -3271.04878439, -3256.97881944,\n",
      "       -2808.78381961, -2694.54921621, -2636.13592747, -2603.38817533,\n",
      "       -2580.10260894, -2183.42799512, -2058.73590891, -1996.15517295,\n",
      "       -1960.96088591, -1934.17292177, -2793.14789323, -2672.63163132,\n",
      "       -2614.20061714, -2582.62762893, -2554.80232883, -2294.63635686,\n",
      "       -2164.44780669, -2095.98684618, -2062.60167126, -2033.12151738,\n",
      "       -1944.44469052, -1836.94404412, -1785.68674792, -1754.09483986,\n",
      "       -1736.32053612]), 'split3_test_score': array([-4251.56350249, -4230.80327869, -4221.39251685, -4217.54288323,\n",
      "       -4214.62936275, -4001.42560638, -3962.85055392, -3944.79569035,\n",
      "       -3936.8351184 , -3930.89778228, -3413.28924284, -3331.98297467,\n",
      "       -3295.60991533, -3277.9917762 , -3264.90891111, -3397.96202182,\n",
      "       -3316.09792963, -3276.96109082, -3258.78410555, -3248.79330014,\n",
      "       -2806.60937756, -2691.26982212, -2631.24878154, -2599.51127578,\n",
      "       -2578.23102265, -2197.59191588, -2070.10711159, -2002.96142177,\n",
      "       -1970.00946996, -1939.34376484, -2788.54493854, -2669.79380021,\n",
      "       -2609.09436418, -2580.18738472, -2555.78079154, -2304.5634102 ,\n",
      "       -2173.72232315, -2100.19609822, -2069.66396194, -2037.71406159,\n",
      "       -1953.83594823, -1846.21495024, -1795.33948446, -1770.06018274,\n",
      "       -1747.00816315]), 'split4_test_score': array([-4269.21227339, -4248.94054262, -4240.36439502, -4236.31016452,\n",
      "       -4232.72309185, -4017.99498289, -3979.68711141, -3962.27424014,\n",
      "       -3954.20289508, -3947.53321319, -3427.30929449, -3346.7797965 ,\n",
      "       -3310.80429377, -3292.53900983, -3278.61359957, -3411.78838223,\n",
      "       -3329.70600362, -3293.85873849, -3274.37056081, -3260.42527133,\n",
      "       -2815.88083873, -2699.33689517, -2639.85008129, -2608.54406756,\n",
      "       -2580.88240936, -2185.88151933, -2065.92581704, -1992.86822388,\n",
      "       -1958.24133167, -1927.19498357, -2794.68674698, -2682.08304116,\n",
      "       -2619.46554133, -2584.34625359, -2559.6870179 , -2299.64191085,\n",
      "       -2167.69046907, -2100.60647128, -2060.9076929 , -2029.22675259,\n",
      "       -1935.15048522, -1830.05844404, -1777.18839496, -1750.6069793 ,\n",
      "       -1724.24305846]), 'mean_test_score': array([-4276.38962106, -4255.57771311, -4246.56635603, -4242.69689618,\n",
      "       -4239.34384886, -4024.54675313, -3986.26489506, -3968.46936354,\n",
      "       -3960.5973158 , -3954.04121489, -3433.76656889, -3352.26869555,\n",
      "       -3315.3451934 , -3297.68830976, -3284.19023757, -3417.75594899,\n",
      "       -3335.6289503 , -3297.8183866 , -3279.75065846, -3266.23424169,\n",
      "       -2820.16797258, -2705.02423287, -2645.67387757, -2613.44692815,\n",
      "       -2589.04105766, -2197.10582867, -2071.83036859, -2005.10367091,\n",
      "       -1969.60813614, -1939.89868692, -2801.87783413, -2685.02309873,\n",
      "       -2623.79775676, -2592.00514448, -2566.47078954, -2307.4366378 ,\n",
      "       -2178.46771851, -2108.03243337, -2070.80528194, -2040.46389701,\n",
      "       -1951.61572517, -1845.77363085, -1794.65652707, -1765.88978184,\n",
      "       -1743.55496189]), 'std_test_score': array([18.72017208, 18.39458364, 18.28869533, 18.29450874, 18.22368241,\n",
      "       17.90228055, 17.45876283, 17.26299216, 17.3129137 , 17.08352866,\n",
      "       15.9486427 , 15.30104716, 14.72929178, 14.71271569, 14.7731801 ,\n",
      "       15.26096099, 15.19194385, 14.91984713, 15.26310009, 13.86464765,\n",
      "       12.60678306, 12.93341959, 12.63990307, 12.2377999 , 11.59902245,\n",
      "       11.1025003 ,  9.56939853, 10.17326489,  8.94071013,  8.68258634,\n",
      "       12.61938675, 13.46341788, 12.22176598, 12.16783953, 12.42153344,\n",
      "       10.46073389, 13.15596379, 11.50062984,  8.40904896,  9.28367047,\n",
      "       10.55893595, 11.10173223, 11.99158462, 11.44976659, 11.88177089]), 'rank_test_score': array([45, 44, 43, 42, 41, 40, 39, 38, 37, 36, 35, 33, 31, 29, 28, 34, 32,\n",
      "       30, 27, 26, 25, 23, 21, 19, 17, 14, 11,  8,  7,  5, 24, 22, 20, 18,\n",
      "       16, 15, 13, 12, 10,  9,  6,  4,  3,  2,  1], dtype=int32)}\n"
     ]
    }
   ],
   "source": [
    "print(grid_lgb.cv_results_)"
   ]
  },
  {
   "cell_type": "code",
   "execution_count": 76,
   "metadata": {},
   "outputs": [],
   "source": [
    "importances = grid_lgb.best_estimator_.feature_importances_"
   ]
  },
  {
   "cell_type": "code",
   "execution_count": 77,
   "metadata": {},
   "outputs": [
    {
     "name": "stdout",
     "output_type": "stream",
     "text": [
      "Feature 0: 284\n",
      "Feature 1: 446\n",
      "Feature 2: 61\n",
      "Feature 3: 524\n",
      "Feature 4: 273\n",
      "Feature 5: 215\n",
      "Feature 6: 68\n",
      "Feature 7: 459\n",
      "Feature 8: 120\n"
     ]
    }
   ],
   "source": [
    "for i, feature in enumerate(features):\n",
    "    print(f'{feature}: {importances[i]}')"
   ]
  },
  {
   "cell_type": "code",
   "execution_count": 78,
   "metadata": {},
   "outputs": [
    {
     "data": {
      "image/png": "[encoded data removed]",
      "text/plain": [
       "<Figure size 432x288 with 1 Axes>"
      ]
     },
     "metadata": {
      "needs_background": "light"
     },
     "output_type": "display_data"
    }
   ],
   "source": [
    "feature_importance = grid_lgb.best_estimator_.feature_importances_\n",
    "feature_imp = pd.DataFrame(sorted(zip(feature_importance, features_train.columns)), columns=['Value','Feature'])\n",
    "sns.barplot(x=\"Value\", y=\"Feature\", data=feature_imp.sort_values(by=\"Value\", ascending=False))\n",
    "plt.title('Feature importance')\n",
    "plt.tight_layout()\n",
    "plt.show();"
   ]
  },
  {
   "cell_type": "markdown",
   "metadata": {},
   "source": [
    "## Анализ моделей"
   ]
  },
  {
   "cell_type": "markdown",
   "metadata": {},
   "source": [
    "Все 3 варианта показали результат значительно лучше, чем было требование в 2500, но всё-таки для тестовой модели больше всего вызывает доверие грид + котбуст, поэтому испытаем финальную модель на нём"
   ]
  },
  {
   "cell_type": "code",
   "execution_count": 79,
   "metadata": {
    "scrolled": false
   },
   "outputs": [
    {
     "name": "stdout",
     "output_type": "stream",
     "text": [
      "1562.0728155960333\n"
     ]
    }
   ],
   "source": [
    "final_test = catboost_grid.predict(features_test)\n",
    "print(rmse(target_test, final_test))"
   ]
  },
  {
   "cell_type": "markdown",
   "metadata": {},
   "source": [
    "сравним затраченное время моделями на обучение"
   ]
  },
  {
   "cell_type": "code",
   "execution_count": 81,
   "metadata": {
    "scrolled": true
   },
   "outputs": [
    {
     "name": "stdout",
     "output_type": "stream",
     "text": [
      "линейна регресси 14.118206977844238\n",
      "Catboost без грида 44.77116012573242\n",
      "Catboost с гридом 243.47290992736816\n",
      "XBB c гридом 15.998924970626831\n",
      "LGBM с гридом 105.5834538936615\n"
     ]
    }
   ],
   "source": [
    "print('линейна регресси', line_grid_time)\n",
    "print ('Catboost без грида', cat_time )\n",
    "print ('Catboost с гридом', cat_grid_time )\n",
    "print ('XBB c гридом', xgb_grid_time )\n",
    "print ('LGBM с гридом', lgbm_grid_time)"
   ]
  },
  {
   "cell_type": "markdown",
   "metadata": {},
   "source": [
    "Выводы:\n",
    "\n",
    "очень грязные данные, требуется много проработать и с менеджером и с разработчиком, либо по рукам тому, что их так испортил =) /\n",
    "В результате анализа данных были получены следующие выводы:\n",
    "\n",
    "между некоторыми признаками есть корреляция, но она слабая/\n",
    "часть столбцов были удалены, так как сильного эффекта для обучения они нам не давали, либо дублировали информацию/\n",
    "Библиотека lightGBM с маком работает не очень корректно, совсем плохо.../\n",
    "\n",
    "Библиотека catboost без грида с минимальным количеством гиперпараметров работает терпимо по скорости, инструменты с гридом за счёт кросс валидации считаются значительно дольше.\n",
    "\n",
    "Требуемый порог в метрике 2500 прошли все модели\n",
    "\n",
    "Для контрольного тестирования была выбрана модель гридсерч + кетбуст, результат 1562, что значительно лучше требуемого\n",
    "\n",
    "\n"
   ]
  },
  {
   "cell_type": "code",
   "execution_count": null,
   "metadata": {},
   "outputs": [],
   "source": []
  }
 ],
 "metadata": {
  "ExecuteTimeLog": [
   {
    "duration": 2241,
    "start_time": "2023-02-18T06:11:21.397Z"
   },
   {
    "duration": 2042,
    "start_time": "2023-02-18T06:11:23.641Z"
   },
   {
    "duration": 3838,
    "start_time": "2023-02-18T06:11:29.175Z"
   },
   {
    "duration": 47,
    "start_time": "2023-02-18T06:11:41.798Z"
   },
   {
    "duration": 5,
    "start_time": "2023-02-18T06:11:46.356Z"
   },
   {
    "duration": 3,
    "start_time": "2023-02-18T06:12:01.175Z"
   },
   {
    "duration": 389,
    "start_time": "2023-02-18T06:12:04.052Z"
   },
   {
    "duration": 391,
    "start_time": "2023-02-18T06:12:08.690Z"
   },
   {
    "duration": 3,
    "start_time": "2023-02-18T06:12:10.403Z"
   },
   {
    "duration": 383,
    "start_time": "2023-02-18T06:12:13.878Z"
   },
   {
    "duration": 5,
    "start_time": "2023-02-18T06:12:19.897Z"
   },
   {
    "duration": 68,
    "start_time": "2023-02-19T19:38:10.461Z"
   },
   {
    "duration": 9,
    "start_time": "2023-02-19T19:38:53.611Z"
   },
   {
    "duration": 4,
    "start_time": "2023-02-19T19:39:16.880Z"
   },
   {
    "duration": 7,
    "start_time": "2023-02-19T19:39:16.886Z"
   },
   {
    "duration": 14,
    "start_time": "2023-02-19T19:39:16.896Z"
   },
   {
    "duration": 8,
    "start_time": "2023-02-19T19:39:16.912Z"
   },
   {
    "duration": 7,
    "start_time": "2023-02-19T19:39:16.922Z"
   },
   {
    "duration": 4,
    "start_time": "2023-02-19T19:39:16.931Z"
   },
   {
    "duration": 2005,
    "start_time": "2023-02-19T19:39:16.937Z"
   },
   {
    "duration": 1233,
    "start_time": "2023-02-19T19:39:18.943Z"
   },
   {
    "duration": 134,
    "start_time": "2023-02-19T19:39:20.179Z"
   },
   {
    "duration": 18,
    "start_time": "2023-02-19T19:39:20.316Z"
   },
   {
    "duration": 4,
    "start_time": "2023-02-19T19:39:20.337Z"
   },
   {
    "duration": 538,
    "start_time": "2023-02-19T19:39:20.342Z"
   },
   {
    "duration": 630,
    "start_time": "2023-02-19T19:39:20.882Z"
   },
   {
    "duration": 502,
    "start_time": "2023-02-19T19:39:21.515Z"
   },
   {
    "duration": 23,
    "start_time": "2023-02-19T19:39:22.019Z"
   },
   {
    "duration": 114,
    "start_time": "2023-02-19T19:39:22.044Z"
   },
   {
    "duration": 38,
    "start_time": "2023-02-19T19:39:22.160Z"
   },
   {
    "duration": 15,
    "start_time": "2023-02-19T19:39:22.200Z"
   },
   {
    "duration": 70,
    "start_time": "2023-02-19T19:39:22.217Z"
   },
   {
    "duration": 48,
    "start_time": "2023-02-19T19:39:22.301Z"
   },
   {
    "duration": 63,
    "start_time": "2023-02-19T19:39:22.351Z"
   },
   {
    "duration": 44,
    "start_time": "2023-02-19T19:39:22.416Z"
   },
   {
    "duration": 60,
    "start_time": "2023-02-19T19:39:22.462Z"
   },
   {
    "duration": 48,
    "start_time": "2023-02-19T19:39:22.524Z"
   },
   {
    "duration": 163,
    "start_time": "2023-02-19T19:39:22.573Z"
   },
   {
    "duration": 77,
    "start_time": "2023-02-19T19:39:22.737Z"
   },
   {
    "duration": 155,
    "start_time": "2023-02-19T19:39:22.816Z"
   },
   {
    "duration": 490,
    "start_time": "2023-02-19T19:39:22.976Z"
   },
   {
    "duration": 18,
    "start_time": "2023-02-19T19:39:23.468Z"
   },
   {
    "duration": 27,
    "start_time": "2023-02-19T19:39:23.488Z"
   },
   {
    "duration": 33,
    "start_time": "2023-02-19T19:39:23.516Z"
   },
   {
    "duration": 143,
    "start_time": "2023-02-19T19:39:23.551Z"
   },
   {
    "duration": 36,
    "start_time": "2023-02-19T19:39:23.698Z"
   },
   {
    "duration": 145,
    "start_time": "2023-02-19T19:39:23.735Z"
   },
   {
    "duration": 68,
    "start_time": "2023-02-19T19:39:23.881Z"
   },
   {
    "duration": 99,
    "start_time": "2023-02-19T19:39:23.951Z"
   },
   {
    "duration": 4451,
    "start_time": "2023-02-19T19:39:24.052Z"
   },
   {
    "duration": 140,
    "start_time": "2023-02-19T19:39:28.514Z"
   },
   {
    "duration": 19,
    "start_time": "2023-02-19T19:39:28.656Z"
   },
   {
    "duration": 46,
    "start_time": "2023-02-19T19:39:28.676Z"
   },
   {
    "duration": 56,
    "start_time": "2023-02-19T19:39:28.724Z"
   },
   {
    "duration": 131,
    "start_time": "2023-02-19T19:39:28.782Z"
   },
   {
    "duration": 170,
    "start_time": "2023-02-19T19:39:28.914Z"
   },
   {
    "duration": 38,
    "start_time": "2023-02-19T19:39:29.086Z"
   },
   {
    "duration": 25,
    "start_time": "2023-02-19T19:39:29.125Z"
   },
   {
    "duration": 72,
    "start_time": "2023-02-19T19:39:29.151Z"
   },
   {
    "duration": 15,
    "start_time": "2023-02-19T19:39:29.225Z"
   },
   {
    "duration": 89,
    "start_time": "2023-02-19T19:39:29.241Z"
   },
   {
    "duration": 12,
    "start_time": "2023-02-19T19:39:29.331Z"
   },
   {
    "duration": 12,
    "start_time": "2023-02-19T19:39:29.344Z"
   },
   {
    "duration": 281463,
    "start_time": "2023-02-19T19:39:29.357Z"
   },
   {
    "duration": 3,
    "start_time": "2023-02-19T19:44:10.822Z"
   },
   {
    "duration": 8,
    "start_time": "2023-02-19T19:44:10.827Z"
   },
   {
    "duration": 152,
    "start_time": "2023-02-19T19:44:10.836Z"
   },
   {
    "duration": 321,
    "start_time": "2023-02-19T19:44:10.990Z"
   },
   {
    "duration": 3,
    "start_time": "2023-02-19T19:44:11.313Z"
   },
   {
    "duration": 13,
    "start_time": "2023-02-19T19:44:11.318Z"
   },
   {
    "duration": 1928874,
    "start_time": "2023-02-19T19:44:11.332Z"
   },
   {
    "duration": 7,
    "start_time": "2023-02-19T20:16:20.208Z"
   },
   {
    "duration": 27,
    "start_time": "2023-02-19T20:16:20.218Z"
   },
   {
    "duration": 14,
    "start_time": "2023-02-19T20:16:20.247Z"
   },
   {
    "duration": 9,
    "start_time": "2023-02-19T20:16:20.263Z"
   },
   {
    "duration": 481,
    "start_time": "2023-02-19T20:16:20.275Z"
   },
   {
    "duration": 19,
    "start_time": "2023-02-19T20:16:20.758Z"
   },
   {
    "duration": 9,
    "start_time": "2023-02-19T20:16:20.779Z"
   },
   {
    "duration": 10,
    "start_time": "2023-02-19T20:16:20.789Z"
   },
   {
    "duration": 303047,
    "start_time": "2023-02-19T20:16:20.800Z"
   },
   {
    "duration": 51,
    "start_time": "2023-02-19T20:21:23.849Z"
   },
   {
    "duration": 6,
    "start_time": "2023-02-19T20:21:23.902Z"
   },
   {
    "duration": 17,
    "start_time": "2023-02-19T20:21:23.910Z"
   },
   {
    "duration": 11,
    "start_time": "2023-02-19T20:21:23.929Z"
   },
   {
    "duration": 12,
    "start_time": "2023-02-19T20:21:23.942Z"
   },
   {
    "duration": 5871,
    "start_time": "2023-02-19T20:21:23.956Z"
   },
   {
    "duration": 837,
    "start_time": "2023-02-19T20:21:29.829Z"
   },
   {
    "duration": 152138,
    "start_time": "2023-02-19T20:21:30.668Z"
   },
   {
    "duration": 4,
    "start_time": "2023-02-19T20:24:02.808Z"
   },
   {
    "duration": 8,
    "start_time": "2023-02-19T20:24:02.814Z"
   },
   {
    "duration": 13,
    "start_time": "2023-02-19T20:24:02.824Z"
   }
  ],
  "kernelspec": {
   "display_name": "Python 3 (ipykernel)",
   "language": "python",
   "name": "python3"
  },
  "language_info": {
   "codemirror_mode": {
    "name": "ipython",
    "version": 3
   },
   "file_extension": ".py",
   "mimetype": "text/x-python",
   "name": "python",
   "nbconvert_exporter": "python",
   "pygments_lexer": "ipython3",
   "version": "3.9.12"
  },
  "toc": {
   "base_numbering": 1,
   "nav_menu": {},
   "number_sections": true,
   "sideBar": true,
   "skip_h1_title": true,
   "title_cell": "Table of Contents",
   "title_sidebar": "Contents",
   "toc_cell": false,
   "toc_position": {},
   "toc_section_display": true,
   "toc_window_display": false
  }
 },
 "nbformat": 4,
 "nbformat_minor": 2
}
